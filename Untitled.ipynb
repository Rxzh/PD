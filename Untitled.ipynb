{
 "cells": [
  {
   "cell_type": "code",
   "execution_count": 23,
   "id": "b63fa07d",
   "metadata": {},
   "outputs": [],
   "source": [
    "import pandas as pd\n",
    "import matplotlib.pyplot as plt \n",
    "\n",
    "import numpy as np\n",
    "import scipy as sp\n",
    "import scipy.interpolate\n",
    "\n",
    "from numba import jit"
   ]
  },
  {
   "cell_type": "code",
   "execution_count": 48,
   "id": "0017d1c2",
   "metadata": {},
   "outputs": [],
   "source": [
    "def delta_day(date1,date2):\n",
    "    return (date2-date1) / np.timedelta64(1,'D')\n",
    "\n",
    "def log_interp1d(xx, yy, kind='linear'):\n",
    "    logx = np.log10(xx)\n",
    "    logy = np.log10(yy)\n",
    "    lin_interp = sp.interpolate.interp1d(logx, logy, kind=kind)\n",
    "    log_interp = lambda zz: np.power(10.0, lin_interp(np.log10(zz)))\n",
    "    return log_interp"
   ]
  },
  {
   "cell_type": "code",
   "execution_count": null,
   "id": "cda8f420",
   "metadata": {},
   "outputs": [],
   "source": []
  },
  {
   "cell_type": "code",
   "execution_count": 62,
   "id": "86a3ccae",
   "metadata": {},
   "outputs": [],
   "source": [
    "data = pd.read_excel('Bloom_EUR_OIS.xlsx')"
   ]
  },
  {
   "cell_type": "code",
   "execution_count": 63,
   "id": "854467e3",
   "metadata": {},
   "outputs": [
    {
     "data": {
      "text/html": [
       "<div>\n",
       "<style scoped>\n",
       "    .dataframe tbody tr th:only-of-type {\n",
       "        vertical-align: middle;\n",
       "    }\n",
       "\n",
       "    .dataframe tbody tr th {\n",
       "        vertical-align: top;\n",
       "    }\n",
       "\n",
       "    .dataframe thead th {\n",
       "        text-align: right;\n",
       "    }\n",
       "</style>\n",
       "<table border=\"1\" class=\"dataframe\">\n",
       "  <thead>\n",
       "    <tr style=\"text-align: right;\">\n",
       "      <th></th>\n",
       "      <th>Payment Date</th>\n",
       "      <th>Maturity Date</th>\n",
       "      <th>Market Rate</th>\n",
       "      <th>Shift (bp)</th>\n",
       "      <th>Shifted Rate</th>\n",
       "      <th>Zero Rate</th>\n",
       "      <th>Discount</th>\n",
       "      <th>Source</th>\n",
       "    </tr>\n",
       "  </thead>\n",
       "  <tbody>\n",
       "    <tr>\n",
       "      <th>0</th>\n",
       "      <td>01/06/2021</td>\n",
       "      <td>01/06/2021</td>\n",
       "      <td>-0.4980</td>\n",
       "      <td>0</td>\n",
       "      <td>-0.4980</td>\n",
       "      <td>-0.504920</td>\n",
       "      <td>1.000014</td>\n",
       "      <td>CASH</td>\n",
       "    </tr>\n",
       "    <tr>\n",
       "      <th>1</th>\n",
       "      <td>01/12/2021</td>\n",
       "      <td>01/12/2021</td>\n",
       "      <td>-0.4700</td>\n",
       "      <td>0</td>\n",
       "      <td>-0.4700</td>\n",
       "      <td>-0.476550</td>\n",
       "      <td>1.000091</td>\n",
       "      <td>DETAILED_SWAP</td>\n",
       "    </tr>\n",
       "    <tr>\n",
       "      <th>2</th>\n",
       "      <td>01/19/2021</td>\n",
       "      <td>01/19/2021</td>\n",
       "      <td>-0.4700</td>\n",
       "      <td>0</td>\n",
       "      <td>-0.4700</td>\n",
       "      <td>-0.476572</td>\n",
       "      <td>1.000183</td>\n",
       "      <td>DETAILED_SWAP</td>\n",
       "    </tr>\n",
       "    <tr>\n",
       "      <th>3</th>\n",
       "      <td>02/05/2021</td>\n",
       "      <td>02/05/2021</td>\n",
       "      <td>-0.4719</td>\n",
       "      <td>0</td>\n",
       "      <td>-0.4719</td>\n",
       "      <td>-0.478551</td>\n",
       "      <td>1.000407</td>\n",
       "      <td>DETAILED_SWAP</td>\n",
       "    </tr>\n",
       "    <tr>\n",
       "      <th>4</th>\n",
       "      <td>03/05/2021</td>\n",
       "      <td>03/05/2021</td>\n",
       "      <td>-0.4750</td>\n",
       "      <td>0</td>\n",
       "      <td>-0.4750</td>\n",
       "      <td>-0.481785</td>\n",
       "      <td>1.000779</td>\n",
       "      <td>DETAILED_SWAP</td>\n",
       "    </tr>\n",
       "  </tbody>\n",
       "</table>\n",
       "</div>"
      ],
      "text/plain": [
       "  Payment Date Maturity Date  Market Rate  Shift (bp)  Shifted Rate  \\\n",
       "0   01/06/2021    01/06/2021      -0.4980           0       -0.4980   \n",
       "1   01/12/2021    01/12/2021      -0.4700           0       -0.4700   \n",
       "2   01/19/2021    01/19/2021      -0.4700           0       -0.4700   \n",
       "3   02/05/2021    02/05/2021      -0.4719           0       -0.4719   \n",
       "4   03/05/2021    03/05/2021      -0.4750           0       -0.4750   \n",
       "\n",
       "   Zero Rate  Discount         Source  \n",
       "0  -0.504920  1.000014           CASH  \n",
       "1  -0.476550  1.000091  DETAILED_SWAP  \n",
       "2  -0.476572  1.000183  DETAILED_SWAP  \n",
       "3  -0.478551  1.000407  DETAILED_SWAP  \n",
       "4  -0.481785  1.000779  DETAILED_SWAP  "
      ]
     },
     "execution_count": 63,
     "metadata": {},
     "output_type": "execute_result"
    }
   ],
   "source": [
    "data.head()"
   ]
  },
  {
   "cell_type": "code",
   "execution_count": 76,
   "id": "65b042fb",
   "metadata": {},
   "outputs": [],
   "source": [
    "class Stripper():\n",
    "    def __init__(self, data,start='2021-01-06',end='2071-01-05', freq = 3): #yyyy-mm-dd\n",
    "        self.data = data\n",
    "        self.start = np.datetime64(start)\n",
    "        self.end = np.datetime64(end)\n",
    "        \n",
    "        self.total_dates = [self.start]\n",
    "        \n",
    "        while self.total_dates[-1] != self.end:\n",
    "            self.total_dates.append(self.total_dates[-1] + np.timedelta64(1, 'D'))\n",
    "            \n",
    "        self.total_steps = [delta_day(self.start, day) for day in self.total_dates]\n",
    "        ## Interpolation\n",
    "        \n",
    "        data_t  = [delta_day(np.datetime64(date),self.start) for date in pd.to_datetime(data['Payment Date'])]\n",
    "        data_df = data['Discount']\n",
    "        \n",
    "        self.total_df = np.vectorize(log_interp1d(data_t, data_df))(self.total_steps)\n",
    "    \n",
    "    \n",
    "    \n",
    "    "
   ]
  },
  {
   "cell_type": "code",
   "execution_count": null,
   "id": "516bc6c2",
   "metadata": {},
   "outputs": [],
   "source": []
  },
  {
   "cell_type": "code",
   "execution_count": 77,
   "id": "c3a27a64",
   "metadata": {},
   "outputs": [
    {
     "name": "stderr",
     "output_type": "stream",
     "text": [
      "<ipython-input-48-b9a642589c6c>:5: RuntimeWarning: divide by zero encountered in log10\n",
      "  logx = np.log10(xx)\n",
      "<ipython-input-48-b9a642589c6c>:5: RuntimeWarning: invalid value encountered in log10\n",
      "  logx = np.log10(xx)\n",
      "<ipython-input-48-b9a642589c6c>:8: RuntimeWarning: divide by zero encountered in log10\n",
      "  log_interp = lambda zz: np.power(10.0, lin_interp(np.log10(zz)))\n"
     ]
    }
   ],
   "source": [
    "stripper = Stripper(data)"
   ]
  },
  {
   "cell_type": "code",
   "execution_count": 78,
   "id": "89aa0f61",
   "metadata": {},
   "outputs": [
    {
     "data": {
      "text/plain": [
       "array([nan, nan, nan, ..., nan, nan, nan])"
      ]
     },
     "execution_count": 78,
     "metadata": {},
     "output_type": "execute_result"
    }
   ],
   "source": [
    "stripper.total_df"
   ]
  },
  {
   "cell_type": "code",
   "execution_count": null,
   "id": "e55e8396",
   "metadata": {},
   "outputs": [],
   "source": []
  }
 ],
 "metadata": {
  "kernelspec": {
   "display_name": "Python 3",
   "language": "python",
   "name": "python3"
  },
  "language_info": {
   "codemirror_mode": {
    "name": "ipython",
    "version": 3
   },
   "file_extension": ".py",
   "mimetype": "text/x-python",
   "name": "python",
   "nbconvert_exporter": "python",
   "pygments_lexer": "ipython3",
   "version": "3.9.1"
  }
 },
 "nbformat": 4,
 "nbformat_minor": 5
}
