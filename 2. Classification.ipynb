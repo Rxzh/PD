{
 "cells": [
  {
   "cell_type": "markdown",
   "id": "41ac5a29",
   "metadata": {},
   "source": [
    "# Classification des probabilités de défaut "
   ]
  },
  {
   "cell_type": "markdown",
   "id": "c5c3796b",
   "metadata": {},
   "source": [
    "Deuxième notebook : afin d'améliorer les résultats des algos, on ne cherche plus à prédire la probabilité de défaut, mais l'on définit des classes de probabilités de défaut que l'on cherche à prédire. On parle ici de **classification**, car l'on cherche à prédire une classe."
   ]
  },
  {
   "cell_type": "markdown",
   "id": "8291b211",
   "metadata": {},
   "source": [
    "# 1. Préparation des données"
   ]
  },
  {
   "cell_type": "markdown",
   "id": "af249ff3",
   "metadata": {},
   "source": [
    "*Chargement des modules*"
   ]
  },
  {
   "cell_type": "code",
   "execution_count": 3,
   "id": "0f02fe34",
   "metadata": {},
   "outputs": [],
   "source": [
    "import pandas as pd \n",
    "import matplotlib.pyplot as plt\n",
    "import numpy as np\n",
    "from numpy.random import randn\n",
    "import tensorflow as tf\n",
    "\n",
    "from tensorflow.keras import Input\n",
    "from tensorflow.keras.models import Sequential\n",
    "from tensorflow.keras.layers import Dense, Dropout, Conv1D, Conv2D\n",
    "from tensorflow.keras.optimizers import SGD,Adam,Nadam,Adadelta\n",
    "from tensorflow import keras\n",
    "\n",
    "from sklearn import preprocessing, model_selection\n",
    "from sklearn.preprocessing import KBinsDiscretizer\n",
    "from sklearn.metrics import confusion_matrix, ConfusionMatrixDisplay"
   ]
  },
  {
   "cell_type": "markdown",
   "id": "68fb2b8a",
   "metadata": {},
   "source": [
    "## a. Chargement du dataset"
   ]
  },
  {
   "cell_type": "markdown",
   "id": "478a686c",
   "metadata": {},
   "source": [
    "*Traitement des données identiques au notebook 1*"
   ]
  },
  {
   "cell_type": "code",
   "execution_count": 4,
   "id": "d0f22bae",
   "metadata": {},
   "outputs": [
    {
     "data": {
      "text/plain": [
       "(48836, 24)"
      ]
     },
     "execution_count": 4,
     "metadata": {},
     "output_type": "execute_result"
    }
   ],
   "source": [
    "df = pd.read_csv('market_data_pd.csv',sep=',')\n",
    "df.shape"
   ]
  },
  {
   "cell_type": "code",
   "execution_count": 5,
   "id": "5f63f04a",
   "metadata": {},
   "outputs": [
    {
     "data": {
      "text/html": [
       "<div>\n",
       "<style scoped>\n",
       "    .dataframe tbody tr th:only-of-type {\n",
       "        vertical-align: middle;\n",
       "    }\n",
       "\n",
       "    .dataframe tbody tr th {\n",
       "        vertical-align: top;\n",
       "    }\n",
       "\n",
       "    .dataframe thead th {\n",
       "        text-align: right;\n",
       "    }\n",
       "</style>\n",
       "<table border=\"1\" class=\"dataframe\">\n",
       "  <thead>\n",
       "    <tr style=\"text-align: right;\">\n",
       "      <th></th>\n",
       "      <th>Unnamed: 0</th>\n",
       "      <th>Reference Security</th>\n",
       "      <th>Bid Price</th>\n",
       "      <th>Ask Price</th>\n",
       "      <th>Mid Price</th>\n",
       "      <th>Cpn</th>\n",
       "      <th>Maturity</th>\n",
       "      <th>Common Eqty / Tot Assets</th>\n",
       "      <th>Debt / Common Equity</th>\n",
       "      <th>TCE Ratio</th>\n",
       "      <th>...</th>\n",
       "      <th>Amt Out</th>\n",
       "      <th>Total Assets</th>\n",
       "      <th>BCLASS Level 3</th>\n",
       "      <th>Guarantee Type</th>\n",
       "      <th>Guarantor Type</th>\n",
       "      <th>Collat Type</th>\n",
       "      <th>PD_1y</th>\n",
       "      <th>reprice</th>\n",
       "      <th>maturity_years</th>\n",
       "      <th>Error %</th>\n",
       "    </tr>\n",
       "  </thead>\n",
       "  <tbody>\n",
       "    <tr>\n",
       "      <th>5909</th>\n",
       "      <td>5909</td>\n",
       "      <td>ZS424035 Corp</td>\n",
       "      <td>0.010</td>\n",
       "      <td>0.750</td>\n",
       "      <td>0.3800</td>\n",
       "      <td>1.5000</td>\n",
       "      <td>04/26/2024</td>\n",
       "      <td>-147.17300</td>\n",
       "      <td>NaN</td>\n",
       "      <td>-149.82800</td>\n",
       "      <td>...</td>\n",
       "      <td>1.186770e+09</td>\n",
       "      <td>3359.72</td>\n",
       "      <td>Other Industrial</td>\n",
       "      <td>Multiple</td>\n",
       "      <td>Subsidiaries</td>\n",
       "      <td>SR SECURED</td>\n",
       "      <td>1.0</td>\n",
       "      <td>40.007513</td>\n",
       "      <td>2.709589</td>\n",
       "      <td>10428.292944</td>\n",
       "    </tr>\n",
       "    <tr>\n",
       "      <th>1456</th>\n",
       "      <td>1456</td>\n",
       "      <td>AN346569 Corp</td>\n",
       "      <td>0.125</td>\n",
       "      <td>0.700</td>\n",
       "      <td>0.4125</td>\n",
       "      <td>3.8750</td>\n",
       "      <td>10/25/2022</td>\n",
       "      <td>12.72580</td>\n",
       "      <td>177.366</td>\n",
       "      <td>-23.21850</td>\n",
       "      <td>...</td>\n",
       "      <td>4.000000e+08</td>\n",
       "      <td>1808.09</td>\n",
       "      <td>Electric</td>\n",
       "      <td>Multiple</td>\n",
       "      <td>Parent &amp; Subsidiaries</td>\n",
       "      <td>SR SECURED</td>\n",
       "      <td>1.0</td>\n",
       "      <td>40.007513</td>\n",
       "      <td>1.205479</td>\n",
       "      <td>9598.791076</td>\n",
       "    </tr>\n",
       "    <tr>\n",
       "      <th>827</th>\n",
       "      <td>827</td>\n",
       "      <td>AL458635 Corp</td>\n",
       "      <td>0.250</td>\n",
       "      <td>1.750</td>\n",
       "      <td>1.0000</td>\n",
       "      <td>6.2500</td>\n",
       "      <td>06/15/2022</td>\n",
       "      <td>NaN</td>\n",
       "      <td>NaN</td>\n",
       "      <td>NaN</td>\n",
       "      <td>...</td>\n",
       "      <td>7.500000e+08</td>\n",
       "      <td>NaN</td>\n",
       "      <td>Consumer Cyclical</td>\n",
       "      <td>N.A.</td>\n",
       "      <td>N.A.</td>\n",
       "      <td>SR UNSECURED</td>\n",
       "      <td>1.0</td>\n",
       "      <td>42.507983</td>\n",
       "      <td>0.843836</td>\n",
       "      <td>4150.798276</td>\n",
       "    </tr>\n",
       "    <tr>\n",
       "      <th>44900</th>\n",
       "      <td>44900</td>\n",
       "      <td>QJ879163 Corp</td>\n",
       "      <td>0.407</td>\n",
       "      <td>1.481</td>\n",
       "      <td>0.9440</td>\n",
       "      <td>9.8776</td>\n",
       "      <td>12/01/2025</td>\n",
       "      <td>5.74708</td>\n",
       "      <td>467.713</td>\n",
       "      <td>4.97044</td>\n",
       "      <td>...</td>\n",
       "      <td>2.000000e+08</td>\n",
       "      <td>1002610.00</td>\n",
       "      <td>Banking</td>\n",
       "      <td>N.A.</td>\n",
       "      <td>N.A.</td>\n",
       "      <td>SUBORDINATED</td>\n",
       "      <td>1.0</td>\n",
       "      <td>40.007513</td>\n",
       "      <td>4.309589</td>\n",
       "      <td>4138.084024</td>\n",
       "    </tr>\n",
       "    <tr>\n",
       "      <th>44899</th>\n",
       "      <td>44899</td>\n",
       "      <td>QJ879163 Corp</td>\n",
       "      <td>0.396</td>\n",
       "      <td>1.499</td>\n",
       "      <td>0.9475</td>\n",
       "      <td>9.8776</td>\n",
       "      <td>12/01/2025</td>\n",
       "      <td>5.74708</td>\n",
       "      <td>467.713</td>\n",
       "      <td>4.97044</td>\n",
       "      <td>...</td>\n",
       "      <td>2.000000e+08</td>\n",
       "      <td>1002610.00</td>\n",
       "      <td>Banking</td>\n",
       "      <td>N.A.</td>\n",
       "      <td>N.A.</td>\n",
       "      <td>SUBORDINATED</td>\n",
       "      <td>1.0</td>\n",
       "      <td>40.007513</td>\n",
       "      <td>4.309589</td>\n",
       "      <td>4122.428832</td>\n",
       "    </tr>\n",
       "  </tbody>\n",
       "</table>\n",
       "<p>5 rows × 24 columns</p>\n",
       "</div>"
      ],
      "text/plain": [
       "       Unnamed: 0 Reference Security  Bid Price  Ask Price  Mid Price     Cpn  \\\n",
       "5909         5909      ZS424035 Corp      0.010      0.750     0.3800  1.5000   \n",
       "1456         1456      AN346569 Corp      0.125      0.700     0.4125  3.8750   \n",
       "827           827      AL458635 Corp      0.250      1.750     1.0000  6.2500   \n",
       "44900       44900      QJ879163 Corp      0.407      1.481     0.9440  9.8776   \n",
       "44899       44899      QJ879163 Corp      0.396      1.499     0.9475  9.8776   \n",
       "\n",
       "         Maturity  Common Eqty / Tot Assets  Debt / Common Equity  TCE Ratio  \\\n",
       "5909   04/26/2024                -147.17300                   NaN -149.82800   \n",
       "1456   10/25/2022                  12.72580               177.366  -23.21850   \n",
       "827    06/15/2022                       NaN                   NaN        NaN   \n",
       "44900  12/01/2025                   5.74708               467.713    4.97044   \n",
       "44899  12/01/2025                   5.74708               467.713    4.97044   \n",
       "\n",
       "       ...       Amt Out  Total Assets     BCLASS Level 3  Guarantee Type  \\\n",
       "5909   ...  1.186770e+09       3359.72   Other Industrial        Multiple   \n",
       "1456   ...  4.000000e+08       1808.09           Electric        Multiple   \n",
       "827    ...  7.500000e+08           NaN  Consumer Cyclical            N.A.   \n",
       "44900  ...  2.000000e+08    1002610.00            Banking            N.A.   \n",
       "44899  ...  2.000000e+08    1002610.00            Banking            N.A.   \n",
       "\n",
       "              Guarantor Type   Collat Type PD_1y    reprice maturity_years  \\\n",
       "5909            Subsidiaries    SR SECURED   1.0  40.007513       2.709589   \n",
       "1456   Parent & Subsidiaries    SR SECURED   1.0  40.007513       1.205479   \n",
       "827                     N.A.  SR UNSECURED   1.0  42.507983       0.843836   \n",
       "44900                   N.A.  SUBORDINATED   1.0  40.007513       4.309589   \n",
       "44899                   N.A.  SUBORDINATED   1.0  40.007513       4.309589   \n",
       "\n",
       "            Error %  \n",
       "5909   10428.292944  \n",
       "1456    9598.791076  \n",
       "827     4150.798276  \n",
       "44900   4138.084024  \n",
       "44899   4122.428832  \n",
       "\n",
       "[5 rows x 24 columns]"
      ]
     },
     "execution_count": 5,
     "metadata": {},
     "output_type": "execute_result"
    }
   ],
   "source": [
    "df.sort_values('Error %', ascending=False).head()"
   ]
  },
  {
   "cell_type": "code",
   "execution_count": 6,
   "id": "75f106c9",
   "metadata": {},
   "outputs": [],
   "source": [
    "def count_nan(df):\n",
    "    for col_name in df.columns:\n",
    "        n_nan = df[col_name].isna().sum()\n",
    "        if n_nan > 0:\n",
    "            print(\"Colomn : \", col_name)  \n",
    "            print(\"NaN : {}/{}\".format(n_nan,len(df[col_name])))\n",
    "            print(\"===============================================\")\n",
    "            \n",
    "#count_nan(df)"
   ]
  },
  {
   "cell_type": "code",
   "execution_count": 7,
   "id": "143b1587",
   "metadata": {},
   "outputs": [
    {
     "data": {
      "text/plain": [
       "Index(['Unnamed: 0', 'Reference Security', 'Bid Price', 'Ask Price',\n",
       "       'Mid Price', 'Cpn', 'Maturity', 'Common Eqty / Tot Assets',\n",
       "       'Debt / Common Equity', 'TCE Ratio', 'Tot Debt / Tot Capital',\n",
       "       'Tot Cap (Local Crncy)', 'Is Covered', 'Is Convertible', 'Amt Out',\n",
       "       'Total Assets', 'BCLASS Level 3', 'Guarantee Type', 'Guarantor Type',\n",
       "       'Collat Type', 'PD_1y', 'reprice', 'maturity_years', 'Error %'],\n",
       "      dtype='object')"
      ]
     },
     "execution_count": 7,
     "metadata": {},
     "output_type": "execute_result"
    }
   ],
   "source": [
    "df = df[df.PD_1y>0.0]\n",
    "df = df[df.PD_1y!=1.0]\n",
    "\n",
    "df.columns"
   ]
  },
  {
   "cell_type": "code",
   "execution_count": 8,
   "id": "3814d586",
   "metadata": {},
   "outputs": [],
   "source": [
    "df1 = df[['Common Eqty / Tot Assets','TCE Ratio','Tot Debt / Tot Capital','Tot Cap (Local Crncy)','Is Covered','Is Convertible','Amt Out','BCLASS Level 3', 'Guarantee Type','Total Assets', 'Guarantor Type', 'Collat Type','Debt / Common Equity','PD_1y']]\n",
    "df1 = df1[df1['Debt / Common Equity']<2500]\n",
    "df1 = df1[df1['TCE Ratio']>-100]\n",
    "#df1.replace(np.nan, 0.0,inplace=True)\n",
    "df1.dropna(inplace=True)"
   ]
  },
  {
   "cell_type": "code",
   "execution_count": 9,
   "id": "dc9eb853",
   "metadata": {},
   "outputs": [
    {
     "data": {
      "text/plain": [
       "(36096, 14)"
      ]
     },
     "execution_count": 9,
     "metadata": {},
     "output_type": "execute_result"
    }
   ],
   "source": [
    "df1 = df1.drop_duplicates()\n",
    "df1.shape"
   ]
  },
  {
   "cell_type": "markdown",
   "id": "3ebf7645",
   "metadata": {},
   "source": [
    "## b. Traitement des données"
   ]
  },
  {
   "cell_type": "markdown",
   "id": "e1bc6633",
   "metadata": {},
   "source": [
    "Nous commencerons par séparer les données non étiquietées des étiquettes, les étiquettes se trouvent dans l'array `y_full` et le reste des données dans `X_full`"
   ]
  },
  {
   "cell_type": "code",
   "execution_count": 10,
   "id": "10eee90f",
   "metadata": {},
   "outputs": [],
   "source": [
    "X_full = np.array(df1.drop(columns=['PD_1y']))\n",
    "y_full = np.array(df1['PD_1y'])"
   ]
  },
  {
   "cell_type": "markdown",
   "id": "659131f9",
   "metadata": {},
   "source": [
    "La prochaine étape consiste à séparer les features continues des features discrètes, cela sera utile car leurs traitements seront différent"
   ]
  },
  {
   "cell_type": "code",
   "execution_count": 11,
   "id": "76b73ddd",
   "metadata": {},
   "outputs": [],
   "source": [
    "features = list(df1.drop(columns=['PD_1y']).columns)\n",
    "\n",
    "discrete_features = ['BCLASS Level 3','Guarantee Type','Guarantor Type','Collat Type','Is Covered','Is Convertible']\n",
    "continuous_features = [s for s in features if not s in discrete_features]\n",
    "\n",
    "\n",
    "continuous_features_idx = [features.index(feat_name) for feat_name in continuous_features]\n",
    "discrete_features_idx = [features.index(feat_name) for feat_name in discrete_features]"
   ]
  },
  {
   "cell_type": "code",
   "execution_count": 12,
   "id": "1a5e15a5",
   "metadata": {},
   "outputs": [],
   "source": [
    "## A FAIRE COMME CELA :\n",
    "\"\"\"\n",
    "from sklearn.preprocessing import OneHotEncoder\n",
    "\n",
    "enc = OneHotEncoder(handle_unknown='ignore')\n",
    "enc.fit(X_train_submit)\n",
    "\n",
    "X_train_submit = enc.transform(X_train_submit)\n",
    "X_test_submit = enc.transform(X_test_submit)\n",
    "\n",
    "\"\"\"\n",
    "\n",
    "\n",
    "\n",
    "class Pipeline:\n",
    "    def __init__(self, X_train, X_full = None):\n",
    "        \"\"\"\n",
    "        Se fit sur le jeu de TRAIN, une seule fois\n",
    "        \"\"\"\n",
    "        self.ohe = preprocessing.OneHotEncoder(categories='auto',sparse=False).fit(X_full[:,discrete_features_idx])\n",
    "        self.std_scaler = preprocessing.StandardScaler().fit(X_train[:,continuous_features_idx])\n",
    "        print(self.ohe.categories_)\n",
    "        \n",
    "    def traitement(self,X):\n",
    "        \"\"\"\n",
    "        Permet de traiter n'importe quel vecteur X ensuite\n",
    "        \"\"\"\n",
    "    \n",
    "        X_continuous_scaled = self.std_scaler.transform(X[:,continuous_features_idx])\n",
    "        X_discrete_encoded = self.ohe.transform(X[:,discrete_features_idx])\n",
    "        print('moyenne = {}'.format(np.mean(X_continuous_scaled)))\n",
    "        \n",
    "        X_processed = np.hstack((X_discrete_encoded, X_continuous_scaled))\n",
    "    \n",
    "        return X_processed"
   ]
  },
  {
   "cell_type": "code",
   "execution_count": 13,
   "id": "0e4174ef",
   "metadata": {},
   "outputs": [
    {
     "name": "stdout",
     "output_type": "stream",
     "text": [
      "[array(['Banking', 'Basic Industry', 'Brokerage Assetmanagers Exchanges',\n",
      "       'Capital Goods', 'Communications', 'Consumer Cyclical',\n",
      "       'Consumer Non-Cyclical', 'Electric', 'Energy', 'Finance Companies',\n",
      "       'Government Guaranteed', 'Government Owned. No Guarantee',\n",
      "       'Government Sponsored', 'Hybrid', 'Insurance', 'Local Authority',\n",
      "       'Mortgage Assets', 'Natural Gas', 'Other Financial',\n",
      "       'Other Industrial', 'Other Utility', 'Public Sector Loans',\n",
      "       'REITs', 'Supranational', 'Technology', 'Transportation',\n",
      "       'Whole Business'], dtype=object), array(['Cross Guarantee', 'Multiple', 'N.A.', 'Single'], dtype=object), array(['Bank', 'Company', 'Domestic Restricted Subsidiar',\n",
      "       'Local Government', 'N.A.', 'National/Sovereign Government',\n",
      "       'Other Subsidiary of Parent', 'Parent', 'Parent & Subsidiaries',\n",
      "       'Subsidiaries'], dtype=object), array(['BONDS', 'COMPANY GUARNT', 'COVERED', 'GOVT GUARANTEED',\n",
      "       'GOVT LIQUID GTD', 'INSURED', 'JR SUBORDINATED',\n",
      "       'JUMBO PFANDBRIEF', 'LOCAL GOVT GUARN', 'PFANDBRIEFE', 'SECURED',\n",
      "       'SR SECURED', 'SR SUBORDINATED', 'SR UNSECURED', 'SUBORDINATED',\n",
      "       'UNSECURED'], dtype=object), array([False, True], dtype=object), array([False, True], dtype=object)]\n",
      "moyenne = 9.530062814171843e-18\n",
      "moyenne = -0.00042470152026945657\n"
     ]
    }
   ],
   "source": [
    "X_train, X_test_, y_train, y_test = model_selection.train_test_split(X_full, y_full, test_size=0.1,\n",
    "                                                                    #stratify=y_full, # stratification\n",
    "                                                                    random_state=92)\n",
    "\n",
    "pipe = Pipeline(X_train,X_full)\n",
    "X_train = pipe.traitement(X_train)\n",
    "X_test  = pipe.traitement(X_test_)"
   ]
  },
  {
   "cell_type": "markdown",
   "id": "95dd364e",
   "metadata": {},
   "source": [
    "# 2. Création de classes de probabilités de défaut "
   ]
  },
  {
   "cell_type": "markdown",
   "id": "1dcb59d4",
   "metadata": {},
   "source": [
    "## a. Transformation des données"
   ]
  },
  {
   "cell_type": "code",
   "execution_count": 14,
   "id": "7741588e",
   "metadata": {
    "scrolled": true
   },
   "outputs": [
    {
     "data": {
      "text/plain": [
       "Text(0.5, 1.0, 'Distribution des probabilités de défaut')"
      ]
     },
     "execution_count": 14,
     "metadata": {},
     "output_type": "execute_result"
    },
    {
     "data": {
      "image/png": "[encoded data removed]",
      "text/plain": [
       "<Figure size 432x288 with 1 Axes>"
      ]
     },
     "metadata": {
      "needs_background": "light"
     },
     "output_type": "display_data"
    }
   ],
   "source": [
    "plt.hist(y_train, range = (0, 0.2), bins = 1000, edgecolor='orange')\n",
    "plt.title('Distribution des probabilités de défaut')"
   ]
  },
  {
   "cell_type": "markdown",
   "id": "38550ade",
   "metadata": {},
   "source": [
    "*Observation :* la distribution n'est pas du tout uniforme, ressemble à une loi exponentielle. Si l'on fait le clustering (K-means) sur ces données brutes, la classe 0 et 1 vont être surchargées et les dernières classes vides. Cela sera par la suite problématique pour les algos. Nous allons donc faire une transformation par la fonction de répartition de la loi exponentielle afin d'obtenir des données mieux séparées entre elles.  "
   ]
  },
  {
   "cell_type": "code",
   "execution_count": 15,
   "id": "740cce30",
   "metadata": {},
   "outputs": [],
   "source": [
    "lam = 1/y_train.mean()"
   ]
  },
  {
   "cell_type": "code",
   "execution_count": 16,
   "id": "2a039b58",
   "metadata": {},
   "outputs": [],
   "source": [
    "def loi_expo(x,lam) : \n",
    "    return lam * np.exp(- lam * x)"
   ]
  },
  {
   "cell_type": "code",
   "execution_count": 17,
   "id": "9134d1cd",
   "metadata": {},
   "outputs": [
    {
     "data": {
      "image/png": "[encoded data removed]",
      "text/plain": [
       "<Figure size 432x288 with 1 Axes>"
      ]
     },
     "metadata": {
      "needs_background": "light"
     },
     "output_type": "display_data"
    }
   ],
   "source": [
    "from pylab import *\n",
    "x_arg = linspace(0, 0.2, 100)\n",
    "y_arg = loi_expo(x_arg,lam) * 8\n",
    "\n",
    "plot(x_arg, y_arg)\n",
    "plt.hist(y_train, range = (0, 0.2), bins = 1000, edgecolor='orange')\n",
    "show()"
   ]
  },
  {
   "cell_type": "markdown",
   "id": "3dfcf857",
   "metadata": {},
   "source": [
    "La distribution fit assez bien avec une loi exponentielle de paramètre lam. Nous retenons ce modèle."
   ]
  },
  {
   "cell_type": "code",
   "execution_count": 18,
   "id": "23a73ee8",
   "metadata": {},
   "outputs": [],
   "source": [
    "def distrib_function(x,lam) : \n",
    "    return 1 - np.exp(- lam * x)\n",
    "\n",
    "y_train_exp = distrib_function(y_train,lam)\n",
    "y_test_exp = distrib_function(y_test,lam)"
   ]
  },
  {
   "cell_type": "code",
   "execution_count": 19,
   "id": "7a956c3e",
   "metadata": {},
   "outputs": [
    {
     "data": {
      "text/plain": [
       "Text(0.5, 1.0, 'Distribution des probabilités de défaut après transformation')"
      ]
     },
     "execution_count": 19,
     "metadata": {},
     "output_type": "execute_result"
    },
    {
     "data": {
      "image/png": "[encoded data removed]",
      "text/plain": [
       "<Figure size 432x288 with 1 Axes>"
      ]
     },
     "metadata": {
      "needs_background": "light"
     },
     "output_type": "display_data"
    }
   ],
   "source": [
    "plt.hist(y_train_exp, range = (0, 1), bins = 100)\n",
    "plt.title('Distribution des probabilités de défaut après transformation')"
   ]
  },
  {
   "cell_type": "markdown",
   "id": "0034d55e",
   "metadata": {},
   "source": [
    "## b. Détermination du nombre de clusters optimal"
   ]
  },
  {
   "cell_type": "code",
   "execution_count": 20,
   "id": "13a90a58",
   "metadata": {},
   "outputs": [],
   "source": [
    "from sklearn.cluster import KMeans"
   ]
  },
  {
   "cell_type": "code",
   "execution_count": 21,
   "id": "6608107a",
   "metadata": {
    "scrolled": true
   },
   "outputs": [
    {
     "data": {
      "image/png": "[encoded data removed]",
      "text/plain": [
       "<Figure size 432x288 with 1 Axes>"
      ]
     },
     "metadata": {
      "needs_background": "light"
     },
     "output_type": "display_data"
    }
   ],
   "source": [
    "def regle_du_coude(base_input, nb_cluster_teste):\n",
    "    \n",
    "    distortions = []\n",
    "    df = pd.DataFrame(columns = ['X', 'Y']) \n",
    "    df[\"X\"]=base_input\n",
    "    df[\"Y\"]=base_input\n",
    "\n",
    "    for k in range(1,nb_cluster_teste+1):\n",
    "        kmeanModel = KMeans(n_clusters=k)\n",
    "        kmeanModel.fit(df)\n",
    "        distortions.append(kmeanModel.inertia_)\n",
    "    \n",
    "    plt.plot(range(1,nb_cluster_teste+1), distortions, 'rx--')\n",
    "    plt.xticks(range(0,nb_cluster_teste+1,2))\n",
    "    plt.xlabel('Nombre de clusters',)\n",
    "    plt.ylabel('Variance intra-classe')\n",
    "    plt.title('La méthode du coude')\n",
    "    plt.show()\n",
    "    \n",
    "regle_du_coude(y_train_exp,20)"
   ]
  },
  {
   "cell_type": "markdown",
   "id": "5157f434",
   "metadata": {},
   "source": [
    "Choix du nombre de clusters : entre 3 et 6. L'on cherche à avoir un nombre important de classes (approche métier, 3 classes ne donnent pas beaucoup d'informations). On choisit dans la suite `nb_class = 6`."
   ]
  },
  {
   "cell_type": "markdown",
   "id": "397de786",
   "metadata": {},
   "source": [
    "## c. Clustering"
   ]
  },
  {
   "cell_type": "code",
   "execution_count": 22,
   "id": "9366cf07",
   "metadata": {},
   "outputs": [],
   "source": [
    "class Discretizer:\n",
    "    def __init__(self, y_train, nb_class=6):\n",
    "        \n",
    "        self.nb_class = nb_class\n",
    "        self.y_train = y_train.reshape((-1,1))\n",
    "\n",
    "        self.kbins = KBinsDiscretizer(n_bins=self.nb_class, encode='ordinal', strategy='kmeans')#strategy : uniform, quantile, kmeans\n",
    "        self.kbins.fit(self.y_train)\n",
    "        \n",
    "        \n",
    "    def discretize(self,y):\n",
    "        y = y.reshape((-1,1))\n",
    "        y_class = self.kbins.transform(y)\n",
    "        return y_class"
   ]
  },
  {
   "cell_type": "code",
   "execution_count": 23,
   "id": "69f502bc",
   "metadata": {},
   "outputs": [],
   "source": [
    "nb_class = 6\n",
    "discretizer = Discretizer(y_train_exp, nb_class=nb_class)\n",
    "\n",
    "y_train_class = discretizer.discretize(y_train_exp)\n",
    "y_test_class  = discretizer.discretize(y_test_exp)"
   ]
  },
  {
   "cell_type": "code",
   "execution_count": 24,
   "id": "2cfe7a21",
   "metadata": {},
   "outputs": [
    {
     "data": {
      "image/png": "[encoded data removed]",
      "text/plain": [
       "<Figure size 432x288 with 1 Axes>"
      ]
     },
     "metadata": {
      "needs_background": "light"
     },
     "output_type": "display_data"
    }
   ],
   "source": [
    "plt.hist(y_train_class, range = (0, nb_class), bins = nb_class, edgecolor='black' )\n",
    "plt.xlabel('Classes')\n",
    "plt.ylabel('Nombre de bonds')\n",
    "plt.title('Histogramme du nombre de bonds par classe - base de train')\n",
    "plt.show()"
   ]
  },
  {
   "cell_type": "code",
   "execution_count": 25,
   "id": "6b49e652",
   "metadata": {},
   "outputs": [
    {
     "data": {
      "image/png": "[encoded data removed]",
      "text/plain": [
       "<Figure size 432x288 with 1 Axes>"
      ]
     },
     "metadata": {
      "needs_background": "light"
     },
     "output_type": "display_data"
    }
   ],
   "source": [
    "plt.hist(y_test_class, range = (0, nb_class), bins = nb_class, edgecolor='black' )\n",
    "plt.xlabel('Classes')\n",
    "plt.ylabel('Nombre de bonds')\n",
    "plt.title('Histogramme du nombre de bonds par classe - base de test')\n",
    "plt.show()"
   ]
  },
  {
   "cell_type": "markdown",
   "id": "707cdeeb",
   "metadata": {},
   "source": [
    "*Comparaison avec ce que l'on aurait eu sans transformation :*"
   ]
  },
  {
   "cell_type": "code",
   "execution_count": 26,
   "id": "768f67cc",
   "metadata": {},
   "outputs": [
    {
     "data": {
      "image/png": "[encoded data removed]",
      "text/plain": [
       "<Figure size 432x288 with 1 Axes>"
      ]
     },
     "metadata": {
      "needs_background": "light"
     },
     "output_type": "display_data"
    }
   ],
   "source": [
    "plt.hist(Discretizer(y_train, nb_class=nb_class).discretize(y_train), range = (0, nb_class), bins = nb_class, edgecolor='black' )\n",
    "plt.xlabel('Classes')\n",
    "plt.ylabel('Nombre de bonds')\n",
    "plt.title('SANS TRANSFORMATION - Histogramme base de test')\n",
    "plt.show()"
   ]
  },
  {
   "cell_type": "markdown",
   "id": "083d1e12",
   "metadata": {},
   "source": [
    "Nous voyons bien que la transformaiton était nécessaire pour réaliser un clustering probant par la méthode des K-means. "
   ]
  },
  {
   "cell_type": "markdown",
   "id": "3c34fcfc",
   "metadata": {},
   "source": [
    "# III. Modèles de classification"
   ]
  },
  {
   "cell_type": "markdown",
   "id": "573196b7",
   "metadata": {},
   "source": [
    "## a. Réseau de neurones"
   ]
  },
  {
   "cell_type": "markdown",
   "id": "5abb729a",
   "metadata": {},
   "source": [
    "## Entrainement du modèle"
   ]
  },
  {
   "cell_type": "code",
   "execution_count": 27,
   "id": "b4ed5bda",
   "metadata": {},
   "outputs": [],
   "source": [
    "model = Sequential()\n",
    "#model.add(Conv1D(12, 2, activation='relu',input_shape=input_shape[1:]))\n",
    "model.add(Dense(units=2000,input_dim=68)) #6 is good\n",
    "model.add(Dense(units=2000))\n",
    "model.add(Dropout(0.4))\n",
    "model.add(Dense(units=nb_class,activation=\"softmax\")) #output"
   ]
  },
  {
   "cell_type": "code",
   "execution_count": 28,
   "id": "5d674fd3",
   "metadata": {},
   "outputs": [
    {
     "name": "stderr",
     "output_type": "stream",
     "text": [
      "C:\\Users\\mathilde.binet\\Anaconda3\\lib\\site-packages\\tensorflow\\python\\keras\\optimizer_v2\\optimizer_v2.py:374: UserWarning: The `lr` argument is deprecated, use `learning_rate` instead.\n",
      "  warnings.warn(\n"
     ]
    }
   ],
   "source": [
    "from tensorflow import keras \n",
    "\n",
    "model.compile(optimizer=keras.optimizers.Adam(lr=0.0003),\n",
    "              loss=keras.losses.SparseCategoricalCrossentropy(from_logits=False), # default from_logits=False\n",
    "              metrics=[keras.metrics.SparseCategoricalAccuracy()])"
   ]
  },
  {
   "cell_type": "code",
   "execution_count": 29,
   "id": "da8975c2",
   "metadata": {},
   "outputs": [
    {
     "name": "stdout",
     "output_type": "stream",
     "text": [
      "Epoch 1/100\n",
      "250/250 [==============================] - 10s 40ms/step - loss: 1.6182 - sparse_categorical_accuracy: 0.3608 - val_loss: 1.4841 - val_sparse_categorical_accuracy: 0.3838\n",
      "Epoch 2/100\n",
      "250/250 [==============================] - 10s 39ms/step - loss: 1.4810 - sparse_categorical_accuracy: 0.3912 - val_loss: 1.4818 - val_sparse_categorical_accuracy: 0.4017\n",
      "Epoch 3/100\n",
      "250/250 [==============================] - 10s 39ms/step - loss: 1.4542 - sparse_categorical_accuracy: 0.3836 - val_loss: 1.4968 - val_sparse_categorical_accuracy: 0.3795\n",
      "Epoch 4/100\n",
      "250/250 [==============================] - 10s 39ms/step - loss: 1.4833 - sparse_categorical_accuracy: 0.4052 - val_loss: 1.4564 - val_sparse_categorical_accuracy: 0.4020\n",
      "Epoch 5/100\n",
      "250/250 [==============================] - 10s 39ms/step - loss: 1.4578 - sparse_categorical_accuracy: 0.3862 - val_loss: 1.4353 - val_sparse_categorical_accuracy: 0.3967\n",
      "Epoch 6/100\n",
      "250/250 [==============================] - 10s 39ms/step - loss: 1.4296 - sparse_categorical_accuracy: 0.4098 - val_loss: 1.4413 - val_sparse_categorical_accuracy: 0.3869\n",
      "Epoch 7/100\n",
      "250/250 [==============================] - 10s 39ms/step - loss: 1.4436 - sparse_categorical_accuracy: 0.3882 - val_loss: 1.4123 - val_sparse_categorical_accuracy: 0.4026\n",
      "Epoch 8/100\n",
      "250/250 [==============================] - 10s 39ms/step - loss: 1.4149 - sparse_categorical_accuracy: 0.3998 - val_loss: 1.4308 - val_sparse_categorical_accuracy: 0.4106\n",
      "Epoch 9/100\n",
      "250/250 [==============================] - 10s 38ms/step - loss: 1.4411 - sparse_categorical_accuracy: 0.4030 - val_loss: 1.4106 - val_sparse_categorical_accuracy: 0.4084\n",
      "Epoch 10/100\n",
      "250/250 [==============================] - 10s 39ms/step - loss: 1.4090 - sparse_categorical_accuracy: 0.4118 - val_loss: 1.4220 - val_sparse_categorical_accuracy: 0.4198\n",
      "Epoch 11/100\n",
      "250/250 [==============================] - 9s 38ms/step - loss: 1.4143 - sparse_categorical_accuracy: 0.4128 - val_loss: 1.4294 - val_sparse_categorical_accuracy: 0.4090\n",
      "Epoch 12/100\n",
      "250/250 [==============================] - 10s 39ms/step - loss: 1.4423 - sparse_categorical_accuracy: 0.4048 - val_loss: 1.4243 - val_sparse_categorical_accuracy: 0.3974\n",
      "Epoch 13/100\n",
      "250/250 [==============================] - 10s 39ms/step - loss: 1.4110 - sparse_categorical_accuracy: 0.4110 - val_loss: 1.4231 - val_sparse_categorical_accuracy: 0.4226\n",
      "Epoch 14/100\n",
      "250/250 [==============================] - 9s 38ms/step - loss: 1.4136 - sparse_categorical_accuracy: 0.4058 - val_loss: 1.4107 - val_sparse_categorical_accuracy: 0.4207\n",
      "Epoch 15/100\n",
      "250/250 [==============================] - 10s 39ms/step - loss: 1.4057 - sparse_categorical_accuracy: 0.4192 - val_loss: 1.3927 - val_sparse_categorical_accuracy: 0.4254\n",
      "Epoch 16/100\n",
      "250/250 [==============================] - 9s 38ms/step - loss: 1.4146 - sparse_categorical_accuracy: 0.4068 - val_loss: 1.3955 - val_sparse_categorical_accuracy: 0.4201\n",
      "Epoch 17/100\n",
      "250/250 [==============================] - 10s 39ms/step - loss: 1.4191 - sparse_categorical_accuracy: 0.4048 - val_loss: 1.4229 - val_sparse_categorical_accuracy: 0.4115\n",
      "Epoch 18/100\n",
      "250/250 [==============================] - 10s 39ms/step - loss: 1.4346 - sparse_categorical_accuracy: 0.4092 - val_loss: 1.4157 - val_sparse_categorical_accuracy: 0.4171\n",
      "Epoch 19/100\n",
      "250/250 [==============================] - 10s 39ms/step - loss: 1.4022 - sparse_categorical_accuracy: 0.4070 - val_loss: 1.3965 - val_sparse_categorical_accuracy: 0.4171\n",
      "Epoch 20/100\n",
      "250/250 [==============================] - 10s 40ms/step - loss: 1.4349 - sparse_categorical_accuracy: 0.4062 - val_loss: 1.3945 - val_sparse_categorical_accuracy: 0.4183\n",
      "Epoch 21/100\n",
      "250/250 [==============================] - 10s 38ms/step - loss: 1.3947 - sparse_categorical_accuracy: 0.4160 - val_loss: 1.3973 - val_sparse_categorical_accuracy: 0.4195\n",
      "Epoch 22/100\n",
      "250/250 [==============================] - 10s 39ms/step - loss: 1.4195 - sparse_categorical_accuracy: 0.4118 - val_loss: 1.3979 - val_sparse_categorical_accuracy: 0.4069\n",
      "Epoch 23/100\n",
      "250/250 [==============================] - 10s 39ms/step - loss: 1.4076 - sparse_categorical_accuracy: 0.4164 - val_loss: 1.4148 - val_sparse_categorical_accuracy: 0.4032\n",
      "Epoch 24/100\n",
      "250/250 [==============================] - 9s 38ms/step - loss: 1.4102 - sparse_categorical_accuracy: 0.4048 - val_loss: 1.4051 - val_sparse_categorical_accuracy: 0.4084\n",
      "Epoch 25/100\n",
      "250/250 [==============================] - 10s 39ms/step - loss: 1.4223 - sparse_categorical_accuracy: 0.4020 - val_loss: 1.3985 - val_sparse_categorical_accuracy: 0.4183\n",
      "Epoch 26/100\n",
      "250/250 [==============================] - 10s 40ms/step - loss: 1.4093 - sparse_categorical_accuracy: 0.4154 - val_loss: 1.4078 - val_sparse_categorical_accuracy: 0.4171\n",
      "Epoch 27/100\n",
      "250/250 [==============================] - 10s 41ms/step - loss: 1.4039 - sparse_categorical_accuracy: 0.4050 - val_loss: 1.4031 - val_sparse_categorical_accuracy: 0.4177\n",
      "Epoch 28/100\n",
      "250/250 [==============================] - 10s 39ms/step - loss: 1.3943 - sparse_categorical_accuracy: 0.4250 - val_loss: 1.3983 - val_sparse_categorical_accuracy: 0.4140\n",
      "Epoch 29/100\n",
      "250/250 [==============================] - 10s 39ms/step - loss: 1.4167 - sparse_categorical_accuracy: 0.4084 - val_loss: 1.4052 - val_sparse_categorical_accuracy: 0.4100\n",
      "Epoch 30/100\n",
      "250/250 [==============================] - 10s 41ms/step - loss: 1.4036 - sparse_categorical_accuracy: 0.4150 - val_loss: 1.4004 - val_sparse_categorical_accuracy: 0.4167\n",
      "Epoch 31/100\n",
      "250/250 [==============================] - 10s 39ms/step - loss: 1.4059 - sparse_categorical_accuracy: 0.4158 - val_loss: 1.3993 - val_sparse_categorical_accuracy: 0.4220\n",
      "Epoch 32/100\n",
      "250/250 [==============================] - 10s 40ms/step - loss: 1.4056 - sparse_categorical_accuracy: 0.4048 - val_loss: 1.3885 - val_sparse_categorical_accuracy: 0.4247\n",
      "Epoch 33/100\n",
      "250/250 [==============================] - 10s 41ms/step - loss: 1.4048 - sparse_categorical_accuracy: 0.4122 - val_loss: 1.4047 - val_sparse_categorical_accuracy: 0.4183\n",
      "Epoch 34/100\n",
      "250/250 [==============================] - 10s 38ms/step - loss: 1.4263 - sparse_categorical_accuracy: 0.4006 - val_loss: 1.3993 - val_sparse_categorical_accuracy: 0.4100\n",
      "Epoch 35/100\n",
      "250/250 [==============================] - 10s 39ms/step - loss: 1.4134 - sparse_categorical_accuracy: 0.4134 - val_loss: 1.3913 - val_sparse_categorical_accuracy: 0.4174\n",
      "Epoch 36/100\n",
      "250/250 [==============================] - 10s 40ms/step - loss: 1.4150 - sparse_categorical_accuracy: 0.4096 - val_loss: 1.3964 - val_sparse_categorical_accuracy: 0.4155\n",
      "Epoch 37/100\n",
      "250/250 [==============================] - 10s 38ms/step - loss: 1.4044 - sparse_categorical_accuracy: 0.4130 - val_loss: 1.4288 - val_sparse_categorical_accuracy: 0.3912\n",
      "Epoch 38/100\n",
      "250/250 [==============================] - 10s 39ms/step - loss: 1.3976 - sparse_categorical_accuracy: 0.4128 - val_loss: 1.3932 - val_sparse_categorical_accuracy: 0.4211\n",
      "Epoch 39/100\n",
      "250/250 [==============================] - 10s 39ms/step - loss: 1.3918 - sparse_categorical_accuracy: 0.4202 - val_loss: 1.3876 - val_sparse_categorical_accuracy: 0.4198\n",
      "Epoch 40/100\n",
      "250/250 [==============================] - 10s 39ms/step - loss: 1.4226 - sparse_categorical_accuracy: 0.3968 - val_loss: 1.3931 - val_sparse_categorical_accuracy: 0.4023\n",
      "Epoch 41/100\n",
      "250/250 [==============================] - 10s 39ms/step - loss: 1.4190 - sparse_categorical_accuracy: 0.4134 - val_loss: 1.3983 - val_sparse_categorical_accuracy: 0.4269\n",
      "Epoch 42/100\n",
      "250/250 [==============================] - 9s 38ms/step - loss: 1.3918 - sparse_categorical_accuracy: 0.4156 - val_loss: 1.4119 - val_sparse_categorical_accuracy: 0.4001\n",
      "Epoch 43/100\n",
      "250/250 [==============================] - 10s 39ms/step - loss: 1.3866 - sparse_categorical_accuracy: 0.4164 - val_loss: 1.3949 - val_sparse_categorical_accuracy: 0.4235\n",
      "Epoch 44/100\n",
      "250/250 [==============================] - 10s 39ms/step - loss: 1.4103 - sparse_categorical_accuracy: 0.4018 - val_loss: 1.3942 - val_sparse_categorical_accuracy: 0.4050\n",
      "Epoch 45/100\n"
     ]
    },
    {
     "name": "stdout",
     "output_type": "stream",
     "text": [
      "250/250 [==============================] - 10s 40ms/step - loss: 1.4242 - sparse_categorical_accuracy: 0.4056 - val_loss: 1.3903 - val_sparse_categorical_accuracy: 0.4214\n",
      "Epoch 46/100\n",
      "250/250 [==============================] - 10s 40ms/step - loss: 1.4150 - sparse_categorical_accuracy: 0.4074 - val_loss: 1.3892 - val_sparse_categorical_accuracy: 0.4214\n",
      "Epoch 47/100\n",
      "250/250 [==============================] - 10s 38ms/step - loss: 1.4061 - sparse_categorical_accuracy: 0.4231 - val_loss: 1.4034 - val_sparse_categorical_accuracy: 0.4164\n",
      "Epoch 48/100\n",
      "250/250 [==============================] - 10s 39ms/step - loss: 1.3914 - sparse_categorical_accuracy: 0.4148 - val_loss: 1.3859 - val_sparse_categorical_accuracy: 0.4127\n",
      "Epoch 49/100\n",
      "250/250 [==============================] - 10s 38ms/step - loss: 1.3956 - sparse_categorical_accuracy: 0.4220 - val_loss: 1.3996 - val_sparse_categorical_accuracy: 0.4106\n",
      "Epoch 50/100\n",
      "250/250 [==============================] - 9s 38ms/step - loss: 1.4096 - sparse_categorical_accuracy: 0.4052 - val_loss: 1.3988 - val_sparse_categorical_accuracy: 0.4081\n",
      "Epoch 51/100\n",
      "250/250 [==============================] - 10s 40ms/step - loss: 1.4065 - sparse_categorical_accuracy: 0.4074 - val_loss: 1.3851 - val_sparse_categorical_accuracy: 0.4247\n",
      "Epoch 52/100\n",
      "250/250 [==============================] - 10s 40ms/step - loss: 1.4091 - sparse_categorical_accuracy: 0.4148 - val_loss: 1.3855 - val_sparse_categorical_accuracy: 0.4143\n",
      "Epoch 53/100\n",
      "250/250 [==============================] - 10s 39ms/step - loss: 1.4175 - sparse_categorical_accuracy: 0.4030 - val_loss: 1.3902 - val_sparse_categorical_accuracy: 0.4164\n",
      "Epoch 54/100\n",
      "250/250 [==============================] - 10s 39ms/step - loss: 1.4143 - sparse_categorical_accuracy: 0.4120 - val_loss: 1.3904 - val_sparse_categorical_accuracy: 0.4204\n",
      "Epoch 55/100\n",
      "250/250 [==============================] - 10s 38ms/step - loss: 1.4134 - sparse_categorical_accuracy: 0.4070 - val_loss: 1.4031 - val_sparse_categorical_accuracy: 0.4180\n",
      "Epoch 56/100\n",
      "250/250 [==============================] - 9s 35ms/step - loss: 1.3949 - sparse_categorical_accuracy: 0.4108 - val_loss: 1.3787 - val_sparse_categorical_accuracy: 0.4275\n",
      "Epoch 57/100\n",
      "250/250 [==============================] - 8s 33ms/step - loss: 1.3993 - sparse_categorical_accuracy: 0.4226 - val_loss: 1.3834 - val_sparse_categorical_accuracy: 0.4284\n",
      "Epoch 58/100\n",
      "250/250 [==============================] - 9s 34ms/step - loss: 1.4022 - sparse_categorical_accuracy: 0.4128 - val_loss: 1.3918 - val_sparse_categorical_accuracy: 0.4118\n",
      "Epoch 59/100\n",
      "250/250 [==============================] - 8s 34ms/step - loss: 1.3956 - sparse_categorical_accuracy: 0.4265 - val_loss: 1.3989 - val_sparse_categorical_accuracy: 0.4180\n",
      "Epoch 60/100\n",
      "250/250 [==============================] - 9s 34ms/step - loss: 1.3936 - sparse_categorical_accuracy: 0.4210 - val_loss: 1.3924 - val_sparse_categorical_accuracy: 0.4137\n",
      "Epoch 61/100\n",
      "250/250 [==============================] - 8s 33ms/step - loss: 1.3994 - sparse_categorical_accuracy: 0.4136 - val_loss: 1.3965 - val_sparse_categorical_accuracy: 0.4217\n",
      "Epoch 62/100\n",
      "250/250 [==============================] - 9s 34ms/step - loss: 1.3968 - sparse_categorical_accuracy: 0.4194 - val_loss: 1.3850 - val_sparse_categorical_accuracy: 0.4254\n",
      "Epoch 63/100\n",
      "250/250 [==============================] - 8s 33ms/step - loss: 1.4130 - sparse_categorical_accuracy: 0.4060 - val_loss: 1.3972 - val_sparse_categorical_accuracy: 0.4217\n",
      "Epoch 64/100\n",
      "250/250 [==============================] - 9s 35ms/step - loss: 1.4133 - sparse_categorical_accuracy: 0.4134 - val_loss: 1.3993 - val_sparse_categorical_accuracy: 0.4171\n",
      "Epoch 65/100\n",
      "250/250 [==============================] - 9s 35ms/step - loss: 1.4032 - sparse_categorical_accuracy: 0.4158 - val_loss: 1.3874 - val_sparse_categorical_accuracy: 0.4146\n",
      "Epoch 66/100\n",
      "250/250 [==============================] - 9s 34ms/step - loss: 1.4006 - sparse_categorical_accuracy: 0.4130 - val_loss: 1.3958 - val_sparse_categorical_accuracy: 0.4140\n",
      "Epoch 67/100\n",
      "250/250 [==============================] - 9s 35ms/step - loss: 1.3923 - sparse_categorical_accuracy: 0.4172 - val_loss: 1.3884 - val_sparse_categorical_accuracy: 0.4103\n",
      "Epoch 68/100\n",
      "250/250 [==============================] - 8s 33ms/step - loss: 1.3977 - sparse_categorical_accuracy: 0.4146 - val_loss: 1.3855 - val_sparse_categorical_accuracy: 0.4281\n",
      "Epoch 69/100\n",
      "250/250 [==============================] - 9s 34ms/step - loss: 1.4191 - sparse_categorical_accuracy: 0.4078 - val_loss: 1.4012 - val_sparse_categorical_accuracy: 0.4103\n",
      "Epoch 70/100\n",
      "250/250 [==============================] - 8s 34ms/step - loss: 1.4084 - sparse_categorical_accuracy: 0.4204 - val_loss: 1.3965 - val_sparse_categorical_accuracy: 0.4140\n",
      "Epoch 71/100\n",
      "250/250 [==============================] - 9s 35ms/step - loss: 1.3926 - sparse_categorical_accuracy: 0.4179 - val_loss: 1.3938 - val_sparse_categorical_accuracy: 0.4137\n",
      "Epoch 72/100\n",
      "250/250 [==============================] - 8s 34ms/step - loss: 1.4036 - sparse_categorical_accuracy: 0.4066 - val_loss: 1.3858 - val_sparse_categorical_accuracy: 0.4103\n",
      "Epoch 73/100\n",
      "250/250 [==============================] - 9s 35ms/step - loss: 1.4085 - sparse_categorical_accuracy: 0.4100 - val_loss: 1.3925 - val_sparse_categorical_accuracy: 0.4106\n",
      "Epoch 74/100\n",
      "250/250 [==============================] - 8s 34ms/step - loss: 1.4054 - sparse_categorical_accuracy: 0.4142 - val_loss: 1.3925 - val_sparse_categorical_accuracy: 0.4217\n",
      "Epoch 75/100\n",
      "250/250 [==============================] - 9s 35ms/step - loss: 1.4045 - sparse_categorical_accuracy: 0.4172 - val_loss: 1.3853 - val_sparse_categorical_accuracy: 0.4272\n",
      "Epoch 76/100\n",
      "250/250 [==============================] - 9s 34ms/step - loss: 1.4040 - sparse_categorical_accuracy: 0.4088 - val_loss: 1.4067 - val_sparse_categorical_accuracy: 0.4211\n",
      "Epoch 77/100\n",
      "250/250 [==============================] - 9s 34ms/step - loss: 1.3695 - sparse_categorical_accuracy: 0.4327 - val_loss: 1.4006 - val_sparse_categorical_accuracy: 0.4090\n",
      "Epoch 78/100\n",
      "250/250 [==============================] - 9s 35ms/step - loss: 1.3998 - sparse_categorical_accuracy: 0.4108 - val_loss: 1.3908 - val_sparse_categorical_accuracy: 0.4189\n",
      "Epoch 79/100\n",
      "250/250 [==============================] - 9s 34ms/step - loss: 1.4227 - sparse_categorical_accuracy: 0.4132 - val_loss: 1.3887 - val_sparse_categorical_accuracy: 0.4195\n",
      "Epoch 80/100\n",
      "250/250 [==============================] - 9s 35ms/step - loss: 1.4081 - sparse_categorical_accuracy: 0.4050 - val_loss: 1.3886 - val_sparse_categorical_accuracy: 0.4214\n",
      "Epoch 81/100\n",
      "250/250 [==============================] - 9s 34ms/step - loss: 1.4175 - sparse_categorical_accuracy: 0.4112 - val_loss: 1.3898 - val_sparse_categorical_accuracy: 0.4257\n",
      "Epoch 82/100\n",
      "250/250 [==============================] - 9s 35ms/step - loss: 1.3854 - sparse_categorical_accuracy: 0.4140 - val_loss: 1.3792 - val_sparse_categorical_accuracy: 0.4204\n",
      "Epoch 83/100\n",
      "250/250 [==============================] - 8s 34ms/step - loss: 1.3904 - sparse_categorical_accuracy: 0.4098 - val_loss: 1.3915 - val_sparse_categorical_accuracy: 0.4171\n",
      "Epoch 84/100\n",
      "250/250 [==============================] - 9s 35ms/step - loss: 1.3995 - sparse_categorical_accuracy: 0.4066 - val_loss: 1.3975 - val_sparse_categorical_accuracy: 0.4164\n",
      "Epoch 85/100\n",
      "250/250 [==============================] - 9s 34ms/step - loss: 1.4107 - sparse_categorical_accuracy: 0.4168 - val_loss: 1.3871 - val_sparse_categorical_accuracy: 0.4152\n",
      "Epoch 86/100\n",
      "250/250 [==============================] - 9s 35ms/step - loss: 1.4100 - sparse_categorical_accuracy: 0.4066 - val_loss: 1.3791 - val_sparse_categorical_accuracy: 0.4291\n",
      "Epoch 87/100\n",
      "250/250 [==============================] - 9s 35ms/step - loss: 1.3975 - sparse_categorical_accuracy: 0.4218 - val_loss: 1.3825 - val_sparse_categorical_accuracy: 0.4263\n",
      "Epoch 88/100\n",
      "250/250 [==============================] - 9s 35ms/step - loss: 1.4120 - sparse_categorical_accuracy: 0.4213 - val_loss: 1.3952 - val_sparse_categorical_accuracy: 0.4115\n",
      "Epoch 89/100\n",
      "250/250 [==============================] - 9s 35ms/step - loss: 1.4046 - sparse_categorical_accuracy: 0.4178 - val_loss: 1.3878 - val_sparse_categorical_accuracy: 0.4131\n"
     ]
    },
    {
     "name": "stdout",
     "output_type": "stream",
     "text": [
      "Epoch 90/100\n",
      "250/250 [==============================] - 8s 34ms/step - loss: 1.3795 - sparse_categorical_accuracy: 0.4134 - val_loss: 1.3919 - val_sparse_categorical_accuracy: 0.4106\n",
      "Epoch 91/100\n",
      "250/250 [==============================] - 9s 34ms/step - loss: 1.4056 - sparse_categorical_accuracy: 0.4146 - val_loss: 1.3881 - val_sparse_categorical_accuracy: 0.4069\n",
      "Epoch 92/100\n",
      "250/250 [==============================] - 8s 34ms/step - loss: 1.4014 - sparse_categorical_accuracy: 0.4074 - val_loss: 1.3860 - val_sparse_categorical_accuracy: 0.4244\n",
      "Epoch 93/100\n",
      "250/250 [==============================] - 9s 35ms/step - loss: 1.4146 - sparse_categorical_accuracy: 0.4090 - val_loss: 1.3891 - val_sparse_categorical_accuracy: 0.4155\n",
      "Epoch 94/100\n",
      "250/250 [==============================] - 8s 34ms/step - loss: 1.4104 - sparse_categorical_accuracy: 0.4032 - val_loss: 1.3797 - val_sparse_categorical_accuracy: 0.4124\n",
      "Epoch 95/100\n",
      "250/250 [==============================] - 9s 35ms/step - loss: 1.4028 - sparse_categorical_accuracy: 0.4046 - val_loss: 1.3894 - val_sparse_categorical_accuracy: 0.4050\n",
      "Epoch 96/100\n",
      "250/250 [==============================] - 8s 33ms/step - loss: 1.3907 - sparse_categorical_accuracy: 0.4154 - val_loss: 1.3940 - val_sparse_categorical_accuracy: 0.4137\n",
      "Epoch 97/100\n",
      "250/250 [==============================] - 9s 35ms/step - loss: 1.4058 - sparse_categorical_accuracy: 0.4082 - val_loss: 1.3855 - val_sparse_categorical_accuracy: 0.4090\n",
      "Epoch 98/100\n",
      "250/250 [==============================] - 9s 34ms/step - loss: 1.4007 - sparse_categorical_accuracy: 0.4154 - val_loss: 1.4039 - val_sparse_categorical_accuracy: 0.4177\n",
      "Epoch 99/100\n",
      "250/250 [==============================] - 9s 36ms/step - loss: 1.3952 - sparse_categorical_accuracy: 0.4234 - val_loss: 1.3836 - val_sparse_categorical_accuracy: 0.4257\n",
      "Epoch 100/100\n",
      "250/250 [==============================] - 8s 34ms/step - loss: 1.3921 - sparse_categorical_accuracy: 0.4116 - val_loss: 1.3885 - val_sparse_categorical_accuracy: 0.4217\n"
     ]
    }
   ],
   "source": [
    "history = model.fit(X_train, y_train_class,         # Train the model using the training set...\n",
    "          batch_size=20, epochs=100,\n",
    "          verbose=1, validation_split=0.1,steps_per_epoch=250)  "
   ]
  },
  {
   "cell_type": "code",
   "execution_count": 30,
   "id": "5a298cd2",
   "metadata": {},
   "outputs": [
    {
     "name": "stdout",
     "output_type": "stream",
     "text": [
      "113/113 [==============================] - 1s 8ms/step - loss: 1.3948 - sparse_categorical_accuracy: 0.4139\n",
      "The final loss on the TEST set is: 1.39.\n",
      "The final sparse_categorical_accuracy on the TEST set is: 0.41.\n"
     ]
    },
    {
     "data": {
      "image/png": "[encoded data removed]",
      "text/plain": [
       "<Figure size 432x288 with 1 Axes>"
      ]
     },
     "metadata": {
      "needs_background": "light"
     },
     "output_type": "display_data"
    }
   ],
   "source": [
    "# --------------------------------------\n",
    "# Evaluation\n",
    "# --------------------------------------\n",
    "for loss_name, loss_value in list(zip(model.metrics_names, model.evaluate(X_test, y_test_class, verbose=1))):\n",
    "    print('The final {} on the TEST set is: {:.2f}.'.format(loss_name, loss_value)) # Evaluate the trained model on the test set!\n",
    "\n",
    "# --------------------------------------\n",
    "# Loss functions evolution\n",
    "# --------------------------------------\n",
    "plt.plot(history.history['loss'])\n",
    "plt.plot(history.history['val_loss'])\n",
    "plt.title('Model loss by epoch')\n",
    "plt.ylabel('loss')\n",
    "plt.xlabel('epoch')\n",
    "plt.legend(['train', 'valid'], loc='right')\n",
    "plt.show()"
   ]
  },
  {
   "cell_type": "markdown",
   "id": "d9c8b2e5",
   "metadata": {},
   "source": [
    "## Observation des résultats\n"
   ]
  },
  {
   "cell_type": "markdown",
   "id": "c41fb6e0",
   "metadata": {},
   "source": [
    "*Fonctions à charger*"
   ]
  },
  {
   "cell_type": "code",
   "execution_count": 31,
   "id": "e6196372",
   "metadata": {},
   "outputs": [],
   "source": [
    "def ViewClassResult(model,continuous=False):\n",
    "    if continuous:\n",
    "        y=model.predict(np.squeeze(X_test))\n",
    "        y_predicted = [np.argmax(pred) for pred in y]\n",
    "    else:\n",
    "        y_predicted=model.predict(np.squeeze(X_test))\n",
    "    \n",
    "    print(np.sum(y_predicted==y_test_class[:,0]),'/',len(y_predicted))\n",
    "    CM = confusion_matrix(y_test_class[:,0], y_predicted)\n",
    "    ConfusionMatrixDisplay(CM).plot()\n",
    "    \n",
    "def ShowFeatureImportances(model):\n",
    "    \"\"\"\n",
    "    Shows the feature importances for a given model\n",
    "    \"\"\"\n",
    "    importance = model.feature_importances_\n",
    "    for i,v in enumerate(importance):\n",
    "        print('Feature: %0d, Score: %.5f' % (i,v))\n",
    "\n",
    "    plt.bar([x for x in range(len(importance))], importance)\n",
    "    plt.show()"
   ]
  },
  {
   "cell_type": "markdown",
   "id": "d28b9552",
   "metadata": {},
   "source": [
    "*Résultats du réseau de neurones*"
   ]
  },
  {
   "cell_type": "code",
   "execution_count": 32,
   "id": "7a492505",
   "metadata": {},
   "outputs": [
    {
     "name": "stdout",
     "output_type": "stream",
     "text": [
      "1494 / 3610\n"
     ]
    },
    {
     "data": {
      "image/png": "[encoded data removed]",
      "text/plain": [
       "<Figure size 432x288 with 2 Axes>"
      ]
     },
     "metadata": {
      "needs_background": "light"
     },
     "output_type": "display_data"
    }
   ],
   "source": [
    "ViewClassResult(model,continuous=True)"
   ]
  },
  {
   "cell_type": "markdown",
   "id": "7a4b2eca",
   "metadata": {},
   "source": [
    "## b. One VS Rest "
   ]
  },
  {
   "cell_type": "code",
   "execution_count": 33,
   "id": "9b7327e4",
   "metadata": {},
   "outputs": [
    {
     "name": "stdout",
     "output_type": "stream",
     "text": [
      "0.5188365650969529\n"
     ]
    }
   ],
   "source": [
    "from sklearn.multiclass import OneVsRestClassifier\n",
    "from sklearn.svm import SVC\n",
    "\n",
    "#poly & degree=11\n",
    "\n",
    "OvR_clf = OneVsRestClassifier(SVC(kernel='poly',degree=3),n_jobs=-1).fit(X_train, y_train_class)\n",
    "\n",
    "\n",
    "print(OvR_clf.score(X_test,y_test_class))"
   ]
  },
  {
   "cell_type": "code",
   "execution_count": 34,
   "id": "182c7bc6",
   "metadata": {},
   "outputs": [
    {
     "name": "stdout",
     "output_type": "stream",
     "text": [
      "1873 / 3610\n"
     ]
    },
    {
     "data": {
      "image/png": "[encoded data removed]",
      "text/plain": [
       "<Figure size 432x288 with 2 Axes>"
      ]
     },
     "metadata": {
      "needs_background": "light"
     },
     "output_type": "display_data"
    }
   ],
   "source": [
    "ViewClassResult(OvR_clf)"
   ]
  },
  {
   "cell_type": "markdown",
   "id": "a758c523",
   "metadata": {},
   "source": [
    "## c. Random Forest"
   ]
  },
  {
   "cell_type": "code",
   "execution_count": 35,
   "id": "1b5bdd71",
   "metadata": {},
   "outputs": [
    {
     "name": "stdout",
     "output_type": "stream",
     "text": [
      "0.8102493074792244\n"
     ]
    },
    {
     "data": {
      "text/plain": [
       "\"\\n{'estimator__n_estimators': 800, \\n 'estimator__min_samples_split': 2, \\n 'estimator__min_samples_leaf': 1, \\n 'estimator__max_features': 'auto', \\n 'estimator__max_depth': 100, \\n 'estimator__bootstrap': True}\\n\""
      ]
     },
     "execution_count": 35,
     "metadata": {},
     "output_type": "execute_result"
    }
   ],
   "source": [
    "from sklearn.ensemble import RandomForestClassifier\n",
    "\n",
    "\n",
    "rf2_clf = RandomForestClassifier(n_estimators=800,\n",
    "                                     criterion='gini', #{“gini”, “entropy”}\n",
    "                                     max_depth=100, #default=None\n",
    "                                     min_samples_split=2, #int or float, default=2\n",
    "                                     random_state=42,\n",
    "                                     max_features='auto',\n",
    "                                     bootstrap=True,\n",
    "                                     min_samples_leaf=1\n",
    "                                    )\n",
    "\n",
    "rf2_clf.fit(X_train, np.ravel(y_train_class))\n",
    "\n",
    "\n",
    "\n",
    "print(rf2_clf.score(X_test,y_test_class))\n",
    "\"\"\"\n",
    "{'estimator__n_estimators': 800, \n",
    " 'estimator__min_samples_split': 2, \n",
    " 'estimator__min_samples_leaf': 1, \n",
    " 'estimator__max_features': 'auto', \n",
    " 'estimator__max_depth': 100, \n",
    " 'estimator__bootstrap': True}\n",
    "\"\"\""
   ]
  },
  {
   "cell_type": "code",
   "execution_count": 36,
   "id": "8ecb5152",
   "metadata": {},
   "outputs": [
    {
     "name": "stdout",
     "output_type": "stream",
     "text": [
      "2925 / 3610\n"
     ]
    },
    {
     "data": {
      "image/png": "[encoded data removed]",
      "text/plain": [
       "<Figure size 432x288 with 2 Axes>"
      ]
     },
     "metadata": {
      "needs_background": "light"
     },
     "output_type": "display_data"
    }
   ],
   "source": [
    "ViewClassResult(rf2_clf)"
   ]
  }
 ],
 "metadata": {
  "kernelspec": {
   "display_name": "Python 3",
   "language": "python",
   "name": "python3"
  },
  "language_info": {
   "codemirror_mode": {
    "name": "ipython",
    "version": 3
   },
   "file_extension": ".py",
   "mimetype": "text/x-python",
   "name": "python",
   "nbconvert_exporter": "python",
   "pygments_lexer": "ipython3",
   "version": "3.8.8"
  }
 },
 "nbformat": 4,
 "nbformat_minor": 5
}
