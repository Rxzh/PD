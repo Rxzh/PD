{
 "cells": [
  {
   "cell_type": "markdown",
   "metadata": {},
   "source": [
    "# Réseaux de neurones\n",
    "\n",
    "*http://exo7.emath.fr/cours/livre-deepmath.pdf* \n",
    "\n",
    "# 0. Chargement des modules et données"
   ]
  },
  {
   "cell_type": "code",
   "execution_count": 1,
   "metadata": {
    "scrolled": true
   },
   "outputs": [],
   "source": [
    "import pandas as pd \n",
    "import matplotlib.pyplot as plt\n",
    "import numpy as np\n",
    "from numpy.random import randn\n",
    "import tensorflow as tf\n",
    "\n",
    "from tensorflow.keras import Input\n",
    "from tensorflow.keras.models import Sequential\n",
    "from tensorflow.keras.layers import Dense, Dropout, Conv1D, Conv2D\n",
    "from tensorflow.keras.optimizers import SGD,Adam,Nadam,Adadelta\n",
    "from tensorflow import keras\n",
    "\n",
    "from sklearn import preprocessing, model_selection\n",
    "from sklearn.preprocessing import KBinsDiscretizer\n",
    "from sklearn.metrics import confusion_matrix, ConfusionMatrixDisplay"
   ]
  },
  {
   "cell_type": "code",
   "execution_count": 2,
   "metadata": {},
   "outputs": [
    {
     "data": {
      "text/plain": [
       "(48836, 24)"
      ]
     },
     "execution_count": 2,
     "metadata": {},
     "output_type": "execute_result"
    }
   ],
   "source": [
    "df = pd.read_csv('market_data_pd.csv',sep=',')\n",
    "df.shape"
   ]
  },
  {
   "cell_type": "code",
   "execution_count": 3,
   "metadata": {},
   "outputs": [
    {
     "data": {
      "text/html": [
       "<div>\n",
       "<style scoped>\n",
       "    .dataframe tbody tr th:only-of-type {\n",
       "        vertical-align: middle;\n",
       "    }\n",
       "\n",
       "    .dataframe tbody tr th {\n",
       "        vertical-align: top;\n",
       "    }\n",
       "\n",
       "    .dataframe thead th {\n",
       "        text-align: right;\n",
       "    }\n",
       "</style>\n",
       "<table border=\"1\" class=\"dataframe\">\n",
       "  <thead>\n",
       "    <tr style=\"text-align: right;\">\n",
       "      <th></th>\n",
       "      <th>Unnamed: 0</th>\n",
       "      <th>Reference Security</th>\n",
       "      <th>Bid Price</th>\n",
       "      <th>Ask Price</th>\n",
       "      <th>Mid Price</th>\n",
       "      <th>Cpn</th>\n",
       "      <th>Maturity</th>\n",
       "      <th>Common Eqty / Tot Assets</th>\n",
       "      <th>Debt / Common Equity</th>\n",
       "      <th>TCE Ratio</th>\n",
       "      <th>...</th>\n",
       "      <th>Amt Out</th>\n",
       "      <th>Total Assets</th>\n",
       "      <th>BCLASS Level 3</th>\n",
       "      <th>Guarantee Type</th>\n",
       "      <th>Guarantor Type</th>\n",
       "      <th>Collat Type</th>\n",
       "      <th>PD_1y</th>\n",
       "      <th>reprice</th>\n",
       "      <th>maturity_years</th>\n",
       "      <th>Error %</th>\n",
       "    </tr>\n",
       "  </thead>\n",
       "  <tbody>\n",
       "    <tr>\n",
       "      <th>0</th>\n",
       "      <td>0</td>\n",
       "      <td>AO644270 Corp</td>\n",
       "      <td>100.006</td>\n",
       "      <td>100.007</td>\n",
       "      <td>100.0065</td>\n",
       "      <td>0.000</td>\n",
       "      <td>08/16/2021</td>\n",
       "      <td>45.51750</td>\n",
       "      <td>70.1546</td>\n",
       "      <td>-235.69200</td>\n",
       "      <td>...</td>\n",
       "      <td>1.100000e+09</td>\n",
       "      <td>137690.0</td>\n",
       "      <td>Consumer Non-Cyclical</td>\n",
       "      <td>Multiple</td>\n",
       "      <td>Parent &amp; Subsidiaries</td>\n",
       "      <td>COMPANY GUARNT</td>\n",
       "      <td>0.000205</td>\n",
       "      <td>100.0065</td>\n",
       "      <td>0.013699</td>\n",
       "      <td>1.420993e-14</td>\n",
       "    </tr>\n",
       "    <tr>\n",
       "      <th>1</th>\n",
       "      <td>1</td>\n",
       "      <td>AM515270 Corp</td>\n",
       "      <td>100.003</td>\n",
       "      <td>100.180</td>\n",
       "      <td>100.0915</td>\n",
       "      <td>2.500</td>\n",
       "      <td>08/21/2021</td>\n",
       "      <td>-128.07200</td>\n",
       "      <td>NaN</td>\n",
       "      <td>-130.83000</td>\n",
       "      <td>...</td>\n",
       "      <td>1.750000e+09</td>\n",
       "      <td>1905530.0</td>\n",
       "      <td>Government Owned. No Guarantee</td>\n",
       "      <td>Multiple</td>\n",
       "      <td>Subsidiaries</td>\n",
       "      <td>COMPANY GUARNT</td>\n",
       "      <td>0.039468</td>\n",
       "      <td>100.0915</td>\n",
       "      <td>0.027397</td>\n",
       "      <td>1.419786e-14</td>\n",
       "    </tr>\n",
       "    <tr>\n",
       "      <th>2</th>\n",
       "      <td>2</td>\n",
       "      <td>JK150270 Corp</td>\n",
       "      <td>100.016</td>\n",
       "      <td>100.017</td>\n",
       "      <td>100.0165</td>\n",
       "      <td>0.750</td>\n",
       "      <td>08/24/2021</td>\n",
       "      <td>5.65522</td>\n",
       "      <td>526.9240</td>\n",
       "      <td>5.41231</td>\n",
       "      <td>...</td>\n",
       "      <td>1.000000e+09</td>\n",
       "      <td>3040430.0</td>\n",
       "      <td>Banking</td>\n",
       "      <td>N.A.</td>\n",
       "      <td>N.A.</td>\n",
       "      <td>SR UNSECURED</td>\n",
       "      <td>0.012445</td>\n",
       "      <td>100.0165</td>\n",
       "      <td>0.035616</td>\n",
       "      <td>0.000000e+00</td>\n",
       "    </tr>\n",
       "    <tr>\n",
       "      <th>3</th>\n",
       "      <td>3</td>\n",
       "      <td>JK189339 Corp</td>\n",
       "      <td>100.018</td>\n",
       "      <td>100.032</td>\n",
       "      <td>100.0250</td>\n",
       "      <td>1.250</td>\n",
       "      <td>08/25/2021</td>\n",
       "      <td>35.98800</td>\n",
       "      <td>121.4250</td>\n",
       "      <td>2.22137</td>\n",
       "      <td>...</td>\n",
       "      <td>6.060820e+08</td>\n",
       "      <td>155063.0</td>\n",
       "      <td>Communications</td>\n",
       "      <td>N.A.</td>\n",
       "      <td>N.A.</td>\n",
       "      <td>SR UNSECURED</td>\n",
       "      <td>0.020474</td>\n",
       "      <td>100.0250</td>\n",
       "      <td>0.038356</td>\n",
       "      <td>0.000000e+00</td>\n",
       "    </tr>\n",
       "    <tr>\n",
       "      <th>4</th>\n",
       "      <td>4</td>\n",
       "      <td>BG186989 Corp</td>\n",
       "      <td>100.011</td>\n",
       "      <td>100.013</td>\n",
       "      <td>100.0120</td>\n",
       "      <td>0.062</td>\n",
       "      <td>08/27/2021</td>\n",
       "      <td>5.71381</td>\n",
       "      <td>619.0800</td>\n",
       "      <td>5.24664</td>\n",
       "      <td>...</td>\n",
       "      <td>1.500000e+09</td>\n",
       "      <td>809688.0</td>\n",
       "      <td>Banking</td>\n",
       "      <td>N.A.</td>\n",
       "      <td>N.A.</td>\n",
       "      <td>SR UNSECURED</td>\n",
       "      <td>0.001146</td>\n",
       "      <td>100.0120</td>\n",
       "      <td>0.043836</td>\n",
       "      <td>2.841830e-14</td>\n",
       "    </tr>\n",
       "  </tbody>\n",
       "</table>\n",
       "<p>5 rows × 24 columns</p>\n",
       "</div>"
      ],
      "text/plain": [
       "   Unnamed: 0 Reference Security  Bid Price  Ask Price  Mid Price    Cpn  \\\n",
       "0           0      AO644270 Corp    100.006    100.007   100.0065  0.000   \n",
       "1           1      AM515270 Corp    100.003    100.180   100.0915  2.500   \n",
       "2           2      JK150270 Corp    100.016    100.017   100.0165  0.750   \n",
       "3           3      JK189339 Corp    100.018    100.032   100.0250  1.250   \n",
       "4           4      BG186989 Corp    100.011    100.013   100.0120  0.062   \n",
       "\n",
       "     Maturity  Common Eqty / Tot Assets  Debt / Common Equity  TCE Ratio  ...  \\\n",
       "0  08/16/2021                  45.51750               70.1546 -235.69200  ...   \n",
       "1  08/21/2021                -128.07200                   NaN -130.83000  ...   \n",
       "2  08/24/2021                   5.65522              526.9240    5.41231  ...   \n",
       "3  08/25/2021                  35.98800              121.4250    2.22137  ...   \n",
       "4  08/27/2021                   5.71381              619.0800    5.24664  ...   \n",
       "\n",
       "        Amt Out  Total Assets                  BCLASS Level 3  Guarantee Type  \\\n",
       "0  1.100000e+09      137690.0           Consumer Non-Cyclical        Multiple   \n",
       "1  1.750000e+09     1905530.0  Government Owned. No Guarantee        Multiple   \n",
       "2  1.000000e+09     3040430.0                         Banking            N.A.   \n",
       "3  6.060820e+08      155063.0                  Communications            N.A.   \n",
       "4  1.500000e+09      809688.0                         Banking            N.A.   \n",
       "\n",
       "          Guarantor Type     Collat Type     PD_1y   reprice maturity_years  \\\n",
       "0  Parent & Subsidiaries  COMPANY GUARNT  0.000205  100.0065       0.013699   \n",
       "1           Subsidiaries  COMPANY GUARNT  0.039468  100.0915       0.027397   \n",
       "2                   N.A.    SR UNSECURED  0.012445  100.0165       0.035616   \n",
       "3                   N.A.    SR UNSECURED  0.020474  100.0250       0.038356   \n",
       "4                   N.A.    SR UNSECURED  0.001146  100.0120       0.043836   \n",
       "\n",
       "        Error %  \n",
       "0  1.420993e-14  \n",
       "1  1.419786e-14  \n",
       "2  0.000000e+00  \n",
       "3  0.000000e+00  \n",
       "4  2.841830e-14  \n",
       "\n",
       "[5 rows x 24 columns]"
      ]
     },
     "execution_count": 3,
     "metadata": {},
     "output_type": "execute_result"
    }
   ],
   "source": [
    "df.head()"
   ]
  },
  {
   "cell_type": "code",
   "execution_count": 4,
   "metadata": {},
   "outputs": [
    {
     "data": {
      "text/plain": [
       "Index(['Unnamed: 0', 'Reference Security', 'Bid Price', 'Ask Price',\n",
       "       'Mid Price', 'Cpn', 'Maturity', 'Common Eqty / Tot Assets',\n",
       "       'Debt / Common Equity', 'TCE Ratio', 'Tot Debt / Tot Capital',\n",
       "       'Tot Cap (Local Crncy)', 'Is Covered', 'Is Convertible', 'Amt Out',\n",
       "       'Total Assets', 'BCLASS Level 3', 'Guarantee Type', 'Guarantor Type',\n",
       "       'Collat Type', 'PD_1y', 'reprice', 'maturity_years', 'Error %'],\n",
       "      dtype='object')"
      ]
     },
     "execution_count": 4,
     "metadata": {},
     "output_type": "execute_result"
    }
   ],
   "source": [
    "df = df[df.PD_1y>0.0]\n",
    "df = df[df.PD_1y!=1.0]\n",
    "\n",
    "df.columns"
   ]
  },
  {
   "cell_type": "code",
   "execution_count": 5,
   "metadata": {},
   "outputs": [],
   "source": [
    "def count_nan(df):\n",
    "    for col_name in df.columns:\n",
    "        n_nan = df[col_name].isna().sum()\n",
    "        if n_nan > 0:\n",
    "            print(\"Colomn : \", col_name)  \n",
    "            print(\"NaN : {}/{}\".format(n_nan,len(df[col_name])))\n",
    "            print(\"===============================================\")"
   ]
  },
  {
   "cell_type": "code",
   "execution_count": 6,
   "metadata": {},
   "outputs": [
    {
     "name": "stdout",
     "output_type": "stream",
     "text": [
      "Colomn :  Common Eqty / Tot Assets\n",
      "NaN : 1766/44445\n",
      "===============================================\n",
      "Colomn :  Debt / Common Equity\n",
      "NaN : 2579/44445\n",
      "===============================================\n",
      "Colomn :  TCE Ratio\n",
      "NaN : 2471/44445\n",
      "===============================================\n",
      "Colomn :  Tot Debt / Tot Capital\n",
      "NaN : 2016/44445\n",
      "===============================================\n",
      "Colomn :  Tot Cap (Local Crncy)\n",
      "NaN : 2014/44445\n",
      "===============================================\n",
      "Colomn :  Total Assets\n",
      "NaN : 2361/44445\n",
      "===============================================\n",
      "Colomn :  Guarantee Type\n",
      "NaN : 20/44445\n",
      "===============================================\n",
      "Colomn :  Guarantor Type\n",
      "NaN : 20/44445\n",
      "===============================================\n"
     ]
    }
   ],
   "source": [
    "count_nan(df)"
   ]
  },
  {
   "cell_type": "code",
   "execution_count": 7,
   "metadata": {},
   "outputs": [],
   "source": [
    "#RENSEIGNER LES RATIOS FINANCIERS / VARIABLES CONSIDEREES \n",
    "\n",
    "#df1 = df[[\"Common Eqty / Tot Assets\",'Debt / Common Equity','Tot Debt / Tot Capital','BCLASS Level 3',\"TCE Ratio\",\"PD_1y\"]]\n",
    "df1 = df[['Common Eqty / Tot Assets','TCE Ratio','Tot Debt / Tot Capital','Tot Cap (Local Crncy)','Is Covered','Is Convertible','Amt Out','BCLASS Level 3', 'Guarantee Type','Total Assets', 'Guarantor Type', 'Collat Type','Debt / Common Equity','PD_1y']]\n",
    "df1 = df1[df1['Debt / Common Equity']<2500]\n",
    "df1 = df1[df1['TCE Ratio']>-100]\n",
    "#df1.replace(np.nan, 0.0,inplace=True)\n",
    "df1.dropna(inplace=True)\n",
    "count_nan(df1)"
   ]
  },
  {
   "cell_type": "code",
   "execution_count": 8,
   "metadata": {},
   "outputs": [
    {
     "data": {
      "text/html": [
       "<div>\n",
       "<style scoped>\n",
       "    .dataframe tbody tr th:only-of-type {\n",
       "        vertical-align: middle;\n",
       "    }\n",
       "\n",
       "    .dataframe tbody tr th {\n",
       "        vertical-align: top;\n",
       "    }\n",
       "\n",
       "    .dataframe thead th {\n",
       "        text-align: right;\n",
       "    }\n",
       "</style>\n",
       "<table border=\"1\" class=\"dataframe\">\n",
       "  <thead>\n",
       "    <tr style=\"text-align: right;\">\n",
       "      <th></th>\n",
       "      <th>Common Eqty / Tot Assets</th>\n",
       "      <th>TCE Ratio</th>\n",
       "      <th>Tot Debt / Tot Capital</th>\n",
       "      <th>Tot Cap (Local Crncy)</th>\n",
       "      <th>Is Covered</th>\n",
       "      <th>Is Convertible</th>\n",
       "      <th>Amt Out</th>\n",
       "      <th>BCLASS Level 3</th>\n",
       "      <th>Guarantee Type</th>\n",
       "      <th>Total Assets</th>\n",
       "      <th>Guarantor Type</th>\n",
       "      <th>Collat Type</th>\n",
       "      <th>Debt / Common Equity</th>\n",
       "      <th>PD_1y</th>\n",
       "    </tr>\n",
       "  </thead>\n",
       "  <tbody>\n",
       "    <tr>\n",
       "      <th>2</th>\n",
       "      <td>5.65522</td>\n",
       "      <td>5.41231</td>\n",
       "      <td>84.0491</td>\n",
       "      <td>1077950.0</td>\n",
       "      <td>False</td>\n",
       "      <td>False</td>\n",
       "      <td>1.000000e+09</td>\n",
       "      <td>Banking</td>\n",
       "      <td>N.A.</td>\n",
       "      <td>3040430.0</td>\n",
       "      <td>N.A.</td>\n",
       "      <td>SR UNSECURED</td>\n",
       "      <td>526.924</td>\n",
       "      <td>0.012445</td>\n",
       "    </tr>\n",
       "    <tr>\n",
       "      <th>3</th>\n",
       "      <td>35.98800</td>\n",
       "      <td>2.22137</td>\n",
       "      <td>53.9594</td>\n",
       "      <td>125576.0</td>\n",
       "      <td>False</td>\n",
       "      <td>False</td>\n",
       "      <td>6.060820e+08</td>\n",
       "      <td>Communications</td>\n",
       "      <td>N.A.</td>\n",
       "      <td>155063.0</td>\n",
       "      <td>N.A.</td>\n",
       "      <td>SR UNSECURED</td>\n",
       "      <td>121.425</td>\n",
       "      <td>0.020474</td>\n",
       "    </tr>\n",
       "    <tr>\n",
       "      <th>4</th>\n",
       "      <td>5.71381</td>\n",
       "      <td>5.24664</td>\n",
       "      <td>85.8881</td>\n",
       "      <td>333470.0</td>\n",
       "      <td>False</td>\n",
       "      <td>False</td>\n",
       "      <td>1.500000e+09</td>\n",
       "      <td>Banking</td>\n",
       "      <td>N.A.</td>\n",
       "      <td>809688.0</td>\n",
       "      <td>N.A.</td>\n",
       "      <td>SR UNSECURED</td>\n",
       "      <td>619.080</td>\n",
       "      <td>0.001146</td>\n",
       "    </tr>\n",
       "    <tr>\n",
       "      <th>5</th>\n",
       "      <td>23.50830</td>\n",
       "      <td>19.21360</td>\n",
       "      <td>63.4410</td>\n",
       "      <td>151388.0</td>\n",
       "      <td>False</td>\n",
       "      <td>False</td>\n",
       "      <td>6.000000e+08</td>\n",
       "      <td>Consumer Cyclical</td>\n",
       "      <td>Single</td>\n",
       "      <td>235381.0</td>\n",
       "      <td>Parent</td>\n",
       "      <td>COMPANY GUARNT</td>\n",
       "      <td>173.568</td>\n",
       "      <td>0.001179</td>\n",
       "    </tr>\n",
       "    <tr>\n",
       "      <th>6</th>\n",
       "      <td>4.54799</td>\n",
       "      <td>3.85114</td>\n",
       "      <td>85.6341</td>\n",
       "      <td>226753.0</td>\n",
       "      <td>False</td>\n",
       "      <td>False</td>\n",
       "      <td>1.100000e+09</td>\n",
       "      <td>Banking</td>\n",
       "      <td>N.A.</td>\n",
       "      <td>627244.0</td>\n",
       "      <td>N.A.</td>\n",
       "      <td>SR UNSECURED</td>\n",
       "      <td>680.681</td>\n",
       "      <td>0.002144</td>\n",
       "    </tr>\n",
       "  </tbody>\n",
       "</table>\n",
       "</div>"
      ],
      "text/plain": [
       "   Common Eqty / Tot Assets  TCE Ratio  Tot Debt / Tot Capital  \\\n",
       "2                   5.65522    5.41231                 84.0491   \n",
       "3                  35.98800    2.22137                 53.9594   \n",
       "4                   5.71381    5.24664                 85.8881   \n",
       "5                  23.50830   19.21360                 63.4410   \n",
       "6                   4.54799    3.85114                 85.6341   \n",
       "\n",
       "   Tot Cap (Local Crncy)  Is Covered  Is Convertible       Amt Out  \\\n",
       "2              1077950.0       False           False  1.000000e+09   \n",
       "3               125576.0       False           False  6.060820e+08   \n",
       "4               333470.0       False           False  1.500000e+09   \n",
       "5               151388.0       False           False  6.000000e+08   \n",
       "6               226753.0       False           False  1.100000e+09   \n",
       "\n",
       "      BCLASS Level 3 Guarantee Type  Total Assets Guarantor Type  \\\n",
       "2            Banking           N.A.     3040430.0           N.A.   \n",
       "3     Communications           N.A.      155063.0           N.A.   \n",
       "4            Banking           N.A.      809688.0           N.A.   \n",
       "5  Consumer Cyclical         Single      235381.0         Parent   \n",
       "6            Banking           N.A.      627244.0           N.A.   \n",
       "\n",
       "      Collat Type  Debt / Common Equity     PD_1y  \n",
       "2    SR UNSECURED               526.924  0.012445  \n",
       "3    SR UNSECURED               121.425  0.020474  \n",
       "4    SR UNSECURED               619.080  0.001146  \n",
       "5  COMPANY GUARNT               173.568  0.001179  \n",
       "6    SR UNSECURED               680.681  0.002144  "
      ]
     },
     "execution_count": 8,
     "metadata": {},
     "output_type": "execute_result"
    }
   ],
   "source": [
    "#df1 = df1.dropna(how = 'any') \n",
    "df1.head()"
   ]
  },
  {
   "cell_type": "code",
   "execution_count": 9,
   "metadata": {},
   "outputs": [
    {
     "data": {
      "text/plain": [
       "(36781, 14)"
      ]
     },
     "execution_count": 9,
     "metadata": {},
     "output_type": "execute_result"
    }
   ],
   "source": [
    "df1.shape"
   ]
  },
  {
   "cell_type": "code",
   "execution_count": 10,
   "metadata": {},
   "outputs": [
    {
     "data": {
      "text/plain": [
       "(3657, 14)"
      ]
     },
     "execution_count": 10,
     "metadata": {},
     "output_type": "execute_result"
    }
   ],
   "source": [
    "df1 = df1.drop_duplicates(subset=df1.columns.difference(['PD_1y']))\n",
    "df1.shape"
   ]
  },
  {
   "cell_type": "markdown",
   "metadata": {},
   "source": [
    "# 1. Préparation des données"
   ]
  },
  {
   "cell_type": "markdown",
   "metadata": {},
   "source": [
    "Nous commencerons par séparer les données non étiquietées des étiquettes, les étiquettes se trouvent dans l'array `y_full` et le reste des données dans `X_full`"
   ]
  },
  {
   "cell_type": "code",
   "execution_count": 11,
   "metadata": {},
   "outputs": [],
   "source": [
    "X_full = np.array(df1.drop(columns=['PD_1y']))\n",
    "y_full = np.array(df1['PD_1y'])"
   ]
  },
  {
   "cell_type": "code",
   "execution_count": null,
   "metadata": {},
   "outputs": [],
   "source": []
  },
  {
   "cell_type": "markdown",
   "metadata": {},
   "source": [
    "La prochaine étape consiste à séparer les features continues des features discrètes, cela sera utile car leurs traitements seront différent"
   ]
  },
  {
   "cell_type": "code",
   "execution_count": 12,
   "metadata": {},
   "outputs": [],
   "source": [
    "features = list(df1.drop(columns=['PD_1y']).columns)\n",
    "\n",
    "discrete_features = ['BCLASS Level 3','Guarantee Type','Guarantor Type','Collat Type','Is Covered','Is Convertible']\n",
    "continuous_features = [s for s in features if not s in discrete_features]\n",
    "\n",
    "\n",
    "continuous_features_idx = [features.index(feat_name) for feat_name in continuous_features]\n",
    "discrete_features_idx = [features.index(feat_name) for feat_name in discrete_features]"
   ]
  },
  {
   "cell_type": "markdown",
   "metadata": {},
   "source": [
    "## a. Statistiques descriptives"
   ]
  },
  {
   "cell_type": "code",
   "execution_count": 13,
   "metadata": {},
   "outputs": [
    {
     "data": {
      "image/png": "[encoded data removed]",
      "text/plain": [
       "<Figure size 1008x720 with 7 Axes>"
      ]
     },
     "metadata": {
      "needs_background": "light"
     },
     "output_type": "display_data"
    }
   ],
   "source": [
    "fig = plt.figure(figsize=(14,10))\n",
    "\n",
    "# Histograms for continuous features\n",
    "for (plot_idx, feat_idx) in enumerate(continuous_features_idx):\n",
    "\n",
    "    # create a subplot in the (plot_idx+1) position of a 2x2 grid\n",
    "    ax = fig.add_subplot(8, 2, (plot_idx+1))\n",
    "    # plot the histogram of feat_idx\n",
    "    h = ax.hist(X_full[:, feat_idx], bins=30, edgecolor='black')\n",
    "    # use the name of the feature as a title for each histogram\n",
    "    ax.set_title(features[feat_idx])\n",
    "# espacement entre les subplots\n",
    "fig.tight_layout(pad=0.1)"
   ]
  },
  {
   "cell_type": "code",
   "execution_count": null,
   "metadata": {},
   "outputs": [],
   "source": []
  },
  {
   "cell_type": "code",
   "execution_count": 14,
   "metadata": {
    "scrolled": true
   },
   "outputs": [
    {
     "data": {
      "image/png": "[encoded data removed]",
      "text/plain": [
       "<Figure size 1152x1440 with 6 Axes>"
      ]
     },
     "metadata": {
      "needs_background": "light"
     },
     "output_type": "display_data"
    }
   ],
   "source": [
    "# Bar plots for discrete features\n",
    "fig = plt.figure(figsize=(16, 20))\n",
    "\n",
    "for (plot_idx, feat_idx) in enumerate(discrete_features_idx):\n",
    "    # create a subplot in the (plot_idx+1) position of a 1x3 grid\n",
    "    ax = fig.add_subplot(7, 1, (plot_idx+1))\n",
    "\n",
    "    feature_values = np.unique(X_full[:, feat_idx])\n",
    "    frequencies = [(float(len(np.where(X_full[:, feat_idx]==value)[0]))/X_full.shape[0]) \\\n",
    "                   for value in feature_values]\n",
    "    \n",
    "    b = ax.bar(range(len(feature_values)), frequencies, width=0.8, \n",
    "               tick_label=list([n for n in feature_values]))\n",
    "    \n",
    "    \n",
    "    # use the name of the feature as a title for each histogram\n",
    "    ax.set_title(features[feat_idx])\n",
    "    \n",
    "fig.tight_layout(pad=0.15)"
   ]
  },
  {
   "cell_type": "markdown",
   "metadata": {},
   "source": [
    "## b. Traitement des données"
   ]
  },
  {
   "cell_type": "code",
   "execution_count": 15,
   "metadata": {},
   "outputs": [],
   "source": [
    "## A FAIRE COMME CELA :\n",
    "\"\"\"\n",
    "from sklearn.preprocessing import OneHotEncoder\n",
    "\n",
    "enc = OneHotEncoder(handle_unknown='ignore')\n",
    "enc.fit(X_train_submit)\n",
    "\n",
    "X_train_submit = enc.transform(X_train_submit)\n",
    "X_test_submit = enc.transform(X_test_submit)\n",
    "\n",
    "\"\"\"\n",
    "\n",
    "\n",
    "\n",
    "class Pipeline:\n",
    "    def __init__(self, X_train, X_full = None):\n",
    "        \"\"\"\n",
    "        Se fit sur le jeu de TRAIN, une seule fois\n",
    "        \"\"\"\n",
    "        self.ohe = preprocessing.OneHotEncoder(categories='auto',sparse=False).fit(X_full[:,discrete_features_idx])\n",
    "        self.std_scaler = preprocessing.StandardScaler().fit(X_train[:,continuous_features_idx])\n",
    "        print(self.ohe.categories_)\n",
    "        \n",
    "    def traitement(self,X, keep='all'):\n",
    "        \"\"\"\n",
    "        Permet de traiter n'importe quel vecteur X ensuite\n",
    "        \"\"\"\n",
    "    \n",
    "        X_continuous_scaled = self.std_scaler.transform(X[:,continuous_features_idx])\n",
    "        X_discrete_encoded = self.ohe.transform(X[:,discrete_features_idx])\n",
    "        print('moyenne = {}'.format(np.mean(X_continuous_scaled)))\n",
    "        \n",
    "        \n",
    "        X_processed = np.hstack((X_discrete_encoded, X_continuous_scaled))\n",
    "        \n",
    "        if keep=='all':\n",
    "            return X_processed\n",
    "        \n",
    "        elif keep=='continuous':\n",
    "            return X_continuous_scaled"
   ]
  },
  {
   "cell_type": "code",
   "execution_count": 16,
   "metadata": {},
   "outputs": [
    {
     "name": "stdout",
     "output_type": "stream",
     "text": [
      "[array(['Banking', 'Basic Industry', 'Brokerage Assetmanagers Exchanges',\n",
      "       'Capital Goods', 'Communications', 'Consumer Cyclical',\n",
      "       'Consumer Non-Cyclical', 'Electric', 'Energy', 'Finance Companies',\n",
      "       'Government Guaranteed', 'Government Owned. No Guarantee',\n",
      "       'Government Sponsored', 'Hybrid', 'Insurance', 'Local Authority',\n",
      "       'Mortgage Assets', 'Natural Gas', 'Other Financial',\n",
      "       'Other Industrial', 'Other Utility', 'Public Sector Loans',\n",
      "       'REITs', 'Supranational', 'Technology', 'Transportation',\n",
      "       'Whole Business'], dtype=object), array(['Cross Guarantee', 'Multiple', 'N.A.', 'Single'], dtype=object), array(['Bank', 'Company', 'Domestic Restricted Subsidiar',\n",
      "       'Local Government', 'N.A.', 'National/Sovereign Government',\n",
      "       'Other Subsidiary of Parent', 'Parent', 'Parent & Subsidiaries',\n",
      "       'Subsidiaries'], dtype=object), array(['BONDS', 'COMPANY GUARNT', 'COVERED', 'GOVT GUARANTEED',\n",
      "       'GOVT LIQUID GTD', 'INSURED', 'JR SUBORDINATED',\n",
      "       'JUMBO PFANDBRIEF', 'LOCAL GOVT GUARN', 'PFANDBRIEFE', 'SECURED',\n",
      "       'SR SECURED', 'SR SUBORDINATED', 'SR UNSECURED', 'SUBORDINATED',\n",
      "       'UNSECURED'], dtype=object), array([False, True], dtype=object), array([False, True], dtype=object)]\n",
      "moyenne = 2.5677250836492747e-17\n",
      "moyenne = -0.003427440899887592\n"
     ]
    }
   ],
   "source": [
    "X_train, X_test_, y_train, y_test = model_selection.train_test_split(X_full, y_full, test_size=0.1,\n",
    "                                                                    #stratify=y_full, # stratification\n",
    "                                                                    random_state=92)\n",
    "\n",
    "pipe = Pipeline(X_train,X_full)\n",
    "X_train = pipe.traitement(X_train)\n",
    "X_test  = pipe.traitement(X_test_)"
   ]
  },
  {
   "cell_type": "markdown",
   "metadata": {},
   "source": [
    "## b. Traitement des données"
   ]
  },
  {
   "cell_type": "markdown",
   "metadata": {},
   "source": [
    "### Première version de traitement des données (beug sur subtilité bases de train/test)"
   ]
  },
  {
   "cell_type": "markdown",
   "metadata": {},
   "source": [
    "### Version corrigée (à rechercker)"
   ]
  },
  {
   "cell_type": "markdown",
   "metadata": {},
   "source": [
    "Séparation en base de test / train. Besoin de distinguer les cas selon le type de variables : \n",
    "\n",
    "$-$ variables quali : les binariser avant de séparer en test et train afin d'avoir des colonnes pour toutes les modalités existantes dans le dataset. \n",
    "\n",
    "$-$ variable quanti : il faut les standariser en fonction de la base de train, càd : on entraîne la standardisation QUE sur la base de train, puis on applique les coefficients à la base de test également. Important, **sinon notre base de train dépend de la base de test**."
   ]
  },
  {
   "cell_type": "markdown",
   "metadata": {},
   "source": [
    "*Transformation des qualis*"
   ]
  },
  {
   "cell_type": "markdown",
   "metadata": {},
   "source": [
    "# II. Réseaux de neurones : prédiction de la PD\n",
    "\n",
    "## a. Implémentation du modèle"
   ]
  },
  {
   "cell_type": "code",
   "execution_count": 17,
   "metadata": {},
   "outputs": [
    {
     "data": {
      "text/plain": [
       "(3291, 68)"
      ]
     },
     "execution_count": 17,
     "metadata": {},
     "output_type": "execute_result"
    }
   ],
   "source": [
    "X_train.shape\n",
    "#RESEAUX DE NEURONES \n",
    "#http://eric.univ-lyon2.fr/~ricco/tanagra/fichiers/fr_Tanagra_Packages_Python_for_Deep_Learning.pdf\n",
    "\n",
    "#Explications très bien dans ce document : \n",
    "\n",
    "#http://exo7.emath.fr/cours/livre-deepmath.pdf \n",
    "\n",
    "#très bon document (parties Python, keras avec les codes et explications)"
   ]
  },
  {
   "cell_type": "code",
   "execution_count": 22,
   "metadata": {},
   "outputs": [],
   "source": [
    "model = Sequential()\n",
    "model.add(Dense(units=140,input_dim=68,))#activation=\"sigmoid\")) #6 is good\n",
    "model.add(Dense(units=2000))\n",
    "model.add(Dense(units=2000))\n",
    "model.add(Dense(units=2000))\n",
    "model.add(Dense(units=2000))\n",
    "model.add(Dense(units=2000))\n",
    "\n",
    "\n",
    "model.add(Dense(units=1,activation=\"sigmoid\"))\n",
    "model.add(Dropout(0.3))\n",
    "learning_rate = 1e-6 # 0.0001\n",
    "\n",
    "sgd = SGD(learning_rate)  #lr = 0.02\n",
    "adam = Adam(learning_rate) #lr = 0.001\n",
    "\n",
    "#nadam = Nadam(lr=0.0005, beta_1=0.9, beta_2=0.999)\n",
    "\n",
    "#dim première couche = nombre de variables du df "
   ]
  },
  {
   "cell_type": "markdown",
   "metadata": {},
   "source": [
    "**Fonction sigmoïde :** continue et à valeurs dans [0,1] (comme les probabilités de défaut). Régression logit. "
   ]
  },
  {
   "cell_type": "code",
   "execution_count": 23,
   "metadata": {},
   "outputs": [],
   "source": [
    "#modele.compile(loss='mean_squared_error',optimizer=sgd,metrics=[tf.keras.metrics.MeanSquaredError()])\n",
    "#optimizer = sgd\n",
    "#model.compile(loss='mean_squared_error',optimizer='adam',metrics=[tf.keras.metrics.MeanSquaredError()])\n",
    "#model.compile(loss=tf.keras.losses.Huber(delta=.05),optimizer=sgd,metrics=[tf.keras.metrics.MeanSquaredError()])\n",
    "model.compile(loss='mean_absolute_error',optimizer=adam,metrics=[tf.keras.metrics.MeanAbsoluteError()])"
   ]
  },
  {
   "cell_type": "code",
   "execution_count": 24,
   "metadata": {},
   "outputs": [
    {
     "name": "stdout",
     "output_type": "stream",
     "text": [
      "Model: \"sequential_2\"\n",
      "_________________________________________________________________\n",
      "Layer (type)                 Output Shape              Param #   \n",
      "=================================================================\n",
      "dense_10 (Dense)             (None, 140)               9660      \n",
      "_________________________________________________________________\n",
      "dense_11 (Dense)             (None, 2000)              282000    \n",
      "_________________________________________________________________\n",
      "dense_12 (Dense)             (None, 2000)              4002000   \n",
      "_________________________________________________________________\n",
      "dense_13 (Dense)             (None, 2000)              4002000   \n",
      "_________________________________________________________________\n",
      "dense_14 (Dense)             (None, 2000)              4002000   \n",
      "_________________________________________________________________\n",
      "dense_15 (Dense)             (None, 2000)              4002000   \n",
      "_________________________________________________________________\n",
      "dense_16 (Dense)             (None, 1)                 2001      \n",
      "_________________________________________________________________\n",
      "dropout_2 (Dropout)          (None, 1)                 0         \n",
      "=================================================================\n",
      "Total params: 16,301,661\n",
      "Trainable params: 16,301,661\n",
      "Non-trainable params: 0\n",
      "_________________________________________________________________\n",
      "None\n"
     ]
    }
   ],
   "source": [
    "print(model.summary())"
   ]
  },
  {
   "cell_type": "code",
   "execution_count": 25,
   "metadata": {},
   "outputs": [
    {
     "name": "stdout",
     "output_type": "stream",
     "text": [
      "Epoch 1/20\n",
      "80/80 [==============================] - 4s 47ms/step - loss: 0.3372 - mean_absolute_error: 0.3372 - val_loss: 0.1699 - val_mean_absolute_error: 0.1699\n",
      "Epoch 2/20\n",
      "80/80 [==============================] - 3s 44ms/step - loss: 0.1083 - mean_absolute_error: 0.1083 - val_loss: 0.0529 - val_mean_absolute_error: 0.0529\n",
      "Epoch 3/20\n",
      "80/80 [==============================] - 3s 44ms/step - loss: 0.0428 - mean_absolute_error: 0.0428 - val_loss: 0.0266 - val_mean_absolute_error: 0.0266\n",
      "Epoch 4/20\n",
      "80/80 [==============================] - 4s 44ms/step - loss: 0.0280 - mean_absolute_error: 0.0280 - val_loss: 0.0199 - val_mean_absolute_error: 0.0199\n",
      "Epoch 5/20\n",
      "80/80 [==============================] - 3s 44ms/step - loss: 0.0245 - mean_absolute_error: 0.0245 - val_loss: 0.0179 - val_mean_absolute_error: 0.0179\n",
      "Epoch 6/20\n",
      "80/80 [==============================] - 4s 45ms/step - loss: 0.0208 - mean_absolute_error: 0.0208 - val_loss: 0.0171 - val_mean_absolute_error: 0.0171\n",
      "Epoch 7/20\n",
      "80/80 [==============================] - 4s 47ms/step - loss: 0.0203 - mean_absolute_error: 0.0203 - val_loss: 0.0165 - val_mean_absolute_error: 0.0165\n",
      "Epoch 8/20\n",
      "80/80 [==============================] - 4s 46ms/step - loss: 0.0203 - mean_absolute_error: 0.0203 - val_loss: 0.0161 - val_mean_absolute_error: 0.0161\n",
      "Epoch 9/20\n",
      "80/80 [==============================] - 4s 45ms/step - loss: 0.0204 - mean_absolute_error: 0.0204 - val_loss: 0.0158 - val_mean_absolute_error: 0.0158\n",
      "Epoch 10/20\n",
      "80/80 [==============================] - 4s 45ms/step - loss: 0.0188 - mean_absolute_error: 0.0188 - val_loss: 0.0155 - val_mean_absolute_error: 0.0155\n",
      "Epoch 11/20\n",
      "80/80 [==============================] - 4s 45ms/step - loss: 0.0191 - mean_absolute_error: 0.0191 - val_loss: 0.0154 - val_mean_absolute_error: 0.0154\n",
      "Epoch 12/20\n",
      "80/80 [==============================] - 4s 44ms/step - loss: 0.0183 - mean_absolute_error: 0.0183 - val_loss: 0.0151 - val_mean_absolute_error: 0.0151\n",
      "Epoch 13/20\n",
      "80/80 [==============================] - 4s 49ms/step - loss: 0.0183 - mean_absolute_error: 0.0183 - val_loss: 0.0150 - val_mean_absolute_error: 0.0150\n",
      "Epoch 14/20\n",
      "80/80 [==============================] - 4s 47ms/step - loss: 0.0193 - mean_absolute_error: 0.0193 - val_loss: 0.0147 - val_mean_absolute_error: 0.0147\n",
      "Epoch 15/20\n",
      "80/80 [==============================] - 4s 48ms/step - loss: 0.0191 - mean_absolute_error: 0.0191 - val_loss: 0.0146 - val_mean_absolute_error: 0.0146\n",
      "Epoch 16/20\n",
      "80/80 [==============================] - 4s 46ms/step - loss: 0.0184 - mean_absolute_error: 0.0184 - val_loss: 0.0145 - val_mean_absolute_error: 0.0145\n",
      "Epoch 17/20\n",
      "80/80 [==============================] - 4s 45ms/step - loss: 0.0180 - mean_absolute_error: 0.0180 - val_loss: 0.0145 - val_mean_absolute_error: 0.0145\n",
      "Epoch 18/20\n",
      "80/80 [==============================] - 4s 49ms/step - loss: 0.0174 - mean_absolute_error: 0.0174 - val_loss: 0.0145 - val_mean_absolute_error: 0.0145\n",
      "Epoch 19/20\n",
      "80/80 [==============================] - 4s 47ms/step - loss: 0.0183 - mean_absolute_error: 0.0183 - val_loss: 0.0143 - val_mean_absolute_error: 0.0143\n",
      "Epoch 20/20\n",
      "80/80 [==============================] - 4s 47ms/step - loss: 0.0181 - mean_absolute_error: 0.0181 - val_loss: 0.0142 - val_mean_absolute_error: 0.0142\n",
      "12/12 [==============================] - 0s 9ms/step - loss: 0.0168 - mean_absolute_error: 0.0168\n",
      "The final loss on the TEST set is: 0.02.\n",
      "The final mean_absolute_error on the TEST set is: 0.02.\n"
     ]
    },
    {
     "data": {
      "image/png": "[encoded data removed]",
      "text/plain": [
       "<Figure size 432x288 with 1 Axes>"
      ]
     },
     "metadata": {
      "needs_background": "light"
     },
     "output_type": "display_data"
    }
   ],
   "source": [
    "callback = keras.callbacks.EarlyStopping(monitor='loss', patience=3)\n",
    "#callback = None\n",
    "history = model.fit(np.squeeze(X_train), y_train,         # Train the model using the training set...\n",
    "          batch_size=20, epochs=20,\n",
    "          verbose=1, validation_split=0.2,steps_per_epoch=80,)#callbacks=[callback])           # ...holding out 40% of the data for validation\n",
    "\n",
    "# --------------------------------------\n",
    "# Evaluation\n",
    "# --------------------------------------\n",
    "for loss_name, loss_value in list(zip(model.metrics_names, model.evaluate(X_test, y_test, verbose=1))):\n",
    "    print('The final {} on the TEST set is: {:.2f}.'.format(loss_name, loss_value)) # Evaluate the trained model on the test set!\n",
    "\n",
    "    \n",
    "import matplotlib.pyplot as plt\n",
    "\n",
    "# --------------------------------------\n",
    "# Loss functions evolution\n",
    "# --------------------------------------\n",
    "plt.plot(history.history['loss'])\n",
    "plt.plot(history.history['val_loss'])\n",
    "plt.title('Model loss by epoch')\n",
    "plt.ylabel('loss')\n",
    "plt.xlabel('epoch')\n",
    "plt.legend(['train', 'valid'], loc='right')\n",
    "plt.show()"
   ]
  },
  {
   "cell_type": "code",
   "execution_count": 26,
   "metadata": {},
   "outputs": [
    {
     "name": "stdout",
     "output_type": "stream",
     "text": [
      "12/12 [==============================] - 0s 13ms/step - loss: 0.0168 - mean_absolute_error: 0.0168\n",
      "Valeur de l'erreur sur les données de test (loss): 0.016834868118166924\n",
      "Précision sur les données de test (MAE): 0.016834868118166924\n"
     ]
    }
   ],
   "source": [
    "#Résultats \n",
    "\n",
    "resultat = model.evaluate(X_test, y_test, verbose=1)\n",
    "print(\"Valeur de l'erreur sur les données de test (loss):\", resultat[0])\n",
    "print('Précision sur les données de test (MAE):', resultat[1])"
   ]
  },
  {
   "cell_type": "code",
   "execution_count": null,
   "metadata": {},
   "outputs": [],
   "source": []
  },
  {
   "cell_type": "code",
   "execution_count": 27,
   "metadata": {},
   "outputs": [
    {
     "data": {
      "text/plain": [
       "-0.00032618513897952894"
      ]
     },
     "execution_count": 27,
     "metadata": {},
     "output_type": "execute_result"
    }
   ],
   "source": [
    "#LASSO\n",
    "\n",
    "from sklearn import linear_model\n",
    "clf = linear_model.Lasso(alpha=0.1)\n",
    "\n",
    "#clf = linear_model.ElasticNet(random_state=47)\n",
    "clf.fit(X_train, y_train)\n",
    "clf.score(X_test, y_test)"
   ]
  },
  {
   "cell_type": "code",
   "execution_count": 37,
   "metadata": {},
   "outputs": [
    {
     "data": {
      "text/plain": [
       "0.22145872454983695"
      ]
     },
     "execution_count": 37,
     "metadata": {},
     "output_type": "execute_result"
    }
   ],
   "source": [
    "#KNN\n",
    "\n",
    "from sklearn.neighbors import KNeighborsRegressor\n",
    "\n",
    "neigh = KNeighborsRegressor(n_neighbors=3)\n",
    "neigh.fit(X_train, y_train)\n",
    "neigh.score(X_test, y_test)\n"
   ]
  },
  {
   "cell_type": "code",
   "execution_count": 29,
   "metadata": {},
   "outputs": [
    {
     "data": {
      "text/plain": [
       "'\\nkernel = DotProduct() + WhiteKernel()\\ngpr = GaussianProcessRegressor(kernel=kernel,random_state=0)\\ngpr.fit(X_train, y_train)\\ngpr.score(X_test, y_test)\\n'"
      ]
     },
     "execution_count": 29,
     "metadata": {},
     "output_type": "execute_result"
    }
   ],
   "source": [
    "#GAUSS\n",
    "\n",
    "from sklearn.gaussian_process import GaussianProcessRegressor\n",
    "from sklearn.gaussian_process.kernels import DotProduct, WhiteKernel\n",
    "\"\"\"\n",
    "kernel = DotProduct() + WhiteKernel()\n",
    "gpr = GaussianProcessRegressor(kernel=kernel,random_state=0)\n",
    "gpr.fit(X_train, y_train)\n",
    "gpr.score(X_test, y_test)\n",
    "\"\"\"\n"
   ]
  },
  {
   "cell_type": "code",
   "execution_count": 49,
   "metadata": {},
   "outputs": [
    {
     "name": "stdout",
     "output_type": "stream",
     "text": [
      "[LibSVM]"
     ]
    },
    {
     "data": {
      "text/plain": [
       "0.2335477146572693"
      ]
     },
     "execution_count": 49,
     "metadata": {},
     "output_type": "execute_result"
    }
   ],
   "source": [
    "#SVR\n",
    "from sklearn.svm import SVR\n",
    "regr = SVR(C=.4, epsilon=0.00001, verbose=True)\n",
    "regr.fit(X_train, y_train)\n",
    "regr.score(X_test, y_test)"
   ]
  },
  {
   "cell_type": "code",
   "execution_count": 38,
   "metadata": {},
   "outputs": [
    {
     "data": {
      "text/plain": [
       "'\\ndef ppp(eps):\\n    regr = SVR(C=.4, epsilon=0.01)\\n    regr.fit(X_train, y_train)\\n    score = regr.score(X_test, y_test)\\n    return score\\n    \\n\\nx_ = np.linspace(1e-3,9e-1,1000)\\n\\nscores = np.vectorize(ppp)(x_)\\n\\nprint(\"best epsilon = {}\".format(x_[list(scores).index(np.max(scores))]))\\n\\n\\n'"
      ]
     },
     "execution_count": 38,
     "metadata": {},
     "output_type": "execute_result"
    }
   ],
   "source": [
    "#SVR\n",
    "\n",
    "\"\"\"\n",
    "def ppp(eps):\n",
    "    regr = SVR(C=.4, epsilon=0.01)\n",
    "    regr.fit(X_train, y_train)\n",
    "    score = regr.score(X_test, y_test)\n",
    "    return score\n",
    "    \n",
    "\n",
    "x_ = np.linspace(1e-3,9e-1,1000)\n",
    "\n",
    "scores = np.vectorize(ppp)(x_)\n",
    "\n",
    "print(\"best epsilon = {}\".format(x_[list(scores).index(np.max(scores))]))\n",
    "\n",
    "\n",
    "\"\"\"\n"
   ]
  },
  {
   "cell_type": "code",
   "execution_count": null,
   "metadata": {},
   "outputs": [],
   "source": []
  },
  {
   "cell_type": "markdown",
   "metadata": {},
   "source": [
    "## b. Observation des résultats "
   ]
  },
  {
   "cell_type": "code",
   "execution_count": 39,
   "metadata": {},
   "outputs": [],
   "source": [
    "def ecart_relatif(row) : \n",
    "    théo = row['Théorique']\n",
    "    préd = row['Prédiction']\n",
    "    return np.abs(théo - préd) / théo"
   ]
  },
  {
   "cell_type": "code",
   "execution_count": 50,
   "metadata": {},
   "outputs": [],
   "source": [
    "def ViewResults(model, X_test, y_test):\n",
    "    prediction = pd.DataFrame(data= model.predict(X_test) ,columns=['Prédiction'])\n",
    "    théorique = pd.DataFrame(data= y_test ,columns=['Théorique'])\n",
    "    prediction, théorique = prediction.reset_index() , théorique.reset_index()\n",
    "\n",
    "    results = pd.merge(théorique, prediction, on = 'index').drop(columns=['index'])\n",
    "    results[\"Ecart_relatif\"] = results.apply(ecart_relatif,axis=1)\n",
    "    \n",
    "    results.sort_values('Ecart_relatif',inplace=True)\n",
    "    \n",
    "    #print(results.tail(20))\n",
    "    k=3\n",
    "    \n",
    "    \n",
    "    print(\"\\n\\nL'écart relatif moyen est de \" + str(results[\"Ecart_relatif\"].mean() * 100) + \"%\")\n",
    "    premiere_bissectrice = np.linspace(0,k * 1e-1,100)\n",
    "    \n",
    "    plt.plot(premiere_bissectrice,premiere_bissectrice, color='red')\n",
    "    plt.scatter(results[\"Théorique\"],results[\"Prédiction\"])\n",
    "    \n",
    "    \n",
    "    plt.xlim(-k*1e-2,k * 1e-1)\n",
    "    plt.ylim(-k*1e-2,k * 1e-1)\n",
    "    plt.show()"
   ]
  },
  {
   "cell_type": "code",
   "execution_count": 51,
   "metadata": {},
   "outputs": [
    {
     "name": "stdout",
     "output_type": "stream",
     "text": [
      "Resultat pour la regression SVR\n",
      "\n",
      "\n",
      "L'écart relatif moyen est de 82.91668589623029%\n"
     ]
    },
    {
     "data": {
      "image/png": "[encoded data removed]",
      "text/plain": [
       "<Figure size 432x288 with 1 Axes>"
      ]
     },
     "metadata": {
      "needs_background": "light"
     },
     "output_type": "display_data"
    }
   ],
   "source": [
    "print('Resultat pour la regression SVR')\n",
    "ViewResults(regr, X_test, y_test)"
   ]
  },
  {
   "cell_type": "code",
   "execution_count": 52,
   "metadata": {},
   "outputs": [
    {
     "name": "stdout",
     "output_type": "stream",
     "text": [
      "Resultat pour la regression 3-NN\n",
      "\n",
      "\n",
      "L'écart relatif moyen est de 89.03431740272369%\n"
     ]
    },
    {
     "data": {
      "image/png": "[encoded data removed]",
      "text/plain": [
       "<Figure size 432x288 with 1 Axes>"
      ]
     },
     "metadata": {
      "needs_background": "light"
     },
     "output_type": "display_data"
    }
   ],
   "source": [
    "print('Resultat pour la regression 3-NN')\n",
    "ViewResults(neigh,X_test,y_test)"
   ]
  },
  {
   "cell_type": "code",
   "execution_count": 53,
   "metadata": {},
   "outputs": [
    {
     "name": "stdout",
     "output_type": "stream",
     "text": [
      "Resultat pour la regression via Dense Neural Net\n",
      "\n",
      "\n",
      "L'écart relatif moyen est de 159.59815895209655%\n"
     ]
    },
    {
     "data": {
      "image/png": "[encoded data removed]",
      "text/plain": [
       "<Figure size 432x288 with 1 Axes>"
      ]
     },
     "metadata": {
      "needs_background": "light"
     },
     "output_type": "display_data"
    }
   ],
   "source": [
    "print('Resultat pour la regression via Dense Neural Net')\n",
    "ViewResults(model,X_test,y_test)"
   ]
  },
  {
   "cell_type": "markdown",
   "metadata": {},
   "source": [
    "---------------"
   ]
  },
  {
   "cell_type": "markdown",
   "metadata": {},
   "source": [
    "# III. Réseaux de neurones : Test classification multi-classe"
   ]
  },
  {
   "cell_type": "code",
   "execution_count": 54,
   "metadata": {},
   "outputs": [],
   "source": [
    "df = pd.read_csv('market_data_pd.csv',sep=',')\n",
    "#df = df[[\"Common Eqty / Tot Assets\",'Debt / Common Equity','BCLASS Level 3',\"PD_1y\",\"TCE Ratio\"]]\n",
    "\n",
    "df = df[['Common Eqty / Tot Assets','TCE Ratio','Tot Debt / Tot Capital','Tot Cap (Local Crncy)','Is Covered','Is Convertible','Amt Out','BCLASS Level 3', 'Guarantee Type', 'Guarantor Type', 'Collat Type','Debt / Common Equity','PD_1y']]\n",
    "\n",
    "\n",
    "#['BCLASS Level 3','Guarantee Type','Guarantor Type','Collat Type','Is Covered','Is Convertible']]\n",
    "\n",
    "df = df[df.PD_1y>0.0]\n",
    "df = df[df.PD_1y!=1.0]\n",
    "df = df[df.PD_1y<0.05]\n",
    "df = df[df['Debt / Common Equity']<2e4]\n",
    "df = df[df['TCE Ratio']>-100]\n",
    "\n",
    "#df['PD_1y'] = pd.read_csv('PD_1y.csv')['PD_1y']\n",
    "#df.replace(np.nan, 0.0,inplace=True)\n",
    "df.dropna(inplace=True)"
   ]
  },
  {
   "cell_type": "markdown",
   "metadata": {},
   "source": [
    "## a. Classification des PD"
   ]
  },
  {
   "cell_type": "markdown",
   "metadata": {},
   "source": [
    "**Première version de traitement des données (beug sur subtilité bases de train/test)**"
   ]
  },
  {
   "cell_type": "code",
   "execution_count": 55,
   "metadata": {},
   "outputs": [],
   "source": [
    "#ATTENTION : CHANGEMENT A FAIRE \n",
    "#il faut paramétrer les algorithmes de classification seulement en utilisant la base de train. \n",
    "#et ensuite seulement, appliquer la classification sur la base de test \n",
    "\n",
    "#sinon, tu utilises une base normalement inconnue (la base de test) pour paramétrer ton algo. \n",
    "#(même si le changement est pas ouf, il faut inverser l'ordre dans lequel on fait ça)"
   ]
  },
  {
   "cell_type": "code",
   "execution_count": null,
   "metadata": {},
   "outputs": [],
   "source": []
  },
  {
   "cell_type": "code",
   "execution_count": null,
   "metadata": {},
   "outputs": [],
   "source": []
  },
  {
   "cell_type": "code",
   "execution_count": 69,
   "metadata": {},
   "outputs": [
    {
     "name": "stdout",
     "output_type": "stream",
     "text": [
      "[array(['Banking', 'Basic Industry', 'Brokerage Assetmanagers Exchanges',\n",
      "       'Capital Goods', 'Communications', 'Consumer Cyclical',\n",
      "       'Consumer Non-Cyclical', 'Electric', 'Energy', 'Finance Companies',\n",
      "       'Government Guaranteed', 'Government Owned. No Guarantee',\n",
      "       'Government Sponsored', 'Hybrid', 'Insurance', 'Local Authority',\n",
      "       'Mortgage Assets', 'Natural Gas', 'Other Financial',\n",
      "       'Other Industrial', 'Other Utility', 'Public Sector Loans',\n",
      "       'REITs', 'Supranational', 'Technology', 'Transportation',\n",
      "       'Whole Business'], dtype=object), array(['Cross Guarantee', 'Multiple', 'N.A.', 'Single'], dtype=object), array(['Bank', 'Company', 'Domestic Restricted Subsidiar',\n",
      "       'Local Government', 'N.A.', 'National/Sovereign Government',\n",
      "       'Other Subsidiary of Parent', 'Parent', 'Parent & Subsidiaries',\n",
      "       'Subsidiaries'], dtype=object), array(['BONDS', 'COMPANY GUARNT', 'COVERED', 'GOVT GUARANTEED',\n",
      "       'GOVT LIQUID GTD', 'INSURED', 'JR SUBORDINATED',\n",
      "       'JUMBO PFANDBRIEF', 'LOCAL GOVT GUARN', 'PFANDBRIEFE', 'SECURED',\n",
      "       'SR SECURED', 'SR SUBORDINATED', 'SR UNSECURED', 'SUBORDINATED',\n",
      "       'UNSECURED'], dtype=object), array([False, True], dtype=object), array([False, True], dtype=object)]\n",
      "moyenne = 2.5677250836492747e-17\n",
      "moyenne = -0.003427440899887592\n"
     ]
    }
   ],
   "source": [
    "X_train, X_test, y_train, y_test = model_selection.train_test_split(X_full, y_full, test_size=0.10,\n",
    "                                                                    #stratify=y_full, # stratification\n",
    "                                                                    random_state=92)\n",
    "pipe = Pipeline(X_train,X_full)\n",
    "X_train = pipe.traitement(X_train)\n",
    "X_test  = pipe.traitement(X_test)"
   ]
  },
  {
   "cell_type": "code",
   "execution_count": 70,
   "metadata": {},
   "outputs": [],
   "source": [
    "#X_train = X_train[:, np.newaxis] # Reshape in \"convolutionable\" format (add tensor dim for the depth)\n",
    "#X_test = X_test[:, np.newaxis]"
   ]
  },
  {
   "cell_type": "code",
   "execution_count": 71,
   "metadata": {},
   "outputs": [
    {
     "data": {
      "text/plain": [
       "(3291, 68)"
      ]
     },
     "execution_count": 71,
     "metadata": {},
     "output_type": "execute_result"
    }
   ],
   "source": [
    "X_train.shape"
   ]
  },
  {
   "cell_type": "markdown",
   "metadata": {},
   "source": [
    "**Version corrigée (à rechercker)**"
   ]
  },
  {
   "cell_type": "code",
   "execution_count": 72,
   "metadata": {},
   "outputs": [],
   "source": [
    "#Au départ : reprendre base de train et de test créées dans la partie I. \n",
    "#X_train, y_train, X_test, y_test\n",
    "\n",
    "class Discretizer:\n",
    "    def __init__(self, y_train, nb_class=6):\n",
    "        \n",
    "        self.nb_class = nb_class\n",
    "        self.y_train = y_train.reshape((-1,1))\n",
    "\n",
    "        self.kbins = KBinsDiscretizer(n_bins=self.nb_class, encode='ordinal', strategy='quantile')#strategy : uniform, quantile, kmeans\n",
    "        self.kbins.fit(self.y_train)\n",
    "        \n",
    "        \n",
    "    def discretize(self,y):\n",
    "        y = y.reshape((-1,1))\n",
    "        y_class = self.kbins.transform(y)\n",
    "        return y_class"
   ]
  },
  {
   "cell_type": "code",
   "execution_count": 73,
   "metadata": {},
   "outputs": [],
   "source": [
    "nb_class = 4\n",
    "discretizer = Discretizer(y_train, nb_class=nb_class)\n",
    "\n",
    "y_train_class = discretizer.discretize(y_train)\n",
    "y_test_class  = discretizer.discretize(y_test)"
   ]
  },
  {
   "cell_type": "code",
   "execution_count": null,
   "metadata": {},
   "outputs": [],
   "source": []
  },
  {
   "cell_type": "code",
   "execution_count": 74,
   "metadata": {},
   "outputs": [
    {
     "data": {
      "image/png": "[encoded data removed]",
      "text/plain": [
       "<Figure size 432x288 with 1 Axes>"
      ]
     },
     "metadata": {
      "needs_background": "light"
     },
     "output_type": "display_data"
    }
   ],
   "source": [
    "plt.hist(y_train_class, range = (0, nb_class), bins = nb_class, edgecolor='black' )\n",
    "plt.xlabel('Classes')\n",
    "plt.ylabel('Nombre de bonds')\n",
    "plt.title('Histogramme du nombre de bonds par classe - base de train')\n",
    "plt.show()"
   ]
  },
  {
   "cell_type": "code",
   "execution_count": 75,
   "metadata": {},
   "outputs": [
    {
     "data": {
      "image/png": "[encoded data removed]",
      "text/plain": [
       "<Figure size 432x288 with 1 Axes>"
      ]
     },
     "metadata": {
      "needs_background": "light"
     },
     "output_type": "display_data"
    }
   ],
   "source": [
    "plt.hist(y_test_class, range = (0, nb_class), bins = nb_class, edgecolor='black' )\n",
    "plt.xlabel('Classes')\n",
    "plt.ylabel('Nombre de bonds')\n",
    "plt.title('Histogramme du nombre de bonds par classe - base de test')\n",
    "plt.show()"
   ]
  },
  {
   "cell_type": "code",
   "execution_count": null,
   "metadata": {},
   "outputs": [],
   "source": []
  },
  {
   "cell_type": "markdown",
   "metadata": {},
   "source": [
    "## b. Implémentation du modèle"
   ]
  },
  {
   "cell_type": "code",
   "execution_count": 76,
   "metadata": {},
   "outputs": [],
   "source": [
    "\"\"\"\n",
    "input_shape = (20, 1, 34)\n",
    "\n",
    "num_classes=6\n",
    "\n",
    "from tensorflow.keras import regularizers\n",
    "from tensorflow.keras.datasets import mnist # subroutines for fetching the MNIST dataset\n",
    "from tensorflow.keras.models import Model, Sequential # basic class for specifying and training a neural network\n",
    "from tensorflow.keras.layers import Input, Conv2D, MaxPooling2D, Dense, Dropout, Activation, Flatten \n",
    "# --------------------------------------\n",
    "# Network params\n",
    "# --------------------------------------\n",
    "# Network params\n",
    "batch_size = 32    # in each iteration, we consider 32 training examples at once\n",
    "num_epochs = 15    # we iterate 15 times over the entire training set\n",
    "kernel_size = 5    # we will use 5x5 kernels throughout\n",
    "pool_size = 2      # we will use 2x2 pooling throughout\n",
    "conv_depth_1 = 6   # we will initially have 6 kernels in first conv. layer...\n",
    "conv_depth_2 = 16  # ...switching to 16 after the first pooling layer\n",
    "drop_prob_1 = 0.   # dropout after pooling with probability 0.\n",
    "drop_prob_2 = 0.   # dropout in the FC layer with probability 0.\n",
    "hidden_size = 128  # the FC layer will have 128neurons\n",
    "weight_penalty = 0. # Factor for weights penalty\n",
    "\n",
    "# --------------------------------------\n",
    "# CNN network definition \n",
    "# --------------------------------------\n",
    "# inp = Input(shape=(1,height,width)) # greyscale --> depth==1\n",
    "# model = Model(input=inp, output=out) # To define a model, just specify its input and output layers\n",
    "\n",
    "model = Sequential()\n",
    "# Conv [8] -> Pool (with dropout on the pooling layer)\n",
    "model.add( Conv2D(conv_depth_1, (kernel_size,kernel_size), padding='same', activation='relu', data_format=\"channels_last\", input_shape=(20,1,34)) )\n",
    "#model.add( MaxPooling2D(pool_size=(pool_size, pool_size)) )\n",
    "#model.add( Dropout(drop_prob_1) )\n",
    "\n",
    "# Conv [16] -> Pool (with dropout on the pooling layer)\n",
    "#model.add( Conv2D(conv_depth_2, (kernel_size,kernel_size), padding='same', activation='relu') )\n",
    "#model.add( MaxPooling2D(pool_size=(pool_size, pool_size)) )\n",
    "#model.add( Dropout(drop_prob_1) )\n",
    "\n",
    "# Now flatten to 1D, apply FC -> ReLU (with dropout) -> softmax\n",
    "model.add( Flatten() )\n",
    "#model.add( Dense(hidden_size, activation='relu', kernel_regularizer=regularizers.l2(weight_penalty)) )\n",
    "#model.add( Dropout(drop_prob_2) )\n",
    "model.add( Dense(num_classes, activation='softmax') )\n",
    "\n",
    "print(model.summary())\n",
    "\n",
    "\"\"\"\n",
    "\n",
    "model = Sequential()\n",
    "#model.add(Conv1D(12, 2, activation='relu',input_shape=input_shape[1:]))\n",
    "model.add(Dense(units=2000,input_dim=68)) #6 is good\n",
    "model.add(Dense(units=2000))\n",
    "model.add(Dropout(0.4))\n",
    "model.add(Dense(units=nb_class,activation=\"softmax\")) #output\n",
    "\n",
    "\n",
    "#32, 3, activation='relu', input_shape=input_shape[2:])(x)\n",
    "\n",
    "\n"
   ]
  },
  {
   "cell_type": "code",
   "execution_count": 77,
   "metadata": {},
   "outputs": [],
   "source": [
    "from tensorflow import keras \n",
    "\n",
    "model.compile(optimizer=keras.optimizers.Adam(lr=0.003),\n",
    "              loss=keras.losses.SparseCategoricalCrossentropy(from_logits=False), # default from_logits=False\n",
    "              metrics=[keras.metrics.SparseCategoricalAccuracy()])"
   ]
  },
  {
   "cell_type": "code",
   "execution_count": 78,
   "metadata": {},
   "outputs": [],
   "source": [
    "#model.fit(X_train,y_train,validation_split=0.4, epochs=40)"
   ]
  },
  {
   "cell_type": "code",
   "execution_count": 79,
   "metadata": {},
   "outputs": [
    {
     "name": "stdout",
     "output_type": "stream",
     "text": [
      "Epoch 1/100\n",
      "250/250 [==============================] - 3s 10ms/step - loss: 1.6640 - sparse_categorical_accuracy: 0.4212 - val_loss: 1.6966 - val_sparse_categorical_accuracy: 0.4758\n",
      "Epoch 2/100\n",
      "250/250 [==============================] - 2s 9ms/step - loss: 2.8968 - sparse_categorical_accuracy: 0.4035 - val_loss: 1.4888 - val_sparse_categorical_accuracy: 0.4273\n",
      "Epoch 3/100\n",
      "250/250 [==============================] - 2s 10ms/step - loss: 3.1351 - sparse_categorical_accuracy: 0.4029 - val_loss: 2.2132 - val_sparse_categorical_accuracy: 0.3939\n",
      "Epoch 4/100\n",
      "250/250 [==============================] - 3s 10ms/step - loss: 1.6274 - sparse_categorical_accuracy: 0.4377 - val_loss: 1.3785 - val_sparse_categorical_accuracy: 0.4242\n",
      "Epoch 5/100\n",
      "250/250 [==============================] - 2s 10ms/step - loss: 4.7099 - sparse_categorical_accuracy: 0.4029 - val_loss: 3.1279 - val_sparse_categorical_accuracy: 0.4273\n",
      "Epoch 6/100\n",
      "250/250 [==============================] - 2s 9ms/step - loss: 2.6493 - sparse_categorical_accuracy: 0.4295 - val_loss: 1.4028 - val_sparse_categorical_accuracy: 0.4667\n",
      "Epoch 7/100\n",
      "250/250 [==============================] - 3s 11ms/step - loss: 2.2898 - sparse_categorical_accuracy: 0.4182 - val_loss: 1.5263 - val_sparse_categorical_accuracy: 0.4333\n",
      "Epoch 8/100\n",
      "250/250 [==============================] - 3s 11ms/step - loss: 2.2597 - sparse_categorical_accuracy: 0.4238 - val_loss: 4.2699 - val_sparse_categorical_accuracy: 0.4182\n",
      "Epoch 9/100\n",
      "250/250 [==============================] - 3s 11ms/step - loss: 3.6396 - sparse_categorical_accuracy: 0.4176 - val_loss: 2.2244 - val_sparse_categorical_accuracy: 0.3970\n",
      "Epoch 10/100\n",
      "250/250 [==============================] - 2s 10ms/step - loss: 1.7192 - sparse_categorical_accuracy: 0.4304 - val_loss: 1.3458 - val_sparse_categorical_accuracy: 0.4697\n",
      "Epoch 11/100\n",
      "250/250 [==============================] - 2s 10ms/step - loss: 1.4268 - sparse_categorical_accuracy: 0.4526 - val_loss: 1.1284 - val_sparse_categorical_accuracy: 0.5030\n",
      "Epoch 12/100\n",
      "250/250 [==============================] - 3s 11ms/step - loss: 1.3006 - sparse_categorical_accuracy: 0.4547 - val_loss: 1.2472 - val_sparse_categorical_accuracy: 0.4758\n",
      "Epoch 13/100\n",
      "250/250 [==============================] - 3s 10ms/step - loss: 2.0183 - sparse_categorical_accuracy: 0.4250 - val_loss: 1.7774 - val_sparse_categorical_accuracy: 0.3697\n",
      "Epoch 14/100\n",
      "250/250 [==============================] - 3s 10ms/step - loss: 1.6660 - sparse_categorical_accuracy: 0.4528 - val_loss: 1.4352 - val_sparse_categorical_accuracy: 0.4152\n",
      "Epoch 15/100\n",
      "250/250 [==============================] - 3s 10ms/step - loss: 1.4520 - sparse_categorical_accuracy: 0.4436 - val_loss: 1.3202 - val_sparse_categorical_accuracy: 0.4576\n",
      "Epoch 16/100\n",
      "250/250 [==============================] - 3s 10ms/step - loss: 1.3274 - sparse_categorical_accuracy: 0.4557 - val_loss: 1.2971 - val_sparse_categorical_accuracy: 0.4515\n",
      "Epoch 17/100\n",
      "250/250 [==============================] - 3s 11ms/step - loss: 1.3354 - sparse_categorical_accuracy: 0.4661 - val_loss: 1.3833 - val_sparse_categorical_accuracy: 0.4364\n",
      "Epoch 18/100\n",
      "250/250 [==============================] - 3s 10ms/step - loss: 2.3683 - sparse_categorical_accuracy: 0.4325 - val_loss: 2.8824 - val_sparse_categorical_accuracy: 0.4818\n",
      "Epoch 19/100\n",
      "250/250 [==============================] - 3s 11ms/step - loss: 5.2621 - sparse_categorical_accuracy: 0.4053 - val_loss: 8.0899 - val_sparse_categorical_accuracy: 0.4091\n",
      "Epoch 20/100\n",
      "250/250 [==============================] - 3s 12ms/step - loss: 7.1019 - sparse_categorical_accuracy: 0.4045 - val_loss: 3.7735 - val_sparse_categorical_accuracy: 0.4182\n",
      "Epoch 21/100\n",
      "250/250 [==============================] - 3s 11ms/step - loss: 6.0475 - sparse_categorical_accuracy: 0.4125 - val_loss: 5.4023 - val_sparse_categorical_accuracy: 0.4333\n",
      "Epoch 22/100\n",
      "250/250 [==============================] - 3s 11ms/step - loss: 3.9610 - sparse_categorical_accuracy: 0.4222 - val_loss: 2.5380 - val_sparse_categorical_accuracy: 0.4758\n",
      "Epoch 23/100\n",
      "250/250 [==============================] - 3s 11ms/step - loss: 2.1940 - sparse_categorical_accuracy: 0.4313 - val_loss: 1.6715 - val_sparse_categorical_accuracy: 0.4333\n",
      "Epoch 24/100\n",
      "250/250 [==============================] - 3s 12ms/step - loss: 7.0565 - sparse_categorical_accuracy: 0.4234 - val_loss: 5.6774 - val_sparse_categorical_accuracy: 0.4424\n",
      "Epoch 25/100\n",
      "250/250 [==============================] - 3s 12ms/step - loss: 3.2932 - sparse_categorical_accuracy: 0.4288 - val_loss: 3.7638 - val_sparse_categorical_accuracy: 0.4697\n",
      "Epoch 26/100\n",
      "250/250 [==============================] - 3s 12ms/step - loss: 2.7170 - sparse_categorical_accuracy: 0.4264 - val_loss: 1.3342 - val_sparse_categorical_accuracy: 0.4909\n",
      "Epoch 27/100\n",
      "250/250 [==============================] - 3s 11ms/step - loss: 4.1391 - sparse_categorical_accuracy: 0.4160 - val_loss: 3.2252 - val_sparse_categorical_accuracy: 0.4545\n",
      "Epoch 28/100\n",
      "250/250 [==============================] - 3s 12ms/step - loss: 4.3949 - sparse_categorical_accuracy: 0.4266 - val_loss: 2.6282 - val_sparse_categorical_accuracy: 0.4273\n",
      "Epoch 29/100\n",
      "250/250 [==============================] - 3s 11ms/step - loss: 2.8160 - sparse_categorical_accuracy: 0.4186 - val_loss: 7.3183 - val_sparse_categorical_accuracy: 0.4515\n",
      "Epoch 30/100\n",
      "250/250 [==============================] - 3s 11ms/step - loss: 3.5223 - sparse_categorical_accuracy: 0.4277 - val_loss: 1.8631 - val_sparse_categorical_accuracy: 0.3848\n",
      "Epoch 31/100\n",
      "250/250 [==============================] - 3s 11ms/step - loss: 3.1457 - sparse_categorical_accuracy: 0.4365 - val_loss: 2.9840 - val_sparse_categorical_accuracy: 0.4697\n",
      "Epoch 32/100\n",
      "250/250 [==============================] - 3s 12ms/step - loss: 3.1715 - sparse_categorical_accuracy: 0.4282 - val_loss: 2.0268 - val_sparse_categorical_accuracy: 0.4515\n",
      "Epoch 33/100\n",
      "250/250 [==============================] - 3s 11ms/step - loss: 1.6942 - sparse_categorical_accuracy: 0.4464 - val_loss: 1.3775 - val_sparse_categorical_accuracy: 0.4515\n",
      "Epoch 34/100\n",
      "250/250 [==============================] - 3s 11ms/step - loss: 1.4720 - sparse_categorical_accuracy: 0.4464 - val_loss: 1.3370 - val_sparse_categorical_accuracy: 0.4667\n",
      "Epoch 35/100\n",
      "250/250 [==============================] - 3s 11ms/step - loss: 1.3343 - sparse_categorical_accuracy: 0.4521 - val_loss: 1.1954 - val_sparse_categorical_accuracy: 0.5152\n",
      "Epoch 36/100\n",
      "250/250 [==============================] - 3s 11ms/step - loss: 1.4287 - sparse_categorical_accuracy: 0.4569 - val_loss: 1.4104 - val_sparse_categorical_accuracy: 0.4515\n",
      "Epoch 37/100\n",
      "250/250 [==============================] - 3s 11ms/step - loss: 1.4470 - sparse_categorical_accuracy: 0.4436 - val_loss: 1.8902 - val_sparse_categorical_accuracy: 0.4333\n",
      "Epoch 38/100\n",
      "250/250 [==============================] - 3s 11ms/step - loss: 1.4340 - sparse_categorical_accuracy: 0.4505 - val_loss: 1.4159 - val_sparse_categorical_accuracy: 0.4424\n",
      "Epoch 39/100\n",
      "250/250 [==============================] - 3s 12ms/step - loss: 1.4511 - sparse_categorical_accuracy: 0.4440 - val_loss: 2.0535 - val_sparse_categorical_accuracy: 0.3909\n",
      "Epoch 40/100\n",
      "250/250 [==============================] - 3s 11ms/step - loss: 3.4745 - sparse_categorical_accuracy: 0.4160 - val_loss: 1.8440 - val_sparse_categorical_accuracy: 0.4333\n",
      "Epoch 41/100\n",
      "250/250 [==============================] - 3s 13ms/step - loss: 2.0157 - sparse_categorical_accuracy: 0.4298 - val_loss: 3.2957 - val_sparse_categorical_accuracy: 0.4606\n",
      "Epoch 42/100\n",
      "250/250 [==============================] - 3s 11ms/step - loss: 3.0294 - sparse_categorical_accuracy: 0.4194 - val_loss: 1.6852 - val_sparse_categorical_accuracy: 0.4273\n",
      "Epoch 43/100\n",
      "250/250 [==============================] - 3s 11ms/step - loss: 1.6444 - sparse_categorical_accuracy: 0.4329 - val_loss: 2.1996 - val_sparse_categorical_accuracy: 0.3788\n",
      "Epoch 44/100\n",
      "250/250 [==============================] - 3s 12ms/step - loss: 2.0291 - sparse_categorical_accuracy: 0.4186 - val_loss: 1.4718 - val_sparse_categorical_accuracy: 0.4909\n",
      "Epoch 45/100\n",
      "250/250 [==============================] - 3s 12ms/step - loss: 1.7665 - sparse_categorical_accuracy: 0.4254 - val_loss: 1.4014 - val_sparse_categorical_accuracy: 0.5273\n"
     ]
    },
    {
     "name": "stdout",
     "output_type": "stream",
     "text": [
      "Epoch 46/100\n",
      "250/250 [==============================] - 3s 10ms/step - loss: 1.4416 - sparse_categorical_accuracy: 0.4480 - val_loss: 1.6144 - val_sparse_categorical_accuracy: 0.4212\n",
      "Epoch 47/100\n",
      "250/250 [==============================] - 2s 10ms/step - loss: 8.6702 - sparse_categorical_accuracy: 0.4164 - val_loss: 10.8475 - val_sparse_categorical_accuracy: 0.4515\n",
      "Epoch 48/100\n",
      "250/250 [==============================] - 2s 10ms/step - loss: 5.7859 - sparse_categorical_accuracy: 0.4180 - val_loss: 2.6610 - val_sparse_categorical_accuracy: 0.4545\n",
      "Epoch 49/100\n",
      "250/250 [==============================] - 2s 10ms/step - loss: 3.3765 - sparse_categorical_accuracy: 0.4174 - val_loss: 8.9199 - val_sparse_categorical_accuracy: 0.4061\n",
      "Epoch 50/100\n",
      "250/250 [==============================] - 2s 10ms/step - loss: 2.4421 - sparse_categorical_accuracy: 0.4296 - val_loss: 1.4152 - val_sparse_categorical_accuracy: 0.4636\n",
      "Epoch 51/100\n",
      "250/250 [==============================] - 2s 10ms/step - loss: 1.5129 - sparse_categorical_accuracy: 0.4534 - val_loss: 1.3131 - val_sparse_categorical_accuracy: 0.3909\n",
      "Epoch 52/100\n",
      "250/250 [==============================] - 2s 10ms/step - loss: 2.2247 - sparse_categorical_accuracy: 0.4351 - val_loss: 2.0713 - val_sparse_categorical_accuracy: 0.4727\n",
      "Epoch 53/100\n",
      "250/250 [==============================] - 2s 10ms/step - loss: 2.6193 - sparse_categorical_accuracy: 0.4308 - val_loss: 1.7419 - val_sparse_categorical_accuracy: 0.4242\n",
      "Epoch 54/100\n",
      "250/250 [==============================] - 3s 10ms/step - loss: 2.8946 - sparse_categorical_accuracy: 0.4216 - val_loss: 2.2872 - val_sparse_categorical_accuracy: 0.4273\n",
      "Epoch 55/100\n",
      "250/250 [==============================] - 3s 10ms/step - loss: 1.9839 - sparse_categorical_accuracy: 0.4412 - val_loss: 4.2596 - val_sparse_categorical_accuracy: 0.4455\n",
      "Epoch 56/100\n",
      "250/250 [==============================] - 2s 10ms/step - loss: 6.8007 - sparse_categorical_accuracy: 0.4065 - val_loss: 7.1339 - val_sparse_categorical_accuracy: 0.4788\n",
      "Epoch 57/100\n",
      "250/250 [==============================] - 2s 10ms/step - loss: 12.7735 - sparse_categorical_accuracy: 0.4043 - val_loss: 6.4602 - val_sparse_categorical_accuracy: 0.4758\n",
      "Epoch 58/100\n",
      "250/250 [==============================] - 2s 10ms/step - loss: 5.3992 - sparse_categorical_accuracy: 0.4216 - val_loss: 2.8048 - val_sparse_categorical_accuracy: 0.4788\n",
      "Epoch 59/100\n",
      "250/250 [==============================] - 2s 10ms/step - loss: 3.6364 - sparse_categorical_accuracy: 0.4230 - val_loss: 6.0403 - val_sparse_categorical_accuracy: 0.4000\n",
      "Epoch 60/100\n",
      "148/250 [================>.............] - ETA: 0s - loss: 3.2792 - sparse_categorical_accuracy: 0.4451WARNING:tensorflow:Your input ran out of data; interrupting training. Make sure that your dataset or generator can generate at least `steps_per_epoch * epochs` batches (in this case, 25000 batches). You may need to use the repeat() function when building your dataset.\n",
      "150/250 [=================>............] - 2s 10ms/step - loss: 3.2724 - sparse_categorical_accuracy: 0.4436 - val_loss: 2.5429 - val_sparse_categorical_accuracy: 0.3848\n"
     ]
    }
   ],
   "source": [
    "\n",
    "\n",
    "\n",
    "\n",
    "history = model.fit(X_train, y_train_class,         # Train the model using the training set...\n",
    "          batch_size=20, epochs=100,\n",
    "          verbose=1, validation_split=0.1,steps_per_epoch=250)  "
   ]
  },
  {
   "cell_type": "code",
   "execution_count": 80,
   "metadata": {},
   "outputs": [
    {
     "name": "stdout",
     "output_type": "stream",
     "text": [
      "12/12 [==============================] - 0s 3ms/step - loss: 2.7217 - sparse_categorical_accuracy: 0.3798\n",
      "The final loss on the TEST set is: 2.72.\n",
      "The final sparse_categorical_accuracy on the TEST set is: 0.38.\n"
     ]
    },
    {
     "data": {
      "image/png": "[encoded data removed]",
      "text/plain": [
       "<Figure size 432x288 with 1 Axes>"
      ]
     },
     "metadata": {
      "needs_background": "light"
     },
     "output_type": "display_data"
    }
   ],
   "source": [
    "# --------------------------------------\n",
    "# Evaluation\n",
    "# --------------------------------------\n",
    "for loss_name, loss_value in list(zip(model.metrics_names, model.evaluate(X_test, y_test_class, verbose=1))):\n",
    "    print('The final {} on the TEST set is: {:.2f}.'.format(loss_name, loss_value)) # Evaluate the trained model on the test set!\n",
    "\n",
    "# --------------------------------------\n",
    "# Loss functions evolution\n",
    "# --------------------------------------\n",
    "plt.plot(history.history['loss'])\n",
    "plt.plot(history.history['val_loss'])\n",
    "plt.title('Model loss by epoch')\n",
    "plt.ylabel('loss')\n",
    "plt.xlabel('epoch')\n",
    "plt.legend(['train', 'valid'], loc='right')\n",
    "plt.show()"
   ]
  },
  {
   "cell_type": "code",
   "execution_count": 81,
   "metadata": {},
   "outputs": [
    {
     "name": "stdout",
     "output_type": "stream",
     "text": [
      "0.5300546448087432\n"
     ]
    }
   ],
   "source": [
    "#OvsRest\n",
    "from sklearn.multiclass import OneVsRestClassifier\n",
    "from sklearn.svm import SVC\n",
    "\n",
    "#poly & degree=11\n",
    "\n",
    "OvR_clf = OneVsRestClassifier(SVC(kernel='poly',degree=3),n_jobs=-1).fit(X_train, y_train_class)\n",
    "\n",
    "\n",
    "print(OvR_clf.score(X_test,y_test_class))"
   ]
  },
  {
   "cell_type": "code",
   "execution_count": 82,
   "metadata": {},
   "outputs": [
    {
     "data": {
      "text/plain": [
       "0.33060109289617484"
      ]
     },
     "execution_count": 82,
     "metadata": {},
     "output_type": "execute_result"
    }
   ],
   "source": [
    "#one vs one\n",
    "\n",
    "\n",
    "from sklearn.model_selection import train_test_split\n",
    "from sklearn.multiclass import OneVsOneClassifier\n",
    "from sklearn.svm import LinearSVC\n",
    "\n",
    "\n",
    "OvO_clf= OneVsOneClassifier(SVC(kernel='poly',degree=20),n_jobs=-1).fit(X_train, np.ravel(y_train_class))\n",
    "\n",
    "OvO_clf.score(X_test,np.ravel(y_test_class))\n",
    "\n",
    "#print(clf.score(X_test,np.ravel(y_test_class)))"
   ]
  },
  {
   "cell_type": "code",
   "execution_count": 83,
   "metadata": {},
   "outputs": [
    {
     "name": "stdout",
     "output_type": "stream",
     "text": [
      "0.6038251366120219\n"
     ]
    },
    {
     "data": {
      "text/plain": [
       "\"\\n{'estimator__n_estimators': 800, \\n 'estimator__min_samples_split': 2, \\n 'estimator__min_samples_leaf': 1, \\n 'estimator__max_features': 'auto', \\n 'estimator__max_depth': 100, \\n 'estimator__bootstrap': True}\\n\""
      ]
     },
     "execution_count": 83,
     "metadata": {},
     "output_type": "execute_result"
    }
   ],
   "source": [
    "# Random forest:\n",
    "\n",
    "from sklearn.multiclass import OutputCodeClassifier\n",
    "from sklearn.ensemble import RandomForestClassifier\n",
    "\n",
    "\n",
    "    \n",
    "rf_clf = OutputCodeClassifier(\n",
    "    estimator=RandomForestClassifier(n_estimators=800,\n",
    "                                     criterion='gini', #{“gini”, “entropy”}\n",
    "                                     max_depth=100, #default=None\n",
    "                                     min_samples_split=2, #int or float, default=2\n",
    "                                     random_state=42,\n",
    "                                     max_features='auto',\n",
    "                                     bootstrap=True,\n",
    "                                     min_samples_leaf=1\n",
    "                                    ),\n",
    "    random_state=42,n_jobs=-1)\n",
    "\n",
    "rf2_clf = RandomForestClassifier(n_estimators=800,\n",
    "                                     criterion='gini', #{“gini”, “entropy”}\n",
    "                                     max_depth=100, #default=None\n",
    "                                     min_samples_split=2, #int or float, default=2\n",
    "                                     random_state=42,\n",
    "                                     max_features='auto',\n",
    "                                     bootstrap=True,\n",
    "                                     min_samples_leaf=1\n",
    "                                    )\n",
    "\n",
    "rf2_clf.fit(X_train, np.ravel(y_train_class))\n",
    "\n",
    "\n",
    "\n",
    "print(rf2_clf.score(X_test,y_test_class))\n",
    "\"\"\"\n",
    "{'estimator__n_estimators': 800, \n",
    " 'estimator__min_samples_split': 2, \n",
    " 'estimator__min_samples_leaf': 1, \n",
    " 'estimator__max_features': 'auto', \n",
    " 'estimator__max_depth': 100, \n",
    " 'estimator__bootstrap': True}\n",
    "\"\"\"\n",
    "\n"
   ]
  },
  {
   "cell_type": "code",
   "execution_count": null,
   "metadata": {},
   "outputs": [],
   "source": []
  },
  {
   "cell_type": "code",
   "execution_count": null,
   "metadata": {},
   "outputs": [],
   "source": []
  },
  {
   "cell_type": "code",
   "execution_count": 84,
   "metadata": {},
   "outputs": [
    {
     "data": {
      "text/plain": [
       "\"\\nfrom sklearn.model_selection import RandomizedSearchCV\\n# Number of trees in random forest\\nn_estimators = [int(x) for x in np.linspace(start = 200, stop = 2000, num = 10)]\\n# Number of features to consider at every split\\nmax_features = ['auto', 'sqrt']\\n# Maximum number of levels in tree\\nmax_depth = [int(x) for x in np.linspace(10, 110, num = 11)]\\nmax_depth.append(None)\\n# Minimum number of samples required to split a node\\nmin_samples_split = [2, 5, 10]\\n# Minimum number of samples required at each leaf node\\nmin_samples_leaf = [1, 2, 4]\\n# Method of selecting samples for training each tree\\nbootstrap = [True, False]\\n# Create the random grid\\nrandom_grid = {'estimator__n_estimators': n_estimators,\\n               'estimator__max_features': max_features,\\n               'estimator__max_depth': max_depth,\\n               'estimator__min_samples_split': min_samples_split,\\n               'estimator__min_samples_leaf': min_samples_leaf,\\n               'estimator__bootstrap': bootstrap}\\n\""
      ]
     },
     "execution_count": 84,
     "metadata": {},
     "output_type": "execute_result"
    }
   ],
   "source": [
    "#RF FINE TUNING\n",
    "\"\"\"\n",
    "from sklearn.model_selection import RandomizedSearchCV\n",
    "# Number of trees in random forest\n",
    "n_estimators = [int(x) for x in np.linspace(start = 200, stop = 2000, num = 10)]\n",
    "# Number of features to consider at every split\n",
    "max_features = ['auto', 'sqrt']\n",
    "# Maximum number of levels in tree\n",
    "max_depth = [int(x) for x in np.linspace(10, 110, num = 11)]\n",
    "max_depth.append(None)\n",
    "# Minimum number of samples required to split a node\n",
    "min_samples_split = [2, 5, 10]\n",
    "# Minimum number of samples required at each leaf node\n",
    "min_samples_leaf = [1, 2, 4]\n",
    "# Method of selecting samples for training each tree\n",
    "bootstrap = [True, False]\n",
    "# Create the random grid\n",
    "random_grid = {'estimator__n_estimators': n_estimators,\n",
    "               'estimator__max_features': max_features,\n",
    "               'estimator__max_depth': max_depth,\n",
    "               'estimator__min_samples_split': min_samples_split,\n",
    "               'estimator__min_samples_leaf': min_samples_leaf,\n",
    "               'estimator__bootstrap': bootstrap}\n",
    "\"\"\"\n",
    "\n"
   ]
  },
  {
   "cell_type": "code",
   "execution_count": 85,
   "metadata": {},
   "outputs": [],
   "source": [
    "\n",
    "#rf_random = RandomizedSearchCV(estimator = clf, param_distributions = random_grid, n_iter = 100, cv = 3, verbose=2, random_state=42, n_jobs = -1)\n",
    "\n",
    "#rf_random.fit(X_train, y_train_class)"
   ]
  },
  {
   "cell_type": "code",
   "execution_count": null,
   "metadata": {},
   "outputs": [],
   "source": []
  },
  {
   "cell_type": "raw",
   "metadata": {},
   "source": []
  },
  {
   "cell_type": "code",
   "execution_count": null,
   "metadata": {},
   "outputs": [],
   "source": []
  },
  {
   "cell_type": "code",
   "execution_count": null,
   "metadata": {},
   "outputs": [],
   "source": []
  },
  {
   "cell_type": "code",
   "execution_count": null,
   "metadata": {},
   "outputs": [],
   "source": []
  },
  {
   "cell_type": "code",
   "execution_count": null,
   "metadata": {},
   "outputs": [],
   "source": []
  },
  {
   "cell_type": "code",
   "execution_count": 86,
   "metadata": {},
   "outputs": [],
   "source": [
    "\n",
    "\n",
    "#y_predicted = resultat"
   ]
  },
  {
   "cell_type": "code",
   "execution_count": 87,
   "metadata": {},
   "outputs": [
    {
     "ename": "NameError",
     "evalue": "name 'y_predicted' is not defined",
     "output_type": "error",
     "traceback": [
      "\u001b[0;31m---------------------------------------------------------------------------\u001b[0m",
      "\u001b[0;31mNameError\u001b[0m                                 Traceback (most recent call last)",
      "\u001b[0;32m<ipython-input-87-9ca524170da3>\u001b[0m in \u001b[0;36m<module>\u001b[0;34m\u001b[0m\n\u001b[0;32m----> 1\u001b[0;31m \u001b[0;32mfor\u001b[0m \u001b[0mi\u001b[0m \u001b[0;32min\u001b[0m \u001b[0mrange\u001b[0m\u001b[0;34m(\u001b[0m\u001b[0mlen\u001b[0m\u001b[0;34m(\u001b[0m\u001b[0my_predicted\u001b[0m\u001b[0;34m)\u001b[0m\u001b[0;34m)\u001b[0m\u001b[0;34m:\u001b[0m\u001b[0;34m\u001b[0m\u001b[0;34m\u001b[0m\u001b[0m\n\u001b[0m\u001b[1;32m      2\u001b[0m     \u001b[0mprint\u001b[0m\u001b[0;34m(\u001b[0m\u001b[0;34m\"predicted: \"\u001b[0m\u001b[0;34m,\u001b[0m \u001b[0my_predicted\u001b[0m\u001b[0;34m[\u001b[0m\u001b[0mi\u001b[0m\u001b[0;34m]\u001b[0m\u001b[0;34m,\u001b[0m \u001b[0;34m\"| Actual Label: \"\u001b[0m\u001b[0;34m,\u001b[0m\u001b[0my_test_class\u001b[0m\u001b[0;34m[\u001b[0m\u001b[0mi\u001b[0m\u001b[0;34m]\u001b[0m\u001b[0;34m[\u001b[0m\u001b[0;36m0\u001b[0m\u001b[0;34m]\u001b[0m\u001b[0;34m,\u001b[0m \u001b[0;34m\" True\"\u001b[0m \u001b[0;32mif\u001b[0m \u001b[0;34m(\u001b[0m\u001b[0my_predicted\u001b[0m\u001b[0;34m[\u001b[0m\u001b[0mi\u001b[0m\u001b[0;34m]\u001b[0m\u001b[0;34m==\u001b[0m\u001b[0my_test_class\u001b[0m\u001b[0;34m[\u001b[0m\u001b[0mi\u001b[0m\u001b[0;34m]\u001b[0m\u001b[0;34m[\u001b[0m\u001b[0;36m0\u001b[0m\u001b[0;34m]\u001b[0m\u001b[0;34m)\u001b[0m \u001b[0;32melse\u001b[0m \u001b[0;34m\" False\"\u001b[0m\u001b[0;34m)\u001b[0m\u001b[0;34m\u001b[0m\u001b[0;34m\u001b[0m\u001b[0m\n\u001b[1;32m      3\u001b[0m \u001b[0mprint\u001b[0m\u001b[0;34m(\u001b[0m\u001b[0;34m\"\\n\"\u001b[0m\u001b[0;34m)\u001b[0m\u001b[0;34m\u001b[0m\u001b[0;34m\u001b[0m\u001b[0m\n",
      "\u001b[0;31mNameError\u001b[0m: name 'y_predicted' is not defined"
     ]
    }
   ],
   "source": [
    "for i in range(len(y_predicted)):\n",
    "    print(\"predicted: \", y_predicted[i], \"| Actual Label: \",y_test_class[i][0], \" True\" if (y_predicted[i]==y_test_class[i][0]) else \" False\")\n",
    "print(\"\\n\")\n"
   ]
  },
  {
   "cell_type": "code",
   "execution_count": null,
   "metadata": {},
   "outputs": [],
   "source": [
    "flat_list = [item for sublist in pipe.ohe.categories_ for item in sublist]\n",
    "features = (flat_list + continuous_features)\n",
    "features = [str(x) for x in features]\n"
   ]
  },
  {
   "cell_type": "code",
   "execution_count": null,
   "metadata": {},
   "outputs": [],
   "source": [
    "len(features)"
   ]
  },
  {
   "cell_type": "code",
   "execution_count": 90,
   "metadata": {},
   "outputs": [],
   "source": [
    "def ViewClassResult(model,continuous=False):\n",
    "    if continuous:\n",
    "        y=model.predict(np.squeeze(X_test))\n",
    "        y_predicted = [np.argmax(pred) for pred in y]\n",
    "    else:\n",
    "        y_predicted=model.predict(np.squeeze(X_test))\n",
    "    \n",
    "    print(np.sum(y_predicted==y_test_class[:,0]),'/',len(y_predicted))\n",
    "    CM = confusion_matrix(y_test_class[:,0], y_predicted)\n",
    "    ConfusionMatrixDisplay(CM).plot()\n",
    "    \n",
    "def ShowFeatureImportances(model):\n",
    "    \"\"\"\n",
    "    Shows the feature importances for a given model\n",
    "    \"\"\"\n",
    "    importance = model.feature_importances_\n",
    "    #for i,v in enumerate(importance):\n",
    "    #    print('Feature: %0d, Score: %.5f' % (i,v))\n",
    "\n",
    "    plt.bar(features, importance)\n",
    "    plt.rcParams[\"figure.figsize\"] = (20,5)\n",
    "    (markerLines, stemLines, baseLines)= plt.stem([57.5],[.2])\n",
    "    \n",
    "    plt.setp(stemLines, color = 'red')\n",
    "    \n",
    "    plt.setp(markerLines, color = 'red', markersize = 0,\n",
    "            markeredgecolor = 'red', markeredgewidth = 0)\n",
    "    \n",
    "    #plt.xlim(57)\n",
    "    plt.show()"
   ]
  },
  {
   "cell_type": "code",
   "execution_count": 91,
   "metadata": {},
   "outputs": [
    {
     "ename": "ValueError",
     "evalue": "shape mismatch: objects cannot be broadcast to a single shape",
     "output_type": "error",
     "traceback": [
      "\u001b[0;31m---------------------------------------------------------------------------\u001b[0m",
      "\u001b[0;31mValueError\u001b[0m                                Traceback (most recent call last)",
      "\u001b[0;32m<ipython-input-91-3f5d2444581f>\u001b[0m in \u001b[0;36m<module>\u001b[0;34m\u001b[0m\n\u001b[0;32m----> 1\u001b[0;31m \u001b[0mShowFeatureImportances\u001b[0m\u001b[0;34m(\u001b[0m\u001b[0mrf2_clf\u001b[0m\u001b[0;34m)\u001b[0m\u001b[0;34m\u001b[0m\u001b[0;34m\u001b[0m\u001b[0m\n\u001b[0m",
      "\u001b[0;32m<ipython-input-90-94b564f3215c>\u001b[0m in \u001b[0;36mShowFeatureImportances\u001b[0;34m(model)\u001b[0m\n\u001b[1;32m     18\u001b[0m     \u001b[0;31m#    print('Feature: %0d, Score: %.5f' % (i,v))\u001b[0m\u001b[0;34m\u001b[0m\u001b[0;34m\u001b[0m\u001b[0;34m\u001b[0m\u001b[0m\n\u001b[1;32m     19\u001b[0m \u001b[0;34m\u001b[0m\u001b[0m\n\u001b[0;32m---> 20\u001b[0;31m     \u001b[0mplt\u001b[0m\u001b[0;34m.\u001b[0m\u001b[0mbar\u001b[0m\u001b[0;34m(\u001b[0m\u001b[0mfeatures\u001b[0m\u001b[0;34m,\u001b[0m \u001b[0mimportance\u001b[0m\u001b[0;34m)\u001b[0m\u001b[0;34m\u001b[0m\u001b[0;34m\u001b[0m\u001b[0m\n\u001b[0m\u001b[1;32m     21\u001b[0m     \u001b[0mplt\u001b[0m\u001b[0;34m.\u001b[0m\u001b[0mrcParams\u001b[0m\u001b[0;34m[\u001b[0m\u001b[0;34m\"figure.figsize\"\u001b[0m\u001b[0;34m]\u001b[0m \u001b[0;34m=\u001b[0m \u001b[0;34m(\u001b[0m\u001b[0;36m20\u001b[0m\u001b[0;34m,\u001b[0m\u001b[0;36m5\u001b[0m\u001b[0;34m)\u001b[0m\u001b[0;34m\u001b[0m\u001b[0;34m\u001b[0m\u001b[0m\n\u001b[1;32m     22\u001b[0m     \u001b[0;34m(\u001b[0m\u001b[0mmarkerLines\u001b[0m\u001b[0;34m,\u001b[0m \u001b[0mstemLines\u001b[0m\u001b[0;34m,\u001b[0m \u001b[0mbaseLines\u001b[0m\u001b[0;34m)\u001b[0m\u001b[0;34m=\u001b[0m \u001b[0mplt\u001b[0m\u001b[0;34m.\u001b[0m\u001b[0mstem\u001b[0m\u001b[0;34m(\u001b[0m\u001b[0;34m[\u001b[0m\u001b[0;36m57.5\u001b[0m\u001b[0;34m]\u001b[0m\u001b[0;34m,\u001b[0m\u001b[0;34m[\u001b[0m\u001b[0;36m.2\u001b[0m\u001b[0;34m]\u001b[0m\u001b[0;34m)\u001b[0m\u001b[0;34m\u001b[0m\u001b[0;34m\u001b[0m\u001b[0m\n",
      "\u001b[0;32m/opt/anaconda3/lib/python3.7/site-packages/matplotlib/pyplot.py\u001b[0m in \u001b[0;36mbar\u001b[0;34m(x, height, width, bottom, align, data, **kwargs)\u001b[0m\n\u001b[1;32m   2487\u001b[0m     return gca().bar(\n\u001b[1;32m   2488\u001b[0m         \u001b[0mx\u001b[0m\u001b[0;34m,\u001b[0m \u001b[0mheight\u001b[0m\u001b[0;34m,\u001b[0m \u001b[0mwidth\u001b[0m\u001b[0;34m=\u001b[0m\u001b[0mwidth\u001b[0m\u001b[0;34m,\u001b[0m \u001b[0mbottom\u001b[0m\u001b[0;34m=\u001b[0m\u001b[0mbottom\u001b[0m\u001b[0;34m,\u001b[0m \u001b[0malign\u001b[0m\u001b[0;34m=\u001b[0m\u001b[0malign\u001b[0m\u001b[0;34m,\u001b[0m\u001b[0;34m\u001b[0m\u001b[0;34m\u001b[0m\u001b[0m\n\u001b[0;32m-> 2489\u001b[0;31m         **({\"data\": data} if data is not None else {}), **kwargs)\n\u001b[0m\u001b[1;32m   2490\u001b[0m \u001b[0;34m\u001b[0m\u001b[0m\n\u001b[1;32m   2491\u001b[0m \u001b[0;34m\u001b[0m\u001b[0m\n",
      "\u001b[0;32m/opt/anaconda3/lib/python3.7/site-packages/matplotlib/__init__.py\u001b[0m in \u001b[0;36minner\u001b[0;34m(ax, data, *args, **kwargs)\u001b[0m\n\u001b[1;32m   1445\u001b[0m     \u001b[0;32mdef\u001b[0m \u001b[0minner\u001b[0m\u001b[0;34m(\u001b[0m\u001b[0max\u001b[0m\u001b[0;34m,\u001b[0m \u001b[0;34m*\u001b[0m\u001b[0margs\u001b[0m\u001b[0;34m,\u001b[0m \u001b[0mdata\u001b[0m\u001b[0;34m=\u001b[0m\u001b[0;32mNone\u001b[0m\u001b[0;34m,\u001b[0m \u001b[0;34m**\u001b[0m\u001b[0mkwargs\u001b[0m\u001b[0;34m)\u001b[0m\u001b[0;34m:\u001b[0m\u001b[0;34m\u001b[0m\u001b[0;34m\u001b[0m\u001b[0m\n\u001b[1;32m   1446\u001b[0m         \u001b[0;32mif\u001b[0m \u001b[0mdata\u001b[0m \u001b[0;32mis\u001b[0m \u001b[0;32mNone\u001b[0m\u001b[0;34m:\u001b[0m\u001b[0;34m\u001b[0m\u001b[0;34m\u001b[0m\u001b[0m\n\u001b[0;32m-> 1447\u001b[0;31m             \u001b[0;32mreturn\u001b[0m \u001b[0mfunc\u001b[0m\u001b[0;34m(\u001b[0m\u001b[0max\u001b[0m\u001b[0;34m,\u001b[0m \u001b[0;34m*\u001b[0m\u001b[0mmap\u001b[0m\u001b[0;34m(\u001b[0m\u001b[0msanitize_sequence\u001b[0m\u001b[0;34m,\u001b[0m \u001b[0margs\u001b[0m\u001b[0;34m)\u001b[0m\u001b[0;34m,\u001b[0m \u001b[0;34m**\u001b[0m\u001b[0mkwargs\u001b[0m\u001b[0;34m)\u001b[0m\u001b[0;34m\u001b[0m\u001b[0;34m\u001b[0m\u001b[0m\n\u001b[0m\u001b[1;32m   1448\u001b[0m \u001b[0;34m\u001b[0m\u001b[0m\n\u001b[1;32m   1449\u001b[0m         \u001b[0mbound\u001b[0m \u001b[0;34m=\u001b[0m \u001b[0mnew_sig\u001b[0m\u001b[0;34m.\u001b[0m\u001b[0mbind\u001b[0m\u001b[0;34m(\u001b[0m\u001b[0max\u001b[0m\u001b[0;34m,\u001b[0m \u001b[0;34m*\u001b[0m\u001b[0margs\u001b[0m\u001b[0;34m,\u001b[0m \u001b[0;34m**\u001b[0m\u001b[0mkwargs\u001b[0m\u001b[0;34m)\u001b[0m\u001b[0;34m\u001b[0m\u001b[0;34m\u001b[0m\u001b[0m\n",
      "\u001b[0;32m/opt/anaconda3/lib/python3.7/site-packages/matplotlib/axes/_axes.py\u001b[0m in \u001b[0;36mbar\u001b[0;34m(self, x, height, width, bottom, align, **kwargs)\u001b[0m\n\u001b[1;32m   2430\u001b[0m         x, height, width, y, linewidth = np.broadcast_arrays(\n\u001b[1;32m   2431\u001b[0m             \u001b[0;31m# Make args iterable too.\u001b[0m\u001b[0;34m\u001b[0m\u001b[0;34m\u001b[0m\u001b[0;34m\u001b[0m\u001b[0m\n\u001b[0;32m-> 2432\u001b[0;31m             np.atleast_1d(x), height, width, y, linewidth)\n\u001b[0m\u001b[1;32m   2433\u001b[0m \u001b[0;34m\u001b[0m\u001b[0m\n\u001b[1;32m   2434\u001b[0m         \u001b[0;31m# Now that units have been converted, set the tick locations.\u001b[0m\u001b[0;34m\u001b[0m\u001b[0;34m\u001b[0m\u001b[0;34m\u001b[0m\u001b[0m\n",
      "\u001b[0;32m<__array_function__ internals>\u001b[0m in \u001b[0;36mbroadcast_arrays\u001b[0;34m(*args, **kwargs)\u001b[0m\n",
      "\u001b[0;32m/opt/anaconda3/lib/python3.7/site-packages/numpy/lib/stride_tricks.py\u001b[0m in \u001b[0;36mbroadcast_arrays\u001b[0;34m(*args, **kwargs)\u001b[0m\n\u001b[1;32m    262\u001b[0m     \u001b[0margs\u001b[0m \u001b[0;34m=\u001b[0m \u001b[0;34m[\u001b[0m\u001b[0mnp\u001b[0m\u001b[0;34m.\u001b[0m\u001b[0marray\u001b[0m\u001b[0;34m(\u001b[0m\u001b[0m_m\u001b[0m\u001b[0;34m,\u001b[0m \u001b[0mcopy\u001b[0m\u001b[0;34m=\u001b[0m\u001b[0;32mFalse\u001b[0m\u001b[0;34m,\u001b[0m \u001b[0msubok\u001b[0m\u001b[0;34m=\u001b[0m\u001b[0msubok\u001b[0m\u001b[0;34m)\u001b[0m \u001b[0;32mfor\u001b[0m \u001b[0m_m\u001b[0m \u001b[0;32min\u001b[0m \u001b[0margs\u001b[0m\u001b[0;34m]\u001b[0m\u001b[0;34m\u001b[0m\u001b[0;34m\u001b[0m\u001b[0m\n\u001b[1;32m    263\u001b[0m \u001b[0;34m\u001b[0m\u001b[0m\n\u001b[0;32m--> 264\u001b[0;31m     \u001b[0mshape\u001b[0m \u001b[0;34m=\u001b[0m \u001b[0m_broadcast_shape\u001b[0m\u001b[0;34m(\u001b[0m\u001b[0;34m*\u001b[0m\u001b[0margs\u001b[0m\u001b[0;34m)\u001b[0m\u001b[0;34m\u001b[0m\u001b[0;34m\u001b[0m\u001b[0m\n\u001b[0m\u001b[1;32m    265\u001b[0m \u001b[0;34m\u001b[0m\u001b[0m\n\u001b[1;32m    266\u001b[0m     \u001b[0;32mif\u001b[0m \u001b[0mall\u001b[0m\u001b[0;34m(\u001b[0m\u001b[0marray\u001b[0m\u001b[0;34m.\u001b[0m\u001b[0mshape\u001b[0m \u001b[0;34m==\u001b[0m \u001b[0mshape\u001b[0m \u001b[0;32mfor\u001b[0m \u001b[0marray\u001b[0m \u001b[0;32min\u001b[0m \u001b[0margs\u001b[0m\u001b[0;34m)\u001b[0m\u001b[0;34m:\u001b[0m\u001b[0;34m\u001b[0m\u001b[0;34m\u001b[0m\u001b[0m\n",
      "\u001b[0;32m/opt/anaconda3/lib/python3.7/site-packages/numpy/lib/stride_tricks.py\u001b[0m in \u001b[0;36m_broadcast_shape\u001b[0;34m(*args)\u001b[0m\n\u001b[1;32m    189\u001b[0m     \u001b[0;31m# use the old-iterator because np.nditer does not handle size 0 arrays\u001b[0m\u001b[0;34m\u001b[0m\u001b[0;34m\u001b[0m\u001b[0;34m\u001b[0m\u001b[0m\n\u001b[1;32m    190\u001b[0m     \u001b[0;31m# consistently\u001b[0m\u001b[0;34m\u001b[0m\u001b[0;34m\u001b[0m\u001b[0;34m\u001b[0m\u001b[0m\n\u001b[0;32m--> 191\u001b[0;31m     \u001b[0mb\u001b[0m \u001b[0;34m=\u001b[0m \u001b[0mnp\u001b[0m\u001b[0;34m.\u001b[0m\u001b[0mbroadcast\u001b[0m\u001b[0;34m(\u001b[0m\u001b[0;34m*\u001b[0m\u001b[0margs\u001b[0m\u001b[0;34m[\u001b[0m\u001b[0;34m:\u001b[0m\u001b[0;36m32\u001b[0m\u001b[0;34m]\u001b[0m\u001b[0;34m)\u001b[0m\u001b[0;34m\u001b[0m\u001b[0;34m\u001b[0m\u001b[0m\n\u001b[0m\u001b[1;32m    192\u001b[0m     \u001b[0;31m# unfortunately, it cannot handle 32 or more arguments directly\u001b[0m\u001b[0;34m\u001b[0m\u001b[0;34m\u001b[0m\u001b[0;34m\u001b[0m\u001b[0m\n\u001b[1;32m    193\u001b[0m     \u001b[0;32mfor\u001b[0m \u001b[0mpos\u001b[0m \u001b[0;32min\u001b[0m \u001b[0mrange\u001b[0m\u001b[0;34m(\u001b[0m\u001b[0;36m32\u001b[0m\u001b[0;34m,\u001b[0m \u001b[0mlen\u001b[0m\u001b[0;34m(\u001b[0m\u001b[0margs\u001b[0m\u001b[0;34m)\u001b[0m\u001b[0;34m,\u001b[0m \u001b[0;36m31\u001b[0m\u001b[0;34m)\u001b[0m\u001b[0;34m:\u001b[0m\u001b[0;34m\u001b[0m\u001b[0;34m\u001b[0m\u001b[0m\n",
      "\u001b[0;31mValueError\u001b[0m: shape mismatch: objects cannot be broadcast to a single shape"
     ]
    },
    {
     "data": {
      "image/png": "[encoded data removed]",
      "text/plain": [
       "<Figure size 432x288 with 1 Axes>"
      ]
     },
     "metadata": {
      "needs_background": "light"
     },
     "output_type": "display_data"
    }
   ],
   "source": [
    "ShowFeatureImportances(rf2_clf)"
   ]
  },
  {
   "cell_type": "code",
   "execution_count": 92,
   "metadata": {},
   "outputs": [
    {
     "name": "stdout",
     "output_type": "stream",
     "text": [
      "221 / 366\n"
     ]
    },
    {
     "data": {
      "image/png": "[encoded data removed]",
      "text/plain": [
       "<Figure size 432x288 with 2 Axes>"
      ]
     },
     "metadata": {
      "needs_background": "light"
     },
     "output_type": "display_data"
    }
   ],
   "source": [
    "ViewClassResult(rf2_clf)\n"
   ]
  },
  {
   "cell_type": "code",
   "execution_count": 93,
   "metadata": {},
   "outputs": [
    {
     "name": "stdout",
     "output_type": "stream",
     "text": [
      "139 / 366\n"
     ]
    },
    {
     "data": {
      "image/png": "[encoded data removed]",
      "text/plain": [
       "<Figure size 432x288 with 2 Axes>"
      ]
     },
     "metadata": {
      "needs_background": "light"
     },
     "output_type": "display_data"
    }
   ],
   "source": [
    "ViewClassResult(model,continuous=True)"
   ]
  },
  {
   "cell_type": "code",
   "execution_count": null,
   "metadata": {},
   "outputs": [],
   "source": []
  },
  {
   "cell_type": "code",
   "execution_count": 94,
   "metadata": {},
   "outputs": [
    {
     "name": "stdout",
     "output_type": "stream",
     "text": [
      "121 / 366\n"
     ]
    },
    {
     "data": {
      "image/png": "[encoded data removed]",
      "text/plain": [
       "<Figure size 432x288 with 2 Axes>"
      ]
     },
     "metadata": {
      "needs_background": "light"
     },
     "output_type": "display_data"
    }
   ],
   "source": [
    "ViewClassResult(OvO_clf)"
   ]
  },
  {
   "cell_type": "code",
   "execution_count": 95,
   "metadata": {},
   "outputs": [
    {
     "name": "stdout",
     "output_type": "stream",
     "text": [
      "194 / 366\n"
     ]
    },
    {
     "data": {
      "image/png": "[encoded data removed]",
      "text/plain": [
       "<Figure size 432x288 with 2 Axes>"
      ]
     },
     "metadata": {
      "needs_background": "light"
     },
     "output_type": "display_data"
    }
   ],
   "source": [
    "ViewClassResult(OvR_clf)"
   ]
  },
  {
   "cell_type": "code",
   "execution_count": null,
   "metadata": {},
   "outputs": [],
   "source": []
  },
  {
   "cell_type": "code",
   "execution_count": null,
   "metadata": {},
   "outputs": [],
   "source": []
  },
  {
   "cell_type": "code",
   "execution_count": null,
   "metadata": {},
   "outputs": [],
   "source": []
  },
  {
   "cell_type": "code",
   "execution_count": null,
   "metadata": {},
   "outputs": [],
   "source": []
  },
  {
   "cell_type": "code",
   "execution_count": null,
   "metadata": {},
   "outputs": [],
   "source": []
  }
 ],
 "metadata": {
  "kernelspec": {
   "display_name": "Python 3",
   "language": "python",
   "name": "python3"
  },
  "language_info": {
   "codemirror_mode": {
    "name": "ipython",
    "version": 3
   },
   "file_extension": ".py",
   "mimetype": "text/x-python",
   "name": "python",
   "nbconvert_exporter": "python",
   "pygments_lexer": "ipython3",
   "version": "3.7.4"
  }
 },
 "nbformat": 4,
 "nbformat_minor": 5
}
