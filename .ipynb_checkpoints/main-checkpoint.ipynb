{
 "cells": [
  {
   "cell_type": "code",
   "execution_count": 44,
   "metadata": {},
   "outputs": [],
   "source": [
    "import pandas as pd\n",
    "import matplotlib.pyplot as plt \n",
    "import time\n",
    "import datetime\n",
    "import numpy as np\n",
    "import time\n",
    "\n",
    "import numba\n",
    "from numba import jit"
   ]
  },
  {
   "cell_type": "code",
   "execution_count": 45,
   "metadata": {},
   "outputs": [],
   "source": [
    "def to_ts(date):\n",
    "    if   \"-\" in date:\n",
    "        forme = \"%Y-%m-%d\"\n",
    "    elif \"/\" in date:\n",
    "        forme = \"%m/%d/%Y\"\n",
    "        \n",
    "    return time.mktime(datetime.datetime.strptime(date, forme).timetuple())"
   ]
  },
  {
   "cell_type": "code",
   "execution_count": 46,
   "metadata": {},
   "outputs": [],
   "source": [
    "df = pd.read_excel('DF(t) .xlsx')\n",
    "df2 = pd.read_excel('Bloom_EUR_OIS.xlsx')\n",
    "df.columns=['t','DF(t)']"
   ]
  },
  {
   "cell_type": "code",
   "execution_count": 47,
   "metadata": {
    "scrolled": true
   },
   "outputs": [
    {
     "data": {
      "text/html": [
       "<div>\n",
       "<style scoped>\n",
       "    .dataframe tbody tr th:only-of-type {\n",
       "        vertical-align: middle;\n",
       "    }\n",
       "\n",
       "    .dataframe tbody tr th {\n",
       "        vertical-align: top;\n",
       "    }\n",
       "\n",
       "    .dataframe thead th {\n",
       "        text-align: right;\n",
       "    }\n",
       "</style>\n",
       "<table border=\"1\" class=\"dataframe\">\n",
       "  <thead>\n",
       "    <tr style=\"text-align: right;\">\n",
       "      <th></th>\n",
       "      <th>t</th>\n",
       "      <th>DF(t)</th>\n",
       "    </tr>\n",
       "  </thead>\n",
       "  <tbody>\n",
       "    <tr>\n",
       "      <th>18257</th>\n",
       "      <td>2070-12-27</td>\n",
       "      <td>1.069258</td>\n",
       "    </tr>\n",
       "    <tr>\n",
       "      <th>18258</th>\n",
       "      <td>2070-12-28</td>\n",
       "      <td>1.069266</td>\n",
       "    </tr>\n",
       "    <tr>\n",
       "      <th>18259</th>\n",
       "      <td>2070-12-29</td>\n",
       "      <td>1.069274</td>\n",
       "    </tr>\n",
       "    <tr>\n",
       "      <th>18260</th>\n",
       "      <td>2070-12-30</td>\n",
       "      <td>1.069282</td>\n",
       "    </tr>\n",
       "    <tr>\n",
       "      <th>18261</th>\n",
       "      <td>2070-12-31</td>\n",
       "      <td>1.069290</td>\n",
       "    </tr>\n",
       "  </tbody>\n",
       "</table>\n",
       "</div>"
      ],
      "text/plain": [
       "               t     DF(t)\n",
       "18257 2070-12-27  1.069258\n",
       "18258 2070-12-28  1.069266\n",
       "18259 2070-12-29  1.069274\n",
       "18260 2070-12-30  1.069282\n",
       "18261 2070-12-31  1.069290"
      ]
     },
     "execution_count": 47,
     "metadata": {},
     "output_type": "execute_result"
    }
   ],
   "source": [
    "df.tail()"
   ]
  },
  {
   "cell_type": "code",
   "execution_count": 48,
   "metadata": {
    "scrolled": true
   },
   "outputs": [
    {
     "data": {
      "text/html": [
       "<div>\n",
       "<style scoped>\n",
       "    .dataframe tbody tr th:only-of-type {\n",
       "        vertical-align: middle;\n",
       "    }\n",
       "\n",
       "    .dataframe tbody tr th {\n",
       "        vertical-align: top;\n",
       "    }\n",
       "\n",
       "    .dataframe thead th {\n",
       "        text-align: right;\n",
       "    }\n",
       "</style>\n",
       "<table border=\"1\" class=\"dataframe\">\n",
       "  <thead>\n",
       "    <tr style=\"text-align: right;\">\n",
       "      <th></th>\n",
       "      <th>Payment Date</th>\n",
       "      <th>Maturity Date</th>\n",
       "      <th>Market Rate</th>\n",
       "      <th>Shift (bp)</th>\n",
       "      <th>Shifted Rate</th>\n",
       "      <th>Zero Rate</th>\n",
       "      <th>Discount</th>\n",
       "      <th>Source</th>\n",
       "    </tr>\n",
       "  </thead>\n",
       "  <tbody>\n",
       "    <tr>\n",
       "      <th>0</th>\n",
       "      <td>01/06/2021</td>\n",
       "      <td>01/06/2021</td>\n",
       "      <td>-0.4980</td>\n",
       "      <td>0</td>\n",
       "      <td>-0.4980</td>\n",
       "      <td>-0.504920</td>\n",
       "      <td>1.000014</td>\n",
       "      <td>CASH</td>\n",
       "    </tr>\n",
       "    <tr>\n",
       "      <th>1</th>\n",
       "      <td>01/12/2021</td>\n",
       "      <td>01/12/2021</td>\n",
       "      <td>-0.4700</td>\n",
       "      <td>0</td>\n",
       "      <td>-0.4700</td>\n",
       "      <td>-0.476550</td>\n",
       "      <td>1.000091</td>\n",
       "      <td>DETAILED_SWAP</td>\n",
       "    </tr>\n",
       "    <tr>\n",
       "      <th>2</th>\n",
       "      <td>01/19/2021</td>\n",
       "      <td>01/19/2021</td>\n",
       "      <td>-0.4700</td>\n",
       "      <td>0</td>\n",
       "      <td>-0.4700</td>\n",
       "      <td>-0.476572</td>\n",
       "      <td>1.000183</td>\n",
       "      <td>DETAILED_SWAP</td>\n",
       "    </tr>\n",
       "    <tr>\n",
       "      <th>3</th>\n",
       "      <td>02/05/2021</td>\n",
       "      <td>02/05/2021</td>\n",
       "      <td>-0.4719</td>\n",
       "      <td>0</td>\n",
       "      <td>-0.4719</td>\n",
       "      <td>-0.478551</td>\n",
       "      <td>1.000407</td>\n",
       "      <td>DETAILED_SWAP</td>\n",
       "    </tr>\n",
       "    <tr>\n",
       "      <th>4</th>\n",
       "      <td>03/05/2021</td>\n",
       "      <td>03/05/2021</td>\n",
       "      <td>-0.4750</td>\n",
       "      <td>0</td>\n",
       "      <td>-0.4750</td>\n",
       "      <td>-0.481785</td>\n",
       "      <td>1.000779</td>\n",
       "      <td>DETAILED_SWAP</td>\n",
       "    </tr>\n",
       "  </tbody>\n",
       "</table>\n",
       "</div>"
      ],
      "text/plain": [
       "  Payment Date Maturity Date  Market Rate  Shift (bp)  Shifted Rate  \\\n",
       "0   01/06/2021    01/06/2021      -0.4980           0       -0.4980   \n",
       "1   01/12/2021    01/12/2021      -0.4700           0       -0.4700   \n",
       "2   01/19/2021    01/19/2021      -0.4700           0       -0.4700   \n",
       "3   02/05/2021    02/05/2021      -0.4719           0       -0.4719   \n",
       "4   03/05/2021    03/05/2021      -0.4750           0       -0.4750   \n",
       "\n",
       "   Zero Rate  Discount         Source  \n",
       "0  -0.504920  1.000014           CASH  \n",
       "1  -0.476550  1.000091  DETAILED_SWAP  \n",
       "2  -0.476572  1.000183  DETAILED_SWAP  \n",
       "3  -0.478551  1.000407  DETAILED_SWAP  \n",
       "4  -0.481785  1.000779  DETAILED_SWAP  "
      ]
     },
     "execution_count": 48,
     "metadata": {},
     "output_type": "execute_result"
    }
   ],
   "source": [
    "df2.head()"
   ]
  },
  {
   "cell_type": "code",
   "execution_count": 49,
   "metadata": {},
   "outputs": [],
   "source": [
    "def append_m_rate(date):\n",
    "    k=0\n",
    "    try:\n",
    "        while not to_ts(df2.T[k]['Payment Date'])<= to_ts(date) <= to_ts(df2.T[k+1]['Payment Date']):\n",
    "            k+=1\n",
    "\n",
    "        return df2.T[k]['Market Rate']\n",
    "    except:\n",
    "        return 0.0\n",
    "\n",
    "def keep_date(date_w_hours):\n",
    "    return str(date_w_hours).split(\" \")[0]\n",
    "\n",
    "#df['t'] = df['t'].apply(keep_date)"
   ]
  },
  {
   "cell_type": "code",
   "execution_count": 50,
   "metadata": {},
   "outputs": [
    {
     "data": {
      "text/plain": [
       "0       2021-01-01\n",
       "1       2021-01-02\n",
       "2       2021-01-03\n",
       "3       2021-01-04\n",
       "4       2021-01-05\n",
       "           ...    \n",
       "18257   2070-12-27\n",
       "18258   2070-12-28\n",
       "18259   2070-12-29\n",
       "18260   2070-12-30\n",
       "18261   2070-12-31\n",
       "Name: t, Length: 18262, dtype: datetime64[ns]"
      ]
     },
     "execution_count": 50,
     "metadata": {},
     "output_type": "execute_result"
    }
   ],
   "source": [
    "#df['Market Rate'] = df['t'].apply(append_m_rate)\n",
    "df['t']"
   ]
  },
  {
   "cell_type": "code",
   "execution_count": 51,
   "metadata": {},
   "outputs": [
    {
     "data": {
      "image/png": "[encoded data removed]",
      "text/plain": [
       "<Figure size 432x288 with 1 Axes>"
      ]
     },
     "metadata": {
      "needs_background": "light"
     },
     "output_type": "display_data"
    }
   ],
   "source": [
    "plt.plot(df['t'],df['DF(t)'])\n",
    "plt.show()"
   ]
  },
  {
   "cell_type": "code",
   "execution_count": null,
   "metadata": {},
   "outputs": [],
   "source": []
  },
  {
   "cell_type": "code",
   "execution_count": 52,
   "metadata": {
    "scrolled": true
   },
   "outputs": [
    {
     "data": {
      "text/html": [
       "<div>\n",
       "<style scoped>\n",
       "    .dataframe tbody tr th:only-of-type {\n",
       "        vertical-align: middle;\n",
       "    }\n",
       "\n",
       "    .dataframe tbody tr th {\n",
       "        vertical-align: top;\n",
       "    }\n",
       "\n",
       "    .dataframe thead th {\n",
       "        text-align: right;\n",
       "    }\n",
       "</style>\n",
       "<table border=\"1\" class=\"dataframe\">\n",
       "  <thead>\n",
       "    <tr style=\"text-align: right;\">\n",
       "      <th></th>\n",
       "      <th>t</th>\n",
       "      <th>DF(t)</th>\n",
       "    </tr>\n",
       "  </thead>\n",
       "  <tbody>\n",
       "    <tr>\n",
       "      <th>0</th>\n",
       "      <td>2021-01-01</td>\n",
       "      <td>1.0</td>\n",
       "    </tr>\n",
       "    <tr>\n",
       "      <th>1</th>\n",
       "      <td>2021-01-02</td>\n",
       "      <td>1.0</td>\n",
       "    </tr>\n",
       "    <tr>\n",
       "      <th>2</th>\n",
       "      <td>2021-01-03</td>\n",
       "      <td>1.0</td>\n",
       "    </tr>\n",
       "    <tr>\n",
       "      <th>3</th>\n",
       "      <td>2021-01-04</td>\n",
       "      <td>1.0</td>\n",
       "    </tr>\n",
       "    <tr>\n",
       "      <th>4</th>\n",
       "      <td>2021-01-05</td>\n",
       "      <td>1.0</td>\n",
       "    </tr>\n",
       "  </tbody>\n",
       "</table>\n",
       "</div>"
      ],
      "text/plain": [
       "           t  DF(t)\n",
       "0 2021-01-01    1.0\n",
       "1 2021-01-02    1.0\n",
       "2 2021-01-03    1.0\n",
       "3 2021-01-04    1.0\n",
       "4 2021-01-05    1.0"
      ]
     },
     "execution_count": 52,
     "metadata": {},
     "output_type": "execute_result"
    }
   ],
   "source": [
    "df['t'][0]\n",
    "\n",
    "df['t'][1]\n",
    "\n",
    "(df['t'][1]<df['t'][0])\n",
    "\n",
    "df.head()"
   ]
  },
  {
   "cell_type": "code",
   "execution_count": 87,
   "metadata": {},
   "outputs": [],
   "source": [
    "# P = DF\n",
    "class Stripper:\n",
    "    def __init__(self):\n",
    "        #self.df = pd.read_excel('DF(t) .xlsx')\n",
    "        self.df = pd.read_csv('data.csv')\n",
    "        self.df2 = pd.read_excel('Bloom_EUR_OIS.xlsx')\n",
    "        self.df2['Payment Date'] = self.df2['Payment Date'].apply(self.temps)\n",
    "        #self.df.columns=['t','DF(t)']\n",
    "        \n",
    "        self.df['t'] = pd.to_datetime(self.df['t'])\n",
    "        self.df['t'] = self.df['t'].apply(datetime.datetime.timestamp)\n",
    "        self.df['t'] = self.df['t']/86400\n",
    "        self.df['P'] = self.df['t'].apply(self.P)\n",
    "        self.n = len(self.df)\n",
    "        self.N = 100\n",
    "        self.R = .4\n",
    "        self.LGD = 1-self.R\n",
    "    \n",
    "    def temps(self,x):\n",
    "        return datetime.datetime.strptime(x,  \"%m/%d/%Y\")\n",
    "    \n",
    "    \n",
    "    def delta(self,t1,t2):\n",
    "        return (t2-t1)#.days\n",
    "            \n",
    "    def P(self,T):\n",
    "        return np.average(self.df[self.df.t <= T]['DF(t)'])\n",
    "    \n",
    "    def F(self,t,S,T):\n",
    "        return (self.P(S)/self.P(T)-1)/self.delta(S,T)\n",
    "        \n",
    "        \n",
    "        \n",
    "    def m_rate(self,date):\n",
    "        k=0\n",
    "        max_k = len(self.df2.T)\n",
    "        while not self.df2.T[k]['Payment Date']<= date :#<= self.df2.T[k+1]['Payment Date']:\n",
    "            k+=1\n",
    "            if k == max_k-2:\n",
    "                print(\"error\")\n",
    "                break\n",
    "\n",
    "        return self.df2.T[k]['Market Rate']\n",
    "\n",
    "        \n",
    "    def append_m_rate(self):\n",
    "        self.df['MarketRate'] = np.vectorize(self.m_rate)(self.df['t'])\n",
    "    \n",
    "        \n",
    "    def append_prices(self):\n",
    "        self.df['V'] = np.cumsum(self.df['MarketRate']*self.df['DF(t)'])\n",
    "\n",
    "        \n",
    "        \n",
    "    def polynome(self,t, p = .5):\n",
    "        \n",
    "        #t = self.df['t'][i]\n",
    "        s = 0\n",
    "        \n",
    "        for j in range(1+list(self.df['t']).index(t),self.n):\n",
    "            T    = self.df['t'][j]\n",
    "            T_1  = self.df['t'][j-1]\n",
    "            \n",
    "            s +=    list(self.df['P'])[j]*         \\\n",
    "                    p**self.delta(t,T)*  \\\n",
    "                    self.F(t,T_1,T)*     \\\n",
    "                    self.delta(T_1,T)    \\\n",
    "                    +                    \\\n",
    "                    (p**self.delta(t,T_1) - p**self.delta(t,T))*(1-self.LGD)\n",
    "\n",
    "\n",
    "        s += list(self.df['P'])[-1]* p**self.delta(t, list(self.df['t'])[-1])\n",
    "\n",
    "        return s\n",
    "    \n",
    "    \n",
    "    def solve_polynome(self,t,V, epsilon = 1e-3, max_iter = 50):\n",
    "        a = 0\n",
    "        b = 1\n",
    "        p = (b+a) / 2\n",
    "        \n",
    "        val = self.polynome(t,p)\n",
    "\n",
    "        while np.abs(val+V/self.N)>epsilon and max_iter>0:\n",
    "            max_iter-=1\n",
    "            \n",
    "            if val < 0:\n",
    "                a=p\n",
    "            else:\n",
    "                b=p\n",
    "            p=(b+a)/2\n",
    "            val = self.polynome(t,p)\n",
    "        print(\"Prix/N-polynome(p) = {}\".format(np.abs(val+V/self.N)))\n",
    "        return p \n",
    "\n",
    "        \n",
    "        \n",
    "        \n",
    "         "
   ]
  },
  {
   "cell_type": "code",
   "execution_count": 88,
   "metadata": {},
   "outputs": [],
   "source": [
    "stripper = Stripper()\n",
    "stripper.append_prices()"
   ]
  },
  {
   "cell_type": "code",
   "execution_count": 89,
   "metadata": {
    "scrolled": true
   },
   "outputs": [
    {
     "data": {
      "text/html": [
       "<div>\n",
       "<style scoped>\n",
       "    .dataframe tbody tr th:only-of-type {\n",
       "        vertical-align: middle;\n",
       "    }\n",
       "\n",
       "    .dataframe tbody tr th {\n",
       "        vertical-align: top;\n",
       "    }\n",
       "\n",
       "    .dataframe thead th {\n",
       "        text-align: right;\n",
       "    }\n",
       "</style>\n",
       "<table border=\"1\" class=\"dataframe\">\n",
       "  <thead>\n",
       "    <tr style=\"text-align: right;\">\n",
       "      <th></th>\n",
       "      <th>Unnamed: 0</th>\n",
       "      <th>t</th>\n",
       "      <th>DF(t)</th>\n",
       "      <th>MarketRate</th>\n",
       "      <th>P</th>\n",
       "      <th>V</th>\n",
       "    </tr>\n",
       "  </thead>\n",
       "  <tbody>\n",
       "    <tr>\n",
       "      <th>18257</th>\n",
       "      <td>18257</td>\n",
       "      <td>36884.958333</td>\n",
       "      <td>1.069258</td>\n",
       "      <td>-0.498</td>\n",
       "      <td>1.026126</td>\n",
       "      <td>-9329.958221</td>\n",
       "    </tr>\n",
       "    <tr>\n",
       "      <th>18258</th>\n",
       "      <td>18258</td>\n",
       "      <td>36885.958333</td>\n",
       "      <td>1.069266</td>\n",
       "      <td>-0.498</td>\n",
       "      <td>1.026129</td>\n",
       "      <td>-9330.490715</td>\n",
       "    </tr>\n",
       "    <tr>\n",
       "      <th>18259</th>\n",
       "      <td>18259</td>\n",
       "      <td>36886.958333</td>\n",
       "      <td>1.069274</td>\n",
       "      <td>-0.498</td>\n",
       "      <td>1.026131</td>\n",
       "      <td>-9331.023214</td>\n",
       "    </tr>\n",
       "    <tr>\n",
       "      <th>18260</th>\n",
       "      <td>18260</td>\n",
       "      <td>36887.958333</td>\n",
       "      <td>1.069282</td>\n",
       "      <td>-0.498</td>\n",
       "      <td>1.026133</td>\n",
       "      <td>-9331.555716</td>\n",
       "    </tr>\n",
       "    <tr>\n",
       "      <th>18261</th>\n",
       "      <td>18261</td>\n",
       "      <td>36888.958333</td>\n",
       "      <td>1.069290</td>\n",
       "      <td>-0.498</td>\n",
       "      <td>1.026136</td>\n",
       "      <td>-9332.088223</td>\n",
       "    </tr>\n",
       "  </tbody>\n",
       "</table>\n",
       "</div>"
      ],
      "text/plain": [
       "       Unnamed: 0             t     DF(t)  MarketRate         P            V\n",
       "18257       18257  36884.958333  1.069258      -0.498  1.026126 -9329.958221\n",
       "18258       18258  36885.958333  1.069266      -0.498  1.026129 -9330.490715\n",
       "18259       18259  36886.958333  1.069274      -0.498  1.026131 -9331.023214\n",
       "18260       18260  36887.958333  1.069282      -0.498  1.026133 -9331.555716\n",
       "18261       18261  36888.958333  1.069290      -0.498  1.026136 -9332.088223"
      ]
     },
     "execution_count": 89,
     "metadata": {},
     "output_type": "execute_result"
    }
   ],
   "source": [
    "stripper.df.tail()"
   ]
  },
  {
   "cell_type": "code",
   "execution_count": null,
   "metadata": {},
   "outputs": [],
   "source": []
  },
  {
   "cell_type": "code",
   "execution_count": 90,
   "metadata": {},
   "outputs": [],
   "source": [
    "\"\"\"\n",
    "Idée pour la résolution numérique\n",
    "\"\"\"\n",
    "\n",
    "def polynome(p):\n",
    "    return (p-.45678)\n",
    "    \n",
    "def solve_polynome(polynome, epsilon = 1e-3):\n",
    "    a = 0\n",
    "    b = 1\n",
    "    p = (b+a) / 2\n",
    "    \n",
    "    while np.abs(polynome(p))>epsilon:\n",
    "        if polynome(p) < 0:\n",
    "            a=p\n",
    "        else:\n",
    "            b=p\n",
    "        p=(b+a)/2\n",
    "        \n",
    "    return p \n",
    "    "
   ]
  },
  {
   "cell_type": "code",
   "execution_count": null,
   "metadata": {
    "scrolled": false
   },
   "outputs": [],
   "source": []
  },
  {
   "cell_type": "code",
   "execution_count": null,
   "metadata": {
    "scrolled": false
   },
   "outputs": [
    {
     "name": "stdout",
     "output_type": "stream",
     "text": [
      "évaluation du polynome pour différentes valeurs de t \n",
      "avec p fixé p = 0.5 \n",
      "\n",
      "\n",
      "==================\n"
     ]
    }
   ],
   "source": [
    "print(\"évaluation du polynome pour différentes valeurs de t \\navec p fixé p = 0.5 \\n\\n\")\n",
    "\n",
    "for i in range(len(stripper.df['t'])):\n",
    "    \n",
    "    t_i = stripper.df['t'][i]\n",
    "    V_i = stripper.df['V'][i]\n",
    "    \n",
    "    \n",
    "    print(\"==================\")\n",
    "    t1 = time.time()\n",
    "    print(\"p = {}\".format(stripper.solve_polynome(t_i, V_i)))\n",
    "    print(\"Execution time = {}s\".format(round(time.time()-t1,3)))\n",
    "    #stripper.polynome(t)"
   ]
  },
  {
   "cell_type": "raw",
   "metadata": {},
   "source": [
    "==================\n",
    "p = 0.015625\n",
    "Execution time = 213.456s\n",
    "==================\n",
    "p = 0.015625\n",
    "Execution time = 213.05s\n",
    "==================\n",
    "p = 0.015625\n",
    "Execution time = 571.153s\n",
    "=================="
   ]
  },
  {
   "cell_type": "code",
   "execution_count": null,
   "metadata": {},
   "outputs": [],
   "source": []
  },
  {
   "cell_type": "code",
   "execution_count": null,
   "metadata": {},
   "outputs": [],
   "source": []
  },
  {
   "cell_type": "code",
   "execution_count": null,
   "metadata": {},
   "outputs": [],
   "source": []
  },
  {
   "cell_type": "code",
   "execution_count": 66,
   "metadata": {},
   "outputs": [],
   "source": [
    "!code ."
   ]
  },
  {
   "cell_type": "code",
   "execution_count": null,
   "metadata": {},
   "outputs": [],
   "source": []
  },
  {
   "cell_type": "code",
   "execution_count": null,
   "metadata": {},
   "outputs": [],
   "source": []
  },
  {
   "cell_type": "code",
   "execution_count": null,
   "metadata": {},
   "outputs": [],
   "source": []
  },
  {
   "cell_type": "code",
   "execution_count": null,
   "metadata": {},
   "outputs": [],
   "source": []
  },
  {
   "cell_type": "code",
   "execution_count": null,
   "metadata": {},
   "outputs": [],
   "source": []
  },
  {
   "cell_type": "code",
   "execution_count": null,
   "metadata": {},
   "outputs": [],
   "source": []
  }
 ],
 "metadata": {
  "kernelspec": {
   "display_name": "Python 3",
   "language": "python",
   "name": "python3"
  },
  "language_info": {
   "codemirror_mode": {
    "name": "ipython",
    "version": 3
   },
   "file_extension": ".py",
   "mimetype": "text/x-python",
   "name": "python",
   "nbconvert_exporter": "python",
   "pygments_lexer": "ipython3",
   "version": "3.7.4"
  }
 },
 "nbformat": 4,
 "nbformat_minor": 5
}
