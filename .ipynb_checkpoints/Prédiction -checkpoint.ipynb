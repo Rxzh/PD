{
 "cells": [
  {
   "cell_type": "markdown",
   "metadata": {},
   "source": [
    "# Prédiction de la probabilité de défaut "
   ]
  },
  {
   "cell_type": "markdown",
   "metadata": {},
   "source": [
    "# 1. Préparation des données"
   ]
  },
  {
   "cell_type": "code",
   "execution_count": 1,
   "metadata": {},
   "outputs": [],
   "source": [
    "import pandas as pd \n",
    "import matplotlib.pyplot as plt\n",
    "import numpy as np\n",
    "from numpy.random import randn\n",
    "import tensorflow as tf\n",
    "\n",
    "from tensorflow.keras import Input\n",
    "from tensorflow.keras.models import Sequential\n",
    "from tensorflow.keras.layers import Dense, Dropout, Conv1D, Conv2D\n",
    "from tensorflow.keras.optimizers import SGD,Adam,Nadam,Adadelta\n",
    "from tensorflow import keras\n",
    "\n",
    "from sklearn import preprocessing, model_selection\n",
    "from sklearn.preprocessing import KBinsDiscretizer\n",
    "from sklearn.metrics import confusion_matrix, ConfusionMatrixDisplay"
   ]
  },
  {
   "cell_type": "markdown",
   "metadata": {},
   "source": [
    "## a. Chargement des données"
   ]
  },
  {
   "cell_type": "code",
   "execution_count": 2,
   "metadata": {},
   "outputs": [
    {
     "data": {
      "text/plain": [
       "(48836, 24)"
      ]
     },
     "execution_count": 2,
     "metadata": {},
     "output_type": "execute_result"
    }
   ],
   "source": [
    "df = pd.read_csv('market_data_pd.csv',sep=',')\n",
    "df.shape"
   ]
  },
  {
   "cell_type": "code",
   "execution_count": 3,
   "metadata": {},
   "outputs": [
    {
     "data": {
      "text/html": [
       "<div>\n",
       "<style scoped>\n",
       "    .dataframe tbody tr th:only-of-type {\n",
       "        vertical-align: middle;\n",
       "    }\n",
       "\n",
       "    .dataframe tbody tr th {\n",
       "        vertical-align: top;\n",
       "    }\n",
       "\n",
       "    .dataframe thead th {\n",
       "        text-align: right;\n",
       "    }\n",
       "</style>\n",
       "<table border=\"1\" class=\"dataframe\">\n",
       "  <thead>\n",
       "    <tr style=\"text-align: right;\">\n",
       "      <th></th>\n",
       "      <th>Unnamed: 0</th>\n",
       "      <th>Reference Security</th>\n",
       "      <th>Bid Price</th>\n",
       "      <th>Ask Price</th>\n",
       "      <th>Mid Price</th>\n",
       "      <th>Cpn</th>\n",
       "      <th>Maturity</th>\n",
       "      <th>Common Eqty / Tot Assets</th>\n",
       "      <th>Debt / Common Equity</th>\n",
       "      <th>TCE Ratio</th>\n",
       "      <th>...</th>\n",
       "      <th>Amt Out</th>\n",
       "      <th>Total Assets</th>\n",
       "      <th>BCLASS Level 3</th>\n",
       "      <th>Guarantee Type</th>\n",
       "      <th>Guarantor Type</th>\n",
       "      <th>Collat Type</th>\n",
       "      <th>PD_1y</th>\n",
       "      <th>reprice</th>\n",
       "      <th>maturity_years</th>\n",
       "      <th>Error %</th>\n",
       "    </tr>\n",
       "  </thead>\n",
       "  <tbody>\n",
       "    <tr>\n",
       "      <th>5909</th>\n",
       "      <td>5909</td>\n",
       "      <td>ZS424035 Corp</td>\n",
       "      <td>0.010</td>\n",
       "      <td>0.750</td>\n",
       "      <td>0.3800</td>\n",
       "      <td>1.5000</td>\n",
       "      <td>04/26/2024</td>\n",
       "      <td>-147.17300</td>\n",
       "      <td>NaN</td>\n",
       "      <td>-149.82800</td>\n",
       "      <td>...</td>\n",
       "      <td>1.186770e+09</td>\n",
       "      <td>3359.72</td>\n",
       "      <td>Other Industrial</td>\n",
       "      <td>Multiple</td>\n",
       "      <td>Subsidiaries</td>\n",
       "      <td>SR SECURED</td>\n",
       "      <td>1.0</td>\n",
       "      <td>40.007513</td>\n",
       "      <td>2.709589</td>\n",
       "      <td>10428.292944</td>\n",
       "    </tr>\n",
       "    <tr>\n",
       "      <th>1456</th>\n",
       "      <td>1456</td>\n",
       "      <td>AN346569 Corp</td>\n",
       "      <td>0.125</td>\n",
       "      <td>0.700</td>\n",
       "      <td>0.4125</td>\n",
       "      <td>3.8750</td>\n",
       "      <td>10/25/2022</td>\n",
       "      <td>12.72580</td>\n",
       "      <td>177.366</td>\n",
       "      <td>-23.21850</td>\n",
       "      <td>...</td>\n",
       "      <td>4.000000e+08</td>\n",
       "      <td>1808.09</td>\n",
       "      <td>Electric</td>\n",
       "      <td>Multiple</td>\n",
       "      <td>Parent &amp; Subsidiaries</td>\n",
       "      <td>SR SECURED</td>\n",
       "      <td>1.0</td>\n",
       "      <td>40.007513</td>\n",
       "      <td>1.205479</td>\n",
       "      <td>9598.791076</td>\n",
       "    </tr>\n",
       "    <tr>\n",
       "      <th>827</th>\n",
       "      <td>827</td>\n",
       "      <td>AL458635 Corp</td>\n",
       "      <td>0.250</td>\n",
       "      <td>1.750</td>\n",
       "      <td>1.0000</td>\n",
       "      <td>6.2500</td>\n",
       "      <td>06/15/2022</td>\n",
       "      <td>NaN</td>\n",
       "      <td>NaN</td>\n",
       "      <td>NaN</td>\n",
       "      <td>...</td>\n",
       "      <td>7.500000e+08</td>\n",
       "      <td>NaN</td>\n",
       "      <td>Consumer Cyclical</td>\n",
       "      <td>N.A.</td>\n",
       "      <td>N.A.</td>\n",
       "      <td>SR UNSECURED</td>\n",
       "      <td>1.0</td>\n",
       "      <td>42.507983</td>\n",
       "      <td>0.843836</td>\n",
       "      <td>4150.798276</td>\n",
       "    </tr>\n",
       "    <tr>\n",
       "      <th>44900</th>\n",
       "      <td>44900</td>\n",
       "      <td>QJ879163 Corp</td>\n",
       "      <td>0.407</td>\n",
       "      <td>1.481</td>\n",
       "      <td>0.9440</td>\n",
       "      <td>9.8776</td>\n",
       "      <td>12/01/2025</td>\n",
       "      <td>5.74708</td>\n",
       "      <td>467.713</td>\n",
       "      <td>4.97044</td>\n",
       "      <td>...</td>\n",
       "      <td>2.000000e+08</td>\n",
       "      <td>1002610.00</td>\n",
       "      <td>Banking</td>\n",
       "      <td>N.A.</td>\n",
       "      <td>N.A.</td>\n",
       "      <td>SUBORDINATED</td>\n",
       "      <td>1.0</td>\n",
       "      <td>40.007513</td>\n",
       "      <td>4.309589</td>\n",
       "      <td>4138.084024</td>\n",
       "    </tr>\n",
       "    <tr>\n",
       "      <th>44899</th>\n",
       "      <td>44899</td>\n",
       "      <td>QJ879163 Corp</td>\n",
       "      <td>0.396</td>\n",
       "      <td>1.499</td>\n",
       "      <td>0.9475</td>\n",
       "      <td>9.8776</td>\n",
       "      <td>12/01/2025</td>\n",
       "      <td>5.74708</td>\n",
       "      <td>467.713</td>\n",
       "      <td>4.97044</td>\n",
       "      <td>...</td>\n",
       "      <td>2.000000e+08</td>\n",
       "      <td>1002610.00</td>\n",
       "      <td>Banking</td>\n",
       "      <td>N.A.</td>\n",
       "      <td>N.A.</td>\n",
       "      <td>SUBORDINATED</td>\n",
       "      <td>1.0</td>\n",
       "      <td>40.007513</td>\n",
       "      <td>4.309589</td>\n",
       "      <td>4122.428832</td>\n",
       "    </tr>\n",
       "  </tbody>\n",
       "</table>\n",
       "<p>5 rows × 24 columns</p>\n",
       "</div>"
      ],
      "text/plain": [
       "       Unnamed: 0 Reference Security  Bid Price  Ask Price  Mid Price     Cpn  \\\n",
       "5909         5909      ZS424035 Corp      0.010      0.750     0.3800  1.5000   \n",
       "1456         1456      AN346569 Corp      0.125      0.700     0.4125  3.8750   \n",
       "827           827      AL458635 Corp      0.250      1.750     1.0000  6.2500   \n",
       "44900       44900      QJ879163 Corp      0.407      1.481     0.9440  9.8776   \n",
       "44899       44899      QJ879163 Corp      0.396      1.499     0.9475  9.8776   \n",
       "\n",
       "         Maturity  Common Eqty / Tot Assets  Debt / Common Equity  TCE Ratio  \\\n",
       "5909   04/26/2024                -147.17300                   NaN -149.82800   \n",
       "1456   10/25/2022                  12.72580               177.366  -23.21850   \n",
       "827    06/15/2022                       NaN                   NaN        NaN   \n",
       "44900  12/01/2025                   5.74708               467.713    4.97044   \n",
       "44899  12/01/2025                   5.74708               467.713    4.97044   \n",
       "\n",
       "       ...       Amt Out  Total Assets     BCLASS Level 3  Guarantee Type  \\\n",
       "5909   ...  1.186770e+09       3359.72   Other Industrial        Multiple   \n",
       "1456   ...  4.000000e+08       1808.09           Electric        Multiple   \n",
       "827    ...  7.500000e+08           NaN  Consumer Cyclical            N.A.   \n",
       "44900  ...  2.000000e+08    1002610.00            Banking            N.A.   \n",
       "44899  ...  2.000000e+08    1002610.00            Banking            N.A.   \n",
       "\n",
       "              Guarantor Type   Collat Type PD_1y    reprice maturity_years  \\\n",
       "5909            Subsidiaries    SR SECURED   1.0  40.007513       2.709589   \n",
       "1456   Parent & Subsidiaries    SR SECURED   1.0  40.007513       1.205479   \n",
       "827                     N.A.  SR UNSECURED   1.0  42.507983       0.843836   \n",
       "44900                   N.A.  SUBORDINATED   1.0  40.007513       4.309589   \n",
       "44899                   N.A.  SUBORDINATED   1.0  40.007513       4.309589   \n",
       "\n",
       "            Error %  \n",
       "5909   10428.292944  \n",
       "1456    9598.791076  \n",
       "827     4150.798276  \n",
       "44900   4138.084024  \n",
       "44899   4122.428832  \n",
       "\n",
       "[5 rows x 24 columns]"
      ]
     },
     "execution_count": 3,
     "metadata": {},
     "output_type": "execute_result"
    }
   ],
   "source": [
    "df.sort_values('Error %', ascending=False).head()"
   ]
  },
  {
   "cell_type": "code",
   "execution_count": 4,
   "metadata": {
    "scrolled": true
   },
   "outputs": [],
   "source": [
    "def count_nan(df):\n",
    "    for col_name in df.columns:\n",
    "        n_nan = df[col_name].isna().sum()\n",
    "        if n_nan > 0:\n",
    "            print(\"Colomn : \", col_name)  \n",
    "            print(\"NaN : {}/{}\".format(n_nan,len(df[col_name])))\n",
    "            print(\"===============================================\")\n",
    "            \n",
    "#count_nan(df)"
   ]
  },
  {
   "cell_type": "code",
   "execution_count": 5,
   "metadata": {},
   "outputs": [
    {
     "data": {
      "text/plain": [
       "Index(['Unnamed: 0', 'Reference Security', 'Bid Price', 'Ask Price',\n",
       "       'Mid Price', 'Cpn', 'Maturity', 'Common Eqty / Tot Assets',\n",
       "       'Debt / Common Equity', 'TCE Ratio', 'Tot Debt / Tot Capital',\n",
       "       'Tot Cap (Local Crncy)', 'Is Covered', 'Is Convertible', 'Amt Out',\n",
       "       'Total Assets', 'BCLASS Level 3', 'Guarantee Type', 'Guarantor Type',\n",
       "       'Collat Type', 'PD_1y', 'reprice', 'maturity_years', 'Error %'],\n",
       "      dtype='object')"
      ]
     },
     "execution_count": 5,
     "metadata": {},
     "output_type": "execute_result"
    }
   ],
   "source": [
    "df = df[df.PD_1y>0.0]\n",
    "df = df[df.PD_1y!=1.0]\n",
    "\n",
    "df.columns"
   ]
  },
  {
   "cell_type": "code",
   "execution_count": 6,
   "metadata": {},
   "outputs": [],
   "source": [
    "df1 = df[['Common Eqty / Tot Assets','TCE Ratio','Tot Debt / Tot Capital','Tot Cap (Local Crncy)','Is Covered','Is Convertible','Amt Out','BCLASS Level 3', 'Guarantee Type','Total Assets', 'Guarantor Type', 'Collat Type','Debt / Common Equity','PD_1y']]\n",
    "df1 = df1[df1['Debt / Common Equity']<2500]\n",
    "df1 = df1[df1['TCE Ratio']>-100]\n",
    "#df1.replace(np.nan, 0.0,inplace=True)\n",
    "df1.dropna(inplace=True)"
   ]
  },
  {
   "cell_type": "code",
   "execution_count": 7,
   "metadata": {},
   "outputs": [
    {
     "data": {
      "text/plain": [
       "(36781, 14)"
      ]
     },
     "execution_count": 7,
     "metadata": {},
     "output_type": "execute_result"
    }
   ],
   "source": [
    "df1.shape"
   ]
  },
  {
   "cell_type": "code",
   "execution_count": 8,
   "metadata": {},
   "outputs": [
    {
     "data": {
      "text/html": [
       "<div>\n",
       "<style scoped>\n",
       "    .dataframe tbody tr th:only-of-type {\n",
       "        vertical-align: middle;\n",
       "    }\n",
       "\n",
       "    .dataframe tbody tr th {\n",
       "        vertical-align: top;\n",
       "    }\n",
       "\n",
       "    .dataframe thead th {\n",
       "        text-align: right;\n",
       "    }\n",
       "</style>\n",
       "<table border=\"1\" class=\"dataframe\">\n",
       "  <thead>\n",
       "    <tr style=\"text-align: right;\">\n",
       "      <th></th>\n",
       "      <th>Common Eqty / Tot Assets</th>\n",
       "      <th>TCE Ratio</th>\n",
       "      <th>Tot Debt / Tot Capital</th>\n",
       "      <th>Tot Cap (Local Crncy)</th>\n",
       "      <th>Is Covered</th>\n",
       "      <th>Is Convertible</th>\n",
       "      <th>Amt Out</th>\n",
       "      <th>BCLASS Level 3</th>\n",
       "      <th>Guarantee Type</th>\n",
       "      <th>Total Assets</th>\n",
       "      <th>Guarantor Type</th>\n",
       "      <th>Collat Type</th>\n",
       "      <th>Debt / Common Equity</th>\n",
       "      <th>PD_1y</th>\n",
       "    </tr>\n",
       "  </thead>\n",
       "  <tbody>\n",
       "    <tr>\n",
       "      <th>2</th>\n",
       "      <td>5.655220</td>\n",
       "      <td>5.412310</td>\n",
       "      <td>84.0491</td>\n",
       "      <td>1077950.000</td>\n",
       "      <td>False</td>\n",
       "      <td>False</td>\n",
       "      <td>1.000000e+09</td>\n",
       "      <td>Banking</td>\n",
       "      <td>N.A.</td>\n",
       "      <td>3040430.00</td>\n",
       "      <td>N.A.</td>\n",
       "      <td>SR UNSECURED</td>\n",
       "      <td>526.924</td>\n",
       "      <td>0.012445</td>\n",
       "    </tr>\n",
       "    <tr>\n",
       "      <th>3</th>\n",
       "      <td>35.988000</td>\n",
       "      <td>2.221370</td>\n",
       "      <td>53.9594</td>\n",
       "      <td>125576.000</td>\n",
       "      <td>False</td>\n",
       "      <td>False</td>\n",
       "      <td>6.060820e+08</td>\n",
       "      <td>Communications</td>\n",
       "      <td>N.A.</td>\n",
       "      <td>155063.00</td>\n",
       "      <td>N.A.</td>\n",
       "      <td>SR UNSECURED</td>\n",
       "      <td>121.425</td>\n",
       "      <td>0.020474</td>\n",
       "    </tr>\n",
       "    <tr>\n",
       "      <th>4</th>\n",
       "      <td>5.713810</td>\n",
       "      <td>5.246640</td>\n",
       "      <td>85.8881</td>\n",
       "      <td>333470.000</td>\n",
       "      <td>False</td>\n",
       "      <td>False</td>\n",
       "      <td>1.500000e+09</td>\n",
       "      <td>Banking</td>\n",
       "      <td>N.A.</td>\n",
       "      <td>809688.00</td>\n",
       "      <td>N.A.</td>\n",
       "      <td>SR UNSECURED</td>\n",
       "      <td>619.080</td>\n",
       "      <td>0.001146</td>\n",
       "    </tr>\n",
       "    <tr>\n",
       "      <th>5</th>\n",
       "      <td>23.508300</td>\n",
       "      <td>19.213600</td>\n",
       "      <td>63.4410</td>\n",
       "      <td>151388.000</td>\n",
       "      <td>False</td>\n",
       "      <td>False</td>\n",
       "      <td>6.000000e+08</td>\n",
       "      <td>Consumer Cyclical</td>\n",
       "      <td>Single</td>\n",
       "      <td>235381.00</td>\n",
       "      <td>Parent</td>\n",
       "      <td>COMPANY GUARNT</td>\n",
       "      <td>173.568</td>\n",
       "      <td>0.001179</td>\n",
       "    </tr>\n",
       "    <tr>\n",
       "      <th>6</th>\n",
       "      <td>4.547990</td>\n",
       "      <td>3.851140</td>\n",
       "      <td>85.6341</td>\n",
       "      <td>226753.000</td>\n",
       "      <td>False</td>\n",
       "      <td>False</td>\n",
       "      <td>1.100000e+09</td>\n",
       "      <td>Banking</td>\n",
       "      <td>N.A.</td>\n",
       "      <td>627244.00</td>\n",
       "      <td>N.A.</td>\n",
       "      <td>SR UNSECURED</td>\n",
       "      <td>680.681</td>\n",
       "      <td>0.002144</td>\n",
       "    </tr>\n",
       "    <tr>\n",
       "      <th>...</th>\n",
       "      <td>...</td>\n",
       "      <td>...</td>\n",
       "      <td>...</td>\n",
       "      <td>...</td>\n",
       "      <td>...</td>\n",
       "      <td>...</td>\n",
       "      <td>...</td>\n",
       "      <td>...</td>\n",
       "      <td>...</td>\n",
       "      <td>...</td>\n",
       "      <td>...</td>\n",
       "      <td>...</td>\n",
       "      <td>...</td>\n",
       "      <td>...</td>\n",
       "    </tr>\n",
       "    <tr>\n",
       "      <th>48817</th>\n",
       "      <td>12.191700</td>\n",
       "      <td>12.189800</td>\n",
       "      <td>86.0465</td>\n",
       "      <td>136118.000</td>\n",
       "      <td>False</td>\n",
       "      <td>False</td>\n",
       "      <td>3.860000e+07</td>\n",
       "      <td>Local Authority</td>\n",
       "      <td>Single</td>\n",
       "      <td>155787.00</td>\n",
       "      <td>Local Government</td>\n",
       "      <td>LOCAL GOVT GUARN</td>\n",
       "      <td>616.668</td>\n",
       "      <td>0.015262</td>\n",
       "    </tr>\n",
       "    <tr>\n",
       "      <th>48825</th>\n",
       "      <td>12.179400</td>\n",
       "      <td>12.154600</td>\n",
       "      <td>66.5225</td>\n",
       "      <td>2032.590</td>\n",
       "      <td>True</td>\n",
       "      <td>False</td>\n",
       "      <td>5.000000e+06</td>\n",
       "      <td>Mortgage Assets</td>\n",
       "      <td>N.A.</td>\n",
       "      <td>5586.66</td>\n",
       "      <td>N.A.</td>\n",
       "      <td>PFANDBRIEFE</td>\n",
       "      <td>198.720</td>\n",
       "      <td>0.023219</td>\n",
       "    </tr>\n",
       "    <tr>\n",
       "      <th>48826</th>\n",
       "      <td>4.907200</td>\n",
       "      <td>4.893530</td>\n",
       "      <td>94.7512</td>\n",
       "      <td>89085.000</td>\n",
       "      <td>False</td>\n",
       "      <td>False</td>\n",
       "      <td>5.265000e+05</td>\n",
       "      <td>Government Guaranteed</td>\n",
       "      <td>Single</td>\n",
       "      <td>95286.50</td>\n",
       "      <td>National/Sovereign Government</td>\n",
       "      <td>GOVT GUARANTEED</td>\n",
       "      <td>1805.190</td>\n",
       "      <td>0.003846</td>\n",
       "    </tr>\n",
       "    <tr>\n",
       "      <th>48828</th>\n",
       "      <td>5.819530</td>\n",
       "      <td>5.789880</td>\n",
       "      <td>93.5507</td>\n",
       "      <td>493031.000</td>\n",
       "      <td>False</td>\n",
       "      <td>False</td>\n",
       "      <td>3.200000e+07</td>\n",
       "      <td>Government Guaranteed</td>\n",
       "      <td>Single</td>\n",
       "      <td>546384.00</td>\n",
       "      <td>National/Sovereign Government</td>\n",
       "      <td>GOVT GUARANTEED</td>\n",
       "      <td>1450.560</td>\n",
       "      <td>0.013188</td>\n",
       "    </tr>\n",
       "    <tr>\n",
       "      <th>48834</th>\n",
       "      <td>0.000126</td>\n",
       "      <td>0.000126</td>\n",
       "      <td>0.0000</td>\n",
       "      <td>0.031</td>\n",
       "      <td>False</td>\n",
       "      <td>False</td>\n",
       "      <td>7.500000e+07</td>\n",
       "      <td>Other Financial</td>\n",
       "      <td>N.A.</td>\n",
       "      <td>24558.60</td>\n",
       "      <td>N.A.</td>\n",
       "      <td>SECURED</td>\n",
       "      <td>0.000</td>\n",
       "      <td>0.019929</td>\n",
       "    </tr>\n",
       "  </tbody>\n",
       "</table>\n",
       "<p>36781 rows × 14 columns</p>\n",
       "</div>"
      ],
      "text/plain": [
       "       Common Eqty / Tot Assets  TCE Ratio  Tot Debt / Tot Capital  \\\n",
       "2                      5.655220   5.412310                 84.0491   \n",
       "3                     35.988000   2.221370                 53.9594   \n",
       "4                      5.713810   5.246640                 85.8881   \n",
       "5                     23.508300  19.213600                 63.4410   \n",
       "6                      4.547990   3.851140                 85.6341   \n",
       "...                         ...        ...                     ...   \n",
       "48817                 12.191700  12.189800                 86.0465   \n",
       "48825                 12.179400  12.154600                 66.5225   \n",
       "48826                  4.907200   4.893530                 94.7512   \n",
       "48828                  5.819530   5.789880                 93.5507   \n",
       "48834                  0.000126   0.000126                  0.0000   \n",
       "\n",
       "       Tot Cap (Local Crncy)  Is Covered  Is Convertible       Amt Out  \\\n",
       "2                1077950.000       False           False  1.000000e+09   \n",
       "3                 125576.000       False           False  6.060820e+08   \n",
       "4                 333470.000       False           False  1.500000e+09   \n",
       "5                 151388.000       False           False  6.000000e+08   \n",
       "6                 226753.000       False           False  1.100000e+09   \n",
       "...                      ...         ...             ...           ...   \n",
       "48817             136118.000       False           False  3.860000e+07   \n",
       "48825               2032.590        True           False  5.000000e+06   \n",
       "48826              89085.000       False           False  5.265000e+05   \n",
       "48828             493031.000       False           False  3.200000e+07   \n",
       "48834                  0.031       False           False  7.500000e+07   \n",
       "\n",
       "              BCLASS Level 3 Guarantee Type  Total Assets  \\\n",
       "2                    Banking           N.A.    3040430.00   \n",
       "3             Communications           N.A.     155063.00   \n",
       "4                    Banking           N.A.     809688.00   \n",
       "5          Consumer Cyclical         Single     235381.00   \n",
       "6                    Banking           N.A.     627244.00   \n",
       "...                      ...            ...           ...   \n",
       "48817        Local Authority         Single     155787.00   \n",
       "48825        Mortgage Assets           N.A.       5586.66   \n",
       "48826  Government Guaranteed         Single      95286.50   \n",
       "48828  Government Guaranteed         Single     546384.00   \n",
       "48834        Other Financial           N.A.      24558.60   \n",
       "\n",
       "                      Guarantor Type       Collat Type  Debt / Common Equity  \\\n",
       "2                               N.A.      SR UNSECURED               526.924   \n",
       "3                               N.A.      SR UNSECURED               121.425   \n",
       "4                               N.A.      SR UNSECURED               619.080   \n",
       "5                             Parent    COMPANY GUARNT               173.568   \n",
       "6                               N.A.      SR UNSECURED               680.681   \n",
       "...                              ...               ...                   ...   \n",
       "48817               Local Government  LOCAL GOVT GUARN               616.668   \n",
       "48825                           N.A.       PFANDBRIEFE               198.720   \n",
       "48826  National/Sovereign Government   GOVT GUARANTEED              1805.190   \n",
       "48828  National/Sovereign Government   GOVT GUARANTEED              1450.560   \n",
       "48834                           N.A.           SECURED                 0.000   \n",
       "\n",
       "          PD_1y  \n",
       "2      0.012445  \n",
       "3      0.020474  \n",
       "4      0.001146  \n",
       "5      0.001179  \n",
       "6      0.002144  \n",
       "...         ...  \n",
       "48817  0.015262  \n",
       "48825  0.023219  \n",
       "48826  0.003846  \n",
       "48828  0.013188  \n",
       "48834  0.019929  \n",
       "\n",
       "[36781 rows x 14 columns]"
      ]
     },
     "execution_count": 8,
     "metadata": {},
     "output_type": "execute_result"
    }
   ],
   "source": [
    "df1"
   ]
  },
  {
   "cell_type": "code",
   "execution_count": 9,
   "metadata": {},
   "outputs": [
    {
     "data": {
      "text/plain": [
       "(36781, 14)"
      ]
     },
     "execution_count": 9,
     "metadata": {},
     "output_type": "execute_result"
    }
   ],
   "source": [
    "#df1 = df1.drop_duplicates(subset=df1.columns.difference(['PD_1y']))\n",
    "df1.shape"
   ]
  },
  {
   "cell_type": "code",
   "execution_count": 10,
   "metadata": {},
   "outputs": [
    {
     "data": {
      "text/plain": [
       "(36107, 14)"
      ]
     },
     "execution_count": 10,
     "metadata": {},
     "output_type": "execute_result"
    }
   ],
   "source": [
    "df1 = df1.drop_duplicates()\n",
    "df1.shape"
   ]
  },
  {
   "cell_type": "markdown",
   "metadata": {},
   "source": [
    "## b. Traitement des données"
   ]
  },
  {
   "cell_type": "markdown",
   "metadata": {},
   "source": [
    "Nous commencerons par séparer les données non étiquietées des étiquettes, les étiquettes se trouvent dans l'array `y_full` et le reste des données dans `X_full`"
   ]
  },
  {
   "cell_type": "code",
   "execution_count": 11,
   "metadata": {},
   "outputs": [],
   "source": [
    "X_full = np.array(df1.drop(columns=['PD_1y']))\n",
    "y_full = np.array(df1['PD_1y'])"
   ]
  },
  {
   "cell_type": "markdown",
   "metadata": {},
   "source": [
    "La prochaine étape consiste à séparer les features continues des features discrètes, cela sera utile car leurs traitements seront différent"
   ]
  },
  {
   "cell_type": "code",
   "execution_count": 12,
   "metadata": {},
   "outputs": [],
   "source": [
    "features = list(df1.drop(columns=['PD_1y']).columns)\n",
    "\n",
    "discrete_features = ['BCLASS Level 3','Guarantee Type','Guarantor Type','Collat Type','Is Covered','Is Convertible']\n",
    "continuous_features = [s for s in features if not s in discrete_features]\n",
    "\n",
    "\n",
    "continuous_features_idx = [features.index(feat_name) for feat_name in continuous_features]\n",
    "discrete_features_idx = [features.index(feat_name) for feat_name in discrete_features]"
   ]
  },
  {
   "cell_type": "markdown",
   "metadata": {},
   "source": [
    "## i. Statistiques descriptives"
   ]
  },
  {
   "cell_type": "code",
   "execution_count": 13,
   "metadata": {},
   "outputs": [
    {
     "data": {
      "image/png": "[encoded data removed]",
      "text/plain": [
       "<Figure size 1008x720 with 7 Axes>"
      ]
     },
     "metadata": {
      "needs_background": "light"
     },
     "output_type": "display_data"
    }
   ],
   "source": [
    "fig = plt.figure(figsize=(14,10))\n",
    "\n",
    "# Histograms for continuous features\n",
    "for (plot_idx, feat_idx) in enumerate(continuous_features_idx):\n",
    "\n",
    "    # create a subplot in the (plot_idx+1) position of a 2x2 grid\n",
    "    ax = fig.add_subplot(8, 2, (plot_idx+1))\n",
    "    # plot the histogram of feat_idx\n",
    "    h = ax.hist(X_full[:, feat_idx], bins=30, edgecolor='black')\n",
    "    # use the name of the feature as a title for each histogram\n",
    "    ax.set_title(features[feat_idx])\n",
    "    #plt.xlim(0,0.001)\n",
    "# espacement entre les subplots\n",
    "fig.tight_layout(pad=0.1)\n",
    "#fig.savefig('continuous_distrib.png')"
   ]
  },
  {
   "cell_type": "code",
   "execution_count": 14,
   "metadata": {
    "scrolled": true
   },
   "outputs": [
    {
     "data": {
      "image/png": "[encoded data removed]",
      "text/plain": [
       "<Figure size 1440x2592 with 6 Axes>"
      ]
     },
     "metadata": {
      "needs_background": "light"
     },
     "output_type": "display_data"
    }
   ],
   "source": [
    "# Bar plots for discrete features\n",
    "fig = plt.figure(figsize=(20, 36))\n",
    "\n",
    "for (plot_idx, feat_idx) in enumerate(discrete_features_idx):\n",
    "    # create a subplot in the (plot_idx+1) position of a 1x3 grid\n",
    "    ax = fig.add_subplot(7, 1, (plot_idx+1))\n",
    "\n",
    "    feature_values = np.unique(X_full[:, feat_idx])\n",
    "    frequencies = [(float(len(np.where(X_full[:, feat_idx]==value)[0]))/X_full.shape[0]) \\\n",
    "                   for value in feature_values]\n",
    "    \n",
    "    b = ax.bar(range(len(feature_values)), frequencies, width=0.8, \n",
    "               tick_label=list([n for n in feature_values]))\n",
    "    \n",
    "    \n",
    "    # use the name of the feature as a title for each histogram\n",
    "    ax.set_title(features[feat_idx])\n",
    "    \n",
    "fig.tight_layout(pad=0.15)\n",
    "fig.savefig('discrete_distrib.png')"
   ]
  },
  {
   "cell_type": "markdown",
   "metadata": {},
   "source": [
    "## ii. Traitement des données"
   ]
  },
  {
   "cell_type": "code",
   "execution_count": 15,
   "metadata": {},
   "outputs": [],
   "source": [
    "## A FAIRE COMME CELA :\n",
    "\"\"\"\n",
    "from sklearn.preprocessing import OneHotEncoder\n",
    "\n",
    "enc = OneHotEncoder(handle_unknown='ignore')\n",
    "enc.fit(X_train_submit)\n",
    "\n",
    "X_train_submit = enc.transform(X_train_submit)\n",
    "X_test_submit = enc.transform(X_test_submit)\n",
    "\n",
    "\"\"\"\n",
    "\n",
    "\n",
    "\n",
    "class Pipeline:\n",
    "    def __init__(self, X_train, X_full = None):\n",
    "        \"\"\"\n",
    "        Se fit sur le jeu de TRAIN, une seule fois\n",
    "        \"\"\"\n",
    "        self.ohe = preprocessing.OneHotEncoder(categories='auto',sparse=False).fit(X_full[:,discrete_features_idx])\n",
    "        self.std_scaler = preprocessing.StandardScaler().fit(X_train[:,continuous_features_idx])\n",
    "        print(self.ohe.categories_)\n",
    "        \n",
    "    def traitement(self,X):\n",
    "        \"\"\"\n",
    "        Permet de traiter n'importe quel vecteur X ensuite\n",
    "        \"\"\"\n",
    "    \n",
    "        X_continuous_scaled = self.std_scaler.transform(X[:,continuous_features_idx])\n",
    "        X_discrete_encoded = self.ohe.transform(X[:,discrete_features_idx])\n",
    "        print('moyenne = {}'.format(np.mean(X_continuous_scaled)))\n",
    "        \n",
    "        X_processed = np.hstack((X_discrete_encoded, X_continuous_scaled))\n",
    "    \n",
    "        return X_processed"
   ]
  },
  {
   "cell_type": "code",
   "execution_count": 16,
   "metadata": {},
   "outputs": [
    {
     "name": "stdout",
     "output_type": "stream",
     "text": [
      "[array(['Banking', 'Basic Industry', 'Brokerage Assetmanagers Exchanges',\n",
      "       'Capital Goods', 'Communications', 'Consumer Cyclical',\n",
      "       'Consumer Non-Cyclical', 'Electric', 'Energy', 'Finance Companies',\n",
      "       'Government Guaranteed', 'Government Owned. No Guarantee',\n",
      "       'Government Sponsored', 'Hybrid', 'Insurance', 'Local Authority',\n",
      "       'Mortgage Assets', 'Natural Gas', 'Other Financial',\n",
      "       'Other Industrial', 'Other Utility', 'Public Sector Loans',\n",
      "       'REITs', 'Supranational', 'Technology', 'Transportation',\n",
      "       'Whole Business'], dtype=object), array(['Cross Guarantee', 'Multiple', 'N.A.', 'Single'], dtype=object), array(['Bank', 'Company', 'Domestic Restricted Subsidiar',\n",
      "       'Local Government', 'N.A.', 'National/Sovereign Government',\n",
      "       'Other Subsidiary of Parent', 'Parent', 'Parent & Subsidiaries',\n",
      "       'Subsidiaries'], dtype=object), array(['BONDS', 'COMPANY GUARNT', 'COVERED', 'GOVT GUARANTEED',\n",
      "       'GOVT LIQUID GTD', 'INSURED', 'JR SUBORDINATED',\n",
      "       'JUMBO PFANDBRIEF', 'LOCAL GOVT GUARN', 'PFANDBRIEFE', 'SECURED',\n",
      "       'SR SECURED', 'SR SUBORDINATED', 'SR UNSECURED', 'SUBORDINATED',\n",
      "       'UNSECURED'], dtype=object), array([False, True], dtype=object), array([False, True], dtype=object)]\n",
      "moyenne = -5.419531399661382e-17\n",
      "moyenne = 0.0010116436549937034\n"
     ]
    }
   ],
   "source": [
    "X_train, X_test_, y_train, y_test = model_selection.train_test_split(X_full, y_full, test_size=0.1,\n",
    "                                                                    #stratify=y_full, # stratification\n",
    "                                                                    random_state=92)\n",
    "\n",
    "pipe = Pipeline(X_train,X_full)\n",
    "X_train = pipe.traitement(X_train)\n",
    "X_test  = pipe.traitement(X_test_)"
   ]
  },
  {
   "cell_type": "markdown",
   "metadata": {},
   "source": [
    "# 2. Modéles de prédiction des probabilités de défaut"
   ]
  },
  {
   "cell_type": "markdown",
   "metadata": {},
   "source": [
    "Nous considérons les modèles de prédiction suivants : \n",
    "\n",
    "$-$ Réseau de neurones\n",
    "\n",
    "$-$ k-NN \n",
    "\n",
    "$-$ SVR\n",
    "\n"
   ]
  },
  {
   "cell_type": "markdown",
   "metadata": {},
   "source": [
    "## a. Réseau de neurones"
   ]
  },
  {
   "cell_type": "markdown",
   "metadata": {},
   "source": [
    "## Entraînement du modèle"
   ]
  },
  {
   "cell_type": "code",
   "execution_count": 17,
   "metadata": {},
   "outputs": [],
   "source": [
    "model = Sequential()\n",
    "model.add(Dense(units=1200,input_dim=68,))#activation=\"sigmoid\")) #6 is good\n",
    "model.add(Dense(units=1200))\n",
    "model.add(Dense(units=1200))\n",
    "#model.add(Dropout(0.2))\n",
    "model.add(Dense(units=1,activation=\"sigmoid\"))\n",
    "\n",
    "learning_rate = 0.000005\n",
    "\n",
    "sgd = SGD(learning_rate)  #lr = 0.02\n",
    "adam = Adam(learning_rate) #lr = 0.001\n",
    "\n",
    "#nadam = Nadam(lr=0.0005, beta_1=0.9, beta_2=0.999)"
   ]
  },
  {
   "cell_type": "code",
   "execution_count": 18,
   "metadata": {},
   "outputs": [],
   "source": [
    "model.compile(loss='mean_absolute_percentage_error',optimizer=adam,metrics=[tf.keras.metrics.MeanAbsolutePercentageError()])"
   ]
  },
  {
   "cell_type": "code",
   "execution_count": 19,
   "metadata": {},
   "outputs": [
    {
     "name": "stdout",
     "output_type": "stream",
     "text": [
      "Model: \"sequential\"\n",
      "_________________________________________________________________\n",
      "Layer (type)                 Output Shape              Param #   \n",
      "=================================================================\n",
      "dense (Dense)                (None, 1200)              82800     \n",
      "_________________________________________________________________\n",
      "dense_1 (Dense)              (None, 1200)              1441200   \n",
      "_________________________________________________________________\n",
      "dense_2 (Dense)              (None, 1200)              1441200   \n",
      "_________________________________________________________________\n",
      "dense_3 (Dense)              (None, 1)                 1201      \n",
      "=================================================================\n",
      "Total params: 2,966,401\n",
      "Trainable params: 2,966,401\n",
      "Non-trainable params: 0\n",
      "_________________________________________________________________\n",
      "None\n"
     ]
    }
   ],
   "source": [
    "print(model.summary())"
   ]
  },
  {
   "cell_type": "code",
   "execution_count": 20,
   "metadata": {
    "scrolled": true
   },
   "outputs": [
    {
     "name": "stdout",
     "output_type": "stream",
     "text": [
      "Epoch 1/30\n",
      "120/120 [==============================] - 2s 14ms/step - loss: 18811.5156 - mean_absolute_percentage_error: 18811.5156 - val_loss: 10273.6309 - val_mean_absolute_percentage_error: 10273.6309\n",
      "Epoch 2/30\n",
      "120/120 [==============================] - 1s 12ms/step - loss: 9183.7676 - mean_absolute_percentage_error: 9183.7676 - val_loss: 7110.9033 - val_mean_absolute_percentage_error: 7110.9033\n",
      "Epoch 3/30\n",
      "120/120 [==============================] - 2s 13ms/step - loss: 5733.7026 - mean_absolute_percentage_error: 5733.7026 - val_loss: 5015.5156 - val_mean_absolute_percentage_error: 5015.5156\n",
      "Epoch 4/30\n",
      "120/120 [==============================] - 1s 12ms/step - loss: 3829.0750 - mean_absolute_percentage_error: 3829.0750 - val_loss: 3727.2102 - val_mean_absolute_percentage_error: 3727.2102\n",
      "Epoch 5/30\n",
      "120/120 [==============================] - 1s 12ms/step - loss: 3038.3301 - mean_absolute_percentage_error: 3038.3301 - val_loss: 2882.3525 - val_mean_absolute_percentage_error: 2882.3525\n",
      "Epoch 6/30\n",
      "120/120 [==============================] - 1s 12ms/step - loss: 1946.7627 - mean_absolute_percentage_error: 1946.7627 - val_loss: 2283.5830 - val_mean_absolute_percentage_error: 2283.5830\n",
      "Epoch 7/30\n",
      "120/120 [==============================] - 2s 13ms/step - loss: 3575.7383 - mean_absolute_percentage_error: 3575.7383 - val_loss: 1782.4076 - val_mean_absolute_percentage_error: 1782.4076\n",
      "Epoch 8/30\n",
      "120/120 [==============================] - 1s 12ms/step - loss: 1166.8390 - mean_absolute_percentage_error: 1166.8390 - val_loss: 1413.0396 - val_mean_absolute_percentage_error: 1413.0396\n",
      "Epoch 9/30\n",
      "120/120 [==============================] - 2s 13ms/step - loss: 1585.9039 - mean_absolute_percentage_error: 1585.9039 - val_loss: 1176.0591 - val_mean_absolute_percentage_error: 1176.0591\n",
      "Epoch 10/30\n",
      "120/120 [==============================] - 1s 12ms/step - loss: 756.1980 - mean_absolute_percentage_error: 756.1980 - val_loss: 1003.0745 - val_mean_absolute_percentage_error: 1003.0745\n",
      "Epoch 11/30\n",
      "120/120 [==============================] - 2s 13ms/step - loss: 4230.7988 - mean_absolute_percentage_error: 4230.7988 - val_loss: 552.2594 - val_mean_absolute_percentage_error: 552.2594\n",
      "Epoch 12/30\n",
      "120/120 [==============================] - 2s 14ms/step - loss: 332.5571 - mean_absolute_percentage_error: 332.5571 - val_loss: 436.8412 - val_mean_absolute_percentage_error: 436.8412\n",
      "Epoch 13/30\n",
      "120/120 [==============================] - 2s 14ms/step - loss: 373.9225 - mean_absolute_percentage_error: 373.9225 - val_loss: 399.2123 - val_mean_absolute_percentage_error: 399.2123\n",
      "Epoch 14/30\n",
      "120/120 [==============================] - 2s 15ms/step - loss: 283.7276 - mean_absolute_percentage_error: 283.7276 - val_loss: 371.0971 - val_mean_absolute_percentage_error: 371.0971\n",
      "Epoch 15/30\n",
      "120/120 [==============================] - 2s 13ms/step - loss: 268.3350 - mean_absolute_percentage_error: 268.3350 - val_loss: 345.1798 - val_mean_absolute_percentage_error: 345.1798\n",
      "Epoch 16/30\n",
      "120/120 [==============================] - 2s 15ms/step - loss: 224.7681 - mean_absolute_percentage_error: 224.7681 - val_loss: 322.3371 - val_mean_absolute_percentage_error: 322.3371\n",
      "Epoch 17/30\n",
      "120/120 [==============================] - 2s 14ms/step - loss: 1081.5155 - mean_absolute_percentage_error: 1081.5155 - val_loss: 250.6472 - val_mean_absolute_percentage_error: 250.6472\n",
      "Epoch 18/30\n",
      "120/120 [==============================] - 1s 12ms/step - loss: 176.5873 - mean_absolute_percentage_error: 176.5873 - val_loss: 226.5885 - val_mean_absolute_percentage_error: 226.5885\n",
      "Epoch 19/30\n",
      "120/120 [==============================] - 2s 14ms/step - loss: 465.2991 - mean_absolute_percentage_error: 465.2991 - val_loss: 201.1785 - val_mean_absolute_percentage_error: 201.1785\n",
      "Epoch 20/30\n",
      "120/120 [==============================] - 2s 16ms/step - loss: 203.6487 - mean_absolute_percentage_error: 203.6487 - val_loss: 190.1905 - val_mean_absolute_percentage_error: 190.1905\n",
      "Epoch 21/30\n",
      "120/120 [==============================] - 2s 13ms/step - loss: 127.2038 - mean_absolute_percentage_error: 127.2038 - val_loss: 184.2586 - val_mean_absolute_percentage_error: 184.2586\n",
      "Epoch 22/30\n",
      "120/120 [==============================] - 2s 13ms/step - loss: 169.7232 - mean_absolute_percentage_error: 169.7232 - val_loss: 176.5611 - val_mean_absolute_percentage_error: 176.5611\n",
      "Epoch 23/30\n",
      "120/120 [==============================] - 1s 12ms/step - loss: 127.3041 - mean_absolute_percentage_error: 127.3041 - val_loss: 171.0726 - val_mean_absolute_percentage_error: 171.0726\n",
      "Epoch 24/30\n",
      "120/120 [==============================] - 1s 12ms/step - loss: 154.5541 - mean_absolute_percentage_error: 154.5541 - val_loss: 164.3847 - val_mean_absolute_percentage_error: 164.3847\n",
      "Epoch 25/30\n",
      "120/120 [==============================] - 1s 12ms/step - loss: 132.8894 - mean_absolute_percentage_error: 132.8894 - val_loss: 158.8293 - val_mean_absolute_percentage_error: 158.8293\n",
      "Epoch 26/30\n",
      "120/120 [==============================] - 1s 12ms/step - loss: 505.5922 - mean_absolute_percentage_error: 505.5922 - val_loss: 133.2807 - val_mean_absolute_percentage_error: 133.2807\n",
      "Epoch 27/30\n",
      "120/120 [==============================] - 1s 12ms/step - loss: 116.5553 - mean_absolute_percentage_error: 116.5553 - val_loss: 130.2970 - val_mean_absolute_percentage_error: 130.2970\n",
      "Epoch 28/30\n",
      "120/120 [==============================] - 1s 12ms/step - loss: 240.9128 - mean_absolute_percentage_error: 240.9128 - val_loss: 122.6371 - val_mean_absolute_percentage_error: 122.6371\n",
      "Epoch 29/30\n",
      "120/120 [==============================] - 1s 12ms/step - loss: 103.0017 - mean_absolute_percentage_error: 103.0017 - val_loss: 120.7410 - val_mean_absolute_percentage_error: 120.7410\n",
      "Epoch 30/30\n",
      "120/120 [==============================] - 2s 13ms/step - loss: 108.5098 - mean_absolute_percentage_error: 108.5098 - val_loss: 118.6897 - val_mean_absolute_percentage_error: 118.6897\n",
      "113/113 [==============================] - 0s 2ms/step - loss: 94.3723 - mean_absolute_percentage_error: 94.3723\n",
      "The final loss on the TEST set is: 94.37.\n",
      "The final mean_absolute_percentage_error on the TEST set is: 94.37.\n"
     ]
    },
    {
     "data": {
      "image/png": "[encoded data removed]",
      "text/plain": [
       "<Figure size 432x288 with 1 Axes>"
      ]
     },
     "metadata": {
      "needs_background": "light"
     },
     "output_type": "display_data"
    }
   ],
   "source": [
    "callback = keras.callbacks.EarlyStopping(monitor='loss', patience=3)\n",
    "#callback = None\n",
    "history = model.fit(np.squeeze(X_train), y_train,         # Train the model using the training set...\n",
    "          batch_size=30, epochs=30,\n",
    "          verbose=1, validation_split=0.2,steps_per_epoch=120,)#callbacks=[callback])           # ...holding out 40% of the data for validation\n",
    "\n",
    "# --------------------------------------\n",
    "# Evaluation\n",
    "# --------------------------------------\n",
    "for loss_name, loss_value in list(zip(model.metrics_names, model.evaluate(X_test, y_test, verbose=1))):\n",
    "    print('The final {} on the TEST set is: {:.2f}.'.format(loss_name, loss_value)) # Evaluate the trained model on the test set!\n",
    "\n",
    "    \n",
    "import matplotlib.pyplot as plt\n",
    "\n",
    "# --------------------------------------\n",
    "# Loss functions evolution\n",
    "# --------------------------------------\n",
    "plt.plot(history.history['loss'])\n",
    "plt.plot(history.history['val_loss'])\n",
    "plt.title('Model loss by epoch')\n",
    "plt.ylabel('loss')\n",
    "plt.xlabel('epoch')\n",
    "plt.legend(['train', 'valid'], loc='right')\n",
    "#plt.savefig('nn.png')\n",
    "plt.show()"
   ]
  },
  {
   "cell_type": "markdown",
   "metadata": {},
   "source": [
    "## Observation des résultats"
   ]
  },
  {
   "cell_type": "markdown",
   "metadata": {},
   "source": [
    "*Fonctions pour afficher les résultats*"
   ]
  },
  {
   "cell_type": "code",
   "execution_count": 21,
   "metadata": {},
   "outputs": [],
   "source": [
    "def ecart_relatif(row) : \n",
    "    théo = row['Théorique']\n",
    "    préd = row['Prédiction']\n",
    "    return np.abs(théo - préd) / théo"
   ]
  },
  {
   "cell_type": "code",
   "execution_count": null,
   "metadata": {},
   "outputs": [],
   "source": [
    "def ViewResults(model, X_test, y_test):\n",
    "    prediction = pd.DataFrame(data= model.predict(X_test) ,columns=['Prédiction'])\n",
    "    théorique = pd.DataFrame(data= y_test ,columns=['Théorique'])\n",
    "    prediction, théorique = prediction.reset_index() , théorique.reset_index()\n",
    "\n",
    "    results = pd.merge(théorique, prediction, on = 'index').drop(columns=['index'])\n",
    "    results[\"Ecart_relatif\"] = results.apply(ecart_relatif,axis=1)\n",
    "    \n",
    "    results.sort_values('Ecart_relatif',inplace=True)\n",
    "    \n",
    "    #print(results.tail(20))\n",
    "    k=2\n",
    "    \n",
    "    \n",
    "    print(\"\\n\\nL'écart relatif moyen est de \" + str(results[\"Ecart_relatif\"].mean() * 100) + \"%\")\n",
    "    premiere_bissectrice = np.linspace(0,k * 1e-1,100)\n",
    "    \n",
    "    plt.plot(premiere_bissectrice,premiere_bissectrice, color='red')\n",
    "    plt.scatter(results[\"Théorique\"],results[\"Prédiction\"], s = 1)\n",
    "    \n",
    "    \n",
    "    plt.xlim(-k*1e-2,k * 1e-1)\n",
    "    plt.ylim(-k*1e-2,k * 1e-1)\n",
    "    plt.savefig('svr_pred.png')\n",
    "    plt.show()"
   ]
  },
  {
   "cell_type": "markdown",
   "metadata": {},
   "source": [
    "*Résultats du réseau de neurones*"
   ]
  },
  {
   "cell_type": "code",
   "execution_count": null,
   "metadata": {},
   "outputs": [],
   "source": [
    "#Résultats \n",
    "\n",
    "resultat = model.evaluate(X_test, y_test, verbose=1)\n",
    "print(\"Valeur de l'erreur sur les données de test (loss):\", resultat[0])\n",
    "print('Précision sur les données de test (MAPE):', resultat[1])"
   ]
  },
  {
   "cell_type": "code",
   "execution_count": null,
   "metadata": {},
   "outputs": [],
   "source": [
    "print('Resultat pour la regression via Dense Neural Net')\n",
    "ViewResults(model,X_test,y_test)"
   ]
  },
  {
   "cell_type": "code",
   "execution_count": null,
   "metadata": {},
   "outputs": [],
   "source": [
    "ViewResults(model,X_train,y_train)"
   ]
  },
  {
   "cell_type": "markdown",
   "metadata": {},
   "source": [
    "## b. K-NN"
   ]
  },
  {
   "cell_type": "markdown",
   "metadata": {},
   "source": [
    "*valeur de K à justifier*"
   ]
  },
  {
   "cell_type": "code",
   "execution_count": null,
   "metadata": {},
   "outputs": [],
   "source": [
    "from sklearn.neighbors import KNeighborsRegressor\n",
    "\n",
    "\n",
    "neigh = KNeighborsRegressor(n_neighbors=3)\n",
    "neigh.fit(X_train, y_train)\n",
    "neigh.score(X_test, y_test)"
   ]
  },
  {
   "cell_type": "code",
   "execution_count": null,
   "metadata": {},
   "outputs": [],
   "source": [
    "print('Resultat pour la regression 3-NN')\n",
    "ViewResults(neigh,X_test,y_test)"
   ]
  },
  {
   "cell_type": "code",
   "execution_count": null,
   "metadata": {},
   "outputs": [],
   "source": [
    "ViewResults(neigh,X_train,y_train)"
   ]
  },
  {
   "cell_type": "markdown",
   "metadata": {},
   "source": [
    "## c. SVR"
   ]
  },
  {
   "cell_type": "markdown",
   "metadata": {},
   "source": [
    "*valeur de la régression à justifier*"
   ]
  },
  {
   "cell_type": "code",
   "execution_count": null,
   "metadata": {},
   "outputs": [],
   "source": [
    "from sklearn.svm import SVR\n",
    "regr = SVR(C=1.3789473684210527, epsilon=0.0000514545454545455, verbose=False)\n",
    "regr.fit(X_train, y_train)\n",
    "regr.score(X_test, y_test)"
   ]
  },
  {
   "cell_type": "code",
   "execution_count": null,
   "metadata": {},
   "outputs": [],
   "source": [
    "print('Resultat pour la regression SVR')\n",
    "ViewResults(regr, X_test, y_test)"
   ]
  },
  {
   "cell_type": "code",
   "execution_count": null,
   "metadata": {},
   "outputs": [],
   "source": []
  }
 ],
 "metadata": {
  "kernelspec": {
   "display_name": "Python 3",
   "language": "python",
   "name": "python3"
  },
  "language_info": {
   "codemirror_mode": {
    "name": "ipython",
    "version": 3
   },
   "file_extension": ".py",
   "mimetype": "text/x-python",
   "name": "python",
   "nbconvert_exporter": "python",
   "pygments_lexer": "ipython3",
   "version": "3.7.4"
  }
 },
 "nbformat": 4,
 "nbformat_minor": 5
}
