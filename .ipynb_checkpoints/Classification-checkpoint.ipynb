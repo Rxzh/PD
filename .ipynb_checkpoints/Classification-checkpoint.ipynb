{
 "cells": [
  {
   "cell_type": "markdown",
   "metadata": {},
   "source": [
    "# Classification des probabilités de défaut "
   ]
  },
  {
   "cell_type": "markdown",
   "metadata": {},
   "source": [
    "# 1. Préparation des données"
   ]
  },
  {
   "cell_type": "code",
   "execution_count": 3,
   "metadata": {},
   "outputs": [],
   "source": [
    "import pandas as pd \n",
    "import matplotlib.pyplot as plt\n",
    "import numpy as np\n",
    "from numpy.random import randn\n",
    "import tensorflow as tf\n",
    "\n",
    "from tensorflow.keras import Input\n",
    "from tensorflow.keras.models import Sequential\n",
    "from tensorflow.keras.layers import Dense, Dropout, Conv1D, Conv2D\n",
    "from tensorflow.keras.optimizers import SGD,Adam,Nadam,Adadelta\n",
    "from tensorflow import keras\n",
    "\n",
    "from sklearn import preprocessing, model_selection\n",
    "from sklearn.preprocessing import KBinsDiscretizer\n",
    "from sklearn.metrics import confusion_matrix, ConfusionMatrixDisplay"
   ]
  },
  {
   "cell_type": "markdown",
   "metadata": {},
   "source": [
    "## a. Chargement du dataset"
   ]
  },
  {
   "cell_type": "code",
   "execution_count": 123,
   "metadata": {},
   "outputs": [
    {
     "data": {
      "text/plain": [
       "(48836, 24)"
      ]
     },
     "execution_count": 123,
     "metadata": {},
     "output_type": "execute_result"
    }
   ],
   "source": [
    "df = pd.read_csv('market_data_pd.csv',sep=',')\n",
    "df.shape"
   ]
  },
  {
   "cell_type": "code",
   "execution_count": 135,
   "metadata": {},
   "outputs": [
    {
     "data": {
      "text/html": [
       "<div>\n",
       "<style scoped>\n",
       "    .dataframe tbody tr th:only-of-type {\n",
       "        vertical-align: middle;\n",
       "    }\n",
       "\n",
       "    .dataframe tbody tr th {\n",
       "        vertical-align: top;\n",
       "    }\n",
       "\n",
       "    .dataframe thead th {\n",
       "        text-align: right;\n",
       "    }\n",
       "</style>\n",
       "<table border=\"1\" class=\"dataframe\">\n",
       "  <thead>\n",
       "    <tr style=\"text-align: right;\">\n",
       "      <th></th>\n",
       "      <th>Unnamed: 0</th>\n",
       "      <th>Reference Security</th>\n",
       "      <th>Bid Price</th>\n",
       "      <th>Ask Price</th>\n",
       "      <th>Mid Price</th>\n",
       "      <th>Cpn</th>\n",
       "      <th>Maturity</th>\n",
       "      <th>Common Eqty / Tot Assets</th>\n",
       "      <th>Debt / Common Equity</th>\n",
       "      <th>TCE Ratio</th>\n",
       "      <th>...</th>\n",
       "      <th>Amt Out</th>\n",
       "      <th>Total Assets</th>\n",
       "      <th>BCLASS Level 3</th>\n",
       "      <th>Guarantee Type</th>\n",
       "      <th>Guarantor Type</th>\n",
       "      <th>Collat Type</th>\n",
       "      <th>PD_1y</th>\n",
       "      <th>reprice</th>\n",
       "      <th>maturity_years</th>\n",
       "      <th>Error %</th>\n",
       "    </tr>\n",
       "  </thead>\n",
       "  <tbody>\n",
       "    <tr>\n",
       "      <th>5909</th>\n",
       "      <td>5909</td>\n",
       "      <td>ZS424035 Corp</td>\n",
       "      <td>0.010</td>\n",
       "      <td>0.750</td>\n",
       "      <td>0.3800</td>\n",
       "      <td>1.5000</td>\n",
       "      <td>04/26/2024</td>\n",
       "      <td>-147.17300</td>\n",
       "      <td>NaN</td>\n",
       "      <td>-149.82800</td>\n",
       "      <td>...</td>\n",
       "      <td>1.186770e+09</td>\n",
       "      <td>3359.72</td>\n",
       "      <td>Other Industrial</td>\n",
       "      <td>Multiple</td>\n",
       "      <td>Subsidiaries</td>\n",
       "      <td>SR SECURED</td>\n",
       "      <td>1.000000</td>\n",
       "      <td>40.007513</td>\n",
       "      <td>2.709589</td>\n",
       "      <td>1.042829e+04</td>\n",
       "    </tr>\n",
       "    <tr>\n",
       "      <th>1456</th>\n",
       "      <td>1456</td>\n",
       "      <td>AN346569 Corp</td>\n",
       "      <td>0.125</td>\n",
       "      <td>0.700</td>\n",
       "      <td>0.4125</td>\n",
       "      <td>3.8750</td>\n",
       "      <td>10/25/2022</td>\n",
       "      <td>12.72580</td>\n",
       "      <td>177.3660</td>\n",
       "      <td>-23.21850</td>\n",
       "      <td>...</td>\n",
       "      <td>4.000000e+08</td>\n",
       "      <td>1808.09</td>\n",
       "      <td>Electric</td>\n",
       "      <td>Multiple</td>\n",
       "      <td>Parent &amp; Subsidiaries</td>\n",
       "      <td>SR SECURED</td>\n",
       "      <td>1.000000</td>\n",
       "      <td>40.007513</td>\n",
       "      <td>1.205479</td>\n",
       "      <td>9.598791e+03</td>\n",
       "    </tr>\n",
       "    <tr>\n",
       "      <th>827</th>\n",
       "      <td>827</td>\n",
       "      <td>AL458635 Corp</td>\n",
       "      <td>0.250</td>\n",
       "      <td>1.750</td>\n",
       "      <td>1.0000</td>\n",
       "      <td>6.2500</td>\n",
       "      <td>06/15/2022</td>\n",
       "      <td>NaN</td>\n",
       "      <td>NaN</td>\n",
       "      <td>NaN</td>\n",
       "      <td>...</td>\n",
       "      <td>7.500000e+08</td>\n",
       "      <td>NaN</td>\n",
       "      <td>Consumer Cyclical</td>\n",
       "      <td>N.A.</td>\n",
       "      <td>N.A.</td>\n",
       "      <td>SR UNSECURED</td>\n",
       "      <td>1.000000</td>\n",
       "      <td>42.507983</td>\n",
       "      <td>0.843836</td>\n",
       "      <td>4.150798e+03</td>\n",
       "    </tr>\n",
       "    <tr>\n",
       "      <th>44900</th>\n",
       "      <td>44900</td>\n",
       "      <td>QJ879163 Corp</td>\n",
       "      <td>0.407</td>\n",
       "      <td>1.481</td>\n",
       "      <td>0.9440</td>\n",
       "      <td>9.8776</td>\n",
       "      <td>12/01/2025</td>\n",
       "      <td>5.74708</td>\n",
       "      <td>467.7130</td>\n",
       "      <td>4.97044</td>\n",
       "      <td>...</td>\n",
       "      <td>2.000000e+08</td>\n",
       "      <td>1002610.00</td>\n",
       "      <td>Banking</td>\n",
       "      <td>N.A.</td>\n",
       "      <td>N.A.</td>\n",
       "      <td>SUBORDINATED</td>\n",
       "      <td>1.000000</td>\n",
       "      <td>40.007513</td>\n",
       "      <td>4.309589</td>\n",
       "      <td>4.138084e+03</td>\n",
       "    </tr>\n",
       "    <tr>\n",
       "      <th>44899</th>\n",
       "      <td>44899</td>\n",
       "      <td>QJ879163 Corp</td>\n",
       "      <td>0.396</td>\n",
       "      <td>1.499</td>\n",
       "      <td>0.9475</td>\n",
       "      <td>9.8776</td>\n",
       "      <td>12/01/2025</td>\n",
       "      <td>5.74708</td>\n",
       "      <td>467.7130</td>\n",
       "      <td>4.97044</td>\n",
       "      <td>...</td>\n",
       "      <td>2.000000e+08</td>\n",
       "      <td>1002610.00</td>\n",
       "      <td>Banking</td>\n",
       "      <td>N.A.</td>\n",
       "      <td>N.A.</td>\n",
       "      <td>SUBORDINATED</td>\n",
       "      <td>1.000000</td>\n",
       "      <td>40.007513</td>\n",
       "      <td>4.309589</td>\n",
       "      <td>4.122429e+03</td>\n",
       "    </tr>\n",
       "    <tr>\n",
       "      <th>...</th>\n",
       "      <td>...</td>\n",
       "      <td>...</td>\n",
       "      <td>...</td>\n",
       "      <td>...</td>\n",
       "      <td>...</td>\n",
       "      <td>...</td>\n",
       "      <td>...</td>\n",
       "      <td>...</td>\n",
       "      <td>...</td>\n",
       "      <td>...</td>\n",
       "      <td>...</td>\n",
       "      <td>...</td>\n",
       "      <td>...</td>\n",
       "      <td>...</td>\n",
       "      <td>...</td>\n",
       "      <td>...</td>\n",
       "      <td>...</td>\n",
       "      <td>...</td>\n",
       "      <td>...</td>\n",
       "      <td>...</td>\n",
       "      <td>...</td>\n",
       "    </tr>\n",
       "    <tr>\n",
       "      <th>20292</th>\n",
       "      <td>20292</td>\n",
       "      <td>BM704638 Corp</td>\n",
       "      <td>103.425</td>\n",
       "      <td>103.699</td>\n",
       "      <td>103.5620</td>\n",
       "      <td>1.6250</td>\n",
       "      <td>05/30/2027</td>\n",
       "      <td>50.57070</td>\n",
       "      <td>80.3467</td>\n",
       "      <td>50.53560</td>\n",
       "      <td>...</td>\n",
       "      <td>3.000000e+08</td>\n",
       "      <td>6451.85</td>\n",
       "      <td>REITs</td>\n",
       "      <td>N.A.</td>\n",
       "      <td>N.A.</td>\n",
       "      <td>SR UNSECURED</td>\n",
       "      <td>0.021957</td>\n",
       "      <td>103.562000</td>\n",
       "      <td>5.802740</td>\n",
       "      <td>1.520241e-09</td>\n",
       "    </tr>\n",
       "    <tr>\n",
       "      <th>20302</th>\n",
       "      <td>20302</td>\n",
       "      <td>BM704638 Corp</td>\n",
       "      <td>103.423</td>\n",
       "      <td>103.697</td>\n",
       "      <td>103.5600</td>\n",
       "      <td>1.6250</td>\n",
       "      <td>05/30/2027</td>\n",
       "      <td>50.57070</td>\n",
       "      <td>80.3467</td>\n",
       "      <td>50.53560</td>\n",
       "      <td>...</td>\n",
       "      <td>3.000000e+08</td>\n",
       "      <td>6451.85</td>\n",
       "      <td>REITs</td>\n",
       "      <td>N.A.</td>\n",
       "      <td>N.A.</td>\n",
       "      <td>SR UNSECURED</td>\n",
       "      <td>0.021962</td>\n",
       "      <td>103.560000</td>\n",
       "      <td>5.802740</td>\n",
       "      <td>1.520216e-09</td>\n",
       "    </tr>\n",
       "    <tr>\n",
       "      <th>20300</th>\n",
       "      <td>20300</td>\n",
       "      <td>BM704638 Corp</td>\n",
       "      <td>103.424</td>\n",
       "      <td>103.697</td>\n",
       "      <td>103.5605</td>\n",
       "      <td>1.6250</td>\n",
       "      <td>05/30/2027</td>\n",
       "      <td>50.57070</td>\n",
       "      <td>80.3467</td>\n",
       "      <td>50.53560</td>\n",
       "      <td>...</td>\n",
       "      <td>3.000000e+08</td>\n",
       "      <td>6451.85</td>\n",
       "      <td>REITs</td>\n",
       "      <td>N.A.</td>\n",
       "      <td>N.A.</td>\n",
       "      <td>SR UNSECURED</td>\n",
       "      <td>0.021961</td>\n",
       "      <td>103.560500</td>\n",
       "      <td>5.802740</td>\n",
       "      <td>1.520208e-09</td>\n",
       "    </tr>\n",
       "    <tr>\n",
       "      <th>20291</th>\n",
       "      <td>20291</td>\n",
       "      <td>BM704638 Corp</td>\n",
       "      <td>103.416</td>\n",
       "      <td>103.689</td>\n",
       "      <td>103.5525</td>\n",
       "      <td>1.6250</td>\n",
       "      <td>05/30/2027</td>\n",
       "      <td>50.57070</td>\n",
       "      <td>80.3467</td>\n",
       "      <td>50.53560</td>\n",
       "      <td>...</td>\n",
       "      <td>3.000000e+08</td>\n",
       "      <td>6451.85</td>\n",
       "      <td>REITs</td>\n",
       "      <td>N.A.</td>\n",
       "      <td>N.A.</td>\n",
       "      <td>SR UNSECURED</td>\n",
       "      <td>0.021983</td>\n",
       "      <td>103.552500</td>\n",
       "      <td>5.802740</td>\n",
       "      <td>1.520024e-09</td>\n",
       "    </tr>\n",
       "    <tr>\n",
       "      <th>20301</th>\n",
       "      <td>20301</td>\n",
       "      <td>BM704638 Corp</td>\n",
       "      <td>103.408</td>\n",
       "      <td>103.681</td>\n",
       "      <td>103.5445</td>\n",
       "      <td>1.6250</td>\n",
       "      <td>05/30/2027</td>\n",
       "      <td>50.57070</td>\n",
       "      <td>80.3467</td>\n",
       "      <td>50.53560</td>\n",
       "      <td>...</td>\n",
       "      <td>3.000000e+08</td>\n",
       "      <td>6451.85</td>\n",
       "      <td>REITs</td>\n",
       "      <td>N.A.</td>\n",
       "      <td>N.A.</td>\n",
       "      <td>SR UNSECURED</td>\n",
       "      <td>0.022005</td>\n",
       "      <td>103.544500</td>\n",
       "      <td>5.802740</td>\n",
       "      <td>1.519812e-09</td>\n",
       "    </tr>\n",
       "  </tbody>\n",
       "</table>\n",
       "<p>5000 rows × 24 columns</p>\n",
       "</div>"
      ],
      "text/plain": [
       "       Unnamed: 0 Reference Security  Bid Price  Ask Price  Mid Price     Cpn  \\\n",
       "5909         5909      ZS424035 Corp      0.010      0.750     0.3800  1.5000   \n",
       "1456         1456      AN346569 Corp      0.125      0.700     0.4125  3.8750   \n",
       "827           827      AL458635 Corp      0.250      1.750     1.0000  6.2500   \n",
       "44900       44900      QJ879163 Corp      0.407      1.481     0.9440  9.8776   \n",
       "44899       44899      QJ879163 Corp      0.396      1.499     0.9475  9.8776   \n",
       "...           ...                ...        ...        ...        ...     ...   \n",
       "20292       20292      BM704638 Corp    103.425    103.699   103.5620  1.6250   \n",
       "20302       20302      BM704638 Corp    103.423    103.697   103.5600  1.6250   \n",
       "20300       20300      BM704638 Corp    103.424    103.697   103.5605  1.6250   \n",
       "20291       20291      BM704638 Corp    103.416    103.689   103.5525  1.6250   \n",
       "20301       20301      BM704638 Corp    103.408    103.681   103.5445  1.6250   \n",
       "\n",
       "         Maturity  Common Eqty / Tot Assets  Debt / Common Equity  TCE Ratio  \\\n",
       "5909   04/26/2024                -147.17300                   NaN -149.82800   \n",
       "1456   10/25/2022                  12.72580              177.3660  -23.21850   \n",
       "827    06/15/2022                       NaN                   NaN        NaN   \n",
       "44900  12/01/2025                   5.74708              467.7130    4.97044   \n",
       "44899  12/01/2025                   5.74708              467.7130    4.97044   \n",
       "...           ...                       ...                   ...        ...   \n",
       "20292  05/30/2027                  50.57070               80.3467   50.53560   \n",
       "20302  05/30/2027                  50.57070               80.3467   50.53560   \n",
       "20300  05/30/2027                  50.57070               80.3467   50.53560   \n",
       "20291  05/30/2027                  50.57070               80.3467   50.53560   \n",
       "20301  05/30/2027                  50.57070               80.3467   50.53560   \n",
       "\n",
       "       ...       Amt Out  Total Assets     BCLASS Level 3  Guarantee Type  \\\n",
       "5909   ...  1.186770e+09       3359.72   Other Industrial        Multiple   \n",
       "1456   ...  4.000000e+08       1808.09           Electric        Multiple   \n",
       "827    ...  7.500000e+08           NaN  Consumer Cyclical            N.A.   \n",
       "44900  ...  2.000000e+08    1002610.00            Banking            N.A.   \n",
       "44899  ...  2.000000e+08    1002610.00            Banking            N.A.   \n",
       "...    ...           ...           ...                ...             ...   \n",
       "20292  ...  3.000000e+08       6451.85              REITs            N.A.   \n",
       "20302  ...  3.000000e+08       6451.85              REITs            N.A.   \n",
       "20300  ...  3.000000e+08       6451.85              REITs            N.A.   \n",
       "20291  ...  3.000000e+08       6451.85              REITs            N.A.   \n",
       "20301  ...  3.000000e+08       6451.85              REITs            N.A.   \n",
       "\n",
       "              Guarantor Type   Collat Type     PD_1y     reprice  \\\n",
       "5909            Subsidiaries    SR SECURED  1.000000   40.007513   \n",
       "1456   Parent & Subsidiaries    SR SECURED  1.000000   40.007513   \n",
       "827                     N.A.  SR UNSECURED  1.000000   42.507983   \n",
       "44900                   N.A.  SUBORDINATED  1.000000   40.007513   \n",
       "44899                   N.A.  SUBORDINATED  1.000000   40.007513   \n",
       "...                      ...           ...       ...         ...   \n",
       "20292                   N.A.  SR UNSECURED  0.021957  103.562000   \n",
       "20302                   N.A.  SR UNSECURED  0.021962  103.560000   \n",
       "20300                   N.A.  SR UNSECURED  0.021961  103.560500   \n",
       "20291                   N.A.  SR UNSECURED  0.021983  103.552500   \n",
       "20301                   N.A.  SR UNSECURED  0.022005  103.544500   \n",
       "\n",
       "      maturity_years       Error %  \n",
       "5909        2.709589  1.042829e+04  \n",
       "1456        1.205479  9.598791e+03  \n",
       "827         0.843836  4.150798e+03  \n",
       "44900       4.309589  4.138084e+03  \n",
       "44899       4.309589  4.122429e+03  \n",
       "...              ...           ...  \n",
       "20292       5.802740  1.520241e-09  \n",
       "20302       5.802740  1.520216e-09  \n",
       "20300       5.802740  1.520208e-09  \n",
       "20291       5.802740  1.520024e-09  \n",
       "20301       5.802740  1.519812e-09  \n",
       "\n",
       "[5000 rows x 24 columns]"
      ]
     },
     "execution_count": 135,
     "metadata": {},
     "output_type": "execute_result"
    }
   ],
   "source": [
    "df.sort_values('Error %', ascending=False, inplace=True)\n",
    "df.head(5000)"
   ]
  },
  {
   "cell_type": "code",
   "execution_count": 6,
   "metadata": {},
   "outputs": [],
   "source": [
    "def count_nan(df):\n",
    "    for col_name in df.columns:\n",
    "        n_nan = df[col_name].isna().sum()\n",
    "        if n_nan > 0:\n",
    "            print(\"Colomn : \", col_name)  \n",
    "            print(\"NaN : {}/{}\".format(n_nan,len(df[col_name])))\n",
    "            print(\"===============================================\")\n",
    "            \n",
    "#count_nan(df)"
   ]
  },
  {
   "cell_type": "code",
   "execution_count": 7,
   "metadata": {},
   "outputs": [
    {
     "data": {
      "text/plain": [
       "Index(['Unnamed: 0', 'Reference Security', 'Bid Price', 'Ask Price',\n",
       "       'Mid Price', 'Cpn', 'Maturity', 'Common Eqty / Tot Assets',\n",
       "       'Debt / Common Equity', 'TCE Ratio', 'Tot Debt / Tot Capital',\n",
       "       'Tot Cap (Local Crncy)', 'Is Covered', 'Is Convertible', 'Amt Out',\n",
       "       'Total Assets', 'BCLASS Level 3', 'Guarantee Type', 'Guarantor Type',\n",
       "       'Collat Type', 'PD_1y', 'reprice', 'maturity_years', 'Error %'],\n",
       "      dtype='object')"
      ]
     },
     "execution_count": 7,
     "metadata": {},
     "output_type": "execute_result"
    }
   ],
   "source": [
    "df = df[df.PD_1y>0.0]\n",
    "df = df[df.PD_1y!=1.0]\n",
    "\n",
    "df.columns"
   ]
  },
  {
   "cell_type": "code",
   "execution_count": 8,
   "metadata": {},
   "outputs": [],
   "source": [
    "df1 = df[['Common Eqty / Tot Assets','TCE Ratio','Tot Debt / Tot Capital','Tot Cap (Local Crncy)','Is Covered','Is Convertible','Amt Out','BCLASS Level 3', 'Guarantee Type','Total Assets', 'Guarantor Type', 'Collat Type','Debt / Common Equity','PD_1y']]\n",
    "df1 = df1[df1['Debt / Common Equity']<2500]\n",
    "df1 = df1[df1['TCE Ratio']>-100]\n",
    "#df1.replace(np.nan, 0.0,inplace=True)\n",
    "df1.dropna(inplace=True)"
   ]
  },
  {
   "cell_type": "code",
   "execution_count": 9,
   "metadata": {},
   "outputs": [
    {
     "data": {
      "text/plain": [
       "(36107, 14)"
      ]
     },
     "execution_count": 9,
     "metadata": {},
     "output_type": "execute_result"
    }
   ],
   "source": [
    "df1 = df1.drop_duplicates()\n",
    "df1.shape"
   ]
  },
  {
   "cell_type": "markdown",
   "metadata": {},
   "source": [
    "## b. Traitement des données"
   ]
  },
  {
   "cell_type": "markdown",
   "metadata": {},
   "source": [
    "Nous commencerons par séparer les données non étiquietées des étiquettes, les étiquettes se trouvent dans l'array `y_full` et le reste des données dans `X_full`"
   ]
  },
  {
   "cell_type": "code",
   "execution_count": 10,
   "metadata": {},
   "outputs": [],
   "source": [
    "X_full = np.array(df1.drop(columns=['PD_1y']))\n",
    "y_full = np.array(df1['PD_1y'])"
   ]
  },
  {
   "cell_type": "markdown",
   "metadata": {},
   "source": [
    "La prochaine étape consiste à séparer les features continues des features discrètes, cela sera utile car leurs traitements seront différent"
   ]
  },
  {
   "cell_type": "code",
   "execution_count": 11,
   "metadata": {},
   "outputs": [],
   "source": [
    "features = list(df1.drop(columns=['PD_1y']).columns)\n",
    "\n",
    "discrete_features = ['BCLASS Level 3','Guarantee Type','Guarantor Type','Collat Type','Is Covered','Is Convertible']\n",
    "continuous_features = [s for s in features if not s in discrete_features]\n",
    "\n",
    "\n",
    "continuous_features_idx = [features.index(feat_name) for feat_name in continuous_features]\n",
    "discrete_features_idx = [features.index(feat_name) for feat_name in discrete_features]"
   ]
  },
  {
   "cell_type": "code",
   "execution_count": 12,
   "metadata": {},
   "outputs": [],
   "source": [
    "## A FAIRE COMME CELA :\n",
    "\"\"\"\n",
    "from sklearn.preprocessing import OneHotEncoder\n",
    "\n",
    "enc = OneHotEncoder(handle_unknown='ignore')\n",
    "enc.fit(X_train_submit)\n",
    "\n",
    "X_train_submit = enc.transform(X_train_submit)\n",
    "X_test_submit = enc.transform(X_test_submit)\n",
    "\n",
    "\"\"\"\n",
    "\n",
    "\n",
    "\n",
    "class Pipeline:\n",
    "    def __init__(self, X_train, X_full = None):\n",
    "        \"\"\"\n",
    "        Se fit sur le jeu de TRAIN, une seule fois\n",
    "        \"\"\"\n",
    "        self.ohe = preprocessing.OneHotEncoder(categories='auto',sparse=False).fit(X_full[:,discrete_features_idx])\n",
    "        self.std_scaler = preprocessing.StandardScaler().fit(X_train[:,continuous_features_idx])\n",
    "        print(self.ohe.categories_)\n",
    "        \n",
    "    def traitement(self,X):\n",
    "        \"\"\"\n",
    "        Permet de traiter n'importe quel vecteur X ensuite\n",
    "        \"\"\"\n",
    "    \n",
    "        X_continuous_scaled = self.std_scaler.transform(X[:,continuous_features_idx])\n",
    "        X_discrete_encoded = self.ohe.transform(X[:,discrete_features_idx])\n",
    "        print('moyenne = {}'.format(np.mean(X_continuous_scaled)))\n",
    "        \n",
    "        X_processed = np.hstack((X_discrete_encoded, X_continuous_scaled))\n",
    "    \n",
    "        return X_processed"
   ]
  },
  {
   "cell_type": "code",
   "execution_count": 13,
   "metadata": {},
   "outputs": [
    {
     "name": "stdout",
     "output_type": "stream",
     "text": [
      "[array(['Banking', 'Basic Industry', 'Brokerage Assetmanagers Exchanges',\n",
      "       'Capital Goods', 'Communications', 'Consumer Cyclical',\n",
      "       'Consumer Non-Cyclical', 'Electric', 'Energy', 'Finance Companies',\n",
      "       'Government Guaranteed', 'Government Owned. No Guarantee',\n",
      "       'Government Sponsored', 'Hybrid', 'Insurance', 'Local Authority',\n",
      "       'Mortgage Assets', 'Natural Gas', 'Other Financial',\n",
      "       'Other Industrial', 'Other Utility', 'Public Sector Loans',\n",
      "       'REITs', 'Supranational', 'Technology', 'Transportation',\n",
      "       'Whole Business'], dtype=object), array(['Cross Guarantee', 'Multiple', 'N.A.', 'Single'], dtype=object), array(['Bank', 'Company', 'Domestic Restricted Subsidiar',\n",
      "       'Local Government', 'N.A.', 'National/Sovereign Government',\n",
      "       'Other Subsidiary of Parent', 'Parent', 'Parent & Subsidiaries',\n",
      "       'Subsidiaries'], dtype=object), array(['BONDS', 'COMPANY GUARNT', 'COVERED', 'GOVT GUARANTEED',\n",
      "       'GOVT LIQUID GTD', 'INSURED', 'JR SUBORDINATED',\n",
      "       'JUMBO PFANDBRIEF', 'LOCAL GOVT GUARN', 'PFANDBRIEFE', 'SECURED',\n",
      "       'SR SECURED', 'SR SUBORDINATED', 'SR UNSECURED', 'SUBORDINATED',\n",
      "       'UNSECURED'], dtype=object), array([False, True], dtype=object), array([False, True], dtype=object)]\n",
      "moyenne = -5.419531399661382e-17\n",
      "moyenne = 0.0010116436549937034\n"
     ]
    }
   ],
   "source": [
    "X_train, X_test_, y_train, y_test = model_selection.train_test_split(X_full, y_full, test_size=0.1,\n",
    "                                                                    #stratify=y_full, # stratification\n",
    "                                                                    random_state=92)\n",
    "\n",
    "pipe = Pipeline(X_train,X_full)\n",
    "X_train = pipe.traitement(X_train)\n",
    "X_test  = pipe.traitement(X_test_)"
   ]
  },
  {
   "cell_type": "markdown",
   "metadata": {},
   "source": [
    "# 2. Création de classes de probabilités de défaut "
   ]
  },
  {
   "cell_type": "markdown",
   "metadata": {},
   "source": [
    "## a. Transformation des données"
   ]
  },
  {
   "cell_type": "code",
   "execution_count": 14,
   "metadata": {
    "scrolled": true
   },
   "outputs": [
    {
     "data": {
      "text/plain": [
       "Text(0.5, 1.0, 'Distribution des probabilités de défaut')"
      ]
     },
     "execution_count": 14,
     "metadata": {},
     "output_type": "execute_result"
    },
    {
     "data": {
      "image/png": "[encoded data removed]",
      "text/plain": [
       "<Figure size 432x288 with 1 Axes>"
      ]
     },
     "metadata": {
      "needs_background": "light"
     },
     "output_type": "display_data"
    }
   ],
   "source": [
    "plt.hist(y_train, range = (0, 0.2), bins = 1000, edgecolor='orange')\n",
    "plt.title('Distribution des probabilités de défaut')"
   ]
  },
  {
   "cell_type": "markdown",
   "metadata": {},
   "source": [
    "*Observation :* la distribution n'est pas du tout uniforme, ressemble à une loi exponentielle. Si l'on fait le clustering (K-means) sur ces données brutes, la classe 0 et 1 vont être surchargées et les dernières classes vides. Cela sera par la suite problématique pour les algos. Nous allons donc faire une transformation par la fonction de répartition de la loi exponentielle afin d'obtenir des données mieux séparées entre elles.  "
   ]
  },
  {
   "cell_type": "code",
   "execution_count": 15,
   "metadata": {},
   "outputs": [],
   "source": [
    "lam = 1/y_train.mean()"
   ]
  },
  {
   "cell_type": "code",
   "execution_count": 16,
   "metadata": {},
   "outputs": [],
   "source": [
    "def loi_expo(x,lam) : \n",
    "    return lam * np.exp(- lam * x)"
   ]
  },
  {
   "cell_type": "code",
   "execution_count": 17,
   "metadata": {},
   "outputs": [
    {
     "data": {
      "image/png": "[encoded data removed]",
      "text/plain": [
       "<Figure size 432x288 with 1 Axes>"
      ]
     },
     "metadata": {
      "needs_background": "light"
     },
     "output_type": "display_data"
    }
   ],
   "source": [
    "from pylab import *\n",
    "x_arg = linspace(0, 0.2, 100)\n",
    "y_arg = loi_expo(x_arg,lam) * 8\n",
    "\n",
    "plot(x_arg, y_arg)\n",
    "plt.hist(y_train, range = (0, 0.2), bins = 1000, edgecolor='orange')\n",
    "show()"
   ]
  },
  {
   "cell_type": "markdown",
   "metadata": {},
   "source": [
    "La distribution fit assez bien avec une loi exponentielle de paramètre lam. Nous retenons ce modèle."
   ]
  },
  {
   "cell_type": "code",
   "execution_count": 18,
   "metadata": {},
   "outputs": [],
   "source": [
    "def distrib_function(x,lam) : \n",
    "    return 1 - np.exp(- lam * x)\n",
    "\n",
    "y_train_exp = distrib_function(y_train,lam)\n",
    "y_test_exp = distrib_function(y_test,lam)"
   ]
  },
  {
   "cell_type": "code",
   "execution_count": 19,
   "metadata": {},
   "outputs": [
    {
     "data": {
      "text/plain": [
       "Text(0.5, 1.0, 'Distribution des probabilités de défaut après transformation')"
      ]
     },
     "execution_count": 19,
     "metadata": {},
     "output_type": "execute_result"
    },
    {
     "data": {
      "image/png": "[encoded data removed]",
      "text/plain": [
       "<Figure size 432x288 with 1 Axes>"
      ]
     },
     "metadata": {
      "needs_background": "light"
     },
     "output_type": "display_data"
    }
   ],
   "source": [
    "plt.hist(y_train_exp, range = (0, 1), bins = 100)\n",
    "plt.title('Distribution des probabilités de défaut après transformation')"
   ]
  },
  {
   "cell_type": "markdown",
   "metadata": {},
   "source": [
    "## b. Détermination du nombre de clusters optimal"
   ]
  },
  {
   "cell_type": "code",
   "execution_count": 20,
   "metadata": {},
   "outputs": [],
   "source": [
    "from sklearn.cluster import KMeans"
   ]
  },
  {
   "cell_type": "code",
   "execution_count": 21,
   "metadata": {
    "scrolled": true
   },
   "outputs": [
    {
     "data": {
      "image/png": "[encoded data removed]",
      "text/plain": [
       "<Figure size 432x288 with 1 Axes>"
      ]
     },
     "metadata": {
      "needs_background": "light"
     },
     "output_type": "display_data"
    }
   ],
   "source": [
    "def regle_du_coude(base_input, nb_cluster_teste):\n",
    "    \n",
    "    distortions = []\n",
    "    df = pd.DataFrame(columns = ['X', 'Y']) \n",
    "    df[\"X\"]=base_input\n",
    "    df[\"Y\"]=base_input\n",
    "\n",
    "    for k in range(1,nb_cluster_teste+1):\n",
    "        kmeanModel = KMeans(n_clusters=k)\n",
    "        kmeanModel.fit(df)\n",
    "        distortions.append(kmeanModel.inertia_)\n",
    "    \n",
    "    plt.plot(range(1,nb_cluster_teste+1), distortions, 'rx--')\n",
    "    plt.xticks(range(0,nb_cluster_teste+1,2))\n",
    "    plt.xlabel('Nombre de clusters',)\n",
    "    plt.ylabel('Variance intra-classe')\n",
    "    plt.title('La méthode du coude')\n",
    "    plt.show()\n",
    "    \n",
    "regle_du_coude(y_train_exp,20)"
   ]
  },
  {
   "cell_type": "markdown",
   "metadata": {},
   "source": [
    "Choix du nombre de clusters : "
   ]
  },
  {
   "cell_type": "markdown",
   "metadata": {},
   "source": [
    "## c. Clustering"
   ]
  },
  {
   "cell_type": "code",
   "execution_count": 313,
   "metadata": {},
   "outputs": [],
   "source": [
    "class Discretizer:\n",
    "    def __init__(self, y_train, nb_class=6):\n",
    "        \n",
    "        self.nb_class = nb_class\n",
    "        self.y_train = y_train.reshape((-1,1))\n",
    "\n",
    "        self.kbins = KBinsDiscretizer(n_bins=self.nb_class, encode='ordinal', strategy='kmeans')#strategy : uniform, quantile, kmeans\n",
    "        self.kbins.fit(self.y_train)\n",
    "        \n",
    "        \n",
    "    def discretize(self,y):\n",
    "        y = y.reshape((-1,1))\n",
    "        y_class = self.kbins.transform(y)\n",
    "        return y_class"
   ]
  },
  {
   "cell_type": "code",
   "execution_count": 314,
   "metadata": {},
   "outputs": [],
   "source": [
    "nb_class = 12\n",
    "discretizer = Discretizer(y_train_exp, nb_class=nb_class)\n",
    "\n",
    "y_train_class = discretizer.discretize(y_train_exp)\n",
    "y_test_class  = discretizer.discretize(y_test_exp)"
   ]
  },
  {
   "cell_type": "code",
   "execution_count": 363,
   "metadata": {},
   "outputs": [],
   "source": [
    "class classe_vers_probas:\n",
    "    def __init__(self, discretizer):\n",
    "        \n",
    "        switches = list()\n",
    "        for k in range(0,nb_class): #Dichotomie\n",
    "            a=0\n",
    "            b=1\n",
    "            mid=(b+a)/2\n",
    "            while b-a > 1e-10:\n",
    "                value = float(discretizer.discretize(np.array([mid])).squeeze())\n",
    "\n",
    "                if value>k:\n",
    "                    b=mid\n",
    "                else:\n",
    "                    a=mid\n",
    "                mid=(b+a)/2\n",
    "            switches.append(mid)\n",
    "\n",
    "        switches = np.array(switches)\n",
    "        self.means = (switches + np.array([0]+list(switches)[:-1]))/2\n",
    "        \n",
    "    def set_lambda(self,lam):\n",
    "        self.lam = lam\n",
    "        \n",
    "    def inv_distrib(self, y):\n",
    "        return - np.log(1 - y) / self.lam\n",
    "        \n",
    "    def get_proba(self, k): #k est une classe\n",
    "        value_before_transfo = self.means[int(k)]\n",
    "        \n",
    "        return self.inv_distrib(value_before_transfo)"
   ]
  },
  {
   "cell_type": "code",
   "execution_count": 364,
   "metadata": {},
   "outputs": [],
   "source": [
    "retour_proba = classe_vers_probas(discretizer)\n",
    "retour_proba.set_lambda(lam=lam)"
   ]
  },
  {
   "cell_type": "code",
   "execution_count": 362,
   "metadata": {},
   "outputs": [
    {
     "data": {
      "image/png": "[encoded data removed]",
      "text/plain": [
       "<Figure size 576x432 with 1 Axes>"
      ]
     },
     "metadata": {
      "needs_background": "light"
     },
     "output_type": "display_data"
    }
   ],
   "source": [
    "x_ = np.linspace(0,1,10000)\n",
    "plt.figure(figsize=(8,6))\n",
    "plt.plot(x_,discretizer.discretize(x_))\n",
    "for xc in switches:\n",
    "    plt.axvline(x=xc, color='red')\n",
    "\n",
    "for xc in means:\n",
    "    plt.axvline(x=xc, color='green')\n",
    "    \n",
    "plt.xlabel(\"Probabilité de défaut\")\n",
    "plt.ylabel(\"Classe correspondante\")\n",
    "\n",
    "plt.show()"
   ]
  },
  {
   "cell_type": "code",
   "execution_count": 318,
   "metadata": {},
   "outputs": [
    {
     "data": {
      "image/png": "[encoded data removed]",
      "text/plain": [
       "<Figure size 432x288 with 1 Axes>"
      ]
     },
     "metadata": {
      "needs_background": "light"
     },
     "output_type": "display_data"
    }
   ],
   "source": [
    "plt.hist(y_train_class, range = (0, nb_class), bins = nb_class, edgecolor='black' )\n",
    "plt.xlabel('Classes')\n",
    "plt.ylabel('Nombre de bonds')\n",
    "plt.title('Histogramme du nombre de bonds par classe - base de train')\n",
    "plt.show()"
   ]
  },
  {
   "cell_type": "code",
   "execution_count": 319,
   "metadata": {},
   "outputs": [
    {
     "data": {
      "image/png": "[encoded data removed]",
      "text/plain": [
       "<Figure size 432x288 with 1 Axes>"
      ]
     },
     "metadata": {
      "needs_background": "light"
     },
     "output_type": "display_data"
    }
   ],
   "source": [
    "plt.hist(y_test_class, range = (0, nb_class), bins = nb_class, edgecolor='black' )\n",
    "plt.xlabel('Classes')\n",
    "plt.ylabel('Nombre de bonds')\n",
    "plt.title('Histogramme du nombre de bonds par classe - base de test')\n",
    "plt.show()"
   ]
  },
  {
   "cell_type": "markdown",
   "metadata": {},
   "source": [
    "*Comparaison avec ce que l'on aurait eu sans transformation :*"
   ]
  },
  {
   "cell_type": "code",
   "execution_count": 320,
   "metadata": {},
   "outputs": [
    {
     "data": {
      "image/png": "[encoded data removed]",
      "text/plain": [
       "<Figure size 432x288 with 1 Axes>"
      ]
     },
     "metadata": {
      "needs_background": "light"
     },
     "output_type": "display_data"
    }
   ],
   "source": [
    "plt.hist(Discretizer(y_train, nb_class=nb_class).discretize(y_train), range = (0, nb_class), bins = nb_class, edgecolor='black' )\n",
    "plt.xlabel('Classes')\n",
    "plt.ylabel('Nombre de bonds')\n",
    "plt.title('SANS TRANSFORMATION - Histogramme base de test')\n",
    "plt.show()"
   ]
  },
  {
   "cell_type": "markdown",
   "metadata": {},
   "source": [
    "Nous voyons bien que la transformaiton était nécessaire pour réaliser un clustering probant par la méthode des K-means. "
   ]
  },
  {
   "cell_type": "markdown",
   "metadata": {},
   "source": [
    "# III. Modèles de classification"
   ]
  },
  {
   "cell_type": "markdown",
   "metadata": {},
   "source": [
    "## a. Réseau de neurones"
   ]
  },
  {
   "cell_type": "markdown",
   "metadata": {},
   "source": [
    "## Entrainement du modèle"
   ]
  },
  {
   "cell_type": "code",
   "execution_count": 321,
   "metadata": {},
   "outputs": [],
   "source": [
    "model = Sequential()\n",
    "#model.add(Conv1D(12, 2, activation='relu',input_shape=input_shape[1:]))\n",
    "model.add(Dense(units=1000,input_dim=68)) #6 is good\n",
    "model.add(Dense(units=1000))\n",
    "model.add(Dropout(0.4))\n",
    "model.add(Dense(units=nb_class,activation=\"softmax\")) #output"
   ]
  },
  {
   "cell_type": "code",
   "execution_count": 322,
   "metadata": {},
   "outputs": [],
   "source": [
    "from tensorflow import keras \n",
    "\n",
    "model.compile(optimizer=keras.optimizers.Adam(lr=0.00003),\n",
    "              loss=keras.losses.SparseCategoricalCrossentropy(from_logits=False), # default from_logits=False\n",
    "              metrics=[keras.metrics.SparseCategoricalAccuracy()])"
   ]
  },
  {
   "cell_type": "code",
   "execution_count": 323,
   "metadata": {},
   "outputs": [
    {
     "name": "stdout",
     "output_type": "stream",
     "text": [
      "Epoch 1/50\n",
      "250/250 [==============================] - 1s 4ms/step - loss: 2.3286 - sparse_categorical_accuracy: 0.1754 - val_loss: 2.2426 - val_sparse_categorical_accuracy: 0.1926\n",
      "Epoch 2/50\n",
      "250/250 [==============================] - 1s 3ms/step - loss: 2.2295 - sparse_categorical_accuracy: 0.2036 - val_loss: 2.1747 - val_sparse_categorical_accuracy: 0.2218\n",
      "Epoch 3/50\n",
      "250/250 [==============================] - 1s 3ms/step - loss: 2.2023 - sparse_categorical_accuracy: 0.2176 - val_loss: 2.1420 - val_sparse_categorical_accuracy: 0.2289\n",
      "Epoch 4/50\n",
      "250/250 [==============================] - 1s 3ms/step - loss: 2.1504 - sparse_categorical_accuracy: 0.2330 - val_loss: 2.1240 - val_sparse_categorical_accuracy: 0.2308\n",
      "Epoch 5/50\n",
      "250/250 [==============================] - 1s 3ms/step - loss: 2.1285 - sparse_categorical_accuracy: 0.2310 - val_loss: 2.1026 - val_sparse_categorical_accuracy: 0.2345\n",
      "Epoch 6/50\n",
      "250/250 [==============================] - 1s 3ms/step - loss: 2.1123 - sparse_categorical_accuracy: 0.2345 - val_loss: 2.0902 - val_sparse_categorical_accuracy: 0.2415\n",
      "Epoch 7/50\n",
      "250/250 [==============================] - 1s 3ms/step - loss: 2.0974 - sparse_categorical_accuracy: 0.2382 - val_loss: 2.0770 - val_sparse_categorical_accuracy: 0.2422\n",
      "Epoch 8/50\n",
      "250/250 [==============================] - 1s 3ms/step - loss: 2.0796 - sparse_categorical_accuracy: 0.2396 - val_loss: 2.0682 - val_sparse_categorical_accuracy: 0.2471\n",
      "Epoch 9/50\n",
      "250/250 [==============================] - 1s 3ms/step - loss: 2.0853 - sparse_categorical_accuracy: 0.2520 - val_loss: 2.0574 - val_sparse_categorical_accuracy: 0.2563\n",
      "Epoch 10/50\n",
      "250/250 [==============================] - 1s 3ms/step - loss: 2.0899 - sparse_categorical_accuracy: 0.2316 - val_loss: 2.0592 - val_sparse_categorical_accuracy: 0.2418\n",
      "Epoch 11/50\n",
      "250/250 [==============================] - 1s 3ms/step - loss: 2.0842 - sparse_categorical_accuracy: 0.2346 - val_loss: 2.0507 - val_sparse_categorical_accuracy: 0.2495\n",
      "Epoch 12/50\n",
      "250/250 [==============================] - 1s 4ms/step - loss: 2.0889 - sparse_categorical_accuracy: 0.2393 - val_loss: 2.0518 - val_sparse_categorical_accuracy: 0.2434\n",
      "Epoch 13/50\n",
      "250/250 [==============================] - 1s 4ms/step - loss: 2.0540 - sparse_categorical_accuracy: 0.2374 - val_loss: 2.0528 - val_sparse_categorical_accuracy: 0.2455\n",
      "Epoch 14/50\n",
      "250/250 [==============================] - 1s 4ms/step - loss: 2.0682 - sparse_categorical_accuracy: 0.2460 - val_loss: 2.0449 - val_sparse_categorical_accuracy: 0.2471\n",
      "Epoch 15/50\n",
      "250/250 [==============================] - 1s 4ms/step - loss: 2.0374 - sparse_categorical_accuracy: 0.2506 - val_loss: 2.0491 - val_sparse_categorical_accuracy: 0.2520\n",
      "Epoch 16/50\n",
      "250/250 [==============================] - 1s 4ms/step - loss: 2.0678 - sparse_categorical_accuracy: 0.2404 - val_loss: 2.0343 - val_sparse_categorical_accuracy: 0.2468\n",
      "Epoch 17/50\n",
      "250/250 [==============================] - 1s 4ms/step - loss: 2.0680 - sparse_categorical_accuracy: 0.2504 - val_loss: 2.0340 - val_sparse_categorical_accuracy: 0.2551\n",
      "Epoch 18/50\n",
      "250/250 [==============================] - 1s 3ms/step - loss: 2.0587 - sparse_categorical_accuracy: 0.2475 - val_loss: 2.0312 - val_sparse_categorical_accuracy: 0.2563\n",
      "Epoch 19/50\n",
      "250/250 [==============================] - 1s 4ms/step - loss: 2.0807 - sparse_categorical_accuracy: 0.2328 - val_loss: 2.0313 - val_sparse_categorical_accuracy: 0.2511\n",
      "Epoch 20/50\n",
      "250/250 [==============================] - 1s 3ms/step - loss: 2.0328 - sparse_categorical_accuracy: 0.2646 - val_loss: 2.0365 - val_sparse_categorical_accuracy: 0.2551\n",
      "Epoch 21/50\n",
      "250/250 [==============================] - 1s 3ms/step - loss: 2.0473 - sparse_categorical_accuracy: 0.2470 - val_loss: 2.0274 - val_sparse_categorical_accuracy: 0.2575\n",
      "Epoch 22/50\n",
      "250/250 [==============================] - 1s 3ms/step - loss: 2.0536 - sparse_categorical_accuracy: 0.2370 - val_loss: 2.0366 - val_sparse_categorical_accuracy: 0.2551\n",
      "Epoch 23/50\n",
      "250/250 [==============================] - 1s 3ms/step - loss: 2.0593 - sparse_categorical_accuracy: 0.2416 - val_loss: 2.0275 - val_sparse_categorical_accuracy: 0.2569\n",
      "Epoch 24/50\n",
      "250/250 [==============================] - 1s 4ms/step - loss: 2.0498 - sparse_categorical_accuracy: 0.2551 - val_loss: 2.0283 - val_sparse_categorical_accuracy: 0.2480\n",
      "Epoch 25/50\n",
      "250/250 [==============================] - 1s 3ms/step - loss: 2.0630 - sparse_categorical_accuracy: 0.2346 - val_loss: 2.0327 - val_sparse_categorical_accuracy: 0.2649\n",
      "Epoch 26/50\n",
      "250/250 [==============================] - 1s 4ms/step - loss: 2.0348 - sparse_categorical_accuracy: 0.2496 - val_loss: 2.0296 - val_sparse_categorical_accuracy: 0.2551\n",
      "Epoch 27/50\n",
      "250/250 [==============================] - 1s 4ms/step - loss: 2.0543 - sparse_categorical_accuracy: 0.2420 - val_loss: 2.0242 - val_sparse_categorical_accuracy: 0.2649\n",
      "Epoch 28/50\n",
      "250/250 [==============================] - 1s 4ms/step - loss: 2.0476 - sparse_categorical_accuracy: 0.2496 - val_loss: 2.0275 - val_sparse_categorical_accuracy: 0.2465\n",
      "Epoch 29/50\n",
      "250/250 [==============================] - 1s 4ms/step - loss: 2.0336 - sparse_categorical_accuracy: 0.2502 - val_loss: 2.0238 - val_sparse_categorical_accuracy: 0.2542\n",
      "Epoch 30/50\n",
      "250/250 [==============================] - 1s 3ms/step - loss: 2.0500 - sparse_categorical_accuracy: 0.2507 - val_loss: 2.0242 - val_sparse_categorical_accuracy: 0.2526\n",
      "Epoch 31/50\n",
      "250/250 [==============================] - 1s 3ms/step - loss: 2.0406 - sparse_categorical_accuracy: 0.2480 - val_loss: 2.0237 - val_sparse_categorical_accuracy: 0.2511\n",
      "Epoch 32/50\n",
      "250/250 [==============================] - 1s 3ms/step - loss: 2.0437 - sparse_categorical_accuracy: 0.2448 - val_loss: 2.0244 - val_sparse_categorical_accuracy: 0.2563\n",
      "Epoch 33/50\n",
      "250/250 [==============================] - 1s 3ms/step - loss: 2.0397 - sparse_categorical_accuracy: 0.2476 - val_loss: 2.0239 - val_sparse_categorical_accuracy: 0.2508\n",
      "Epoch 34/50\n",
      "250/250 [==============================] - 1s 3ms/step - loss: 2.0419 - sparse_categorical_accuracy: 0.2442 - val_loss: 2.0221 - val_sparse_categorical_accuracy: 0.2600\n",
      "Epoch 35/50\n",
      "250/250 [==============================] - 1s 4ms/step - loss: 2.0553 - sparse_categorical_accuracy: 0.2390 - val_loss: 2.0169 - val_sparse_categorical_accuracy: 0.2665\n",
      "Epoch 36/50\n",
      "250/250 [==============================] - 1s 4ms/step - loss: 2.0433 - sparse_categorical_accuracy: 0.2549 - val_loss: 2.0226 - val_sparse_categorical_accuracy: 0.2483\n",
      "Epoch 37/50\n",
      "250/250 [==============================] - 1s 5ms/step - loss: 2.0402 - sparse_categorical_accuracy: 0.2460 - val_loss: 2.0289 - val_sparse_categorical_accuracy: 0.2517\n",
      "Epoch 38/50\n",
      "250/250 [==============================] - 1s 4ms/step - loss: 2.0400 - sparse_categorical_accuracy: 0.2510 - val_loss: 2.0248 - val_sparse_categorical_accuracy: 0.2486\n",
      "Epoch 39/50\n",
      "250/250 [==============================] - 1s 4ms/step - loss: 2.0262 - sparse_categorical_accuracy: 0.2532 - val_loss: 2.0225 - val_sparse_categorical_accuracy: 0.2557\n",
      "Epoch 40/50\n",
      "250/250 [==============================] - 1s 4ms/step - loss: 2.0626 - sparse_categorical_accuracy: 0.2416 - val_loss: 2.0235 - val_sparse_categorical_accuracy: 0.2634\n",
      "Epoch 41/50\n",
      "250/250 [==============================] - 1s 4ms/step - loss: 2.0317 - sparse_categorical_accuracy: 0.2475 - val_loss: 2.0191 - val_sparse_categorical_accuracy: 0.2625\n",
      "Epoch 42/50\n",
      "250/250 [==============================] - 1s 4ms/step - loss: 2.0427 - sparse_categorical_accuracy: 0.2658 - val_loss: 2.0280 - val_sparse_categorical_accuracy: 0.2560\n",
      "Epoch 43/50\n",
      "250/250 [==============================] - 1s 4ms/step - loss: 2.0341 - sparse_categorical_accuracy: 0.2482 - val_loss: 2.0221 - val_sparse_categorical_accuracy: 0.2689\n",
      "Epoch 44/50\n",
      "250/250 [==============================] - 1s 4ms/step - loss: 2.0367 - sparse_categorical_accuracy: 0.2508 - val_loss: 2.0148 - val_sparse_categorical_accuracy: 0.2600\n",
      "Epoch 45/50\n",
      "250/250 [==============================] - 1s 4ms/step - loss: 2.0462 - sparse_categorical_accuracy: 0.2544 - val_loss: 2.0234 - val_sparse_categorical_accuracy: 0.2455\n",
      "Epoch 46/50\n"
     ]
    },
    {
     "name": "stdout",
     "output_type": "stream",
     "text": [
      "250/250 [==============================] - 1s 4ms/step - loss: 2.0238 - sparse_categorical_accuracy: 0.2546 - val_loss: 2.0168 - val_sparse_categorical_accuracy: 0.2606\n",
      "Epoch 47/50\n",
      "250/250 [==============================] - 1s 4ms/step - loss: 2.0462 - sparse_categorical_accuracy: 0.2525 - val_loss: 2.0200 - val_sparse_categorical_accuracy: 0.2495\n",
      "Epoch 48/50\n",
      "250/250 [==============================] - 1s 4ms/step - loss: 2.0368 - sparse_categorical_accuracy: 0.2496 - val_loss: 2.0168 - val_sparse_categorical_accuracy: 0.2591\n",
      "Epoch 49/50\n",
      "250/250 [==============================] - 1s 4ms/step - loss: 2.0531 - sparse_categorical_accuracy: 0.2400 - val_loss: 2.0236 - val_sparse_categorical_accuracy: 0.2548\n",
      "Epoch 50/50\n",
      "250/250 [==============================] - 1s 4ms/step - loss: 2.0441 - sparse_categorical_accuracy: 0.2518 - val_loss: 2.0172 - val_sparse_categorical_accuracy: 0.2551\n"
     ]
    }
   ],
   "source": [
    "history = model.fit(X_train, y_train_class,         # Train the model using the training set...\n",
    "          batch_size=20, epochs=50,\n",
    "          verbose=1, validation_split=0.1,steps_per_epoch=250)  "
   ]
  },
  {
   "cell_type": "code",
   "execution_count": 324,
   "metadata": {},
   "outputs": [
    {
     "name": "stdout",
     "output_type": "stream",
     "text": [
      "113/113 [==============================] - 0s 1ms/step - loss: 2.0329 - sparse_categorical_accuracy: 0.2517\n",
      "The final loss on the TEST set is: 2.03.\n",
      "The final sparse_categorical_accuracy on the TEST set is: 0.25.\n"
     ]
    },
    {
     "data": {
      "image/png": "[encoded data removed]",
      "text/plain": [
       "<Figure size 432x288 with 1 Axes>"
      ]
     },
     "metadata": {
      "needs_background": "light"
     },
     "output_type": "display_data"
    }
   ],
   "source": [
    "# --------------------------------------\n",
    "# Evaluation\n",
    "# --------------------------------------\n",
    "for loss_name, loss_value in list(zip(model.metrics_names, model.evaluate(X_test, y_test_class, verbose=1))):\n",
    "    print('The final {} on the TEST set is: {:.2f}.'.format(loss_name, loss_value)) # Evaluate the trained model on the test set!\n",
    "\n",
    "# --------------------------------------\n",
    "# Loss functions evolution\n",
    "# --------------------------------------\n",
    "plt.plot(history.history['loss'])\n",
    "plt.plot(history.history['val_loss'])\n",
    "plt.title('Model loss by epoch')\n",
    "plt.ylabel('loss')\n",
    "plt.xlabel('epoch')\n",
    "plt.legend(['train', 'valid'], loc='right')\n",
    "plt.show()"
   ]
  },
  {
   "cell_type": "markdown",
   "metadata": {},
   "source": [
    "## Observation des résultats\n"
   ]
  },
  {
   "cell_type": "markdown",
   "metadata": {},
   "source": [
    "*Fonctions à charger*"
   ]
  },
  {
   "cell_type": "code",
   "execution_count": 357,
   "metadata": {},
   "outputs": [],
   "source": [
    "from sklearn.metrics import plot_confusion_matrix\n",
    "\n",
    "def ViewClassResult(model,continuous=False):\n",
    "    if continuous:\n",
    "        y=model.predict(np.squeeze(X_test))\n",
    "        y_predicted = [np.argmax(pred) for pred in y]\n",
    "    else:\n",
    "        y_predicted=model.predict(np.squeeze(X_test))\n",
    "    \n",
    "    print(np.sum(y_predicted==y_test_class[:,0]),'/',len(y_predicted))\n",
    "    CM = confusion_matrix(y_test_class[:,0], y_predicted)\n",
    "    \n",
    "    \n",
    "    fig, ax = plt.subplots(figsize=(10, 10))\n",
    "    #plot_confusion_matrix(model, X_test, y_test_class, ax=ax)\n",
    "    \n",
    "    \n",
    "    ConfusionMatrixDisplay(CM).plot(ax=ax)\n",
    "    \n",
    "    \n",
    "    #Si il y a trop de classes:\n",
    "    \"\"\"\n",
    "        plt.figure(figsize=(80, 60))\n",
    "    plt.matshow(CM)\n",
    "    plt.colorbar()\n",
    "    plt.ylabel('True Label')\n",
    "    plt.xlabel('Predicated Label')\n",
    "    \n",
    "    \"\"\"\n",
    "\n",
    "    \n",
    "    plt.savefig('CM_RF.png')\n",
    "\n",
    "    \n",
    "    \n",
    "    \n",
    "def ShowFeatureImportances(model):\n",
    "    \"\"\"\n",
    "    Shows the feature importances for a given model\n",
    "    \"\"\"\n",
    "    importance = model.feature_importances_\n",
    "    for i,v in enumerate(importance):\n",
    "        print('Feature: %0d, Score: %.5f' % (i,v))\n",
    "\n",
    "    plt.bar([x for x in range(len(importance))], importance)\n",
    "    plt.show()"
   ]
  },
  {
   "cell_type": "code",
   "execution_count": 360,
   "metadata": {},
   "outputs": [
    {
     "data": {
      "text/plain": [
       "0.25173082248684575"
      ]
     },
     "execution_count": 360,
     "metadata": {},
     "output_type": "execute_result"
    }
   ],
   "source": [
    "909 / 3611"
   ]
  },
  {
   "cell_type": "markdown",
   "metadata": {},
   "source": [
    "*Résultats du réseau de neurones*"
   ]
  },
  {
   "cell_type": "code",
   "execution_count": 354,
   "metadata": {},
   "outputs": [
    {
     "name": "stdout",
     "output_type": "stream",
     "text": [
      "909 / 3611\n"
     ]
    },
    {
     "data": {
      "image/png": "[encoded data removed]",
      "text/plain": [
       "<Figure size 720x720 with 2 Axes>"
      ]
     },
     "metadata": {
      "needs_background": "light"
     },
     "output_type": "display_data"
    }
   ],
   "source": [
    "ViewClassResult(model,continuous=True)"
   ]
  },
  {
   "cell_type": "markdown",
   "metadata": {},
   "source": [
    "## b. One VS Rest "
   ]
  },
  {
   "cell_type": "code",
   "execution_count": 335,
   "metadata": {},
   "outputs": [
    {
     "name": "stdout",
     "output_type": "stream",
     "text": [
      "0.4624757684851842\n"
     ]
    }
   ],
   "source": [
    "from sklearn.multiclass import OneVsRestClassifier\n",
    "from sklearn.svm import SVC\n",
    "\n",
    "#poly & degree=11\n",
    "\n",
    "OvR_clf = OneVsRestClassifier(SVC(kernel='rbf'),n_jobs=-1).fit(X_train, y_train_class)\n",
    "\n",
    "\n",
    "print(OvR_clf.score(X_test,y_test_class))"
   ]
  },
  {
   "cell_type": "code",
   "execution_count": 356,
   "metadata": {},
   "outputs": [
    {
     "name": "stdout",
     "output_type": "stream",
     "text": [
      "1670 / 3611\n"
     ]
    },
    {
     "data": {
      "image/png": "[encoded data removed]",
      "text/plain": [
       "<Figure size 720x720 with 2 Axes>"
      ]
     },
     "metadata": {
      "needs_background": "light"
     },
     "output_type": "display_data"
    }
   ],
   "source": [
    "ViewClassResult(OvR_clf)"
   ]
  },
  {
   "cell_type": "markdown",
   "metadata": {},
   "source": [
    "## c. Random Forest"
   ]
  },
  {
   "cell_type": "code",
   "execution_count": 337,
   "metadata": {},
   "outputs": [
    {
     "name": "stdout",
     "output_type": "stream",
     "text": [
      "0.7277762392689006\n"
     ]
    },
    {
     "data": {
      "text/plain": [
       "\"\\n{'estimator__n_estimators': 800, \\n 'estimator__min_samples_split': 2, \\n 'estimator__min_samples_leaf': 1, \\n 'estimator__max_features': 'auto', \\n 'estimator__max_depth': 100, \\n 'estimator__bootstrap': True}\\n\""
      ]
     },
     "execution_count": 337,
     "metadata": {},
     "output_type": "execute_result"
    }
   ],
   "source": [
    "from sklearn.ensemble import RandomForestClassifier\n",
    "\n",
    "rf2_clf = RandomForestClassifier(n_estimators=100,\n",
    "                                     criterion='gini', #{“gini”, “entropy”}\n",
    "                                     max_depth=100,#10,#0, #default=None\n",
    "                                     min_samples_split=3, #int or float, default=2\n",
    "                                     random_state=42,\n",
    "                                     max_features='auto',\n",
    "                                     bootstrap=True,\n",
    "                                     min_samples_leaf=1\n",
    "                                    )\n",
    "\n",
    "rf2_clf.fit(X_train, np.ravel(y_train_class))\n",
    "\n",
    "\n",
    "\n",
    "print(rf2_clf.score(X_test,y_test_class))\n",
    "\"\"\"\n",
    "{'estimator__n_estimators': 800, \n",
    " 'estimator__min_samples_split': 2, \n",
    " 'estimator__min_samples_leaf': 1, \n",
    " 'estimator__max_features': 'auto', \n",
    " 'estimator__max_depth': 100, \n",
    " 'estimator__bootstrap': True}\n",
    "\"\"\""
   ]
  },
  {
   "cell_type": "raw",
   "metadata": {},
   "source": [
    "##Selection meilleur n_arbres:\n",
    "\n",
    "N = [i for i in range(100,1100,100)]\n",
    "def foo(n):\n",
    "    rf2_clf = RandomForestClassifier(n_estimators=n,\n",
    "                                         criterion='gini', #{“gini”, “entropy”}\n",
    "                                         max_depth=100,#10,#0, #default=None\n",
    "                                         min_samples_split=3, #int or float, default=2\n",
    "                                         random_state=42,\n",
    "                                         max_features='auto',\n",
    "                                         bootstrap=True,\n",
    "                                         min_samples_leaf=1\n",
    "                                        )\n",
    "\n",
    "    rf2_clf.fit(X_train, np.ravel(y_train_class))\n",
    "    return rf2_clf.score(X_test,y_test_class)\n",
    "\n",
    "scores = np.vectorize(foo)(N)\n",
    "\n",
    "print(\"Meilleur nombre d'arbres : \".format(N[list(scores).index(max(scores))]))\n",
    "\n",
    "\n"
   ]
  },
  {
   "cell_type": "code",
   "execution_count": 338,
   "metadata": {},
   "outputs": [
    {
     "data": {
      "text/plain": [
       "100"
      ]
     },
     "execution_count": 338,
     "metadata": {},
     "output_type": "execute_result"
    }
   ],
   "source": [
    "N[list(scores).index(max(scores))]"
   ]
  },
  {
   "cell_type": "code",
   "execution_count": 339,
   "metadata": {},
   "outputs": [],
   "source": [
    "#plt.plot(n,Y__)\n",
    "#plt.savefig('variation_arbres_rf.png')"
   ]
  },
  {
   "cell_type": "code",
   "execution_count": 340,
   "metadata": {},
   "outputs": [],
   "source": [
    "#print(n[list(Y__).index(max(Y__))])"
   ]
  },
  {
   "cell_type": "code",
   "execution_count": 358,
   "metadata": {},
   "outputs": [
    {
     "name": "stdout",
     "output_type": "stream",
     "text": [
      "2628 / 3611\n"
     ]
    },
    {
     "data": {
      "image/png": "[encoded data removed]",
      "text/plain": [
       "<Figure size 720x720 with 2 Axes>"
      ]
     },
     "metadata": {
      "needs_background": "light"
     },
     "output_type": "display_data"
    }
   ],
   "source": [
    "ViewClassResult(rf2_clf)"
   ]
  },
  {
   "cell_type": "code",
   "execution_count": 342,
   "metadata": {},
   "outputs": [
    {
     "data": {
      "text/plain": [
       "array([10.,  7.,  5., ..., 10.,  1., 10.])"
      ]
     },
     "execution_count": 342,
     "metadata": {},
     "output_type": "execute_result"
    }
   ],
   "source": [
    "rf2_clf.predict(X_test)"
   ]
  },
  {
   "cell_type": "code",
   "execution_count": null,
   "metadata": {},
   "outputs": [],
   "source": []
  },
  {
   "cell_type": "code",
   "execution_count": 343,
   "metadata": {},
   "outputs": [],
   "source": [
    "#repasser sur du continue après les classes.\n",
    "#>6 classes "
   ]
  },
  {
   "cell_type": "code",
   "execution_count": 344,
   "metadata": {},
   "outputs": [],
   "source": [
    "Y__ = np.vectorize(retour_proba.get_proba)(rf2_clf.predict(X_test))"
   ]
  },
  {
   "cell_type": "code",
   "execution_count": 345,
   "metadata": {},
   "outputs": [
    {
     "data": {
      "text/plain": [
       "array([0.0329399 , 0.01321884, 0.0099451 , ..., 0.03710386, 0.00202061,\n",
       "       0.02768671])"
      ]
     },
     "execution_count": 345,
     "metadata": {},
     "output_type": "execute_result"
    }
   ],
   "source": [
    "y_test"
   ]
  },
  {
   "cell_type": "code",
   "execution_count": 365,
   "metadata": {},
   "outputs": [
    {
     "data": {
      "text/plain": [
       "(0.0, 0.03)"
      ]
     },
     "execution_count": 365,
     "metadata": {},
     "output_type": "execute_result"
    },
    {
     "data": {
      "image/png": "[encoded data removed]",
      "text/plain": [
       "<Figure size 576x432 with 1 Axes>"
      ]
     },
     "metadata": {
      "needs_background": "light"
     },
     "output_type": "display_data"
    }
   ],
   "source": [
    "plt.figure(figsize=(8,6))\n",
    "    premiere_bissectrice = np.linspace(0,k * 1e-1,100\n",
    "    plt.plot(premiere_bissectrice,premiere_bissectrice, color='red')\n",
    "plt.scatter(y_test, Y__,s=1)\n",
    "plt.xlim(0,0.03)\n",
    "plt.ylim(0,0.03)"
   ]
  },
  {
   "cell_type": "code",
   "execution_count": null,
   "metadata": {},
   "outputs": [],
   "source": []
  },
  {
   "cell_type": "code",
   "execution_count": null,
   "metadata": {},
   "outputs": [],
   "source": []
  }
 ],
 "metadata": {
  "kernelspec": {
   "display_name": "Python 3",
   "language": "python",
   "name": "python3"
  },
  "language_info": {
   "codemirror_mode": {
    "name": "ipython",
    "version": 3
   },
   "file_extension": ".py",
   "mimetype": "text/x-python",
   "name": "python",
   "nbconvert_exporter": "python",
   "pygments_lexer": "ipython3",
   "version": "3.7.4"
  }
 },
 "nbformat": 4,
 "nbformat_minor": 5
}
