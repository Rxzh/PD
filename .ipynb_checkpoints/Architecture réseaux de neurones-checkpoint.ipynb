{
 "cells": [
  {
   "cell_type": "markdown",
   "metadata": {},
   "source": [
    "# Implémentation de l'architecture des réseaux de neurones\n",
    "\n",
    "*http://exo7.emath.fr/cours/livre-deepmath.pdf* \n",
    "\n",
    "## Chargement des modules et données"
   ]
  },
  {
   "cell_type": "code",
   "execution_count": 1,
   "metadata": {
    "scrolled": true
   },
   "outputs": [],
   "source": [
    "import pandas as pd \n",
    "import matplotlib.pyplot as plt\n",
    "import numpy as np\n",
    "import tensorflow as tf\n",
    "\n",
    "from tensorflow.keras.models import Sequential\n",
    "from tensorflow.keras.layers import Dense, Dropout\n",
    "from tensorflow.keras.optimizers import SGD"
   ]
  },
  {
   "cell_type": "code",
   "execution_count": null,
   "metadata": {},
   "outputs": [],
   "source": []
  },
  {
   "cell_type": "code",
   "execution_count": 2,
   "metadata": {},
   "outputs": [],
   "source": [
    "df = pd.read_csv('market_data_pd_clean.csv')\n",
    "#dataset des 5.000 premiers bonds récupérés de bloom"
   ]
  },
  {
   "cell_type": "code",
   "execution_count": 3,
   "metadata": {},
   "outputs": [
    {
     "data": {
      "text/html": [
       "<div>\n",
       "<style scoped>\n",
       "    .dataframe tbody tr th:only-of-type {\n",
       "        vertical-align: middle;\n",
       "    }\n",
       "\n",
       "    .dataframe tbody tr th {\n",
       "        vertical-align: top;\n",
       "    }\n",
       "\n",
       "    .dataframe thead th {\n",
       "        text-align: right;\n",
       "    }\n",
       "</style>\n",
       "<table border=\"1\" class=\"dataframe\">\n",
       "  <thead>\n",
       "    <tr style=\"text-align: right;\">\n",
       "      <th></th>\n",
       "      <th>Unnamed: 0</th>\n",
       "      <th>Reference Security</th>\n",
       "      <th>Ticker_x</th>\n",
       "      <th>Bid Price</th>\n",
       "      <th>Ask Price</th>\n",
       "      <th>Mid Price</th>\n",
       "      <th>Issuer Name</th>\n",
       "      <th>Cpn</th>\n",
       "      <th>Maturity</th>\n",
       "      <th>Ticker_y</th>\n",
       "      <th>...</th>\n",
       "      <th>Debt/Assets</th>\n",
       "      <th>Debt/EBITDA</th>\n",
       "      <th>EBITDA</th>\n",
       "      <th>Int Exp / Avg Int Bear Liab</th>\n",
       "      <th>Tot Debt / Tot Capital</th>\n",
       "      <th>Tot Loans to Tot Assets</th>\n",
       "      <th>Tot Risk-Based Cap</th>\n",
       "      <th>Earnings Assets / Int Bear Liab</th>\n",
       "      <th>Total Expenses to Average Earning Assets</th>\n",
       "      <th>PD_1y</th>\n",
       "    </tr>\n",
       "  </thead>\n",
       "  <tbody>\n",
       "    <tr>\n",
       "      <th>0</th>\n",
       "      <td>0</td>\n",
       "      <td>AU053739 Corp</td>\n",
       "      <td>AABHFH</td>\n",
       "      <td>100.086</td>\n",
       "      <td>100.098</td>\n",
       "      <td>100.0920</td>\n",
       "      <td>Alandsbanken Abp</td>\n",
       "      <td>0.50</td>\n",
       "      <td>09/13/2021</td>\n",
       "      <td>AABHFH</td>\n",
       "      <td>...</td>\n",
       "      <td>33.1593</td>\n",
       "      <td>NaN</td>\n",
       "      <td>NaN</td>\n",
       "      <td>NaN</td>\n",
       "      <td>87.2526</td>\n",
       "      <td>72.7382</td>\n",
       "      <td>275.5</td>\n",
       "      <td>NaN</td>\n",
       "      <td>NaN</td>\n",
       "      <td>0.995909</td>\n",
       "    </tr>\n",
       "    <tr>\n",
       "      <th>1</th>\n",
       "      <td>1</td>\n",
       "      <td>BP432479 Corp</td>\n",
       "      <td>AAFFP</td>\n",
       "      <td>101.450</td>\n",
       "      <td>102.108</td>\n",
       "      <td>101.7790</td>\n",
       "      <td>Afflelou SAS</td>\n",
       "      <td>4.25</td>\n",
       "      <td>05/19/2026</td>\n",
       "      <td>AAFFP</td>\n",
       "      <td>...</td>\n",
       "      <td>60.3164</td>\n",
       "      <td>1.61252</td>\n",
       "      <td>70.221</td>\n",
       "      <td>NaN</td>\n",
       "      <td>77.8533</td>\n",
       "      <td>NaN</td>\n",
       "      <td>NaN</td>\n",
       "      <td>NaN</td>\n",
       "      <td>NaN</td>\n",
       "      <td>0.135456</td>\n",
       "    </tr>\n",
       "    <tr>\n",
       "      <th>2</th>\n",
       "      <td>2</td>\n",
       "      <td>BP486833 Corp</td>\n",
       "      <td>AAFFP</td>\n",
       "      <td>101.375</td>\n",
       "      <td>102.375</td>\n",
       "      <td>101.8750</td>\n",
       "      <td>Afflelou SAS</td>\n",
       "      <td>8.00</td>\n",
       "      <td>05/19/2027</td>\n",
       "      <td>AAFFP</td>\n",
       "      <td>...</td>\n",
       "      <td>60.3164</td>\n",
       "      <td>1.61252</td>\n",
       "      <td>70.221</td>\n",
       "      <td>NaN</td>\n",
       "      <td>77.8533</td>\n",
       "      <td>NaN</td>\n",
       "      <td>NaN</td>\n",
       "      <td>NaN</td>\n",
       "      <td>NaN</td>\n",
       "      <td>0.113669</td>\n",
       "    </tr>\n",
       "    <tr>\n",
       "      <th>3</th>\n",
       "      <td>3</td>\n",
       "      <td>EJ102177 Corp</td>\n",
       "      <td>AALLN</td>\n",
       "      <td>102.360</td>\n",
       "      <td>102.801</td>\n",
       "      <td>102.5805</td>\n",
       "      <td>Anglo American Capital PLC</td>\n",
       "      <td>3.50</td>\n",
       "      <td>03/28/2022</td>\n",
       "      <td>AALLN</td>\n",
       "      <td>...</td>\n",
       "      <td>79.0061</td>\n",
       "      <td>NaN</td>\n",
       "      <td>NaN</td>\n",
       "      <td>3.78296</td>\n",
       "      <td>80.4119</td>\n",
       "      <td>NaN</td>\n",
       "      <td>NaN</td>\n",
       "      <td>NaN</td>\n",
       "      <td>NaN</td>\n",
       "      <td>0.636872</td>\n",
       "    </tr>\n",
       "    <tr>\n",
       "      <th>4</th>\n",
       "      <td>4</td>\n",
       "      <td>EK150567 Corp</td>\n",
       "      <td>AALLN</td>\n",
       "      <td>105.728</td>\n",
       "      <td>105.887</td>\n",
       "      <td>105.8075</td>\n",
       "      <td>Anglo American Capital PLC</td>\n",
       "      <td>3.25</td>\n",
       "      <td>04/03/2023</td>\n",
       "      <td>AALLN</td>\n",
       "      <td>...</td>\n",
       "      <td>79.0061</td>\n",
       "      <td>NaN</td>\n",
       "      <td>NaN</td>\n",
       "      <td>3.78296</td>\n",
       "      <td>80.4119</td>\n",
       "      <td>NaN</td>\n",
       "      <td>NaN</td>\n",
       "      <td>NaN</td>\n",
       "      <td>NaN</td>\n",
       "      <td>0.319589</td>\n",
       "    </tr>\n",
       "  </tbody>\n",
       "</table>\n",
       "<p>5 rows × 23 columns</p>\n",
       "</div>"
      ],
      "text/plain": [
       "   Unnamed: 0 Reference Security Ticker_x  Bid Price  Ask Price  Mid Price  \\\n",
       "0           0      AU053739 Corp   AABHFH    100.086    100.098   100.0920   \n",
       "1           1      BP432479 Corp    AAFFP    101.450    102.108   101.7790   \n",
       "2           2      BP486833 Corp    AAFFP    101.375    102.375   101.8750   \n",
       "3           3      EJ102177 Corp    AALLN    102.360    102.801   102.5805   \n",
       "4           4      EK150567 Corp    AALLN    105.728    105.887   105.8075   \n",
       "\n",
       "                  Issuer Name   Cpn    Maturity Ticker_y  ...  Debt/Assets  \\\n",
       "0            Alandsbanken Abp  0.50  09/13/2021   AABHFH  ...      33.1593   \n",
       "1                Afflelou SAS  4.25  05/19/2026    AAFFP  ...      60.3164   \n",
       "2                Afflelou SAS  8.00  05/19/2027    AAFFP  ...      60.3164   \n",
       "3  Anglo American Capital PLC  3.50  03/28/2022    AALLN  ...      79.0061   \n",
       "4  Anglo American Capital PLC  3.25  04/03/2023    AALLN  ...      79.0061   \n",
       "\n",
       "   Debt/EBITDA  EBITDA  Int Exp / Avg Int Bear Liab  Tot Debt / Tot Capital  \\\n",
       "0          NaN     NaN                          NaN                 87.2526   \n",
       "1      1.61252  70.221                          NaN                 77.8533   \n",
       "2      1.61252  70.221                          NaN                 77.8533   \n",
       "3          NaN     NaN                      3.78296                 80.4119   \n",
       "4          NaN     NaN                      3.78296                 80.4119   \n",
       "\n",
       "   Tot Loans to Tot Assets  Tot Risk-Based Cap  \\\n",
       "0                  72.7382               275.5   \n",
       "1                      NaN                 NaN   \n",
       "2                      NaN                 NaN   \n",
       "3                      NaN                 NaN   \n",
       "4                      NaN                 NaN   \n",
       "\n",
       "   Earnings Assets / Int Bear Liab  Total Expenses to Average Earning Assets  \\\n",
       "0                              NaN                                       NaN   \n",
       "1                              NaN                                       NaN   \n",
       "2                              NaN                                       NaN   \n",
       "3                              NaN                                       NaN   \n",
       "4                              NaN                                       NaN   \n",
       "\n",
       "      PD_1y  \n",
       "0  0.995909  \n",
       "1  0.135456  \n",
       "2  0.113669  \n",
       "3  0.636872  \n",
       "4  0.319589  \n",
       "\n",
       "[5 rows x 23 columns]"
      ]
     },
     "execution_count": 3,
     "metadata": {},
     "output_type": "execute_result"
    }
   ],
   "source": [
    "df.head()"
   ]
  },
  {
   "cell_type": "code",
   "execution_count": 4,
   "metadata": {},
   "outputs": [
    {
     "data": {
      "text/plain": [
       "(603, 23)"
      ]
     },
     "execution_count": 4,
     "metadata": {},
     "output_type": "execute_result"
    }
   ],
   "source": [
    "df.shape"
   ]
  },
  {
   "cell_type": "code",
   "execution_count": 5,
   "metadata": {},
   "outputs": [],
   "source": [
    "#RECUPERER VRAIES DONNEES DE PROBA DE DEFAUT ARGGGHHHHHHHHHHHHHHHHHHHHHHHHH\n",
    "#à partir du premier algo, estimer PD? données à récupérer, notamment le PRIXXXX \n",
    "\n",
    "#j'ai mis des valeurs aléatoires pour créer la colonne\n",
    "\n",
    "#df[\"PD\"] = pd.Series(np.random.random(len(df[\"ISIN\"])), index=df.index)"
   ]
  },
  {
   "cell_type": "code",
   "execution_count": 6,
   "metadata": {},
   "outputs": [],
   "source": [
    "#mettre les ratios financiers\n",
    "df1 = df[[\"Debt / Common Equity\", \"Debt/Assets\", \"Tot Debt / Tot Capital\",\"PD_1y\"]]\n",
    "\n",
    "#df1.replace(np.nan, 0.0,inplace=True)"
   ]
  },
  {
   "cell_type": "code",
   "execution_count": 7,
   "metadata": {},
   "outputs": [
    {
     "data": {
      "text/html": [
       "<div>\n",
       "<style scoped>\n",
       "    .dataframe tbody tr th:only-of-type {\n",
       "        vertical-align: middle;\n",
       "    }\n",
       "\n",
       "    .dataframe tbody tr th {\n",
       "        vertical-align: top;\n",
       "    }\n",
       "\n",
       "    .dataframe thead th {\n",
       "        text-align: right;\n",
       "    }\n",
       "</style>\n",
       "<table border=\"1\" class=\"dataframe\">\n",
       "  <thead>\n",
       "    <tr style=\"text-align: right;\">\n",
       "      <th></th>\n",
       "      <th>Debt / Common Equity</th>\n",
       "      <th>Debt/Assets</th>\n",
       "      <th>Tot Debt / Tot Capital</th>\n",
       "      <th>PD_1y</th>\n",
       "    </tr>\n",
       "  </thead>\n",
       "  <tbody>\n",
       "    <tr>\n",
       "      <th>0</th>\n",
       "      <td>684.499</td>\n",
       "      <td>33.1593</td>\n",
       "      <td>87.2526</td>\n",
       "      <td>0.995909</td>\n",
       "    </tr>\n",
       "    <tr>\n",
       "      <th>1</th>\n",
       "      <td>351.535</td>\n",
       "      <td>60.3164</td>\n",
       "      <td>77.8533</td>\n",
       "      <td>0.135456</td>\n",
       "    </tr>\n",
       "    <tr>\n",
       "      <th>2</th>\n",
       "      <td>351.535</td>\n",
       "      <td>60.3164</td>\n",
       "      <td>77.8533</td>\n",
       "      <td>0.113669</td>\n",
       "    </tr>\n",
       "    <tr>\n",
       "      <th>3</th>\n",
       "      <td>410.513</td>\n",
       "      <td>79.0061</td>\n",
       "      <td>80.4119</td>\n",
       "      <td>0.636872</td>\n",
       "    </tr>\n",
       "    <tr>\n",
       "      <th>4</th>\n",
       "      <td>410.513</td>\n",
       "      <td>79.0061</td>\n",
       "      <td>80.4119</td>\n",
       "      <td>0.319589</td>\n",
       "    </tr>\n",
       "  </tbody>\n",
       "</table>\n",
       "</div>"
      ],
      "text/plain": [
       "   Debt / Common Equity  Debt/Assets  Tot Debt / Tot Capital     PD_1y\n",
       "0               684.499      33.1593                 87.2526  0.995909\n",
       "1               351.535      60.3164                 77.8533  0.135456\n",
       "2               351.535      60.3164                 77.8533  0.113669\n",
       "3               410.513      79.0061                 80.4119  0.636872\n",
       "4               410.513      79.0061                 80.4119  0.319589"
      ]
     },
     "execution_count": 7,
     "metadata": {},
     "output_type": "execute_result"
    }
   ],
   "source": [
    "df1 = df1.dropna(how = 'any') \n",
    "df1.head()\n",
    "#on peut pas faire tourner l'algo avec des valeurs manquantes. Voir techniques pour les remplacer."
   ]
  },
  {
   "cell_type": "code",
   "execution_count": 8,
   "metadata": {},
   "outputs": [
    {
     "data": {
      "text/plain": [
       "(541, 4)"
      ]
     },
     "execution_count": 8,
     "metadata": {},
     "output_type": "execute_result"
    }
   ],
   "source": [
    "df1.shape"
   ]
  },
  {
   "cell_type": "markdown",
   "metadata": {},
   "source": [
    "## Traitement des données "
   ]
  },
  {
   "cell_type": "code",
   "execution_count": 9,
   "metadata": {},
   "outputs": [],
   "source": [
    "#Préparation bases de train et de test \n",
    "\n",
    "from sklearn.model_selection import train_test_split\n",
    "\n",
    "X_train, X_test, y_train, y_test = train_test_split(df1.drop(\"PD_1y\",axis=1),df1[\"PD_1y\"],test_size=0.2, random_state=42) "
   ]
  },
  {
   "cell_type": "code",
   "execution_count": 10,
   "metadata": {},
   "outputs": [],
   "source": [
    "#Standardisation des données \n",
    "\n",
    "from sklearn.preprocessing import StandardScaler\n",
    "\n",
    "scaler = StandardScaler(with_mean=True,with_std=True)\n",
    "scaler.fit(X_train)\n",
    "\n",
    "x_train = scaler.transform(X_train)\n",
    "x_train = pd.DataFrame(x_train, index=X_train.index, columns=X_train.columns)\n",
    "\n",
    "x_test = scaler.transform(X_test)\n",
    "x_test = pd.DataFrame(x_test, index=X_test.index, columns=X_test.columns)"
   ]
  },
  {
   "cell_type": "code",
   "execution_count": 11,
   "metadata": {},
   "outputs": [
    {
     "data": {
      "text/html": [
       "<div>\n",
       "<style scoped>\n",
       "    .dataframe tbody tr th:only-of-type {\n",
       "        vertical-align: middle;\n",
       "    }\n",
       "\n",
       "    .dataframe tbody tr th {\n",
       "        vertical-align: top;\n",
       "    }\n",
       "\n",
       "    .dataframe thead th {\n",
       "        text-align: right;\n",
       "    }\n",
       "</style>\n",
       "<table border=\"1\" class=\"dataframe\">\n",
       "  <thead>\n",
       "    <tr style=\"text-align: right;\">\n",
       "      <th></th>\n",
       "      <th>Debt / Common Equity</th>\n",
       "      <th>Debt/Assets</th>\n",
       "      <th>Tot Debt / Tot Capital</th>\n",
       "    </tr>\n",
       "  </thead>\n",
       "  <tbody>\n",
       "    <tr>\n",
       "      <th>258</th>\n",
       "      <td>-0.124417</td>\n",
       "      <td>-1.569320</td>\n",
       "      <td>-1.561454</td>\n",
       "    </tr>\n",
       "    <tr>\n",
       "      <th>75</th>\n",
       "      <td>-0.079178</td>\n",
       "      <td>-0.424929</td>\n",
       "      <td>1.104960</td>\n",
       "    </tr>\n",
       "    <tr>\n",
       "      <th>399</th>\n",
       "      <td>-0.124775</td>\n",
       "      <td>-1.635033</td>\n",
       "      <td>-1.730703</td>\n",
       "    </tr>\n",
       "    <tr>\n",
       "      <th>88</th>\n",
       "      <td>-0.079178</td>\n",
       "      <td>-0.424929</td>\n",
       "      <td>1.104960</td>\n",
       "    </tr>\n",
       "    <tr>\n",
       "      <th>527</th>\n",
       "      <td>-0.101769</td>\n",
       "      <td>-0.216428</td>\n",
       "      <td>0.865320</td>\n",
       "    </tr>\n",
       "  </tbody>\n",
       "</table>\n",
       "</div>"
      ],
      "text/plain": [
       "     Debt / Common Equity  Debt/Assets  Tot Debt / Tot Capital\n",
       "258             -0.124417    -1.569320               -1.561454\n",
       "75              -0.079178    -0.424929                1.104960\n",
       "399             -0.124775    -1.635033               -1.730703\n",
       "88              -0.079178    -0.424929                1.104960\n",
       "527             -0.101769    -0.216428                0.865320"
      ]
     },
     "execution_count": 11,
     "metadata": {},
     "output_type": "execute_result"
    }
   ],
   "source": [
    "x_test.head()"
   ]
  },
  {
   "cell_type": "markdown",
   "metadata": {},
   "source": [
    "## Réseaux de neurones "
   ]
  },
  {
   "cell_type": "code",
   "execution_count": 12,
   "metadata": {},
   "outputs": [],
   "source": [
    "#RESEAUX DE NEURONES \n",
    "#http://eric.univ-lyon2.fr/~ricco/tanagra/fichiers/fr_Tanagra_Packages_Python_for_Deep_Learning.pdf"
   ]
  },
  {
   "cell_type": "code",
   "execution_count": 13,
   "metadata": {},
   "outputs": [],
   "source": [
    "#Explications très bien dans ce document : \n",
    "\n",
    "#http://exo7.emath.fr/cours/livre-deepmath.pdf \n",
    "\n",
    "#très bon document (parties Python, keras avec les codes et explications)"
   ]
  },
  {
   "cell_type": "code",
   "execution_count": 14,
   "metadata": {},
   "outputs": [],
   "source": [
    "modele = Sequential()\n",
    "modele.add(Dense(units=7,input_dim=3,activation=\"sigmoid\")) #6 is good\n",
    "modele.add(Dense(units=1,activation=\"sigmoid\"))\n",
    "#modele.add(Dropout(0.3))\n",
    "learning_rate = 0.10\n",
    "\n",
    "sgd = SGD(learning_rate)"
   ]
  },
  {
   "cell_type": "code",
   "execution_count": null,
   "metadata": {},
   "outputs": [],
   "source": []
  },
  {
   "cell_type": "markdown",
   "metadata": {},
   "source": [
    "J'ai pris la fonction sigmoïde car elle est continue et à valeurs dans [0,1] (comme les probabilités de défaut). Régression logit. "
   ]
  },
  {
   "cell_type": "code",
   "execution_count": null,
   "metadata": {},
   "outputs": [],
   "source": []
  },
  {
   "cell_type": "code",
   "execution_count": 15,
   "metadata": {},
   "outputs": [
    {
     "ename": "NameError",
     "evalue": "name 'sgd' is not defined",
     "output_type": "error",
     "traceback": [
      "\u001b[0;31m---------------------------------------------------------------------------\u001b[0m",
      "\u001b[0;31mNameError\u001b[0m                                 Traceback (most recent call last)",
      "\u001b[0;32m<ipython-input-15-8cb22fbb0836>\u001b[0m in \u001b[0;36m<module>\u001b[0;34m\u001b[0m\n\u001b[0;32m----> 1\u001b[0;31m \u001b[0mmodele\u001b[0m\u001b[0;34m.\u001b[0m\u001b[0mcompile\u001b[0m\u001b[0;34m(\u001b[0m\u001b[0mloss\u001b[0m\u001b[0;34m=\u001b[0m\u001b[0;34m'mean_squared_error'\u001b[0m\u001b[0;34m,\u001b[0m\u001b[0moptimizer\u001b[0m\u001b[0;34m=\u001b[0m\u001b[0msgd\u001b[0m\u001b[0;34m,\u001b[0m\u001b[0mmetrics\u001b[0m\u001b[0;34m=\u001b[0m\u001b[0;34m[\u001b[0m\u001b[0mtf\u001b[0m\u001b[0;34m.\u001b[0m\u001b[0mkeras\u001b[0m\u001b[0;34m.\u001b[0m\u001b[0mmetrics\u001b[0m\u001b[0;34m.\u001b[0m\u001b[0mMeanSquaredError\u001b[0m\u001b[0;34m(\u001b[0m\u001b[0;34m)\u001b[0m\u001b[0;34m]\u001b[0m\u001b[0;34m)\u001b[0m\u001b[0;34m\u001b[0m\u001b[0;34m\u001b[0m\u001b[0m\n\u001b[0m",
      "\u001b[0;31mNameError\u001b[0m: name 'sgd' is not defined"
     ]
    }
   ],
   "source": [
    "modele.compile(loss='mean_squared_error',optimizer=sgd,metrics=[tf.keras.metrics.MeanSquaredError()])"
   ]
  },
  {
   "cell_type": "code",
   "execution_count": null,
   "metadata": {},
   "outputs": [],
   "source": [
    "print(modele.summary())"
   ]
  },
  {
   "cell_type": "code",
   "execution_count": null,
   "metadata": {},
   "outputs": [],
   "source": [
    "history = modele.fit(x_train, y_train,         # Train the model using the training set...\n",
    "          batch_size=10, epochs=10,\n",
    "          verbose=1, validation_split=0.3,steps_per_epoch=15)           # ...holding out 40% of the data for validation\n",
    "\n",
    "# --------------------------------------\n",
    "# Evaluation\n",
    "# --------------------------------------\n",
    "for loss_name, loss_value in list(zip(modele.metrics_names, modele.evaluate(x_test, y_test, verbose=1))):\n",
    "    print('The final {} on the TEST set is: {:.2f}.'.format(loss_name, loss_value)) # Evaluate the trained model on the test set!\n",
    "\n",
    "    \n",
    "import matplotlib.pyplot as plt\n",
    "\n",
    "# --------------------------------------\n",
    "# Loss functions evolution\n",
    "# --------------------------------------\n",
    "plt.plot(history.history['loss'])\n",
    "plt.plot(history.history['val_loss'])\n",
    "plt.title('Model loss by epoch')\n",
    "plt.ylabel('loss')\n",
    "plt.xlabel('epoch')\n",
    "plt.legend(['train', 'valid'], loc='right')\n",
    "plt.show()"
   ]
  },
  {
   "cell_type": "code",
   "execution_count": null,
   "metadata": {},
   "outputs": [],
   "source": [
    "#Résultats \n",
    "\n",
    "resultat = modele.evaluate(x_test, y_test, verbose=1)\n",
    "print(\"Valeur de l'erreur sur les données de test (loss):\", resultat[0])\n",
    "print('Précision sur les données de test (MSE):', resultat[1])"
   ]
  },
  {
   "cell_type": "code",
   "execution_count": null,
   "metadata": {},
   "outputs": [],
   "source": [
    "df1.head()"
   ]
  },
  {
   "cell_type": "code",
   "execution_count": null,
   "metadata": {},
   "outputs": [],
   "source": [
    "arr = np.array([351.535,60.3164,77.8533]).reshape(-1,1) #ligne 1 et 2\n",
    "scaler = StandardScaler(with_mean=True,with_std=True)\n",
    "scaler.fit(arr)\n",
    "\n",
    "x = scaler.transform(arr)"
   ]
  },
  {
   "cell_type": "code",
   "execution_count": null,
   "metadata": {},
   "outputs": [],
   "source": [
    "modele.predict(x.T)"
   ]
  },
  {
   "cell_type": "code",
   "execution_count": null,
   "metadata": {},
   "outputs": [],
   "source": []
  },
  {
   "cell_type": "code",
   "execution_count": null,
   "metadata": {},
   "outputs": [],
   "source": []
  },
  {
   "cell_type": "code",
   "execution_count": null,
   "metadata": {},
   "outputs": [],
   "source": []
  },
  {
   "cell_type": "code",
   "execution_count": null,
   "metadata": {},
   "outputs": [],
   "source": []
  },
  {
   "cell_type": "code",
   "execution_count": null,
   "metadata": {},
   "outputs": [],
   "source": []
  }
 ],
 "metadata": {
  "kernelspec": {
   "display_name": "Python 3",
   "language": "python",
   "name": "python3"
  },
  "language_info": {
   "codemirror_mode": {
    "name": "ipython",
    "version": 3
   },
   "file_extension": ".py",
   "mimetype": "text/x-python",
   "name": "python",
   "nbconvert_exporter": "python",
   "pygments_lexer": "ipython3",
   "version": "3.7.4"
  }
 },
 "nbformat": 4,
 "nbformat_minor": 5
}
