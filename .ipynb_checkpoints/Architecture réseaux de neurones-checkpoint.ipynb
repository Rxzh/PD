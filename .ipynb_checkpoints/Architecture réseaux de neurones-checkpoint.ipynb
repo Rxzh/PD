{
 "cells": [
  {
   "cell_type": "markdown",
   "metadata": {},
   "source": [
    "# Réseaux de neurones\n",
    "\n",
    "*http://exo7.emath.fr/cours/livre-deepmath.pdf* \n",
    "\n",
    "# 0. Chargement des modules et données"
   ]
  },
  {
   "cell_type": "code",
   "execution_count": 52,
   "metadata": {
    "scrolled": true
   },
   "outputs": [],
   "source": [
    "import pandas as pd \n",
    "import matplotlib.pyplot as plt\n",
    "import numpy as np\n",
    "from numpy.random import randn\n",
    "import tensorflow as tf\n",
    "\n",
    "from tensorflow.keras import Input\n",
    "from tensorflow.keras.models import Sequential\n",
    "from tensorflow.keras.layers import Dense, Dropout, Conv1D, Conv2D\n",
    "from tensorflow.keras.optimizers import SGD,Adam,Nadam,Adadelta\n",
    "from tensorflow import keras\n",
    "\n",
    "from sklearn import preprocessing, model_selection\n",
    "from sklearn.preprocessing import KBinsDiscretizer\n",
    "from sklearn.metrics import confusion_matrix, ConfusionMatrixDisplay"
   ]
  },
  {
   "cell_type": "code",
   "execution_count": 53,
   "metadata": {},
   "outputs": [
    {
     "data": {
      "text/plain": [
       "(48836, 24)"
      ]
     },
     "execution_count": 53,
     "metadata": {},
     "output_type": "execute_result"
    }
   ],
   "source": [
    "df = pd.read_csv('market_data_pd.csv',sep=',')\n",
    "df.shape"
   ]
  },
  {
   "cell_type": "code",
   "execution_count": 54,
   "metadata": {},
   "outputs": [
    {
     "data": {
      "text/html": [
       "<div>\n",
       "<style scoped>\n",
       "    .dataframe tbody tr th:only-of-type {\n",
       "        vertical-align: middle;\n",
       "    }\n",
       "\n",
       "    .dataframe tbody tr th {\n",
       "        vertical-align: top;\n",
       "    }\n",
       "\n",
       "    .dataframe thead th {\n",
       "        text-align: right;\n",
       "    }\n",
       "</style>\n",
       "<table border=\"1\" class=\"dataframe\">\n",
       "  <thead>\n",
       "    <tr style=\"text-align: right;\">\n",
       "      <th></th>\n",
       "      <th>Unnamed: 0</th>\n",
       "      <th>Reference Security</th>\n",
       "      <th>Bid Price</th>\n",
       "      <th>Ask Price</th>\n",
       "      <th>Mid Price</th>\n",
       "      <th>Cpn</th>\n",
       "      <th>Maturity</th>\n",
       "      <th>Common Eqty / Tot Assets</th>\n",
       "      <th>Debt / Common Equity</th>\n",
       "      <th>TCE Ratio</th>\n",
       "      <th>...</th>\n",
       "      <th>Amt Out</th>\n",
       "      <th>Total Assets</th>\n",
       "      <th>BCLASS Level 3</th>\n",
       "      <th>Guarantee Type</th>\n",
       "      <th>Guarantor Type</th>\n",
       "      <th>Collat Type</th>\n",
       "      <th>PD_1y</th>\n",
       "      <th>reprice</th>\n",
       "      <th>maturity_years</th>\n",
       "      <th>Error %</th>\n",
       "    </tr>\n",
       "  </thead>\n",
       "  <tbody>\n",
       "    <tr>\n",
       "      <th>5909</th>\n",
       "      <td>5909</td>\n",
       "      <td>ZS424035 Corp</td>\n",
       "      <td>0.010</td>\n",
       "      <td>0.750</td>\n",
       "      <td>0.3800</td>\n",
       "      <td>1.5000</td>\n",
       "      <td>04/26/2024</td>\n",
       "      <td>-147.17300</td>\n",
       "      <td>NaN</td>\n",
       "      <td>-149.82800</td>\n",
       "      <td>...</td>\n",
       "      <td>1.186770e+09</td>\n",
       "      <td>3359.72</td>\n",
       "      <td>Other Industrial</td>\n",
       "      <td>Multiple</td>\n",
       "      <td>Subsidiaries</td>\n",
       "      <td>SR SECURED</td>\n",
       "      <td>1.0</td>\n",
       "      <td>40.007513</td>\n",
       "      <td>2.709589</td>\n",
       "      <td>10428.292944</td>\n",
       "    </tr>\n",
       "    <tr>\n",
       "      <th>1456</th>\n",
       "      <td>1456</td>\n",
       "      <td>AN346569 Corp</td>\n",
       "      <td>0.125</td>\n",
       "      <td>0.700</td>\n",
       "      <td>0.4125</td>\n",
       "      <td>3.8750</td>\n",
       "      <td>10/25/2022</td>\n",
       "      <td>12.72580</td>\n",
       "      <td>177.366</td>\n",
       "      <td>-23.21850</td>\n",
       "      <td>...</td>\n",
       "      <td>4.000000e+08</td>\n",
       "      <td>1808.09</td>\n",
       "      <td>Electric</td>\n",
       "      <td>Multiple</td>\n",
       "      <td>Parent &amp; Subsidiaries</td>\n",
       "      <td>SR SECURED</td>\n",
       "      <td>1.0</td>\n",
       "      <td>40.007513</td>\n",
       "      <td>1.205479</td>\n",
       "      <td>9598.791076</td>\n",
       "    </tr>\n",
       "    <tr>\n",
       "      <th>827</th>\n",
       "      <td>827</td>\n",
       "      <td>AL458635 Corp</td>\n",
       "      <td>0.250</td>\n",
       "      <td>1.750</td>\n",
       "      <td>1.0000</td>\n",
       "      <td>6.2500</td>\n",
       "      <td>06/15/2022</td>\n",
       "      <td>NaN</td>\n",
       "      <td>NaN</td>\n",
       "      <td>NaN</td>\n",
       "      <td>...</td>\n",
       "      <td>7.500000e+08</td>\n",
       "      <td>NaN</td>\n",
       "      <td>Consumer Cyclical</td>\n",
       "      <td>N.A.</td>\n",
       "      <td>N.A.</td>\n",
       "      <td>SR UNSECURED</td>\n",
       "      <td>1.0</td>\n",
       "      <td>42.507983</td>\n",
       "      <td>0.843836</td>\n",
       "      <td>4150.798276</td>\n",
       "    </tr>\n",
       "    <tr>\n",
       "      <th>44900</th>\n",
       "      <td>44900</td>\n",
       "      <td>QJ879163 Corp</td>\n",
       "      <td>0.407</td>\n",
       "      <td>1.481</td>\n",
       "      <td>0.9440</td>\n",
       "      <td>9.8776</td>\n",
       "      <td>12/01/2025</td>\n",
       "      <td>5.74708</td>\n",
       "      <td>467.713</td>\n",
       "      <td>4.97044</td>\n",
       "      <td>...</td>\n",
       "      <td>2.000000e+08</td>\n",
       "      <td>1002610.00</td>\n",
       "      <td>Banking</td>\n",
       "      <td>N.A.</td>\n",
       "      <td>N.A.</td>\n",
       "      <td>SUBORDINATED</td>\n",
       "      <td>1.0</td>\n",
       "      <td>40.007513</td>\n",
       "      <td>4.309589</td>\n",
       "      <td>4138.084024</td>\n",
       "    </tr>\n",
       "    <tr>\n",
       "      <th>44899</th>\n",
       "      <td>44899</td>\n",
       "      <td>QJ879163 Corp</td>\n",
       "      <td>0.396</td>\n",
       "      <td>1.499</td>\n",
       "      <td>0.9475</td>\n",
       "      <td>9.8776</td>\n",
       "      <td>12/01/2025</td>\n",
       "      <td>5.74708</td>\n",
       "      <td>467.713</td>\n",
       "      <td>4.97044</td>\n",
       "      <td>...</td>\n",
       "      <td>2.000000e+08</td>\n",
       "      <td>1002610.00</td>\n",
       "      <td>Banking</td>\n",
       "      <td>N.A.</td>\n",
       "      <td>N.A.</td>\n",
       "      <td>SUBORDINATED</td>\n",
       "      <td>1.0</td>\n",
       "      <td>40.007513</td>\n",
       "      <td>4.309589</td>\n",
       "      <td>4122.428832</td>\n",
       "    </tr>\n",
       "  </tbody>\n",
       "</table>\n",
       "<p>5 rows × 24 columns</p>\n",
       "</div>"
      ],
      "text/plain": [
       "       Unnamed: 0 Reference Security  Bid Price  Ask Price  Mid Price     Cpn  \\\n",
       "5909         5909      ZS424035 Corp      0.010      0.750     0.3800  1.5000   \n",
       "1456         1456      AN346569 Corp      0.125      0.700     0.4125  3.8750   \n",
       "827           827      AL458635 Corp      0.250      1.750     1.0000  6.2500   \n",
       "44900       44900      QJ879163 Corp      0.407      1.481     0.9440  9.8776   \n",
       "44899       44899      QJ879163 Corp      0.396      1.499     0.9475  9.8776   \n",
       "\n",
       "         Maturity  Common Eqty / Tot Assets  Debt / Common Equity  TCE Ratio  \\\n",
       "5909   04/26/2024                -147.17300                   NaN -149.82800   \n",
       "1456   10/25/2022                  12.72580               177.366  -23.21850   \n",
       "827    06/15/2022                       NaN                   NaN        NaN   \n",
       "44900  12/01/2025                   5.74708               467.713    4.97044   \n",
       "44899  12/01/2025                   5.74708               467.713    4.97044   \n",
       "\n",
       "       ...       Amt Out  Total Assets     BCLASS Level 3  Guarantee Type  \\\n",
       "5909   ...  1.186770e+09       3359.72   Other Industrial        Multiple   \n",
       "1456   ...  4.000000e+08       1808.09           Electric        Multiple   \n",
       "827    ...  7.500000e+08           NaN  Consumer Cyclical            N.A.   \n",
       "44900  ...  2.000000e+08    1002610.00            Banking            N.A.   \n",
       "44899  ...  2.000000e+08    1002610.00            Banking            N.A.   \n",
       "\n",
       "              Guarantor Type   Collat Type PD_1y    reprice maturity_years  \\\n",
       "5909            Subsidiaries    SR SECURED   1.0  40.007513       2.709589   \n",
       "1456   Parent & Subsidiaries    SR SECURED   1.0  40.007513       1.205479   \n",
       "827                     N.A.  SR UNSECURED   1.0  42.507983       0.843836   \n",
       "44900                   N.A.  SUBORDINATED   1.0  40.007513       4.309589   \n",
       "44899                   N.A.  SUBORDINATED   1.0  40.007513       4.309589   \n",
       "\n",
       "            Error %  \n",
       "5909   10428.292944  \n",
       "1456    9598.791076  \n",
       "827     4150.798276  \n",
       "44900   4138.084024  \n",
       "44899   4122.428832  \n",
       "\n",
       "[5 rows x 24 columns]"
      ]
     },
     "execution_count": 54,
     "metadata": {},
     "output_type": "execute_result"
    }
   ],
   "source": [
    "df.sort_values('Error %', ascending=False).head()"
   ]
  },
  {
   "cell_type": "code",
   "execution_count": null,
   "metadata": {},
   "outputs": [],
   "source": []
  },
  {
   "cell_type": "code",
   "execution_count": 55,
   "metadata": {},
   "outputs": [
    {
     "data": {
      "text/plain": [
       "Index(['Unnamed: 0', 'Reference Security', 'Bid Price', 'Ask Price',\n",
       "       'Mid Price', 'Cpn', 'Maturity', 'Common Eqty / Tot Assets',\n",
       "       'Debt / Common Equity', 'TCE Ratio', 'Tot Debt / Tot Capital',\n",
       "       'Tot Cap (Local Crncy)', 'Is Covered', 'Is Convertible', 'Amt Out',\n",
       "       'Total Assets', 'BCLASS Level 3', 'Guarantee Type', 'Guarantor Type',\n",
       "       'Collat Type', 'PD_1y', 'reprice', 'maturity_years', 'Error %'],\n",
       "      dtype='object')"
      ]
     },
     "execution_count": 55,
     "metadata": {},
     "output_type": "execute_result"
    }
   ],
   "source": [
    "df = df[df.PD_1y>0.0]\n",
    "df = df[df.PD_1y!=1.0]\n",
    "\n",
    "df.columns"
   ]
  },
  {
   "cell_type": "code",
   "execution_count": 56,
   "metadata": {},
   "outputs": [],
   "source": [
    "def count_nan(df):\n",
    "    for col_name in df.columns:\n",
    "        n_nan = df[col_name].isna().sum()\n",
    "        if n_nan > 0:\n",
    "            print(\"Colomn : \", col_name)  \n",
    "            print(\"NaN : {}/{}\".format(n_nan,len(df[col_name])))\n",
    "            print(\"===============================================\")"
   ]
  },
  {
   "cell_type": "code",
   "execution_count": 57,
   "metadata": {},
   "outputs": [
    {
     "name": "stdout",
     "output_type": "stream",
     "text": [
      "Colomn :  Common Eqty / Tot Assets\n",
      "NaN : 1766/44445\n",
      "===============================================\n",
      "Colomn :  Debt / Common Equity\n",
      "NaN : 2579/44445\n",
      "===============================================\n",
      "Colomn :  TCE Ratio\n",
      "NaN : 2471/44445\n",
      "===============================================\n",
      "Colomn :  Tot Debt / Tot Capital\n",
      "NaN : 2016/44445\n",
      "===============================================\n",
      "Colomn :  Tot Cap (Local Crncy)\n",
      "NaN : 2014/44445\n",
      "===============================================\n",
      "Colomn :  Total Assets\n",
      "NaN : 2361/44445\n",
      "===============================================\n",
      "Colomn :  Guarantee Type\n",
      "NaN : 20/44445\n",
      "===============================================\n",
      "Colomn :  Guarantor Type\n",
      "NaN : 20/44445\n",
      "===============================================\n"
     ]
    }
   ],
   "source": [
    "count_nan(df)"
   ]
  },
  {
   "cell_type": "code",
   "execution_count": 58,
   "metadata": {},
   "outputs": [],
   "source": [
    "#RENSEIGNER LES RATIOS FINANCIERS / VARIABLES CONSIDEREES \n",
    "\n",
    "#df1 = df[[\"Common Eqty / Tot Assets\",'Debt / Common Equity','Tot Debt / Tot Capital','BCLASS Level 3',\"TCE Ratio\",\"PD_1y\"]]\n",
    "df1 = df[['Common Eqty / Tot Assets','TCE Ratio','Tot Debt / Tot Capital','Tot Cap (Local Crncy)','Is Covered','Is Convertible','Amt Out','BCLASS Level 3', 'Guarantee Type','Total Assets', 'Guarantor Type', 'Collat Type','Debt / Common Equity','PD_1y']]\n",
    "df1 = df1[df1['Debt / Common Equity']<2500]\n",
    "df1 = df1[df1['TCE Ratio']>-100]\n",
    "#df1.replace(np.nan, 0.0,inplace=True)\n",
    "df1.dropna(inplace=True)\n",
    "count_nan(df1)"
   ]
  },
  {
   "cell_type": "code",
   "execution_count": 59,
   "metadata": {},
   "outputs": [
    {
     "data": {
      "text/html": [
       "<div>\n",
       "<style scoped>\n",
       "    .dataframe tbody tr th:only-of-type {\n",
       "        vertical-align: middle;\n",
       "    }\n",
       "\n",
       "    .dataframe tbody tr th {\n",
       "        vertical-align: top;\n",
       "    }\n",
       "\n",
       "    .dataframe thead th {\n",
       "        text-align: right;\n",
       "    }\n",
       "</style>\n",
       "<table border=\"1\" class=\"dataframe\">\n",
       "  <thead>\n",
       "    <tr style=\"text-align: right;\">\n",
       "      <th></th>\n",
       "      <th>Common Eqty / Tot Assets</th>\n",
       "      <th>TCE Ratio</th>\n",
       "      <th>Tot Debt / Tot Capital</th>\n",
       "      <th>Tot Cap (Local Crncy)</th>\n",
       "      <th>Is Covered</th>\n",
       "      <th>Is Convertible</th>\n",
       "      <th>Amt Out</th>\n",
       "      <th>BCLASS Level 3</th>\n",
       "      <th>Guarantee Type</th>\n",
       "      <th>Total Assets</th>\n",
       "      <th>Guarantor Type</th>\n",
       "      <th>Collat Type</th>\n",
       "      <th>Debt / Common Equity</th>\n",
       "      <th>PD_1y</th>\n",
       "    </tr>\n",
       "  </thead>\n",
       "  <tbody>\n",
       "    <tr>\n",
       "      <th>2</th>\n",
       "      <td>5.65522</td>\n",
       "      <td>5.41231</td>\n",
       "      <td>84.0491</td>\n",
       "      <td>1077950.0</td>\n",
       "      <td>False</td>\n",
       "      <td>False</td>\n",
       "      <td>1.000000e+09</td>\n",
       "      <td>Banking</td>\n",
       "      <td>N.A.</td>\n",
       "      <td>3040430.0</td>\n",
       "      <td>N.A.</td>\n",
       "      <td>SR UNSECURED</td>\n",
       "      <td>526.924</td>\n",
       "      <td>0.012445</td>\n",
       "    </tr>\n",
       "    <tr>\n",
       "      <th>3</th>\n",
       "      <td>35.98800</td>\n",
       "      <td>2.22137</td>\n",
       "      <td>53.9594</td>\n",
       "      <td>125576.0</td>\n",
       "      <td>False</td>\n",
       "      <td>False</td>\n",
       "      <td>6.060820e+08</td>\n",
       "      <td>Communications</td>\n",
       "      <td>N.A.</td>\n",
       "      <td>155063.0</td>\n",
       "      <td>N.A.</td>\n",
       "      <td>SR UNSECURED</td>\n",
       "      <td>121.425</td>\n",
       "      <td>0.020474</td>\n",
       "    </tr>\n",
       "    <tr>\n",
       "      <th>4</th>\n",
       "      <td>5.71381</td>\n",
       "      <td>5.24664</td>\n",
       "      <td>85.8881</td>\n",
       "      <td>333470.0</td>\n",
       "      <td>False</td>\n",
       "      <td>False</td>\n",
       "      <td>1.500000e+09</td>\n",
       "      <td>Banking</td>\n",
       "      <td>N.A.</td>\n",
       "      <td>809688.0</td>\n",
       "      <td>N.A.</td>\n",
       "      <td>SR UNSECURED</td>\n",
       "      <td>619.080</td>\n",
       "      <td>0.001146</td>\n",
       "    </tr>\n",
       "    <tr>\n",
       "      <th>5</th>\n",
       "      <td>23.50830</td>\n",
       "      <td>19.21360</td>\n",
       "      <td>63.4410</td>\n",
       "      <td>151388.0</td>\n",
       "      <td>False</td>\n",
       "      <td>False</td>\n",
       "      <td>6.000000e+08</td>\n",
       "      <td>Consumer Cyclical</td>\n",
       "      <td>Single</td>\n",
       "      <td>235381.0</td>\n",
       "      <td>Parent</td>\n",
       "      <td>COMPANY GUARNT</td>\n",
       "      <td>173.568</td>\n",
       "      <td>0.001179</td>\n",
       "    </tr>\n",
       "    <tr>\n",
       "      <th>6</th>\n",
       "      <td>4.54799</td>\n",
       "      <td>3.85114</td>\n",
       "      <td>85.6341</td>\n",
       "      <td>226753.0</td>\n",
       "      <td>False</td>\n",
       "      <td>False</td>\n",
       "      <td>1.100000e+09</td>\n",
       "      <td>Banking</td>\n",
       "      <td>N.A.</td>\n",
       "      <td>627244.0</td>\n",
       "      <td>N.A.</td>\n",
       "      <td>SR UNSECURED</td>\n",
       "      <td>680.681</td>\n",
       "      <td>0.002144</td>\n",
       "    </tr>\n",
       "  </tbody>\n",
       "</table>\n",
       "</div>"
      ],
      "text/plain": [
       "   Common Eqty / Tot Assets  TCE Ratio  Tot Debt / Tot Capital  \\\n",
       "2                   5.65522    5.41231                 84.0491   \n",
       "3                  35.98800    2.22137                 53.9594   \n",
       "4                   5.71381    5.24664                 85.8881   \n",
       "5                  23.50830   19.21360                 63.4410   \n",
       "6                   4.54799    3.85114                 85.6341   \n",
       "\n",
       "   Tot Cap (Local Crncy)  Is Covered  Is Convertible       Amt Out  \\\n",
       "2              1077950.0       False           False  1.000000e+09   \n",
       "3               125576.0       False           False  6.060820e+08   \n",
       "4               333470.0       False           False  1.500000e+09   \n",
       "5               151388.0       False           False  6.000000e+08   \n",
       "6               226753.0       False           False  1.100000e+09   \n",
       "\n",
       "      BCLASS Level 3 Guarantee Type  Total Assets Guarantor Type  \\\n",
       "2            Banking           N.A.     3040430.0           N.A.   \n",
       "3     Communications           N.A.      155063.0           N.A.   \n",
       "4            Banking           N.A.      809688.0           N.A.   \n",
       "5  Consumer Cyclical         Single      235381.0         Parent   \n",
       "6            Banking           N.A.      627244.0           N.A.   \n",
       "\n",
       "      Collat Type  Debt / Common Equity     PD_1y  \n",
       "2    SR UNSECURED               526.924  0.012445  \n",
       "3    SR UNSECURED               121.425  0.020474  \n",
       "4    SR UNSECURED               619.080  0.001146  \n",
       "5  COMPANY GUARNT               173.568  0.001179  \n",
       "6    SR UNSECURED               680.681  0.002144  "
      ]
     },
     "execution_count": 59,
     "metadata": {},
     "output_type": "execute_result"
    }
   ],
   "source": [
    "#df1 = df1.dropna(how = 'any') \n",
    "df1.head()"
   ]
  },
  {
   "cell_type": "code",
   "execution_count": 60,
   "metadata": {},
   "outputs": [
    {
     "data": {
      "text/plain": [
       "(36781, 14)"
      ]
     },
     "execution_count": 60,
     "metadata": {},
     "output_type": "execute_result"
    }
   ],
   "source": [
    "df1.shape"
   ]
  },
  {
   "cell_type": "code",
   "execution_count": 61,
   "metadata": {},
   "outputs": [
    {
     "data": {
      "text/plain": [
       "(3657, 14)"
      ]
     },
     "execution_count": 61,
     "metadata": {},
     "output_type": "execute_result"
    }
   ],
   "source": [
    "df1 = df1.drop_duplicates(subset=df1.columns.difference(['PD_1y']))\n",
    "df1.shape"
   ]
  },
  {
   "cell_type": "markdown",
   "metadata": {},
   "source": [
    "# 1. Préparation des données"
   ]
  },
  {
   "cell_type": "markdown",
   "metadata": {},
   "source": [
    "Nous commencerons par séparer les données non étiquietées des étiquettes, les étiquettes se trouvent dans l'array `y_full` et le reste des données dans `X_full`"
   ]
  },
  {
   "cell_type": "code",
   "execution_count": 62,
   "metadata": {},
   "outputs": [],
   "source": [
    "X_full = np.array(df1.drop(columns=['PD_1y']))\n",
    "y_full = np.array(df1['PD_1y'])"
   ]
  },
  {
   "cell_type": "code",
   "execution_count": null,
   "metadata": {},
   "outputs": [],
   "source": []
  },
  {
   "cell_type": "markdown",
   "metadata": {},
   "source": [
    "La prochaine étape consiste à séparer les features continues des features discrètes, cela sera utile car leurs traitements seront différent"
   ]
  },
  {
   "cell_type": "code",
   "execution_count": 63,
   "metadata": {},
   "outputs": [],
   "source": [
    "features = list(df1.drop(columns=['PD_1y']).columns)\n",
    "\n",
    "discrete_features = ['BCLASS Level 3','Guarantee Type','Guarantor Type','Collat Type','Is Covered','Is Convertible']\n",
    "continuous_features = [s for s in features if not s in discrete_features]\n",
    "\n",
    "\n",
    "continuous_features_idx = [features.index(feat_name) for feat_name in continuous_features]\n",
    "discrete_features_idx = [features.index(feat_name) for feat_name in discrete_features]"
   ]
  },
  {
   "cell_type": "markdown",
   "metadata": {},
   "source": [
    "## a. Statistiques descriptives"
   ]
  },
  {
   "cell_type": "code",
   "execution_count": 64,
   "metadata": {},
   "outputs": [
    {
     "data": {
      "image/png": "[encoded data removed]",
      "text/plain": [
       "<Figure size 1008x720 with 7 Axes>"
      ]
     },
     "metadata": {
      "needs_background": "light"
     },
     "output_type": "display_data"
    }
   ],
   "source": [
    "fig = plt.figure(figsize=(14,10))\n",
    "\n",
    "# Histograms for continuous features\n",
    "for (plot_idx, feat_idx) in enumerate(continuous_features_idx):\n",
    "\n",
    "    # create a subplot in the (plot_idx+1) position of a 2x2 grid\n",
    "    ax = fig.add_subplot(8, 2, (plot_idx+1))\n",
    "    # plot the histogram of feat_idx\n",
    "    h = ax.hist(X_full[:, feat_idx], bins=30, edgecolor='black')\n",
    "    # use the name of the feature as a title for each histogram\n",
    "    ax.set_title(features[feat_idx])\n",
    "    #plt.xlim(0,0.001)\n",
    "# espacement entre les subplots\n",
    "fig.tight_layout(pad=0.1)\n",
    "#fig.savefig('continuous_distrib.png')"
   ]
  },
  {
   "cell_type": "code",
   "execution_count": null,
   "metadata": {},
   "outputs": [],
   "source": []
  },
  {
   "cell_type": "code",
   "execution_count": 65,
   "metadata": {
    "scrolled": true
   },
   "outputs": [
    {
     "data": {
      "image/png": "[encoded data removed]",
      "text/plain": [
       "<Figure size 1440x2592 with 6 Axes>"
      ]
     },
     "metadata": {
      "needs_background": "light"
     },
     "output_type": "display_data"
    }
   ],
   "source": [
    "# Bar plots for discrete features\n",
    "fig = plt.figure(figsize=(20, 36))\n",
    "\n",
    "for (plot_idx, feat_idx) in enumerate(discrete_features_idx):\n",
    "    # create a subplot in the (plot_idx+1) position of a 1x3 grid\n",
    "    ax = fig.add_subplot(7, 1, (plot_idx+1))\n",
    "\n",
    "    feature_values = np.unique(X_full[:, feat_idx])\n",
    "    frequencies = [(float(len(np.where(X_full[:, feat_idx]==value)[0]))/X_full.shape[0]) \\\n",
    "                   for value in feature_values]\n",
    "    \n",
    "    b = ax.bar(range(len(feature_values)), frequencies, width=0.8, \n",
    "               tick_label=list([n for n in feature_values]))\n",
    "    \n",
    "    \n",
    "    # use the name of the feature as a title for each histogram\n",
    "    ax.set_title(features[feat_idx])\n",
    "    \n",
    "fig.tight_layout(pad=0.15)\n",
    "fig.savefig('discrete_distrib.png')"
   ]
  },
  {
   "cell_type": "markdown",
   "metadata": {},
   "source": [
    "## b. Traitement des données"
   ]
  },
  {
   "cell_type": "code",
   "execution_count": 66,
   "metadata": {},
   "outputs": [],
   "source": [
    "## A FAIRE COMME CELA :\n",
    "\"\"\"\n",
    "from sklearn.preprocessing import OneHotEncoder\n",
    "\n",
    "enc = OneHotEncoder(handle_unknown='ignore')\n",
    "enc.fit(X_train_submit)\n",
    "\n",
    "X_train_submit = enc.transform(X_train_submit)\n",
    "X_test_submit = enc.transform(X_test_submit)\n",
    "\n",
    "\"\"\"\n",
    "\n",
    "\n",
    "\n",
    "class Pipeline:\n",
    "    def __init__(self, X_train, X_full = None):\n",
    "        \"\"\"\n",
    "        Se fit sur le jeu de TRAIN, une seule fois\n",
    "        \"\"\"\n",
    "        self.ohe = preprocessing.OneHotEncoder(categories='auto',sparse=False).fit(X_full[:,discrete_features_idx])\n",
    "        self.std_scaler = preprocessing.StandardScaler().fit(X_train[:,continuous_features_idx])\n",
    "        print(self.ohe.categories_)\n",
    "        \n",
    "    def traitement(self,X):\n",
    "        \"\"\"\n",
    "        Permet de traiter n'importe quel vecteur X ensuite\n",
    "        \"\"\"\n",
    "    \n",
    "        X_continuous_scaled = self.std_scaler.transform(X[:,continuous_features_idx])\n",
    "        X_discrete_encoded = self.ohe.transform(X[:,discrete_features_idx])\n",
    "        print('moyenne = {}'.format(np.mean(X_continuous_scaled)))\n",
    "        \n",
    "        X_processed = np.hstack((X_discrete_encoded, X_continuous_scaled))\n",
    "    \n",
    "        return X_processed\n"
   ]
  },
  {
   "cell_type": "code",
   "execution_count": 67,
   "metadata": {},
   "outputs": [
    {
     "name": "stdout",
     "output_type": "stream",
     "text": [
      "[array(['Banking', 'Basic Industry', 'Brokerage Assetmanagers Exchanges',\n",
      "       'Capital Goods', 'Communications', 'Consumer Cyclical',\n",
      "       'Consumer Non-Cyclical', 'Electric', 'Energy', 'Finance Companies',\n",
      "       'Government Guaranteed', 'Government Owned. No Guarantee',\n",
      "       'Government Sponsored', 'Hybrid', 'Insurance', 'Local Authority',\n",
      "       'Mortgage Assets', 'Natural Gas', 'Other Financial',\n",
      "       'Other Industrial', 'Other Utility', 'Public Sector Loans',\n",
      "       'REITs', 'Supranational', 'Technology', 'Transportation',\n",
      "       'Whole Business'], dtype=object), array(['Cross Guarantee', 'Multiple', 'N.A.', 'Single'], dtype=object), array(['Bank', 'Company', 'Domestic Restricted Subsidiar',\n",
      "       'Local Government', 'N.A.', 'National/Sovereign Government',\n",
      "       'Other Subsidiary of Parent', 'Parent', 'Parent & Subsidiaries',\n",
      "       'Subsidiaries'], dtype=object), array(['BONDS', 'COMPANY GUARNT', 'COVERED', 'GOVT GUARANTEED',\n",
      "       'GOVT LIQUID GTD', 'INSURED', 'JR SUBORDINATED',\n",
      "       'JUMBO PFANDBRIEF', 'LOCAL GOVT GUARN', 'PFANDBRIEFE', 'SECURED',\n",
      "       'SR SECURED', 'SR SUBORDINATED', 'SR UNSECURED', 'SUBORDINATED',\n",
      "       'UNSECURED'], dtype=object), array([False, True], dtype=object), array([False, True], dtype=object)]\n",
      "moyenne = 2.5677250836492747e-17\n",
      "moyenne = -0.003427440899887592\n"
     ]
    }
   ],
   "source": [
    "X_train, X_test_, y_train, y_test = model_selection.train_test_split(X_full, y_full, test_size=0.1,\n",
    "                                                                    #stratify=y_full, # stratification\n",
    "                                                                    random_state=92)\n",
    "\n",
    "pipe = Pipeline(X_train,X_full)\n",
    "X_train = pipe.traitement(X_train)\n",
    "X_test  = pipe.traitement(X_test_)"
   ]
  },
  {
   "cell_type": "markdown",
   "metadata": {},
   "source": [
    "# II. Réseaux de neurones : prédiction de la PD\n",
    "\n",
    "## a. Implémentation du modèle"
   ]
  },
  {
   "cell_type": "code",
   "execution_count": 68,
   "metadata": {},
   "outputs": [
    {
     "data": {
      "text/plain": [
       "(3291, 68)"
      ]
     },
     "execution_count": 68,
     "metadata": {},
     "output_type": "execute_result"
    }
   ],
   "source": [
    "X_train.shape\n",
    "#RESEAUX DE NEURONES \n",
    "#http://eric.univ-lyon2.fr/~ricco/tanagra/fichiers/fr_Tanagra_Packages_Python_for_Deep_Learning.pdf\n",
    "\n",
    "#Explications très bien dans ce document : \n",
    "\n",
    "#http://exo7.emath.fr/cours/livre-deepmath.pdf \n",
    "\n",
    "#très bon document (parties Python, keras avec les codes et explications)"
   ]
  },
  {
   "cell_type": "code",
   "execution_count": 69,
   "metadata": {},
   "outputs": [],
   "source": [
    "model = Sequential()\n",
    "model.add(Dense(units=1200,input_dim=68,))#activation=\"sigmoid\")) #6 is good\n",
    "model.add(Dense(units=1200))\n",
    "model.add(Dense(units=1200))\n",
    "#model.add(Dropout(0.2))\n",
    "model.add(Dense(units=1,activation=\"sigmoid\"))\n",
    "\n",
    "learning_rate = 0.000005\n",
    "\n",
    "sgd = SGD(learning_rate)  #lr = 0.02\n",
    "adam = Adam(learning_rate) #lr = 0.001\n",
    "\n",
    "#nadam = Nadam(lr=0.0005, beta_1=0.9, beta_2=0.999)\n",
    "\n",
    "#dim première couche = nombre de variables du df "
   ]
  },
  {
   "cell_type": "markdown",
   "metadata": {},
   "source": [
    "**Fonction sigmoïde :** continue et à valeurs dans [0,1] (comme les probabilités de défaut). Régression logit. "
   ]
  },
  {
   "cell_type": "code",
   "execution_count": 70,
   "metadata": {},
   "outputs": [],
   "source": [
    "#modele.compile(loss='mean_squared_error',optimizer=sgd,metrics=[tf.keras.metrics.MeanSquaredError()])\n",
    "#optimizer = sgd\n",
    "#model.compile(loss='mean_squared_error',optimizer='adam',metrics=[tf.keras.metrics.MeanSquaredError()])\n",
    "#model.compile(loss=tf.keras.losses.Huber(delta=.05),optimizer=sgd,metrics=[tf.keras.metrics.MeanSquaredError()])\n",
    "model.compile(loss='mean_absolute_percentage_error',optimizer=adam,metrics=[tf.keras.metrics.MeanAbsolutePercentageError()])"
   ]
  },
  {
   "cell_type": "code",
   "execution_count": 71,
   "metadata": {},
   "outputs": [
    {
     "name": "stdout",
     "output_type": "stream",
     "text": [
      "Model: \"sequential_1\"\n",
      "_________________________________________________________________\n",
      "Layer (type)                 Output Shape              Param #   \n",
      "=================================================================\n",
      "dense_4 (Dense)              (None, 1200)              82800     \n",
      "_________________________________________________________________\n",
      "dense_5 (Dense)              (None, 1200)              1441200   \n",
      "_________________________________________________________________\n",
      "dense_6 (Dense)              (None, 1200)              1441200   \n",
      "_________________________________________________________________\n",
      "dense_7 (Dense)              (None, 1)                 1201      \n",
      "=================================================================\n",
      "Total params: 2,966,401\n",
      "Trainable params: 2,966,401\n",
      "Non-trainable params: 0\n",
      "_________________________________________________________________\n",
      "None\n"
     ]
    }
   ],
   "source": [
    "print(model.summary())"
   ]
  },
  {
   "cell_type": "code",
   "execution_count": 72,
   "metadata": {},
   "outputs": [
    {
     "name": "stdout",
     "output_type": "stream",
     "text": [
      "Epoch 1/30\n",
      "120/120 [==============================] - 1s 10ms/step - loss: 15933.6455 - mean_absolute_percentage_error: 15933.6455 - val_loss: 7035.5425 - val_mean_absolute_percentage_error: 7035.5425\n",
      "Epoch 2/30\n",
      "120/120 [==============================] - 1s 8ms/step - loss: 7653.1245 - mean_absolute_percentage_error: 7653.1245 - val_loss: 3367.2317 - val_mean_absolute_percentage_error: 3367.2317\n",
      "Epoch 3/30\n",
      "120/120 [==============================] - 1s 10ms/step - loss: 3668.5164 - mean_absolute_percentage_error: 3668.5164 - val_loss: 1837.1669 - val_mean_absolute_percentage_error: 1837.1669\n",
      "Epoch 4/30\n",
      "120/120 [==============================] - 1s 8ms/step - loss: 2331.0317 - mean_absolute_percentage_error: 2331.0317 - val_loss: 1094.0802 - val_mean_absolute_percentage_error: 1094.0802\n",
      "Epoch 5/30\n",
      "120/120 [==============================] - 1s 11ms/step - loss: 1336.9154 - mean_absolute_percentage_error: 1336.9154 - val_loss: 716.5364 - val_mean_absolute_percentage_error: 716.5364\n",
      "Epoch 6/30\n",
      "120/120 [==============================] - 1s 10ms/step - loss: 856.0467 - mean_absolute_percentage_error: 856.0467 - val_loss: 503.7805 - val_mean_absolute_percentage_error: 503.7805\n",
      "Epoch 7/30\n",
      "120/120 [==============================] - 1s 9ms/step - loss: 760.2192 - mean_absolute_percentage_error: 760.2192 - val_loss: 361.2975 - val_mean_absolute_percentage_error: 361.2975\n",
      "Epoch 8/30\n",
      "120/120 [==============================] - 1s 9ms/step - loss: 484.8961 - mean_absolute_percentage_error: 484.8961 - val_loss: 286.2296 - val_mean_absolute_percentage_error: 286.2296\n",
      "Epoch 9/30\n",
      "120/120 [==============================] - 1s 9ms/step - loss: 397.0069 - mean_absolute_percentage_error: 397.0069 - val_loss: 231.1716 - val_mean_absolute_percentage_error: 231.1716\n",
      "Epoch 10/30\n",
      "120/120 [==============================] - 1s 10ms/step - loss: 284.4723 - mean_absolute_percentage_error: 284.4723 - val_loss: 197.5146 - val_mean_absolute_percentage_error: 197.5146\n",
      "Epoch 11/30\n",
      "120/120 [==============================] - 1s 9ms/step - loss: 320.0388 - mean_absolute_percentage_error: 320.0388 - val_loss: 170.0578 - val_mean_absolute_percentage_error: 170.0578\n",
      "Epoch 12/30\n",
      "120/120 [==============================] - 1s 9ms/step - loss: 216.6218 - mean_absolute_percentage_error: 216.6218 - val_loss: 151.5548 - val_mean_absolute_percentage_error: 151.5548\n",
      "Epoch 13/30\n",
      "120/120 [==============================] - 1s 9ms/step - loss: 197.3414 - mean_absolute_percentage_error: 197.3414 - val_loss: 138.7729 - val_mean_absolute_percentage_error: 138.7729\n",
      "Epoch 14/30\n",
      "120/120 [==============================] - 1s 10ms/step - loss: 240.0409 - mean_absolute_percentage_error: 240.0409 - val_loss: 126.8476 - val_mean_absolute_percentage_error: 126.8476\n",
      "Epoch 15/30\n",
      "120/120 [==============================] - 1s 12ms/step - loss: 139.7184 - mean_absolute_percentage_error: 139.7184 - val_loss: 120.2183 - val_mean_absolute_percentage_error: 120.2183\n",
      "Epoch 16/30\n",
      "120/120 [==============================] - 1s 11ms/step - loss: 186.8268 - mean_absolute_percentage_error: 186.8268 - val_loss: 113.0191 - val_mean_absolute_percentage_error: 113.0191\n",
      "Epoch 17/30\n",
      "120/120 [==============================] - 1s 11ms/step - loss: 140.0295 - mean_absolute_percentage_error: 140.0295 - val_loss: 109.0841 - val_mean_absolute_percentage_error: 109.0841\n",
      "Epoch 18/30\n",
      "120/120 [==============================] - 1s 11ms/step - loss: 143.8879 - mean_absolute_percentage_error: 143.8879 - val_loss: 105.4895 - val_mean_absolute_percentage_error: 105.4895\n",
      "Epoch 19/30\n",
      "120/120 [==============================] - 1s 10ms/step - loss: 138.6211 - mean_absolute_percentage_error: 138.6211 - val_loss: 102.7720 - val_mean_absolute_percentage_error: 102.7720\n",
      "Epoch 20/30\n",
      "120/120 [==============================] - 1s 10ms/step - loss: 136.0551 - mean_absolute_percentage_error: 136.0551 - val_loss: 100.7700 - val_mean_absolute_percentage_error: 100.7700\n",
      "Epoch 21/30\n",
      "120/120 [==============================] - 1s 9ms/step - loss: 123.1339 - mean_absolute_percentage_error: 123.1339 - val_loss: 99.0533 - val_mean_absolute_percentage_error: 99.0533\n",
      "Epoch 22/30\n",
      "120/120 [==============================] - 1s 10ms/step - loss: 115.3607 - mean_absolute_percentage_error: 115.3607 - val_loss: 97.8932 - val_mean_absolute_percentage_error: 97.8932\n",
      "Epoch 23/30\n",
      "WARNING:tensorflow:Your input ran out of data; interrupting training. Make sure that your dataset or generator can generate at least `steps_per_epoch * epochs` batches (in this case, 3600 batches). You may need to use the repeat() function when building your dataset.\n",
      "  0/120 [..............................] - 0s 0s/step - loss: 115.3607 - mean_absolute_percentage_error: 115.3607 - val_loss: 97.8932 - val_mean_absolute_percentage_error: 97.8932\n",
      "12/12 [==============================] - 0s 3ms/step - loss: 90.7314 - mean_absolute_percentage_error: 90.7314\n",
      "The final loss on the TEST set is: 90.73.\n",
      "The final mean_absolute_percentage_error on the TEST set is: 90.73.\n"
     ]
    },
    {
     "data": {
      "image/png": "[encoded data removed]",
      "text/plain": [
       "<Figure size 432x288 with 1 Axes>"
      ]
     },
     "metadata": {
      "needs_background": "light"
     },
     "output_type": "display_data"
    }
   ],
   "source": [
    "callback = keras.callbacks.EarlyStopping(monitor='loss', patience=3)\n",
    "#callback = None\n",
    "history = model.fit(np.squeeze(X_train), y_train,         # Train the model using the training set...\n",
    "          batch_size=30, epochs=30,\n",
    "          verbose=1, validation_split=0.2,steps_per_epoch=120,)#callbacks=[callback])           # ...holding out 40% of the data for validation\n",
    "\n",
    "# --------------------------------------\n",
    "# Evaluation\n",
    "# --------------------------------------\n",
    "for loss_name, loss_value in list(zip(model.metrics_names, model.evaluate(X_test, y_test, verbose=1))):\n",
    "    print('The final {} on the TEST set is: {:.2f}.'.format(loss_name, loss_value)) # Evaluate the trained model on the test set!\n",
    "\n",
    "    \n",
    "import matplotlib.pyplot as plt\n",
    "\n",
    "# --------------------------------------\n",
    "# Loss functions evolution\n",
    "# --------------------------------------\n",
    "plt.plot(history.history['loss'])\n",
    "plt.plot(history.history['val_loss'])\n",
    "plt.title('Model loss by epoch')\n",
    "plt.ylabel('loss')\n",
    "plt.xlabel('epoch')\n",
    "plt.legend(['train', 'valid'], loc='right')\n",
    "#plt.savefig('nn.png')\n",
    "plt.show()"
   ]
  },
  {
   "cell_type": "code",
   "execution_count": 73,
   "metadata": {},
   "outputs": [
    {
     "name": "stdout",
     "output_type": "stream",
     "text": [
      "12/12 [==============================] - 0s 3ms/step - loss: 90.7314 - mean_absolute_percentage_error: 90.7314\n",
      "Valeur de l'erreur sur les données de test (loss): 90.73143768310547\n",
      "Précision sur les données de test (MAPE): 90.73143768310547\n"
     ]
    }
   ],
   "source": [
    "#Résultats \n",
    "\n",
    "resultat = model.evaluate(X_test, y_test, verbose=1)\n",
    "print(\"Valeur de l'erreur sur les données de test (loss):\", resultat[0])\n",
    "print('Précision sur les données de test (MAPE):', resultat[1])"
   ]
  },
  {
   "cell_type": "code",
   "execution_count": 74,
   "metadata": {},
   "outputs": [
    {
     "data": {
      "text/plain": [
       "0.22145872454983695"
      ]
     },
     "execution_count": 74,
     "metadata": {},
     "output_type": "execute_result"
    }
   ],
   "source": [
    "#KNN après fine tuning\n",
    "\n",
    "from sklearn.neighbors import KNeighborsRegressor\n",
    "\n",
    "\n",
    "neigh = KNeighborsRegressor(n_neighbors=3)\n",
    "neigh.fit(X_train, y_train)\n",
    "neigh.score(X_test, y_test)\n"
   ]
  },
  {
   "cell_type": "code",
   "execution_count": 75,
   "metadata": {},
   "outputs": [
    {
     "data": {
      "text/plain": [
       "0.2479826564383001"
      ]
     },
     "execution_count": 75,
     "metadata": {},
     "output_type": "execute_result"
    }
   ],
   "source": [
    "#SVR après fine tuning\n",
    "\n",
    "from sklearn.svm import SVR\n",
    "regr = SVR(C=1.3789473684210527, epsilon=0.0000514545454545455, verbose=False)\n",
    "regr.fit(X_train, y_train)\n",
    "regr.score(X_test, y_test)"
   ]
  },
  {
   "cell_type": "markdown",
   "metadata": {},
   "source": [
    "## b. Observation des résultats "
   ]
  },
  {
   "cell_type": "code",
   "execution_count": 81,
   "metadata": {},
   "outputs": [],
   "source": [
    "def ecart_relatif(row) : \n",
    "    théo = row['Théorique']\n",
    "    préd = row['Prédiction']\n",
    "    return np.abs(théo - préd) / théo"
   ]
  },
  {
   "cell_type": "code",
   "execution_count": 82,
   "metadata": {},
   "outputs": [],
   "source": [
    "def ViewResults(model, X_test, y_test):\n",
    "    prediction = pd.DataFrame(data= model.predict(X_test) ,columns=['Prédiction'])\n",
    "    théorique = pd.DataFrame(data= y_test ,columns=['Théorique'])\n",
    "    prediction, théorique = prediction.reset_index() , théorique.reset_index()\n",
    "\n",
    "    results = pd.merge(théorique, prediction, on = 'index').drop(columns=['index'])\n",
    "    results[\"Ecart_relatif\"] = results.apply(ecart_relatif,axis=1)\n",
    "    \n",
    "    results.sort_values('Ecart_relatif',inplace=True)\n",
    "    \n",
    "    #print(results.tail(20))\n",
    "    k=.2\n",
    "    \n",
    "    \n",
    "    print(\"\\n\\nL'écart relatif moyen est de \" + str(results[\"Ecart_relatif\"].mean() * 100) + \"%\")\n",
    "    premiere_bissectrice = np.linspace(0,k * 1e-1,100)\n",
    "    \n",
    "    plt.plot(premiere_bissectrice,premiere_bissectrice, color='red')\n",
    "    plt.scatter(results[\"Théorique\"],results[\"Prédiction\"])\n",
    "    \n",
    "    \n",
    "    plt.xlim(-k*1e-2,k * 1e-1)\n",
    "    plt.ylim(-k*1e-2,k * 1e-1)\n",
    "    plt.savefig('svr_pred.png')\n",
    "    plt.show()"
   ]
  },
  {
   "cell_type": "code",
   "execution_count": 83,
   "metadata": {},
   "outputs": [
    {
     "name": "stdout",
     "output_type": "stream",
     "text": [
      "Resultat pour la regression SVR\n",
      "\n",
      "\n",
      "L'écart relatif moyen est de 93.60241131583425%\n"
     ]
    },
    {
     "data": {
      "image/png": "[encoded data removed]",
      "text/plain": [
       "<Figure size 432x288 with 1 Axes>"
      ]
     },
     "metadata": {
      "needs_background": "light"
     },
     "output_type": "display_data"
    }
   ],
   "source": [
    "print('Resultat pour la regression SVR')\n",
    "ViewResults(regr, X_test, y_test)"
   ]
  },
  {
   "cell_type": "code",
   "execution_count": 84,
   "metadata": {},
   "outputs": [
    {
     "name": "stdout",
     "output_type": "stream",
     "text": [
      "Resultat pour la regression 3-NN\n",
      "\n",
      "\n",
      "L'écart relatif moyen est de 89.03431740272369%\n"
     ]
    },
    {
     "data": {
      "image/png": "[encoded data removed]",
      "text/plain": [
       "<Figure size 432x288 with 1 Axes>"
      ]
     },
     "metadata": {
      "needs_background": "light"
     },
     "output_type": "display_data"
    }
   ],
   "source": [
    "print('Resultat pour la regression 3-NN')\n",
    "ViewResults(neigh,X_test,y_test)"
   ]
  },
  {
   "cell_type": "code",
   "execution_count": 85,
   "metadata": {},
   "outputs": [
    {
     "name": "stdout",
     "output_type": "stream",
     "text": [
      "Resultat pour la regression via Dense Neural Net\n",
      "\n",
      "\n",
      "L'écart relatif moyen est de 90.73143578108512%\n"
     ]
    },
    {
     "data": {
      "image/png": "[encoded data removed]",
      "text/plain": [
       "<Figure size 432x288 with 1 Axes>"
      ]
     },
     "metadata": {
      "needs_background": "light"
     },
     "output_type": "display_data"
    }
   ],
   "source": [
    "print('Resultat pour la regression via Dense Neural Net')\n",
    "ViewResults(model,X_test,y_test)"
   ]
  },
  {
   "cell_type": "markdown",
   "metadata": {},
   "source": [
    "---------------"
   ]
  },
  {
   "cell_type": "markdown",
   "metadata": {},
   "source": [
    "# III. Réseaux de neurones : Test classification multi-classe"
   ]
  },
  {
   "cell_type": "markdown",
   "metadata": {},
   "source": [
    "## a. Classification des PD"
   ]
  },
  {
   "cell_type": "markdown",
   "metadata": {},
   "source": [
    "**Transformation de la distribution** "
   ]
  },
  {
   "cell_type": "code",
   "execution_count": 86,
   "metadata": {},
   "outputs": [],
   "source": [
    "lam = 1/y_train.mean()"
   ]
  },
  {
   "cell_type": "code",
   "execution_count": 87,
   "metadata": {},
   "outputs": [],
   "source": [
    "def loi_expo(x,lam) : \n",
    "    return lam * np.exp(- lam * x)"
   ]
  },
  {
   "cell_type": "code",
   "execution_count": 88,
   "metadata": {},
   "outputs": [
    {
     "data": {
      "image/png": "[encoded data removed]",
      "text/plain": [
       "<Figure size 432x288 with 1 Axes>"
      ]
     },
     "metadata": {
      "needs_background": "light"
     },
     "output_type": "display_data"
    }
   ],
   "source": [
    "from pylab import *\n",
    "x_arg = linspace(0, 0.2, 100)\n",
    "y_arg = loi_expo(x_arg,lam) * 8\n",
    "\n",
    "plot(x_arg, y_arg)\n",
    "plt.hist(y_train, range = (0, 0.2), bins = 1000, edgecolor='orange')\n",
    "show()"
   ]
  },
  {
   "cell_type": "code",
   "execution_count": 89,
   "metadata": {},
   "outputs": [],
   "source": [
    "def distrib_function(x,lam) : \n",
    "    return 1 - np.exp(- lam * x)\n",
    "\n",
    "y_train_exp = distrib_function(y_train,lam)\n",
    "y_test_exp = distrib_function(y_test,lam)"
   ]
  },
  {
   "cell_type": "code",
   "execution_count": 90,
   "metadata": {},
   "outputs": [
    {
     "data": {
      "text/plain": [
       "(array([34., 39., 31., 43., 47., 46., 52., 43., 38., 44., 30., 39., 32.,\n",
       "        45., 53., 43., 45., 40., 44., 34., 55., 46., 43., 39., 48., 61.,\n",
       "        44., 44., 39., 52., 54., 44., 54., 42., 48., 52., 45., 37., 43.,\n",
       "        37., 33., 35., 47., 27., 38., 34., 38., 37., 32., 25., 37., 29.,\n",
       "        28., 26., 24., 20., 23., 19., 15., 16., 23., 23., 24., 19., 14.,\n",
       "        23., 23., 22., 18., 13., 22., 17., 18., 18., 20., 16., 16., 16.,\n",
       "        16., 18., 20., 27., 18., 14., 21., 21., 18., 29., 22., 32., 24.,\n",
       "        31., 26., 31., 34., 31., 28., 33., 38., 82.]),\n",
       " array([0.  , 0.01, 0.02, 0.03, 0.04, 0.05, 0.06, 0.07, 0.08, 0.09, 0.1 ,\n",
       "        0.11, 0.12, 0.13, 0.14, 0.15, 0.16, 0.17, 0.18, 0.19, 0.2 , 0.21,\n",
       "        0.22, 0.23, 0.24, 0.25, 0.26, 0.27, 0.28, 0.29, 0.3 , 0.31, 0.32,\n",
       "        0.33, 0.34, 0.35, 0.36, 0.37, 0.38, 0.39, 0.4 , 0.41, 0.42, 0.43,\n",
       "        0.44, 0.45, 0.46, 0.47, 0.48, 0.49, 0.5 , 0.51, 0.52, 0.53, 0.54,\n",
       "        0.55, 0.56, 0.57, 0.58, 0.59, 0.6 , 0.61, 0.62, 0.63, 0.64, 0.65,\n",
       "        0.66, 0.67, 0.68, 0.69, 0.7 , 0.71, 0.72, 0.73, 0.74, 0.75, 0.76,\n",
       "        0.77, 0.78, 0.79, 0.8 , 0.81, 0.82, 0.83, 0.84, 0.85, 0.86, 0.87,\n",
       "        0.88, 0.89, 0.9 , 0.91, 0.92, 0.93, 0.94, 0.95, 0.96, 0.97, 0.98,\n",
       "        0.99, 1.  ]),\n",
       " <BarContainer object of 100 artists>)"
      ]
     },
     "execution_count": 90,
     "metadata": {},
     "output_type": "execute_result"
    },
    {
     "data": {
      "image/png": "[encoded data removed]",
      "text/plain": [
       "<Figure size 432x288 with 1 Axes>"
      ]
     },
     "metadata": {
      "needs_background": "light"
     },
     "output_type": "display_data"
    }
   ],
   "source": [
    "plt.hist(y_train_exp, range = (0, 1), bins = 100)"
   ]
  },
  {
   "cell_type": "markdown",
   "metadata": {},
   "source": [
    "**Règle du coude :** déterminer le nombre de clusters "
   ]
  },
  {
   "cell_type": "code",
   "execution_count": 91,
   "metadata": {},
   "outputs": [],
   "source": [
    "from sklearn.cluster import KMeans"
   ]
  },
  {
   "cell_type": "code",
   "execution_count": 92,
   "metadata": {},
   "outputs": [
    {
     "data": {
      "image/png": "[encoded data removed]",
      "text/plain": [
       "<Figure size 432x288 with 1 Axes>"
      ]
     },
     "metadata": {
      "needs_background": "light"
     },
     "output_type": "display_data"
    }
   ],
   "source": [
    "def regle_du_coude(base_input, nb_cluster_teste):\n",
    "    \n",
    "    distortions = []\n",
    "    df = pd.DataFrame(columns = ['X', 'Y']) \n",
    "    df[\"X\"]=base_input\n",
    "    df[\"Y\"]=base_input\n",
    "\n",
    "    for k in range(1,nb_cluster_teste+1):\n",
    "        kmeanModel = KMeans(n_clusters=k)\n",
    "        kmeanModel.fit(df)\n",
    "        distortions.append(kmeanModel.inertia_)\n",
    "    \n",
    "    plt.plot(range(1,nb_cluster_teste+1), distortions, 'rx--')\n",
    "    plt.xticks(range(0,nb_cluster_teste+1,2))\n",
    "    plt.xlabel('Nombre de clusters',)\n",
    "    plt.ylabel('Variance intra-classe')\n",
    "    plt.title('La méthode du coude')\n",
    "    plt.show()\n",
    "    \n",
    "regle_du_coude(y_train_exp,20)"
   ]
  },
  {
   "cell_type": "markdown",
   "metadata": {},
   "source": [
    "**Clustering :**"
   ]
  },
  {
   "cell_type": "code",
   "execution_count": 93,
   "metadata": {},
   "outputs": [],
   "source": [
    "#Au départ : reprendre base de train et de test créées dans la partie I. \n",
    "#X_train, y_train, X_test, y_test\n",
    "\n",
    "class Discretizer:\n",
    "    def __init__(self, y_train, nb_class=6):\n",
    "        \n",
    "        self.nb_class = nb_class\n",
    "        self.y_train = y_train.reshape((-1,1))\n",
    "\n",
    "        self.kbins = KBinsDiscretizer(n_bins=self.nb_class, encode='ordinal', strategy='kmeans')#strategy : uniform, quantile, kmeans\n",
    "        self.kbins.fit(self.y_train)\n",
    "        \n",
    "        \n",
    "    def discretize(self,y):\n",
    "        y = y.reshape((-1,1))\n",
    "        y_class = self.kbins.transform(y)\n",
    "        return y_class"
   ]
  },
  {
   "cell_type": "code",
   "execution_count": 94,
   "metadata": {},
   "outputs": [],
   "source": [
    "nb_class = 6\n",
    "discretizer = Discretizer(y_train_exp, nb_class=nb_class)\n",
    "\n",
    "y_train_class = discretizer.discretize(y_train_exp)\n",
    "y_test_class  = discretizer.discretize(y_test_exp)"
   ]
  },
  {
   "cell_type": "code",
   "execution_count": 95,
   "metadata": {},
   "outputs": [
    {
     "data": {
      "text/plain": [
       "array([0.0312266 , 0.06754044, 0.0285428 , ..., 0.00804611, 0.03108146,\n",
       "       0.00382763])"
      ]
     },
     "execution_count": 95,
     "metadata": {},
     "output_type": "execute_result"
    }
   ],
   "source": [
    "y_train"
   ]
  },
  {
   "cell_type": "code",
   "execution_count": 96,
   "metadata": {},
   "outputs": [
    {
     "data": {
      "image/png": "[encoded data removed]",
      "text/plain": [
       "<Figure size 432x288 with 1 Axes>"
      ]
     },
     "metadata": {
      "needs_background": "light"
     },
     "output_type": "display_data"
    }
   ],
   "source": [
    "plt.hist(y_train_class, range = (0, nb_class), bins = nb_class, edgecolor='black' )\n",
    "plt.xlabel('Classes')\n",
    "plt.ylabel('Nombre de bonds')\n",
    "plt.title('Histogramme du nombre de bonds par classe - base de train')\n",
    "plt.show()"
   ]
  },
  {
   "cell_type": "code",
   "execution_count": 97,
   "metadata": {},
   "outputs": [
    {
     "data": {
      "image/png": "[encoded data removed]",
      "text/plain": [
       "<Figure size 432x288 with 1 Axes>"
      ]
     },
     "metadata": {
      "needs_background": "light"
     },
     "output_type": "display_data"
    }
   ],
   "source": [
    "plt.hist(y_test_class, range = (0, nb_class), bins = nb_class, edgecolor='black' )\n",
    "plt.xlabel('Classes')\n",
    "plt.ylabel('Nombre de bonds')\n",
    "plt.title('Histogramme du nombre de bonds par classe - base de test')\n",
    "plt.show()"
   ]
  },
  {
   "cell_type": "code",
   "execution_count": null,
   "metadata": {},
   "outputs": [],
   "source": []
  },
  {
   "cell_type": "markdown",
   "metadata": {},
   "source": [
    "## b. Implémentation du modèle"
   ]
  },
  {
   "cell_type": "code",
   "execution_count": 100,
   "metadata": {},
   "outputs": [],
   "source": [
    "model = Sequential()\n",
    "#model.add(Conv1D(12, 2, activation='relu',input_shape=input_shape[1:]))\n",
    "model.add(Dense(units=2000,input_dim=68)) #6 is good\n",
    "model.add(Dense(units=2000))\n",
    "model.add(Dropout(0.4))\n",
    "model.add(Dense(units=nb_class,activation=\"softmax\")) #output\n",
    "\n",
    "\n",
    "#32, 3, activation='relu', input_shape=input_shape[2:])(x)\n",
    "\n",
    "\n"
   ]
  },
  {
   "cell_type": "code",
   "execution_count": 101,
   "metadata": {},
   "outputs": [],
   "source": [
    "from tensorflow import keras \n",
    "\n",
    "model.compile(optimizer=keras.optimizers.Adam(lr=0.0003),\n",
    "              loss=keras.losses.SparseCategoricalCrossentropy(from_logits=False), # default from_logits=False\n",
    "              metrics=[keras.metrics.SparseCategoricalAccuracy()])"
   ]
  },
  {
   "cell_type": "code",
   "execution_count": 102,
   "metadata": {},
   "outputs": [],
   "source": [
    "#model.fit(X_train,y_train,validation_split=0.4, epochs=40)"
   ]
  },
  {
   "cell_type": "code",
   "execution_count": 103,
   "metadata": {},
   "outputs": [
    {
     "name": "stdout",
     "output_type": "stream",
     "text": [
      "Epoch 1/100\n",
      "250/250 [==============================] - 3s 12ms/step - loss: 1.5834 - sparse_categorical_accuracy: 0.3833 - val_loss: 1.4191 - val_sparse_categorical_accuracy: 0.4273\n",
      "Epoch 2/100\n",
      "250/250 [==============================] - 3s 10ms/step - loss: 1.5106 - sparse_categorical_accuracy: 0.3944 - val_loss: 1.3764 - val_sparse_categorical_accuracy: 0.4455\n",
      "Epoch 3/100\n",
      "250/250 [==============================] - 3s 10ms/step - loss: 1.4806 - sparse_categorical_accuracy: 0.4182 - val_loss: 1.3707 - val_sparse_categorical_accuracy: 0.4303\n",
      "Epoch 4/100\n",
      "250/250 [==============================] - 3s 10ms/step - loss: 1.4553 - sparse_categorical_accuracy: 0.4116 - val_loss: 1.3890 - val_sparse_categorical_accuracy: 0.4455\n",
      "Epoch 5/100\n",
      "250/250 [==============================] - 3s 10ms/step - loss: 1.4456 - sparse_categorical_accuracy: 0.4101 - val_loss: 1.3964 - val_sparse_categorical_accuracy: 0.4152\n",
      "Epoch 6/100\n",
      "250/250 [==============================] - 3s 11ms/step - loss: 1.4565 - sparse_categorical_accuracy: 0.4113 - val_loss: 1.3812 - val_sparse_categorical_accuracy: 0.4242\n",
      "Epoch 7/100\n",
      " 44/250 [====>.........................] - ETA: 2s - loss: 1.4791 - sparse_categorical_accuracy: 0.4148"
     ]
    },
    {
     "ename": "KeyboardInterrupt",
     "evalue": "",
     "output_type": "error",
     "traceback": [
      "\u001b[0;31m---------------------------------------------------------------------------\u001b[0m",
      "\u001b[0;31mKeyboardInterrupt\u001b[0m                         Traceback (most recent call last)",
      "\u001b[0;32m<ipython-input-103-83f90f027ead>\u001b[0m in \u001b[0;36m<module>\u001b[0;34m\u001b[0m\n\u001b[1;32m      1\u001b[0m history = model.fit(X_train, y_train_class,         # Train the model using the training set...\n\u001b[1;32m      2\u001b[0m           \u001b[0mbatch_size\u001b[0m\u001b[0;34m=\u001b[0m\u001b[0;36m20\u001b[0m\u001b[0;34m,\u001b[0m \u001b[0mepochs\u001b[0m\u001b[0;34m=\u001b[0m\u001b[0;36m100\u001b[0m\u001b[0;34m,\u001b[0m\u001b[0;34m\u001b[0m\u001b[0;34m\u001b[0m\u001b[0m\n\u001b[0;32m----> 3\u001b[0;31m           verbose=1, validation_split=0.1,steps_per_epoch=250)  \n\u001b[0m",
      "\u001b[0;32m/opt/anaconda3/lib/python3.7/site-packages/tensorflow/python/keras/engine/training.py\u001b[0m in \u001b[0;36m_method_wrapper\u001b[0;34m(self, *args, **kwargs)\u001b[0m\n\u001b[1;32m    106\u001b[0m   \u001b[0;32mdef\u001b[0m \u001b[0m_method_wrapper\u001b[0m\u001b[0;34m(\u001b[0m\u001b[0mself\u001b[0m\u001b[0;34m,\u001b[0m \u001b[0;34m*\u001b[0m\u001b[0margs\u001b[0m\u001b[0;34m,\u001b[0m \u001b[0;34m**\u001b[0m\u001b[0mkwargs\u001b[0m\u001b[0;34m)\u001b[0m\u001b[0;34m:\u001b[0m\u001b[0;34m\u001b[0m\u001b[0;34m\u001b[0m\u001b[0m\n\u001b[1;32m    107\u001b[0m     \u001b[0;32mif\u001b[0m \u001b[0;32mnot\u001b[0m \u001b[0mself\u001b[0m\u001b[0;34m.\u001b[0m\u001b[0m_in_multi_worker_mode\u001b[0m\u001b[0;34m(\u001b[0m\u001b[0;34m)\u001b[0m\u001b[0;34m:\u001b[0m  \u001b[0;31m# pylint: disable=protected-access\u001b[0m\u001b[0;34m\u001b[0m\u001b[0;34m\u001b[0m\u001b[0m\n\u001b[0;32m--> 108\u001b[0;31m       \u001b[0;32mreturn\u001b[0m \u001b[0mmethod\u001b[0m\u001b[0;34m(\u001b[0m\u001b[0mself\u001b[0m\u001b[0;34m,\u001b[0m \u001b[0;34m*\u001b[0m\u001b[0margs\u001b[0m\u001b[0;34m,\u001b[0m \u001b[0;34m**\u001b[0m\u001b[0mkwargs\u001b[0m\u001b[0;34m)\u001b[0m\u001b[0;34m\u001b[0m\u001b[0;34m\u001b[0m\u001b[0m\n\u001b[0m\u001b[1;32m    109\u001b[0m \u001b[0;34m\u001b[0m\u001b[0m\n\u001b[1;32m    110\u001b[0m     \u001b[0;31m# Running inside `run_distribute_coordinator` already.\u001b[0m\u001b[0;34m\u001b[0m\u001b[0;34m\u001b[0m\u001b[0;34m\u001b[0m\u001b[0m\n",
      "\u001b[0;32m/opt/anaconda3/lib/python3.7/site-packages/tensorflow/python/keras/engine/training.py\u001b[0m in \u001b[0;36mfit\u001b[0;34m(self, x, y, batch_size, epochs, verbose, callbacks, validation_split, validation_data, shuffle, class_weight, sample_weight, initial_epoch, steps_per_epoch, validation_steps, validation_batch_size, validation_freq, max_queue_size, workers, use_multiprocessing)\u001b[0m\n\u001b[1;32m   1096\u001b[0m                 batch_size=batch_size):\n\u001b[1;32m   1097\u001b[0m               \u001b[0mcallbacks\u001b[0m\u001b[0;34m.\u001b[0m\u001b[0mon_train_batch_begin\u001b[0m\u001b[0;34m(\u001b[0m\u001b[0mstep\u001b[0m\u001b[0;34m)\u001b[0m\u001b[0;34m\u001b[0m\u001b[0;34m\u001b[0m\u001b[0m\n\u001b[0;32m-> 1098\u001b[0;31m               \u001b[0mtmp_logs\u001b[0m \u001b[0;34m=\u001b[0m \u001b[0mtrain_function\u001b[0m\u001b[0;34m(\u001b[0m\u001b[0miterator\u001b[0m\u001b[0;34m)\u001b[0m\u001b[0;34m\u001b[0m\u001b[0;34m\u001b[0m\u001b[0m\n\u001b[0m\u001b[1;32m   1099\u001b[0m               \u001b[0;32mif\u001b[0m \u001b[0mdata_handler\u001b[0m\u001b[0;34m.\u001b[0m\u001b[0mshould_sync\u001b[0m\u001b[0;34m:\u001b[0m\u001b[0;34m\u001b[0m\u001b[0;34m\u001b[0m\u001b[0m\n\u001b[1;32m   1100\u001b[0m                 \u001b[0mcontext\u001b[0m\u001b[0;34m.\u001b[0m\u001b[0masync_wait\u001b[0m\u001b[0;34m(\u001b[0m\u001b[0;34m)\u001b[0m\u001b[0;34m\u001b[0m\u001b[0;34m\u001b[0m\u001b[0m\n",
      "\u001b[0;32m/opt/anaconda3/lib/python3.7/site-packages/tensorflow/python/eager/def_function.py\u001b[0m in \u001b[0;36m__call__\u001b[0;34m(self, *args, **kwds)\u001b[0m\n\u001b[1;32m    778\u001b[0m       \u001b[0;32melse\u001b[0m\u001b[0;34m:\u001b[0m\u001b[0;34m\u001b[0m\u001b[0;34m\u001b[0m\u001b[0m\n\u001b[1;32m    779\u001b[0m         \u001b[0mcompiler\u001b[0m \u001b[0;34m=\u001b[0m \u001b[0;34m\"nonXla\"\u001b[0m\u001b[0;34m\u001b[0m\u001b[0;34m\u001b[0m\u001b[0m\n\u001b[0;32m--> 780\u001b[0;31m         \u001b[0mresult\u001b[0m \u001b[0;34m=\u001b[0m \u001b[0mself\u001b[0m\u001b[0;34m.\u001b[0m\u001b[0m_call\u001b[0m\u001b[0;34m(\u001b[0m\u001b[0;34m*\u001b[0m\u001b[0margs\u001b[0m\u001b[0;34m,\u001b[0m \u001b[0;34m**\u001b[0m\u001b[0mkwds\u001b[0m\u001b[0;34m)\u001b[0m\u001b[0;34m\u001b[0m\u001b[0;34m\u001b[0m\u001b[0m\n\u001b[0m\u001b[1;32m    781\u001b[0m \u001b[0;34m\u001b[0m\u001b[0m\n\u001b[1;32m    782\u001b[0m       \u001b[0mnew_tracing_count\u001b[0m \u001b[0;34m=\u001b[0m \u001b[0mself\u001b[0m\u001b[0;34m.\u001b[0m\u001b[0m_get_tracing_count\u001b[0m\u001b[0;34m(\u001b[0m\u001b[0;34m)\u001b[0m\u001b[0;34m\u001b[0m\u001b[0;34m\u001b[0m\u001b[0m\n",
      "\u001b[0;32m/opt/anaconda3/lib/python3.7/site-packages/tensorflow/python/eager/def_function.py\u001b[0m in \u001b[0;36m_call\u001b[0;34m(self, *args, **kwds)\u001b[0m\n\u001b[1;32m    805\u001b[0m       \u001b[0;31m# In this case we have created variables on the first call, so we run the\u001b[0m\u001b[0;34m\u001b[0m\u001b[0;34m\u001b[0m\u001b[0;34m\u001b[0m\u001b[0m\n\u001b[1;32m    806\u001b[0m       \u001b[0;31m# defunned version which is guaranteed to never create variables.\u001b[0m\u001b[0;34m\u001b[0m\u001b[0;34m\u001b[0m\u001b[0;34m\u001b[0m\u001b[0m\n\u001b[0;32m--> 807\u001b[0;31m       \u001b[0;32mreturn\u001b[0m \u001b[0mself\u001b[0m\u001b[0;34m.\u001b[0m\u001b[0m_stateless_fn\u001b[0m\u001b[0;34m(\u001b[0m\u001b[0;34m*\u001b[0m\u001b[0margs\u001b[0m\u001b[0;34m,\u001b[0m \u001b[0;34m**\u001b[0m\u001b[0mkwds\u001b[0m\u001b[0;34m)\u001b[0m  \u001b[0;31m# pylint: disable=not-callable\u001b[0m\u001b[0;34m\u001b[0m\u001b[0;34m\u001b[0m\u001b[0m\n\u001b[0m\u001b[1;32m    808\u001b[0m     \u001b[0;32melif\u001b[0m \u001b[0mself\u001b[0m\u001b[0;34m.\u001b[0m\u001b[0m_stateful_fn\u001b[0m \u001b[0;32mis\u001b[0m \u001b[0;32mnot\u001b[0m \u001b[0;32mNone\u001b[0m\u001b[0;34m:\u001b[0m\u001b[0;34m\u001b[0m\u001b[0;34m\u001b[0m\u001b[0m\n\u001b[1;32m    809\u001b[0m       \u001b[0;31m# Release the lock early so that multiple threads can perform the call\u001b[0m\u001b[0;34m\u001b[0m\u001b[0;34m\u001b[0m\u001b[0;34m\u001b[0m\u001b[0m\n",
      "\u001b[0;32m/opt/anaconda3/lib/python3.7/site-packages/tensorflow/python/eager/function.py\u001b[0m in \u001b[0;36m__call__\u001b[0;34m(self, *args, **kwargs)\u001b[0m\n\u001b[1;32m   2827\u001b[0m     \u001b[0;32mwith\u001b[0m \u001b[0mself\u001b[0m\u001b[0;34m.\u001b[0m\u001b[0m_lock\u001b[0m\u001b[0;34m:\u001b[0m\u001b[0;34m\u001b[0m\u001b[0;34m\u001b[0m\u001b[0m\n\u001b[1;32m   2828\u001b[0m       \u001b[0mgraph_function\u001b[0m\u001b[0;34m,\u001b[0m \u001b[0margs\u001b[0m\u001b[0;34m,\u001b[0m \u001b[0mkwargs\u001b[0m \u001b[0;34m=\u001b[0m \u001b[0mself\u001b[0m\u001b[0;34m.\u001b[0m\u001b[0m_maybe_define_function\u001b[0m\u001b[0;34m(\u001b[0m\u001b[0margs\u001b[0m\u001b[0;34m,\u001b[0m \u001b[0mkwargs\u001b[0m\u001b[0;34m)\u001b[0m\u001b[0;34m\u001b[0m\u001b[0;34m\u001b[0m\u001b[0m\n\u001b[0;32m-> 2829\u001b[0;31m     \u001b[0;32mreturn\u001b[0m \u001b[0mgraph_function\u001b[0m\u001b[0;34m.\u001b[0m\u001b[0m_filtered_call\u001b[0m\u001b[0;34m(\u001b[0m\u001b[0margs\u001b[0m\u001b[0;34m,\u001b[0m \u001b[0mkwargs\u001b[0m\u001b[0;34m)\u001b[0m  \u001b[0;31m# pylint: disable=protected-access\u001b[0m\u001b[0;34m\u001b[0m\u001b[0;34m\u001b[0m\u001b[0m\n\u001b[0m\u001b[1;32m   2830\u001b[0m \u001b[0;34m\u001b[0m\u001b[0m\n\u001b[1;32m   2831\u001b[0m   \u001b[0;34m@\u001b[0m\u001b[0mproperty\u001b[0m\u001b[0;34m\u001b[0m\u001b[0;34m\u001b[0m\u001b[0m\n",
      "\u001b[0;32m/opt/anaconda3/lib/python3.7/site-packages/tensorflow/python/eager/function.py\u001b[0m in \u001b[0;36m_filtered_call\u001b[0;34m(self, args, kwargs, cancellation_manager)\u001b[0m\n\u001b[1;32m   1846\u001b[0m                            resource_variable_ops.BaseResourceVariable))],\n\u001b[1;32m   1847\u001b[0m         \u001b[0mcaptured_inputs\u001b[0m\u001b[0;34m=\u001b[0m\u001b[0mself\u001b[0m\u001b[0;34m.\u001b[0m\u001b[0mcaptured_inputs\u001b[0m\u001b[0;34m,\u001b[0m\u001b[0;34m\u001b[0m\u001b[0;34m\u001b[0m\u001b[0m\n\u001b[0;32m-> 1848\u001b[0;31m         cancellation_manager=cancellation_manager)\n\u001b[0m\u001b[1;32m   1849\u001b[0m \u001b[0;34m\u001b[0m\u001b[0m\n\u001b[1;32m   1850\u001b[0m   \u001b[0;32mdef\u001b[0m \u001b[0m_call_flat\u001b[0m\u001b[0;34m(\u001b[0m\u001b[0mself\u001b[0m\u001b[0;34m,\u001b[0m \u001b[0margs\u001b[0m\u001b[0;34m,\u001b[0m \u001b[0mcaptured_inputs\u001b[0m\u001b[0;34m,\u001b[0m \u001b[0mcancellation_manager\u001b[0m\u001b[0;34m=\u001b[0m\u001b[0;32mNone\u001b[0m\u001b[0;34m)\u001b[0m\u001b[0;34m:\u001b[0m\u001b[0;34m\u001b[0m\u001b[0;34m\u001b[0m\u001b[0m\n",
      "\u001b[0;32m/opt/anaconda3/lib/python3.7/site-packages/tensorflow/python/eager/function.py\u001b[0m in \u001b[0;36m_call_flat\u001b[0;34m(self, args, captured_inputs, cancellation_manager)\u001b[0m\n\u001b[1;32m   1922\u001b[0m       \u001b[0;31m# No tape is watching; skip to running the function.\u001b[0m\u001b[0;34m\u001b[0m\u001b[0;34m\u001b[0m\u001b[0;34m\u001b[0m\u001b[0m\n\u001b[1;32m   1923\u001b[0m       return self._build_call_outputs(self._inference_function.call(\n\u001b[0;32m-> 1924\u001b[0;31m           ctx, args, cancellation_manager=cancellation_manager))\n\u001b[0m\u001b[1;32m   1925\u001b[0m     forward_backward = self._select_forward_and_backward_functions(\n\u001b[1;32m   1926\u001b[0m         \u001b[0margs\u001b[0m\u001b[0;34m,\u001b[0m\u001b[0;34m\u001b[0m\u001b[0;34m\u001b[0m\u001b[0m\n",
      "\u001b[0;32m/opt/anaconda3/lib/python3.7/site-packages/tensorflow/python/eager/function.py\u001b[0m in \u001b[0;36mcall\u001b[0;34m(self, ctx, args, cancellation_manager)\u001b[0m\n\u001b[1;32m    548\u001b[0m               \u001b[0minputs\u001b[0m\u001b[0;34m=\u001b[0m\u001b[0margs\u001b[0m\u001b[0;34m,\u001b[0m\u001b[0;34m\u001b[0m\u001b[0;34m\u001b[0m\u001b[0m\n\u001b[1;32m    549\u001b[0m               \u001b[0mattrs\u001b[0m\u001b[0;34m=\u001b[0m\u001b[0mattrs\u001b[0m\u001b[0;34m,\u001b[0m\u001b[0;34m\u001b[0m\u001b[0;34m\u001b[0m\u001b[0m\n\u001b[0;32m--> 550\u001b[0;31m               ctx=ctx)\n\u001b[0m\u001b[1;32m    551\u001b[0m         \u001b[0;32melse\u001b[0m\u001b[0;34m:\u001b[0m\u001b[0;34m\u001b[0m\u001b[0;34m\u001b[0m\u001b[0m\n\u001b[1;32m    552\u001b[0m           outputs = execute.execute_with_cancellation(\n",
      "\u001b[0;32m/opt/anaconda3/lib/python3.7/site-packages/tensorflow/python/eager/execute.py\u001b[0m in \u001b[0;36mquick_execute\u001b[0;34m(op_name, num_outputs, inputs, attrs, ctx, name)\u001b[0m\n\u001b[1;32m     58\u001b[0m     \u001b[0mctx\u001b[0m\u001b[0;34m.\u001b[0m\u001b[0mensure_initialized\u001b[0m\u001b[0;34m(\u001b[0m\u001b[0;34m)\u001b[0m\u001b[0;34m\u001b[0m\u001b[0;34m\u001b[0m\u001b[0m\n\u001b[1;32m     59\u001b[0m     tensors = pywrap_tfe.TFE_Py_Execute(ctx._handle, device_name, op_name,\n\u001b[0;32m---> 60\u001b[0;31m                                         inputs, attrs, num_outputs)\n\u001b[0m\u001b[1;32m     61\u001b[0m   \u001b[0;32mexcept\u001b[0m \u001b[0mcore\u001b[0m\u001b[0;34m.\u001b[0m\u001b[0m_NotOkStatusException\u001b[0m \u001b[0;32mas\u001b[0m \u001b[0me\u001b[0m\u001b[0;34m:\u001b[0m\u001b[0;34m\u001b[0m\u001b[0;34m\u001b[0m\u001b[0m\n\u001b[1;32m     62\u001b[0m     \u001b[0;32mif\u001b[0m \u001b[0mname\u001b[0m \u001b[0;32mis\u001b[0m \u001b[0;32mnot\u001b[0m \u001b[0;32mNone\u001b[0m\u001b[0;34m:\u001b[0m\u001b[0;34m\u001b[0m\u001b[0;34m\u001b[0m\u001b[0m\n",
      "\u001b[0;31mKeyboardInterrupt\u001b[0m: "
     ]
    }
   ],
   "source": [
    "\n",
    "\n",
    "\n",
    "\n",
    "history = model.fit(X_train, y_train_class,         # Train the model using the training set...\n",
    "          batch_size=20, epochs=100,\n",
    "          verbose=1, validation_split=0.1,steps_per_epoch=250)  "
   ]
  },
  {
   "cell_type": "code",
   "execution_count": null,
   "metadata": {},
   "outputs": [],
   "source": [
    "# --------------------------------------\n",
    "# Evaluation\n",
    "# --------------------------------------\n",
    "for loss_name, loss_value in list(zip(model.metrics_names, model.evaluate(X_test, y_test_class, verbose=1))):\n",
    "    print('The final {} on the TEST set is: {:.2f}.'.format(loss_name, loss_value)) # Evaluate the trained model on the test set!\n",
    "\n",
    "# --------------------------------------\n",
    "# Loss functions evolution\n",
    "# --------------------------------------\n",
    "plt.plot(history.history['loss'])\n",
    "plt.plot(history.history['val_loss'])\n",
    "plt.title('Model loss by epoch')\n",
    "plt.ylabel('loss')\n",
    "plt.xlabel('epoch')\n",
    "plt.legend(['train', 'valid'], loc='right')\n",
    "plt.show()"
   ]
  },
  {
   "cell_type": "code",
   "execution_count": null,
   "metadata": {},
   "outputs": [],
   "source": [
    "#OvsRest\n",
    "from sklearn.multiclass import OneVsRestClassifier\n",
    "from sklearn.svm import SVC\n",
    "\n",
    "#poly & degree=11\n",
    "\n",
    "OvR_clf = OneVsRestClassifier(SVC(kernel='poly',degree=3),n_jobs=-1).fit(X_train, y_train_class)\n",
    "\n",
    "\n",
    "print(OvR_clf.score(X_test,y_test_class))"
   ]
  },
  {
   "cell_type": "code",
   "execution_count": null,
   "metadata": {},
   "outputs": [],
   "source": []
  },
  {
   "cell_type": "code",
   "execution_count": null,
   "metadata": {},
   "outputs": [],
   "source": [
    "# Random forest:\n",
    "\n",
    "\n",
    "from sklearn.ensemble import RandomForestClassifier\n",
    "\n",
    "\n",
    "rf2_clf = RandomForestClassifier(n_estimators=800,\n",
    "                                     criterion='gini', #{“gini”, “entropy”}\n",
    "                                     max_depth=100, #default=None\n",
    "                                     min_samples_split=2, #int or float, default=2\n",
    "                                     random_state=42,\n",
    "                                     max_features='auto',\n",
    "                                     bootstrap=True,\n",
    "                                     min_samples_leaf=1\n",
    "                                    )\n",
    "\n",
    "rf2_clf.fit(X_train, np.ravel(y_train_class))\n",
    "\n",
    "\n",
    "\n",
    "print(rf2_clf.score(X_test,y_test_class))\n",
    "\"\"\"\n",
    "{'estimator__n_estimators': 800, \n",
    " 'estimator__min_samples_split': 2, \n",
    " 'estimator__min_samples_leaf': 1, \n",
    " 'estimator__max_features': 'auto', \n",
    " 'estimator__max_depth': 100, \n",
    " 'estimator__bootstrap': True}\n",
    "\"\"\"\n",
    "\n"
   ]
  },
  {
   "cell_type": "code",
   "execution_count": 104,
   "metadata": {},
   "outputs": [],
   "source": [
    "def ViewClassResult(model,continuous=False):\n",
    "    if continuous:\n",
    "        y=model.predict(np.squeeze(X_test))\n",
    "        y_predicted = [np.argmax(pred) for pred in y]\n",
    "    else:\n",
    "        y_predicted=model.predict(np.squeeze(X_test))\n",
    "    \n",
    "    print(np.sum(y_predicted==y_test_class[:,0]),'/',len(y_predicted))\n",
    "    CM = confusion_matrix(y_test_class[:,0], y_predicted)\n",
    "    ConfusionMatrixDisplay(CM).plot()\n",
    "    \n",
    "def ShowFeatureImportances(model):\n",
    "    \"\"\"\n",
    "    Shows the feature importances for a given model\n",
    "    \"\"\"\n",
    "    importance = model.feature_importances_\n",
    "    for i,v in enumerate(importance):\n",
    "        print('Feature: %0d, Score: %.5f' % (i,v))\n",
    "\n",
    "    plt.bar([x for x in range(len(importance))], importance)\n",
    "    plt.show()"
   ]
  },
  {
   "cell_type": "code",
   "execution_count": 105,
   "metadata": {},
   "outputs": [
    {
     "ename": "NameError",
     "evalue": "name 'rf2_clf' is not defined",
     "output_type": "error",
     "traceback": [
      "\u001b[0;31m---------------------------------------------------------------------------\u001b[0m",
      "\u001b[0;31mNameError\u001b[0m                                 Traceback (most recent call last)",
      "\u001b[0;32m<ipython-input-105-e9786ef713e9>\u001b[0m in \u001b[0;36m<module>\u001b[0;34m\u001b[0m\n\u001b[0;32m----> 1\u001b[0;31m \u001b[0mViewClassResult\u001b[0m\u001b[0;34m(\u001b[0m\u001b[0mrf2_clf\u001b[0m\u001b[0;34m)\u001b[0m\u001b[0;34m\u001b[0m\u001b[0;34m\u001b[0m\u001b[0m\n\u001b[0m",
      "\u001b[0;31mNameError\u001b[0m: name 'rf2_clf' is not defined"
     ]
    }
   ],
   "source": [
    "ViewClassResult(rf2_clf)\n"
   ]
  },
  {
   "cell_type": "code",
   "execution_count": 106,
   "metadata": {},
   "outputs": [
    {
     "ename": "NameError",
     "evalue": "name 'OvR_clf' is not defined",
     "output_type": "error",
     "traceback": [
      "\u001b[0;31m---------------------------------------------------------------------------\u001b[0m",
      "\u001b[0;31mNameError\u001b[0m                                 Traceback (most recent call last)",
      "\u001b[0;32m<ipython-input-106-7ed47039cdbe>\u001b[0m in \u001b[0;36m<module>\u001b[0;34m\u001b[0m\n\u001b[0;32m----> 1\u001b[0;31m \u001b[0mViewClassResult\u001b[0m\u001b[0;34m(\u001b[0m\u001b[0mOvR_clf\u001b[0m\u001b[0;34m)\u001b[0m\u001b[0;34m\u001b[0m\u001b[0;34m\u001b[0m\u001b[0m\n\u001b[0m",
      "\u001b[0;31mNameError\u001b[0m: name 'OvR_clf' is not defined"
     ]
    }
   ],
   "source": [
    "ViewClassResult(OvR_clf)"
   ]
  },
  {
   "cell_type": "code",
   "execution_count": null,
   "metadata": {},
   "outputs": [],
   "source": [
    "ViewClassResult(model,continuous=True)"
   ]
  },
  {
   "cell_type": "code",
   "execution_count": null,
   "metadata": {},
   "outputs": [],
   "source": []
  }
 ],
 "metadata": {
  "kernelspec": {
   "display_name": "Python 3",
   "language": "python",
   "name": "python3"
  },
  "language_info": {
   "codemirror_mode": {
    "name": "ipython",
    "version": 3
   },
   "file_extension": ".py",
   "mimetype": "text/x-python",
   "name": "python",
   "nbconvert_exporter": "python",
   "pygments_lexer": "ipython3",
   "version": "3.7.4"
  }
 },
 "nbformat": 4,
 "nbformat_minor": 5
}
