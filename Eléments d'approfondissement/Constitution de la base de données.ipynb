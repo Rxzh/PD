{
 "cells": [
  {
   "cell_type": "markdown",
   "id": "f0d19787",
   "metadata": {},
   "source": [
    "Les données sont extraites de Bloom. Cependant, nous ne pouvons pas récupérer simultanément les données sur les ratios financiers et les prix des bonds. Il faut récupérer les deux bases de données et les *join* ensuite. \n"
   ]
  },
  {
   "cell_type": "markdown",
   "id": "246fedec",
   "metadata": {},
   "source": [
    "**Extraction des données sur Bloom - démarche :**\n",
    "\n",
    "1. **Données ratios financiers. Se mettre à la date de la veille**. Renseigner les critères (EUR, Corporate, date de maturité (partition des bonds selon la date de maturité, choisir la date du dernier bond extrait précédemment), afficher les résultats (seulement 5.000 de visibles). Rajouter les colonnes de variables explicatives intéressantes. Nécessité de garder les colonnes Coupon et Maturity pour le calcul de la PD. Trier selon la date de maturité (croissante), importer sur un doc excel. \n",
    "\n",
    "2. Récupérer le Reference Security, qui sera la clé entre les deux datasets. Pour cela sélectionner l'ensemble des bonds, puis \"copy selection\" et coller à l'excel. Rajoute une nouvelle colonne. \n",
    "\n",
    "3. **Données prix. Se mettre à la date du jour.** Aller dans IMGR. Les bonds affichés ont les mêmes critères que ceux donnés dans 1. Trier selon la maturité croissante, importer sur excel. \n",
    "\n",
    "4. Refaire en changeant la date de maturité dans les critères pour parcourir les bonds.\n",
    "\n",
    "5. Sur les tableaux excels : changer les \"--\" en \"\" (valeurs manquantes) et \",\" en \".\"\n",
    "\n"
   ]
  },
  {
   "cell_type": "code",
   "execution_count": 2,
   "id": "f5d65f13",
   "metadata": {},
   "outputs": [],
   "source": [
    "import pandas as pd \n",
    "import matplotlib.pyplot as plt\n",
    "from datetime import datetime, timedelta"
   ]
  },
  {
   "cell_type": "markdown",
   "id": "f0edce10",
   "metadata": {},
   "source": [
    "# Join des datasets "
   ]
  },
  {
   "cell_type": "markdown",
   "id": "31ae29d2",
   "metadata": {},
   "source": [
    "Deux datasets en entrée : \n",
    "\n",
    "$-$ dataset sur les caractéristiques des bonds et des entreprises \n",
    "\n",
    "$-$ dataset du prix, lequel permet de calculer la probabilité de défaut par l'algo annexe\n",
    "\n",
    "**Le but :** les rejoindre en un dataset, qui a notamment comme argument *prix* et *maturité* afin de calculer la probabilité de défaut. "
   ]
  },
  {
   "cell_type": "markdown",
   "id": "b6e9a5ad",
   "metadata": {},
   "source": [
    "*dataset prix*"
   ]
  },
  {
   "cell_type": "code",
   "execution_count": 4,
   "id": "28147895",
   "metadata": {},
   "outputs": [],
   "source": [
    "prix = pd.read_csv(\"C:/Users/mathilde.binet/Desktop/PIF/1208/main_prices.csv\", sep = \";\")\n",
    "prix = prix[[\"Reference Security\",\"Bid Price\", \"Ask Price\"]]"
   ]
  },
  {
   "cell_type": "code",
   "execution_count": 5,
   "id": "595dcb42",
   "metadata": {},
   "outputs": [],
   "source": [
    "def mid_price(row) : \n",
    "    bid = row['Bid Price']\n",
    "    ask = row['Ask Price']\n",
    "    return (bid+ask)/2 \n",
    "\n",
    "prix[\"Mid Price\"] = prix.apply(mid_price, axis=1) "
   ]
  },
  {
   "cell_type": "code",
   "execution_count": 7,
   "id": "1b79918b",
   "metadata": {},
   "outputs": [
    {
     "data": {
      "text/html": [
       "<div>\n",
       "<style scoped>\n",
       "    .dataframe tbody tr th:only-of-type {\n",
       "        vertical-align: middle;\n",
       "    }\n",
       "\n",
       "    .dataframe tbody tr th {\n",
       "        vertical-align: top;\n",
       "    }\n",
       "\n",
       "    .dataframe thead th {\n",
       "        text-align: right;\n",
       "    }\n",
       "</style>\n",
       "<table border=\"1\" class=\"dataframe\">\n",
       "  <thead>\n",
       "    <tr style=\"text-align: right;\">\n",
       "      <th></th>\n",
       "      <th>Reference Security</th>\n",
       "      <th>Bid Price</th>\n",
       "      <th>Ask Price</th>\n",
       "      <th>Mid Price</th>\n",
       "    </tr>\n",
       "  </thead>\n",
       "  <tbody>\n",
       "    <tr>\n",
       "      <th>0</th>\n",
       "      <td>BP432479 Corp</td>\n",
       "      <td>101.651</td>\n",
       "      <td>102.311</td>\n",
       "      <td>101.981</td>\n",
       "    </tr>\n",
       "    <tr>\n",
       "      <th>1</th>\n",
       "      <td>BP486833 Corp</td>\n",
       "      <td>101.375</td>\n",
       "      <td>102.875</td>\n",
       "      <td>102.125</td>\n",
       "    </tr>\n",
       "    <tr>\n",
       "      <th>2</th>\n",
       "      <td>EJ102177 Corp</td>\n",
       "      <td>102.240</td>\n",
       "      <td>102.660</td>\n",
       "      <td>102.450</td>\n",
       "    </tr>\n",
       "    <tr>\n",
       "      <th>3</th>\n",
       "      <td>EK150567 Corp</td>\n",
       "      <td>105.611</td>\n",
       "      <td>105.767</td>\n",
       "      <td>105.689</td>\n",
       "    </tr>\n",
       "    <tr>\n",
       "      <th>4</th>\n",
       "      <td>AP137335 Corp</td>\n",
       "      <td>106.301</td>\n",
       "      <td>106.751</td>\n",
       "      <td>106.526</td>\n",
       "    </tr>\n",
       "  </tbody>\n",
       "</table>\n",
       "</div>"
      ],
      "text/plain": [
       "  Reference Security  Bid Price  Ask Price  Mid Price\n",
       "0      BP432479 Corp    101.651    102.311    101.981\n",
       "1      BP486833 Corp    101.375    102.875    102.125\n",
       "2      EJ102177 Corp    102.240    102.660    102.450\n",
       "3      EK150567 Corp    105.611    105.767    105.689\n",
       "4      AP137335 Corp    106.301    106.751    106.526"
      ]
     },
     "execution_count": 7,
     "metadata": {},
     "output_type": "execute_result"
    }
   ],
   "source": [
    "prix.head()"
   ]
  },
  {
   "cell_type": "markdown",
   "id": "86facce0",
   "metadata": {},
   "source": [
    "*dataset ratios financiers*"
   ]
  },
  {
   "cell_type": "code",
   "execution_count": 8,
   "id": "2949547d",
   "metadata": {},
   "outputs": [],
   "source": [
    "bonds = pd.read_csv(\"C:/Users/mathilde.binet/Desktop/PIF/1208/main_ratios.csv\", sep = \";\")"
   ]
  },
  {
   "cell_type": "code",
   "execution_count": 10,
   "id": "f5cbded3",
   "metadata": {},
   "outputs": [],
   "source": [
    "#bonds.rename(columns={'Reference':'Reference Security'}, inplace=True)\n",
    "bonds = bonds.drop(columns=['Issuer Name','Issue Price','ISIN','Issue Date','Par Amt'])"
   ]
  },
  {
   "cell_type": "code",
   "execution_count": 12,
   "id": "2f29c57a",
   "metadata": {},
   "outputs": [
    {
     "data": {
      "text/html": [
       "<div>\n",
       "<style scoped>\n",
       "    .dataframe tbody tr th:only-of-type {\n",
       "        vertical-align: middle;\n",
       "    }\n",
       "\n",
       "    .dataframe tbody tr th {\n",
       "        vertical-align: top;\n",
       "    }\n",
       "\n",
       "    .dataframe thead th {\n",
       "        text-align: right;\n",
       "    }\n",
       "</style>\n",
       "<table border=\"1\" class=\"dataframe\">\n",
       "  <thead>\n",
       "    <tr style=\"text-align: right;\">\n",
       "      <th></th>\n",
       "      <th>Cpn</th>\n",
       "      <th>Maturity</th>\n",
       "      <th>Common Eqty / Tot Assets</th>\n",
       "      <th>Debt/EBITDA</th>\n",
       "      <th>EBITDA</th>\n",
       "      <th>Earnings Assets / Int Bear Liab</th>\n",
       "      <th>Debt / Common Equity</th>\n",
       "      <th>BCLASS Level 3</th>\n",
       "      <th>TCE Ratio</th>\n",
       "      <th>Interest Coverage Ratio</th>\n",
       "      <th>Risk-Based Cap Ratio</th>\n",
       "      <th>Lev Ratio to TCE</th>\n",
       "      <th>Tier-1 Ratio</th>\n",
       "      <th>Tot Debt / Tot Capital</th>\n",
       "      <th>Reference Security</th>\n",
       "    </tr>\n",
       "  </thead>\n",
       "  <tbody>\n",
       "    <tr>\n",
       "      <th>0</th>\n",
       "      <td>0.00</td>\n",
       "      <td>09/02/2021</td>\n",
       "      <td>12.25730</td>\n",
       "      <td>NaN</td>\n",
       "      <td>NaN</td>\n",
       "      <td>172.981</td>\n",
       "      <td>138.092</td>\n",
       "      <td>Banking</td>\n",
       "      <td>12.09410</td>\n",
       "      <td>NaN</td>\n",
       "      <td>16.01</td>\n",
       "      <td>NaN</td>\n",
       "      <td>NaN</td>\n",
       "      <td>57.0649</td>\n",
       "      <td>BO222253 Corp</td>\n",
       "    </tr>\n",
       "    <tr>\n",
       "      <th>1</th>\n",
       "      <td>8.00</td>\n",
       "      <td>09/02/2021</td>\n",
       "      <td>NaN</td>\n",
       "      <td>NaN</td>\n",
       "      <td>NaN</td>\n",
       "      <td>NaN</td>\n",
       "      <td>NaN</td>\n",
       "      <td>Other Financial</td>\n",
       "      <td>NaN</td>\n",
       "      <td>NaN</td>\n",
       "      <td>NaN</td>\n",
       "      <td>NaN</td>\n",
       "      <td>NaN</td>\n",
       "      <td>NaN</td>\n",
       "      <td>EJ087566 Corp</td>\n",
       "    </tr>\n",
       "    <tr>\n",
       "      <th>2</th>\n",
       "      <td>0.00</td>\n",
       "      <td>09/02/2021</td>\n",
       "      <td>NaN</td>\n",
       "      <td>NaN</td>\n",
       "      <td>NaN</td>\n",
       "      <td>NaN</td>\n",
       "      <td>NaN</td>\n",
       "      <td>Other Financial</td>\n",
       "      <td>NaN</td>\n",
       "      <td>NaN</td>\n",
       "      <td>NaN</td>\n",
       "      <td>NaN</td>\n",
       "      <td>NaN</td>\n",
       "      <td>NaN</td>\n",
       "      <td>EJ087518 Corp</td>\n",
       "    </tr>\n",
       "    <tr>\n",
       "      <th>3</th>\n",
       "      <td>15.00</td>\n",
       "      <td>09/02/2021</td>\n",
       "      <td>NaN</td>\n",
       "      <td>NaN</td>\n",
       "      <td>NaN</td>\n",
       "      <td>NaN</td>\n",
       "      <td>NaN</td>\n",
       "      <td>Other Financial</td>\n",
       "      <td>NaN</td>\n",
       "      <td>NaN</td>\n",
       "      <td>NaN</td>\n",
       "      <td>NaN</td>\n",
       "      <td>NaN</td>\n",
       "      <td>NaN</td>\n",
       "      <td>ZR911049 Corp</td>\n",
       "    </tr>\n",
       "    <tr>\n",
       "      <th>4</th>\n",
       "      <td>9.39</td>\n",
       "      <td>09/02/2021</td>\n",
       "      <td>6.11747</td>\n",
       "      <td>NaN</td>\n",
       "      <td>NaN</td>\n",
       "      <td>NaN</td>\n",
       "      <td>659.527</td>\n",
       "      <td>Local Authority</td>\n",
       "      <td>6.03849</td>\n",
       "      <td>NaN</td>\n",
       "      <td>15.80</td>\n",
       "      <td>7.7</td>\n",
       "      <td>NaN</td>\n",
       "      <td>86.8339</td>\n",
       "      <td>ZO186898 Corp</td>\n",
       "    </tr>\n",
       "  </tbody>\n",
       "</table>\n",
       "</div>"
      ],
      "text/plain": [
       "     Cpn    Maturity  Common Eqty / Tot Assets  Debt/EBITDA  EBITDA  \\\n",
       "0   0.00  09/02/2021                  12.25730          NaN     NaN   \n",
       "1   8.00  09/02/2021                       NaN          NaN     NaN   \n",
       "2   0.00  09/02/2021                       NaN          NaN     NaN   \n",
       "3  15.00  09/02/2021                       NaN          NaN     NaN   \n",
       "4   9.39  09/02/2021                   6.11747          NaN     NaN   \n",
       "\n",
       "   Earnings Assets / Int Bear Liab  Debt / Common Equity   BCLASS Level 3  \\\n",
       "0                          172.981               138.092          Banking   \n",
       "1                              NaN                   NaN  Other Financial   \n",
       "2                              NaN                   NaN  Other Financial   \n",
       "3                              NaN                   NaN  Other Financial   \n",
       "4                              NaN               659.527  Local Authority   \n",
       "\n",
       "   TCE Ratio  Interest Coverage Ratio  Risk-Based Cap Ratio  Lev Ratio to TCE  \\\n",
       "0   12.09410                      NaN                 16.01               NaN   \n",
       "1        NaN                      NaN                   NaN               NaN   \n",
       "2        NaN                      NaN                   NaN               NaN   \n",
       "3        NaN                      NaN                   NaN               NaN   \n",
       "4    6.03849                      NaN                 15.80               7.7   \n",
       "\n",
       "   Tier-1 Ratio  Tot Debt / Tot Capital Reference Security  \n",
       "0           NaN                 57.0649      BO222253 Corp  \n",
       "1           NaN                     NaN      EJ087566 Corp  \n",
       "2           NaN                     NaN      EJ087518 Corp  \n",
       "3           NaN                     NaN      ZR911049 Corp  \n",
       "4           NaN                 86.8339      ZO186898 Corp  "
      ]
     },
     "execution_count": 12,
     "metadata": {},
     "output_type": "execute_result"
    }
   ],
   "source": [
    "bonds.head()"
   ]
  },
  {
   "cell_type": "markdown",
   "id": "ec8c6050",
   "metadata": {},
   "source": [
    "*Merge*"
   ]
  },
  {
   "cell_type": "code",
   "execution_count": 13,
   "id": "b71e667a",
   "metadata": {},
   "outputs": [],
   "source": [
    "df = pd.merge(prix, bonds, how='inner', on = 'Reference Security')"
   ]
  },
  {
   "cell_type": "markdown",
   "id": "924be237",
   "metadata": {},
   "source": [
    "------------------- \n",
    "\n",
    "**Choix de la date de maturité de départ (début du parcours des bonds), élements de réflexion :**"
   ]
  },
  {
   "cell_type": "code",
   "execution_count": 15,
   "id": "830cadad",
   "metadata": {},
   "outputs": [],
   "source": [
    "from datetime import datetime, timedelta\n",
    "\n",
    "def date_delta(row) : \n",
    "    day = row[\"Maturity\"]\n",
    "    delta = pd.to_datetime(day, format='%m/%d/%Y') - datetime.strptime('07/29/2021','%m/%d/%Y')\n",
    "    return delta.dt.days"
   ]
  },
  {
   "cell_type": "code",
   "execution_count": 21,
   "id": "7e8e2be9",
   "metadata": {},
   "outputs": [
    {
     "data": {
      "image/png": "[encoded data removed]",
      "text/plain": [
       "<Figure size 432x288 with 1 Axes>"
      ]
     },
     "metadata": {
      "needs_background": "light"
     },
     "output_type": "display_data"
    },
    {
     "data": {
      "image/png": "[encoded data removed]",
      "text/plain": [
       "<Figure size 432x288 with 1 Axes>"
      ]
     },
     "metadata": {
      "needs_background": "light"
     },
     "output_type": "display_data"
    }
   ],
   "source": [
    "plt.hist(date_delta(bonds))\n",
    "plt.xlabel(\"Nombre de jours d'ici la maturité\")\n",
    "plt.title('Histogramme de la maturité - dataset BONDS')\n",
    "plt.show()\n",
    "\n",
    "plt.hist(date_delta(df))\n",
    "plt.xlabel(\"Nombre de jours d'ici la maturité\")\n",
    "plt.title('Histogramme de la maturité - dataset JOIN')\n",
    "plt.show()"
   ]
  },
  {
   "cell_type": "markdown",
   "id": "1f69e0cc",
   "metadata": {},
   "source": [
    "La démarche à condition qu'on retrouve les mêmes bonds dans le dataset de prix et de ratios financiers. Cela n'est pas forcèment le cas car on ne regarde pas au même jour (le prix à la date du jour, les ratios à la veille). Les deux histogrammes ci-dessus comparent les distributions des bonds que l'on a récupéré et de ceux issus du join (bonds présents dans les deux bases). \n",
    "\n",
    "On voit que pour les bonds proches de la maturité les datasets ne se rejoignent pas. A moyen terme (2024), les deux datasets contiennent les mêmes bonds. Il est intéressant d'importer les bonds à partir de quelques années pour pouvoir join les deux datasets. "
   ]
  },
  {
   "cell_type": "markdown",
   "id": "84196cf7",
   "metadata": {},
   "source": [
    "# Rajouter des colonnes"
   ]
  },
  {
   "cell_type": "code",
   "execution_count": null,
   "id": "d91f177a",
   "metadata": {},
   "outputs": [],
   "source": [
    "#FAIRE DES JOIN SELON LA MODALITE DE \"REFERENCE SECURITY\"\n",
    "df = pd.read_csv(\"C:/Users/mathilde.binet/Documents/GitHub/PD/market_data_pd.csv\", sep = \";\")"
   ]
  },
  {
   "cell_type": "code",
   "execution_count": null,
   "id": "05767386",
   "metadata": {},
   "outputs": [],
   "source": [
    "#sector = base avec la nouvelle variable et reference security"
   ]
  },
  {
   "cell_type": "code",
   "execution_count": null,
   "id": "e7bc8a7f",
   "metadata": {},
   "outputs": [],
   "source": [
    "df = pd.merge(df, sector, how='left', on = 'Reference Security')"
   ]
  },
  {
   "cell_type": "code",
   "execution_count": null,
   "id": "d3bde222",
   "metadata": {},
   "outputs": [],
   "source": [
    "df.to_csv('C:/Users/mathilde.binet/Documents/GitHub/PD/market_data_pd.csv')"
   ]
  }
 ],
 "metadata": {
  "kernelspec": {
   "display_name": "Python 3",
   "language": "python",
   "name": "python3"
  },
  "language_info": {
   "codemirror_mode": {
    "name": "ipython",
    "version": 3
   },
   "file_extension": ".py",
   "mimetype": "text/x-python",
   "name": "python",
   "nbconvert_exporter": "python",
   "pygments_lexer": "ipython3",
   "version": "3.8.8"
  }
 },
 "nbformat": 4,
 "nbformat_minor": 5
}
