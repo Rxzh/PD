{
 "cells": [
  {
   "cell_type": "markdown",
   "id": "2ea1c99e",
   "metadata": {},
   "source": [
    "**Contexte du notebook :** Etudier l'impact d'une caractéristique du bond sur sa probabilité de défaut. \n",
    "\n",
    "$-$ comment chacune des caractéristiques influe sur la PD ? \n",
    "\n",
    "$-$ tracage du graphe de sensibilité de la PD selon les caractéristiques du bond : faire varier un des paramètres en laissant les autres fixés. "
   ]
  },
  {
   "cell_type": "code",
   "execution_count": 1,
   "id": "5e607d64",
   "metadata": {},
   "outputs": [],
   "source": [
    "import extraction_PD\n",
    "\n",
    "import pandas as pd\n",
    "import numpy as np\n",
    "from datetime import datetime, timedelta\n",
    "from dateutil.relativedelta import relativedelta\n",
    "import matplotlib.pyplot as plt"
   ]
  },
  {
   "cell_type": "markdown",
   "id": "9c63b651",
   "metadata": {},
   "source": [
    "# I. Choix d'un bond \"représentatif\""
   ]
  },
  {
   "cell_type": "code",
   "execution_count": 2,
   "id": "2fd8c828",
   "metadata": {},
   "outputs": [],
   "source": [
    "bonds = pd.read_csv('market_data_pd.csv', sep = \";\")\n",
    "bonds = bonds[[\"PD_1y\",\"Mid Price\",\"Maturity\",\"Cpn\"]]"
   ]
  },
  {
   "cell_type": "code",
   "execution_count": 4,
   "id": "cc2fd3c9",
   "metadata": {},
   "outputs": [
    {
     "data": {
      "text/html": [
       "<div>\n",
       "<style scoped>\n",
       "    .dataframe tbody tr th:only-of-type {\n",
       "        vertical-align: middle;\n",
       "    }\n",
       "\n",
       "    .dataframe tbody tr th {\n",
       "        vertical-align: top;\n",
       "    }\n",
       "\n",
       "    .dataframe thead th {\n",
       "        text-align: right;\n",
       "    }\n",
       "</style>\n",
       "<table border=\"1\" class=\"dataframe\">\n",
       "  <thead>\n",
       "    <tr style=\"text-align: right;\">\n",
       "      <th></th>\n",
       "      <th>PD_1y</th>\n",
       "      <th>Mid Price</th>\n",
       "      <th>Maturity</th>\n",
       "      <th>Cpn</th>\n",
       "    </tr>\n",
       "  </thead>\n",
       "  <tbody>\n",
       "    <tr>\n",
       "      <th>0</th>\n",
       "      <td>0.053266</td>\n",
       "      <td>100.0920</td>\n",
       "      <td>09/13/2021</td>\n",
       "      <td>0.50</td>\n",
       "    </tr>\n",
       "    <tr>\n",
       "      <th>1</th>\n",
       "      <td>0.068537</td>\n",
       "      <td>101.7790</td>\n",
       "      <td>05/19/2026</td>\n",
       "      <td>4.25</td>\n",
       "    </tr>\n",
       "    <tr>\n",
       "      <th>2</th>\n",
       "      <td>0.119209</td>\n",
       "      <td>101.8750</td>\n",
       "      <td>05/19/2027</td>\n",
       "      <td>8.00</td>\n",
       "    </tr>\n",
       "    <tr>\n",
       "      <th>3</th>\n",
       "      <td>0.030968</td>\n",
       "      <td>102.5805</td>\n",
       "      <td>03/28/2022</td>\n",
       "      <td>3.50</td>\n",
       "    </tr>\n",
       "    <tr>\n",
       "      <th>4</th>\n",
       "      <td>0.016911</td>\n",
       "      <td>105.8075</td>\n",
       "      <td>04/03/2023</td>\n",
       "      <td>3.25</td>\n",
       "    </tr>\n",
       "  </tbody>\n",
       "</table>\n",
       "</div>"
      ],
      "text/plain": [
       "      PD_1y  Mid Price    Maturity   Cpn\n",
       "0  0.053266   100.0920  09/13/2021  0.50\n",
       "1  0.068537   101.7790  05/19/2026  4.25\n",
       "2  0.119209   101.8750  05/19/2027  8.00\n",
       "3  0.030968   102.5805  03/28/2022  3.50\n",
       "4  0.016911   105.8075  04/03/2023  3.25"
      ]
     },
     "execution_count": 4,
     "metadata": {},
     "output_type": "execute_result"
    }
   ],
   "source": [
    "bonds.head()"
   ]
  },
  {
   "cell_type": "code",
   "execution_count": 5,
   "id": "6bc6b71a",
   "metadata": {},
   "outputs": [
    {
     "name": "stdout",
     "output_type": "stream",
     "text": [
      "0.0171582287545318\n",
      "102.923\n",
      "1.625\n"
     ]
    }
   ],
   "source": [
    "print(bonds[\"PD_1y\"].median())\n",
    "print(bonds[\"Mid Price\"].median())\n",
    "#bonds[\"Maturity\"].median()\n",
    "print(bonds[\"Cpn\"].median())"
   ]
  },
  {
   "cell_type": "code",
   "execution_count": 6,
   "id": "07d53c1f",
   "metadata": {},
   "outputs": [
    {
     "data": {
      "text/html": [
       "<div>\n",
       "<style scoped>\n",
       "    .dataframe tbody tr th:only-of-type {\n",
       "        vertical-align: middle;\n",
       "    }\n",
       "\n",
       "    .dataframe tbody tr th {\n",
       "        vertical-align: top;\n",
       "    }\n",
       "\n",
       "    .dataframe thead th {\n",
       "        text-align: right;\n",
       "    }\n",
       "</style>\n",
       "<table border=\"1\" class=\"dataframe\">\n",
       "  <thead>\n",
       "    <tr style=\"text-align: right;\">\n",
       "      <th></th>\n",
       "      <th>PD_1y</th>\n",
       "      <th>Mid Price</th>\n",
       "      <th>Maturity</th>\n",
       "      <th>Cpn</th>\n",
       "    </tr>\n",
       "  </thead>\n",
       "  <tbody>\n",
       "    <tr>\n",
       "      <th>154</th>\n",
       "      <td>0.016948</td>\n",
       "      <td>106.424</td>\n",
       "      <td>06/08/2027</td>\n",
       "      <td>1.625</td>\n",
       "    </tr>\n",
       "  </tbody>\n",
       "</table>\n",
       "</div>"
      ],
      "text/plain": [
       "        PD_1y  Mid Price    Maturity    Cpn\n",
       "154  0.016948    106.424  06/08/2027  1.625"
      ]
     },
     "execution_count": 6,
     "metadata": {},
     "output_type": "execute_result"
    }
   ],
   "source": [
    "a = bonds[bonds[\"PD_1y\"] < bonds[\"PD_1y\"].median() * 1.02]\n",
    "b = a[a[\"PD_1y\"] > bonds[\"PD_1y\"].median() * 0.98]\n",
    "c = b[b[\"Mid Price\"] > bonds[\"Mid Price\"].median() * 0.95]\n",
    "d = c[c[\"Mid Price\"] < bonds[\"Mid Price\"].median() * 1.15]\n",
    "e = d[d[\"Cpn\"] < bonds[\"Cpn\"].median() * 1.15]\n",
    "df = e[e[\"Cpn\"] > bonds[\"Cpn\"].median() * 0.95]\n",
    "df\n",
    "\n",
    "#donne un bond \"médian\" = dont les caractéristiques sont proches de la médiane, pas de valeurs extrêmes"
   ]
  },
  {
   "cell_type": "markdown",
   "id": "c7cb26c8",
   "metadata": {},
   "source": [
    "# II. Variation des paramètres "
   ]
  },
  {
   "cell_type": "code",
   "execution_count": 7,
   "id": "df455070",
   "metadata": {},
   "outputs": [
    {
     "name": "stderr",
     "output_type": "stream",
     "text": [
      "<ipython-input-7-e3822272cbb7>:1: SettingWithCopyWarning: \n",
      "A value is trying to be set on a copy of a slice from a DataFrame.\n",
      "Try using .loc[row_indexer,col_indexer] = value instead\n",
      "\n",
      "See the caveats in the documentation: https://pandas.pydata.org/pandas-docs/stable/user_guide/indexing.html#returning-a-view-versus-a-copy\n",
      "  df[\"Change\"] = \"initial\"\n"
     ]
    },
    {
     "data": {
      "text/html": [
       "<div>\n",
       "<style scoped>\n",
       "    .dataframe tbody tr th:only-of-type {\n",
       "        vertical-align: middle;\n",
       "    }\n",
       "\n",
       "    .dataframe tbody tr th {\n",
       "        vertical-align: top;\n",
       "    }\n",
       "\n",
       "    .dataframe thead th {\n",
       "        text-align: right;\n",
       "    }\n",
       "</style>\n",
       "<table border=\"1\" class=\"dataframe\">\n",
       "  <thead>\n",
       "    <tr style=\"text-align: right;\">\n",
       "      <th></th>\n",
       "      <th>Mid Price</th>\n",
       "      <th>Maturity</th>\n",
       "      <th>Cpn</th>\n",
       "      <th>Change</th>\n",
       "    </tr>\n",
       "  </thead>\n",
       "  <tbody>\n",
       "    <tr>\n",
       "      <th>0</th>\n",
       "      <td>106.424</td>\n",
       "      <td>06/08/2027</td>\n",
       "      <td>1.625</td>\n",
       "      <td>initial</td>\n",
       "    </tr>\n",
       "  </tbody>\n",
       "</table>\n",
       "</div>"
      ],
      "text/plain": [
       "   Mid Price    Maturity    Cpn   Change\n",
       "0    106.424  06/08/2027  1.625  initial"
      ]
     },
     "execution_count": 7,
     "metadata": {},
     "output_type": "execute_result"
    }
   ],
   "source": [
    "df[\"Change\"] = \"initial\"\n",
    "df = df.reset_index()\n",
    "df = df.drop(columns=['PD_1y','index'])\n",
    "df"
   ]
  },
  {
   "cell_type": "code",
   "execution_count": 8,
   "id": "0ffe45df",
   "metadata": {},
   "outputs": [],
   "source": [
    "#prix \n",
    "\n",
    "for i in range(-2000,2000) : \n",
    "    df = df.append({'Mid Price': 106.424 + i / 100 ,\n",
    "               'Maturity': \"06/08/2027\",\n",
    "               'Cpn': 1.625,\n",
    "               'Change':\"prix\"}, \n",
    "                ignore_index=True)\n",
    "    \n",
    "#pas optimal sur la complexité"
   ]
  },
  {
   "cell_type": "code",
   "execution_count": 9,
   "id": "5b8fc093",
   "metadata": {},
   "outputs": [],
   "source": [
    "#coupon \n",
    "\n",
    "for i in range(5000) : \n",
    "    df = df.append({'Mid Price': 106.424 ,\n",
    "               'Maturity': \"06/08/2027\",\n",
    "               'Cpn': i / 100,\n",
    "               'Change':\"coupon\"}, \n",
    "                ignore_index=True)"
   ]
  },
  {
   "cell_type": "code",
   "execution_count": 10,
   "id": "59728a59",
   "metadata": {},
   "outputs": [],
   "source": [
    "#maturité \n",
    "\n",
    "for i in range (-2000,13000) : \n",
    "    date_new = datetime.strptime('06/08/2027','%m/%d/%Y') + timedelta(days=i)\n",
    "    date_new_str = str(date_new.month) + '/' + str(date_new.day) + '/' + str(date_new.year)\n",
    "    df = df.append({'Mid Price': 106.424 ,\n",
    "               'Maturity': date_new_str,\n",
    "               'Cpn': 1.625,\n",
    "               'Change':\"maturity\"}, \n",
    "                ignore_index=True)"
   ]
  },
  {
   "cell_type": "code",
   "execution_count": 11,
   "id": "91c7ed34",
   "metadata": {},
   "outputs": [
    {
     "data": {
      "text/html": [
       "<div>\n",
       "<style scoped>\n",
       "    .dataframe tbody tr th:only-of-type {\n",
       "        vertical-align: middle;\n",
       "    }\n",
       "\n",
       "    .dataframe tbody tr th {\n",
       "        vertical-align: top;\n",
       "    }\n",
       "\n",
       "    .dataframe thead th {\n",
       "        text-align: right;\n",
       "    }\n",
       "</style>\n",
       "<table border=\"1\" class=\"dataframe\">\n",
       "  <thead>\n",
       "    <tr style=\"text-align: right;\">\n",
       "      <th></th>\n",
       "      <th>Mid Price</th>\n",
       "      <th>Maturity</th>\n",
       "      <th>Cpn</th>\n",
       "      <th>Change</th>\n",
       "    </tr>\n",
       "  </thead>\n",
       "  <tbody>\n",
       "    <tr>\n",
       "      <th>0</th>\n",
       "      <td>106.424</td>\n",
       "      <td>06/08/2027</td>\n",
       "      <td>1.625</td>\n",
       "      <td>initial</td>\n",
       "    </tr>\n",
       "    <tr>\n",
       "      <th>1</th>\n",
       "      <td>86.424</td>\n",
       "      <td>06/08/2027</td>\n",
       "      <td>1.625</td>\n",
       "      <td>prix</td>\n",
       "    </tr>\n",
       "    <tr>\n",
       "      <th>2</th>\n",
       "      <td>86.434</td>\n",
       "      <td>06/08/2027</td>\n",
       "      <td>1.625</td>\n",
       "      <td>prix</td>\n",
       "    </tr>\n",
       "    <tr>\n",
       "      <th>3</th>\n",
       "      <td>86.444</td>\n",
       "      <td>06/08/2027</td>\n",
       "      <td>1.625</td>\n",
       "      <td>prix</td>\n",
       "    </tr>\n",
       "    <tr>\n",
       "      <th>4</th>\n",
       "      <td>86.454</td>\n",
       "      <td>06/08/2027</td>\n",
       "      <td>1.625</td>\n",
       "      <td>prix</td>\n",
       "    </tr>\n",
       "    <tr>\n",
       "      <th>...</th>\n",
       "      <td>...</td>\n",
       "      <td>...</td>\n",
       "      <td>...</td>\n",
       "      <td>...</td>\n",
       "    </tr>\n",
       "    <tr>\n",
       "      <th>23996</th>\n",
       "      <td>106.424</td>\n",
       "      <td>1/5/2063</td>\n",
       "      <td>1.625</td>\n",
       "      <td>maturity</td>\n",
       "    </tr>\n",
       "    <tr>\n",
       "      <th>23997</th>\n",
       "      <td>106.424</td>\n",
       "      <td>1/6/2063</td>\n",
       "      <td>1.625</td>\n",
       "      <td>maturity</td>\n",
       "    </tr>\n",
       "    <tr>\n",
       "      <th>23998</th>\n",
       "      <td>106.424</td>\n",
       "      <td>1/7/2063</td>\n",
       "      <td>1.625</td>\n",
       "      <td>maturity</td>\n",
       "    </tr>\n",
       "    <tr>\n",
       "      <th>23999</th>\n",
       "      <td>106.424</td>\n",
       "      <td>1/8/2063</td>\n",
       "      <td>1.625</td>\n",
       "      <td>maturity</td>\n",
       "    </tr>\n",
       "    <tr>\n",
       "      <th>24000</th>\n",
       "      <td>106.424</td>\n",
       "      <td>1/9/2063</td>\n",
       "      <td>1.625</td>\n",
       "      <td>maturity</td>\n",
       "    </tr>\n",
       "  </tbody>\n",
       "</table>\n",
       "<p>24001 rows × 4 columns</p>\n",
       "</div>"
      ],
      "text/plain": [
       "       Mid Price    Maturity    Cpn    Change\n",
       "0        106.424  06/08/2027  1.625   initial\n",
       "1         86.424  06/08/2027  1.625      prix\n",
       "2         86.434  06/08/2027  1.625      prix\n",
       "3         86.444  06/08/2027  1.625      prix\n",
       "4         86.454  06/08/2027  1.625      prix\n",
       "...          ...         ...    ...       ...\n",
       "23996    106.424    1/5/2063  1.625  maturity\n",
       "23997    106.424    1/6/2063  1.625  maturity\n",
       "23998    106.424    1/7/2063  1.625  maturity\n",
       "23999    106.424    1/8/2063  1.625  maturity\n",
       "24000    106.424    1/9/2063  1.625  maturity\n",
       "\n",
       "[24001 rows x 4 columns]"
      ]
     },
     "execution_count": 11,
     "metadata": {},
     "output_type": "execute_result"
    }
   ],
   "source": [
    "df"
   ]
  },
  {
   "cell_type": "markdown",
   "id": "23254810",
   "metadata": {},
   "source": [
    "# III. Calcul des PD "
   ]
  },
  {
   "cell_type": "code",
   "execution_count": 12,
   "id": "f9961383",
   "metadata": {},
   "outputs": [],
   "source": [
    "def main(df):\n",
    "\n",
    "    #df = pd.read_excel(file_name)\n",
    "    #df = pd.read_csv(file_name)\n",
    "\n",
    "    #df = df[df['Maturity'].notna()]\n",
    "    \n",
    "    #df = df.iloc[: , 1:]\n",
    "    #df['Mid Price'].replace(',','',inplace=True)\n",
    "    mid_prices = []\n",
    "\n",
    "\n",
    "    for x in df['Mid Price'].values:\n",
    "        #if type(x) == str:\n",
    "         #   mid_prices.append(x.replace(',',''))\n",
    "        #else:\n",
    "        mid_prices.append(x)\n",
    "\n",
    "\n",
    "\n",
    "    df['Mid Price'] = mid_prices\n",
    "\n",
    "    df['PD_1y'],_,df['reprice'] = np.vectorize(extraction_PD.pipeline)(end=df['Maturity'],\n",
    "                                         price=df['Mid Price'].astype(float),\n",
    "                                         K=df['Cpn'].astype(float)/100, \n",
    "                                         coupon=df['Cpn'])\n",
    "\n",
    "    \n",
    "    df['Error %'] = 100*np.abs((df['Mid Price'] - df['reprice'])/df['Mid Price'])\n",
    " \n",
    "    #df['PD_1y'].to_csv('PD_1y.csv')\n",
    "    df.to_csv('courbe_sensibilité.csv')\n",
    "\n",
    "    print(df[\"PD_1y\"])\n",
    "    #df.to_csv('market_data_pd.csv')"
   ]
  },
  {
   "cell_type": "code",
   "execution_count": 13,
   "id": "e833362c",
   "metadata": {},
   "outputs": [
    {
     "name": "stdout",
     "output_type": "stream",
     "text": [
      "0        0.014212\n",
      "1        0.075757\n",
      "2        0.075720\n",
      "3        0.075684\n",
      "4        0.075648\n",
      "           ...   \n",
      "23996    0.020000\n",
      "23997    0.020000\n",
      "23998    0.020000\n",
      "23999    0.020000\n",
      "24000    0.020000\n",
      "Name: PD_1y, Length: 24001, dtype: float64\n"
     ]
    }
   ],
   "source": [
    "main(df)"
   ]
  },
  {
   "cell_type": "markdown",
   "id": "22859b48",
   "metadata": {},
   "source": [
    "# IV. Tracé des courbes de sensibilité "
   ]
  },
  {
   "cell_type": "code",
   "execution_count": 14,
   "id": "91c2e2b1",
   "metadata": {},
   "outputs": [],
   "source": [
    "sensi = pd.read_csv('courbe_sensibilité.csv')\n",
    "sensi = sensi.drop(columns = ['Unnamed: 0'])"
   ]
  },
  {
   "cell_type": "code",
   "execution_count": 16,
   "id": "9899b991",
   "metadata": {},
   "outputs": [],
   "source": [
    "sensi_price = sensi[sensi[\"Change\"] =='prix']\n",
    "sensi_maturity = sensi[sensi[\"Change\"] =='maturity']\n",
    "sensi_coupon = sensi[sensi[\"Change\"] =='coupon']"
   ]
  },
  {
   "cell_type": "code",
   "execution_count": 17,
   "id": "0d0202b2",
   "metadata": {},
   "outputs": [
    {
     "data": {
      "text/html": [
       "<div>\n",
       "<style scoped>\n",
       "    .dataframe tbody tr th:only-of-type {\n",
       "        vertical-align: middle;\n",
       "    }\n",
       "\n",
       "    .dataframe tbody tr th {\n",
       "        vertical-align: top;\n",
       "    }\n",
       "\n",
       "    .dataframe thead th {\n",
       "        text-align: right;\n",
       "    }\n",
       "</style>\n",
       "<table border=\"1\" class=\"dataframe\">\n",
       "  <thead>\n",
       "    <tr style=\"text-align: right;\">\n",
       "      <th></th>\n",
       "      <th>Mid Price</th>\n",
       "      <th>Maturity</th>\n",
       "      <th>Cpn</th>\n",
       "      <th>Change</th>\n",
       "      <th>PD_1y</th>\n",
       "      <th>reprice</th>\n",
       "      <th>Error %</th>\n",
       "    </tr>\n",
       "  </thead>\n",
       "  <tbody>\n",
       "    <tr>\n",
       "      <th>1</th>\n",
       "      <td>86.424</td>\n",
       "      <td>06/08/2027</td>\n",
       "      <td>1.625</td>\n",
       "      <td>prix</td>\n",
       "      <td>0.075757</td>\n",
       "      <td>86.424000</td>\n",
       "      <td>0.000000e+00</td>\n",
       "    </tr>\n",
       "    <tr>\n",
       "      <th>2</th>\n",
       "      <td>86.434</td>\n",
       "      <td>06/08/2027</td>\n",
       "      <td>1.625</td>\n",
       "      <td>prix</td>\n",
       "      <td>0.075720</td>\n",
       "      <td>86.434000</td>\n",
       "      <td>0.000000e+00</td>\n",
       "    </tr>\n",
       "    <tr>\n",
       "      <th>3</th>\n",
       "      <td>86.444</td>\n",
       "      <td>06/08/2027</td>\n",
       "      <td>1.625</td>\n",
       "      <td>prix</td>\n",
       "      <td>0.075684</td>\n",
       "      <td>86.444000</td>\n",
       "      <td>1.643938e-14</td>\n",
       "    </tr>\n",
       "    <tr>\n",
       "      <th>4</th>\n",
       "      <td>86.454</td>\n",
       "      <td>06/08/2027</td>\n",
       "      <td>1.625</td>\n",
       "      <td>prix</td>\n",
       "      <td>0.075648</td>\n",
       "      <td>86.454000</td>\n",
       "      <td>0.000000e+00</td>\n",
       "    </tr>\n",
       "    <tr>\n",
       "      <th>5</th>\n",
       "      <td>86.464</td>\n",
       "      <td>06/08/2027</td>\n",
       "      <td>1.625</td>\n",
       "      <td>prix</td>\n",
       "      <td>0.075612</td>\n",
       "      <td>86.464000</td>\n",
       "      <td>0.000000e+00</td>\n",
       "    </tr>\n",
       "    <tr>\n",
       "      <th>...</th>\n",
       "      <td>...</td>\n",
       "      <td>...</td>\n",
       "      <td>...</td>\n",
       "      <td>...</td>\n",
       "      <td>...</td>\n",
       "      <td>...</td>\n",
       "      <td>...</td>\n",
       "    </tr>\n",
       "    <tr>\n",
       "      <th>3996</th>\n",
       "      <td>126.374</td>\n",
       "      <td>06/08/2027</td>\n",
       "      <td>1.625</td>\n",
       "      <td>prix</td>\n",
       "      <td>0.000000</td>\n",
       "      <td>111.979615</td>\n",
       "      <td>1.139031e+01</td>\n",
       "    </tr>\n",
       "    <tr>\n",
       "      <th>3997</th>\n",
       "      <td>126.384</td>\n",
       "      <td>06/08/2027</td>\n",
       "      <td>1.625</td>\n",
       "      <td>prix</td>\n",
       "      <td>0.000000</td>\n",
       "      <td>111.979615</td>\n",
       "      <td>1.139732e+01</td>\n",
       "    </tr>\n",
       "    <tr>\n",
       "      <th>3998</th>\n",
       "      <td>126.394</td>\n",
       "      <td>06/08/2027</td>\n",
       "      <td>1.625</td>\n",
       "      <td>prix</td>\n",
       "      <td>0.000000</td>\n",
       "      <td>111.979615</td>\n",
       "      <td>1.140433e+01</td>\n",
       "    </tr>\n",
       "    <tr>\n",
       "      <th>3999</th>\n",
       "      <td>126.404</td>\n",
       "      <td>06/08/2027</td>\n",
       "      <td>1.625</td>\n",
       "      <td>prix</td>\n",
       "      <td>0.000000</td>\n",
       "      <td>111.979615</td>\n",
       "      <td>1.141134e+01</td>\n",
       "    </tr>\n",
       "    <tr>\n",
       "      <th>4000</th>\n",
       "      <td>126.414</td>\n",
       "      <td>06/08/2027</td>\n",
       "      <td>1.625</td>\n",
       "      <td>prix</td>\n",
       "      <td>0.000000</td>\n",
       "      <td>111.979615</td>\n",
       "      <td>1.141834e+01</td>\n",
       "    </tr>\n",
       "  </tbody>\n",
       "</table>\n",
       "<p>4000 rows × 7 columns</p>\n",
       "</div>"
      ],
      "text/plain": [
       "      Mid Price    Maturity    Cpn Change     PD_1y     reprice       Error %\n",
       "1        86.424  06/08/2027  1.625   prix  0.075757   86.424000  0.000000e+00\n",
       "2        86.434  06/08/2027  1.625   prix  0.075720   86.434000  0.000000e+00\n",
       "3        86.444  06/08/2027  1.625   prix  0.075684   86.444000  1.643938e-14\n",
       "4        86.454  06/08/2027  1.625   prix  0.075648   86.454000  0.000000e+00\n",
       "5        86.464  06/08/2027  1.625   prix  0.075612   86.464000  0.000000e+00\n",
       "...         ...         ...    ...    ...       ...         ...           ...\n",
       "3996    126.374  06/08/2027  1.625   prix  0.000000  111.979615  1.139031e+01\n",
       "3997    126.384  06/08/2027  1.625   prix  0.000000  111.979615  1.139732e+01\n",
       "3998    126.394  06/08/2027  1.625   prix  0.000000  111.979615  1.140433e+01\n",
       "3999    126.404  06/08/2027  1.625   prix  0.000000  111.979615  1.141134e+01\n",
       "4000    126.414  06/08/2027  1.625   prix  0.000000  111.979615  1.141834e+01\n",
       "\n",
       "[4000 rows x 7 columns]"
      ]
     },
     "execution_count": 17,
     "metadata": {},
     "output_type": "execute_result"
    }
   ],
   "source": [
    "sensi_price"
   ]
  },
  {
   "cell_type": "code",
   "execution_count": 19,
   "id": "a52a609d",
   "metadata": {
    "scrolled": false
   },
   "outputs": [
    {
     "data": {
      "text/plain": [
       "Text(0, 0.5, 'Probabilité de défaut')"
      ]
     },
     "execution_count": 19,
     "metadata": {},
     "output_type": "execute_result"
    },
    {
     "data": {
      "image/png": "[encoded data removed]",
      "text/plain": [
       "<Figure size 1008x576 with 1 Axes>"
      ]
     },
     "metadata": {
      "needs_background": "light"
     },
     "output_type": "display_data"
    }
   ],
   "source": [
    "#PRIX\n",
    "fig = plt.figure(1, figsize=(14, 8))\n",
    "\n",
    "plt.plot(sensi_price[\"Mid Price\"],sensi_price[\"PD_1y\"],c='coral')\n",
    "plt.title('Courbe de sensibilité au prix')\n",
    "plt.xlabel('Prix (en pourcentage du nominal)')\n",
    "plt.ylabel('Probabilité de défaut')"
   ]
  },
  {
   "cell_type": "markdown",
   "id": "db3012fc",
   "metadata": {},
   "source": [
    "**Interprétation :** la probabilité de défaut est décroissante avec le prix. Cela est conforme à l'intuition. (si le bond n'était pas \"sûr\", ne serait pas acheté cher. A l'inverse, un bond peu cher paraît peu sûr). Existence d'un prix seuil au-delà duquel la PD est nulle."
   ]
  },
  {
   "cell_type": "code",
   "execution_count": 29,
   "id": "7dc49bc0",
   "metadata": {
    "scrolled": false
   },
   "outputs": [
    {
     "data": {
      "text/plain": [
       "Text(0, 0.5, 'Probabilité de défaut')"
      ]
     },
     "execution_count": 29,
     "metadata": {},
     "output_type": "execute_result"
    },
    {
     "data": {
      "image/png": "[encoded data removed]",
      "text/plain": [
       "<Figure size 1008x576 with 1 Axes>"
      ]
     },
     "metadata": {
      "needs_background": "light"
     },
     "output_type": "display_data"
    }
   ],
   "source": [
    "#COUPON\n",
    "fig = plt.figure(1, figsize=(14, 8))\n",
    "\n",
    "plt.plot(sensi_coupon[\"Cpn\"],sensi_coupon[\"PD_1y\"],c='coral')\n",
    "plt.title('Courbe de sensibilité au coupon')\n",
    "plt.xlabel('Coupon')\n",
    "plt.ylabel('Probabilité de défaut')"
   ]
  },
  {
   "cell_type": "markdown",
   "id": "4eb0f31c",
   "metadata": {},
   "source": [
    "**Interprétation :** la PD augmente avec le prix du coupon, ce qui est conforme à l'intuition. Plus le coupon est élevé, plus la probabilité (toutes choses égales par ailleurs) de ne pas le payer est grande."
   ]
  },
  {
   "cell_type": "code",
   "execution_count": 21,
   "id": "b55effbf",
   "metadata": {},
   "outputs": [],
   "source": [
    "#MATURITE\n",
    "\n",
    "def time(row) : \n",
    "    mat = row[\"Maturity\"]\n",
    "    return (datetime.strptime(mat,'%m/%d/%Y') - datetime.strptime('07/29/2021','%m/%d/%Y')).days\n",
    "\n",
    "sensi_maturity[\"delta_time\"] = sensi_maturity.apply(time,axis=1)"
   ]
  },
  {
   "cell_type": "code",
   "execution_count": 30,
   "id": "4ac94c12",
   "metadata": {},
   "outputs": [
    {
     "data": {
      "text/plain": [
       "Text(0, 0.5, 'Probabilité de défaut')"
      ]
     },
     "execution_count": 30,
     "metadata": {},
     "output_type": "execute_result"
    },
    {
     "data": {
      "image/png": "[encoded data removed]",
      "text/plain": [
       "<Figure size 1008x576 with 1 Axes>"
      ]
     },
     "metadata": {
      "needs_background": "light"
     },
     "output_type": "display_data"
    }
   ],
   "source": [
    "fig = plt.figure(1, figsize=(14, 8))\n",
    "\n",
    "plt.scatter(sensi_maturity[\"delta_time\"],sensi_maturity[\"PD_1y\"],c='coral',s = 1)\n",
    "plt.title('Courbe de sensibilité à la date de maturité')\n",
    "plt.xlabel('Nombre de jours après la valorisation')\n",
    "plt.ylabel('Probabilité de défaut')"
   ]
  },
  {
   "cell_type": "markdown",
   "id": "8ffaa37e",
   "metadata": {},
   "source": [
    "En abscisses : nombre de jours entre la maturité du bond et le jour pris comme référence sur Bloom (29 juillet 2021). \n",
    "\n",
    "**Interprétation :** présence de paliers, dûs à la formule de valorisation du bonds (payement trimestriel des coupons). La probabilité de défaut n'est pas strictement croissante. "
   ]
  }
 ],
 "metadata": {
  "kernelspec": {
   "display_name": "Python 3",
   "language": "python",
   "name": "python3"
  },
  "language_info": {
   "codemirror_mode": {
    "name": "ipython",
    "version": 3
   },
   "file_extension": ".py",
   "mimetype": "text/x-python",
   "name": "python",
   "nbconvert_exporter": "python",
   "pygments_lexer": "ipython3",
   "version": "3.8.8"
  }
 },
 "nbformat": 4,
 "nbformat_minor": 5
}
