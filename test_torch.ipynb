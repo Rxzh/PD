{
 "cells": [
  {
   "cell_type": "code",
   "execution_count": 1,
   "metadata": {},
   "outputs": [],
   "source": [
    "import numpy as np\n",
    "import pandas as pd\n",
    "import torch\n",
    "from sklearn.model_selection import train_test_split\n",
    "from sklearn.preprocessing import StandardScaler\n",
    "from TorchNeuralNet import Model"
   ]
  },
  {
   "cell_type": "code",
   "execution_count": 2,
   "metadata": {},
   "outputs": [],
   "source": [
    "model = Model()"
   ]
  },
  {
   "cell_type": "code",
   "execution_count": 3,
   "metadata": {},
   "outputs": [
    {
     "name": "stdout",
     "output_type": "stream",
     "text": [
      "Net(\n",
      "  (fc1): Linear(in_features=3, out_features=7, bias=True)\n",
      "  (fc2): Linear(in_features=7, out_features=1, bias=True)\n",
      ")\n"
     ]
    }
   ],
   "source": [
    "print(model.net)"
   ]
  },
  {
   "cell_type": "code",
   "execution_count": 4,
   "metadata": {},
   "outputs": [],
   "source": [
    "df = pd.read_csv('market_data_pd_clean.csv')\n",
    "df = df[[\"Debt / Common Equity\", \"Debt/Assets\", \"Tot Debt / Tot Capital\",\"PD_1y\"]]\n",
    "df = df.dropna(how = 'any') \n",
    "\n",
    "X_train, X_test, y_train, y_test = train_test_split(df.drop(\"PD_1y\",axis=1),df[\"PD_1y\"],test_size=0.2, random_state=42)\n",
    "\n",
    "scaler = StandardScaler(with_mean=True,with_std=True)\n",
    "scaler.fit(X_train)\n",
    "\n",
    "x_train = scaler.transform(X_train)\n",
    "x_train = pd.DataFrame(x_train, index=X_train.index, columns=X_train.columns)\n",
    "\n",
    "x_test = scaler.transform(X_test)\n",
    "x_test = pd.DataFrame(x_test, index=X_test.index, columns=X_test.columns)"
   ]
  },
  {
   "cell_type": "code",
   "execution_count": 9,
   "metadata": {},
   "outputs": [
    {
     "name": "stdout",
     "output_type": "stream",
     "text": [
      "[1,     1] loss: 0.194\n",
      "[1,     2] loss: 0.065\n",
      "[1,     3] loss: 0.054\n",
      "[1,     4] loss: 0.051\n",
      "[1,     5] loss: 0.048\n",
      "[1,     6] loss: 0.047\n",
      "[1,     7] loss: 0.045\n",
      "[1,     8] loss: 0.044\n",
      "[1,     9] loss: 0.043\n",
      "[1,    10] loss: 0.042\n",
      "[1,    11] loss: 0.041\n",
      "[1,    12] loss: 0.040\n",
      "[1,    13] loss: 0.039\n",
      "[1,    14] loss: 0.039\n",
      "[1,    15] loss: 0.038\n",
      "[2,     1] loss: 0.038\n",
      "[2,     2] loss: 0.037\n",
      "[2,     3] loss: 0.037\n",
      "[2,     4] loss: 0.036\n",
      "[2,     5] loss: 0.036\n",
      "[2,     6] loss: 0.036\n",
      "[2,     7] loss: 0.035\n",
      "[2,     8] loss: 0.035\n",
      "[2,     9] loss: 0.035\n",
      "[2,    10] loss: 0.035\n",
      "[2,    11] loss: 0.035\n",
      "[2,    12] loss: 0.034\n",
      "[2,    13] loss: 0.034\n",
      "[2,    14] loss: 0.034\n",
      "[2,    15] loss: 0.034\n",
      "[3,     1] loss: 0.034\n",
      "[3,     2] loss: 0.034\n",
      "[3,     3] loss: 0.034\n",
      "[3,     4] loss: 0.033\n",
      "[3,     5] loss: 0.033\n",
      "[3,     6] loss: 0.033\n",
      "[3,     7] loss: 0.033\n",
      "[3,     8] loss: 0.033\n",
      "[3,     9] loss: 0.033\n",
      "[3,    10] loss: 0.033\n",
      "[3,    11] loss: 0.033\n",
      "[3,    12] loss: 0.033\n",
      "[3,    13] loss: 0.033\n",
      "[3,    14] loss: 0.033\n",
      "[3,    15] loss: 0.033\n",
      "[4,     1] loss: 0.033\n",
      "[4,     2] loss: 0.033\n",
      "[4,     3] loss: 0.033\n",
      "[4,     4] loss: 0.033\n",
      "[4,     5] loss: 0.033\n",
      "[4,     6] loss: 0.033\n",
      "[4,     7] loss: 0.032\n",
      "[4,     8] loss: 0.032\n",
      "[4,     9] loss: 0.032\n",
      "[4,    10] loss: 0.032\n",
      "[4,    11] loss: 0.032\n",
      "[4,    12] loss: 0.032\n",
      "[4,    13] loss: 0.032\n",
      "[4,    14] loss: 0.032\n",
      "[4,    15] loss: 0.032\n",
      "[5,     1] loss: 0.032\n",
      "[5,     2] loss: 0.032\n",
      "[5,     3] loss: 0.032\n",
      "[5,     4] loss: 0.032\n",
      "[5,     5] loss: 0.032\n",
      "[5,     6] loss: 0.032\n",
      "[5,     7] loss: 0.032\n",
      "[5,     8] loss: 0.032\n",
      "[5,     9] loss: 0.032\n",
      "[5,    10] loss: 0.032\n",
      "[5,    11] loss: 0.032\n",
      "[5,    12] loss: 0.032\n",
      "[5,    13] loss: 0.032\n",
      "[5,    14] loss: 0.032\n",
      "[5,    15] loss: 0.032\n",
      "[6,     1] loss: 0.032\n",
      "[6,     2] loss: 0.032\n",
      "[6,     3] loss: 0.032\n",
      "[6,     4] loss: 0.032\n",
      "[6,     5] loss: 0.032\n",
      "[6,     6] loss: 0.032\n",
      "[6,     7] loss: 0.032\n",
      "[6,     8] loss: 0.032\n",
      "[6,     9] loss: 0.032\n",
      "[6,    10] loss: 0.032\n",
      "[6,    11] loss: 0.032\n",
      "[6,    12] loss: 0.032\n",
      "[6,    13] loss: 0.032\n",
      "[6,    14] loss: 0.032\n",
      "[6,    15] loss: 0.032\n",
      "[7,     1] loss: 0.032\n",
      "[7,     2] loss: 0.032\n",
      "[7,     3] loss: 0.032\n",
      "[7,     4] loss: 0.032\n",
      "[7,     5] loss: 0.032\n",
      "[7,     6] loss: 0.032\n",
      "[7,     7] loss: 0.032\n",
      "[7,     8] loss: 0.032\n",
      "[7,     9] loss: 0.032\n",
      "[7,    10] loss: 0.032\n",
      "[7,    11] loss: 0.032\n",
      "[7,    12] loss: 0.032\n",
      "[7,    13] loss: 0.032\n",
      "[7,    14] loss: 0.032\n",
      "[7,    15] loss: 0.032\n",
      "[8,     1] loss: 0.032\n",
      "[8,     2] loss: 0.032\n",
      "[8,     3] loss: 0.032\n",
      "[8,     4] loss: 0.032\n",
      "[8,     5] loss: 0.032\n",
      "[8,     6] loss: 0.032\n",
      "[8,     7] loss: 0.032\n",
      "[8,     8] loss: 0.032\n",
      "[8,     9] loss: 0.032\n",
      "[8,    10] loss: 0.032\n",
      "[8,    11] loss: 0.032\n",
      "[8,    12] loss: 0.032\n",
      "[8,    13] loss: 0.032\n",
      "[8,    14] loss: 0.032\n",
      "[8,    15] loss: 0.032\n",
      "[9,     1] loss: 0.032\n",
      "[9,     2] loss: 0.032\n",
      "[9,     3] loss: 0.032\n",
      "[9,     4] loss: 0.032\n",
      "[9,     5] loss: 0.032\n",
      "[9,     6] loss: 0.032\n",
      "[9,     7] loss: 0.032\n",
      "[9,     8] loss: 0.032\n",
      "[9,     9] loss: 0.032\n",
      "[9,    10] loss: 0.032\n",
      "[9,    11] loss: 0.032\n",
      "[9,    12] loss: 0.032\n",
      "[9,    13] loss: 0.032\n",
      "[9,    14] loss: 0.032\n",
      "[9,    15] loss: 0.032\n"
     ]
    },
    {
     "name": "stderr",
     "output_type": "stream",
     "text": [
      "/opt/anaconda3/lib/python3.7/site-packages/torch/nn/modules/loss.py:528: UserWarning: Using a target size (torch.Size([432])) that is different to the input size (torch.Size([432, 1])). This will likely lead to incorrect results due to broadcasting. Please ensure they have the same size.\n",
      "  return F.mse_loss(input, target, reduction=self.reduction)\n"
     ]
    }
   ],
   "source": [
    "model.fit(torch.tensor(x_train.values).float(), torch.tensor(y_train.values).float())           \n",
    "\n"
   ]
  },
  {
   "cell_type": "code",
   "execution_count": null,
   "metadata": {},
   "outputs": [],
   "source": []
  },
  {
   "cell_type": "code",
   "execution_count": null,
   "metadata": {},
   "outputs": [],
   "source": []
  },
  {
   "cell_type": "code",
   "execution_count": null,
   "metadata": {},
   "outputs": [],
   "source": []
  }
 ],
 "metadata": {
  "kernelspec": {
   "display_name": "Python 3",
   "language": "python",
   "name": "python3"
  },
  "language_info": {
   "codemirror_mode": {
    "name": "ipython",
    "version": 3
   },
   "file_extension": ".py",
   "mimetype": "text/x-python",
   "name": "python",
   "nbconvert_exporter": "python",
   "pygments_lexer": "ipython3",
   "version": "3.7.4"
  }
 },
 "nbformat": 4,
 "nbformat_minor": 2
}
