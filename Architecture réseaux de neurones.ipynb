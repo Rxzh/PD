{
 "cells": [
  {
   "cell_type": "markdown",
   "id": "ce276f93",
   "metadata": {},
   "source": [
    "# Implémentation de l'architecture des réseaux de neurones\n",
    "\n",
    "*http://exo7.emath.fr/cours/livre-deepmath.pdf* \n",
    "\n",
    "## Chargement des modules et données"
   ]
  },
  {
   "cell_type": "code",
   "execution_count": 1,
   "id": "71668590",
   "metadata": {
    "scrolled": true
   },
   "outputs": [],
   "source": [
    "import pandas as pd \n",
    "import matplotlib.pyplot as plt\n",
    "import numpy as np\n",
    "import tensorflow as tf\n",
    "\n",
    "from tensorflow.keras import Input\n",
    "from tensorflow.keras.models import Sequential\n",
    "from tensorflow.keras.layers import Dense, Dropout\n",
    "from tensorflow.keras.optimizers import SGD\n",
    "from tensorflow import keras\n",
    "\n",
    "from sklearn import preprocessing, model_selection"
   ]
  },
  {
   "cell_type": "code",
   "execution_count": 4,
   "id": "424b9611",
   "metadata": {},
   "outputs": [],
   "source": [
    "df = pd.read_csv('market_data_pd.csv',sep=',')"
   ]
  },
  {
   "cell_type": "code",
   "execution_count": 6,
   "id": "b819567f",
   "metadata": {},
   "outputs": [],
   "source": [
    "df.head()\n",
    "\n",
    "df = df[df.PD_1y>0.0]\n",
    "df = df[df.PD_1y!=1.0]\n",
    "#df = df[df['Common Eqty / Tot Assets']<.4]"
   ]
  },
  {
   "cell_type": "code",
   "execution_count": 4,
   "id": "7fc231c3",
   "metadata": {},
   "outputs": [],
   "source": [
    "#df.dtypes"
   ]
  },
  {
   "cell_type": "code",
   "execution_count": 8,
   "id": "d24a2ce0",
   "metadata": {},
   "outputs": [
    {
     "name": "stderr",
     "output_type": "stream",
     "text": [
      "<ipython-input-8-a7e076bb519c>:8: SettingWithCopyWarning: \n",
      "A value is trying to be set on a copy of a slice from a DataFrame.\n",
      "Try using .loc[row_indexer,col_indexer] = value instead\n",
      "\n",
      "See the caveats in the documentation: https://pandas.pydata.org/pandas-docs/stable/user_guide/indexing.html#returning-a-view-versus-a-copy\n",
      "  df1['PD_1y'] = pd.read_csv('PD_1y.csv')['PD_1y']\n",
      "C:\\Users\\mathilde.binet\\Anaconda3\\lib\\site-packages\\pandas\\core\\frame.py:4524: SettingWithCopyWarning: \n",
      "A value is trying to be set on a copy of a slice from a DataFrame\n",
      "\n",
      "See the caveats in the documentation: https://pandas.pydata.org/pandas-docs/stable/user_guide/indexing.html#returning-a-view-versus-a-copy\n",
      "  return super().replace(\n"
     ]
    }
   ],
   "source": [
    "#mettre les ratios financiers\n",
    "df1 = df[[\"Common Eqty / Tot Assets\",'Debt / Common Equity','BCLASS Level 3',\"TCE Ratio\",\"PD_1y\"]]\n",
    "\n",
    "#df1 = df.drop(columns=['Unnamed: 0','Reference Security', 'Ticker_y','Ticker_x', 'Issuer Name','Maturity','Cpn', 'Bid Price', 'Ask Price'])\n",
    "\n",
    "#df2 = pd.read_csv('PD_1y.csv')\n",
    "\n",
    "df1['PD_1y'] = pd.read_csv('PD_1y.csv')['PD_1y']\n",
    "df1.replace(np.nan, 0.0,inplace=True)\n"
   ]
  },
  {
   "cell_type": "code",
   "execution_count": 9,
   "id": "a739dd3d",
   "metadata": {},
   "outputs": [
    {
     "data": {
      "text/html": [
       "<div>\n",
       "<style scoped>\n",
       "    .dataframe tbody tr th:only-of-type {\n",
       "        vertical-align: middle;\n",
       "    }\n",
       "\n",
       "    .dataframe tbody tr th {\n",
       "        vertical-align: top;\n",
       "    }\n",
       "\n",
       "    .dataframe thead th {\n",
       "        text-align: right;\n",
       "    }\n",
       "</style>\n",
       "<table border=\"1\" class=\"dataframe\">\n",
       "  <thead>\n",
       "    <tr style=\"text-align: right;\">\n",
       "      <th></th>\n",
       "      <th>Common Eqty / Tot Assets</th>\n",
       "      <th>Debt / Common Equity</th>\n",
       "      <th>BCLASS Level 3</th>\n",
       "      <th>TCE Ratio</th>\n",
       "      <th>PD_1y</th>\n",
       "    </tr>\n",
       "  </thead>\n",
       "  <tbody>\n",
       "    <tr>\n",
       "      <th>0</th>\n",
       "      <td>4.84431</td>\n",
       "      <td>684.499</td>\n",
       "      <td>Banking</td>\n",
       "      <td>4.45822</td>\n",
       "      <td>0.006788</td>\n",
       "    </tr>\n",
       "    <tr>\n",
       "      <th>1</th>\n",
       "      <td>17.15800</td>\n",
       "      <td>351.535</td>\n",
       "      <td>Consumer Cyclical</td>\n",
       "      <td>-171.02700</td>\n",
       "      <td>0.065377</td>\n",
       "    </tr>\n",
       "    <tr>\n",
       "      <th>2</th>\n",
       "      <td>17.15800</td>\n",
       "      <td>351.535</td>\n",
       "      <td>Consumer Cyclical</td>\n",
       "      <td>-171.02700</td>\n",
       "      <td>0.116526</td>\n",
       "    </tr>\n",
       "    <tr>\n",
       "      <th>3</th>\n",
       "      <td>19.24570</td>\n",
       "      <td>410.513</td>\n",
       "      <td>Basic Industry</td>\n",
       "      <td>0.00000</td>\n",
       "      <td>0.014829</td>\n",
       "    </tr>\n",
       "    <tr>\n",
       "      <th>4</th>\n",
       "      <td>19.24570</td>\n",
       "      <td>410.513</td>\n",
       "      <td>Basic Industry</td>\n",
       "      <td>0.00000</td>\n",
       "      <td>0.009303</td>\n",
       "    </tr>\n",
       "  </tbody>\n",
       "</table>\n",
       "</div>"
      ],
      "text/plain": [
       "   Common Eqty / Tot Assets  Debt / Common Equity     BCLASS Level 3  \\\n",
       "0                   4.84431               684.499            Banking   \n",
       "1                  17.15800               351.535  Consumer Cyclical   \n",
       "2                  17.15800               351.535  Consumer Cyclical   \n",
       "3                  19.24570               410.513     Basic Industry   \n",
       "4                  19.24570               410.513     Basic Industry   \n",
       "\n",
       "   TCE Ratio     PD_1y  \n",
       "0    4.45822  0.006788  \n",
       "1 -171.02700  0.065377  \n",
       "2 -171.02700  0.116526  \n",
       "3    0.00000  0.014829  \n",
       "4    0.00000  0.009303  "
      ]
     },
     "execution_count": 9,
     "metadata": {},
     "output_type": "execute_result"
    }
   ],
   "source": [
    "#df1 = df1.dropna(how = 'any') \n",
    "df1.head()\n",
    "#on peut pas faire tourner l'algo avec des valeurs manquantes. Voir techniques pour les remplacer."
   ]
  },
  {
   "cell_type": "code",
   "execution_count": 10,
   "id": "f447db87",
   "metadata": {},
   "outputs": [
    {
     "data": {
      "text/plain": [
       "(549, 5)"
      ]
     },
     "execution_count": 10,
     "metadata": {},
     "output_type": "execute_result"
    }
   ],
   "source": [
    "df1.shape"
   ]
  },
  {
   "cell_type": "markdown",
   "id": "4443263a",
   "metadata": {},
   "source": [
    "# Traitement des données"
   ]
  },
  {
   "cell_type": "markdown",
   "id": "60f6da7d",
   "metadata": {},
   "source": [
    "Nous commencerons par séparer les données non étiquietées des étiquettes, les étiquettes se trouvent dans l'array `y_full` et le reste des données dans `X_full`"
   ]
  },
  {
   "cell_type": "code",
   "execution_count": 11,
   "id": "e6b6aa5c",
   "metadata": {},
   "outputs": [],
   "source": [
    "X_full = np.array(df1.drop(columns=['PD_1y']))\n",
    "y_full = np.array(df1['PD_1y'])"
   ]
  },
  {
   "cell_type": "markdown",
   "id": "fb9284ed",
   "metadata": {},
   "source": [
    "La prochaine étape consiste à séparer les features continues des features discrètes, cela sera utile car leurs traitements seront différent"
   ]
  },
  {
   "cell_type": "code",
   "execution_count": 12,
   "id": "69f92869",
   "metadata": {},
   "outputs": [],
   "source": [
    "features = list(df1.drop(columns=['PD_1y']).columns)\n",
    "\n",
    "discrete_features = ['BCLASS Level {}'.format(i) for i in range(3,4)]\n",
    "continuous_features = [s for s in features if not s in discrete_features]\n",
    "\n",
    "\n",
    "continuous_features_idx = [features.index(feat_name) for feat_name in continuous_features]\n",
    "discrete_features_idx = [features.index(feat_name) for feat_name in discrete_features]"
   ]
  },
  {
   "cell_type": "code",
   "execution_count": 13,
   "id": "a10b0a6f",
   "metadata": {},
   "outputs": [
    {
     "data": {
      "image/png": "[encoded data removed]",
      "text/plain": [
       "<Figure size 1008x720 with 3 Axes>"
      ]
     },
     "metadata": {
      "needs_background": "light"
     },
     "output_type": "display_data"
    }
   ],
   "source": [
    "fig = plt.figure(figsize=(14,10))\n",
    "\n",
    "# Histograms for continuous features\n",
    "for (plot_idx, feat_idx) in enumerate(continuous_features_idx):\n",
    "    # create a subplot in the (plot_idx+1) position of a 2x2 grid\n",
    "    ax = fig.add_subplot(4, 2, (plot_idx+1))\n",
    "    # plot the histogram of feat_idx\n",
    "    h = ax.hist(X_full[:, feat_idx], bins=30, edgecolor='black')\n",
    "    # use the name of the feature as a title for each histogram\n",
    "    ax.set_title(features[feat_idx])\n",
    "# espacement entre les subplots\n",
    "fig.tight_layout(pad=0.1)"
   ]
  },
  {
   "cell_type": "code",
   "execution_count": 14,
   "id": "7fb4190e",
   "metadata": {},
   "outputs": [
    {
     "data": {
      "image/png": "[encoded data removed]",
      "text/plain": [
       "<Figure size 1296x1008 with 1 Axes>"
      ]
     },
     "metadata": {
      "needs_background": "light"
     },
     "output_type": "display_data"
    }
   ],
   "source": [
    "# Bar plots for discrete features\n",
    "fig = plt.figure(figsize=(18, 14))\n",
    "\n",
    "for (plot_idx, feat_idx) in enumerate(discrete_features_idx):\n",
    "    # create a subplot in the (plot_idx+1) position of a 1x3 grid\n",
    "    ax = fig.add_subplot(3, 1, (plot_idx+1))\n",
    "\n",
    "    feature_values = np.unique(X_full[:, feat_idx])\n",
    "    frequencies = [(float(len(np.where(X_full[:, feat_idx]==value)[0]))/X_full.shape[0]) \\\n",
    "                   for value in feature_values]\n",
    "    \n",
    "    b = ax.bar(range(len(feature_values)), frequencies, width=0.8, \n",
    "               tick_label=list([n for n in feature_values]))\n",
    "    \n",
    "    \n",
    "    # use the name of the feature as a title for each histogram\n",
    "    ax.set_title(features[feat_idx])\n",
    "fig.tight_layout(pad=0.35)"
   ]
  },
  {
   "cell_type": "code",
   "execution_count": 15,
   "id": "c0753476",
   "metadata": {},
   "outputs": [],
   "source": [
    "def traitement(X):\n",
    "    \n",
    "    ohe = preprocessing.OneHotEncoder(categories='auto',sparse=False)\n",
    "    \n",
    "    std_scaler = preprocessing.StandardScaler().fit(X[:,continuous_features_idx])\n",
    "    X_continuous_scaled = std_scaler.transform(X[:,continuous_features_idx])\n",
    "    \n",
    "    X_processed = np.hstack((ohe.fit_transform(X[:,discrete_features_idx]), X_continuous_scaled))\n",
    "    \n",
    "    return X_processed\n",
    "\n"
   ]
  },
  {
   "cell_type": "code",
   "execution_count": 16,
   "id": "53b8521b",
   "metadata": {},
   "outputs": [],
   "source": [
    "X_processed = traitement(X_full)\n",
    "\n",
    "X_train, X_test, y_train, y_test = model_selection.train_test_split(X_processed, y_full, test_size=0.10,\n",
    "                                                                    #stratify=y_full, # stratification\n",
    "                                                                    random_state=92)"
   ]
  },
  {
   "cell_type": "code",
   "execution_count": 17,
   "id": "456580a0",
   "metadata": {},
   "outputs": [
    {
     "data": {
      "text/plain": [
       "(494, 25)"
      ]
     },
     "execution_count": 17,
     "metadata": {},
     "output_type": "execute_result"
    }
   ],
   "source": [
    "X_train.shape"
   ]
  },
  {
   "cell_type": "markdown",
   "id": "d5b16392",
   "metadata": {},
   "source": [
    "## Réseaux de neurones "
   ]
  },
  {
   "cell_type": "code",
   "execution_count": 16,
   "id": "f5c0a4ef",
   "metadata": {},
   "outputs": [],
   "source": [
    "#RESEAUX DE NEURONES \n",
    "#http://eric.univ-lyon2.fr/~ricco/tanagra/fichiers/fr_Tanagra_Packages_Python_for_Deep_Learning.pdf\n",
    "\n",
    "#Explications très bien dans ce document : \n",
    "\n",
    "#http://exo7.emath.fr/cours/livre-deepmath.pdf \n",
    "\n",
    "#très bon document (parties Python, keras avec les codes et explications)"
   ]
  },
  {
   "cell_type": "code",
   "execution_count": 19,
   "id": "4183df83",
   "metadata": {},
   "outputs": [],
   "source": [
    "model = Sequential()\n",
    "model.add(Dense(units=6,input_dim=25,activation=\"sigmoid\")) #6 is good\n",
    "model.add(Dense(units=2))\n",
    "model.add(Dense(units=1,activation=\"sigmoid\"))\n",
    "#modele.add(Dropout(0.3))\n",
    "learning_rate = 0.10\n",
    "\n",
    "sgd = SGD(learning_rate)\n",
    "\n",
    "#dim première couche = nombre de variables du df "
   ]
  },
  {
   "cell_type": "markdown",
   "id": "a80563ff",
   "metadata": {},
   "source": [
    "J'ai pris la fonction sigmoïde car elle est continue et à valeurs dans [0,1] (comme les probabilités de défaut). Régression logit. "
   ]
  },
  {
   "cell_type": "code",
   "execution_count": 20,
   "id": "a6863a63",
   "metadata": {},
   "outputs": [],
   "source": [
    "#modele.compile(loss='mean_squared_error',optimizer=sgd,metrics=[tf.keras.metrics.MeanSquaredError()])\n",
    "#optimizer = sgd\n",
    "model.compile(loss='mean_squared_error',optimizer='adam',metrics=[tf.keras.metrics.MeanSquaredError()])"
   ]
  },
  {
   "cell_type": "code",
   "execution_count": 21,
   "id": "fd92a0be",
   "metadata": {},
   "outputs": [
    {
     "name": "stdout",
     "output_type": "stream",
     "text": [
      "Model: \"sequential_1\"\n",
      "_________________________________________________________________\n",
      "Layer (type)                 Output Shape              Param #   \n",
      "=================================================================\n",
      "dense_3 (Dense)              (None, 6)                 156       \n",
      "_________________________________________________________________\n",
      "dense_4 (Dense)              (None, 2)                 14        \n",
      "_________________________________________________________________\n",
      "dense_5 (Dense)              (None, 1)                 3         \n",
      "=================================================================\n",
      "Total params: 173\n",
      "Trainable params: 173\n",
      "Non-trainable params: 0\n",
      "_________________________________________________________________\n",
      "None\n"
     ]
    }
   ],
   "source": [
    "print(model.summary())"
   ]
  },
  {
   "cell_type": "code",
   "execution_count": 22,
   "id": "5b8baae3",
   "metadata": {},
   "outputs": [
    {
     "name": "stdout",
     "output_type": "stream",
     "text": [
      "Epoch 1/50\n",
      "40/40 [==============================] - 1s 8ms/step - loss: 0.2168 - mean_squared_error: 0.2168 - val_loss: 0.1727 - val_mean_squared_error: 0.1727\n",
      "Epoch 2/50\n",
      "40/40 [==============================] - 0s 3ms/step - loss: 0.1345 - mean_squared_error: 0.1345 - val_loss: 0.1075 - val_mean_squared_error: 0.1075\n",
      "Epoch 3/50\n",
      "40/40 [==============================] - 0s 3ms/step - loss: 0.0803 - mean_squared_error: 0.0803 - val_loss: 0.0695 - val_mean_squared_error: 0.0695\n",
      "Epoch 4/50\n",
      "40/40 [==============================] - 0s 3ms/step - loss: 0.0510 - mean_squared_error: 0.0510 - val_loss: 0.0475 - val_mean_squared_error: 0.0475\n",
      "Epoch 5/50\n",
      "40/40 [==============================] - 0s 3ms/step - loss: 0.0343 - mean_squared_error: 0.0343 - val_loss: 0.0345 - val_mean_squared_error: 0.0345\n",
      "Epoch 6/50\n",
      "40/40 [==============================] - 0s 3ms/step - loss: 0.0228 - mean_squared_error: 0.0228 - val_loss: 0.0268 - val_mean_squared_error: 0.0268\n",
      "Epoch 7/50\n",
      "40/40 [==============================] - 0s 3ms/step - loss: 0.0164 - mean_squared_error: 0.0164 - val_loss: 0.0218 - val_mean_squared_error: 0.0218\n",
      "Epoch 8/50\n",
      "40/40 [==============================] - 0s 3ms/step - loss: 0.0127 - mean_squared_error: 0.0127 - val_loss: 0.0186 - val_mean_squared_error: 0.0186\n",
      "Epoch 9/50\n",
      "40/40 [==============================] - 0s 3ms/step - loss: 0.0094 - mean_squared_error: 0.0094 - val_loss: 0.0164 - val_mean_squared_error: 0.0164\n",
      "Epoch 10/50\n",
      "40/40 [==============================] - 0s 3ms/step - loss: 0.0074 - mean_squared_error: 0.0074 - val_loss: 0.0148 - val_mean_squared_error: 0.0148\n",
      "Epoch 11/50\n",
      "40/40 [==============================] - 0s 3ms/step - loss: 0.0061 - mean_squared_error: 0.0061 - val_loss: 0.0138 - val_mean_squared_error: 0.0138\n",
      "Epoch 12/50\n",
      "40/40 [==============================] - 0s 3ms/step - loss: 0.0050 - mean_squared_error: 0.0050 - val_loss: 0.0129 - val_mean_squared_error: 0.0129\n",
      "Epoch 13/50\n",
      "40/40 [==============================] - 0s 3ms/step - loss: 0.0042 - mean_squared_error: 0.0042 - val_loss: 0.0123 - val_mean_squared_error: 0.0123\n",
      "Epoch 14/50\n",
      "40/40 [==============================] - 0s 3ms/step - loss: 0.0036 - mean_squared_error: 0.0036 - val_loss: 0.0119 - val_mean_squared_error: 0.0119\n",
      "Epoch 15/50\n",
      "40/40 [==============================] - 0s 3ms/step - loss: 0.0031 - mean_squared_error: 0.0031 - val_loss: 0.0115 - val_mean_squared_error: 0.0115\n",
      "Epoch 16/50\n",
      "40/40 [==============================] - 0s 3ms/step - loss: 0.0028 - mean_squared_error: 0.0028 - val_loss: 0.0113 - val_mean_squared_error: 0.0113\n",
      "Epoch 17/50\n",
      "40/40 [==============================] - 0s 3ms/step - loss: 0.0023 - mean_squared_error: 0.0023 - val_loss: 0.0111 - val_mean_squared_error: 0.0111\n",
      "Epoch 18/50\n",
      "40/40 [==============================] - 0s 3ms/step - loss: 0.0022 - mean_squared_error: 0.0022 - val_loss: 0.0109 - val_mean_squared_error: 0.0109\n",
      "Epoch 19/50\n",
      "40/40 [==============================] - 0s 3ms/step - loss: 0.0020 - mean_squared_error: 0.0020 - val_loss: 0.0108 - val_mean_squared_error: 0.0108\n",
      "Epoch 20/50\n",
      "40/40 [==============================] - 0s 3ms/step - loss: 0.0018 - mean_squared_error: 0.0018 - val_loss: 0.0106 - val_mean_squared_error: 0.0106\n",
      "Epoch 21/50\n",
      "40/40 [==============================] - 0s 3ms/step - loss: 0.0017 - mean_squared_error: 0.0017 - val_loss: 0.0106 - val_mean_squared_error: 0.0106\n",
      "Epoch 22/50\n",
      "40/40 [==============================] - 0s 3ms/step - loss: 0.0016 - mean_squared_error: 0.0016 - val_loss: 0.0105 - val_mean_squared_error: 0.0105\n",
      "Epoch 23/50\n",
      "40/40 [==============================] - 0s 3ms/step - loss: 0.0015 - mean_squared_error: 0.0015 - val_loss: 0.0104 - val_mean_squared_error: 0.0104\n",
      "Epoch 24/50\n",
      "40/40 [==============================] - 0s 3ms/step - loss: 0.0013 - mean_squared_error: 0.0013 - val_loss: 0.0104 - val_mean_squared_error: 0.0104\n",
      "Epoch 25/50\n",
      "40/40 [==============================] - 0s 4ms/step - loss: 0.0013 - mean_squared_error: 0.0013 - val_loss: 0.0103 - val_mean_squared_error: 0.0103\n",
      "Epoch 26/50\n",
      "40/40 [==============================] - 0s 3ms/step - loss: 0.0013 - mean_squared_error: 0.0013 - val_loss: 0.0103 - val_mean_squared_error: 0.0103\n",
      "Epoch 27/50\n",
      "40/40 [==============================] - 0s 3ms/step - loss: 0.0011 - mean_squared_error: 0.0011 - val_loss: 0.0103 - val_mean_squared_error: 0.0103\n",
      "Epoch 28/50\n",
      "40/40 [==============================] - 0s 3ms/step - loss: 0.0012 - mean_squared_error: 0.0012 - val_loss: 0.0103 - val_mean_squared_error: 0.0103\n",
      "Epoch 29/50\n",
      "40/40 [==============================] - 0s 3ms/step - loss: 9.9743e-04 - mean_squared_error: 9.9743e-04 - val_loss: 0.0102 - val_mean_squared_error: 0.0102\n",
      "Epoch 30/50\n",
      "40/40 [==============================] - 0s 3ms/step - loss: 0.0011 - mean_squared_error: 0.0011 - val_loss: 0.0102 - val_mean_squared_error: 0.0102\n",
      "Epoch 31/50\n",
      "40/40 [==============================] - 0s 3ms/step - loss: 0.0010 - mean_squared_error: 0.0010 - val_loss: 0.0102 - val_mean_squared_error: 0.0102\n",
      "Epoch 32/50\n",
      "40/40 [==============================] - 0s 3ms/step - loss: 9.4919e-04 - mean_squared_error: 9.4919e-04 - val_loss: 0.0102 - val_mean_squared_error: 0.0102\n",
      "Epoch 33/50\n",
      "40/40 [==============================] - 0s 3ms/step - loss: 0.0011 - mean_squared_error: 0.0011 - val_loss: 0.0102 - val_mean_squared_error: 0.0102\n",
      "Epoch 34/50\n",
      "40/40 [==============================] - 0s 3ms/step - loss: 9.1304e-04 - mean_squared_error: 9.1304e-04 - val_loss: 0.0102 - val_mean_squared_error: 0.0102\n",
      "Epoch 35/50\n",
      "40/40 [==============================] - 0s 3ms/step - loss: 9.5815e-04 - mean_squared_error: 9.5815e-04 - val_loss: 0.0102 - val_mean_squared_error: 0.0102\n",
      "Epoch 36/50\n",
      "40/40 [==============================] - 0s 3ms/step - loss: 9.8756e-04 - mean_squared_error: 9.8756e-04 - val_loss: 0.0102 - val_mean_squared_error: 0.0102\n",
      "Epoch 37/50\n",
      "40/40 [==============================] - 0s 3ms/step - loss: 9.5880e-04 - mean_squared_error: 9.5880e-04 - val_loss: 0.0102 - val_mean_squared_error: 0.0102\n",
      "Epoch 38/50\n",
      " 1/40 [..............................] - ETA: 0s - loss: 3.8940e-04 - mean_squared_error: 3.8940e-04WARNING:tensorflow:Your input ran out of data; interrupting training. Make sure that your dataset or generator can generate at least `steps_per_epoch * epochs` batches (in this case, 2000 batches). You may need to use the repeat() function when building your dataset.\n",
      "40/40 [==============================] - 0s 7ms/step - loss: 8.3509e-04 - mean_squared_error: 8.3509e-04 - val_loss: 0.0102 - val_mean_squared_error: 0.0102\n",
      "2/2 [==============================] - 0s 0s/step - loss: 5.9562e-04 - mean_squared_error: 5.9562e-04\n",
      "The final loss on the TEST set is: 0.00.\n",
      "The final mean_squared_error on the TEST set is: 0.00.\n"
     ]
    },
    {
     "data": {
      "image/png": "[encoded data removed]",
      "text/plain": [
       "<Figure size 432x288 with 1 Axes>"
      ]
     },
     "metadata": {
      "needs_background": "light"
     },
     "output_type": "display_data"
    }
   ],
   "source": [
    "history = model.fit(X_train, y_train,         # Train the model using the training set...\n",
    "          batch_size=10, epochs=50,\n",
    "          verbose=1, validation_split=0.4,steps_per_epoch=40)           # ...holding out 40% of the data for validation\n",
    "\n",
    "# --------------------------------------\n",
    "# Evaluation\n",
    "# --------------------------------------\n",
    "for loss_name, loss_value in list(zip(model.metrics_names, model.evaluate(X_test, y_test, verbose=1))):\n",
    "    print('The final {} on the TEST set is: {:.2f}.'.format(loss_name, loss_value)) # Evaluate the trained model on the test set!\n",
    "\n",
    "    \n",
    "import matplotlib.pyplot as plt\n",
    "\n",
    "# --------------------------------------\n",
    "# Loss functions evolution\n",
    "# --------------------------------------\n",
    "plt.plot(history.history['loss'])\n",
    "plt.plot(history.history['val_loss'])\n",
    "plt.title('Model loss by epoch')\n",
    "plt.ylabel('loss')\n",
    "plt.xlabel('epoch')\n",
    "plt.legend(['train', 'valid'], loc='right')\n",
    "plt.show()"
   ]
  },
  {
   "cell_type": "code",
   "execution_count": null,
   "id": "d875bdc8",
   "metadata": {},
   "outputs": [],
   "source": []
  },
  {
   "cell_type": "code",
   "execution_count": 23,
   "id": "29d11d64",
   "metadata": {},
   "outputs": [
    {
     "name": "stdout",
     "output_type": "stream",
     "text": [
      "2/2 [==============================] - 0s 4ms/step - loss: 5.9562e-04 - mean_squared_error: 5.9562e-04\n",
      "Valeur de l'erreur sur les données de test (loss): 0.000595622870605439\n",
      "Précision sur les données de test (MSE): 0.000595622870605439\n"
     ]
    }
   ],
   "source": [
    "#Résultats \n",
    "\n",
    "resultat = model.evaluate(X_test, y_test, verbose=1)\n",
    "print(\"Valeur de l'erreur sur les données de test (loss):\", resultat[0])\n",
    "print('Précision sur les données de test (MSE):', resultat[1])"
   ]
  },
  {
   "cell_type": "markdown",
   "id": "9ee8048d",
   "metadata": {},
   "source": [
    "## Observation des résultats "
   ]
  },
  {
   "cell_type": "code",
   "execution_count": 24,
   "id": "87c04e4e",
   "metadata": {},
   "outputs": [],
   "source": [
    "def ecart_relatif(row) : \n",
    "    théo = row['Théorique']\n",
    "    préd = row['Prédiction']\n",
    "    return abs(théo - préd) / théo"
   ]
  },
  {
   "cell_type": "code",
   "execution_count": 25,
   "id": "41017dc0",
   "metadata": {},
   "outputs": [
    {
     "name": "stderr",
     "output_type": "stream",
     "text": [
      "<ipython-input-24-4a18010dd972>:4: RuntimeWarning: divide by zero encountered in double_scalars\n",
      "  return abs(théo - préd) / théo\n"
     ]
    }
   ],
   "source": [
    "prediction = pd.DataFrame(data= model.predict(X_test) ,columns=['Prédiction'])\n",
    "théorique = pd.DataFrame(data= y_test ,columns=['Théorique'])\n",
    "prediction, théorique = prediction.reset_index() , théorique.reset_index()\n",
    "\n",
    "results = pd.merge(théorique, prediction, on = 'index').drop(columns=['index'])\n",
    "results[\"Ecart_relatif\"] = results.apply(ecart_relatif,axis=1)"
   ]
  },
  {
   "cell_type": "code",
   "execution_count": 26,
   "id": "730210eb",
   "metadata": {},
   "outputs": [],
   "source": [
    "results.replace(np.inf, 0.0,inplace=True)"
   ]
  },
  {
   "cell_type": "code",
   "execution_count": 27,
   "id": "def561fc",
   "metadata": {},
   "outputs": [
    {
     "data": {
      "text/plain": [
       "4.498777487054001"
      ]
     },
     "execution_count": 27,
     "metadata": {},
     "output_type": "execute_result"
    }
   ],
   "source": [
    "results[\"Ecart_relatif\"].mean()"
   ]
  },
  {
   "cell_type": "code",
   "execution_count": 28,
   "id": "f18ebdb5",
   "metadata": {},
   "outputs": [
    {
     "name": "stdout",
     "output_type": "stream",
     "text": [
      "L'écart relatif moyen est de 449.8777487054001%\n"
     ]
    }
   ],
   "source": [
    "print(\"L'écart relatif moyen est de \" + str(results[\"Ecart_relatif\"].mean() * 100) + \"%\")"
   ]
  },
  {
   "cell_type": "code",
   "execution_count": 29,
   "id": "b85a41d1",
   "metadata": {},
   "outputs": [],
   "source": [
    "results.sort_values('Ecart_relatif',inplace=True)"
   ]
  },
  {
   "cell_type": "code",
   "execution_count": 31,
   "id": "94a1a7f2",
   "metadata": {},
   "outputs": [],
   "source": [
    "#results"
   ]
  },
  {
   "cell_type": "code",
   "execution_count": 30,
   "id": "d67b7163",
   "metadata": {},
   "outputs": [
    {
     "data": {
      "text/plain": [
       "(-0.01, 0.1)"
      ]
     },
     "execution_count": 30,
     "metadata": {},
     "output_type": "execute_result"
    },
    {
     "data": {
      "image/png": "[encoded data removed]",
      "text/plain": [
       "<Figure size 432x288 with 1 Axes>"
      ]
     },
     "metadata": {
      "needs_background": "light"
     },
     "output_type": "display_data"
    }
   ],
   "source": [
    "results.plot.scatter(\"Théorique\",\"Prédiction\")\n",
    "plt.xlim(-.01,.1)\n",
    "plt.ylim(-.01,.1)"
   ]
  },
  {
   "cell_type": "markdown",
   "id": "311090de",
   "metadata": {},
   "source": [
    "---------------"
   ]
  },
  {
   "cell_type": "markdown",
   "id": "e2c05b91",
   "metadata": {},
   "source": [
    "# Test classification multi-classe"
   ]
  },
  {
   "cell_type": "code",
   "execution_count": 36,
   "id": "00295cc0",
   "metadata": {},
   "outputs": [],
   "source": [
    "df = pd.read_csv('market_data_pd.csv',sep=',')\n",
    "df = df[[\"Common Eqty / Tot Assets\",'Debt / Common Equity','BCLASS Level 3',\"PD_1y\",\"TCE Ratio\"]]\n",
    "df = df[df.PD_1y>0.0]\n",
    "df = df[df.PD_1y!=1.0]\n",
    "df = df[df.PD_1y<0.05]\n",
    "\n",
    "df['PD_1y'] = pd.read_csv('PD_1y.csv')['PD_1y']\n",
    "df.replace(np.nan, 0.0,inplace=True)"
   ]
  },
  {
   "cell_type": "code",
   "execution_count": null,
   "id": "c0c41d44",
   "metadata": {},
   "outputs": [],
   "source": [
    "#ATTENTION : CHANGEMENT A FAIRE \n",
    "#il faut paramétrer les algorithmes de classification seulement en utilisant la base de train. \n",
    "#et ensuite seulement, appliquer la classification sur la base de test \n",
    "\n",
    "#sinon, tu utilises une base normalement inconnue (la base de test) pour paramétrer ton algo. \n",
    "#(même si le changement est pas ouf, il faut inverser l'ordre dans lequel on fait ça)"
   ]
  },
  {
   "cell_type": "code",
   "execution_count": 37,
   "id": "ab0e6caf",
   "metadata": {},
   "outputs": [
    {
     "data": {
      "image/png": "[encoded data removed]",
      "text/plain": [
       "<Figure size 432x288 with 1 Axes>"
      ]
     },
     "metadata": {
      "needs_background": "light"
     },
     "output_type": "display_data"
    },
    {
     "data": {
      "image/png": "[encoded data removed]",
      "text/plain": [
       "<Figure size 432x288 with 1 Axes>"
      ]
     },
     "metadata": {
      "needs_background": "light"
     },
     "output_type": "display_data"
    }
   ],
   "source": [
    "from numpy.random import randn\n",
    "from sklearn.preprocessing import KBinsDiscretizer\n",
    "\n",
    "data = np.array(df['PD_1y'])\n",
    "# histogram of the raw data\n",
    "plt.hist(data, bins=35,edgecolor='black')\n",
    "plt.show()\n",
    "# reshape data to have rows and columns\n",
    "data = data.reshape((len(data),1))\n",
    "# discretization transform the raw data\n",
    "kbins = KBinsDiscretizer(n_bins=6, encode='ordinal', strategy='kmeans')\n",
    "data_trans = kbins.fit_transform(data)\n",
    "\n",
    "# summarize first few rows\n",
    "#print(data_trans[:10, :])\n",
    "# histogram of the transformed data\n",
    "plt.hist(data_trans, bins=6,edgecolor='black' )\n",
    "plt.show()"
   ]
  },
  {
   "cell_type": "code",
   "execution_count": 38,
   "id": "5dde6099",
   "metadata": {},
   "outputs": [],
   "source": [
    "df['PD_1y'] = data_trans"
   ]
  },
  {
   "cell_type": "code",
   "execution_count": 39,
   "id": "e78ff342",
   "metadata": {},
   "outputs": [],
   "source": [
    "X_full = np.array(df.drop(columns=['PD_1y']))\n",
    "y_full = np.array(df['PD_1y'])\n",
    "\n",
    "features = list(df.drop(columns=['PD_1y']).columns)\n",
    "\n",
    "discrete_features = ['BCLASS Level {}'.format(i) for i in range(3,4)]\n",
    "continuous_features = [s for s in features if not s in discrete_features]\n",
    "\n",
    "\n",
    "continuous_features_idx = [features.index(feat_name) for feat_name in continuous_features]\n",
    "discrete_features_idx = [features.index(feat_name) for feat_name in discrete_features]\n",
    "\n",
    "\n",
    "X_processed = traitement(X_full)\n",
    "X_train, X_test, y_train, y_test = model_selection.train_test_split(X_processed, y_full, test_size=0.30,\n",
    "                                                                    stratify=y_full, # stratification\n",
    "                                                                    random_state=92)"
   ]
  },
  {
   "cell_type": "code",
   "execution_count": null,
   "id": "22ee700b",
   "metadata": {},
   "outputs": [],
   "source": []
  },
  {
   "cell_type": "code",
   "execution_count": 43,
   "id": "7c920bc6",
   "metadata": {},
   "outputs": [],
   "source": [
    "model = Sequential()\n",
    "model.add(Dense(units=6,input_dim=25)) #6 is good\n",
    "#model.add(Dense(units=2))\n",
    "model.add(Dense(units=6,activation=\"sigmoid\")) #output\n"
   ]
  },
  {
   "cell_type": "code",
   "execution_count": 44,
   "id": "f7eb7c1b",
   "metadata": {},
   "outputs": [],
   "source": [
    "model.compile(optimizer=keras.optimizers.Adam(),\n",
    "              loss=keras.losses.SparseCategoricalCrossentropy(from_logits=False), # default from_logits=False\n",
    "              metrics=[keras.metrics.SparseCategoricalAccuracy()])"
   ]
  },
  {
   "cell_type": "code",
   "execution_count": 629,
   "id": "fd76e752",
   "metadata": {},
   "outputs": [],
   "source": [
    "#model.fit(X_train,y_train,validation_split=0.4, epochs=40)"
   ]
  },
  {
   "cell_type": "code",
   "execution_count": 45,
   "id": "acf22580",
   "metadata": {},
   "outputs": [
    {
     "name": "stdout",
     "output_type": "stream",
     "text": [
      "Epoch 1/20\n",
      "20/20 [==============================] - 1s 12ms/step - loss: 1.8217 - sparse_categorical_accuracy: 0.1939 - val_loss: 1.8811 - val_sparse_categorical_accuracy: 0.1371\n",
      "Epoch 2/20\n",
      "20/20 [==============================] - 0s 4ms/step - loss: 1.8066 - sparse_categorical_accuracy: 0.1990 - val_loss: 1.8612 - val_sparse_categorical_accuracy: 0.1371\n",
      "Epoch 3/20\n",
      "20/20 [==============================] - 0s 4ms/step - loss: 1.7666 - sparse_categorical_accuracy: 0.2041 - val_loss: 1.8438 - val_sparse_categorical_accuracy: 0.1371\n",
      "Epoch 4/20\n",
      "20/20 [==============================] - 0s 4ms/step - loss: 1.7743 - sparse_categorical_accuracy: 0.1888 - val_loss: 1.8284 - val_sparse_categorical_accuracy: 0.1774\n",
      "Epoch 5/20\n",
      "20/20 [==============================] - 0s 4ms/step - loss: 1.7109 - sparse_categorical_accuracy: 0.2500 - val_loss: 1.8163 - val_sparse_categorical_accuracy: 0.1935\n",
      "Epoch 6/20\n",
      "20/20 [==============================] - 0s 4ms/step - loss: 1.7198 - sparse_categorical_accuracy: 0.2245 - val_loss: 1.8054 - val_sparse_categorical_accuracy: 0.1935\n",
      "Epoch 7/20\n",
      "20/20 [==============================] - 0s 4ms/step - loss: 1.7272 - sparse_categorical_accuracy: 0.2245 - val_loss: 1.7944 - val_sparse_categorical_accuracy: 0.2177\n",
      "Epoch 8/20\n",
      "20/20 [==============================] - 0s 4ms/step - loss: 1.6829 - sparse_categorical_accuracy: 0.2551 - val_loss: 1.7866 - val_sparse_categorical_accuracy: 0.2177\n",
      "Epoch 9/20\n",
      "20/20 [==============================] - 0s 3ms/step - loss: 1.6489 - sparse_categorical_accuracy: 0.2704 - val_loss: 1.7791 - val_sparse_categorical_accuracy: 0.2177\n",
      "Epoch 10/20\n",
      "20/20 [==============================] - 0s 3ms/step - loss: 1.6642 - sparse_categorical_accuracy: 0.2755 - val_loss: 1.7725 - val_sparse_categorical_accuracy: 0.2177\n",
      "Epoch 11/20\n",
      "20/20 [==============================] - 0s 4ms/step - loss: 1.6630 - sparse_categorical_accuracy: 0.3061 - val_loss: 1.7655 - val_sparse_categorical_accuracy: 0.2177\n",
      "Epoch 12/20\n",
      "20/20 [==============================] - 0s 4ms/step - loss: 1.6384 - sparse_categorical_accuracy: 0.3265 - val_loss: 1.7596 - val_sparse_categorical_accuracy: 0.2258\n",
      "Epoch 13/20\n",
      "20/20 [==============================] - 0s 4ms/step - loss: 1.5987 - sparse_categorical_accuracy: 0.3061 - val_loss: 1.7548 - val_sparse_categorical_accuracy: 0.2258\n",
      "Epoch 14/20\n",
      "20/20 [==============================] - 0s 4ms/step - loss: 1.6075 - sparse_categorical_accuracy: 0.3265 - val_loss: 1.7506 - val_sparse_categorical_accuracy: 0.2258\n",
      "Epoch 15/20\n",
      "20/20 [==============================] - 0s 4ms/step - loss: 1.6074 - sparse_categorical_accuracy: 0.3061 - val_loss: 1.7467 - val_sparse_categorical_accuracy: 0.2258\n",
      "Epoch 16/20\n",
      "20/20 [==============================] - 0s 4ms/step - loss: 1.5769 - sparse_categorical_accuracy: 0.3214 - val_loss: 1.7430 - val_sparse_categorical_accuracy: 0.2258\n",
      "Epoch 17/20\n",
      "20/20 [==============================] - 0s 4ms/step - loss: 1.5771 - sparse_categorical_accuracy: 0.3163 - val_loss: 1.7407 - val_sparse_categorical_accuracy: 0.2258\n",
      "Epoch 18/20\n",
      "20/20 [==============================] - 0s 5ms/step - loss: 1.5756 - sparse_categorical_accuracy: 0.3112 - val_loss: 1.7386 - val_sparse_categorical_accuracy: 0.2258\n",
      "Epoch 19/20\n",
      "20/20 [==============================] - 0s 5ms/step - loss: 1.5565 - sparse_categorical_accuracy: 0.3229 - val_loss: 1.7367 - val_sparse_categorical_accuracy: 0.2177\n",
      "Epoch 20/20\n",
      "WARNING:tensorflow:Your input ran out of data; interrupting training. Make sure that your dataset or generator can generate at least `steps_per_epoch * epochs` batches (in this case, 400 batches). You may need to use the repeat() function when building your dataset.\n",
      "20/20 [==============================] - 0s 4ms/step - loss: 1.5565 - sparse_categorical_accuracy: 0.3229 - val_loss: 1.7367 - val_sparse_categorical_accuracy: 0.2177\n"
     ]
    }
   ],
   "source": [
    "history = model.fit(X_train, y_train,         # Train the model using the training set...\n",
    "          batch_size=10, epochs=20,\n",
    "          verbose=1, validation_split=0.4,steps_per_epoch=20)  "
   ]
  },
  {
   "cell_type": "code",
   "execution_count": 46,
   "id": "0b95761d",
   "metadata": {},
   "outputs": [
    {
     "name": "stdout",
     "output_type": "stream",
     "text": [
      "5/5 [==============================] - 0s 2ms/step - loss: 1.6579 - sparse_categorical_accuracy: 0.2761\n",
      "The final loss on the TEST set is: 1.66.\n",
      "The final sparse_categorical_accuracy on the TEST set is: 0.28.\n"
     ]
    },
    {
     "data": {
      "image/png": "[encoded data removed]",
      "text/plain": [
       "<Figure size 432x288 with 1 Axes>"
      ]
     },
     "metadata": {
      "needs_background": "light"
     },
     "output_type": "display_data"
    }
   ],
   "source": [
    "# --------------------------------------\n",
    "# Evaluation\n",
    "# --------------------------------------\n",
    "for loss_name, loss_value in list(zip(model.metrics_names, model.evaluate(X_test, y_test, verbose=1))):\n",
    "    print('The final {} on the TEST set is: {:.2f}.'.format(loss_name, loss_value)) # Evaluate the trained model on the test set!\n",
    "\n",
    "# --------------------------------------\n",
    "# Loss functions evolution\n",
    "# --------------------------------------\n",
    "plt.plot(history.history['loss'])\n",
    "plt.plot(history.history['val_loss'])\n",
    "plt.title('Model loss by epoch')\n",
    "plt.ylabel('loss')\n",
    "plt.xlabel('epoch')\n",
    "plt.legend(['train', 'valid'], loc='right')\n",
    "plt.show()"
   ]
  },
  {
   "cell_type": "code",
   "execution_count": 47,
   "id": "61f48115",
   "metadata": {},
   "outputs": [],
   "source": [
    "\n",
    "y=model.predict(X_test)\n"
   ]
  },
  {
   "cell_type": "code",
   "execution_count": 48,
   "id": "e53efdef",
   "metadata": {},
   "outputs": [],
   "source": [
    "y_predicted = [np.argmax(pred) for pred in y]"
   ]
  },
  {
   "cell_type": "code",
   "execution_count": 49,
   "id": "0f2392a1",
   "metadata": {},
   "outputs": [
    {
     "name": "stdout",
     "output_type": "stream",
     "text": [
      "predicted:  2 | Actual Label:  0.0  False\n",
      "predicted:  1 | Actual Label:  3.0  False\n",
      "predicted:  2 | Actual Label:  1.0  False\n",
      "predicted:  2 | Actual Label:  2.0  True\n",
      "predicted:  2 | Actual Label:  2.0  True\n",
      "predicted:  1 | Actual Label:  5.0  False\n",
      "predicted:  2 | Actual Label:  2.0  True\n",
      "predicted:  2 | Actual Label:  1.0  False\n",
      "predicted:  2 | Actual Label:  5.0  False\n",
      "predicted:  2 | Actual Label:  3.0  False\n",
      "predicted:  0 | Actual Label:  0.0  True\n",
      "predicted:  2 | Actual Label:  0.0  False\n",
      "predicted:  1 | Actual Label:  1.0  True\n",
      "predicted:  2 | Actual Label:  2.0  True\n",
      "predicted:  2 | Actual Label:  0.0  False\n",
      "predicted:  2 | Actual Label:  0.0  False\n",
      "predicted:  1 | Actual Label:  0.0  False\n",
      "predicted:  1 | Actual Label:  1.0  True\n",
      "predicted:  1 | Actual Label:  4.0  False\n",
      "predicted:  2 | Actual Label:  2.0  True\n",
      "predicted:  1 | Actual Label:  1.0  True\n",
      "predicted:  2 | Actual Label:  3.0  False\n",
      "predicted:  2 | Actual Label:  4.0  False\n",
      "predicted:  2 | Actual Label:  2.0  True\n",
      "predicted:  2 | Actual Label:  1.0  False\n",
      "predicted:  2 | Actual Label:  2.0  True\n",
      "predicted:  2 | Actual Label:  1.0  False\n",
      "predicted:  2 | Actual Label:  3.0  False\n",
      "predicted:  2 | Actual Label:  0.0  False\n",
      "predicted:  2 | Actual Label:  2.0  True\n",
      "predicted:  2 | Actual Label:  1.0  False\n",
      "predicted:  2 | Actual Label:  0.0  False\n",
      "predicted:  2 | Actual Label:  1.0  False\n",
      "predicted:  0 | Actual Label:  0.0  True\n",
      "predicted:  1 | Actual Label:  0.0  False\n",
      "predicted:  1 | Actual Label:  2.0  False\n",
      "predicted:  2 | Actual Label:  1.0  False\n",
      "predicted:  2 | Actual Label:  1.0  False\n",
      "predicted:  2 | Actual Label:  1.0  False\n",
      "predicted:  1 | Actual Label:  1.0  True\n",
      "predicted:  2 | Actual Label:  1.0  False\n",
      "predicted:  1 | Actual Label:  4.0  False\n",
      "predicted:  2 | Actual Label:  2.0  True\n",
      "predicted:  2 | Actual Label:  3.0  False\n",
      "predicted:  2 | Actual Label:  2.0  True\n",
      "predicted:  2 | Actual Label:  2.0  True\n",
      "predicted:  2 | Actual Label:  2.0  True\n",
      "predicted:  2 | Actual Label:  1.0  False\n",
      "predicted:  2 | Actual Label:  1.0  False\n",
      "predicted:  1 | Actual Label:  1.0  True\n",
      "predicted:  2 | Actual Label:  2.0  True\n",
      "predicted:  2 | Actual Label:  2.0  True\n",
      "predicted:  2 | Actual Label:  4.0  False\n",
      "predicted:  1 | Actual Label:  2.0  False\n",
      "predicted:  1 | Actual Label:  0.0  False\n",
      "predicted:  2 | Actual Label:  2.0  True\n",
      "predicted:  2 | Actual Label:  2.0  True\n",
      "predicted:  0 | Actual Label:  1.0  False\n",
      "predicted:  1 | Actual Label:  1.0  True\n",
      "predicted:  2 | Actual Label:  1.0  False\n",
      "predicted:  2 | Actual Label:  1.0  False\n",
      "predicted:  2 | Actual Label:  0.0  False\n",
      "predicted:  2 | Actual Label:  1.0  False\n",
      "predicted:  2 | Actual Label:  1.0  False\n",
      "predicted:  1 | Actual Label:  5.0  False\n",
      "predicted:  2 | Actual Label:  0.0  False\n",
      "predicted:  2 | Actual Label:  2.0  True\n",
      "predicted:  1 | Actual Label:  1.0  True\n",
      "predicted:  2 | Actual Label:  1.0  False\n",
      "predicted:  1 | Actual Label:  2.0  False\n",
      "predicted:  2 | Actual Label:  1.0  False\n",
      "predicted:  2 | Actual Label:  0.0  False\n",
      "predicted:  2 | Actual Label:  3.0  False\n",
      "predicted:  2 | Actual Label:  0.0  False\n",
      "predicted:  2 | Actual Label:  4.0  False\n",
      "predicted:  2 | Actual Label:  2.0  True\n",
      "predicted:  2 | Actual Label:  0.0  False\n",
      "predicted:  2 | Actual Label:  3.0  False\n",
      "predicted:  2 | Actual Label:  0.0  False\n",
      "predicted:  1 | Actual Label:  1.0  True\n",
      "predicted:  2 | Actual Label:  1.0  False\n",
      "predicted:  1 | Actual Label:  5.0  False\n",
      "predicted:  0 | Actual Label:  0.0  True\n",
      "predicted:  2 | Actual Label:  1.0  False\n",
      "predicted:  1 | Actual Label:  4.0  False\n",
      "predicted:  2 | Actual Label:  3.0  False\n",
      "predicted:  2 | Actual Label:  2.0  True\n",
      "predicted:  2 | Actual Label:  1.0  False\n",
      "predicted:  2 | Actual Label:  3.0  False\n",
      "predicted:  0 | Actual Label:  1.0  False\n",
      "predicted:  2 | Actual Label:  1.0  False\n",
      "predicted:  2 | Actual Label:  0.0  False\n",
      "predicted:  2 | Actual Label:  1.0  False\n",
      "predicted:  2 | Actual Label:  0.0  False\n",
      "predicted:  1 | Actual Label:  2.0  False\n",
      "predicted:  1 | Actual Label:  0.0  False\n",
      "predicted:  1 | Actual Label:  1.0  True\n",
      "predicted:  2 | Actual Label:  1.0  False\n",
      "predicted:  1 | Actual Label:  2.0  False\n",
      "predicted:  2 | Actual Label:  3.0  False\n",
      "predicted:  0 | Actual Label:  0.0  True\n",
      "predicted:  0 | Actual Label:  0.0  True\n",
      "predicted:  2 | Actual Label:  0.0  False\n",
      "predicted:  2 | Actual Label:  3.0  False\n",
      "predicted:  2 | Actual Label:  0.0  False\n",
      "predicted:  1 | Actual Label:  5.0  False\n",
      "predicted:  1 | Actual Label:  0.0  False\n",
      "predicted:  0 | Actual Label:  2.0  False\n",
      "predicted:  2 | Actual Label:  2.0  True\n",
      "predicted:  2 | Actual Label:  1.0  False\n",
      "predicted:  2 | Actual Label:  3.0  False\n",
      "predicted:  2 | Actual Label:  3.0  False\n",
      "predicted:  2 | Actual Label:  2.0  True\n",
      "predicted:  2 | Actual Label:  1.0  False\n",
      "predicted:  1 | Actual Label:  4.0  False\n",
      "predicted:  1 | Actual Label:  2.0  False\n",
      "predicted:  1 | Actual Label:  3.0  False\n",
      "predicted:  2 | Actual Label:  3.0  False\n",
      "predicted:  1 | Actual Label:  2.0  False\n",
      "predicted:  1 | Actual Label:  3.0  False\n",
      "predicted:  1 | Actual Label:  0.0  False\n",
      "predicted:  2 | Actual Label:  1.0  False\n",
      "predicted:  2 | Actual Label:  0.0  False\n",
      "predicted:  2 | Actual Label:  1.0  False\n",
      "predicted:  2 | Actual Label:  0.0  False\n",
      "predicted:  2 | Actual Label:  3.0  False\n",
      "predicted:  2 | Actual Label:  0.0  False\n",
      "predicted:  2 | Actual Label:  0.0  False\n",
      "predicted:  1 | Actual Label:  5.0  False\n",
      "predicted:  2 | Actual Label:  4.0  False\n",
      "predicted:  2 | Actual Label:  1.0  False\n",
      "predicted:  0 | Actual Label:  0.0  True\n",
      "predicted:  0 | Actual Label:  0.0  True\n",
      "predicted:  2 | Actual Label:  1.0  False\n",
      "\n",
      "\n",
      "37 / 134\n"
     ]
    }
   ],
   "source": [
    "for i in range(len(y_predicted)):\n",
    "    print(\"predicted: \", y_predicted[i], \"| Actual Label: \",y_test[i], \" True\" if (y_predicted[i]==y_test[i]) else \" False\")\n",
    "print(\"\\n\")\n",
    "print(np.sum(y_predicted==y_test),'/',len(y_predicted))"
   ]
  },
  {
   "cell_type": "code",
   "execution_count": null,
   "id": "7bbaa0e5",
   "metadata": {},
   "outputs": [],
   "source": []
  },
  {
   "cell_type": "code",
   "execution_count": 50,
   "id": "3bf26bd2",
   "metadata": {},
   "outputs": [],
   "source": [
    "from sklearn.metrics import confusion_matrix, ConfusionMatrixDisplay\n"
   ]
  },
  {
   "cell_type": "code",
   "execution_count": 51,
   "id": "9ffb8d65",
   "metadata": {},
   "outputs": [],
   "source": [
    "CM = confusion_matrix(y_test, y_predicted)"
   ]
  },
  {
   "cell_type": "code",
   "execution_count": 52,
   "id": "df7a16c5",
   "metadata": {},
   "outputs": [
    {
     "data": {
      "text/plain": [
       "<sklearn.metrics._plot.confusion_matrix.ConfusionMatrixDisplay at 0x1ad269b1280>"
      ]
     },
     "execution_count": 52,
     "metadata": {},
     "output_type": "execute_result"
    },
    {
     "data": {
      "image/png": "[encoded data removed]",
      "text/plain": [
       "<Figure size 432x288 with 2 Axes>"
      ]
     },
     "metadata": {
      "needs_background": "light"
     },
     "output_type": "display_data"
    }
   ],
   "source": [
    "ConfusionMatrixDisplay(CM).plot()"
   ]
  },
  {
   "cell_type": "code",
   "execution_count": null,
   "id": "279b4472",
   "metadata": {},
   "outputs": [],
   "source": []
  },
  {
   "cell_type": "code",
   "execution_count": null,
   "id": "7ee501de",
   "metadata": {},
   "outputs": [],
   "source": []
  }
 ],
 "metadata": {
  "kernelspec": {
   "display_name": "Python 3",
   "language": "python",
   "name": "python3"
  },
  "language_info": {
   "codemirror_mode": {
    "name": "ipython",
    "version": 3
   },
   "file_extension": ".py",
   "mimetype": "text/x-python",
   "name": "python",
   "nbconvert_exporter": "python",
   "pygments_lexer": "ipython3",
   "version": "3.8.8"
  }
 },
 "nbformat": 4,
 "nbformat_minor": 5
}
