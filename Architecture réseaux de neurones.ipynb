{
 "cells": [
  {
   "cell_type": "markdown",
   "metadata": {},
   "source": [
    "# Réseaux de neurones\n",
    "\n",
    "*http://exo7.emath.fr/cours/livre-deepmath.pdf* \n",
    "\n",
    "# 0. Chargement des modules et données"
   ]
  },
  {
   "cell_type": "code",
   "execution_count": 1,
   "metadata": {
    "scrolled": true
   },
   "outputs": [],
   "source": [
    "import pandas as pd \n",
    "import matplotlib.pyplot as plt\n",
    "import numpy as np\n",
    "from numpy.random import randn\n",
    "import tensorflow as tf\n",
    "\n",
    "from tensorflow.keras import Input\n",
    "from tensorflow.keras.models import Sequential\n",
    "from tensorflow.keras.layers import Dense, Dropout, Conv1D, Conv2D\n",
    "from tensorflow.keras.optimizers import SGD,Adam,Nadam,Adadelta\n",
    "from tensorflow import keras\n",
    "\n",
    "from sklearn import preprocessing, model_selection\n",
    "from sklearn.preprocessing import KBinsDiscretizer\n",
    "from sklearn.metrics import confusion_matrix, ConfusionMatrixDisplay"
   ]
  },
  {
   "cell_type": "code",
   "execution_count": 2,
   "metadata": {},
   "outputs": [
    {
     "data": {
      "text/plain": [
       "(48836, 24)"
      ]
     },
     "execution_count": 2,
     "metadata": {},
     "output_type": "execute_result"
    }
   ],
   "source": [
    "df = pd.read_csv('market_data_pd.csv',sep=',')\n",
    "df.shape"
   ]
  },
  {
   "cell_type": "code",
   "execution_count": 3,
   "metadata": {},
   "outputs": [
    {
     "data": {
      "text/html": [
       "<div>\n",
       "<style scoped>\n",
       "    .dataframe tbody tr th:only-of-type {\n",
       "        vertical-align: middle;\n",
       "    }\n",
       "\n",
       "    .dataframe tbody tr th {\n",
       "        vertical-align: top;\n",
       "    }\n",
       "\n",
       "    .dataframe thead th {\n",
       "        text-align: right;\n",
       "    }\n",
       "</style>\n",
       "<table border=\"1\" class=\"dataframe\">\n",
       "  <thead>\n",
       "    <tr style=\"text-align: right;\">\n",
       "      <th></th>\n",
       "      <th>Unnamed: 0</th>\n",
       "      <th>Reference Security</th>\n",
       "      <th>Bid Price</th>\n",
       "      <th>Ask Price</th>\n",
       "      <th>Mid Price</th>\n",
       "      <th>Cpn</th>\n",
       "      <th>Maturity</th>\n",
       "      <th>Common Eqty / Tot Assets</th>\n",
       "      <th>Debt / Common Equity</th>\n",
       "      <th>TCE Ratio</th>\n",
       "      <th>...</th>\n",
       "      <th>Amt Out</th>\n",
       "      <th>Total Assets</th>\n",
       "      <th>BCLASS Level 3</th>\n",
       "      <th>Guarantee Type</th>\n",
       "      <th>Guarantor Type</th>\n",
       "      <th>Collat Type</th>\n",
       "      <th>PD_1y</th>\n",
       "      <th>reprice</th>\n",
       "      <th>maturity_years</th>\n",
       "      <th>Error %</th>\n",
       "    </tr>\n",
       "  </thead>\n",
       "  <tbody>\n",
       "    <tr>\n",
       "      <th>5909</th>\n",
       "      <td>5909</td>\n",
       "      <td>ZS424035 Corp</td>\n",
       "      <td>0.010</td>\n",
       "      <td>0.750</td>\n",
       "      <td>0.3800</td>\n",
       "      <td>1.5000</td>\n",
       "      <td>04/26/2024</td>\n",
       "      <td>-147.17300</td>\n",
       "      <td>NaN</td>\n",
       "      <td>-149.82800</td>\n",
       "      <td>...</td>\n",
       "      <td>1.186770e+09</td>\n",
       "      <td>3359.72</td>\n",
       "      <td>Other Industrial</td>\n",
       "      <td>Multiple</td>\n",
       "      <td>Subsidiaries</td>\n",
       "      <td>SR SECURED</td>\n",
       "      <td>1.0</td>\n",
       "      <td>40.007513</td>\n",
       "      <td>2.709589</td>\n",
       "      <td>10428.292944</td>\n",
       "    </tr>\n",
       "    <tr>\n",
       "      <th>1456</th>\n",
       "      <td>1456</td>\n",
       "      <td>AN346569 Corp</td>\n",
       "      <td>0.125</td>\n",
       "      <td>0.700</td>\n",
       "      <td>0.4125</td>\n",
       "      <td>3.8750</td>\n",
       "      <td>10/25/2022</td>\n",
       "      <td>12.72580</td>\n",
       "      <td>177.366</td>\n",
       "      <td>-23.21850</td>\n",
       "      <td>...</td>\n",
       "      <td>4.000000e+08</td>\n",
       "      <td>1808.09</td>\n",
       "      <td>Electric</td>\n",
       "      <td>Multiple</td>\n",
       "      <td>Parent &amp; Subsidiaries</td>\n",
       "      <td>SR SECURED</td>\n",
       "      <td>1.0</td>\n",
       "      <td>40.007513</td>\n",
       "      <td>1.205479</td>\n",
       "      <td>9598.791076</td>\n",
       "    </tr>\n",
       "    <tr>\n",
       "      <th>827</th>\n",
       "      <td>827</td>\n",
       "      <td>AL458635 Corp</td>\n",
       "      <td>0.250</td>\n",
       "      <td>1.750</td>\n",
       "      <td>1.0000</td>\n",
       "      <td>6.2500</td>\n",
       "      <td>06/15/2022</td>\n",
       "      <td>NaN</td>\n",
       "      <td>NaN</td>\n",
       "      <td>NaN</td>\n",
       "      <td>...</td>\n",
       "      <td>7.500000e+08</td>\n",
       "      <td>NaN</td>\n",
       "      <td>Consumer Cyclical</td>\n",
       "      <td>N.A.</td>\n",
       "      <td>N.A.</td>\n",
       "      <td>SR UNSECURED</td>\n",
       "      <td>1.0</td>\n",
       "      <td>42.507983</td>\n",
       "      <td>0.843836</td>\n",
       "      <td>4150.798276</td>\n",
       "    </tr>\n",
       "    <tr>\n",
       "      <th>44900</th>\n",
       "      <td>44900</td>\n",
       "      <td>QJ879163 Corp</td>\n",
       "      <td>0.407</td>\n",
       "      <td>1.481</td>\n",
       "      <td>0.9440</td>\n",
       "      <td>9.8776</td>\n",
       "      <td>12/01/2025</td>\n",
       "      <td>5.74708</td>\n",
       "      <td>467.713</td>\n",
       "      <td>4.97044</td>\n",
       "      <td>...</td>\n",
       "      <td>2.000000e+08</td>\n",
       "      <td>1002610.00</td>\n",
       "      <td>Banking</td>\n",
       "      <td>N.A.</td>\n",
       "      <td>N.A.</td>\n",
       "      <td>SUBORDINATED</td>\n",
       "      <td>1.0</td>\n",
       "      <td>40.007513</td>\n",
       "      <td>4.309589</td>\n",
       "      <td>4138.084024</td>\n",
       "    </tr>\n",
       "    <tr>\n",
       "      <th>44899</th>\n",
       "      <td>44899</td>\n",
       "      <td>QJ879163 Corp</td>\n",
       "      <td>0.396</td>\n",
       "      <td>1.499</td>\n",
       "      <td>0.9475</td>\n",
       "      <td>9.8776</td>\n",
       "      <td>12/01/2025</td>\n",
       "      <td>5.74708</td>\n",
       "      <td>467.713</td>\n",
       "      <td>4.97044</td>\n",
       "      <td>...</td>\n",
       "      <td>2.000000e+08</td>\n",
       "      <td>1002610.00</td>\n",
       "      <td>Banking</td>\n",
       "      <td>N.A.</td>\n",
       "      <td>N.A.</td>\n",
       "      <td>SUBORDINATED</td>\n",
       "      <td>1.0</td>\n",
       "      <td>40.007513</td>\n",
       "      <td>4.309589</td>\n",
       "      <td>4122.428832</td>\n",
       "    </tr>\n",
       "  </tbody>\n",
       "</table>\n",
       "<p>5 rows × 24 columns</p>\n",
       "</div>"
      ],
      "text/plain": [
       "       Unnamed: 0 Reference Security  Bid Price  Ask Price  Mid Price     Cpn  \\\n",
       "5909         5909      ZS424035 Corp      0.010      0.750     0.3800  1.5000   \n",
       "1456         1456      AN346569 Corp      0.125      0.700     0.4125  3.8750   \n",
       "827           827      AL458635 Corp      0.250      1.750     1.0000  6.2500   \n",
       "44900       44900      QJ879163 Corp      0.407      1.481     0.9440  9.8776   \n",
       "44899       44899      QJ879163 Corp      0.396      1.499     0.9475  9.8776   \n",
       "\n",
       "         Maturity  Common Eqty / Tot Assets  Debt / Common Equity  TCE Ratio  \\\n",
       "5909   04/26/2024                -147.17300                   NaN -149.82800   \n",
       "1456   10/25/2022                  12.72580               177.366  -23.21850   \n",
       "827    06/15/2022                       NaN                   NaN        NaN   \n",
       "44900  12/01/2025                   5.74708               467.713    4.97044   \n",
       "44899  12/01/2025                   5.74708               467.713    4.97044   \n",
       "\n",
       "       ...       Amt Out  Total Assets     BCLASS Level 3  Guarantee Type  \\\n",
       "5909   ...  1.186770e+09       3359.72   Other Industrial        Multiple   \n",
       "1456   ...  4.000000e+08       1808.09           Electric        Multiple   \n",
       "827    ...  7.500000e+08           NaN  Consumer Cyclical            N.A.   \n",
       "44900  ...  2.000000e+08    1002610.00            Banking            N.A.   \n",
       "44899  ...  2.000000e+08    1002610.00            Banking            N.A.   \n",
       "\n",
       "              Guarantor Type   Collat Type PD_1y    reprice maturity_years  \\\n",
       "5909            Subsidiaries    SR SECURED   1.0  40.007513       2.709589   \n",
       "1456   Parent & Subsidiaries    SR SECURED   1.0  40.007513       1.205479   \n",
       "827                     N.A.  SR UNSECURED   1.0  42.507983       0.843836   \n",
       "44900                   N.A.  SUBORDINATED   1.0  40.007513       4.309589   \n",
       "44899                   N.A.  SUBORDINATED   1.0  40.007513       4.309589   \n",
       "\n",
       "            Error %  \n",
       "5909   10428.292944  \n",
       "1456    9598.791076  \n",
       "827     4150.798276  \n",
       "44900   4138.084024  \n",
       "44899   4122.428832  \n",
       "\n",
       "[5 rows x 24 columns]"
      ]
     },
     "execution_count": 3,
     "metadata": {},
     "output_type": "execute_result"
    }
   ],
   "source": [
    "df.sort_values('Error %', ascending=False).head()"
   ]
  },
  {
   "cell_type": "code",
   "execution_count": null,
   "metadata": {},
   "outputs": [],
   "source": []
  },
  {
   "cell_type": "code",
   "execution_count": 80,
   "metadata": {},
   "outputs": [
    {
     "data": {
      "text/plain": [
       "Index(['Unnamed: 0', 'Reference Security', 'Bid Price', 'Ask Price',\n",
       "       'Mid Price', 'Cpn', 'Maturity', 'Common Eqty / Tot Assets',\n",
       "       'Debt / Common Equity', 'TCE Ratio', 'Tot Debt / Tot Capital',\n",
       "       'Tot Cap (Local Crncy)', 'Is Covered', 'Is Convertible', 'Amt Out',\n",
       "       'Total Assets', 'BCLASS Level 3', 'Guarantee Type', 'Guarantor Type',\n",
       "       'Collat Type', 'PD_1y', 'reprice', 'maturity_years', 'Error %'],\n",
       "      dtype='object')"
      ]
     },
     "execution_count": 80,
     "metadata": {},
     "output_type": "execute_result"
    }
   ],
   "source": [
    "df = df[df.PD_1y>0.0]\n",
    "df = df[df.PD_1y!=1.0]\n",
    "\n",
    "df.columns"
   ]
  },
  {
   "cell_type": "code",
   "execution_count": 5,
   "metadata": {},
   "outputs": [],
   "source": [
    "def count_nan(df):\n",
    "    for col_name in df.columns:\n",
    "        n_nan = df[col_name].isna().sum()\n",
    "        if n_nan > 0:\n",
    "            print(\"Colomn : \", col_name)  \n",
    "            print(\"NaN : {}/{}\".format(n_nan,len(df[col_name])))\n",
    "            print(\"===============================================\")"
   ]
  },
  {
   "cell_type": "code",
   "execution_count": 6,
   "metadata": {},
   "outputs": [
    {
     "name": "stdout",
     "output_type": "stream",
     "text": [
      "Colomn :  Common Eqty / Tot Assets\n",
      "NaN : 1766/44445\n",
      "===============================================\n",
      "Colomn :  Debt / Common Equity\n",
      "NaN : 2579/44445\n",
      "===============================================\n",
      "Colomn :  TCE Ratio\n",
      "NaN : 2471/44445\n",
      "===============================================\n",
      "Colomn :  Tot Debt / Tot Capital\n",
      "NaN : 2016/44445\n",
      "===============================================\n",
      "Colomn :  Tot Cap (Local Crncy)\n",
      "NaN : 2014/44445\n",
      "===============================================\n",
      "Colomn :  Total Assets\n",
      "NaN : 2361/44445\n",
      "===============================================\n",
      "Colomn :  Guarantee Type\n",
      "NaN : 20/44445\n",
      "===============================================\n",
      "Colomn :  Guarantor Type\n",
      "NaN : 20/44445\n",
      "===============================================\n"
     ]
    }
   ],
   "source": [
    "count_nan(df)"
   ]
  },
  {
   "cell_type": "code",
   "execution_count": 7,
   "metadata": {},
   "outputs": [],
   "source": [
    "#RENSEIGNER LES RATIOS FINANCIERS / VARIABLES CONSIDEREES \n",
    "\n",
    "#df1 = df[[\"Common Eqty / Tot Assets\",'Debt / Common Equity','Tot Debt / Tot Capital','BCLASS Level 3',\"TCE Ratio\",\"PD_1y\"]]\n",
    "df1 = df[['Common Eqty / Tot Assets','TCE Ratio','Tot Debt / Tot Capital','Tot Cap (Local Crncy)','Is Covered','Is Convertible','Amt Out','BCLASS Level 3', 'Guarantee Type','Total Assets', 'Guarantor Type', 'Collat Type','Debt / Common Equity','PD_1y']]\n",
    "df1 = df1[df1['Debt / Common Equity']<2500]\n",
    "df1 = df1[df1['TCE Ratio']>-100]\n",
    "#df1.replace(np.nan, 0.0,inplace=True)\n",
    "df1.dropna(inplace=True)\n",
    "count_nan(df1)"
   ]
  },
  {
   "cell_type": "code",
   "execution_count": 8,
   "metadata": {},
   "outputs": [
    {
     "data": {
      "text/html": [
       "<div>\n",
       "<style scoped>\n",
       "    .dataframe tbody tr th:only-of-type {\n",
       "        vertical-align: middle;\n",
       "    }\n",
       "\n",
       "    .dataframe tbody tr th {\n",
       "        vertical-align: top;\n",
       "    }\n",
       "\n",
       "    .dataframe thead th {\n",
       "        text-align: right;\n",
       "    }\n",
       "</style>\n",
       "<table border=\"1\" class=\"dataframe\">\n",
       "  <thead>\n",
       "    <tr style=\"text-align: right;\">\n",
       "      <th></th>\n",
       "      <th>Common Eqty / Tot Assets</th>\n",
       "      <th>TCE Ratio</th>\n",
       "      <th>Tot Debt / Tot Capital</th>\n",
       "      <th>Tot Cap (Local Crncy)</th>\n",
       "      <th>Is Covered</th>\n",
       "      <th>Is Convertible</th>\n",
       "      <th>Amt Out</th>\n",
       "      <th>BCLASS Level 3</th>\n",
       "      <th>Guarantee Type</th>\n",
       "      <th>Total Assets</th>\n",
       "      <th>Guarantor Type</th>\n",
       "      <th>Collat Type</th>\n",
       "      <th>Debt / Common Equity</th>\n",
       "      <th>PD_1y</th>\n",
       "    </tr>\n",
       "  </thead>\n",
       "  <tbody>\n",
       "    <tr>\n",
       "      <th>2</th>\n",
       "      <td>5.65522</td>\n",
       "      <td>5.41231</td>\n",
       "      <td>84.0491</td>\n",
       "      <td>1077950.0</td>\n",
       "      <td>False</td>\n",
       "      <td>False</td>\n",
       "      <td>1.000000e+09</td>\n",
       "      <td>Banking</td>\n",
       "      <td>N.A.</td>\n",
       "      <td>3040430.0</td>\n",
       "      <td>N.A.</td>\n",
       "      <td>SR UNSECURED</td>\n",
       "      <td>526.924</td>\n",
       "      <td>0.012445</td>\n",
       "    </tr>\n",
       "    <tr>\n",
       "      <th>3</th>\n",
       "      <td>35.98800</td>\n",
       "      <td>2.22137</td>\n",
       "      <td>53.9594</td>\n",
       "      <td>125576.0</td>\n",
       "      <td>False</td>\n",
       "      <td>False</td>\n",
       "      <td>6.060820e+08</td>\n",
       "      <td>Communications</td>\n",
       "      <td>N.A.</td>\n",
       "      <td>155063.0</td>\n",
       "      <td>N.A.</td>\n",
       "      <td>SR UNSECURED</td>\n",
       "      <td>121.425</td>\n",
       "      <td>0.020474</td>\n",
       "    </tr>\n",
       "    <tr>\n",
       "      <th>4</th>\n",
       "      <td>5.71381</td>\n",
       "      <td>5.24664</td>\n",
       "      <td>85.8881</td>\n",
       "      <td>333470.0</td>\n",
       "      <td>False</td>\n",
       "      <td>False</td>\n",
       "      <td>1.500000e+09</td>\n",
       "      <td>Banking</td>\n",
       "      <td>N.A.</td>\n",
       "      <td>809688.0</td>\n",
       "      <td>N.A.</td>\n",
       "      <td>SR UNSECURED</td>\n",
       "      <td>619.080</td>\n",
       "      <td>0.001146</td>\n",
       "    </tr>\n",
       "    <tr>\n",
       "      <th>5</th>\n",
       "      <td>23.50830</td>\n",
       "      <td>19.21360</td>\n",
       "      <td>63.4410</td>\n",
       "      <td>151388.0</td>\n",
       "      <td>False</td>\n",
       "      <td>False</td>\n",
       "      <td>6.000000e+08</td>\n",
       "      <td>Consumer Cyclical</td>\n",
       "      <td>Single</td>\n",
       "      <td>235381.0</td>\n",
       "      <td>Parent</td>\n",
       "      <td>COMPANY GUARNT</td>\n",
       "      <td>173.568</td>\n",
       "      <td>0.001179</td>\n",
       "    </tr>\n",
       "    <tr>\n",
       "      <th>6</th>\n",
       "      <td>4.54799</td>\n",
       "      <td>3.85114</td>\n",
       "      <td>85.6341</td>\n",
       "      <td>226753.0</td>\n",
       "      <td>False</td>\n",
       "      <td>False</td>\n",
       "      <td>1.100000e+09</td>\n",
       "      <td>Banking</td>\n",
       "      <td>N.A.</td>\n",
       "      <td>627244.0</td>\n",
       "      <td>N.A.</td>\n",
       "      <td>SR UNSECURED</td>\n",
       "      <td>680.681</td>\n",
       "      <td>0.002144</td>\n",
       "    </tr>\n",
       "  </tbody>\n",
       "</table>\n",
       "</div>"
      ],
      "text/plain": [
       "   Common Eqty / Tot Assets  TCE Ratio  Tot Debt / Tot Capital  \\\n",
       "2                   5.65522    5.41231                 84.0491   \n",
       "3                  35.98800    2.22137                 53.9594   \n",
       "4                   5.71381    5.24664                 85.8881   \n",
       "5                  23.50830   19.21360                 63.4410   \n",
       "6                   4.54799    3.85114                 85.6341   \n",
       "\n",
       "   Tot Cap (Local Crncy)  Is Covered  Is Convertible       Amt Out  \\\n",
       "2              1077950.0       False           False  1.000000e+09   \n",
       "3               125576.0       False           False  6.060820e+08   \n",
       "4               333470.0       False           False  1.500000e+09   \n",
       "5               151388.0       False           False  6.000000e+08   \n",
       "6               226753.0       False           False  1.100000e+09   \n",
       "\n",
       "      BCLASS Level 3 Guarantee Type  Total Assets Guarantor Type  \\\n",
       "2            Banking           N.A.     3040430.0           N.A.   \n",
       "3     Communications           N.A.      155063.0           N.A.   \n",
       "4            Banking           N.A.      809688.0           N.A.   \n",
       "5  Consumer Cyclical         Single      235381.0         Parent   \n",
       "6            Banking           N.A.      627244.0           N.A.   \n",
       "\n",
       "      Collat Type  Debt / Common Equity     PD_1y  \n",
       "2    SR UNSECURED               526.924  0.012445  \n",
       "3    SR UNSECURED               121.425  0.020474  \n",
       "4    SR UNSECURED               619.080  0.001146  \n",
       "5  COMPANY GUARNT               173.568  0.001179  \n",
       "6    SR UNSECURED               680.681  0.002144  "
      ]
     },
     "execution_count": 8,
     "metadata": {},
     "output_type": "execute_result"
    }
   ],
   "source": [
    "#df1 = df1.dropna(how = 'any') \n",
    "df1.head()"
   ]
  },
  {
   "cell_type": "code",
   "execution_count": 9,
   "metadata": {},
   "outputs": [
    {
     "data": {
      "text/plain": [
       "(36781, 14)"
      ]
     },
     "execution_count": 9,
     "metadata": {},
     "output_type": "execute_result"
    }
   ],
   "source": [
    "df1.shape"
   ]
  },
  {
   "cell_type": "code",
   "execution_count": 10,
   "metadata": {},
   "outputs": [
    {
     "data": {
      "text/plain": [
       "(3657, 14)"
      ]
     },
     "execution_count": 10,
     "metadata": {},
     "output_type": "execute_result"
    }
   ],
   "source": [
    "df1 = df1.drop_duplicates(subset=df1.columns.difference(['PD_1y']))\n",
    "df1.shape"
   ]
  },
  {
   "cell_type": "markdown",
   "metadata": {},
   "source": [
    "# 1. Préparation des données"
   ]
  },
  {
   "cell_type": "markdown",
   "metadata": {},
   "source": [
    "Nous commencerons par séparer les données non étiquietées des étiquettes, les étiquettes se trouvent dans l'array `y_full` et le reste des données dans `X_full`"
   ]
  },
  {
   "cell_type": "code",
   "execution_count": 11,
   "metadata": {},
   "outputs": [],
   "source": [
    "X_full = np.array(df1.drop(columns=['PD_1y']))\n",
    "y_full = np.array(df1['PD_1y'])"
   ]
  },
  {
   "cell_type": "code",
   "execution_count": null,
   "metadata": {},
   "outputs": [],
   "source": []
  },
  {
   "cell_type": "markdown",
   "metadata": {},
   "source": [
    "La prochaine étape consiste à séparer les features continues des features discrètes, cela sera utile car leurs traitements seront différent"
   ]
  },
  {
   "cell_type": "code",
   "execution_count": 12,
   "metadata": {},
   "outputs": [],
   "source": [
    "features = list(df1.drop(columns=['PD_1y']).columns)\n",
    "\n",
    "discrete_features = ['BCLASS Level 3','Guarantee Type','Guarantor Type','Collat Type','Is Covered','Is Convertible']\n",
    "continuous_features = [s for s in features if not s in discrete_features]\n",
    "\n",
    "\n",
    "continuous_features_idx = [features.index(feat_name) for feat_name in continuous_features]\n",
    "discrete_features_idx = [features.index(feat_name) for feat_name in discrete_features]"
   ]
  },
  {
   "cell_type": "markdown",
   "metadata": {},
   "source": [
    "## a. Statistiques descriptives"
   ]
  },
  {
   "cell_type": "code",
   "execution_count": 13,
   "metadata": {},
   "outputs": [
    {
     "data": {
      "image/png": "[encoded data removed]",
      "text/plain": [
       "<Figure size 1008x720 with 7 Axes>"
      ]
     },
     "metadata": {
      "needs_background": "light"
     },
     "output_type": "display_data"
    }
   ],
   "source": [
    "fig = plt.figure(figsize=(14,10))\n",
    "\n",
    "# Histograms for continuous features\n",
    "for (plot_idx, feat_idx) in enumerate(continuous_features_idx):\n",
    "\n",
    "    # create a subplot in the (plot_idx+1) position of a 2x2 grid\n",
    "    ax = fig.add_subplot(8, 2, (plot_idx+1))\n",
    "    # plot the histogram of feat_idx\n",
    "    h = ax.hist(X_full[:, feat_idx], bins=30, edgecolor='black')\n",
    "    # use the name of the feature as a title for each histogram\n",
    "    ax.set_title(features[feat_idx])\n",
    "    #plt.xlim(0,0.001)\n",
    "# espacement entre les subplots\n",
    "fig.tight_layout(pad=0.1)\n",
    "#fig.savefig('continuous_distrib.png')"
   ]
  },
  {
   "cell_type": "code",
   "execution_count": null,
   "metadata": {},
   "outputs": [],
   "source": []
  },
  {
   "cell_type": "code",
   "execution_count": 14,
   "metadata": {
    "scrolled": true
   },
   "outputs": [
    {
     "data": {
      "image/png": "[encoded data removed]",
      "text/plain": [
       "<Figure size 1440x2592 with 6 Axes>"
      ]
     },
     "metadata": {
      "needs_background": "light"
     },
     "output_type": "display_data"
    }
   ],
   "source": [
    "# Bar plots for discrete features\n",
    "fig = plt.figure(figsize=(20, 36))\n",
    "\n",
    "for (plot_idx, feat_idx) in enumerate(discrete_features_idx):\n",
    "    # create a subplot in the (plot_idx+1) position of a 1x3 grid\n",
    "    ax = fig.add_subplot(7, 1, (plot_idx+1))\n",
    "\n",
    "    feature_values = np.unique(X_full[:, feat_idx])\n",
    "    frequencies = [(float(len(np.where(X_full[:, feat_idx]==value)[0]))/X_full.shape[0]) \\\n",
    "                   for value in feature_values]\n",
    "    \n",
    "    b = ax.bar(range(len(feature_values)), frequencies, width=0.8, \n",
    "               tick_label=list([n for n in feature_values]))\n",
    "    \n",
    "    \n",
    "    # use the name of the feature as a title for each histogram\n",
    "    ax.set_title(features[feat_idx])\n",
    "    \n",
    "fig.tight_layout(pad=0.15)\n",
    "fig.savefig('discrete_distrib.png')"
   ]
  },
  {
   "cell_type": "markdown",
   "metadata": {},
   "source": [
    "## b. Traitement des données"
   ]
  },
  {
   "cell_type": "code",
   "execution_count": 15,
   "metadata": {},
   "outputs": [],
   "source": [
    "## A FAIRE COMME CELA :\n",
    "\"\"\"\n",
    "from sklearn.preprocessing import OneHotEncoder\n",
    "\n",
    "enc = OneHotEncoder(handle_unknown='ignore')\n",
    "enc.fit(X_train_submit)\n",
    "\n",
    "X_train_submit = enc.transform(X_train_submit)\n",
    "X_test_submit = enc.transform(X_test_submit)\n",
    "\n",
    "\"\"\"\n",
    "\n",
    "\n",
    "\n",
    "class Pipeline:\n",
    "    def __init__(self, X_train, X_full = None):\n",
    "        \"\"\"\n",
    "        Se fit sur le jeu de TRAIN, une seule fois\n",
    "        \"\"\"\n",
    "        self.ohe = preprocessing.OneHotEncoder(categories='auto',sparse=False).fit(X_full[:,discrete_features_idx])\n",
    "        self.std_scaler = preprocessing.StandardScaler().fit(X_train[:,continuous_features_idx])\n",
    "        print(self.ohe.categories_)\n",
    "        \n",
    "    def traitement(self,X):\n",
    "        \"\"\"\n",
    "        Permet de traiter n'importe quel vecteur X ensuite\n",
    "        \"\"\"\n",
    "    \n",
    "        X_continuous_scaled = self.std_scaler.transform(X[:,continuous_features_idx])\n",
    "        X_discrete_encoded = self.ohe.transform(X[:,discrete_features_idx])\n",
    "        print('moyenne = {}'.format(np.mean(X_continuous_scaled)))\n",
    "        \n",
    "        X_processed = np.hstack((X_discrete_encoded, X_continuous_scaled))\n",
    "    \n",
    "        return X_processed\n"
   ]
  },
  {
   "cell_type": "code",
   "execution_count": 16,
   "metadata": {},
   "outputs": [
    {
     "name": "stdout",
     "output_type": "stream",
     "text": [
      "[array(['Banking', 'Basic Industry', 'Brokerage Assetmanagers Exchanges',\n",
      "       'Capital Goods', 'Communications', 'Consumer Cyclical',\n",
      "       'Consumer Non-Cyclical', 'Electric', 'Energy', 'Finance Companies',\n",
      "       'Government Guaranteed', 'Government Owned. No Guarantee',\n",
      "       'Government Sponsored', 'Hybrid', 'Insurance', 'Local Authority',\n",
      "       'Mortgage Assets', 'Natural Gas', 'Other Financial',\n",
      "       'Other Industrial', 'Other Utility', 'Public Sector Loans',\n",
      "       'REITs', 'Supranational', 'Technology', 'Transportation',\n",
      "       'Whole Business'], dtype=object), array(['Cross Guarantee', 'Multiple', 'N.A.', 'Single'], dtype=object), array(['Bank', 'Company', 'Domestic Restricted Subsidiar',\n",
      "       'Local Government', 'N.A.', 'National/Sovereign Government',\n",
      "       'Other Subsidiary of Parent', 'Parent', 'Parent & Subsidiaries',\n",
      "       'Subsidiaries'], dtype=object), array(['BONDS', 'COMPANY GUARNT', 'COVERED', 'GOVT GUARANTEED',\n",
      "       'GOVT LIQUID GTD', 'INSURED', 'JR SUBORDINATED',\n",
      "       'JUMBO PFANDBRIEF', 'LOCAL GOVT GUARN', 'PFANDBRIEFE', 'SECURED',\n",
      "       'SR SECURED', 'SR SUBORDINATED', 'SR UNSECURED', 'SUBORDINATED',\n",
      "       'UNSECURED'], dtype=object), array([False, True], dtype=object), array([False, True], dtype=object)]\n",
      "moyenne = 2.5677250836492747e-17\n",
      "moyenne = -0.003427440899887592\n"
     ]
    }
   ],
   "source": [
    "X_train, X_test_, y_train, y_test = model_selection.train_test_split(X_full, y_full, test_size=0.1,\n",
    "                                                                    #stratify=y_full, # stratification\n",
    "                                                                    random_state=92)\n",
    "\n",
    "pipe = Pipeline(X_train,X_full)\n",
    "X_train = pipe.traitement(X_train)\n",
    "X_test  = pipe.traitement(X_test_)"
   ]
  },
  {
   "cell_type": "markdown",
   "metadata": {},
   "source": [
    "# II. Réseaux de neurones : prédiction de la PD\n",
    "\n",
    "## a. Implémentation du modèle"
   ]
  },
  {
   "cell_type": "code",
   "execution_count": 17,
   "metadata": {},
   "outputs": [
    {
     "data": {
      "text/plain": [
       "(3291, 68)"
      ]
     },
     "execution_count": 17,
     "metadata": {},
     "output_type": "execute_result"
    }
   ],
   "source": [
    "X_train.shape\n",
    "#RESEAUX DE NEURONES \n",
    "#http://eric.univ-lyon2.fr/~ricco/tanagra/fichiers/fr_Tanagra_Packages_Python_for_Deep_Learning.pdf\n",
    "\n",
    "#Explications très bien dans ce document : \n",
    "\n",
    "#http://exo7.emath.fr/cours/livre-deepmath.pdf \n",
    "\n",
    "#très bon document (parties Python, keras avec les codes et explications)"
   ]
  },
  {
   "cell_type": "code",
   "execution_count": 200,
   "metadata": {},
   "outputs": [],
   "source": [
    "model = Sequential()\n",
    "model.add(Dense(units=1200,input_dim=68,))#activation=\"sigmoid\")) #6 is good\n",
    "model.add(Dense(units=1200))\n",
    "model.add(Dense(units=1200))\n",
    "#model.add(Dropout(0.2))\n",
    "model.add(Dense(units=1,activation=\"sigmoid\"))\n",
    "\n",
    "learning_rate = 0.000005\n",
    "\n",
    "sgd = SGD(learning_rate)  #lr = 0.02\n",
    "adam = Adam(learning_rate) #lr = 0.001\n",
    "\n",
    "#nadam = Nadam(lr=0.0005, beta_1=0.9, beta_2=0.999)\n",
    "\n",
    "#dim première couche = nombre de variables du df "
   ]
  },
  {
   "cell_type": "markdown",
   "metadata": {},
   "source": [
    "**Fonction sigmoïde :** continue et à valeurs dans [0,1] (comme les probabilités de défaut). Régression logit. "
   ]
  },
  {
   "cell_type": "code",
   "execution_count": 201,
   "metadata": {},
   "outputs": [],
   "source": [
    "#modele.compile(loss='mean_squared_error',optimizer=sgd,metrics=[tf.keras.metrics.MeanSquaredError()])\n",
    "#optimizer = sgd\n",
    "#model.compile(loss='mean_squared_error',optimizer='adam',metrics=[tf.keras.metrics.MeanSquaredError()])\n",
    "#model.compile(loss=tf.keras.losses.Huber(delta=.05),optimizer=sgd,metrics=[tf.keras.metrics.MeanSquaredError()])\n",
    "model.compile(loss='mean_absolute_percentage_error',optimizer=adam,metrics=[tf.keras.metrics.MeanAbsolutePercentageError()])"
   ]
  },
  {
   "cell_type": "code",
   "execution_count": 202,
   "metadata": {},
   "outputs": [
    {
     "name": "stdout",
     "output_type": "stream",
     "text": [
      "Model: \"sequential_12\"\n",
      "_________________________________________________________________\n",
      "Layer (type)                 Output Shape              Param #   \n",
      "=================================================================\n",
      "dense_46 (Dense)             (None, 1200)              82800     \n",
      "_________________________________________________________________\n",
      "dense_47 (Dense)             (None, 1200)              1441200   \n",
      "_________________________________________________________________\n",
      "dense_48 (Dense)             (None, 1200)              1441200   \n",
      "_________________________________________________________________\n",
      "dense_49 (Dense)             (None, 1)                 1201      \n",
      "=================================================================\n",
      "Total params: 2,966,401\n",
      "Trainable params: 2,966,401\n",
      "Non-trainable params: 0\n",
      "_________________________________________________________________\n",
      "None\n"
     ]
    }
   ],
   "source": [
    "print(model.summary())"
   ]
  },
  {
   "cell_type": "code",
   "execution_count": 203,
   "metadata": {},
   "outputs": [
    {
     "name": "stdout",
     "output_type": "stream",
     "text": [
      "Epoch 1/30\n",
      "120/120 [==============================] - 1s 9ms/step - loss: 20917.8125 - mean_absolute_percentage_error: 20917.8125 - val_loss: 9021.9346 - val_mean_absolute_percentage_error: 9021.9346\n",
      "Epoch 2/30\n",
      "120/120 [==============================] - 1s 8ms/step - loss: 8930.4424 - mean_absolute_percentage_error: 8930.4424 - val_loss: 4835.9980 - val_mean_absolute_percentage_error: 4835.9980\n",
      "Epoch 3/30\n",
      "120/120 [==============================] - 1s 8ms/step - loss: 5118.5518 - mean_absolute_percentage_error: 5118.5518 - val_loss: 2774.8074 - val_mean_absolute_percentage_error: 2774.8074\n",
      "Epoch 4/30\n",
      "120/120 [==============================] - 1s 8ms/step - loss: 3304.4805 - mean_absolute_percentage_error: 3304.4802 - val_loss: 1710.1035 - val_mean_absolute_percentage_error: 1710.1035\n",
      "Epoch 5/30\n",
      "120/120 [==============================] - 1s 8ms/step - loss: 2428.1565 - mean_absolute_percentage_error: 2428.1565 - val_loss: 1064.8804 - val_mean_absolute_percentage_error: 1064.8804\n",
      "Epoch 6/30\n",
      "120/120 [==============================] - 1s 8ms/step - loss: 1273.3347 - mean_absolute_percentage_error: 1273.3347 - val_loss: 749.7609 - val_mean_absolute_percentage_error: 749.7609\n",
      "Epoch 7/30\n",
      "120/120 [==============================] - 1s 8ms/step - loss: 1076.7220 - mean_absolute_percentage_error: 1076.7220 - val_loss: 537.2743 - val_mean_absolute_percentage_error: 537.2743\n",
      "Epoch 8/30\n",
      "120/120 [==============================] - 1s 8ms/step - loss: 721.1895 - mean_absolute_percentage_error: 721.1895 - val_loss: 405.2019 - val_mean_absolute_percentage_error: 405.2019\n",
      "Epoch 9/30\n",
      "120/120 [==============================] - 1s 9ms/step - loss: 508.4583 - mean_absolute_percentage_error: 508.4583 - val_loss: 325.1209 - val_mean_absolute_percentage_error: 325.1209\n",
      "Epoch 10/30\n",
      "120/120 [==============================] - 1s 9ms/step - loss: 534.2431 - mean_absolute_percentage_error: 534.2431 - val_loss: 259.1605 - val_mean_absolute_percentage_error: 259.1605\n",
      "Epoch 11/30\n",
      "120/120 [==============================] - 1s 9ms/step - loss: 335.8724 - mean_absolute_percentage_error: 335.8724 - val_loss: 220.9000 - val_mean_absolute_percentage_error: 220.9000\n",
      "Epoch 12/30\n",
      "120/120 [==============================] - 1s 10ms/step - loss: 351.3456 - mean_absolute_percentage_error: 351.3456 - val_loss: 186.6217 - val_mean_absolute_percentage_error: 186.6217\n",
      "Epoch 13/30\n",
      "120/120 [==============================] - 1s 9ms/step - loss: 225.8510 - mean_absolute_percentage_error: 225.8510 - val_loss: 169.0719 - val_mean_absolute_percentage_error: 169.0719\n",
      "Epoch 14/30\n",
      "120/120 [==============================] - 1s 9ms/step - loss: 233.2445 - mean_absolute_percentage_error: 233.2445 - val_loss: 151.7932 - val_mean_absolute_percentage_error: 151.7932\n",
      "Epoch 15/30\n",
      "120/120 [==============================] - 1s 8ms/step - loss: 193.3165 - mean_absolute_percentage_error: 193.3165 - val_loss: 140.6338 - val_mean_absolute_percentage_error: 140.6338\n",
      "Epoch 16/30\n",
      "120/120 [==============================] - 1s 9ms/step - loss: 228.8175 - mean_absolute_percentage_error: 228.8175 - val_loss: 128.4657 - val_mean_absolute_percentage_error: 128.4657\n",
      "Epoch 17/30\n",
      "120/120 [==============================] - 1s 9ms/step - loss: 168.6454 - mean_absolute_percentage_error: 168.6454 - val_loss: 121.8857 - val_mean_absolute_percentage_error: 121.8857\n",
      "Epoch 18/30\n",
      "120/120 [==============================] - 1s 9ms/step - loss: 146.5296 - mean_absolute_percentage_error: 146.5296 - val_loss: 116.9572 - val_mean_absolute_percentage_error: 116.9572\n",
      "Epoch 19/30\n",
      "120/120 [==============================] - 1s 9ms/step - loss: 173.6690 - mean_absolute_percentage_error: 173.6690 - val_loss: 111.8881 - val_mean_absolute_percentage_error: 111.8881\n",
      "Epoch 20/30\n",
      "120/120 [==============================] - 1s 9ms/step - loss: 135.0831 - mean_absolute_percentage_error: 135.0831 - val_loss: 108.6335 - val_mean_absolute_percentage_error: 108.6335\n",
      "Epoch 21/30\n",
      "120/120 [==============================] - 1s 9ms/step - loss: 133.9944 - mean_absolute_percentage_error: 133.9944 - val_loss: 106.4133 - val_mean_absolute_percentage_error: 106.4133\n",
      "Epoch 22/30\n",
      "120/120 [==============================] - 1s 10ms/step - loss: 145.4767 - mean_absolute_percentage_error: 145.4767 - val_loss: 103.8801 - val_mean_absolute_percentage_error: 103.8801\n",
      "Epoch 23/30\n",
      "WARNING:tensorflow:Your input ran out of data; interrupting training. Make sure that your dataset or generator can generate at least `steps_per_epoch * epochs` batches (in this case, 3600 batches). You may need to use the repeat() function when building your dataset.\n",
      "  0/120 [..............................] - 0s 0s/step - loss: 145.4767 - mean_absolute_percentage_error: 145.4767 - val_loss: 103.8801 - val_mean_absolute_percentage_error: 103.8801\n",
      "12/12 [==============================] - 0s 3ms/step - loss: 88.9961 - mean_absolute_percentage_error: 88.9961\n",
      "The final loss on the TEST set is: 89.00.\n",
      "The final mean_absolute_percentage_error on the TEST set is: 89.00.\n"
     ]
    },
    {
     "data": {
      "image/png": "[encoded data removed]",
      "text/plain": [
       "<Figure size 432x288 with 1 Axes>"
      ]
     },
     "metadata": {
      "needs_background": "light"
     },
     "output_type": "display_data"
    }
   ],
   "source": [
    "callback = keras.callbacks.EarlyStopping(monitor='loss', patience=3)\n",
    "#callback = None\n",
    "history = model.fit(np.squeeze(X_train), y_train,         # Train the model using the training set...\n",
    "          batch_size=30, epochs=30,\n",
    "          verbose=1, validation_split=0.2,steps_per_epoch=120,)#callbacks=[callback])           # ...holding out 40% of the data for validation\n",
    "\n",
    "# --------------------------------------\n",
    "# Evaluation\n",
    "# --------------------------------------\n",
    "for loss_name, loss_value in list(zip(model.metrics_names, model.evaluate(X_test, y_test, verbose=1))):\n",
    "    print('The final {} on the TEST set is: {:.2f}.'.format(loss_name, loss_value)) # Evaluate the trained model on the test set!\n",
    "\n",
    "    \n",
    "import matplotlib.pyplot as plt\n",
    "\n",
    "# --------------------------------------\n",
    "# Loss functions evolution\n",
    "# --------------------------------------\n",
    "plt.plot(history.history['loss'])\n",
    "plt.plot(history.history['val_loss'])\n",
    "plt.title('Model loss by epoch')\n",
    "plt.ylabel('loss')\n",
    "plt.xlabel('epoch')\n",
    "plt.legend(['train', 'valid'], loc='right')\n",
    "#plt.savefig('nn.png')\n",
    "plt.show()"
   ]
  },
  {
   "cell_type": "code",
   "execution_count": 207,
   "metadata": {},
   "outputs": [
    {
     "data": {
      "image/png": "[encoded data removed]",
      "text/plain": [
       "<Figure size 432x288 with 1 Axes>"
      ]
     },
     "metadata": {
      "needs_background": "light"
     },
     "output_type": "display_data"
    }
   ],
   "source": [
    "plt.plot(history.history['loss'])\n",
    "plt.plot(history.history['val_loss'])\n",
    "plt.title('Model loss by epoch')\n",
    "plt.ylabel('loss')\n",
    "plt.xlabel('epoch')\n",
    "plt.legend(['train', 'valid'], loc='right')\n",
    "plt.savefig('nn.png')\n",
    "plt.show()"
   ]
  },
  {
   "cell_type": "code",
   "execution_count": 208,
   "metadata": {},
   "outputs": [
    {
     "name": "stdout",
     "output_type": "stream",
     "text": [
      "12/12 [==============================] - 0s 3ms/step - loss: 88.9961 - mean_absolute_percentage_error: 88.9961\n",
      "Valeur de l'erreur sur les données de test (loss): 88.99606323242188\n",
      "Précision sur les données de test (MAPE): 88.99606323242188\n"
     ]
    }
   ],
   "source": [
    "#Résultats \n",
    "\n",
    "resultat = model.evaluate(X_test, y_test, verbose=1)\n",
    "print(\"Valeur de l'erreur sur les données de test (loss):\", resultat[0])\n",
    "print('Précision sur les données de test (MAPE):', resultat[1])"
   ]
  },
  {
   "cell_type": "code",
   "execution_count": 209,
   "metadata": {},
   "outputs": [
    {
     "data": {
      "text/plain": [
       "0.019638868048787117"
      ]
     },
     "execution_count": 209,
     "metadata": {},
     "output_type": "execute_result"
    }
   ],
   "source": [
    ".019638868048787117"
   ]
  },
  {
   "cell_type": "code",
   "execution_count": 210,
   "metadata": {},
   "outputs": [
    {
     "data": {
      "text/plain": [
       "-0.00032618513897952894"
      ]
     },
     "execution_count": 210,
     "metadata": {},
     "output_type": "execute_result"
    }
   ],
   "source": [
    "#LASSO\n",
    "\n",
    "from sklearn import linear_model\n",
    "clf = linear_model.Lasso(alpha=0.1)\n",
    "\n",
    "#clf = linear_model.ElasticNet(random_state=47)\n",
    "clf.fit(X_train, y_train)\n",
    "clf.score(X_test, y_test)"
   ]
  },
  {
   "cell_type": "code",
   "execution_count": 211,
   "metadata": {},
   "outputs": [
    {
     "data": {
      "text/plain": [
       "0.1957923331975585"
      ]
     },
     "execution_count": 211,
     "metadata": {},
     "output_type": "execute_result"
    }
   ],
   "source": [
    "#KNN\n",
    "\n",
    "from sklearn.neighbors import KNeighborsRegressor\n",
    "\n",
    "neigh = KNeighborsRegressor(n_neighbors=5)\n",
    "neigh.fit(X_train, y_train)\n",
    "neigh.score(X_test, y_test)\n"
   ]
  },
  {
   "cell_type": "code",
   "execution_count": 212,
   "metadata": {},
   "outputs": [
    {
     "data": {
      "text/plain": [
       "'\\nkernel = DotProduct() + WhiteKernel()\\ngpr = GaussianProcessRegressor(kernel=kernel,random_state=0)\\ngpr.fit(X_train, y_train)\\ngpr.score(X_test, y_test)\\n'"
      ]
     },
     "execution_count": 212,
     "metadata": {},
     "output_type": "execute_result"
    }
   ],
   "source": [
    "#GAUSS\n",
    "\n",
    "from sklearn.gaussian_process import GaussianProcessRegressor\n",
    "from sklearn.gaussian_process.kernels import DotProduct, WhiteKernel\n",
    "\"\"\"\n",
    "kernel = DotProduct() + WhiteKernel()\n",
    "gpr = GaussianProcessRegressor(kernel=kernel,random_state=0)\n",
    "gpr.fit(X_train, y_train)\n",
    "gpr.score(X_test, y_test)\n",
    "\"\"\"\n"
   ]
  },
  {
   "cell_type": "code",
   "execution_count": 213,
   "metadata": {},
   "outputs": [
    {
     "name": "stdout",
     "output_type": "stream",
     "text": [
      "[LibSVM]"
     ]
    },
    {
     "data": {
      "text/plain": [
       "0.23367302323347527"
      ]
     },
     "execution_count": 213,
     "metadata": {},
     "output_type": "execute_result"
    }
   ],
   "source": [
    "#SVR\n",
    "from sklearn.svm import SVR\n",
    "regr = SVR(C=.4, epsilon=0.0001, verbose=True)\n",
    "regr.fit(X_train, y_train)\n",
    "regr.score(X_test, y_test)"
   ]
  },
  {
   "cell_type": "code",
   "execution_count": 214,
   "metadata": {},
   "outputs": [
    {
     "data": {
      "text/plain": [
       "'\\ndef ppp(eps):\\n    regr = SVR(C=.4, epsilon=0.01)\\n    regr.fit(X_train, y_train)\\n    score = regr.score(X_test, y_test)\\n    return score\\n    \\n\\nx_ = np.linspace(1e-3,9e-1,1000)\\n\\nscores = np.vectorize(ppp)(x_)\\n\\nprint(\"best epsilon = {}\".format(x_[list(scores).index(np.max(scores))]))\\n\\n\\n'"
      ]
     },
     "execution_count": 214,
     "metadata": {},
     "output_type": "execute_result"
    }
   ],
   "source": [
    "#SVR\n",
    "\n",
    "\"\"\"\n",
    "def ppp(eps):\n",
    "    regr = SVR(C=.4, epsilon=0.01)\n",
    "    regr.fit(X_train, y_train)\n",
    "    score = regr.score(X_test, y_test)\n",
    "    return score\n",
    "    \n",
    "\n",
    "x_ = np.linspace(1e-3,9e-1,1000)\n",
    "\n",
    "scores = np.vectorize(ppp)(x_)\n",
    "\n",
    "print(\"best epsilon = {}\".format(x_[list(scores).index(np.max(scores))]))\n",
    "\n",
    "\n",
    "\"\"\"\n"
   ]
  },
  {
   "cell_type": "code",
   "execution_count": null,
   "metadata": {},
   "outputs": [],
   "source": []
  },
  {
   "cell_type": "markdown",
   "metadata": {},
   "source": [
    "## b. Observation des résultats "
   ]
  },
  {
   "cell_type": "code",
   "execution_count": 215,
   "metadata": {},
   "outputs": [],
   "source": [
    "def ecart_relatif(row) : \n",
    "    théo = row['Théorique']\n",
    "    préd = row['Prédiction']\n",
    "    return np.abs(théo - préd) / théo"
   ]
  },
  {
   "cell_type": "code",
   "execution_count": 232,
   "metadata": {},
   "outputs": [],
   "source": [
    "def ViewResults(model, X_test, y_test):\n",
    "    prediction = pd.DataFrame(data= model.predict(X_test) ,columns=['Prédiction'])\n",
    "    théorique = pd.DataFrame(data= y_test ,columns=['Théorique'])\n",
    "    prediction, théorique = prediction.reset_index() , théorique.reset_index()\n",
    "\n",
    "    results = pd.merge(théorique, prediction, on = 'index').drop(columns=['index'])\n",
    "    results[\"Ecart_relatif\"] = results.apply(ecart_relatif,axis=1)\n",
    "    \n",
    "    results.sort_values('Ecart_relatif',inplace=True)\n",
    "    \n",
    "    #print(results.tail(20))\n",
    "    k=.2\n",
    "    \n",
    "    \n",
    "    print(\"\\n\\nL'écart relatif moyen est de \" + str(results[\"Ecart_relatif\"].mean() * 100) + \"%\")\n",
    "    premiere_bissectrice = np.linspace(0,k * 1e-1,100)\n",
    "    \n",
    "    plt.plot(premiere_bissectrice,premiere_bissectrice, color='red')\n",
    "    plt.scatter(results[\"Théorique\"],results[\"Prédiction\"])\n",
    "    \n",
    "    \n",
    "    plt.xlim(-k*1e-2,k * 1e-1)\n",
    "    plt.ylim(-k*1e-2,k * 1e-1)\n",
    "    plt.savefig('nn_pred.png')\n",
    "    plt.show()"
   ]
  },
  {
   "cell_type": "code",
   "execution_count": 229,
   "metadata": {},
   "outputs": [
    {
     "name": "stdout",
     "output_type": "stream",
     "text": [
      "Resultat pour la regression SVR\n",
      "\n",
      "\n",
      "L'écart relatif moyen est de 83.1596659011553%\n"
     ]
    },
    {
     "data": {
      "image/png": "[encoded data removed]",
      "text/plain": [
       "<Figure size 432x288 with 1 Axes>"
      ]
     },
     "metadata": {
      "needs_background": "light"
     },
     "output_type": "display_data"
    }
   ],
   "source": [
    "print('Resultat pour la regression SVR')\n",
    "ViewResults(regr, X_test, y_test)"
   ]
  },
  {
   "cell_type": "code",
   "execution_count": 230,
   "metadata": {},
   "outputs": [
    {
     "name": "stdout",
     "output_type": "stream",
     "text": [
      "Resultat pour la regression 5-NN\n",
      "\n",
      "\n",
      "L'écart relatif moyen est de 109.83325460691708%\n"
     ]
    },
    {
     "data": {
      "image/png": "[encoded data removed]",
      "text/plain": [
       "<Figure size 432x288 with 1 Axes>"
      ]
     },
     "metadata": {
      "needs_background": "light"
     },
     "output_type": "display_data"
    }
   ],
   "source": [
    "print('Resultat pour la regression 5-NN')\n",
    "ViewResults(neigh,X_test,y_test)"
   ]
  },
  {
   "cell_type": "code",
   "execution_count": 233,
   "metadata": {},
   "outputs": [
    {
     "name": "stdout",
     "output_type": "stream",
     "text": [
      "Resultat pour la regression via Dense Neural Net\n",
      "\n",
      "\n",
      "L'écart relatif moyen est de 88.99606296409878%\n"
     ]
    },
    {
     "data": {
      "image/png": "[encoded data removed]",
      "text/plain": [
       "<Figure size 432x288 with 1 Axes>"
      ]
     },
     "metadata": {
      "needs_background": "light"
     },
     "output_type": "display_data"
    }
   ],
   "source": [
    "print('Resultat pour la regression via Dense Neural Net')\n",
    "ViewResults(model,X_test,y_test)"
   ]
  },
  {
   "cell_type": "markdown",
   "metadata": {},
   "source": [
    "---------------"
   ]
  },
  {
   "cell_type": "markdown",
   "metadata": {},
   "source": [
    "# III. Réseaux de neurones : Test classification multi-classe"
   ]
  },
  {
   "cell_type": "markdown",
   "metadata": {},
   "source": [
    "## a. Classification des PD"
   ]
  },
  {
   "cell_type": "markdown",
   "metadata": {},
   "source": [
    "**Transformation de la distribution** "
   ]
  },
  {
   "cell_type": "code",
   "execution_count": 107,
   "metadata": {},
   "outputs": [],
   "source": [
    "lam = 1/y_train.mean()"
   ]
  },
  {
   "cell_type": "code",
   "execution_count": 108,
   "metadata": {},
   "outputs": [],
   "source": [
    "def loi_expo(x,lam) : \n",
    "    return lam * np.exp(- lam * x)"
   ]
  },
  {
   "cell_type": "code",
   "execution_count": 110,
   "metadata": {},
   "outputs": [
    {
     "data": {
      "image/png": "[encoded data removed]",
      "text/plain": [
       "<Figure size 432x288 with 1 Axes>"
      ]
     },
     "metadata": {
      "needs_background": "light"
     },
     "output_type": "display_data"
    }
   ],
   "source": [
    "from pylab import *\n",
    "x_arg = linspace(0, 0.2, 100)\n",
    "y_arg = loi_expo(x_arg,lam)# * 8\n",
    "\n",
    "plot(x_arg, y_arg)\n",
    "plt.hist(y_train, range = (0, 0.2), bins = 1000, edgecolor='orange')\n",
    "show()"
   ]
  },
  {
   "cell_type": "code",
   "execution_count": 48,
   "metadata": {},
   "outputs": [],
   "source": [
    "def distrib_function(x,lam) : \n",
    "    return 1 - np.exp(- lam * x)\n",
    "\n",
    "y_train_exp = distrib_function(y_train,lam)\n",
    "y_test_exp = distrib_function(y_test,lam)"
   ]
  },
  {
   "cell_type": "code",
   "execution_count": 49,
   "metadata": {},
   "outputs": [
    {
     "data": {
      "text/plain": [
       "(array([34., 39., 31., 43., 47., 46., 52., 43., 38., 44., 30., 39., 32.,\n",
       "        45., 53., 43., 45., 40., 44., 34., 55., 46., 43., 39., 48., 61.,\n",
       "        44., 44., 39., 52., 54., 44., 54., 42., 48., 52., 45., 37., 43.,\n",
       "        37., 33., 35., 47., 27., 38., 34., 38., 37., 32., 25., 37., 29.,\n",
       "        28., 26., 24., 20., 23., 19., 15., 16., 23., 23., 24., 19., 14.,\n",
       "        23., 23., 22., 18., 13., 22., 17., 18., 18., 20., 16., 16., 16.,\n",
       "        16., 18., 20., 27., 18., 14., 21., 21., 18., 29., 22., 32., 24.,\n",
       "        31., 26., 31., 34., 31., 28., 33., 38., 82.]),\n",
       " array([0.  , 0.01, 0.02, 0.03, 0.04, 0.05, 0.06, 0.07, 0.08, 0.09, 0.1 ,\n",
       "        0.11, 0.12, 0.13, 0.14, 0.15, 0.16, 0.17, 0.18, 0.19, 0.2 , 0.21,\n",
       "        0.22, 0.23, 0.24, 0.25, 0.26, 0.27, 0.28, 0.29, 0.3 , 0.31, 0.32,\n",
       "        0.33, 0.34, 0.35, 0.36, 0.37, 0.38, 0.39, 0.4 , 0.41, 0.42, 0.43,\n",
       "        0.44, 0.45, 0.46, 0.47, 0.48, 0.49, 0.5 , 0.51, 0.52, 0.53, 0.54,\n",
       "        0.55, 0.56, 0.57, 0.58, 0.59, 0.6 , 0.61, 0.62, 0.63, 0.64, 0.65,\n",
       "        0.66, 0.67, 0.68, 0.69, 0.7 , 0.71, 0.72, 0.73, 0.74, 0.75, 0.76,\n",
       "        0.77, 0.78, 0.79, 0.8 , 0.81, 0.82, 0.83, 0.84, 0.85, 0.86, 0.87,\n",
       "        0.88, 0.89, 0.9 , 0.91, 0.92, 0.93, 0.94, 0.95, 0.96, 0.97, 0.98,\n",
       "        0.99, 1.  ]),\n",
       " <BarContainer object of 100 artists>)"
      ]
     },
     "execution_count": 49,
     "metadata": {},
     "output_type": "execute_result"
    },
    {
     "data": {
      "image/png": "[encoded data removed]",
      "text/plain": [
       "<Figure size 432x288 with 1 Axes>"
      ]
     },
     "metadata": {
      "needs_background": "light"
     },
     "output_type": "display_data"
    }
   ],
   "source": [
    "plt.hist(y_train_exp, range = (0, 1), bins = 100)"
   ]
  },
  {
   "cell_type": "markdown",
   "metadata": {},
   "source": [
    "**Règle du coude :** déterminer le nombre de clusters "
   ]
  },
  {
   "cell_type": "code",
   "execution_count": 50,
   "metadata": {},
   "outputs": [],
   "source": [
    "from sklearn.cluster import KMeans"
   ]
  },
  {
   "cell_type": "code",
   "execution_count": 51,
   "metadata": {},
   "outputs": [
    {
     "data": {
      "image/png": "[encoded data removed]",
      "text/plain": [
       "<Figure size 432x288 with 1 Axes>"
      ]
     },
     "metadata": {
      "needs_background": "light"
     },
     "output_type": "display_data"
    }
   ],
   "source": [
    "def regle_du_coude(base_input, nb_cluster_teste):\n",
    "    \n",
    "    distortions = []\n",
    "    df = pd.DataFrame(columns = ['X', 'Y']) \n",
    "    df[\"X\"]=base_input\n",
    "    df[\"Y\"]=base_input\n",
    "\n",
    "    for k in range(1,nb_cluster_teste+1):\n",
    "        kmeanModel = KMeans(n_clusters=k)\n",
    "        kmeanModel.fit(df)\n",
    "        distortions.append(kmeanModel.inertia_)\n",
    "    \n",
    "    plt.plot(range(1,nb_cluster_teste+1), distortions, 'rx--')\n",
    "    plt.xticks(range(0,nb_cluster_teste+1,2))\n",
    "    plt.xlabel('Nombre de clusters',)\n",
    "    plt.ylabel('Variance intra-classe')\n",
    "    plt.title('La méthode du coude')\n",
    "    plt.show()\n",
    "    \n",
    "regle_du_coude(y_train_exp,20)"
   ]
  },
  {
   "cell_type": "markdown",
   "metadata": {},
   "source": [
    "**Clustering :**"
   ]
  },
  {
   "cell_type": "code",
   "execution_count": 52,
   "metadata": {},
   "outputs": [],
   "source": [
    "#Au départ : reprendre base de train et de test créées dans la partie I. \n",
    "#X_train, y_train, X_test, y_test\n",
    "\n",
    "class Discretizer:\n",
    "    def __init__(self, y_train, nb_class=6):\n",
    "        \n",
    "        self.nb_class = nb_class\n",
    "        self.y_train = y_train.reshape((-1,1))\n",
    "\n",
    "        self.kbins = KBinsDiscretizer(n_bins=self.nb_class, encode='ordinal', strategy='kmeans')#strategy : uniform, quantile, kmeans\n",
    "        self.kbins.fit(self.y_train)\n",
    "        \n",
    "        \n",
    "    def discretize(self,y):\n",
    "        y = y.reshape((-1,1))\n",
    "        y_class = self.kbins.transform(y)\n",
    "        return y_class"
   ]
  },
  {
   "cell_type": "code",
   "execution_count": 53,
   "metadata": {},
   "outputs": [],
   "source": [
    "nb_class = 6\n",
    "discretizer = Discretizer(y_train_exp, nb_class=nb_class)\n",
    "\n",
    "y_train_class = discretizer.discretize(y_train_exp)\n",
    "y_test_class  = discretizer.discretize(y_test_exp)"
   ]
  },
  {
   "cell_type": "code",
   "execution_count": 54,
   "metadata": {},
   "outputs": [
    {
     "data": {
      "text/plain": [
       "array([0.0312266 , 0.06754044, 0.0285428 , ..., 0.00804611, 0.03108146,\n",
       "       0.00382763])"
      ]
     },
     "execution_count": 54,
     "metadata": {},
     "output_type": "execute_result"
    }
   ],
   "source": [
    "y_train"
   ]
  },
  {
   "cell_type": "code",
   "execution_count": 55,
   "metadata": {},
   "outputs": [
    {
     "data": {
      "image/png": "[encoded data removed]",
      "text/plain": [
       "<Figure size 432x288 with 1 Axes>"
      ]
     },
     "metadata": {
      "needs_background": "light"
     },
     "output_type": "display_data"
    }
   ],
   "source": [
    "plt.hist(y_train_class, range = (0, nb_class), bins = nb_class, edgecolor='black' )\n",
    "plt.xlabel('Classes')\n",
    "plt.ylabel('Nombre de bonds')\n",
    "plt.title('Histogramme du nombre de bonds par classe - base de train')\n",
    "plt.show()"
   ]
  },
  {
   "cell_type": "code",
   "execution_count": 56,
   "metadata": {},
   "outputs": [
    {
     "data": {
      "image/png": "[encoded data removed]",
      "text/plain": [
       "<Figure size 432x288 with 1 Axes>"
      ]
     },
     "metadata": {
      "needs_background": "light"
     },
     "output_type": "display_data"
    }
   ],
   "source": [
    "plt.hist(y_test_class, range = (0, nb_class), bins = nb_class, edgecolor='black' )\n",
    "plt.xlabel('Classes')\n",
    "plt.ylabel('Nombre de bonds')\n",
    "plt.title('Histogramme du nombre de bonds par classe - base de test')\n",
    "plt.show()"
   ]
  },
  {
   "cell_type": "code",
   "execution_count": null,
   "metadata": {},
   "outputs": [],
   "source": []
  },
  {
   "cell_type": "markdown",
   "metadata": {},
   "source": [
    "## b. Implémentation du modèle"
   ]
  },
  {
   "cell_type": "code",
   "execution_count": 65,
   "metadata": {},
   "outputs": [],
   "source": [
    "\n",
    "model = Sequential()\n",
    "#model.add(Conv1D(12, 2, activation='relu',input_shape=input_shape[1:]))\n",
    "model.add(Dense(units=2000,input_dim=68)) #6 is good\n",
    "model.add(Dense(units=2000))\n",
    "model.add(Dropout(0.4))\n",
    "model.add(Dense(units=nb_class,activation=\"softmax\")) #output\n",
    "\n",
    "\n",
    "#32, 3, activation='relu', input_shape=input_shape[2:])(x)\n",
    "\n",
    "\n"
   ]
  },
  {
   "cell_type": "code",
   "execution_count": 66,
   "metadata": {},
   "outputs": [],
   "source": [
    "from tensorflow import keras \n",
    "\n",
    "model.compile(optimizer=keras.optimizers.Adam(lr=0.0003),\n",
    "              loss=keras.losses.SparseCategoricalCrossentropy(from_logits=False), # default from_logits=False\n",
    "              metrics=[keras.metrics.SparseCategoricalAccuracy()])"
   ]
  },
  {
   "cell_type": "code",
   "execution_count": 67,
   "metadata": {},
   "outputs": [],
   "source": [
    "#model.fit(X_train,y_train,validation_split=0.4, epochs=40)"
   ]
  },
  {
   "cell_type": "code",
   "execution_count": 68,
   "metadata": {},
   "outputs": [
    {
     "name": "stdout",
     "output_type": "stream",
     "text": [
      "Epoch 1/100\n",
      "250/250 [==============================] - 3s 10ms/step - loss: 1.5870 - sparse_categorical_accuracy: 0.3744 - val_loss: 1.4424 - val_sparse_categorical_accuracy: 0.4182\n",
      "Epoch 2/100\n",
      "250/250 [==============================] - 2s 10ms/step - loss: 1.5065 - sparse_categorical_accuracy: 0.3972 - val_loss: 1.4001 - val_sparse_categorical_accuracy: 0.4152\n",
      "Epoch 3/100\n",
      "250/250 [==============================] - 2s 9ms/step - loss: 1.4757 - sparse_categorical_accuracy: 0.4150 - val_loss: 1.4068 - val_sparse_categorical_accuracy: 0.4394\n",
      "Epoch 4/100\n",
      "250/250 [==============================] - 3s 11ms/step - loss: 1.4671 - sparse_categorical_accuracy: 0.4102 - val_loss: 1.3986 - val_sparse_categorical_accuracy: 0.4273\n",
      "Epoch 5/100\n",
      "250/250 [==============================] - 3s 10ms/step - loss: 1.4475 - sparse_categorical_accuracy: 0.4121 - val_loss: 1.3778 - val_sparse_categorical_accuracy: 0.4152\n",
      "Epoch 6/100\n",
      "250/250 [==============================] - 2s 9ms/step - loss: 1.4354 - sparse_categorical_accuracy: 0.4178 - val_loss: 1.3541 - val_sparse_categorical_accuracy: 0.4576\n",
      "Epoch 7/100\n",
      "250/250 [==============================] - 3s 10ms/step - loss: 1.4502 - sparse_categorical_accuracy: 0.4190 - val_loss: 1.3691 - val_sparse_categorical_accuracy: 0.4333\n",
      "Epoch 8/100\n",
      "250/250 [==============================] - 3s 10ms/step - loss: 1.4358 - sparse_categorical_accuracy: 0.4202 - val_loss: 1.3383 - val_sparse_categorical_accuracy: 0.4758\n",
      "Epoch 9/100\n",
      "250/250 [==============================] - 3s 12ms/step - loss: 1.4362 - sparse_categorical_accuracy: 0.4228 - val_loss: 1.3782 - val_sparse_categorical_accuracy: 0.4303\n",
      "Epoch 10/100\n",
      "250/250 [==============================] - 3s 11ms/step - loss: 1.4301 - sparse_categorical_accuracy: 0.4184 - val_loss: 1.3597 - val_sparse_categorical_accuracy: 0.4455\n",
      "Epoch 11/100\n",
      "250/250 [==============================] - 3s 11ms/step - loss: 1.4175 - sparse_categorical_accuracy: 0.4196 - val_loss: 1.3423 - val_sparse_categorical_accuracy: 0.4333\n",
      "Epoch 12/100\n",
      "250/250 [==============================] - 3s 10ms/step - loss: 1.4239 - sparse_categorical_accuracy: 0.4242 - val_loss: 1.3649 - val_sparse_categorical_accuracy: 0.4333\n",
      "Epoch 13/100\n",
      "250/250 [==============================] - 2s 10ms/step - loss: 1.4207 - sparse_categorical_accuracy: 0.4228 - val_loss: 1.3805 - val_sparse_categorical_accuracy: 0.4364\n",
      "Epoch 14/100\n",
      "250/250 [==============================] - 2s 9ms/step - loss: 1.4234 - sparse_categorical_accuracy: 0.4216 - val_loss: 1.3633 - val_sparse_categorical_accuracy: 0.4455\n",
      "Epoch 15/100\n",
      "250/250 [==============================] - 2s 9ms/step - loss: 1.4165 - sparse_categorical_accuracy: 0.4266 - val_loss: 1.3530 - val_sparse_categorical_accuracy: 0.4515\n",
      "Epoch 16/100\n",
      "250/250 [==============================] - 2s 9ms/step - loss: 1.4303 - sparse_categorical_accuracy: 0.4186 - val_loss: 1.3741 - val_sparse_categorical_accuracy: 0.3970\n",
      "Epoch 17/100\n",
      "250/250 [==============================] - 2s 10ms/step - loss: 1.4066 - sparse_categorical_accuracy: 0.4373 - val_loss: 1.3664 - val_sparse_categorical_accuracy: 0.4424\n",
      "Epoch 18/100\n",
      "250/250 [==============================] - 2s 10ms/step - loss: 1.4205 - sparse_categorical_accuracy: 0.4244 - val_loss: 1.3582 - val_sparse_categorical_accuracy: 0.4606\n",
      "Epoch 19/100\n",
      "250/250 [==============================] - 2s 10ms/step - loss: 1.4187 - sparse_categorical_accuracy: 0.4214 - val_loss: 1.3541 - val_sparse_categorical_accuracy: 0.4515\n",
      "Epoch 20/100\n",
      "250/250 [==============================] - 3s 10ms/step - loss: 1.4059 - sparse_categorical_accuracy: 0.4272 - val_loss: 1.3523 - val_sparse_categorical_accuracy: 0.4485\n",
      "Epoch 21/100\n",
      "250/250 [==============================] - 2s 10ms/step - loss: 1.4166 - sparse_categorical_accuracy: 0.4363 - val_loss: 1.3600 - val_sparse_categorical_accuracy: 0.4394\n",
      "Epoch 22/100\n",
      "250/250 [==============================] - 3s 10ms/step - loss: 1.4110 - sparse_categorical_accuracy: 0.4312 - val_loss: 1.3475 - val_sparse_categorical_accuracy: 0.4788\n",
      "Epoch 23/100\n",
      "250/250 [==============================] - 3s 11ms/step - loss: 1.4117 - sparse_categorical_accuracy: 0.4244 - val_loss: 1.3485 - val_sparse_categorical_accuracy: 0.4576\n",
      "Epoch 24/100\n",
      "250/250 [==============================] - 3s 10ms/step - loss: 1.4105 - sparse_categorical_accuracy: 0.4272 - val_loss: 1.3821 - val_sparse_categorical_accuracy: 0.4333\n",
      "Epoch 25/100\n",
      "250/250 [==============================] - 2s 10ms/step - loss: 1.4075 - sparse_categorical_accuracy: 0.4351 - val_loss: 1.3463 - val_sparse_categorical_accuracy: 0.4515\n",
      "Epoch 26/100\n",
      "250/250 [==============================] - 2s 10ms/step - loss: 1.4044 - sparse_categorical_accuracy: 0.4357 - val_loss: 1.3674 - val_sparse_categorical_accuracy: 0.4424\n",
      "Epoch 27/100\n",
      "250/250 [==============================] - 2s 10ms/step - loss: 1.4100 - sparse_categorical_accuracy: 0.4281 - val_loss: 1.3615 - val_sparse_categorical_accuracy: 0.4424\n",
      "Epoch 28/100\n",
      "250/250 [==============================] - 2s 9ms/step - loss: 1.4099 - sparse_categorical_accuracy: 0.4353 - val_loss: 1.3571 - val_sparse_categorical_accuracy: 0.4182\n",
      "Epoch 29/100\n",
      "250/250 [==============================] - 3s 10ms/step - loss: 1.4132 - sparse_categorical_accuracy: 0.4272 - val_loss: 1.3653 - val_sparse_categorical_accuracy: 0.4455\n",
      "Epoch 30/100\n",
      "250/250 [==============================] - 3s 12ms/step - loss: 1.4001 - sparse_categorical_accuracy: 0.4361 - val_loss: 1.3545 - val_sparse_categorical_accuracy: 0.4515\n",
      "Epoch 31/100\n",
      "250/250 [==============================] - 2s 10ms/step - loss: 1.4211 - sparse_categorical_accuracy: 0.4272 - val_loss: 1.3561 - val_sparse_categorical_accuracy: 0.4333\n",
      "Epoch 32/100\n",
      "250/250 [==============================] - 2s 10ms/step - loss: 1.4012 - sparse_categorical_accuracy: 0.4318 - val_loss: 1.3809 - val_sparse_categorical_accuracy: 0.4273\n",
      "Epoch 33/100\n",
      "250/250 [==============================] - 3s 10ms/step - loss: 1.4184 - sparse_categorical_accuracy: 0.4299 - val_loss: 1.3656 - val_sparse_categorical_accuracy: 0.4152\n",
      "Epoch 34/100\n",
      "250/250 [==============================] - 3s 10ms/step - loss: 1.4058 - sparse_categorical_accuracy: 0.4293 - val_loss: 1.3588 - val_sparse_categorical_accuracy: 0.4606\n",
      "Epoch 35/100\n",
      "250/250 [==============================] - 3s 10ms/step - loss: 1.4121 - sparse_categorical_accuracy: 0.4290 - val_loss: 1.3731 - val_sparse_categorical_accuracy: 0.4424\n",
      "Epoch 36/100\n",
      "250/250 [==============================] - 2s 10ms/step - loss: 1.4013 - sparse_categorical_accuracy: 0.4309 - val_loss: 1.3596 - val_sparse_categorical_accuracy: 0.4515\n",
      "Epoch 37/100\n",
      "250/250 [==============================] - 2s 10ms/step - loss: 1.4038 - sparse_categorical_accuracy: 0.4401 - val_loss: 1.3378 - val_sparse_categorical_accuracy: 0.4545\n",
      "Epoch 38/100\n",
      "250/250 [==============================] - 3s 10ms/step - loss: 1.4116 - sparse_categorical_accuracy: 0.4294 - val_loss: 1.3622 - val_sparse_categorical_accuracy: 0.4515\n",
      "Epoch 39/100\n",
      "250/250 [==============================] - 3s 11ms/step - loss: 1.3974 - sparse_categorical_accuracy: 0.4349 - val_loss: 1.3627 - val_sparse_categorical_accuracy: 0.4303\n",
      "Epoch 40/100\n",
      "250/250 [==============================] - 2s 10ms/step - loss: 1.4116 - sparse_categorical_accuracy: 0.4293 - val_loss: 1.3715 - val_sparse_categorical_accuracy: 0.4333\n",
      "Epoch 41/100\n",
      "250/250 [==============================] - 2s 10ms/step - loss: 1.4084 - sparse_categorical_accuracy: 0.4330 - val_loss: 1.3531 - val_sparse_categorical_accuracy: 0.4515\n",
      "Epoch 42/100\n",
      "250/250 [==============================] - 3s 10ms/step - loss: 1.4040 - sparse_categorical_accuracy: 0.4242 - val_loss: 1.3747 - val_sparse_categorical_accuracy: 0.4364\n",
      "Epoch 43/100\n",
      "250/250 [==============================] - 3s 10ms/step - loss: 1.3952 - sparse_categorical_accuracy: 0.4347 - val_loss: 1.3718 - val_sparse_categorical_accuracy: 0.4424\n",
      "Epoch 44/100\n",
      "250/250 [==============================] - 3s 10ms/step - loss: 1.4075 - sparse_categorical_accuracy: 0.4296 - val_loss: 1.3583 - val_sparse_categorical_accuracy: 0.4545\n",
      "Epoch 45/100\n",
      "250/250 [==============================] - 3s 10ms/step - loss: 1.4018 - sparse_categorical_accuracy: 0.4277 - val_loss: 1.3635 - val_sparse_categorical_accuracy: 0.4455\n"
     ]
    },
    {
     "name": "stdout",
     "output_type": "stream",
     "text": [
      "Epoch 46/100\n",
      "250/250 [==============================] - 2s 10ms/step - loss: 1.4082 - sparse_categorical_accuracy: 0.4351 - val_loss: 1.3740 - val_sparse_categorical_accuracy: 0.4424\n",
      "Epoch 47/100\n",
      "250/250 [==============================] - 3s 10ms/step - loss: 1.4165 - sparse_categorical_accuracy: 0.4268 - val_loss: 1.3700 - val_sparse_categorical_accuracy: 0.4424\n",
      "Epoch 48/100\n",
      "250/250 [==============================] - 3s 10ms/step - loss: 1.4046 - sparse_categorical_accuracy: 0.4309 - val_loss: 1.3888 - val_sparse_categorical_accuracy: 0.3970\n",
      "Epoch 49/100\n",
      "250/250 [==============================] - 2s 10ms/step - loss: 1.4099 - sparse_categorical_accuracy: 0.4307 - val_loss: 1.3555 - val_sparse_categorical_accuracy: 0.4455\n",
      "Epoch 50/100\n",
      "250/250 [==============================] - 3s 11ms/step - loss: 1.4015 - sparse_categorical_accuracy: 0.4322 - val_loss: 1.3870 - val_sparse_categorical_accuracy: 0.4303\n",
      "Epoch 51/100\n",
      "250/250 [==============================] - 2s 9ms/step - loss: 1.4076 - sparse_categorical_accuracy: 0.4258 - val_loss: 1.3477 - val_sparse_categorical_accuracy: 0.4364\n",
      "Epoch 52/100\n",
      "250/250 [==============================] - 2s 9ms/step - loss: 1.4026 - sparse_categorical_accuracy: 0.4303 - val_loss: 1.3466 - val_sparse_categorical_accuracy: 0.4606\n",
      "Epoch 53/100\n",
      "250/250 [==============================] - 2s 9ms/step - loss: 1.4019 - sparse_categorical_accuracy: 0.4351 - val_loss: 1.3938 - val_sparse_categorical_accuracy: 0.4364\n",
      "Epoch 54/100\n",
      "250/250 [==============================] - 2s 10ms/step - loss: 1.4117 - sparse_categorical_accuracy: 0.4325 - val_loss: 1.3525 - val_sparse_categorical_accuracy: 0.4485\n",
      "Epoch 55/100\n",
      "250/250 [==============================] - 3s 10ms/step - loss: 1.3961 - sparse_categorical_accuracy: 0.4377 - val_loss: 1.3553 - val_sparse_categorical_accuracy: 0.4606\n",
      "Epoch 56/100\n",
      "250/250 [==============================] - 2s 10ms/step - loss: 1.4051 - sparse_categorical_accuracy: 0.4322 - val_loss: 1.3673 - val_sparse_categorical_accuracy: 0.4455\n",
      "Epoch 57/100\n",
      "250/250 [==============================] - 2s 9ms/step - loss: 1.3984 - sparse_categorical_accuracy: 0.4353 - val_loss: 1.3711 - val_sparse_categorical_accuracy: 0.4242\n",
      "Epoch 58/100\n",
      "250/250 [==============================] - 2s 9ms/step - loss: 1.4121 - sparse_categorical_accuracy: 0.4224 - val_loss: 1.3702 - val_sparse_categorical_accuracy: 0.4545\n",
      "Epoch 59/100\n",
      "250/250 [==============================] - 2s 9ms/step - loss: 1.3957 - sparse_categorical_accuracy: 0.4338 - val_loss: 1.3590 - val_sparse_categorical_accuracy: 0.4545\n",
      "Epoch 60/100\n",
      "145/250 [================>.............] - ETA: 0s - loss: 1.4054 - sparse_categorical_accuracy: 0.4269WARNING:tensorflow:Your input ran out of data; interrupting training. Make sure that your dataset or generator can generate at least `steps_per_epoch * epochs` batches (in this case, 25000 batches). You may need to use the repeat() function when building your dataset.\n",
      "150/250 [=================>............] - 1s 10ms/step - loss: 1.4013 - sparse_categorical_accuracy: 0.4298 - val_loss: 1.3573 - val_sparse_categorical_accuracy: 0.4545\n"
     ]
    }
   ],
   "source": [
    "\n",
    "\n",
    "\n",
    "\n",
    "history = model.fit(X_train, y_train_class,         # Train the model using the training set...\n",
    "          batch_size=20, epochs=100,\n",
    "          verbose=1, validation_split=0.1,steps_per_epoch=250)  "
   ]
  },
  {
   "cell_type": "code",
   "execution_count": 69,
   "metadata": {},
   "outputs": [
    {
     "name": "stdout",
     "output_type": "stream",
     "text": [
      "12/12 [==============================] - 0s 3ms/step - loss: 1.4104 - sparse_categorical_accuracy: 0.4016\n",
      "The final loss on the TEST set is: 1.41.\n",
      "The final sparse_categorical_accuracy on the TEST set is: 0.40.\n"
     ]
    },
    {
     "data": {
      "image/png": "[encoded data removed]",
      "text/plain": [
       "<Figure size 432x288 with 1 Axes>"
      ]
     },
     "metadata": {
      "needs_background": "light"
     },
     "output_type": "display_data"
    }
   ],
   "source": [
    "# --------------------------------------\n",
    "# Evaluation\n",
    "# --------------------------------------\n",
    "for loss_name, loss_value in list(zip(model.metrics_names, model.evaluate(X_test, y_test_class, verbose=1))):\n",
    "    print('The final {} on the TEST set is: {:.2f}.'.format(loss_name, loss_value)) # Evaluate the trained model on the test set!\n",
    "\n",
    "# --------------------------------------\n",
    "# Loss functions evolution\n",
    "# --------------------------------------\n",
    "plt.plot(history.history['loss'])\n",
    "plt.plot(history.history['val_loss'])\n",
    "plt.title('Model loss by epoch')\n",
    "plt.ylabel('loss')\n",
    "plt.xlabel('epoch')\n",
    "plt.legend(['train', 'valid'], loc='right')\n",
    "plt.show()"
   ]
  },
  {
   "cell_type": "code",
   "execution_count": 70,
   "metadata": {},
   "outputs": [
    {
     "name": "stdout",
     "output_type": "stream",
     "text": [
      "0.43169398907103823\n"
     ]
    }
   ],
   "source": [
    "#OvsRest\n",
    "from sklearn.multiclass import OneVsRestClassifier\n",
    "from sklearn.svm import SVC\n",
    "\n",
    "#poly & degree=11\n",
    "\n",
    "OvR_clf = OneVsRestClassifier(SVC(kernel='poly',degree=3),n_jobs=-1).fit(X_train, y_train_class)\n",
    "\n",
    "\n",
    "print(OvR_clf.score(X_test,y_test_class))"
   ]
  },
  {
   "cell_type": "code",
   "execution_count": null,
   "metadata": {},
   "outputs": [],
   "source": []
  },
  {
   "cell_type": "code",
   "execution_count": 72,
   "metadata": {},
   "outputs": [
    {
     "name": "stdout",
     "output_type": "stream",
     "text": [
      "0.4726775956284153\n"
     ]
    },
    {
     "data": {
      "text/plain": [
       "\"\\n{'estimator__n_estimators': 800, \\n 'estimator__min_samples_split': 2, \\n 'estimator__min_samples_leaf': 1, \\n 'estimator__max_features': 'auto', \\n 'estimator__max_depth': 100, \\n 'estimator__bootstrap': True}\\n\""
      ]
     },
     "execution_count": 72,
     "metadata": {},
     "output_type": "execute_result"
    }
   ],
   "source": [
    "# Random forest:\n",
    "\n",
    "from sklearn.multiclass import OutputCodeClassifier\n",
    "from sklearn.ensemble import RandomForestClassifier\n",
    "\n",
    "\n",
    "    \n",
    "rf_clf = OutputCodeClassifier(\n",
    "    estimator=RandomForestClassifier(n_estimators=800,\n",
    "                                     criterion='gini', #{“gini”, “entropy”}\n",
    "                                     max_depth=100, #default=None\n",
    "                                     min_samples_split=2, #int or float, default=2\n",
    "                                     random_state=42,\n",
    "                                     max_features='auto',\n",
    "                                     bootstrap=True,\n",
    "                                     min_samples_leaf=1\n",
    "                                    ),\n",
    "    random_state=42,n_jobs=-1)\n",
    "\n",
    "rf2_clf = RandomForestClassifier(n_estimators=800,\n",
    "                                     criterion='gini', #{“gini”, “entropy”}\n",
    "                                     max_depth=100, #default=None\n",
    "                                     min_samples_split=2, #int or float, default=2\n",
    "                                     random_state=42,\n",
    "                                     max_features='auto',\n",
    "                                     bootstrap=True,\n",
    "                                     min_samples_leaf=1\n",
    "                                    )\n",
    "\n",
    "rf2_clf.fit(X_train, np.ravel(y_train_class))\n",
    "\n",
    "\n",
    "\n",
    "print(rf2_clf.score(X_test,y_test_class))\n",
    "\"\"\"\n",
    "{'estimator__n_estimators': 800, \n",
    " 'estimator__min_samples_split': 2, \n",
    " 'estimator__min_samples_leaf': 1, \n",
    " 'estimator__max_features': 'auto', \n",
    " 'estimator__max_depth': 100, \n",
    " 'estimator__bootstrap': True}\n",
    "\"\"\"\n",
    "\n"
   ]
  },
  {
   "cell_type": "code",
   "execution_count": null,
   "metadata": {},
   "outputs": [],
   "source": []
  },
  {
   "cell_type": "code",
   "execution_count": null,
   "metadata": {},
   "outputs": [],
   "source": []
  },
  {
   "cell_type": "code",
   "execution_count": 73,
   "metadata": {},
   "outputs": [
    {
     "data": {
      "text/plain": [
       "\"\\nfrom sklearn.model_selection import RandomizedSearchCV\\n# Number of trees in random forest\\nn_estimators = [int(x) for x in np.linspace(start = 200, stop = 2000, num = 10)]\\n# Number of features to consider at every split\\nmax_features = ['auto', 'sqrt']\\n# Maximum number of levels in tree\\nmax_depth = [int(x) for x in np.linspace(10, 110, num = 11)]\\nmax_depth.append(None)\\n# Minimum number of samples required to split a node\\nmin_samples_split = [2, 5, 10]\\n# Minimum number of samples required at each leaf node\\nmin_samples_leaf = [1, 2, 4]\\n# Method of selecting samples for training each tree\\nbootstrap = [True, False]\\n# Create the random grid\\nrandom_grid = {'estimator__n_estimators': n_estimators,\\n               'estimator__max_features': max_features,\\n               'estimator__max_depth': max_depth,\\n               'estimator__min_samples_split': min_samples_split,\\n               'estimator__min_samples_leaf': min_samples_leaf,\\n               'estimator__bootstrap': bootstrap}\\n\""
      ]
     },
     "execution_count": 73,
     "metadata": {},
     "output_type": "execute_result"
    }
   ],
   "source": [
    "#RF FINE TUNING\n",
    "\"\"\"\n",
    "from sklearn.model_selection import RandomizedSearchCV\n",
    "# Number of trees in random forest\n",
    "n_estimators = [int(x) for x in np.linspace(start = 200, stop = 2000, num = 10)]\n",
    "# Number of features to consider at every split\n",
    "max_features = ['auto', 'sqrt']\n",
    "# Maximum number of levels in tree\n",
    "max_depth = [int(x) for x in np.linspace(10, 110, num = 11)]\n",
    "max_depth.append(None)\n",
    "# Minimum number of samples required to split a node\n",
    "min_samples_split = [2, 5, 10]\n",
    "# Minimum number of samples required at each leaf node\n",
    "min_samples_leaf = [1, 2, 4]\n",
    "# Method of selecting samples for training each tree\n",
    "bootstrap = [True, False]\n",
    "# Create the random grid\n",
    "random_grid = {'estimator__n_estimators': n_estimators,\n",
    "               'estimator__max_features': max_features,\n",
    "               'estimator__max_depth': max_depth,\n",
    "               'estimator__min_samples_split': min_samples_split,\n",
    "               'estimator__min_samples_leaf': min_samples_leaf,\n",
    "               'estimator__bootstrap': bootstrap}\n",
    "\"\"\"\n",
    "\n"
   ]
  },
  {
   "cell_type": "code",
   "execution_count": 74,
   "metadata": {},
   "outputs": [],
   "source": [
    "\n",
    "#rf_random = RandomizedSearchCV(estimator = clf, param_distributions = random_grid, n_iter = 100, cv = 3, verbose=2, random_state=42, n_jobs = -1)\n",
    "\n",
    "#rf_random.fit(X_train, y_train_class)"
   ]
  },
  {
   "cell_type": "code",
   "execution_count": null,
   "metadata": {},
   "outputs": [],
   "source": []
  },
  {
   "cell_type": "code",
   "execution_count": 75,
   "metadata": {},
   "outputs": [],
   "source": [
    "def ViewClassResult(model,continuous=False):\n",
    "    if continuous:\n",
    "        y=model.predict(np.squeeze(X_test))\n",
    "        y_predicted = [np.argmax(pred) for pred in y]\n",
    "    else:\n",
    "        y_predicted=model.predict(np.squeeze(X_test))\n",
    "    \n",
    "    print(np.sum(y_predicted==y_test_class[:,0]),'/',len(y_predicted))\n",
    "    CM = confusion_matrix(y_test_class[:,0], y_predicted)\n",
    "    ConfusionMatrixDisplay(CM).plot()\n",
    "    \n",
    "def ShowFeatureImportances(model):\n",
    "    \"\"\"\n",
    "    Shows the feature importances for a given model\n",
    "    \"\"\"\n",
    "    importance = model.feature_importances_\n",
    "    for i,v in enumerate(importance):\n",
    "        print('Feature: %0d, Score: %.5f' % (i,v))\n",
    "\n",
    "    plt.bar([x for x in range(len(importance))], importance)\n",
    "    plt.show()"
   ]
  },
  {
   "cell_type": "code",
   "execution_count": 76,
   "metadata": {},
   "outputs": [
    {
     "name": "stdout",
     "output_type": "stream",
     "text": [
      "173 / 366\n"
     ]
    },
    {
     "data": {
      "image/png": "[encoded data removed]",
      "text/plain": [
       "<Figure size 432x288 with 2 Axes>"
      ]
     },
     "metadata": {
      "needs_background": "light"
     },
     "output_type": "display_data"
    }
   ],
   "source": [
    "ViewClassResult(rf2_clf)\n"
   ]
  },
  {
   "cell_type": "code",
   "execution_count": 79,
   "metadata": {},
   "outputs": [
    {
     "name": "stdout",
     "output_type": "stream",
     "text": [
      "158 / 366\n"
     ]
    },
    {
     "data": {
      "image/png": "[encoded data removed]",
      "text/plain": [
       "<Figure size 432x288 with 2 Axes>"
      ]
     },
     "metadata": {
      "needs_background": "light"
     },
     "output_type": "display_data"
    }
   ],
   "source": [
    "ViewClassResult(OvR_clf)"
   ]
  },
  {
   "cell_type": "code",
   "execution_count": 77,
   "metadata": {},
   "outputs": [],
   "source": [
    "#ShowFeatureImportances(rf2_clf)"
   ]
  },
  {
   "cell_type": "code",
   "execution_count": 78,
   "metadata": {},
   "outputs": [
    {
     "name": "stdout",
     "output_type": "stream",
     "text": [
      "147 / 366\n"
     ]
    },
    {
     "data": {
      "image/png": "[encoded data removed]",
      "text/plain": [
       "<Figure size 432x288 with 2 Axes>"
      ]
     },
     "metadata": {
      "needs_background": "light"
     },
     "output_type": "display_data"
    }
   ],
   "source": [
    "ViewClassResult(model,continuous=True)"
   ]
  },
  {
   "cell_type": "code",
   "execution_count": null,
   "metadata": {},
   "outputs": [],
   "source": []
  },
  {
   "cell_type": "code",
   "execution_count": 61,
   "metadata": {},
   "outputs": [],
   "source": [
    "#print(pipe.ohe.categories_)"
   ]
  },
  {
   "cell_type": "code",
   "execution_count": null,
   "metadata": {},
   "outputs": [],
   "source": []
  },
  {
   "cell_type": "code",
   "execution_count": null,
   "metadata": {},
   "outputs": [],
   "source": []
  },
  {
   "cell_type": "code",
   "execution_count": 62,
   "metadata": {},
   "outputs": [],
   "source": [
    "flat_list = [item for sublist in pipe.ohe.categories_ for item in sublist]"
   ]
  },
  {
   "cell_type": "code",
   "execution_count": 1,
   "metadata": {},
   "outputs": [
    {
     "ename": "NameError",
     "evalue": "name 'flat_list' is not defined",
     "output_type": "error",
     "traceback": [
      "\u001b[0;31m---------------------------------------------------------------------------\u001b[0m",
      "\u001b[0;31mNameError\u001b[0m                                 Traceback (most recent call last)",
      "\u001b[0;32m<ipython-input-1-b1fc48b6ff12>\u001b[0m in \u001b[0;36m<module>\u001b[0;34m\u001b[0m\n\u001b[0;32m----> 1\u001b[0;31m \u001b[0mfeatures\u001b[0m \u001b[0;34m=\u001b[0m \u001b[0mflat_list\u001b[0m \u001b[0;34m+\u001b[0m \u001b[0mcontinuous_features\u001b[0m\u001b[0;34m\u001b[0m\u001b[0;34m\u001b[0m\u001b[0m\n\u001b[0m",
      "\u001b[0;31mNameError\u001b[0m: name 'flat_list' is not defined"
     ]
    }
   ],
   "source": [
    "features = flat_list + continuous_features"
   ]
  },
  {
   "cell_type": "code",
   "execution_count": 64,
   "metadata": {},
   "outputs": [
    {
     "data": {
      "text/plain": [
       "['Common Eqty / Tot Assets',\n",
       " 'TCE Ratio',\n",
       " 'Tot Debt / Tot Capital',\n",
       " 'Tot Cap (Local Crncy)',\n",
       " 'Amt Out',\n",
       " 'Total Assets',\n",
       " 'Debt / Common Equity']"
      ]
     },
     "execution_count": 64,
     "metadata": {},
     "output_type": "execute_result"
    }
   ],
   "source": [
    "continuous_features"
   ]
  },
  {
   "cell_type": "code",
   "execution_count": null,
   "metadata": {},
   "outputs": [],
   "source": []
  }
 ],
 "metadata": {
  "kernelspec": {
   "display_name": "Python 3",
   "language": "python",
   "name": "python3"
  },
  "language_info": {
   "codemirror_mode": {
    "name": "ipython",
    "version": 3
   },
   "file_extension": ".py",
   "mimetype": "text/x-python",
   "name": "python",
   "nbconvert_exporter": "python",
   "pygments_lexer": "ipython3",
   "version": "3.7.4"
  }
 },
 "nbformat": 4,
 "nbformat_minor": 5
}
