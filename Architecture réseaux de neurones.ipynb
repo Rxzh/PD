{
 "cells": [
  {
   "cell_type": "markdown",
   "metadata": {},
   "source": [
    "# Réseaux de neurones\n",
    "\n",
    "*http://exo7.emath.fr/cours/livre-deepmath.pdf* \n",
    "\n",
    "# 0. Chargement des modules et données"
   ]
  },
  {
   "cell_type": "code",
   "execution_count": 190,
   "metadata": {
    "scrolled": true
   },
   "outputs": [],
   "source": [
    "import pandas as pd \n",
    "import matplotlib.pyplot as plt\n",
    "import numpy as np\n",
    "from numpy.random import randn\n",
    "import tensorflow as tf\n",
    "\n",
    "from tensorflow.keras import Input\n",
    "from tensorflow.keras.models import Sequential\n",
    "from tensorflow.keras.layers import Dense, Dropout, Conv1D\n",
    "from tensorflow.keras.optimizers import SGD\n",
    "from tensorflow import keras\n",
    "\n",
    "from sklearn import preprocessing, model_selection\n",
    "from sklearn.preprocessing import KBinsDiscretizer"
   ]
  },
  {
   "cell_type": "code",
   "execution_count": 2,
   "metadata": {},
   "outputs": [],
   "source": [
    "df = pd.read_csv('market_data_pd.csv',sep=',')"
   ]
  },
  {
   "cell_type": "code",
   "execution_count": 3,
   "metadata": {},
   "outputs": [
    {
     "data": {
      "text/html": [
       "<div>\n",
       "<style scoped>\n",
       "    .dataframe tbody tr th:only-of-type {\n",
       "        vertical-align: middle;\n",
       "    }\n",
       "\n",
       "    .dataframe tbody tr th {\n",
       "        vertical-align: top;\n",
       "    }\n",
       "\n",
       "    .dataframe thead th {\n",
       "        text-align: right;\n",
       "    }\n",
       "</style>\n",
       "<table border=\"1\" class=\"dataframe\">\n",
       "  <thead>\n",
       "    <tr style=\"text-align: right;\">\n",
       "      <th></th>\n",
       "      <th>Unnamed: 0</th>\n",
       "      <th>Reference Security</th>\n",
       "      <th>Bid Price</th>\n",
       "      <th>Ask Price</th>\n",
       "      <th>Mid Price</th>\n",
       "      <th>Cpn</th>\n",
       "      <th>Maturity</th>\n",
       "      <th>Common Eqty / Tot Assets</th>\n",
       "      <th>Debt/EBITDA</th>\n",
       "      <th>EBITDA</th>\n",
       "      <th>...</th>\n",
       "      <th>BCLASS Level 3</th>\n",
       "      <th>TCE Ratio</th>\n",
       "      <th>Interest Coverage Ratio</th>\n",
       "      <th>Risk-Based Cap Ratio</th>\n",
       "      <th>Lev Ratio to TCE</th>\n",
       "      <th>Tier-1 Ratio</th>\n",
       "      <th>Tot Debt / Tot Capital</th>\n",
       "      <th>PD_1y</th>\n",
       "      <th>reprice</th>\n",
       "      <th>Error %</th>\n",
       "    </tr>\n",
       "  </thead>\n",
       "  <tbody>\n",
       "    <tr>\n",
       "      <th>0</th>\n",
       "      <td>0</td>\n",
       "      <td>BP432479 Corp</td>\n",
       "      <td>101.651</td>\n",
       "      <td>102.311</td>\n",
       "      <td>101.9810</td>\n",
       "      <td>4.25</td>\n",
       "      <td>05/19/2026</td>\n",
       "      <td>17.1580</td>\n",
       "      <td>1.61252</td>\n",
       "      <td>70.221</td>\n",
       "      <td>...</td>\n",
       "      <td>Consumer Cyclical</td>\n",
       "      <td>-171.027</td>\n",
       "      <td>0.857497</td>\n",
       "      <td>NaN</td>\n",
       "      <td>NaN</td>\n",
       "      <td>NaN</td>\n",
       "      <td>77.8533</td>\n",
       "      <td>0.064724</td>\n",
       "      <td>101.9810</td>\n",
       "      <td>7.378480e-11</td>\n",
       "    </tr>\n",
       "    <tr>\n",
       "      <th>1</th>\n",
       "      <td>1</td>\n",
       "      <td>BP432479 Corp</td>\n",
       "      <td>101.651</td>\n",
       "      <td>102.310</td>\n",
       "      <td>101.9805</td>\n",
       "      <td>4.25</td>\n",
       "      <td>05/19/2026</td>\n",
       "      <td>17.1580</td>\n",
       "      <td>1.61252</td>\n",
       "      <td>70.221</td>\n",
       "      <td>...</td>\n",
       "      <td>Consumer Cyclical</td>\n",
       "      <td>-171.027</td>\n",
       "      <td>0.857497</td>\n",
       "      <td>NaN</td>\n",
       "      <td>NaN</td>\n",
       "      <td>NaN</td>\n",
       "      <td>77.8533</td>\n",
       "      <td>0.064725</td>\n",
       "      <td>101.9805</td>\n",
       "      <td>0.000000e+00</td>\n",
       "    </tr>\n",
       "    <tr>\n",
       "      <th>2</th>\n",
       "      <td>2</td>\n",
       "      <td>BP432479 Corp</td>\n",
       "      <td>101.500</td>\n",
       "      <td>102.200</td>\n",
       "      <td>101.8500</td>\n",
       "      <td>4.25</td>\n",
       "      <td>05/19/2026</td>\n",
       "      <td>17.1580</td>\n",
       "      <td>1.61252</td>\n",
       "      <td>70.221</td>\n",
       "      <td>...</td>\n",
       "      <td>Consumer Cyclical</td>\n",
       "      <td>-171.027</td>\n",
       "      <td>0.857497</td>\n",
       "      <td>NaN</td>\n",
       "      <td>NaN</td>\n",
       "      <td>NaN</td>\n",
       "      <td>77.8533</td>\n",
       "      <td>0.065177</td>\n",
       "      <td>101.8500</td>\n",
       "      <td>8.371638e-14</td>\n",
       "    </tr>\n",
       "    <tr>\n",
       "      <th>3</th>\n",
       "      <td>3</td>\n",
       "      <td>EJ102177 Corp</td>\n",
       "      <td>102.240</td>\n",
       "      <td>102.660</td>\n",
       "      <td>102.4500</td>\n",
       "      <td>3.50</td>\n",
       "      <td>03/28/2022</td>\n",
       "      <td>19.2457</td>\n",
       "      <td>NaN</td>\n",
       "      <td>NaN</td>\n",
       "      <td>...</td>\n",
       "      <td>Basic Industry</td>\n",
       "      <td>NaN</td>\n",
       "      <td>NaN</td>\n",
       "      <td>NaN</td>\n",
       "      <td>NaN</td>\n",
       "      <td>NaN</td>\n",
       "      <td>80.4119</td>\n",
       "      <td>0.017218</td>\n",
       "      <td>102.4500</td>\n",
       "      <td>1.387101e-14</td>\n",
       "    </tr>\n",
       "    <tr>\n",
       "      <th>4</th>\n",
       "      <td>4</td>\n",
       "      <td>EJ102177 Corp</td>\n",
       "      <td>102.239</td>\n",
       "      <td>102.659</td>\n",
       "      <td>102.4490</td>\n",
       "      <td>3.50</td>\n",
       "      <td>03/28/2022</td>\n",
       "      <td>19.2457</td>\n",
       "      <td>NaN</td>\n",
       "      <td>NaN</td>\n",
       "      <td>...</td>\n",
       "      <td>Basic Industry</td>\n",
       "      <td>NaN</td>\n",
       "      <td>NaN</td>\n",
       "      <td>NaN</td>\n",
       "      <td>NaN</td>\n",
       "      <td>NaN</td>\n",
       "      <td>80.4119</td>\n",
       "      <td>0.017234</td>\n",
       "      <td>102.4490</td>\n",
       "      <td>0.000000e+00</td>\n",
       "    </tr>\n",
       "  </tbody>\n",
       "</table>\n",
       "<p>5 rows × 22 columns</p>\n",
       "</div>"
      ],
      "text/plain": [
       "   Unnamed: 0 Reference Security  Bid Price  Ask Price  Mid Price   Cpn  \\\n",
       "0           0      BP432479 Corp    101.651    102.311   101.9810  4.25   \n",
       "1           1      BP432479 Corp    101.651    102.310   101.9805  4.25   \n",
       "2           2      BP432479 Corp    101.500    102.200   101.8500  4.25   \n",
       "3           3      EJ102177 Corp    102.240    102.660   102.4500  3.50   \n",
       "4           4      EJ102177 Corp    102.239    102.659   102.4490  3.50   \n",
       "\n",
       "     Maturity  Common Eqty / Tot Assets  Debt/EBITDA  EBITDA  ...  \\\n",
       "0  05/19/2026                   17.1580      1.61252  70.221  ...   \n",
       "1  05/19/2026                   17.1580      1.61252  70.221  ...   \n",
       "2  05/19/2026                   17.1580      1.61252  70.221  ...   \n",
       "3  03/28/2022                   19.2457          NaN     NaN  ...   \n",
       "4  03/28/2022                   19.2457          NaN     NaN  ...   \n",
       "\n",
       "      BCLASS Level 3  TCE Ratio Interest Coverage Ratio  Risk-Based Cap Ratio  \\\n",
       "0  Consumer Cyclical   -171.027                0.857497                   NaN   \n",
       "1  Consumer Cyclical   -171.027                0.857497                   NaN   \n",
       "2  Consumer Cyclical   -171.027                0.857497                   NaN   \n",
       "3     Basic Industry        NaN                     NaN                   NaN   \n",
       "4     Basic Industry        NaN                     NaN                   NaN   \n",
       "\n",
       "   Lev Ratio to TCE  Tier-1 Ratio  Tot Debt / Tot Capital     PD_1y   reprice  \\\n",
       "0               NaN           NaN                 77.8533  0.064724  101.9810   \n",
       "1               NaN           NaN                 77.8533  0.064725  101.9805   \n",
       "2               NaN           NaN                 77.8533  0.065177  101.8500   \n",
       "3               NaN           NaN                 80.4119  0.017218  102.4500   \n",
       "4               NaN           NaN                 80.4119  0.017234  102.4490   \n",
       "\n",
       "        Error %  \n",
       "0  7.378480e-11  \n",
       "1  0.000000e+00  \n",
       "2  8.371638e-14  \n",
       "3  1.387101e-14  \n",
       "4  0.000000e+00  \n",
       "\n",
       "[5 rows x 22 columns]"
      ]
     },
     "execution_count": 3,
     "metadata": {},
     "output_type": "execute_result"
    }
   ],
   "source": [
    "df = df[df.PD_1y>0.0]\n",
    "df = df[df.PD_1y!=1.0]\n",
    "df.head()"
   ]
  },
  {
   "cell_type": "code",
   "execution_count": 10,
   "metadata": {},
   "outputs": [
    {
     "name": "stderr",
     "output_type": "stream",
     "text": [
      "/opt/anaconda3/lib/python3.7/site-packages/pandas/core/frame.py:4389: SettingWithCopyWarning: \n",
      "A value is trying to be set on a copy of a slice from a DataFrame\n",
      "\n",
      "See the caveats in the documentation: https://pandas.pydata.org/pandas-docs/stable/user_guide/indexing.html#returning-a-view-versus-a-copy\n",
      "  method=method,\n"
     ]
    }
   ],
   "source": [
    "#RENSEIGNER LES RATIOS FINANCIERS / VARIABLES CONSIDEREES \n",
    "\n",
    "df1 = df[[\"Common Eqty / Tot Assets\",'Debt / Common Equity','Interest Coverage Ratio','Lev Ratio to TCE','Tier-1 Ratio','Tot Debt / Tot Capital','BCLASS Level 3',\"TCE Ratio\",\"PD_1y\"]]\n",
    "\n",
    "\n",
    "df1.replace(np.nan, 0.0,inplace=True)\n",
    "#df1.dropna(inplace=True)"
   ]
  },
  {
   "cell_type": "code",
   "execution_count": 11,
   "metadata": {},
   "outputs": [
    {
     "data": {
      "text/html": [
       "<div>\n",
       "<style scoped>\n",
       "    .dataframe tbody tr th:only-of-type {\n",
       "        vertical-align: middle;\n",
       "    }\n",
       "\n",
       "    .dataframe tbody tr th {\n",
       "        vertical-align: top;\n",
       "    }\n",
       "\n",
       "    .dataframe thead th {\n",
       "        text-align: right;\n",
       "    }\n",
       "</style>\n",
       "<table border=\"1\" class=\"dataframe\">\n",
       "  <thead>\n",
       "    <tr style=\"text-align: right;\">\n",
       "      <th></th>\n",
       "      <th>Common Eqty / Tot Assets</th>\n",
       "      <th>Debt / Common Equity</th>\n",
       "      <th>Interest Coverage Ratio</th>\n",
       "      <th>Lev Ratio to TCE</th>\n",
       "      <th>Tier-1 Ratio</th>\n",
       "      <th>Tot Debt / Tot Capital</th>\n",
       "      <th>BCLASS Level 3</th>\n",
       "      <th>TCE Ratio</th>\n",
       "      <th>PD_1y</th>\n",
       "    </tr>\n",
       "  </thead>\n",
       "  <tbody>\n",
       "    <tr>\n",
       "      <th>0</th>\n",
       "      <td>17.1580</td>\n",
       "      <td>351.535</td>\n",
       "      <td>0.857497</td>\n",
       "      <td>0.0</td>\n",
       "      <td>0.0</td>\n",
       "      <td>77.8533</td>\n",
       "      <td>Consumer Cyclical</td>\n",
       "      <td>-171.027</td>\n",
       "      <td>0.064724</td>\n",
       "    </tr>\n",
       "    <tr>\n",
       "      <th>1</th>\n",
       "      <td>17.1580</td>\n",
       "      <td>351.535</td>\n",
       "      <td>0.857497</td>\n",
       "      <td>0.0</td>\n",
       "      <td>0.0</td>\n",
       "      <td>77.8533</td>\n",
       "      <td>Consumer Cyclical</td>\n",
       "      <td>-171.027</td>\n",
       "      <td>0.064725</td>\n",
       "    </tr>\n",
       "    <tr>\n",
       "      <th>2</th>\n",
       "      <td>17.1580</td>\n",
       "      <td>351.535</td>\n",
       "      <td>0.857497</td>\n",
       "      <td>0.0</td>\n",
       "      <td>0.0</td>\n",
       "      <td>77.8533</td>\n",
       "      <td>Consumer Cyclical</td>\n",
       "      <td>-171.027</td>\n",
       "      <td>0.065177</td>\n",
       "    </tr>\n",
       "    <tr>\n",
       "      <th>3</th>\n",
       "      <td>19.2457</td>\n",
       "      <td>410.513</td>\n",
       "      <td>0.000000</td>\n",
       "      <td>0.0</td>\n",
       "      <td>0.0</td>\n",
       "      <td>80.4119</td>\n",
       "      <td>Basic Industry</td>\n",
       "      <td>0.000</td>\n",
       "      <td>0.017218</td>\n",
       "    </tr>\n",
       "    <tr>\n",
       "      <th>4</th>\n",
       "      <td>19.2457</td>\n",
       "      <td>410.513</td>\n",
       "      <td>0.000000</td>\n",
       "      <td>0.0</td>\n",
       "      <td>0.0</td>\n",
       "      <td>80.4119</td>\n",
       "      <td>Basic Industry</td>\n",
       "      <td>0.000</td>\n",
       "      <td>0.017234</td>\n",
       "    </tr>\n",
       "  </tbody>\n",
       "</table>\n",
       "</div>"
      ],
      "text/plain": [
       "   Common Eqty / Tot Assets  Debt / Common Equity  Interest Coverage Ratio  \\\n",
       "0                   17.1580               351.535                 0.857497   \n",
       "1                   17.1580               351.535                 0.857497   \n",
       "2                   17.1580               351.535                 0.857497   \n",
       "3                   19.2457               410.513                 0.000000   \n",
       "4                   19.2457               410.513                 0.000000   \n",
       "\n",
       "   Lev Ratio to TCE  Tier-1 Ratio  Tot Debt / Tot Capital     BCLASS Level 3  \\\n",
       "0               0.0           0.0                 77.8533  Consumer Cyclical   \n",
       "1               0.0           0.0                 77.8533  Consumer Cyclical   \n",
       "2               0.0           0.0                 77.8533  Consumer Cyclical   \n",
       "3               0.0           0.0                 80.4119     Basic Industry   \n",
       "4               0.0           0.0                 80.4119     Basic Industry   \n",
       "\n",
       "   TCE Ratio     PD_1y  \n",
       "0   -171.027  0.064724  \n",
       "1   -171.027  0.064725  \n",
       "2   -171.027  0.065177  \n",
       "3      0.000  0.017218  \n",
       "4      0.000  0.017234  "
      ]
     },
     "execution_count": 11,
     "metadata": {},
     "output_type": "execute_result"
    }
   ],
   "source": [
    "#df1 = df1.dropna(how = 'any') \n",
    "df1.head()"
   ]
  },
  {
   "cell_type": "code",
   "execution_count": 12,
   "metadata": {},
   "outputs": [
    {
     "data": {
      "text/plain": [
       "(7429, 9)"
      ]
     },
     "execution_count": 12,
     "metadata": {},
     "output_type": "execute_result"
    }
   ],
   "source": [
    "df1.shape"
   ]
  },
  {
   "cell_type": "markdown",
   "metadata": {},
   "source": [
    "# 1. Préparation des données"
   ]
  },
  {
   "cell_type": "markdown",
   "metadata": {},
   "source": [
    "Nous commencerons par séparer les données non étiquietées des étiquettes, les étiquettes se trouvent dans l'array `y_full` et le reste des données dans `X_full`"
   ]
  },
  {
   "cell_type": "code",
   "execution_count": 13,
   "metadata": {},
   "outputs": [],
   "source": [
    "X_full = np.array(df1.drop(columns=['PD_1y']))\n",
    "y_full = np.array(df1['PD_1y'])"
   ]
  },
  {
   "cell_type": "markdown",
   "metadata": {},
   "source": [
    "La prochaine étape consiste à séparer les features continues des features discrètes, cela sera utile car leurs traitements seront différent"
   ]
  },
  {
   "cell_type": "code",
   "execution_count": 14,
   "metadata": {},
   "outputs": [],
   "source": [
    "features = list(df1.drop(columns=['PD_1y']).columns)\n",
    "\n",
    "discrete_features = ['BCLASS Level {}'.format(i) for i in range(3,4)]\n",
    "continuous_features = [s for s in features if not s in discrete_features]\n",
    "\n",
    "\n",
    "continuous_features_idx = [features.index(feat_name) for feat_name in continuous_features]\n",
    "discrete_features_idx = [features.index(feat_name) for feat_name in discrete_features]"
   ]
  },
  {
   "cell_type": "markdown",
   "metadata": {},
   "source": [
    "## a. Statistiques descriptives"
   ]
  },
  {
   "cell_type": "code",
   "execution_count": 15,
   "metadata": {},
   "outputs": [
    {
     "data": {
      "image/png": "[encoded data removed]",
      "text/plain": [
       "<Figure size 1008x720 with 7 Axes>"
      ]
     },
     "metadata": {
      "needs_background": "light"
     },
     "output_type": "display_data"
    }
   ],
   "source": [
    "fig = plt.figure(figsize=(14,10))\n",
    "\n",
    "# Histograms for continuous features\n",
    "for (plot_idx, feat_idx) in enumerate(continuous_features_idx):\n",
    "    # create a subplot in the (plot_idx+1) position of a 2x2 grid\n",
    "    ax = fig.add_subplot(4, 2, (plot_idx+1))\n",
    "    # plot the histogram of feat_idx\n",
    "    h = ax.hist(X_full[:, feat_idx], bins=30, edgecolor='black')\n",
    "    # use the name of the feature as a title for each histogram\n",
    "    ax.set_title(features[feat_idx])\n",
    "# espacement entre les subplots\n",
    "fig.tight_layout(pad=0.1)"
   ]
  },
  {
   "cell_type": "code",
   "execution_count": 16,
   "metadata": {
    "scrolled": true
   },
   "outputs": [
    {
     "data": {
      "image/png": "[encoded data removed]",
      "text/plain": [
       "<Figure size 1296x1008 with 1 Axes>"
      ]
     },
     "metadata": {
      "needs_background": "light"
     },
     "output_type": "display_data"
    }
   ],
   "source": [
    "# Bar plots for discrete features\n",
    "fig = plt.figure(figsize=(18, 14))\n",
    "\n",
    "for (plot_idx, feat_idx) in enumerate(discrete_features_idx):\n",
    "    # create a subplot in the (plot_idx+1) position of a 1x3 grid\n",
    "    ax = fig.add_subplot(3, 1, (plot_idx+1))\n",
    "\n",
    "    feature_values = np.unique(X_full[:, feat_idx])\n",
    "    frequencies = [(float(len(np.where(X_full[:, feat_idx]==value)[0]))/X_full.shape[0]) \\\n",
    "                   for value in feature_values]\n",
    "    \n",
    "    b = ax.bar(range(len(feature_values)), frequencies, width=0.8, \n",
    "               tick_label=list([n for n in feature_values]))\n",
    "    \n",
    "    \n",
    "    # use the name of the feature as a title for each histogram\n",
    "    ax.set_title(features[feat_idx])\n",
    "fig.tight_layout(pad=0.35)"
   ]
  },
  {
   "cell_type": "markdown",
   "metadata": {},
   "source": [
    "## b. Traitement des données"
   ]
  },
  {
   "cell_type": "code",
   "execution_count": 17,
   "metadata": {},
   "outputs": [],
   "source": [
    "## A FAIRE COMME CELA :\n",
    "\"\"\"\n",
    "from sklearn.preprocessing import OneHotEncoder\n",
    "\n",
    "enc = OneHotEncoder(handle_unknown='ignore')\n",
    "enc.fit(X_train_submit)\n",
    "\n",
    "X_train_submit = enc.transform(X_train_submit)\n",
    "X_test_submit = enc.transform(X_test_submit)\n",
    "\n",
    "\"\"\"\n",
    "\n",
    "\n",
    "\n",
    "class Pipeline:\n",
    "    def __init__(self, X_train):\n",
    "        \"\"\"\n",
    "        Se fit sur le jeu de TRAIN, une seule fois\n",
    "        \"\"\"\n",
    "        self.ohe = preprocessing.OneHotEncoder(categories='auto',sparse=False).fit(X_train[:,discrete_features_idx])\n",
    "        self.std_scaler = preprocessing.StandardScaler().fit(X_train[:,continuous_features_idx])\n",
    "        print(self.ohe.categories_)\n",
    "        \n",
    "    def traitement(self,X):\n",
    "        \"\"\"\n",
    "        Permet de traiter n'importe quel vecteur X ensuite\n",
    "        \"\"\"\n",
    "    \n",
    "        X_continuous_scaled = self.std_scaler.transform(X[:,continuous_features_idx])\n",
    "        X_discrete_encoded = self.ohe.transform(X[:,discrete_features_idx])\n",
    "        print('moyenne = {}'.format(np.mean(X_continuous_scaled)))\n",
    "        \n",
    "        X_processed = np.hstack((X_discrete_encoded, X_continuous_scaled))\n",
    "    \n",
    "        return X_processed"
   ]
  },
  {
   "cell_type": "code",
   "execution_count": 18,
   "metadata": {},
   "outputs": [
    {
     "name": "stdout",
     "output_type": "stream",
     "text": [
      "[array(['Banking', 'Basic Industry', 'Brokerage Assetmanagers Exchanges',\n",
      "       'Capital Goods', 'Communications', 'Consumer Cyclical',\n",
      "       'Consumer Non-Cyclical', 'Electric', 'Energy', 'Finance Companies',\n",
      "       'Government Guaranteed', 'Government Owned. No Guarantee',\n",
      "       'Government Sponsored', 'Hybrid', 'Insurance', 'Local Authority',\n",
      "       'Mortgage Assets', 'Natural Gas', 'Other ABS', 'Other Financial',\n",
      "       'Other Industrial', 'Other Utility', 'Public Sector Loans',\n",
      "       'REITs', 'Supranational', 'Technology', 'Transportation'],\n",
      "      dtype=object)]\n",
      "moyenne = -1.7762809299587992e-17\n",
      "moyenne = 0.01133054475227209\n"
     ]
    }
   ],
   "source": [
    "X_train, X_test, y_train, y_test = model_selection.train_test_split(X_full, y_full, test_size=0.10,\n",
    "                                                                    #stratify=y_full, # stratification\n",
    "                                                                    random_state=92)\n",
    "\n",
    "pipe = Pipeline(X_train)\n",
    "X_train = pipe.traitement(X_train)\n",
    "X_test  = pipe.traitement(X_test)"
   ]
  },
  {
   "cell_type": "markdown",
   "metadata": {},
   "source": [
    "## b. Traitement des données"
   ]
  },
  {
   "cell_type": "markdown",
   "metadata": {},
   "source": [
    "### Première version de traitement des données (beug sur subtilité bases de train/test)"
   ]
  },
  {
   "cell_type": "markdown",
   "metadata": {},
   "source": [
    "### Version corrigée (à rechercker)"
   ]
  },
  {
   "cell_type": "markdown",
   "metadata": {},
   "source": [
    "Séparation en base de test / train. Besoin de distinguer les cas selon le type de variables : \n",
    "\n",
    "$-$ variables quali : les binariser avant de séparer en test et train afin d'avoir des colonnes pour toutes les modalités existantes dans le dataset. \n",
    "\n",
    "$-$ variable quanti : il faut les standariser en fonction de la base de train, càd : on entraîne la standardisation QUE sur la base de train, puis on applique les coefficients à la base de test également. Important, **sinon notre base de train dépend de la base de test**."
   ]
  },
  {
   "cell_type": "markdown",
   "metadata": {},
   "source": [
    "*Transformation des qualis*"
   ]
  },
  {
   "cell_type": "markdown",
   "metadata": {},
   "source": [
    "# II. Réseaux de neurones : prédiction de la PD\n",
    "\n",
    "## a. Implémentation du modèle"
   ]
  },
  {
   "cell_type": "code",
   "execution_count": 22,
   "metadata": {},
   "outputs": [
    {
     "data": {
      "text/plain": [
       "(6686, 34)"
      ]
     },
     "execution_count": 22,
     "metadata": {},
     "output_type": "execute_result"
    }
   ],
   "source": [
    "X_train.shape\n",
    "#RESEAUX DE NEURONES \n",
    "#http://eric.univ-lyon2.fr/~ricco/tanagra/fichiers/fr_Tanagra_Packages_Python_for_Deep_Learning.pdf\n",
    "\n",
    "#Explications très bien dans ce document : \n",
    "\n",
    "#http://exo7.emath.fr/cours/livre-deepmath.pdf \n",
    "\n",
    "#très bon document (parties Python, keras avec les codes et explications)"
   ]
  },
  {
   "cell_type": "code",
   "execution_count": 37,
   "metadata": {},
   "outputs": [],
   "source": [
    "model = Sequential()\n",
    "model.add(Dense(units=12,input_dim=34,))#activation=\"sigmoid\")) #6 is good\n",
    "model.add(Dense(units=6))\n",
    "model.add(Dense(units=1,activation=\"sigmoid\"))\n",
    "#modele.add(Dropout(0.3))\n",
    "learning_rate = 0.15\n",
    "\n",
    "sgd = SGD(learning_rate)\n",
    "\n",
    "#dim première couche = nombre de variables du df "
   ]
  },
  {
   "cell_type": "markdown",
   "metadata": {},
   "source": [
    "**Fonction sigmoïde :** continue et à valeurs dans [0,1] (comme les probabilités de défaut). Régression logit. "
   ]
  },
  {
   "cell_type": "code",
   "execution_count": 38,
   "metadata": {},
   "outputs": [],
   "source": [
    "#modele.compile(loss='mean_squared_error',optimizer=sgd,metrics=[tf.keras.metrics.MeanSquaredError()])\n",
    "#optimizer = sgd\n",
    "model.compile(loss='mean_squared_error',optimizer='adam',metrics=[tf.keras.metrics.MeanSquaredError()])"
   ]
  },
  {
   "cell_type": "code",
   "execution_count": 39,
   "metadata": {},
   "outputs": [
    {
     "name": "stdout",
     "output_type": "stream",
     "text": [
      "Model: \"sequential_2\"\n",
      "_________________________________________________________________\n",
      "Layer (type)                 Output Shape              Param #   \n",
      "=================================================================\n",
      "dense_5 (Dense)              (None, 12)                420       \n",
      "_________________________________________________________________\n",
      "dense_6 (Dense)              (None, 6)                 78        \n",
      "_________________________________________________________________\n",
      "dense_7 (Dense)              (None, 1)                 7         \n",
      "=================================================================\n",
      "Total params: 505\n",
      "Trainable params: 505\n",
      "Non-trainable params: 0\n",
      "_________________________________________________________________\n",
      "None\n"
     ]
    }
   ],
   "source": [
    "print(model.summary())"
   ]
  },
  {
   "cell_type": "code",
   "execution_count": 40,
   "metadata": {},
   "outputs": [
    {
     "name": "stdout",
     "output_type": "stream",
     "text": [
      "Epoch 1/20\n",
      "50/50 [==============================] - 0s 4ms/step - loss: 0.1598 - mean_squared_error: 0.1598 - val_loss: 0.1098 - val_mean_squared_error: 0.1098\n",
      "Epoch 2/20\n",
      "50/50 [==============================] - 0s 3ms/step - loss: 0.0695 - mean_squared_error: 0.0695 - val_loss: 0.0434 - val_mean_squared_error: 0.0434\n",
      "Epoch 3/20\n",
      "50/50 [==============================] - 0s 3ms/step - loss: 0.0333 - mean_squared_error: 0.0333 - val_loss: 0.0187 - val_mean_squared_error: 0.0187\n",
      "Epoch 4/20\n",
      "50/50 [==============================] - 0s 3ms/step - loss: 0.0117 - mean_squared_error: 0.0117 - val_loss: 0.0123 - val_mean_squared_error: 0.0123\n",
      "Epoch 5/20\n",
      "50/50 [==============================] - 0s 2ms/step - loss: 0.0115 - mean_squared_error: 0.0115 - val_loss: 0.0093 - val_mean_squared_error: 0.0093\n",
      "Epoch 6/20\n",
      "50/50 [==============================] - 0s 3ms/step - loss: 0.0083 - mean_squared_error: 0.0083 - val_loss: 0.0081 - val_mean_squared_error: 0.0081\n",
      "Epoch 7/20\n",
      "50/50 [==============================] - 0s 2ms/step - loss: 0.0082 - mean_squared_error: 0.0082 - val_loss: 0.0074 - val_mean_squared_error: 0.0074\n",
      "Epoch 8/20\n",
      "50/50 [==============================] - 0s 2ms/step - loss: 0.0135 - mean_squared_error: 0.0135 - val_loss: 0.0069 - val_mean_squared_error: 0.0069\n",
      "Epoch 9/20\n",
      "50/50 [==============================] - 0s 2ms/step - loss: 0.0109 - mean_squared_error: 0.0109 - val_loss: 0.0066 - val_mean_squared_error: 0.0066\n",
      "Epoch 10/20\n",
      "50/50 [==============================] - 0s 2ms/step - loss: 0.0073 - mean_squared_error: 0.0073 - val_loss: 0.0064 - val_mean_squared_error: 0.0064\n",
      "Epoch 11/20\n",
      "50/50 [==============================] - 0s 2ms/step - loss: 0.0098 - mean_squared_error: 0.0098 - val_loss: 0.0063 - val_mean_squared_error: 0.0063\n",
      "Epoch 12/20\n",
      "50/50 [==============================] - 0s 2ms/step - loss: 0.0033 - mean_squared_error: 0.0033 - val_loss: 0.0062 - val_mean_squared_error: 0.0062\n",
      "Epoch 13/20\n",
      "50/50 [==============================] - 0s 3ms/step - loss: 0.0064 - mean_squared_error: 0.0064 - val_loss: 0.0061 - val_mean_squared_error: 0.0061\n",
      "Epoch 14/20\n",
      "50/50 [==============================] - 0s 3ms/step - loss: 0.0026 - mean_squared_error: 0.0026 - val_loss: 0.0061 - val_mean_squared_error: 0.0061\n",
      "Epoch 15/20\n",
      "50/50 [==============================] - 0s 3ms/step - loss: 0.0046 - mean_squared_error: 0.0046 - val_loss: 0.0060 - val_mean_squared_error: 0.0060\n",
      "Epoch 16/20\n",
      "50/50 [==============================] - 0s 3ms/step - loss: 0.0078 - mean_squared_error: 0.0078 - val_loss: 0.0060 - val_mean_squared_error: 0.0060\n",
      "Epoch 17/20\n",
      "50/50 [==============================] - 0s 3ms/step - loss: 0.0086 - mean_squared_error: 0.0086 - val_loss: 0.0060 - val_mean_squared_error: 0.0060\n",
      "Epoch 18/20\n",
      "50/50 [==============================] - 0s 3ms/step - loss: 0.0048 - mean_squared_error: 0.0048 - val_loss: 0.0060 - val_mean_squared_error: 0.0060\n",
      "Epoch 19/20\n",
      "50/50 [==============================] - 0s 2ms/step - loss: 0.0048 - mean_squared_error: 0.0048 - val_loss: 0.0060 - val_mean_squared_error: 0.0060\n",
      "Epoch 20/20\n",
      "50/50 [==============================] - 0s 3ms/step - loss: 0.0042 - mean_squared_error: 0.0042 - val_loss: 0.0060 - val_mean_squared_error: 0.0060\n",
      "24/24 [==============================] - 0s 640us/step - loss: 0.0062 - mean_squared_error: 0.0062\n",
      "The final loss on the TEST set is: 0.01.\n",
      "The final mean_squared_error on the TEST set is: 0.01.\n"
     ]
    },
    {
     "data": {
      "image/png": "[encoded data removed]",
      "text/plain": [
       "<Figure size 432x288 with 1 Axes>"
      ]
     },
     "metadata": {
      "needs_background": "light"
     },
     "output_type": "display_data"
    }
   ],
   "source": [
    "history = model.fit(X_train, y_train,         # Train the model using the training set...\n",
    "          batch_size=10, epochs=20,\n",
    "          verbose=1, validation_split=0.4,steps_per_epoch=50)           # ...holding out 40% of the data for validation\n",
    "\n",
    "# --------------------------------------\n",
    "# Evaluation\n",
    "# --------------------------------------\n",
    "for loss_name, loss_value in list(zip(model.metrics_names, model.evaluate(X_test, y_test, verbose=1))):\n",
    "    print('The final {} on the TEST set is: {:.2f}.'.format(loss_name, loss_value)) # Evaluate the trained model on the test set!\n",
    "\n",
    "    \n",
    "import matplotlib.pyplot as plt\n",
    "\n",
    "# --------------------------------------\n",
    "# Loss functions evolution\n",
    "# --------------------------------------\n",
    "plt.plot(history.history['loss'])\n",
    "plt.plot(history.history['val_loss'])\n",
    "plt.title('Model loss by epoch')\n",
    "plt.ylabel('loss')\n",
    "plt.xlabel('epoch')\n",
    "plt.legend(['train', 'valid'], loc='right')\n",
    "plt.show()"
   ]
  },
  {
   "cell_type": "code",
   "execution_count": 41,
   "metadata": {},
   "outputs": [
    {
     "name": "stdout",
     "output_type": "stream",
     "text": [
      "24/24 [==============================] - 0s 443us/step - loss: 0.0062 - mean_squared_error: 0.0062\n",
      "Valeur de l'erreur sur les données de test (loss): 0.006241211201995611\n",
      "Précision sur les données de test (MSE): 0.006241211201995611\n"
     ]
    }
   ],
   "source": [
    "#Résultats \n",
    "\n",
    "resultat = model.evaluate(X_test, y_test, verbose=1)\n",
    "print(\"Valeur de l'erreur sur les données de test (loss):\", resultat[0])\n",
    "print('Précision sur les données de test (MSE):', resultat[1])"
   ]
  },
  {
   "cell_type": "markdown",
   "metadata": {},
   "source": [
    "## b. Observation des résultats "
   ]
  },
  {
   "cell_type": "code",
   "execution_count": 42,
   "metadata": {},
   "outputs": [],
   "source": [
    "def ecart_relatif(row) : \n",
    "    théo = row['Théorique']\n",
    "    préd = row['Prédiction']\n",
    "    return abs(théo - préd) / théo"
   ]
  },
  {
   "cell_type": "code",
   "execution_count": 43,
   "metadata": {},
   "outputs": [],
   "source": [
    "prediction = pd.DataFrame(data= model.predict(X_test) ,columns=['Prédiction'])\n",
    "théorique = pd.DataFrame(data= y_test ,columns=['Théorique'])\n",
    "prediction, théorique = prediction.reset_index() , théorique.reset_index()\n",
    "\n",
    "results = pd.merge(théorique, prediction, on = 'index').drop(columns=['index'])\n",
    "results[\"Ecart_relatif\"] = results.apply(ecart_relatif,axis=1)"
   ]
  },
  {
   "cell_type": "code",
   "execution_count": 44,
   "metadata": {},
   "outputs": [],
   "source": [
    "results.replace(np.inf, 0.0,inplace=True)"
   ]
  },
  {
   "cell_type": "code",
   "execution_count": 45,
   "metadata": {},
   "outputs": [
    {
     "data": {
      "text/html": [
       "<div>\n",
       "<style scoped>\n",
       "    .dataframe tbody tr th:only-of-type {\n",
       "        vertical-align: middle;\n",
       "    }\n",
       "\n",
       "    .dataframe tbody tr th {\n",
       "        vertical-align: top;\n",
       "    }\n",
       "\n",
       "    .dataframe thead th {\n",
       "        text-align: right;\n",
       "    }\n",
       "</style>\n",
       "<table border=\"1\" class=\"dataframe\">\n",
       "  <thead>\n",
       "    <tr style=\"text-align: right;\">\n",
       "      <th></th>\n",
       "      <th>Théorique</th>\n",
       "      <th>Prédiction</th>\n",
       "      <th>Ecart_relatif</th>\n",
       "    </tr>\n",
       "  </thead>\n",
       "  <tbody>\n",
       "    <tr>\n",
       "      <th>0</th>\n",
       "      <td>0.010892</td>\n",
       "      <td>0.005357</td>\n",
       "      <td>0.508181</td>\n",
       "    </tr>\n",
       "    <tr>\n",
       "      <th>1</th>\n",
       "      <td>0.004058</td>\n",
       "      <td>0.018729</td>\n",
       "      <td>3.615545</td>\n",
       "    </tr>\n",
       "    <tr>\n",
       "      <th>2</th>\n",
       "      <td>0.001204</td>\n",
       "      <td>0.019399</td>\n",
       "      <td>15.105993</td>\n",
       "    </tr>\n",
       "    <tr>\n",
       "      <th>3</th>\n",
       "      <td>0.003668</td>\n",
       "      <td>0.017050</td>\n",
       "      <td>3.648268</td>\n",
       "    </tr>\n",
       "    <tr>\n",
       "      <th>4</th>\n",
       "      <td>0.010138</td>\n",
       "      <td>0.035994</td>\n",
       "      <td>2.550287</td>\n",
       "    </tr>\n",
       "    <tr>\n",
       "      <th>...</th>\n",
       "      <td>...</td>\n",
       "      <td>...</td>\n",
       "      <td>...</td>\n",
       "    </tr>\n",
       "    <tr>\n",
       "      <th>738</th>\n",
       "      <td>0.010408</td>\n",
       "      <td>0.011237</td>\n",
       "      <td>0.079627</td>\n",
       "    </tr>\n",
       "    <tr>\n",
       "      <th>739</th>\n",
       "      <td>0.088065</td>\n",
       "      <td>0.008917</td>\n",
       "      <td>0.898744</td>\n",
       "    </tr>\n",
       "    <tr>\n",
       "      <th>740</th>\n",
       "      <td>0.005997</td>\n",
       "      <td>0.037715</td>\n",
       "      <td>5.288920</td>\n",
       "    </tr>\n",
       "    <tr>\n",
       "      <th>741</th>\n",
       "      <td>0.002626</td>\n",
       "      <td>0.009797</td>\n",
       "      <td>2.730924</td>\n",
       "    </tr>\n",
       "    <tr>\n",
       "      <th>742</th>\n",
       "      <td>0.013133</td>\n",
       "      <td>0.020149</td>\n",
       "      <td>0.534254</td>\n",
       "    </tr>\n",
       "  </tbody>\n",
       "</table>\n",
       "<p>743 rows × 3 columns</p>\n",
       "</div>"
      ],
      "text/plain": [
       "     Théorique  Prédiction  Ecart_relatif\n",
       "0     0.010892    0.005357       0.508181\n",
       "1     0.004058    0.018729       3.615545\n",
       "2     0.001204    0.019399      15.105993\n",
       "3     0.003668    0.017050       3.648268\n",
       "4     0.010138    0.035994       2.550287\n",
       "..         ...         ...            ...\n",
       "738   0.010408    0.011237       0.079627\n",
       "739   0.088065    0.008917       0.898744\n",
       "740   0.005997    0.037715       5.288920\n",
       "741   0.002626    0.009797       2.730924\n",
       "742   0.013133    0.020149       0.534254\n",
       "\n",
       "[743 rows x 3 columns]"
      ]
     },
     "execution_count": 45,
     "metadata": {},
     "output_type": "execute_result"
    }
   ],
   "source": [
    "results"
   ]
  },
  {
   "cell_type": "code",
   "execution_count": 46,
   "metadata": {},
   "outputs": [
    {
     "name": "stdout",
     "output_type": "stream",
     "text": [
      "L'écart relatif moyen est de 751.1346701547312%\n"
     ]
    }
   ],
   "source": [
    "print(\"L'écart relatif moyen est de \" + str(results[\"Ecart_relatif\"].mean() * 100) + \"%\")"
   ]
  },
  {
   "cell_type": "code",
   "execution_count": 47,
   "metadata": {},
   "outputs": [],
   "source": [
    "results.sort_values('Ecart_relatif',inplace=True)"
   ]
  },
  {
   "cell_type": "code",
   "execution_count": 48,
   "metadata": {},
   "outputs": [],
   "source": [
    "#results"
   ]
  },
  {
   "cell_type": "code",
   "execution_count": 49,
   "metadata": {},
   "outputs": [
    {
     "data": {
      "text/plain": [
       "(-0.01, 0.1)"
      ]
     },
     "execution_count": 49,
     "metadata": {},
     "output_type": "execute_result"
    },
    {
     "data": {
      "image/png": "[encoded data removed]",
      "text/plain": [
       "<Figure size 432x288 with 1 Axes>"
      ]
     },
     "metadata": {
      "needs_background": "light"
     },
     "output_type": "display_data"
    }
   ],
   "source": [
    "results.plot.scatter(\"Théorique\",\"Prédiction\")\n",
    "plt.xlim(-.01,.1)\n",
    "plt.ylim(-.01,.1)"
   ]
  },
  {
   "cell_type": "markdown",
   "metadata": {},
   "source": [
    "---------------"
   ]
  },
  {
   "cell_type": "markdown",
   "metadata": {},
   "source": [
    "# III. Réseaux de neurones : Test classification multi-classe"
   ]
  },
  {
   "cell_type": "code",
   "execution_count": 148,
   "metadata": {},
   "outputs": [],
   "source": [
    "df = pd.read_csv('market_data_pd.csv',sep=',')\n",
    "df = df[[\"Common Eqty / Tot Assets\",'Debt / Common Equity','BCLASS Level 3',\"PD_1y\",\"TCE Ratio\"]]\n",
    "df = df[df.PD_1y>0.0]\n",
    "df = df[df.PD_1y!=1.0]\n",
    "df = df[df.PD_1y<0.05]\n",
    "\n",
    "#df['PD_1y'] = pd.read_csv('PD_1y.csv')['PD_1y']\n",
    "df.replace(np.nan, 0.0,inplace=True)"
   ]
  },
  {
   "cell_type": "markdown",
   "metadata": {},
   "source": [
    "## a. Classification des PD"
   ]
  },
  {
   "cell_type": "markdown",
   "metadata": {},
   "source": [
    "**Première version de traitement des données (beug sur subtilité bases de train/test)**"
   ]
  },
  {
   "cell_type": "code",
   "execution_count": 149,
   "metadata": {},
   "outputs": [],
   "source": [
    "#ATTENTION : CHANGEMENT A FAIRE \n",
    "#il faut paramétrer les algorithmes de classification seulement en utilisant la base de train. \n",
    "#et ensuite seulement, appliquer la classification sur la base de test \n",
    "\n",
    "#sinon, tu utilises une base normalement inconnue (la base de test) pour paramétrer ton algo. \n",
    "#(même si le changement est pas ouf, il faut inverser l'ordre dans lequel on fait ça)"
   ]
  },
  {
   "cell_type": "code",
   "execution_count": 150,
   "metadata": {},
   "outputs": [
    {
     "data": {
      "image/png": "[encoded data removed]",
      "text/plain": [
       "<Figure size 432x288 with 1 Axes>"
      ]
     },
     "metadata": {
      "needs_background": "light"
     },
     "output_type": "display_data"
    },
    {
     "data": {
      "image/png": "[encoded data removed]",
      "text/plain": [
       "<Figure size 432x288 with 1 Axes>"
      ]
     },
     "metadata": {
      "needs_background": "light"
     },
     "output_type": "display_data"
    }
   ],
   "source": [
    "from numpy.random import randn\n",
    "from sklearn.preprocessing import KBinsDiscretizer\n",
    "\n",
    "data = np.array(df['PD_1y'])\n",
    "# histogram of the raw data\n",
    "plt.hist(data, bins=35,edgecolor='black')\n",
    "plt.show()\n",
    "# reshape data to have rows and columns\n",
    "data = data.reshape((len(data),1))\n",
    "# discretization transform the raw data\n",
    "kbins = KBinsDiscretizer(n_bins=6, encode='ordinal', strategy='kmeans')\n",
    "data_trans = kbins.fit_transform(data)\n",
    "\n",
    "# summarize first few rows\n",
    "#print(data_trans[:10, :])\n",
    "# histogram of the transformed data\n",
    "plt.hist(data_trans, bins=6,edgecolor='black' )\n",
    "plt.show()"
   ]
  },
  {
   "cell_type": "code",
   "execution_count": 51,
   "metadata": {},
   "outputs": [],
   "source": [
    "df['PD_1y'] = data_trans"
   ]
  },
  {
   "cell_type": "code",
   "execution_count": 141,
   "metadata": {},
   "outputs": [
    {
     "name": "stdout",
     "output_type": "stream",
     "text": [
      "[array(['Banking', 'Basic Industry', 'Brokerage Assetmanagers Exchanges',\n",
      "       'Capital Goods', 'Communications', 'Consumer Cyclical',\n",
      "       'Consumer Non-Cyclical', 'Electric', 'Energy', 'Finance Companies',\n",
      "       'Government Guaranteed', 'Government Owned. No Guarantee',\n",
      "       'Government Sponsored', 'Hybrid', 'Insurance', 'Local Authority',\n",
      "       'Mortgage Assets', 'Natural Gas', 'Other ABS', 'Other Financial',\n",
      "       'Other Industrial', 'Other Utility', 'Public Sector Loans',\n",
      "       'REITs', 'Supranational', 'Technology', 'Transportation'],\n",
      "      dtype=object)]\n",
      "moyenne = -1.7762809299587992e-17\n",
      "moyenne = 0.01133054475227209\n"
     ]
    }
   ],
   "source": [
    "X_train, X_test, y_train, y_test = model_selection.train_test_split(X_full, y_full, test_size=0.10,\n",
    "                                                                    #stratify=y_full, # stratification\n",
    "                                                                    random_state=92)\n",
    "pipe = Pipeline(X_train)\n",
    "X_train = pipe.traitement(X_train)\n",
    "X_test  = pipe.traitement(X_test)"
   ]
  },
  {
   "cell_type": "markdown",
   "metadata": {},
   "source": [
    "**Version corrigée (à rechercker)**"
   ]
  },
  {
   "cell_type": "code",
   "execution_count": 270,
   "metadata": {},
   "outputs": [],
   "source": [
    "#Au départ : reprendre base de train et de test créées dans la partie I. \n",
    "#X_train, y_train, X_test, y_test\n",
    "\n",
    "class Discretizer:\n",
    "    def __init__(self, y_train, nb_class=6):\n",
    "        \n",
    "        self.nb_class = nb_class\n",
    "        self.y_train = y_train.reshape((-1,1))\n",
    "\n",
    "        self.kbins = KBinsDiscretizer(n_bins=self.nb_class, encode='ordinal', strategy='quantile')#strategy : uniform, quantile, kmeans\n",
    "        self.kbins.fit(self.y_train)\n",
    "        \n",
    "        \n",
    "    def discretize(self,y):\n",
    "        y = y.reshape((-1,1))\n",
    "        y_class = self.kbins.transform(y)\n",
    "        return y_class"
   ]
  },
  {
   "cell_type": "code",
   "execution_count": 271,
   "metadata": {},
   "outputs": [],
   "source": [
    "nb_class = 10\n",
    "discretizer = Discretizer(y_train, nb_class=nb_class)\n",
    "\n",
    "y_train_class = discretizer.discretize(y_train)\n",
    "y_test_class  = discretizer.discretize(y_test)"
   ]
  },
  {
   "cell_type": "code",
   "execution_count": null,
   "metadata": {},
   "outputs": [],
   "source": []
  },
  {
   "cell_type": "code",
   "execution_count": 272,
   "metadata": {},
   "outputs": [
    {
     "data": {
      "image/png": "[encoded data removed]",
      "text/plain": [
       "<Figure size 432x288 with 1 Axes>"
      ]
     },
     "metadata": {
      "needs_background": "light"
     },
     "output_type": "display_data"
    }
   ],
   "source": [
    "plt.hist(y_train_class, range = (0, nb_class), bins = nb_class, edgecolor='black' )\n",
    "plt.xlabel('Classes')\n",
    "plt.ylabel('Nombre de bonds')\n",
    "plt.title('Histogramme du nombre de bonds par classe - base de train')\n",
    "plt.show()"
   ]
  },
  {
   "cell_type": "code",
   "execution_count": 273,
   "metadata": {},
   "outputs": [
    {
     "data": {
      "image/png": "[encoded data removed]",
      "text/plain": [
       "<Figure size 432x288 with 1 Axes>"
      ]
     },
     "metadata": {
      "needs_background": "light"
     },
     "output_type": "display_data"
    }
   ],
   "source": [
    "plt.hist(y_test_class, range = (0, nb_class), bins = nb_class, edgecolor='black' )\n",
    "plt.xlabel('Classes')\n",
    "plt.ylabel('Nombre de bonds')\n",
    "plt.title('Histogramme du nombre de bonds par classe - base de test')\n",
    "plt.show()"
   ]
  },
  {
   "cell_type": "markdown",
   "metadata": {},
   "source": [
    "## b. Implémentation du modèle"
   ]
  },
  {
   "cell_type": "code",
   "execution_count": 298,
   "metadata": {},
   "outputs": [],
   "source": [
    "model = Sequential()\n",
    "model.add(Dense(units=12,input_dim=34)) #6 is good\n",
    "model.add(Dense(units=12))\n",
    "model.add(Dropout(0.3))\n",
    "model.add(Dense(units=10,activation=\"softmax\")) #output\n",
    "\n",
    "#model.add(Conv1D(\n",
    "#32, 3, activation='relu', input_shape=input_shape[2:])(x)\n"
   ]
  },
  {
   "cell_type": "code",
   "execution_count": 299,
   "metadata": {},
   "outputs": [],
   "source": [
    "model.compile(optimizer=keras.optimizers.Adam(),\n",
    "              loss=keras.losses.SparseCategoricalCrossentropy(from_logits=False), # default from_logits=False\n",
    "              metrics=[keras.metrics.SparseCategoricalAccuracy()])"
   ]
  },
  {
   "cell_type": "code",
   "execution_count": 300,
   "metadata": {},
   "outputs": [],
   "source": [
    "#model.fit(X_train,y_train,validation_split=0.4, epochs=40)"
   ]
  },
  {
   "cell_type": "code",
   "execution_count": 301,
   "metadata": {},
   "outputs": [
    {
     "name": "stdout",
     "output_type": "stream",
     "text": [
      "Epoch 1/80\n",
      "80/80 [==============================] - 0s 2ms/step - loss: 2.3912 - sparse_categorical_accuracy: 0.1069 - val_loss: 2.3079 - val_sparse_categorical_accuracy: 0.1170\n",
      "Epoch 2/80\n",
      "80/80 [==============================] - 0s 1ms/step - loss: 2.3300 - sparse_categorical_accuracy: 0.1125 - val_loss: 2.2673 - val_sparse_categorical_accuracy: 0.1555\n",
      "Epoch 3/80\n",
      "80/80 [==============================] - 0s 1ms/step - loss: 2.2828 - sparse_categorical_accuracy: 0.1326 - val_loss: 2.2433 - val_sparse_categorical_accuracy: 0.1772\n",
      "Epoch 4/80\n",
      "80/80 [==============================] - 0s 1ms/step - loss: 2.2797 - sparse_categorical_accuracy: 0.1419 - val_loss: 2.2290 - val_sparse_categorical_accuracy: 0.1929\n",
      "Epoch 5/80\n",
      "80/80 [==============================] - 0s 1ms/step - loss: 2.2373 - sparse_categorical_accuracy: 0.1825 - val_loss: 2.2105 - val_sparse_categorical_accuracy: 0.2101\n",
      "Epoch 6/80\n",
      "80/80 [==============================] - 0s 1ms/step - loss: 2.2297 - sparse_categorical_accuracy: 0.1879 - val_loss: 2.1964 - val_sparse_categorical_accuracy: 0.2217\n",
      "Epoch 7/80\n",
      "80/80 [==============================] - 0s 1ms/step - loss: 2.2204 - sparse_categorical_accuracy: 0.1906 - val_loss: 2.1860 - val_sparse_categorical_accuracy: 0.2254\n",
      "Epoch 8/80\n",
      "80/80 [==============================] - 0s 1ms/step - loss: 2.2062 - sparse_categorical_accuracy: 0.2018 - val_loss: 2.1720 - val_sparse_categorical_accuracy: 0.2366\n",
      "Epoch 9/80\n",
      "80/80 [==============================] - 0s 1ms/step - loss: 2.1765 - sparse_categorical_accuracy: 0.2394 - val_loss: 2.1566 - val_sparse_categorical_accuracy: 0.2321\n",
      "Epoch 10/80\n",
      "80/80 [==============================] - 0s 1ms/step - loss: 2.1755 - sparse_categorical_accuracy: 0.2138 - val_loss: 2.1484 - val_sparse_categorical_accuracy: 0.2404\n",
      "Epoch 11/80\n",
      "80/80 [==============================] - 0s 1ms/step - loss: 2.1752 - sparse_categorical_accuracy: 0.2231 - val_loss: 2.1404 - val_sparse_categorical_accuracy: 0.2385\n",
      "Epoch 12/80\n",
      "80/80 [==============================] - 0s 1ms/step - loss: 2.1446 - sparse_categorical_accuracy: 0.2325 - val_loss: 2.1309 - val_sparse_categorical_accuracy: 0.2452\n",
      "Epoch 13/80\n",
      "80/80 [==============================] - 0s 1ms/step - loss: 2.1496 - sparse_categorical_accuracy: 0.2332 - val_loss: 2.1239 - val_sparse_categorical_accuracy: 0.2404\n",
      "Epoch 14/80\n",
      "80/80 [==============================] - 0s 1ms/step - loss: 2.1276 - sparse_categorical_accuracy: 0.2313 - val_loss: 2.1176 - val_sparse_categorical_accuracy: 0.2396\n",
      "Epoch 15/80\n",
      "80/80 [==============================] - 0s 2ms/step - loss: 2.1454 - sparse_categorical_accuracy: 0.2175 - val_loss: 2.1119 - val_sparse_categorical_accuracy: 0.2411\n",
      "Epoch 16/80\n",
      "80/80 [==============================] - 0s 1ms/step - loss: 2.1151 - sparse_categorical_accuracy: 0.2294 - val_loss: 2.1113 - val_sparse_categorical_accuracy: 0.2355\n",
      "Epoch 17/80\n",
      "80/80 [==============================] - 0s 1ms/step - loss: 2.1219 - sparse_categorical_accuracy: 0.2331 - val_loss: 2.1063 - val_sparse_categorical_accuracy: 0.2404\n",
      "Epoch 18/80\n",
      "80/80 [==============================] - 0s 1ms/step - loss: 2.1178 - sparse_categorical_accuracy: 0.2370 - val_loss: 2.1053 - val_sparse_categorical_accuracy: 0.2404\n",
      "Epoch 19/80\n",
      "80/80 [==============================] - 0s 1ms/step - loss: 2.1275 - sparse_categorical_accuracy: 0.2313 - val_loss: 2.1012 - val_sparse_categorical_accuracy: 0.2430\n",
      "Epoch 20/80\n",
      "80/80 [==============================] - 0s 1ms/step - loss: 2.1115 - sparse_categorical_accuracy: 0.2438 - val_loss: 2.0990 - val_sparse_categorical_accuracy: 0.2366\n",
      "Epoch 21/80\n",
      "80/80 [==============================] - 0s 1ms/step - loss: 2.0855 - sparse_categorical_accuracy: 0.2420 - val_loss: 2.0939 - val_sparse_categorical_accuracy: 0.2434\n",
      "Epoch 22/80\n",
      "80/80 [==============================] - 0s 1ms/step - loss: 2.1109 - sparse_categorical_accuracy: 0.2394 - val_loss: 2.0956 - val_sparse_categorical_accuracy: 0.2475\n",
      "Epoch 23/80\n",
      "80/80 [==============================] - 0s 1ms/step - loss: 2.1262 - sparse_categorical_accuracy: 0.2225 - val_loss: 2.0980 - val_sparse_categorical_accuracy: 0.2393\n",
      "Epoch 24/80\n",
      "80/80 [==============================] - 0s 1ms/step - loss: 2.0768 - sparse_categorical_accuracy: 0.2512 - val_loss: 2.0937 - val_sparse_categorical_accuracy: 0.2419\n",
      "Epoch 25/80\n",
      "80/80 [==============================] - 0s 1ms/step - loss: 2.0925 - sparse_categorical_accuracy: 0.2375 - val_loss: 2.0901 - val_sparse_categorical_accuracy: 0.2452\n",
      "Epoch 26/80\n",
      "80/80 [==============================] - 0s 1ms/step - loss: 2.0925 - sparse_categorical_accuracy: 0.2420 - val_loss: 2.0912 - val_sparse_categorical_accuracy: 0.2400\n",
      "Epoch 27/80\n",
      "80/80 [==============================] - 0s 1ms/step - loss: 2.0752 - sparse_categorical_accuracy: 0.2438 - val_loss: 2.0871 - val_sparse_categorical_accuracy: 0.2467\n",
      "Epoch 28/80\n",
      "80/80 [==============================] - 0s 1ms/step - loss: 2.0996 - sparse_categorical_accuracy: 0.2307 - val_loss: 2.0890 - val_sparse_categorical_accuracy: 0.2512\n",
      "Epoch 29/80\n",
      "80/80 [==============================] - 0s 1ms/step - loss: 2.1174 - sparse_categorical_accuracy: 0.2300 - val_loss: 2.0872 - val_sparse_categorical_accuracy: 0.2452\n",
      "Epoch 30/80\n",
      "80/80 [==============================] - 0s 1ms/step - loss: 2.1011 - sparse_categorical_accuracy: 0.2481 - val_loss: 2.0879 - val_sparse_categorical_accuracy: 0.2535\n",
      "Epoch 31/80\n",
      "80/80 [==============================] - 0s 1ms/step - loss: 2.0817 - sparse_categorical_accuracy: 0.2395 - val_loss: 2.0859 - val_sparse_categorical_accuracy: 0.2467\n",
      "Epoch 32/80\n",
      "80/80 [==============================] - 0s 1ms/step - loss: 2.0842 - sparse_categorical_accuracy: 0.2463 - val_loss: 2.0854 - val_sparse_categorical_accuracy: 0.2557\n",
      "Epoch 33/80\n",
      "80/80 [==============================] - 0s 1ms/step - loss: 2.0949 - sparse_categorical_accuracy: 0.2470 - val_loss: 2.0872 - val_sparse_categorical_accuracy: 0.2486\n",
      "Epoch 34/80\n",
      "80/80 [==============================] - 0s 1ms/step - loss: 2.0869 - sparse_categorical_accuracy: 0.2438 - val_loss: 2.0878 - val_sparse_categorical_accuracy: 0.2512\n",
      "Epoch 35/80\n",
      "80/80 [==============================] - 0s 1ms/step - loss: 2.1034 - sparse_categorical_accuracy: 0.2375 - val_loss: 2.0850 - val_sparse_categorical_accuracy: 0.2505\n",
      "Epoch 36/80\n",
      "80/80 [==============================] - 0s 1ms/step - loss: 2.0763 - sparse_categorical_accuracy: 0.2432 - val_loss: 2.0859 - val_sparse_categorical_accuracy: 0.2441\n",
      "Epoch 37/80\n",
      "80/80 [==============================] - 0s 1ms/step - loss: 2.0820 - sparse_categorical_accuracy: 0.2463 - val_loss: 2.0836 - val_sparse_categorical_accuracy: 0.2467\n",
      "Epoch 38/80\n",
      "80/80 [==============================] - 0s 1ms/step - loss: 2.1077 - sparse_categorical_accuracy: 0.2326 - val_loss: 2.0843 - val_sparse_categorical_accuracy: 0.2456\n",
      "Epoch 39/80\n",
      "80/80 [==============================] - 0s 1ms/step - loss: 2.0773 - sparse_categorical_accuracy: 0.2525 - val_loss: 2.0869 - val_sparse_categorical_accuracy: 0.2415\n",
      "Epoch 40/80\n",
      "80/80 [==============================] - 0s 1ms/step - loss: 2.0802 - sparse_categorical_accuracy: 0.2481 - val_loss: 2.0845 - val_sparse_categorical_accuracy: 0.2422\n",
      "Epoch 41/80\n",
      "80/80 [==============================] - 0s 1ms/step - loss: 2.1019 - sparse_categorical_accuracy: 0.2458 - val_loss: 2.0811 - val_sparse_categorical_accuracy: 0.2531\n",
      "Epoch 42/80\n",
      "80/80 [==============================] - 0s 1ms/step - loss: 2.0842 - sparse_categorical_accuracy: 0.2444 - val_loss: 2.0848 - val_sparse_categorical_accuracy: 0.2501\n",
      "Epoch 43/80\n",
      "80/80 [==============================] - 0s 1ms/step - loss: 2.0858 - sparse_categorical_accuracy: 0.2464 - val_loss: 2.0826 - val_sparse_categorical_accuracy: 0.2493\n",
      "Epoch 44/80\n",
      "80/80 [==============================] - 0s 1ms/step - loss: 2.0772 - sparse_categorical_accuracy: 0.2544 - val_loss: 2.0829 - val_sparse_categorical_accuracy: 0.2479\n",
      "Epoch 45/80\n",
      "80/80 [==============================] - 0s 1ms/step - loss: 2.0733 - sparse_categorical_accuracy: 0.2581 - val_loss: 2.0818 - val_sparse_categorical_accuracy: 0.2564\n",
      "Epoch 46/80\n",
      "80/80 [==============================] - 0s 1ms/step - loss: 2.0910 - sparse_categorical_accuracy: 0.2476 - val_loss: 2.0844 - val_sparse_categorical_accuracy: 0.2467\n"
     ]
    },
    {
     "name": "stdout",
     "output_type": "stream",
     "text": [
      "Epoch 47/80\n",
      "80/80 [==============================] - 0s 1ms/step - loss: 2.0682 - sparse_categorical_accuracy: 0.2494 - val_loss: 2.0834 - val_sparse_categorical_accuracy: 0.2501\n",
      "Epoch 48/80\n",
      "80/80 [==============================] - 0s 1ms/step - loss: 2.0585 - sparse_categorical_accuracy: 0.2558 - val_loss: 2.0818 - val_sparse_categorical_accuracy: 0.2497\n",
      "Epoch 49/80\n",
      "80/80 [==============================] - 0s 2ms/step - loss: 2.0860 - sparse_categorical_accuracy: 0.2469 - val_loss: 2.0783 - val_sparse_categorical_accuracy: 0.2531\n",
      "Epoch 50/80\n",
      "80/80 [==============================] - 0s 1ms/step - loss: 2.0619 - sparse_categorical_accuracy: 0.2531 - val_loss: 2.0802 - val_sparse_categorical_accuracy: 0.2516\n",
      "Epoch 51/80\n",
      "80/80 [==============================] - 0s 3ms/step - loss: 2.0700 - sparse_categorical_accuracy: 0.2546 - val_loss: 2.0814 - val_sparse_categorical_accuracy: 0.2579\n",
      "Epoch 52/80\n",
      "80/80 [==============================] - 0s 1ms/step - loss: 2.1151 - sparse_categorical_accuracy: 0.2362 - val_loss: 2.0826 - val_sparse_categorical_accuracy: 0.2422\n",
      "Epoch 53/80\n",
      "80/80 [==============================] - 0s 1ms/step - loss: 2.0688 - sparse_categorical_accuracy: 0.2577 - val_loss: 2.0783 - val_sparse_categorical_accuracy: 0.2460\n",
      "Epoch 54/80\n",
      "80/80 [==============================] - 0s 1ms/step - loss: 2.0777 - sparse_categorical_accuracy: 0.2581 - val_loss: 2.0785 - val_sparse_categorical_accuracy: 0.2516\n",
      "Epoch 55/80\n",
      "80/80 [==============================] - 0s 1ms/step - loss: 2.0623 - sparse_categorical_accuracy: 0.2581 - val_loss: 2.0819 - val_sparse_categorical_accuracy: 0.2430\n",
      "Epoch 56/80\n",
      "80/80 [==============================] - 0s 1ms/step - loss: 2.0575 - sparse_categorical_accuracy: 0.2627 - val_loss: 2.0804 - val_sparse_categorical_accuracy: 0.2464\n",
      "Epoch 57/80\n",
      "80/80 [==============================] - 0s 1ms/step - loss: 2.1217 - sparse_categorical_accuracy: 0.2294 - val_loss: 2.0817 - val_sparse_categorical_accuracy: 0.2493\n",
      "Epoch 58/80\n",
      "80/80 [==============================] - 0s 1ms/step - loss: 2.0540 - sparse_categorical_accuracy: 0.2583 - val_loss: 2.0783 - val_sparse_categorical_accuracy: 0.2520\n",
      "Epoch 59/80\n",
      "80/80 [==============================] - 0s 1ms/step - loss: 2.0663 - sparse_categorical_accuracy: 0.2750 - val_loss: 2.0820 - val_sparse_categorical_accuracy: 0.2479\n",
      "Epoch 60/80\n",
      "80/80 [==============================] - 0s 1ms/step - loss: 2.0883 - sparse_categorical_accuracy: 0.2481 - val_loss: 2.0813 - val_sparse_categorical_accuracy: 0.2486\n",
      "Epoch 61/80\n",
      "80/80 [==============================] - 0s 1ms/step - loss: 2.0498 - sparse_categorical_accuracy: 0.2615 - val_loss: 2.0806 - val_sparse_categorical_accuracy: 0.2501\n",
      "Epoch 62/80\n",
      "80/80 [==============================] - 0s 1ms/step - loss: 2.0943 - sparse_categorical_accuracy: 0.2375 - val_loss: 2.0805 - val_sparse_categorical_accuracy: 0.2508\n",
      "Epoch 63/80\n",
      "80/80 [==============================] - 0s 1ms/step - loss: 2.0600 - sparse_categorical_accuracy: 0.2514 - val_loss: 2.0782 - val_sparse_categorical_accuracy: 0.2546\n",
      "Epoch 64/80\n",
      "80/80 [==============================] - 0s 1ms/step - loss: 2.0676 - sparse_categorical_accuracy: 0.2344 - val_loss: 2.0812 - val_sparse_categorical_accuracy: 0.2486\n",
      "Epoch 65/80\n",
      "80/80 [==============================] - 0s 1ms/step - loss: 2.0692 - sparse_categorical_accuracy: 0.2531 - val_loss: 2.0785 - val_sparse_categorical_accuracy: 0.2497\n",
      "Epoch 66/80\n",
      "80/80 [==============================] - 0s 1ms/step - loss: 2.0937 - sparse_categorical_accuracy: 0.2420 - val_loss: 2.0774 - val_sparse_categorical_accuracy: 0.2422\n",
      "Epoch 67/80\n",
      "80/80 [==============================] - 0s 1ms/step - loss: 2.0677 - sparse_categorical_accuracy: 0.2338 - val_loss: 2.0774 - val_sparse_categorical_accuracy: 0.2535\n",
      "Epoch 68/80\n",
      "80/80 [==============================] - 0s 1ms/step - loss: 2.0392 - sparse_categorical_accuracy: 0.2646 - val_loss: 2.0798 - val_sparse_categorical_accuracy: 0.2419\n",
      "Epoch 69/80\n",
      "80/80 [==============================] - 0s 1ms/step - loss: 2.0908 - sparse_categorical_accuracy: 0.2469 - val_loss: 2.0760 - val_sparse_categorical_accuracy: 0.2486\n",
      "Epoch 70/80\n",
      "80/80 [==============================] - 0s 1ms/step - loss: 2.0719 - sparse_categorical_accuracy: 0.2494 - val_loss: 2.0777 - val_sparse_categorical_accuracy: 0.2505\n",
      "Epoch 71/80\n",
      "80/80 [==============================] - 0s 1ms/step - loss: 2.0253 - sparse_categorical_accuracy: 0.2797 - val_loss: 2.0798 - val_sparse_categorical_accuracy: 0.2407\n",
      "Epoch 72/80\n",
      "80/80 [==============================] - 0s 1ms/step - loss: 2.0779 - sparse_categorical_accuracy: 0.2481 - val_loss: 2.0749 - val_sparse_categorical_accuracy: 0.2490\n",
      "Epoch 73/80\n",
      "80/80 [==============================] - 0s 1ms/step - loss: 2.0832 - sparse_categorical_accuracy: 0.2464 - val_loss: 2.0754 - val_sparse_categorical_accuracy: 0.2479\n",
      "Epoch 74/80\n",
      "80/80 [==============================] - 0s 1ms/step - loss: 2.0486 - sparse_categorical_accuracy: 0.2631 - val_loss: 2.0752 - val_sparse_categorical_accuracy: 0.2538\n",
      "Epoch 75/80\n",
      "80/80 [==============================] - 0s 1ms/step - loss: 2.0833 - sparse_categorical_accuracy: 0.2519 - val_loss: 2.0728 - val_sparse_categorical_accuracy: 0.2516\n",
      "Epoch 76/80\n",
      "80/80 [==============================] - 0s 1ms/step - loss: 2.0871 - sparse_categorical_accuracy: 0.2495 - val_loss: 2.0751 - val_sparse_categorical_accuracy: 0.2486\n",
      "Epoch 77/80\n",
      "80/80 [==============================] - 0s 1ms/step - loss: 2.0559 - sparse_categorical_accuracy: 0.2544 - val_loss: 2.0766 - val_sparse_categorical_accuracy: 0.2456\n",
      "Epoch 78/80\n",
      "80/80 [==============================] - 0s 1ms/step - loss: 2.0750 - sparse_categorical_accuracy: 0.2458 - val_loss: 2.0739 - val_sparse_categorical_accuracy: 0.2437\n",
      "Epoch 79/80\n",
      "80/80 [==============================] - 0s 1ms/step - loss: 2.0561 - sparse_categorical_accuracy: 0.2575 - val_loss: 2.0741 - val_sparse_categorical_accuracy: 0.2366\n",
      "Epoch 80/80\n",
      "80/80 [==============================] - 0s 1ms/step - loss: 2.0755 - sparse_categorical_accuracy: 0.2531 - val_loss: 2.0730 - val_sparse_categorical_accuracy: 0.2482\n"
     ]
    }
   ],
   "source": [
    "history = model.fit(X_train, y_train_class,         # Train the model using the training set...\n",
    "          batch_size=20, epochs=80,\n",
    "          verbose=1, validation_split=0.4,steps_per_epoch=80)  "
   ]
  },
  {
   "cell_type": "code",
   "execution_count": 302,
   "metadata": {},
   "outputs": [
    {
     "name": "stdout",
     "output_type": "stream",
     "text": [
      "24/24 [==============================] - 0s 515us/step - loss: 2.0625 - sparse_categorical_accuracy: 0.2759\n",
      "The final loss on the TEST set is: 2.06.\n",
      "The final sparse_categorical_accuracy on the TEST set is: 0.28.\n"
     ]
    },
    {
     "data": {
      "image/png": "[encoded data removed]",
      "text/plain": [
       "<Figure size 432x288 with 1 Axes>"
      ]
     },
     "metadata": {
      "needs_background": "light"
     },
     "output_type": "display_data"
    }
   ],
   "source": [
    "# --------------------------------------\n",
    "# Evaluation\n",
    "# --------------------------------------\n",
    "for loss_name, loss_value in list(zip(model.metrics_names, model.evaluate(X_test, y_test_class, verbose=1))):\n",
    "    print('The final {} on the TEST set is: {:.2f}.'.format(loss_name, loss_value)) # Evaluate the trained model on the test set!\n",
    "\n",
    "# --------------------------------------\n",
    "# Loss functions evolution\n",
    "# --------------------------------------\n",
    "plt.plot(history.history['loss'])\n",
    "plt.plot(history.history['val_loss'])\n",
    "plt.title('Model loss by epoch')\n",
    "plt.ylabel('loss')\n",
    "plt.xlabel('epoch')\n",
    "plt.legend(['train', 'valid'], loc='right')\n",
    "plt.show()"
   ]
  },
  {
   "cell_type": "code",
   "execution_count": 303,
   "metadata": {},
   "outputs": [],
   "source": [
    "y=model.predict(X_test)"
   ]
  },
  {
   "cell_type": "code",
   "execution_count": null,
   "metadata": {},
   "outputs": [],
   "source": []
  },
  {
   "cell_type": "code",
   "execution_count": 304,
   "metadata": {},
   "outputs": [],
   "source": [
    "y_predicted = [np.argmax(pred) for pred in y]"
   ]
  },
  {
   "cell_type": "code",
   "execution_count": 305,
   "metadata": {},
   "outputs": [
    {
     "name": "stdout",
     "output_type": "stream",
     "text": [
      "predicted:  1 | Actual Label:  5.0  False\n",
      "predicted:  3 | Actual Label:  1.0  False\n",
      "predicted:  0 | Actual Label:  0.0  True\n",
      "predicted:  9 | Actual Label:  1.0  False\n",
      "predicted:  9 | Actual Label:  5.0  False\n",
      "predicted:  8 | Actual Label:  1.0  False\n",
      "predicted:  1 | Actual Label:  6.0  False\n",
      "predicted:  9 | Actual Label:  4.0  False\n",
      "predicted:  5 | Actual Label:  2.0  False\n",
      "predicted:  0 | Actual Label:  0.0  True\n",
      "predicted:  7 | Actual Label:  7.0  True\n",
      "predicted:  7 | Actual Label:  5.0  False\n",
      "predicted:  1 | Actual Label:  4.0  False\n",
      "predicted:  1 | Actual Label:  3.0  False\n",
      "predicted:  8 | Actual Label:  9.0  False\n",
      "predicted:  2 | Actual Label:  8.0  False\n",
      "predicted:  9 | Actual Label:  0.0  False\n",
      "predicted:  1 | Actual Label:  2.0  False\n",
      "predicted:  5 | Actual Label:  2.0  False\n",
      "predicted:  7 | Actual Label:  1.0  False\n",
      "predicted:  4 | Actual Label:  4.0  True\n",
      "predicted:  9 | Actual Label:  9.0  True\n",
      "predicted:  9 | Actual Label:  4.0  False\n",
      "predicted:  5 | Actual Label:  7.0  False\n",
      "predicted:  7 | Actual Label:  8.0  False\n",
      "predicted:  4 | Actual Label:  8.0  False\n",
      "predicted:  7 | Actual Label:  6.0  False\n",
      "predicted:  1 | Actual Label:  2.0  False\n",
      "predicted:  5 | Actual Label:  5.0  True\n",
      "predicted:  6 | Actual Label:  4.0  False\n",
      "predicted:  4 | Actual Label:  1.0  False\n",
      "predicted:  9 | Actual Label:  9.0  True\n",
      "predicted:  6 | Actual Label:  5.0  False\n",
      "predicted:  1 | Actual Label:  7.0  False\n",
      "predicted:  9 | Actual Label:  8.0  False\n",
      "predicted:  9 | Actual Label:  9.0  True\n",
      "predicted:  5 | Actual Label:  6.0  False\n",
      "predicted:  1 | Actual Label:  2.0  False\n",
      "predicted:  4 | Actual Label:  3.0  False\n",
      "predicted:  9 | Actual Label:  8.0  False\n",
      "predicted:  5 | Actual Label:  3.0  False\n",
      "predicted:  9 | Actual Label:  5.0  False\n",
      "predicted:  4 | Actual Label:  4.0  True\n",
      "predicted:  7 | Actual Label:  8.0  False\n",
      "predicted:  5 | Actual Label:  6.0  False\n",
      "predicted:  2 | Actual Label:  2.0  True\n",
      "predicted:  6 | Actual Label:  9.0  False\n",
      "predicted:  1 | Actual Label:  6.0  False\n",
      "predicted:  6 | Actual Label:  6.0  True\n",
      "predicted:  7 | Actual Label:  5.0  False\n",
      "predicted:  9 | Actual Label:  9.0  True\n",
      "predicted:  5 | Actual Label:  6.0  False\n",
      "predicted:  4 | Actual Label:  1.0  False\n",
      "predicted:  9 | Actual Label:  9.0  True\n",
      "predicted:  5 | Actual Label:  5.0  True\n",
      "predicted:  1 | Actual Label:  1.0  True\n",
      "predicted:  9 | Actual Label:  8.0  False\n",
      "predicted:  3 | Actual Label:  7.0  False\n",
      "predicted:  8 | Actual Label:  7.0  False\n",
      "predicted:  1 | Actual Label:  1.0  True\n",
      "predicted:  0 | Actual Label:  7.0  False\n",
      "predicted:  4 | Actual Label:  2.0  False\n",
      "predicted:  7 | Actual Label:  6.0  False\n",
      "predicted:  3 | Actual Label:  0.0  False\n",
      "predicted:  1 | Actual Label:  0.0  False\n",
      "predicted:  1 | Actual Label:  8.0  False\n",
      "predicted:  5 | Actual Label:  6.0  False\n",
      "predicted:  9 | Actual Label:  9.0  True\n",
      "predicted:  4 | Actual Label:  3.0  False\n",
      "predicted:  1 | Actual Label:  3.0  False\n",
      "predicted:  9 | Actual Label:  9.0  True\n",
      "predicted:  9 | Actual Label:  7.0  False\n",
      "predicted:  3 | Actual Label:  3.0  True\n",
      "predicted:  0 | Actual Label:  6.0  False\n",
      "predicted:  5 | Actual Label:  5.0  True\n",
      "predicted:  3 | Actual Label:  1.0  False\n",
      "predicted:  5 | Actual Label:  5.0  True\n",
      "predicted:  0 | Actual Label:  2.0  False\n",
      "predicted:  6 | Actual Label:  1.0  False\n",
      "predicted:  0 | Actual Label:  0.0  True\n",
      "predicted:  4 | Actual Label:  6.0  False\n",
      "predicted:  9 | Actual Label:  7.0  False\n",
      "predicted:  5 | Actual Label:  4.0  False\n",
      "predicted:  7 | Actual Label:  1.0  False\n",
      "predicted:  9 | Actual Label:  9.0  True\n",
      "predicted:  0 | Actual Label:  5.0  False\n",
      "predicted:  4 | Actual Label:  8.0  False\n",
      "predicted:  0 | Actual Label:  0.0  True\n",
      "predicted:  5 | Actual Label:  2.0  False\n",
      "predicted:  4 | Actual Label:  4.0  True\n",
      "predicted:  5 | Actual Label:  5.0  True\n",
      "predicted:  9 | Actual Label:  1.0  False\n",
      "predicted:  6 | Actual Label:  6.0  True\n",
      "predicted:  4 | Actual Label:  1.0  False\n",
      "predicted:  3 | Actual Label:  5.0  False\n",
      "predicted:  9 | Actual Label:  9.0  True\n",
      "predicted:  9 | Actual Label:  2.0  False\n",
      "predicted:  9 | Actual Label:  9.0  True\n",
      "predicted:  6 | Actual Label:  6.0  True\n",
      "predicted:  9 | Actual Label:  7.0  False\n",
      "predicted:  1 | Actual Label:  6.0  False\n",
      "predicted:  0 | Actual Label:  0.0  True\n",
      "predicted:  9 | Actual Label:  9.0  True\n",
      "predicted:  7 | Actual Label:  2.0  False\n",
      "predicted:  1 | Actual Label:  3.0  False\n",
      "predicted:  4 | Actual Label:  0.0  False\n",
      "predicted:  5 | Actual Label:  5.0  True\n",
      "predicted:  5 | Actual Label:  5.0  True\n",
      "predicted:  9 | Actual Label:  3.0  False\n",
      "predicted:  5 | Actual Label:  6.0  False\n",
      "predicted:  1 | Actual Label:  5.0  False\n",
      "predicted:  9 | Actual Label:  4.0  False\n",
      "predicted:  0 | Actual Label:  8.0  False\n",
      "predicted:  6 | Actual Label:  7.0  False\n",
      "predicted:  6 | Actual Label:  6.0  True\n",
      "predicted:  6 | Actual Label:  4.0  False\n",
      "predicted:  6 | Actual Label:  6.0  True\n",
      "predicted:  7 | Actual Label:  8.0  False\n",
      "predicted:  4 | Actual Label:  3.0  False\n",
      "predicted:  1 | Actual Label:  2.0  False\n",
      "predicted:  0 | Actual Label:  0.0  True\n",
      "predicted:  5 | Actual Label:  7.0  False\n",
      "predicted:  0 | Actual Label:  0.0  True\n",
      "predicted:  7 | Actual Label:  8.0  False\n",
      "predicted:  9 | Actual Label:  8.0  False\n",
      "predicted:  5 | Actual Label:  2.0  False\n",
      "predicted:  0 | Actual Label:  3.0  False\n",
      "predicted:  5 | Actual Label:  7.0  False\n",
      "predicted:  0 | Actual Label:  4.0  False\n",
      "predicted:  2 | Actual Label:  5.0  False\n",
      "predicted:  9 | Actual Label:  3.0  False\n",
      "predicted:  4 | Actual Label:  1.0  False\n",
      "predicted:  9 | Actual Label:  1.0  False\n",
      "predicted:  9 | Actual Label:  7.0  False\n",
      "predicted:  1 | Actual Label:  2.0  False\n",
      "predicted:  0 | Actual Label:  2.0  False\n",
      "predicted:  5 | Actual Label:  3.0  False\n",
      "predicted:  1 | Actual Label:  2.0  False\n",
      "predicted:  7 | Actual Label:  8.0  False\n",
      "predicted:  4 | Actual Label:  1.0  False\n",
      "predicted:  4 | Actual Label:  2.0  False\n",
      "predicted:  3 | Actual Label:  6.0  False\n",
      "predicted:  5 | Actual Label:  2.0  False\n",
      "predicted:  0 | Actual Label:  7.0  False\n",
      "predicted:  9 | Actual Label:  0.0  False\n",
      "predicted:  9 | Actual Label:  9.0  True\n",
      "predicted:  4 | Actual Label:  5.0  False\n",
      "predicted:  4 | Actual Label:  4.0  True\n",
      "predicted:  4 | Actual Label:  1.0  False\n",
      "predicted:  3 | Actual Label:  1.0  False\n",
      "predicted:  4 | Actual Label:  4.0  True\n",
      "predicted:  9 | Actual Label:  9.0  True\n",
      "predicted:  1 | Actual Label:  7.0  False\n",
      "predicted:  9 | Actual Label:  0.0  False\n",
      "predicted:  0 | Actual Label:  0.0  True\n",
      "predicted:  9 | Actual Label:  6.0  False\n",
      "predicted:  5 | Actual Label:  5.0  True\n",
      "predicted:  0 | Actual Label:  5.0  False\n",
      "predicted:  9 | Actual Label:  3.0  False\n",
      "predicted:  8 | Actual Label:  3.0  False\n",
      "predicted:  7 | Actual Label:  6.0  False\n",
      "predicted:  0 | Actual Label:  3.0  False\n",
      "predicted:  0 | Actual Label:  0.0  True\n",
      "predicted:  2 | Actual Label:  5.0  False\n",
      "predicted:  7 | Actual Label:  6.0  False\n",
      "predicted:  3 | Actual Label:  7.0  False\n",
      "predicted:  0 | Actual Label:  0.0  True\n",
      "predicted:  7 | Actual Label:  3.0  False\n",
      "predicted:  5 | Actual Label:  3.0  False\n",
      "predicted:  4 | Actual Label:  6.0  False\n",
      "predicted:  0 | Actual Label:  0.0  True\n",
      "predicted:  4 | Actual Label:  5.0  False\n",
      "predicted:  5 | Actual Label:  4.0  False\n",
      "predicted:  2 | Actual Label:  2.0  True\n",
      "predicted:  8 | Actual Label:  9.0  False\n",
      "predicted:  5 | Actual Label:  4.0  False\n",
      "predicted:  1 | Actual Label:  2.0  False\n",
      "predicted:  9 | Actual Label:  8.0  False\n",
      "predicted:  4 | Actual Label:  2.0  False\n",
      "predicted:  5 | Actual Label:  6.0  False\n",
      "predicted:  4 | Actual Label:  2.0  False\n",
      "predicted:  9 | Actual Label:  7.0  False\n",
      "predicted:  9 | Actual Label:  9.0  True\n",
      "predicted:  9 | Actual Label:  8.0  False\n",
      "predicted:  0 | Actual Label:  0.0  True\n",
      "predicted:  5 | Actual Label:  4.0  False\n",
      "predicted:  1 | Actual Label:  5.0  False\n",
      "predicted:  8 | Actual Label:  5.0  False\n",
      "predicted:  1 | Actual Label:  7.0  False\n",
      "predicted:  9 | Actual Label:  1.0  False\n",
      "predicted:  7 | Actual Label:  2.0  False\n",
      "predicted:  9 | Actual Label:  9.0  True\n",
      "predicted:  9 | Actual Label:  9.0  True\n",
      "predicted:  6 | Actual Label:  3.0  False\n",
      "predicted:  3 | Actual Label:  8.0  False\n",
      "predicted:  5 | Actual Label:  6.0  False\n",
      "predicted:  9 | Actual Label:  9.0  True\n",
      "predicted:  8 | Actual Label:  8.0  True\n",
      "predicted:  0 | Actual Label:  8.0  False\n",
      "predicted:  1 | Actual Label:  2.0  False\n",
      "predicted:  0 | Actual Label:  1.0  False\n",
      "predicted:  9 | Actual Label:  9.0  True\n",
      "predicted:  7 | Actual Label:  7.0  True\n",
      "predicted:  1 | Actual Label:  6.0  False\n",
      "predicted:  9 | Actual Label:  8.0  False\n",
      "predicted:  5 | Actual Label:  6.0  False\n",
      "predicted:  9 | Actual Label:  8.0  False\n",
      "predicted:  8 | Actual Label:  8.0  True\n",
      "predicted:  1 | Actual Label:  6.0  False\n",
      "predicted:  5 | Actual Label:  5.0  True\n",
      "predicted:  7 | Actual Label:  8.0  False\n",
      "predicted:  5 | Actual Label:  6.0  False\n",
      "predicted:  4 | Actual Label:  2.0  False\n",
      "predicted:  5 | Actual Label:  5.0  True\n",
      "predicted:  7 | Actual Label:  5.0  False\n",
      "predicted:  5 | Actual Label:  2.0  False\n",
      "predicted:  3 | Actual Label:  7.0  False\n",
      "predicted:  8 | Actual Label:  9.0  False\n",
      "predicted:  0 | Actual Label:  0.0  True\n",
      "predicted:  1 | Actual Label:  1.0  True\n",
      "predicted:  9 | Actual Label:  4.0  False\n",
      "predicted:  9 | Actual Label:  9.0  True\n",
      "predicted:  5 | Actual Label:  4.0  False\n",
      "predicted:  7 | Actual Label:  7.0  True\n",
      "predicted:  1 | Actual Label:  6.0  False\n",
      "predicted:  6 | Actual Label:  6.0  True\n",
      "predicted:  1 | Actual Label:  6.0  False\n",
      "predicted:  5 | Actual Label:  2.0  False\n",
      "predicted:  5 | Actual Label:  5.0  True\n",
      "predicted:  5 | Actual Label:  0.0  False\n",
      "predicted:  5 | Actual Label:  7.0  False\n",
      "predicted:  2 | Actual Label:  8.0  False\n",
      "predicted:  9 | Actual Label:  9.0  True\n",
      "predicted:  4 | Actual Label:  4.0  True\n",
      "predicted:  6 | Actual Label:  3.0  False\n",
      "predicted:  7 | Actual Label:  9.0  False\n",
      "predicted:  5 | Actual Label:  5.0  True\n",
      "predicted:  0 | Actual Label:  2.0  False\n",
      "predicted:  7 | Actual Label:  4.0  False\n",
      "predicted:  5 | Actual Label:  4.0  False\n",
      "predicted:  6 | Actual Label:  6.0  True\n",
      "predicted:  9 | Actual Label:  2.0  False\n",
      "predicted:  2 | Actual Label:  2.0  True\n",
      "predicted:  0 | Actual Label:  0.0  True\n",
      "predicted:  3 | Actual Label:  3.0  True\n",
      "predicted:  9 | Actual Label:  5.0  False\n",
      "predicted:  7 | Actual Label:  8.0  False\n",
      "predicted:  0 | Actual Label:  2.0  False\n",
      "predicted:  7 | Actual Label:  1.0  False\n",
      "predicted:  0 | Actual Label:  6.0  False\n",
      "predicted:  9 | Actual Label:  5.0  False\n",
      "predicted:  4 | Actual Label:  1.0  False\n",
      "predicted:  7 | Actual Label:  7.0  True\n",
      "predicted:  5 | Actual Label:  5.0  True\n",
      "predicted:  1 | Actual Label:  9.0  False\n",
      "predicted:  5 | Actual Label:  2.0  False\n",
      "predicted:  1 | Actual Label:  1.0  True\n",
      "predicted:  5 | Actual Label:  5.0  True\n",
      "predicted:  4 | Actual Label:  1.0  False\n",
      "predicted:  6 | Actual Label:  2.0  False\n",
      "predicted:  2 | Actual Label:  2.0  True\n",
      "predicted:  9 | Actual Label:  9.0  True\n",
      "predicted:  9 | Actual Label:  4.0  False\n",
      "predicted:  2 | Actual Label:  3.0  False\n",
      "predicted:  9 | Actual Label:  8.0  False\n",
      "predicted:  6 | Actual Label:  5.0  False\n",
      "predicted:  4 | Actual Label:  2.0  False\n",
      "predicted:  9 | Actual Label:  7.0  False\n",
      "predicted:  3 | Actual Label:  4.0  False\n",
      "predicted:  0 | Actual Label:  4.0  False\n",
      "predicted:  9 | Actual Label:  9.0  True\n",
      "predicted:  7 | Actual Label:  4.0  False\n",
      "predicted:  9 | Actual Label:  9.0  True\n",
      "predicted:  1 | Actual Label:  5.0  False\n",
      "predicted:  7 | Actual Label:  8.0  False\n",
      "predicted:  6 | Actual Label:  4.0  False\n",
      "predicted:  6 | Actual Label:  2.0  False\n",
      "predicted:  9 | Actual Label:  3.0  False\n",
      "predicted:  4 | Actual Label:  4.0  True\n",
      "predicted:  0 | Actual Label:  4.0  False\n",
      "predicted:  9 | Actual Label:  1.0  False\n",
      "predicted:  5 | Actual Label:  7.0  False\n",
      "predicted:  9 | Actual Label:  7.0  False\n",
      "predicted:  6 | Actual Label:  7.0  False\n",
      "predicted:  3 | Actual Label:  1.0  False\n",
      "predicted:  9 | Actual Label:  0.0  False\n",
      "predicted:  9 | Actual Label:  8.0  False\n",
      "predicted:  0 | Actual Label:  4.0  False\n",
      "predicted:  5 | Actual Label:  6.0  False\n",
      "predicted:  9 | Actual Label:  5.0  False\n",
      "predicted:  6 | Actual Label:  7.0  False\n",
      "predicted:  1 | Actual Label:  1.0  True\n",
      "predicted:  1 | Actual Label:  3.0  False\n",
      "predicted:  9 | Actual Label:  7.0  False\n",
      "predicted:  7 | Actual Label:  7.0  True\n",
      "predicted:  7 | Actual Label:  7.0  True\n",
      "predicted:  9 | Actual Label:  9.0  True\n",
      "predicted:  8 | Actual Label:  6.0  False\n",
      "predicted:  9 | Actual Label:  9.0  True\n",
      "predicted:  9 | Actual Label:  2.0  False\n",
      "predicted:  7 | Actual Label:  1.0  False\n",
      "predicted:  9 | Actual Label:  9.0  True\n",
      "predicted:  3 | Actual Label:  8.0  False\n",
      "predicted:  9 | Actual Label:  9.0  True\n",
      "predicted:  9 | Actual Label:  9.0  True\n",
      "predicted:  9 | Actual Label:  2.0  False\n",
      "predicted:  9 | Actual Label:  9.0  True\n",
      "predicted:  8 | Actual Label:  8.0  True\n",
      "predicted:  9 | Actual Label:  3.0  False\n",
      "predicted:  1 | Actual Label:  3.0  False\n",
      "predicted:  8 | Actual Label:  1.0  False\n",
      "predicted:  5 | Actual Label:  6.0  False\n",
      "predicted:  5 | Actual Label:  5.0  True\n",
      "predicted:  5 | Actual Label:  8.0  False\n",
      "predicted:  7 | Actual Label:  9.0  False\n",
      "predicted:  4 | Actual Label:  2.0  False\n",
      "predicted:  4 | Actual Label:  5.0  False\n",
      "predicted:  6 | Actual Label:  3.0  False\n",
      "predicted:  1 | Actual Label:  2.0  False\n",
      "predicted:  9 | Actual Label:  4.0  False\n",
      "predicted:  9 | Actual Label:  9.0  True\n",
      "predicted:  4 | Actual Label:  2.0  False\n",
      "predicted:  9 | Actual Label:  6.0  False\n",
      "predicted:  1 | Actual Label:  4.0  False\n",
      "predicted:  3 | Actual Label:  8.0  False\n",
      "predicted:  1 | Actual Label:  1.0  True\n",
      "predicted:  9 | Actual Label:  9.0  True\n",
      "predicted:  7 | Actual Label:  8.0  False\n",
      "predicted:  5 | Actual Label:  1.0  False\n",
      "predicted:  3 | Actual Label:  1.0  False\n",
      "predicted:  7 | Actual Label:  5.0  False\n",
      "predicted:  6 | Actual Label:  5.0  False\n",
      "predicted:  0 | Actual Label:  0.0  True\n",
      "predicted:  1 | Actual Label:  4.0  False\n",
      "predicted:  9 | Actual Label:  1.0  False\n",
      "predicted:  1 | Actual Label:  0.0  False\n",
      "predicted:  9 | Actual Label:  7.0  False\n",
      "predicted:  3 | Actual Label:  4.0  False\n",
      "predicted:  0 | Actual Label:  2.0  False\n",
      "predicted:  5 | Actual Label:  7.0  False\n",
      "predicted:  1 | Actual Label:  6.0  False\n",
      "predicted:  5 | Actual Label:  3.0  False\n",
      "predicted:  9 | Actual Label:  9.0  True\n",
      "predicted:  4 | Actual Label:  3.0  False\n",
      "predicted:  4 | Actual Label:  1.0  False\n",
      "predicted:  4 | Actual Label:  2.0  False\n",
      "predicted:  0 | Actual Label:  5.0  False\n",
      "predicted:  7 | Actual Label:  3.0  False\n",
      "predicted:  5 | Actual Label:  5.0  True\n",
      "predicted:  1 | Actual Label:  0.0  False\n",
      "predicted:  5 | Actual Label:  5.0  True\n",
      "predicted:  0 | Actual Label:  4.0  False\n",
      "predicted:  4 | Actual Label:  5.0  False\n",
      "predicted:  7 | Actual Label:  3.0  False\n",
      "predicted:  9 | Actual Label:  7.0  False\n",
      "predicted:  5 | Actual Label:  5.0  True\n",
      "predicted:  4 | Actual Label:  6.0  False\n",
      "predicted:  9 | Actual Label:  7.0  False\n",
      "predicted:  1 | Actual Label:  4.0  False\n",
      "predicted:  1 | Actual Label:  7.0  False\n",
      "predicted:  1 | Actual Label:  3.0  False\n",
      "predicted:  9 | Actual Label:  1.0  False\n",
      "predicted:  1 | Actual Label:  1.0  True\n",
      "predicted:  9 | Actual Label:  0.0  False\n",
      "predicted:  4 | Actual Label:  2.0  False\n",
      "predicted:  0 | Actual Label:  0.0  True\n",
      "predicted:  9 | Actual Label:  9.0  True\n",
      "predicted:  7 | Actual Label:  6.0  False\n",
      "predicted:  9 | Actual Label:  9.0  True\n",
      "predicted:  9 | Actual Label:  9.0  True\n",
      "predicted:  3 | Actual Label:  4.0  False\n",
      "predicted:  5 | Actual Label:  7.0  False\n",
      "predicted:  7 | Actual Label:  4.0  False\n",
      "predicted:  9 | Actual Label:  7.0  False\n",
      "predicted:  6 | Actual Label:  2.0  False\n",
      "predicted:  5 | Actual Label:  6.0  False\n",
      "predicted:  4 | Actual Label:  4.0  True\n",
      "predicted:  9 | Actual Label:  2.0  False\n",
      "predicted:  6 | Actual Label:  6.0  True\n",
      "predicted:  1 | Actual Label:  2.0  False\n",
      "predicted:  9 | Actual Label:  9.0  True\n",
      "predicted:  9 | Actual Label:  2.0  False\n",
      "predicted:  5 | Actual Label:  3.0  False\n",
      "predicted:  1 | Actual Label:  9.0  False\n",
      "predicted:  5 | Actual Label:  1.0  False\n",
      "predicted:  7 | Actual Label:  7.0  True\n",
      "predicted:  5 | Actual Label:  3.0  False\n",
      "predicted:  7 | Actual Label:  7.0  True\n",
      "predicted:  0 | Actual Label:  0.0  True\n",
      "predicted:  7 | Actual Label:  7.0  True\n",
      "predicted:  0 | Actual Label:  0.0  True\n",
      "predicted:  5 | Actual Label:  6.0  False\n",
      "predicted:  9 | Actual Label:  2.0  False\n",
      "predicted:  4 | Actual Label:  8.0  False\n"
     ]
    },
    {
     "name": "stdout",
     "output_type": "stream",
     "text": [
      "predicted:  5 | Actual Label:  5.0  True\n",
      "predicted:  3 | Actual Label:  0.0  False\n",
      "predicted:  9 | Actual Label:  7.0  False\n",
      "predicted:  0 | Actual Label:  1.0  False\n",
      "predicted:  7 | Actual Label:  2.0  False\n",
      "predicted:  5 | Actual Label:  4.0  False\n",
      "predicted:  1 | Actual Label:  1.0  True\n",
      "predicted:  9 | Actual Label:  7.0  False\n",
      "predicted:  9 | Actual Label:  8.0  False\n",
      "predicted:  4 | Actual Label:  2.0  False\n",
      "predicted:  6 | Actual Label:  6.0  True\n",
      "predicted:  9 | Actual Label:  3.0  False\n",
      "predicted:  7 | Actual Label:  4.0  False\n",
      "predicted:  4 | Actual Label:  2.0  False\n",
      "predicted:  1 | Actual Label:  2.0  False\n",
      "predicted:  4 | Actual Label:  6.0  False\n",
      "predicted:  7 | Actual Label:  3.0  False\n",
      "predicted:  3 | Actual Label:  3.0  True\n",
      "predicted:  5 | Actual Label:  6.0  False\n",
      "predicted:  3 | Actual Label:  3.0  True\n",
      "predicted:  1 | Actual Label:  0.0  False\n",
      "predicted:  0 | Actual Label:  0.0  True\n",
      "predicted:  6 | Actual Label:  8.0  False\n",
      "predicted:  2 | Actual Label:  6.0  False\n",
      "predicted:  0 | Actual Label:  8.0  False\n",
      "predicted:  7 | Actual Label:  7.0  True\n",
      "predicted:  5 | Actual Label:  6.0  False\n",
      "predicted:  5 | Actual Label:  4.0  False\n",
      "predicted:  1 | Actual Label:  5.0  False\n",
      "predicted:  3 | Actual Label:  8.0  False\n",
      "predicted:  5 | Actual Label:  3.0  False\n",
      "predicted:  5 | Actual Label:  0.0  False\n",
      "predicted:  7 | Actual Label:  9.0  False\n",
      "predicted:  5 | Actual Label:  3.0  False\n",
      "predicted:  9 | Actual Label:  7.0  False\n",
      "predicted:  5 | Actual Label:  4.0  False\n",
      "predicted:  7 | Actual Label:  6.0  False\n",
      "predicted:  1 | Actual Label:  0.0  False\n",
      "predicted:  9 | Actual Label:  8.0  False\n",
      "predicted:  9 | Actual Label:  1.0  False\n",
      "predicted:  6 | Actual Label:  6.0  True\n",
      "predicted:  5 | Actual Label:  5.0  True\n",
      "predicted:  6 | Actual Label:  9.0  False\n",
      "predicted:  7 | Actual Label:  3.0  False\n",
      "predicted:  4 | Actual Label:  1.0  False\n",
      "predicted:  9 | Actual Label:  9.0  True\n",
      "predicted:  0 | Actual Label:  0.0  True\n",
      "predicted:  6 | Actual Label:  5.0  False\n",
      "predicted:  1 | Actual Label:  5.0  False\n",
      "predicted:  5 | Actual Label:  6.0  False\n",
      "predicted:  9 | Actual Label:  9.0  True\n",
      "predicted:  7 | Actual Label:  9.0  False\n",
      "predicted:  4 | Actual Label:  4.0  True\n",
      "predicted:  8 | Actual Label:  6.0  False\n",
      "predicted:  9 | Actual Label:  0.0  False\n",
      "predicted:  5 | Actual Label:  5.0  True\n",
      "predicted:  6 | Actual Label:  0.0  False\n",
      "predicted:  5 | Actual Label:  1.0  False\n",
      "predicted:  6 | Actual Label:  8.0  False\n",
      "predicted:  3 | Actual Label:  3.0  True\n",
      "predicted:  0 | Actual Label:  0.0  True\n",
      "predicted:  5 | Actual Label:  7.0  False\n",
      "predicted:  0 | Actual Label:  0.0  True\n",
      "predicted:  0 | Actual Label:  0.0  True\n",
      "predicted:  5 | Actual Label:  5.0  True\n",
      "predicted:  5 | Actual Label:  3.0  False\n",
      "predicted:  5 | Actual Label:  4.0  False\n",
      "predicted:  3 | Actual Label:  3.0  True\n",
      "predicted:  1 | Actual Label:  6.0  False\n",
      "predicted:  9 | Actual Label:  9.0  True\n",
      "predicted:  1 | Actual Label:  8.0  False\n",
      "predicted:  4 | Actual Label:  1.0  False\n",
      "predicted:  7 | Actual Label:  7.0  True\n",
      "predicted:  7 | Actual Label:  6.0  False\n",
      "predicted:  9 | Actual Label:  6.0  False\n",
      "predicted:  7 | Actual Label:  8.0  False\n",
      "predicted:  7 | Actual Label:  8.0  False\n",
      "predicted:  9 | Actual Label:  9.0  True\n",
      "predicted:  9 | Actual Label:  7.0  False\n",
      "predicted:  9 | Actual Label:  6.0  False\n",
      "predicted:  4 | Actual Label:  6.0  False\n",
      "predicted:  9 | Actual Label:  0.0  False\n",
      "predicted:  5 | Actual Label:  5.0  True\n",
      "predicted:  7 | Actual Label:  5.0  False\n",
      "predicted:  3 | Actual Label:  1.0  False\n",
      "predicted:  1 | Actual Label:  1.0  True\n",
      "predicted:  5 | Actual Label:  6.0  False\n",
      "predicted:  7 | Actual Label:  6.0  False\n",
      "predicted:  9 | Actual Label:  8.0  False\n",
      "predicted:  5 | Actual Label:  3.0  False\n",
      "predicted:  5 | Actual Label:  1.0  False\n",
      "predicted:  9 | Actual Label:  8.0  False\n",
      "predicted:  5 | Actual Label:  6.0  False\n",
      "predicted:  1 | Actual Label:  7.0  False\n",
      "predicted:  9 | Actual Label:  0.0  False\n",
      "predicted:  9 | Actual Label:  9.0  True\n",
      "predicted:  9 | Actual Label:  2.0  False\n",
      "predicted:  9 | Actual Label:  5.0  False\n",
      "predicted:  9 | Actual Label:  9.0  True\n",
      "predicted:  6 | Actual Label:  8.0  False\n",
      "predicted:  5 | Actual Label:  6.0  False\n",
      "predicted:  1 | Actual Label:  0.0  False\n",
      "predicted:  5 | Actual Label:  7.0  False\n",
      "predicted:  7 | Actual Label:  8.0  False\n",
      "predicted:  5 | Actual Label:  5.0  True\n",
      "predicted:  9 | Actual Label:  8.0  False\n",
      "predicted:  1 | Actual Label:  0.0  False\n",
      "predicted:  1 | Actual Label:  2.0  False\n",
      "predicted:  1 | Actual Label:  2.0  False\n",
      "predicted:  0 | Actual Label:  5.0  False\n",
      "predicted:  8 | Actual Label:  6.0  False\n",
      "predicted:  6 | Actual Label:  8.0  False\n",
      "predicted:  9 | Actual Label:  8.0  False\n",
      "predicted:  1 | Actual Label:  5.0  False\n",
      "predicted:  7 | Actual Label:  8.0  False\n",
      "predicted:  1 | Actual Label:  1.0  True\n",
      "predicted:  9 | Actual Label:  1.0  False\n",
      "predicted:  3 | Actual Label:  2.0  False\n",
      "predicted:  5 | Actual Label:  6.0  False\n",
      "predicted:  5 | Actual Label:  4.0  False\n",
      "predicted:  9 | Actual Label:  9.0  True\n",
      "predicted:  0 | Actual Label:  0.0  True\n",
      "predicted:  9 | Actual Label:  0.0  False\n",
      "predicted:  6 | Actual Label:  9.0  False\n",
      "predicted:  0 | Actual Label:  3.0  False\n",
      "predicted:  5 | Actual Label:  4.0  False\n",
      "predicted:  1 | Actual Label:  4.0  False\n",
      "predicted:  3 | Actual Label:  3.0  True\n",
      "predicted:  9 | Actual Label:  7.0  False\n",
      "predicted:  5 | Actual Label:  2.0  False\n",
      "predicted:  9 | Actual Label:  1.0  False\n",
      "predicted:  4 | Actual Label:  3.0  False\n",
      "predicted:  7 | Actual Label:  4.0  False\n",
      "predicted:  4 | Actual Label:  4.0  True\n",
      "predicted:  5 | Actual Label:  6.0  False\n",
      "predicted:  6 | Actual Label:  9.0  False\n",
      "predicted:  9 | Actual Label:  9.0  True\n",
      "predicted:  9 | Actual Label:  9.0  True\n",
      "predicted:  0 | Actual Label:  0.0  True\n",
      "predicted:  1 | Actual Label:  4.0  False\n",
      "predicted:  9 | Actual Label:  9.0  True\n",
      "predicted:  4 | Actual Label:  1.0  False\n",
      "predicted:  1 | Actual Label:  3.0  False\n",
      "predicted:  1 | Actual Label:  5.0  False\n",
      "predicted:  1 | Actual Label:  9.0  False\n",
      "predicted:  9 | Actual Label:  7.0  False\n",
      "predicted:  6 | Actual Label:  2.0  False\n",
      "predicted:  1 | Actual Label:  9.0  False\n",
      "predicted:  4 | Actual Label:  3.0  False\n",
      "predicted:  9 | Actual Label:  9.0  True\n",
      "predicted:  4 | Actual Label:  4.0  True\n",
      "predicted:  7 | Actual Label:  6.0  False\n",
      "predicted:  9 | Actual Label:  1.0  False\n",
      "predicted:  5 | Actual Label:  3.0  False\n",
      "predicted:  9 | Actual Label:  9.0  True\n",
      "predicted:  3 | Actual Label:  8.0  False\n",
      "predicted:  9 | Actual Label:  8.0  False\n",
      "predicted:  4 | Actual Label:  3.0  False\n",
      "predicted:  0 | Actual Label:  0.0  True\n",
      "predicted:  9 | Actual Label:  9.0  True\n",
      "predicted:  1 | Actual Label:  2.0  False\n",
      "predicted:  9 | Actual Label:  7.0  False\n",
      "predicted:  0 | Actual Label:  3.0  False\n",
      "predicted:  4 | Actual Label:  5.0  False\n",
      "predicted:  9 | Actual Label:  9.0  True\n",
      "predicted:  2 | Actual Label:  2.0  True\n",
      "predicted:  1 | Actual Label:  6.0  False\n",
      "predicted:  0 | Actual Label:  5.0  False\n",
      "predicted:  5 | Actual Label:  4.0  False\n",
      "predicted:  4 | Actual Label:  7.0  False\n",
      "predicted:  9 | Actual Label:  5.0  False\n",
      "predicted:  0 | Actual Label:  1.0  False\n",
      "predicted:  5 | Actual Label:  2.0  False\n",
      "predicted:  0 | Actual Label:  2.0  False\n",
      "predicted:  9 | Actual Label:  6.0  False\n",
      "predicted:  0 | Actual Label:  0.0  True\n",
      "predicted:  0 | Actual Label:  4.0  False\n",
      "predicted:  9 | Actual Label:  8.0  False\n",
      "predicted:  0 | Actual Label:  0.0  True\n",
      "predicted:  5 | Actual Label:  6.0  False\n",
      "predicted:  9 | Actual Label:  9.0  True\n",
      "predicted:  0 | Actual Label:  0.0  True\n",
      "predicted:  1 | Actual Label:  3.0  False\n",
      "predicted:  5 | Actual Label:  2.0  False\n",
      "predicted:  9 | Actual Label:  2.0  False\n",
      "predicted:  4 | Actual Label:  1.0  False\n",
      "predicted:  9 | Actual Label:  8.0  False\n",
      "predicted:  9 | Actual Label:  5.0  False\n",
      "predicted:  6 | Actual Label:  1.0  False\n",
      "predicted:  0 | Actual Label:  7.0  False\n",
      "predicted:  3 | Actual Label:  5.0  False\n",
      "predicted:  7 | Actual Label:  8.0  False\n",
      "predicted:  1 | Actual Label:  3.0  False\n",
      "predicted:  9 | Actual Label:  5.0  False\n",
      "predicted:  5 | Actual Label:  7.0  False\n",
      "predicted:  9 | Actual Label:  5.0  False\n",
      "predicted:  2 | Actual Label:  1.0  False\n",
      "predicted:  5 | Actual Label:  0.0  False\n",
      "predicted:  5 | Actual Label:  6.0  False\n",
      "predicted:  7 | Actual Label:  7.0  True\n",
      "predicted:  0 | Actual Label:  1.0  False\n",
      "predicted:  1 | Actual Label:  2.0  False\n",
      "predicted:  1 | Actual Label:  4.0  False\n",
      "predicted:  5 | Actual Label:  3.0  False\n",
      "predicted:  5 | Actual Label:  4.0  False\n",
      "predicted:  7 | Actual Label:  5.0  False\n",
      "predicted:  5 | Actual Label:  5.0  True\n",
      "predicted:  5 | Actual Label:  4.0  False\n",
      "predicted:  7 | Actual Label:  3.0  False\n",
      "predicted:  5 | Actual Label:  4.0  False\n",
      "predicted:  0 | Actual Label:  0.0  True\n",
      "predicted:  1 | Actual Label:  1.0  True\n",
      "predicted:  9 | Actual Label:  8.0  False\n",
      "predicted:  0 | Actual Label:  2.0  False\n",
      "predicted:  5 | Actual Label:  1.0  False\n",
      "predicted:  9 | Actual Label:  1.0  False\n",
      "predicted:  1 | Actual Label:  1.0  True\n",
      "predicted:  1 | Actual Label:  8.0  False\n",
      "predicted:  1 | Actual Label:  3.0  False\n",
      "predicted:  0 | Actual Label:  9.0  False\n",
      "predicted:  9 | Actual Label:  4.0  False\n",
      "predicted:  5 | Actual Label:  6.0  False\n",
      "predicted:  9 | Actual Label:  2.0  False\n",
      "predicted:  1 | Actual Label:  6.0  False\n",
      "predicted:  1 | Actual Label:  5.0  False\n",
      "predicted:  9 | Actual Label:  2.0  False\n",
      "predicted:  1 | Actual Label:  2.0  False\n",
      "predicted:  9 | Actual Label:  9.0  True\n",
      "predicted:  7 | Actual Label:  8.0  False\n",
      "predicted:  6 | Actual Label:  3.0  False\n",
      "predicted:  7 | Actual Label:  7.0  True\n",
      "predicted:  1 | Actual Label:  7.0  False\n",
      "predicted:  4 | Actual Label:  8.0  False\n",
      "predicted:  2 | Actual Label:  2.0  True\n",
      "predicted:  5 | Actual Label:  6.0  False\n",
      "predicted:  9 | Actual Label:  9.0  True\n",
      "predicted:  2 | Actual Label:  2.0  True\n",
      "predicted:  0 | Actual Label:  0.0  True\n",
      "predicted:  9 | Actual Label:  6.0  False\n",
      "predicted:  5 | Actual Label:  7.0  False\n",
      "predicted:  4 | Actual Label:  9.0  False\n",
      "predicted:  0 | Actual Label:  0.0  True\n",
      "predicted:  5 | Actual Label:  6.0  False\n",
      "predicted:  3 | Actual Label:  0.0  False\n",
      "predicted:  5 | Actual Label:  3.0  False\n",
      "predicted:  1 | Actual Label:  8.0  False\n",
      "predicted:  9 | Actual Label:  4.0  False\n",
      "predicted:  3 | Actual Label:  7.0  False\n",
      "predicted:  1 | Actual Label:  1.0  True\n",
      "predicted:  4 | Actual Label:  1.0  False\n",
      "predicted:  9 | Actual Label:  1.0  False\n",
      "predicted:  6 | Actual Label:  9.0  False\n",
      "predicted:  9 | Actual Label:  2.0  False\n",
      "predicted:  5 | Actual Label:  2.0  False\n",
      "predicted:  9 | Actual Label:  5.0  False\n",
      "predicted:  9 | Actual Label:  4.0  False\n",
      "predicted:  1 | Actual Label:  6.0  False\n",
      "predicted:  1 | Actual Label:  1.0  True\n",
      "predicted:  0 | Actual Label:  0.0  True\n",
      "predicted:  9 | Actual Label:  4.0  False\n",
      "predicted:  5 | Actual Label:  2.0  False\n",
      "predicted:  1 | Actual Label:  5.0  False\n",
      "predicted:  9 | Actual Label:  9.0  True\n",
      "predicted:  3 | Actual Label:  8.0  False\n",
      "predicted:  4 | Actual Label:  1.0  False\n",
      "predicted:  7 | Actual Label:  8.0  False\n",
      "predicted:  6 | Actual Label:  6.0  True\n",
      "predicted:  5 | Actual Label:  7.0  False\n",
      "predicted:  7 | Actual Label:  6.0  False\n",
      "predicted:  9 | Actual Label:  9.0  True\n",
      "predicted:  5 | Actual Label:  5.0  True\n",
      "predicted:  0 | Actual Label:  0.0  True\n",
      "predicted:  4 | Actual Label:  4.0  True\n",
      "predicted:  1 | Actual Label:  7.0  False\n",
      "predicted:  3 | Actual Label:  4.0  False\n",
      "predicted:  6 | Actual Label:  8.0  False\n",
      "predicted:  9 | Actual Label:  9.0  True\n",
      "predicted:  1 | Actual Label:  7.0  False\n",
      "predicted:  9 | Actual Label:  6.0  False\n",
      "predicted:  9 | Actual Label:  6.0  False\n",
      "predicted:  1 | Actual Label:  3.0  False\n",
      "predicted:  2 | Actual Label:  5.0  False\n",
      "predicted:  1 | Actual Label:  0.0  False\n",
      "predicted:  9 | Actual Label:  9.0  True\n",
      "predicted:  5 | Actual Label:  3.0  False\n",
      "predicted:  2 | Actual Label:  1.0  False\n",
      "predicted:  8 | Actual Label:  5.0  False\n",
      "predicted:  3 | Actual Label:  3.0  True\n",
      "predicted:  1 | Actual Label:  3.0  False\n",
      "predicted:  5 | Actual Label:  5.0  True\n",
      "predicted:  2 | Actual Label:  9.0  False\n",
      "predicted:  0 | Actual Label:  7.0  False\n",
      "predicted:  5 | Actual Label:  1.0  False\n",
      "predicted:  9 | Actual Label:  9.0  True\n",
      "predicted:  4 | Actual Label:  1.0  False\n",
      "predicted:  1 | Actual Label:  4.0  False\n",
      "predicted:  0 | Actual Label:  0.0  True\n",
      "predicted:  6 | Actual Label:  9.0  False\n",
      "predicted:  5 | Actual Label:  6.0  False\n",
      "predicted:  9 | Actual Label:  0.0  False\n"
     ]
    },
    {
     "name": "stdout",
     "output_type": "stream",
     "text": [
      "predicted:  1 | Actual Label:  1.0  True\n",
      "predicted:  1 | Actual Label:  5.0  False\n",
      "predicted:  9 | Actual Label:  6.0  False\n",
      "predicted:  6 | Actual Label:  8.0  False\n",
      "predicted:  5 | Actual Label:  8.0  False\n",
      "predicted:  4 | Actual Label:  9.0  False\n",
      "predicted:  7 | Actual Label:  7.0  True\n",
      "predicted:  4 | Actual Label:  8.0  False\n",
      "predicted:  6 | Actual Label:  2.0  False\n",
      "predicted:  9 | Actual Label:  0.0  False\n",
      "predicted:  3 | Actual Label:  3.0  True\n",
      "predicted:  9 | Actual Label:  0.0  False\n",
      "predicted:  3 | Actual Label:  4.0  False\n",
      "predicted:  0 | Actual Label:  0.0  True\n",
      "predicted:  7 | Actual Label:  7.0  True\n",
      "predicted:  1 | Actual Label:  1.0  True\n",
      "predicted:  1 | Actual Label:  0.0  False\n",
      "predicted:  7 | Actual Label:  4.0  False\n",
      "predicted:  4 | Actual Label:  5.0  False\n",
      "predicted:  9 | Actual Label:  8.0  False\n",
      "predicted:  9 | Actual Label:  7.0  False\n",
      "predicted:  9 | Actual Label:  1.0  False\n",
      "predicted:  5 | Actual Label:  7.0  False\n",
      "predicted:  9 | Actual Label:  9.0  True\n",
      "predicted:  4 | Actual Label:  2.0  False\n",
      "predicted:  9 | Actual Label:  8.0  False\n",
      "predicted:  5 | Actual Label:  4.0  False\n",
      "predicted:  4 | Actual Label:  4.0  True\n",
      "predicted:  7 | Actual Label:  6.0  False\n",
      "predicted:  9 | Actual Label:  1.0  False\n",
      "predicted:  9 | Actual Label:  4.0  False\n",
      "predicted:  1 | Actual Label:  5.0  False\n",
      "predicted:  9 | Actual Label:  4.0  False\n",
      "predicted:  1 | Actual Label:  1.0  True\n",
      "predicted:  9 | Actual Label:  8.0  False\n",
      "predicted:  1 | Actual Label:  1.0  True\n",
      "predicted:  3 | Actual Label:  7.0  False\n",
      "predicted:  9 | Actual Label:  6.0  False\n",
      "predicted:  0 | Actual Label:  1.0  False\n",
      "predicted:  7 | Actual Label:  7.0  True\n",
      "predicted:  7 | Actual Label:  8.0  False\n",
      "predicted:  5 | Actual Label:  5.0  True\n",
      "predicted:  5 | Actual Label:  5.0  True\n",
      "predicted:  7 | Actual Label:  7.0  True\n",
      "predicted:  5 | Actual Label:  5.0  True\n",
      "predicted:  9 | Actual Label:  9.0  True\n",
      "predicted:  6 | Actual Label:  2.0  False\n",
      "predicted:  4 | Actual Label:  0.0  False\n",
      "predicted:  6 | Actual Label:  6.0  True\n",
      "\n",
      "\n",
      "205 / 743\n"
     ]
    }
   ],
   "source": [
    "for i in range(len(y_predicted)):\n",
    "    print(\"predicted: \", y_predicted[i], \"| Actual Label: \",y_test_class[i][0], \" True\" if (y_predicted[i]==y_test_class[i][0]) else \" False\")\n",
    "print(\"\\n\")\n",
    "print(np.sum(y_predicted==y_test_class[:,0]),'/',len(y_predicted))"
   ]
  },
  {
   "cell_type": "code",
   "execution_count": 306,
   "metadata": {},
   "outputs": [],
   "source": [
    "from sklearn.metrics import confusion_matrix, ConfusionMatrixDisplay"
   ]
  },
  {
   "cell_type": "code",
   "execution_count": 307,
   "metadata": {},
   "outputs": [],
   "source": [
    "CM = confusion_matrix(y_test_class[:,0], y_predicted)"
   ]
  },
  {
   "cell_type": "code",
   "execution_count": 308,
   "metadata": {},
   "outputs": [
    {
     "data": {
      "text/plain": [
       "<sklearn.metrics._plot.confusion_matrix.ConfusionMatrixDisplay at 0x7f9b0f264090>"
      ]
     },
     "execution_count": 308,
     "metadata": {},
     "output_type": "execute_result"
    },
    {
     "data": {
      "image/png": "[encoded data removed]",
      "text/plain": [
       "<Figure size 432x288 with 2 Axes>"
      ]
     },
     "metadata": {
      "needs_background": "light"
     },
     "output_type": "display_data"
    }
   ],
   "source": [
    "ConfusionMatrixDisplay(CM).plot()"
   ]
  },
  {
   "cell_type": "code",
   "execution_count": null,
   "metadata": {},
   "outputs": [],
   "source": []
  },
  {
   "cell_type": "code",
   "execution_count": null,
   "metadata": {},
   "outputs": [],
   "source": []
  },
  {
   "cell_type": "code",
   "execution_count": null,
   "metadata": {},
   "outputs": [],
   "source": []
  },
  {
   "cell_type": "code",
   "execution_count": null,
   "metadata": {},
   "outputs": [],
   "source": []
  },
  {
   "cell_type": "code",
   "execution_count": null,
   "metadata": {},
   "outputs": [],
   "source": []
  },
  {
   "cell_type": "code",
   "execution_count": null,
   "metadata": {},
   "outputs": [],
   "source": []
  }
 ],
 "metadata": {
  "kernelspec": {
   "display_name": "Python 3",
   "language": "python",
   "name": "python3"
  },
  "language_info": {
   "codemirror_mode": {
    "name": "ipython",
    "version": 3
   },
   "file_extension": ".py",
   "mimetype": "text/x-python",
   "name": "python",
   "nbconvert_exporter": "python",
   "pygments_lexer": "ipython3",
   "version": "3.7.4"
  }
 },
 "nbformat": 4,
 "nbformat_minor": 5
}
