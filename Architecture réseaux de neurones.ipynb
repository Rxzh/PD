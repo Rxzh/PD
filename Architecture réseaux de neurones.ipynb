{
 "cells": [
  {
   "cell_type": "markdown",
   "metadata": {},
   "source": [
    "# Implémentation de l'architecture des réseaux de neurones\n",
    "\n",
    "*http://exo7.emath.fr/cours/livre-deepmath.pdf* \n",
    "\n",
    "## Chargement des modules et données"
   ]
  },
  {
   "cell_type": "code",
   "execution_count": 115,
   "metadata": {
    "scrolled": true
   },
   "outputs": [],
   "source": [
    "import pandas as pd \n",
    "import matplotlib.pyplot as plt\n",
    "import numpy as np\n",
    "import tensorflow as tf\n",
    "\n",
    "from tensorflow.keras import Input\n",
    "from tensorflow.keras.models import Sequential\n",
    "from tensorflow.keras.layers import Dense, Dropout\n",
    "from tensorflow.keras.optimizers import SGD\n",
    "from tensorflow import keras\n",
    "\n",
    "from sklearn import preprocessing, model_selection"
   ]
  },
  {
   "cell_type": "code",
   "execution_count": 2,
   "metadata": {},
   "outputs": [],
   "source": [
    "df = pd.read_csv('market_data_pd.csv',sep=';')"
   ]
  },
  {
   "cell_type": "code",
   "execution_count": 3,
   "metadata": {},
   "outputs": [],
   "source": [
    "df.head()\n",
    "\n",
    "df = df[df.PD_1y>0.0]\n",
    "df = df[df.PD_1y!=1.0]\n",
    "#df = df[df['Common Eqty / Tot Assets']<.4]"
   ]
  },
  {
   "cell_type": "code",
   "execution_count": 4,
   "metadata": {},
   "outputs": [],
   "source": [
    "#df.dtypes"
   ]
  },
  {
   "cell_type": "code",
   "execution_count": 5,
   "metadata": {},
   "outputs": [
    {
     "name": "stderr",
     "output_type": "stream",
     "text": [
      "/opt/anaconda3/lib/python3.7/site-packages/ipykernel_launcher.py:7: SettingWithCopyWarning: \n",
      "A value is trying to be set on a copy of a slice from a DataFrame.\n",
      "Try using .loc[row_indexer,col_indexer] = value instead\n",
      "\n",
      "See the caveats in the documentation: https://pandas.pydata.org/pandas-docs/stable/user_guide/indexing.html#returning-a-view-versus-a-copy\n",
      "  import sys\n",
      "/opt/anaconda3/lib/python3.7/site-packages/pandas/core/frame.py:4389: SettingWithCopyWarning: \n",
      "A value is trying to be set on a copy of a slice from a DataFrame\n",
      "\n",
      "See the caveats in the documentation: https://pandas.pydata.org/pandas-docs/stable/user_guide/indexing.html#returning-a-view-versus-a-copy\n",
      "  method=method,\n"
     ]
    }
   ],
   "source": [
    "#mettre les ratios financiers\n",
    "df1 = df[[\"Common Eqty / Tot Assets\",'Debt / Common Equity','BCLASS Level 3',\"PD_1y\"]]\n",
    "\n",
    "#df1 = df.drop(columns=['Unnamed: 0','Reference Security', 'Ticker_y','Ticker_x', 'Issuer Name','Maturity','Cpn', 'Bid Price', 'Ask Price'])\n",
    "\n",
    "#df2 = pd.read_csv('PD_1y.csv')\n",
    "\n",
    "df1['PD_1y'] = pd.read_csv('PD_1y.csv')['PD_1y']\n",
    "df1.replace(np.nan, 0.0,inplace=True)\n"
   ]
  },
  {
   "cell_type": "code",
   "execution_count": 6,
   "metadata": {},
   "outputs": [
    {
     "data": {
      "text/html": [
       "<div>\n",
       "<style scoped>\n",
       "    .dataframe tbody tr th:only-of-type {\n",
       "        vertical-align: middle;\n",
       "    }\n",
       "\n",
       "    .dataframe tbody tr th {\n",
       "        vertical-align: top;\n",
       "    }\n",
       "\n",
       "    .dataframe thead th {\n",
       "        text-align: right;\n",
       "    }\n",
       "</style>\n",
       "<table border=\"1\" class=\"dataframe\">\n",
       "  <thead>\n",
       "    <tr style=\"text-align: right;\">\n",
       "      <th></th>\n",
       "      <th>Common Eqty / Tot Assets</th>\n",
       "      <th>Debt / Common Equity</th>\n",
       "      <th>BCLASS Level 3</th>\n",
       "      <th>PD_1y</th>\n",
       "    </tr>\n",
       "  </thead>\n",
       "  <tbody>\n",
       "    <tr>\n",
       "      <th>0</th>\n",
       "      <td>4.84431</td>\n",
       "      <td>684.499</td>\n",
       "      <td>Banking</td>\n",
       "      <td>0.006788</td>\n",
       "    </tr>\n",
       "    <tr>\n",
       "      <th>1</th>\n",
       "      <td>17.15800</td>\n",
       "      <td>351.535</td>\n",
       "      <td>Consumer Cyclical</td>\n",
       "      <td>0.065377</td>\n",
       "    </tr>\n",
       "    <tr>\n",
       "      <th>2</th>\n",
       "      <td>17.15800</td>\n",
       "      <td>351.535</td>\n",
       "      <td>Consumer Cyclical</td>\n",
       "      <td>0.116526</td>\n",
       "    </tr>\n",
       "    <tr>\n",
       "      <th>3</th>\n",
       "      <td>19.24570</td>\n",
       "      <td>410.513</td>\n",
       "      <td>Basic Industry</td>\n",
       "      <td>0.014829</td>\n",
       "    </tr>\n",
       "    <tr>\n",
       "      <th>4</th>\n",
       "      <td>19.24570</td>\n",
       "      <td>410.513</td>\n",
       "      <td>Basic Industry</td>\n",
       "      <td>0.009303</td>\n",
       "    </tr>\n",
       "  </tbody>\n",
       "</table>\n",
       "</div>"
      ],
      "text/plain": [
       "   Common Eqty / Tot Assets  Debt / Common Equity     BCLASS Level 3     PD_1y\n",
       "0                   4.84431               684.499            Banking  0.006788\n",
       "1                  17.15800               351.535  Consumer Cyclical  0.065377\n",
       "2                  17.15800               351.535  Consumer Cyclical  0.116526\n",
       "3                  19.24570               410.513     Basic Industry  0.014829\n",
       "4                  19.24570               410.513     Basic Industry  0.009303"
      ]
     },
     "execution_count": 6,
     "metadata": {},
     "output_type": "execute_result"
    }
   ],
   "source": [
    "#df1 = df1.dropna(how = 'any') \n",
    "df1.head()\n",
    "#on peut pas faire tourner l'algo avec des valeurs manquantes. Voir techniques pour les remplacer."
   ]
  },
  {
   "cell_type": "code",
   "execution_count": 7,
   "metadata": {},
   "outputs": [
    {
     "data": {
      "text/plain": [
       "(584, 4)"
      ]
     },
     "execution_count": 7,
     "metadata": {},
     "output_type": "execute_result"
    }
   ],
   "source": [
    "df1.shape"
   ]
  },
  {
   "cell_type": "markdown",
   "metadata": {},
   "source": [
    "# Traitement des données"
   ]
  },
  {
   "cell_type": "markdown",
   "metadata": {},
   "source": [
    "Nous commencerons par séparer les données non étiquietées des étiquettes, les étiquettes se trouvent dans l'array `y_full` et le reste des données dans `X_full`"
   ]
  },
  {
   "cell_type": "code",
   "execution_count": 8,
   "metadata": {},
   "outputs": [],
   "source": [
    "X_full = np.array(df1.drop(columns=['PD_1y']))\n",
    "y_full = np.array(df1['PD_1y'])"
   ]
  },
  {
   "cell_type": "markdown",
   "metadata": {},
   "source": [
    "La prochaine étape consiste à séparer les features continues des features discrètes, cela sera utile car leurs traitements seront différent"
   ]
  },
  {
   "cell_type": "code",
   "execution_count": 9,
   "metadata": {},
   "outputs": [],
   "source": [
    "features = list(df1.drop(columns=['PD_1y']).columns)\n",
    "\n",
    "discrete_features = ['BCLASS Level {}'.format(i) for i in range(3,4)]\n",
    "continuous_features = [s for s in features if not s in discrete_features]\n",
    "\n",
    "\n",
    "continuous_features_idx = [features.index(feat_name) for feat_name in continuous_features]\n",
    "discrete_features_idx = [features.index(feat_name) for feat_name in discrete_features]"
   ]
  },
  {
   "cell_type": "code",
   "execution_count": 10,
   "metadata": {},
   "outputs": [
    {
     "data": {
      "image/png": "[encoded data removed]",
      "text/plain": [
       "<Figure size 1008x720 with 2 Axes>"
      ]
     },
     "metadata": {
      "needs_background": "light"
     },
     "output_type": "display_data"
    }
   ],
   "source": [
    "fig = plt.figure(figsize=(14,10))\n",
    "\n",
    "# Histograms for continuous features\n",
    "for (plot_idx, feat_idx) in enumerate(continuous_features_idx):\n",
    "    # create a subplot in the (plot_idx+1) position of a 2x2 grid\n",
    "    ax = fig.add_subplot(4, 2, (plot_idx+1))\n",
    "    # plot the histogram of feat_idx\n",
    "    h = ax.hist(X_full[:, feat_idx], bins=30, edgecolor='black')\n",
    "    # use the name of the feature as a title for each histogram\n",
    "    ax.set_title(features[feat_idx])\n",
    "# espacement entre les subplots\n",
    "fig.tight_layout(pad=0.1)"
   ]
  },
  {
   "cell_type": "code",
   "execution_count": 11,
   "metadata": {},
   "outputs": [
    {
     "data": {
      "image/png": "[encoded data removed]",
      "text/plain": [
       "<Figure size 1296x1008 with 1 Axes>"
      ]
     },
     "metadata": {
      "needs_background": "light"
     },
     "output_type": "display_data"
    }
   ],
   "source": [
    "# Bar plots for discrete features\n",
    "fig = plt.figure(figsize=(18, 14))\n",
    "\n",
    "for (plot_idx, feat_idx) in enumerate(discrete_features_idx):\n",
    "    # create a subplot in the (plot_idx+1) position of a 1x3 grid\n",
    "    ax = fig.add_subplot(3, 1, (plot_idx+1))\n",
    "\n",
    "    feature_values = np.unique(X_full[:, feat_idx])\n",
    "    frequencies = [(float(len(np.where(X_full[:, feat_idx]==value)[0]))/X_full.shape[0]) \\\n",
    "                   for value in feature_values]\n",
    "    \n",
    "    b = ax.bar(range(len(feature_values)), frequencies, width=0.8, \n",
    "               tick_label=list([n for n in feature_values]))\n",
    "    \n",
    "    \n",
    "    # use the name of the feature as a title for each histogram\n",
    "    ax.set_title(features[feat_idx])\n",
    "fig.tight_layout(pad=0.35)"
   ]
  },
  {
   "cell_type": "code",
   "execution_count": 12,
   "metadata": {},
   "outputs": [],
   "source": [
    "def traitement(X):\n",
    "    \n",
    "    ohe = preprocessing.OneHotEncoder(categories='auto',sparse=False)\n",
    "    \n",
    "    std_scaler = preprocessing.StandardScaler().fit(X[:,continuous_features_idx])\n",
    "    X_continuous_scaled = std_scaler.transform(X[:,continuous_features_idx])\n",
    "    \n",
    "    X_processed = np.hstack((ohe.fit_transform(X[:,discrete_features_idx]), X_continuous_scaled))\n",
    "    \n",
    "    return X_processed\n",
    "\n"
   ]
  },
  {
   "cell_type": "code",
   "execution_count": 13,
   "metadata": {},
   "outputs": [],
   "source": [
    "X_processed = traitement(X_full)\n",
    "\n",
    "X_train, X_test, y_train, y_test = model_selection.train_test_split(X_processed, y_full, test_size=0.10,\n",
    "                                                                    #stratify=y_full, # stratification\n",
    "                                                                    random_state=92)"
   ]
  },
  {
   "cell_type": "code",
   "execution_count": 14,
   "metadata": {},
   "outputs": [
    {
     "data": {
      "text/plain": [
       "(525, 24)"
      ]
     },
     "execution_count": 14,
     "metadata": {},
     "output_type": "execute_result"
    }
   ],
   "source": [
    "X_train.shape"
   ]
  },
  {
   "cell_type": "code",
   "execution_count": null,
   "metadata": {},
   "outputs": [],
   "source": []
  },
  {
   "cell_type": "code",
   "execution_count": null,
   "metadata": {},
   "outputs": [],
   "source": []
  },
  {
   "cell_type": "code",
   "execution_count": null,
   "metadata": {},
   "outputs": [],
   "source": []
  },
  {
   "cell_type": "code",
   "execution_count": 15,
   "metadata": {},
   "outputs": [],
   "source": [
    "#Préparation bases de train et de test \n",
    "\n",
    "#from sklearn.model_selection import train_test_split\n",
    "\n",
    "#X_train, X_test, y_train, y_test = train_test_split(df1.drop(\"PD_1y\",axis=1),df1[\"PD_1y\"],test_size=0.2, random_state=42)"
   ]
  },
  {
   "cell_type": "markdown",
   "metadata": {},
   "source": [
    "**Variables quanti : standardisation**"
   ]
  },
  {
   "cell_type": "code",
   "execution_count": null,
   "metadata": {},
   "outputs": [],
   "source": []
  },
  {
   "cell_type": "markdown",
   "metadata": {},
   "source": [
    "## Réseaux de neurones "
   ]
  },
  {
   "cell_type": "code",
   "execution_count": 16,
   "metadata": {},
   "outputs": [],
   "source": [
    "#RESEAUX DE NEURONES \n",
    "#http://eric.univ-lyon2.fr/~ricco/tanagra/fichiers/fr_Tanagra_Packages_Python_for_Deep_Learning.pdf\n",
    "\n",
    "#Explications très bien dans ce document : \n",
    "\n",
    "#http://exo7.emath.fr/cours/livre-deepmath.pdf \n",
    "\n",
    "#très bon document (parties Python, keras avec les codes et explications)"
   ]
  },
  {
   "cell_type": "code",
   "execution_count": 36,
   "metadata": {},
   "outputs": [],
   "source": [
    "model = Sequential()\n",
    "model.add(Dense(units=6,input_dim=24,activation=\"sigmoid\")) #6 is good\n",
    "model.add(Dense(units=2))\n",
    "model.add(Dense(units=1,activation=\"sigmoid\"))\n",
    "#modele.add(Dropout(0.3))\n",
    "learning_rate = 0.10\n",
    "\n",
    "sgd = SGD(learning_rate)\n",
    "\n",
    "#dim première couche = nombre de variables du df "
   ]
  },
  {
   "cell_type": "markdown",
   "metadata": {},
   "source": [
    "J'ai pris la fonction sigmoïde car elle est continue et à valeurs dans [0,1] (comme les probabilités de défaut). Régression logit. "
   ]
  },
  {
   "cell_type": "code",
   "execution_count": 37,
   "metadata": {},
   "outputs": [],
   "source": [
    "#modele.compile(loss='mean_squared_error',optimizer=sgd,metrics=[tf.keras.metrics.MeanSquaredError()])\n",
    "#optimizer = sgd\n",
    "model.compile(loss='mean_squared_error',optimizer='adam',metrics=[tf.keras.metrics.MeanSquaredError()])"
   ]
  },
  {
   "cell_type": "code",
   "execution_count": 38,
   "metadata": {},
   "outputs": [
    {
     "name": "stdout",
     "output_type": "stream",
     "text": [
      "Model: \"sequential_1\"\n",
      "_________________________________________________________________\n",
      "Layer (type)                 Output Shape              Param #   \n",
      "=================================================================\n",
      "dense_3 (Dense)              (None, 6)                 150       \n",
      "_________________________________________________________________\n",
      "dense_4 (Dense)              (None, 2)                 14        \n",
      "_________________________________________________________________\n",
      "dense_5 (Dense)              (None, 1)                 3         \n",
      "=================================================================\n",
      "Total params: 167\n",
      "Trainable params: 167\n",
      "Non-trainable params: 0\n",
      "_________________________________________________________________\n",
      "None\n"
     ]
    }
   ],
   "source": [
    "print(model.summary())"
   ]
  },
  {
   "cell_type": "code",
   "execution_count": 39,
   "metadata": {},
   "outputs": [
    {
     "name": "stdout",
     "output_type": "stream",
     "text": [
      "Epoch 1/50\n",
      "40/40 [==============================] - 0s 3ms/step - loss: 0.7506 - mean_squared_error: 0.7506 - val_loss: 0.7023 - val_mean_squared_error: 0.7023\n",
      "Epoch 2/50\n",
      "40/40 [==============================] - 0s 970us/step - loss: 0.6507 - mean_squared_error: 0.6507 - val_loss: 0.5918 - val_mean_squared_error: 0.5918\n",
      "Epoch 3/50\n",
      "40/40 [==============================] - 0s 988us/step - loss: 0.5320 - mean_squared_error: 0.5320 - val_loss: 0.4526 - val_mean_squared_error: 0.4526\n",
      "Epoch 4/50\n",
      "40/40 [==============================] - 0s 982us/step - loss: 0.3850 - mean_squared_error: 0.3850 - val_loss: 0.3121 - val_mean_squared_error: 0.3121\n",
      "Epoch 5/50\n",
      "40/40 [==============================] - 0s 1ms/step - loss: 0.2565 - mean_squared_error: 0.2565 - val_loss: 0.2014 - val_mean_squared_error: 0.2014\n",
      "Epoch 6/50\n",
      "40/40 [==============================] - 0s 997us/step - loss: 0.1603 - mean_squared_error: 0.1603 - val_loss: 0.1297 - val_mean_squared_error: 0.1297\n",
      "Epoch 7/50\n",
      "40/40 [==============================] - 0s 972us/step - loss: 0.1062 - mean_squared_error: 0.1062 - val_loss: 0.0871 - val_mean_squared_error: 0.0871\n",
      "Epoch 8/50\n",
      "40/40 [==============================] - 0s 974us/step - loss: 0.0694 - mean_squared_error: 0.0694 - val_loss: 0.0617 - val_mean_squared_error: 0.0617\n",
      "Epoch 9/50\n",
      "40/40 [==============================] - 0s 945us/step - loss: 0.0493 - mean_squared_error: 0.0493 - val_loss: 0.0462 - val_mean_squared_error: 0.0462\n",
      "Epoch 10/50\n",
      "40/40 [==============================] - 0s 971us/step - loss: 0.0381 - mean_squared_error: 0.0381 - val_loss: 0.0362 - val_mean_squared_error: 0.0362\n",
      "Epoch 11/50\n",
      "40/40 [==============================] - 0s 1ms/step - loss: 0.0274 - mean_squared_error: 0.0274 - val_loss: 0.0297 - val_mean_squared_error: 0.0297\n",
      "Epoch 12/50\n",
      "40/40 [==============================] - 0s 1ms/step - loss: 0.0220 - mean_squared_error: 0.0220 - val_loss: 0.0251 - val_mean_squared_error: 0.0251\n",
      "Epoch 13/50\n",
      "40/40 [==============================] - 0s 983us/step - loss: 0.0181 - mean_squared_error: 0.0181 - val_loss: 0.0218 - val_mean_squared_error: 0.0218\n",
      "Epoch 14/50\n",
      "40/40 [==============================] - 0s 1ms/step - loss: 0.0169 - mean_squared_error: 0.0169 - val_loss: 0.0194 - val_mean_squared_error: 0.0194\n",
      "Epoch 15/50\n",
      "40/40 [==============================] - 0s 994us/step - loss: 0.0128 - mean_squared_error: 0.0128 - val_loss: 0.0176 - val_mean_squared_error: 0.0176\n",
      "Epoch 16/50\n",
      "40/40 [==============================] - 0s 1ms/step - loss: 0.0112 - mean_squared_error: 0.0112 - val_loss: 0.0162 - val_mean_squared_error: 0.0162\n",
      "Epoch 17/50\n",
      "40/40 [==============================] - 0s 1ms/step - loss: 0.0097 - mean_squared_error: 0.0097 - val_loss: 0.0152 - val_mean_squared_error: 0.0152\n",
      "Epoch 18/50\n",
      "40/40 [==============================] - 0s 1ms/step - loss: 0.0090 - mean_squared_error: 0.0090 - val_loss: 0.0143 - val_mean_squared_error: 0.0143\n",
      "Epoch 19/50\n",
      "40/40 [==============================] - 0s 971us/step - loss: 0.0101 - mean_squared_error: 0.0101 - val_loss: 0.0136 - val_mean_squared_error: 0.0136\n",
      "Epoch 20/50\n",
      "40/40 [==============================] - 0s 1ms/step - loss: 0.0074 - mean_squared_error: 0.0074 - val_loss: 0.0130 - val_mean_squared_error: 0.0130\n",
      "Epoch 21/50\n",
      "40/40 [==============================] - 0s 964us/step - loss: 0.0069 - mean_squared_error: 0.0069 - val_loss: 0.0126 - val_mean_squared_error: 0.0126\n",
      "Epoch 22/50\n",
      "40/40 [==============================] - 0s 984us/step - loss: 0.0062 - mean_squared_error: 0.0062 - val_loss: 0.0122 - val_mean_squared_error: 0.0122\n",
      "Epoch 23/50\n",
      "40/40 [==============================] - 0s 991us/step - loss: 0.0082 - mean_squared_error: 0.0082 - val_loss: 0.0119 - val_mean_squared_error: 0.0119\n",
      "Epoch 24/50\n",
      "40/40 [==============================] - 0s 1ms/step - loss: 0.0057 - mean_squared_error: 0.0057 - val_loss: 0.0116 - val_mean_squared_error: 0.0116\n",
      "Epoch 25/50\n",
      "40/40 [==============================] - 0s 1ms/step - loss: 0.0077 - mean_squared_error: 0.0077 - val_loss: 0.0114 - val_mean_squared_error: 0.0114\n",
      "Epoch 26/50\n",
      "40/40 [==============================] - 0s 1ms/step - loss: 0.0050 - mean_squared_error: 0.0050 - val_loss: 0.0112 - val_mean_squared_error: 0.0112\n",
      "Epoch 27/50\n",
      "40/40 [==============================] - 0s 1ms/step - loss: 0.0050 - mean_squared_error: 0.0050 - val_loss: 0.0110 - val_mean_squared_error: 0.0110\n",
      "Epoch 28/50\n",
      "40/40 [==============================] - 0s 1ms/step - loss: 0.0048 - mean_squared_error: 0.0048 - val_loss: 0.0108 - val_mean_squared_error: 0.0108\n",
      "Epoch 29/50\n",
      "40/40 [==============================] - 0s 959us/step - loss: 0.0047 - mean_squared_error: 0.0047 - val_loss: 0.0107 - val_mean_squared_error: 0.0107\n",
      "Epoch 30/50\n",
      "40/40 [==============================] - 0s 1ms/step - loss: 0.0044 - mean_squared_error: 0.0044 - val_loss: 0.0106 - val_mean_squared_error: 0.0106\n",
      "Epoch 31/50\n",
      "40/40 [==============================] - 0s 968us/step - loss: 0.0066 - mean_squared_error: 0.0066 - val_loss: 0.0105 - val_mean_squared_error: 0.0105\n",
      "Epoch 32/50\n",
      "40/40 [==============================] - 0s 1ms/step - loss: 0.0043 - mean_squared_error: 0.0043 - val_loss: 0.0104 - val_mean_squared_error: 0.0104\n",
      "Epoch 33/50\n",
      "40/40 [==============================] - 0s 1ms/step - loss: 0.0041 - mean_squared_error: 0.0041 - val_loss: 0.0103 - val_mean_squared_error: 0.0103\n",
      "Epoch 34/50\n",
      "40/40 [==============================] - 0s 1ms/step - loss: 0.0041 - mean_squared_error: 0.0041 - val_loss: 0.0103 - val_mean_squared_error: 0.0103\n",
      "Epoch 35/50\n",
      "40/40 [==============================] - 0s 1ms/step - loss: 0.0041 - mean_squared_error: 0.0041 - val_loss: 0.0102 - val_mean_squared_error: 0.0102\n",
      "Epoch 36/50\n",
      "40/40 [==============================] - 0s 1ms/step - loss: 0.0063 - mean_squared_error: 0.0063 - val_loss: 0.0102 - val_mean_squared_error: 0.0102\n",
      "Epoch 37/50\n",
      "40/40 [==============================] - 0s 1ms/step - loss: 0.0039 - mean_squared_error: 0.0039 - val_loss: 0.0101 - val_mean_squared_error: 0.0101\n",
      "Epoch 38/50\n",
      "40/40 [==============================] - 0s 1ms/step - loss: 0.0062 - mean_squared_error: 0.0062 - val_loss: 0.0101 - val_mean_squared_error: 0.0101\n",
      "Epoch 39/50\n",
      "40/40 [==============================] - 0s 939us/step - loss: 0.0037 - mean_squared_error: 0.0037 - val_loss: 0.0100 - val_mean_squared_error: 0.0100\n",
      "Epoch 40/50\n",
      "40/40 [==============================] - 0s 888us/step - loss: 0.0038 - mean_squared_error: 0.0038 - val_loss: 0.0100 - val_mean_squared_error: 0.0100\n",
      "Epoch 41/50\n",
      "WARNING:tensorflow:Your input ran out of data; interrupting training. Make sure that your dataset or generator can generate at least `steps_per_epoch * epochs` batches (in this case, 2000 batches). You may need to use the repeat() function when building your dataset.\n",
      " 0/40 [..............................] - 0s 0s/step - loss: 0.0038 - mean_squared_error: 0.0038 - val_loss: 0.0100 - val_mean_squared_error: 0.0100\n",
      "2/2 [==============================] - 0s 941us/step - loss: 0.0011 - mean_squared_error: 0.0011\n",
      "The final loss on the TEST set is: 0.00.\n",
      "The final mean_squared_error on the TEST set is: 0.00.\n"
     ]
    },
    {
     "data": {
      "image/png": "[encoded data removed]",
      "text/plain": [
       "<Figure size 432x288 with 1 Axes>"
      ]
     },
     "metadata": {
      "needs_background": "light"
     },
     "output_type": "display_data"
    }
   ],
   "source": [
    "history = model.fit(X_train, y_train,         # Train the model using the training set...\n",
    "          batch_size=10, epochs=50,\n",
    "          verbose=1, validation_split=0.4,steps_per_epoch=40)           # ...holding out 40% of the data for validation\n",
    "\n",
    "# --------------------------------------\n",
    "# Evaluation\n",
    "# --------------------------------------\n",
    "for loss_name, loss_value in list(zip(model.metrics_names, model.evaluate(X_test, y_test, verbose=1))):\n",
    "    print('The final {} on the TEST set is: {:.2f}.'.format(loss_name, loss_value)) # Evaluate the trained model on the test set!\n",
    "\n",
    "    \n",
    "import matplotlib.pyplot as plt\n",
    "\n",
    "# --------------------------------------\n",
    "# Loss functions evolution\n",
    "# --------------------------------------\n",
    "plt.plot(history.history['loss'])\n",
    "plt.plot(history.history['val_loss'])\n",
    "plt.title('Model loss by epoch')\n",
    "plt.ylabel('loss')\n",
    "plt.xlabel('epoch')\n",
    "plt.legend(['train', 'valid'], loc='right')\n",
    "plt.show()"
   ]
  },
  {
   "cell_type": "code",
   "execution_count": null,
   "metadata": {},
   "outputs": [],
   "source": []
  },
  {
   "cell_type": "code",
   "execution_count": 40,
   "metadata": {},
   "outputs": [
    {
     "name": "stdout",
     "output_type": "stream",
     "text": [
      "2/2 [==============================] - 0s 944us/step - loss: 0.0011 - mean_squared_error: 0.0011\n",
      "Valeur de l'erreur sur les données de test (loss): 0.0011351312277838588\n",
      "Précision sur les données de test (MSE): 0.0011351312277838588\n"
     ]
    }
   ],
   "source": [
    "#Résultats \n",
    "\n",
    "resultat = model.evaluate(X_test, y_test, verbose=1)\n",
    "print(\"Valeur de l'erreur sur les données de test (loss):\", resultat[0])\n",
    "print('Précision sur les données de test (MSE):', resultat[1])"
   ]
  },
  {
   "cell_type": "markdown",
   "metadata": {},
   "source": [
    "## Observation des résultats "
   ]
  },
  {
   "cell_type": "code",
   "execution_count": 41,
   "metadata": {},
   "outputs": [],
   "source": [
    "def ecart_relatif(row) : \n",
    "    théo = row['Théorique']\n",
    "    préd = row['Prédiction']\n",
    "    return abs(théo - préd) / théo"
   ]
  },
  {
   "cell_type": "code",
   "execution_count": 42,
   "metadata": {},
   "outputs": [],
   "source": [
    "prediction = pd.DataFrame(data= model.predict(X_test) ,columns=['Prédiction'])\n",
    "théorique = pd.DataFrame(data= y_test ,columns=['Théorique'])\n",
    "prediction, théorique = prediction.reset_index() , théorique.reset_index()\n",
    "\n",
    "results = pd.merge(théorique, prediction, on = 'index').drop(columns=['index'])\n",
    "results[\"Ecart_relatif\"] = results.apply(ecart_relatif,axis=1)"
   ]
  },
  {
   "cell_type": "code",
   "execution_count": 43,
   "metadata": {},
   "outputs": [],
   "source": [
    "results.replace(np.inf, 0.0,inplace=True)"
   ]
  },
  {
   "cell_type": "code",
   "execution_count": 44,
   "metadata": {},
   "outputs": [
    {
     "data": {
      "text/plain": [
       "8.366404738611545"
      ]
     },
     "execution_count": 44,
     "metadata": {},
     "output_type": "execute_result"
    }
   ],
   "source": [
    "results[\"Ecart_relatif\"].mean()"
   ]
  },
  {
   "cell_type": "code",
   "execution_count": 45,
   "metadata": {},
   "outputs": [
    {
     "name": "stdout",
     "output_type": "stream",
     "text": [
      "L'écart relatif moyen est de 836.6404738611544%\n"
     ]
    }
   ],
   "source": [
    "print(\"L'écart relatif moyen est de \" + str(results[\"Ecart_relatif\"].mean() * 100) + \"%\")"
   ]
  },
  {
   "cell_type": "code",
   "execution_count": 46,
   "metadata": {},
   "outputs": [],
   "source": [
    "results.sort_values('Ecart_relatif',inplace=True)"
   ]
  },
  {
   "cell_type": "code",
   "execution_count": 131,
   "metadata": {},
   "outputs": [],
   "source": [
    "#results"
   ]
  },
  {
   "cell_type": "code",
   "execution_count": 29,
   "metadata": {},
   "outputs": [
    {
     "data": {
      "text/plain": [
       "(-0.01, 0.1)"
      ]
     },
     "execution_count": 29,
     "metadata": {},
     "output_type": "execute_result"
    },
    {
     "data": {
      "image/png": "[encoded data removed]",
      "text/plain": [
       "<Figure size 432x288 with 1 Axes>"
      ]
     },
     "metadata": {
      "needs_background": "light"
     },
     "output_type": "display_data"
    }
   ],
   "source": [
    "results.plot.scatter(\"Théorique\",\"Prédiction\")\n",
    "plt.xlim(-.01,.1)\n",
    "plt.ylim(-.01,.1)"
   ]
  },
  {
   "cell_type": "markdown",
   "metadata": {},
   "source": [
    "---------------"
   ]
  },
  {
   "cell_type": "markdown",
   "metadata": {},
   "source": [
    "# Test classification multi-classe"
   ]
  },
  {
   "cell_type": "code",
   "execution_count": 623,
   "metadata": {},
   "outputs": [],
   "source": [
    "df = pd.read_csv('market_data_pd.csv',sep=';')\n",
    "df = df[[\"Common Eqty / Tot Assets\",'Debt / Common Equity','BCLASS Level 3',\"PD_1y\"]]\n",
    "df = df[df.PD_1y>0.0]\n",
    "df = df[df.PD_1y!=1.0]\n",
    "df = df[df.PD_1y<0.05]\n",
    "\n",
    "df['PD_1y'] = pd.read_csv('PD_1y.csv')['PD_1y']\n",
    "df.replace(np.nan, 0.0,inplace=True)"
   ]
  },
  {
   "cell_type": "code",
   "execution_count": null,
   "metadata": {},
   "outputs": [],
   "source": []
  },
  {
   "cell_type": "code",
   "execution_count": 624,
   "metadata": {},
   "outputs": [
    {
     "data": {
      "image/png": "[encoded data removed]",
      "text/plain": [
       "<Figure size 432x288 with 1 Axes>"
      ]
     },
     "metadata": {
      "needs_background": "light"
     },
     "output_type": "display_data"
    },
    {
     "data": {
      "image/png": "[encoded data removed]",
      "text/plain": [
       "<Figure size 432x288 with 1 Axes>"
      ]
     },
     "metadata": {
      "needs_background": "light"
     },
     "output_type": "display_data"
    }
   ],
   "source": [
    "from numpy.random import randn\n",
    "from sklearn.preprocessing import KBinsDiscretizer\n",
    "\n",
    "data = np.array(df['PD_1y'])\n",
    "# histogram of the raw data\n",
    "plt.hist(data, bins=35,edgecolor='black')\n",
    "plt.show()\n",
    "# reshape data to have rows and columns\n",
    "data = data.reshape((len(data),1))\n",
    "# discretization transform the raw data\n",
    "kbins = KBinsDiscretizer(n_bins=6, encode='ordinal', strategy='kmeans')\n",
    "data_trans = kbins.fit_transform(data)\n",
    "\n",
    "# summarize first few rows\n",
    "#print(data_trans[:10, :])\n",
    "# histogram of the transformed data\n",
    "plt.hist(data_trans, bins=6,edgecolor='black' )\n",
    "plt.show()"
   ]
  },
  {
   "cell_type": "code",
   "execution_count": 625,
   "metadata": {},
   "outputs": [],
   "source": [
    "df['PD_1y'] = data_trans"
   ]
  },
  {
   "cell_type": "code",
   "execution_count": 626,
   "metadata": {},
   "outputs": [],
   "source": [
    "X_full = np.array(df.drop(columns=['PD_1y']))\n",
    "y_full = np.array(df['PD_1y'])\n",
    "\n",
    "features = list(df.drop(columns=['PD_1y']).columns)\n",
    "\n",
    "discrete_features = ['BCLASS Level {}'.format(i) for i in range(3,4)]\n",
    "continuous_features = [s for s in features if not s in discrete_features]\n",
    "\n",
    "\n",
    "continuous_features_idx = [features.index(feat_name) for feat_name in continuous_features]\n",
    "discrete_features_idx = [features.index(feat_name) for feat_name in discrete_features]\n",
    "\n",
    "\n",
    "X_processed = traitement(X_full)\n",
    "X_train, X_test, y_train, y_test = model_selection.train_test_split(X_processed, y_full, test_size=0.30,\n",
    "                                                                    stratify=y_full, # stratification\n",
    "                                                                    random_state=92)"
   ]
  },
  {
   "cell_type": "code",
   "execution_count": null,
   "metadata": {},
   "outputs": [],
   "source": []
  },
  {
   "cell_type": "code",
   "execution_count": 627,
   "metadata": {},
   "outputs": [],
   "source": [
    "model = Sequential()\n",
    "model.add(Dense(units=6,input_dim=24)) #6 is good\n",
    "#model.add(Dense(units=2))\n",
    "model.add(Dense(units=6,activation=\"sigmoid\")) #output\n"
   ]
  },
  {
   "cell_type": "code",
   "execution_count": 628,
   "metadata": {},
   "outputs": [],
   "source": [
    "model.compile(optimizer=keras.optimizers.Adam(),\n",
    "              loss=keras.losses.SparseCategoricalCrossentropy(from_logits=False), # default from_logits=False\n",
    "              metrics=[keras.metrics.SparseCategoricalAccuracy()])"
   ]
  },
  {
   "cell_type": "code",
   "execution_count": 629,
   "metadata": {},
   "outputs": [],
   "source": [
    "#model.fit(X_train,y_train,validation_split=0.4, epochs=40)"
   ]
  },
  {
   "cell_type": "code",
   "execution_count": 630,
   "metadata": {},
   "outputs": [
    {
     "name": "stdout",
     "output_type": "stream",
     "text": [
      "Epoch 1/20\n",
      "20/20 [==============================] - 0s 6ms/step - loss: 1.8698 - sparse_categorical_accuracy: 0.1357 - val_loss: 1.8243 - val_sparse_categorical_accuracy: 0.1716\n",
      "Epoch 2/20\n",
      "20/20 [==============================] - 0s 2ms/step - loss: 1.8503 - sparse_categorical_accuracy: 0.1508 - val_loss: 1.8122 - val_sparse_categorical_accuracy: 0.1716\n",
      "Epoch 3/20\n",
      "20/20 [==============================] - 0s 2ms/step - loss: 1.8339 - sparse_categorical_accuracy: 0.1658 - val_loss: 1.8017 - val_sparse_categorical_accuracy: 0.2313\n",
      "Epoch 4/20\n",
      "20/20 [==============================] - 0s 2ms/step - loss: 1.8161 - sparse_categorical_accuracy: 0.1809 - val_loss: 1.7916 - val_sparse_categorical_accuracy: 0.2313\n",
      "Epoch 5/20\n",
      "20/20 [==============================] - 0s 2ms/step - loss: 1.8000 - sparse_categorical_accuracy: 0.1859 - val_loss: 1.7816 - val_sparse_categorical_accuracy: 0.2687\n",
      "Epoch 6/20\n",
      "20/20 [==============================] - 0s 2ms/step - loss: 1.7854 - sparse_categorical_accuracy: 0.2010 - val_loss: 1.7731 - val_sparse_categorical_accuracy: 0.2761\n",
      "Epoch 7/20\n",
      "20/20 [==============================] - 0s 2ms/step - loss: 1.7692 - sparse_categorical_accuracy: 0.2161 - val_loss: 1.7639 - val_sparse_categorical_accuracy: 0.2836\n",
      "Epoch 8/20\n",
      "20/20 [==============================] - 0s 3ms/step - loss: 1.7557 - sparse_categorical_accuracy: 0.2261 - val_loss: 1.7549 - val_sparse_categorical_accuracy: 0.2985\n",
      "Epoch 9/20\n",
      "20/20 [==============================] - 0s 2ms/step - loss: 1.7405 - sparse_categorical_accuracy: 0.2513 - val_loss: 1.7458 - val_sparse_categorical_accuracy: 0.3134\n",
      "Epoch 10/20\n",
      "20/20 [==============================] - 0s 2ms/step - loss: 1.7263 - sparse_categorical_accuracy: 0.2915 - val_loss: 1.7371 - val_sparse_categorical_accuracy: 0.3209\n",
      "Epoch 11/20\n",
      "20/20 [==============================] - 0s 1ms/step - loss: 1.7122 - sparse_categorical_accuracy: 0.3317 - val_loss: 1.7284 - val_sparse_categorical_accuracy: 0.3060\n",
      "Epoch 12/20\n",
      "20/20 [==============================] - 0s 2ms/step - loss: 1.6984 - sparse_categorical_accuracy: 0.3719 - val_loss: 1.7188 - val_sparse_categorical_accuracy: 0.3209\n",
      "Epoch 13/20\n",
      "20/20 [==============================] - 0s 2ms/step - loss: 1.6840 - sparse_categorical_accuracy: 0.3719 - val_loss: 1.7096 - val_sparse_categorical_accuracy: 0.3209\n",
      "Epoch 14/20\n",
      "20/20 [==============================] - 0s 2ms/step - loss: 1.6712 - sparse_categorical_accuracy: 0.3618 - val_loss: 1.6997 - val_sparse_categorical_accuracy: 0.3284\n",
      "Epoch 15/20\n",
      "20/20 [==============================] - 0s 2ms/step - loss: 1.6566 - sparse_categorical_accuracy: 0.3769 - val_loss: 1.6907 - val_sparse_categorical_accuracy: 0.3358\n",
      "Epoch 16/20\n",
      "20/20 [==============================] - 0s 2ms/step - loss: 1.6437 - sparse_categorical_accuracy: 0.3869 - val_loss: 1.6808 - val_sparse_categorical_accuracy: 0.3284\n",
      "Epoch 17/20\n",
      "20/20 [==============================] - 0s 2ms/step - loss: 1.6291 - sparse_categorical_accuracy: 0.3920 - val_loss: 1.6721 - val_sparse_categorical_accuracy: 0.3358\n",
      "Epoch 18/20\n",
      "20/20 [==============================] - 0s 2ms/step - loss: 1.6162 - sparse_categorical_accuracy: 0.4121 - val_loss: 1.6626 - val_sparse_categorical_accuracy: 0.3284\n",
      "Epoch 19/20\n",
      "20/20 [==============================] - 0s 1ms/step - loss: 1.6026 - sparse_categorical_accuracy: 0.3920 - val_loss: 1.6531 - val_sparse_categorical_accuracy: 0.3358\n",
      "Epoch 20/20\n",
      "20/20 [==============================] - 0s 2ms/step - loss: 1.5889 - sparse_categorical_accuracy: 0.4121 - val_loss: 1.6441 - val_sparse_categorical_accuracy: 0.3284\n"
     ]
    }
   ],
   "source": [
    "history = model.fit(X_train, y_train,         # Train the model using the training set...\n",
    "          batch_size=10, epochs=20,\n",
    "          verbose=1, validation_split=0.4,steps_per_epoch=20)  "
   ]
  },
  {
   "cell_type": "code",
   "execution_count": 631,
   "metadata": {},
   "outputs": [
    {
     "name": "stdout",
     "output_type": "stream",
     "text": [
      "5/5 [==============================] - 0s 684us/step - loss: 1.6437 - sparse_categorical_accuracy: 0.3403\n",
      "The final loss on the TEST set is: 1.64.\n",
      "The final sparse_categorical_accuracy on the TEST set is: 0.34.\n"
     ]
    },
    {
     "data": {
      "image/png": "[encoded data removed]",
      "text/plain": [
       "<Figure size 432x288 with 1 Axes>"
      ]
     },
     "metadata": {
      "needs_background": "light"
     },
     "output_type": "display_data"
    }
   ],
   "source": [
    "# --------------------------------------\n",
    "# Evaluation\n",
    "# --------------------------------------\n",
    "for loss_name, loss_value in list(zip(model.metrics_names, model.evaluate(X_test, y_test, verbose=1))):\n",
    "    print('The final {} on the TEST set is: {:.2f}.'.format(loss_name, loss_value)) # Evaluate the trained model on the test set!\n",
    "\n",
    "# --------------------------------------\n",
    "# Loss functions evolution\n",
    "# --------------------------------------\n",
    "plt.plot(history.history['loss'])\n",
    "plt.plot(history.history['val_loss'])\n",
    "plt.title('Model loss by epoch')\n",
    "plt.ylabel('loss')\n",
    "plt.xlabel('epoch')\n",
    "plt.legend(['train', 'valid'], loc='right')\n",
    "plt.show()"
   ]
  },
  {
   "cell_type": "code",
   "execution_count": 632,
   "metadata": {},
   "outputs": [],
   "source": [
    "\n",
    "y=model.predict(X_test)\n"
   ]
  },
  {
   "cell_type": "code",
   "execution_count": 633,
   "metadata": {},
   "outputs": [],
   "source": [
    "y_predicted = [np.argmax(pred) for pred in y]"
   ]
  },
  {
   "cell_type": "code",
   "execution_count": 634,
   "metadata": {},
   "outputs": [
    {
     "name": "stdout",
     "output_type": "stream",
     "text": [
      "predicted:  1 | Actual Label:  3.0  False\n",
      "predicted:  1 | Actual Label:  5.0  False\n",
      "predicted:  0 | Actual Label:  2.0  False\n",
      "predicted:  0 | Actual Label:  0.0  True\n",
      "predicted:  1 | Actual Label:  2.0  False\n",
      "predicted:  1 | Actual Label:  0.0  False\n",
      "predicted:  1 | Actual Label:  2.0  False\n",
      "predicted:  1 | Actual Label:  3.0  False\n",
      "predicted:  1 | Actual Label:  0.0  False\n",
      "predicted:  1 | Actual Label:  5.0  False\n",
      "predicted:  1 | Actual Label:  1.0  True\n",
      "predicted:  1 | Actual Label:  1.0  True\n",
      "predicted:  1 | Actual Label:  1.0  True\n",
      "predicted:  1 | Actual Label:  0.0  False\n",
      "predicted:  1 | Actual Label:  2.0  False\n",
      "predicted:  1 | Actual Label:  4.0  False\n",
      "predicted:  1 | Actual Label:  2.0  False\n",
      "predicted:  1 | Actual Label:  1.0  True\n",
      "predicted:  1 | Actual Label:  0.0  False\n",
      "predicted:  0 | Actual Label:  5.0  False\n",
      "predicted:  1 | Actual Label:  0.0  False\n",
      "predicted:  1 | Actual Label:  2.0  False\n",
      "predicted:  1 | Actual Label:  3.0  False\n",
      "predicted:  0 | Actual Label:  0.0  True\n",
      "predicted:  1 | Actual Label:  0.0  False\n",
      "predicted:  2 | Actual Label:  1.0  False\n",
      "predicted:  1 | Actual Label:  1.0  True\n",
      "predicted:  0 | Actual Label:  1.0  False\n",
      "predicted:  1 | Actual Label:  1.0  True\n",
      "predicted:  1 | Actual Label:  3.0  False\n",
      "predicted:  2 | Actual Label:  4.0  False\n",
      "predicted:  1 | Actual Label:  0.0  False\n",
      "predicted:  1 | Actual Label:  2.0  False\n",
      "predicted:  0 | Actual Label:  0.0  True\n",
      "predicted:  1 | Actual Label:  3.0  False\n",
      "predicted:  1 | Actual Label:  2.0  False\n",
      "predicted:  1 | Actual Label:  2.0  False\n",
      "predicted:  3 | Actual Label:  3.0  True\n",
      "predicted:  1 | Actual Label:  4.0  False\n",
      "predicted:  0 | Actual Label:  2.0  False\n",
      "predicted:  1 | Actual Label:  0.0  False\n",
      "predicted:  3 | Actual Label:  2.0  False\n",
      "predicted:  2 | Actual Label:  1.0  False\n",
      "predicted:  0 | Actual Label:  2.0  False\n",
      "predicted:  1 | Actual Label:  0.0  False\n",
      "predicted:  1 | Actual Label:  0.0  False\n",
      "predicted:  1 | Actual Label:  0.0  False\n",
      "predicted:  1 | Actual Label:  0.0  False\n",
      "predicted:  0 | Actual Label:  4.0  False\n",
      "predicted:  1 | Actual Label:  0.0  False\n",
      "predicted:  2 | Actual Label:  2.0  True\n",
      "predicted:  1 | Actual Label:  0.0  False\n",
      "predicted:  1 | Actual Label:  1.0  True\n",
      "predicted:  1 | Actual Label:  1.0  True\n",
      "predicted:  1 | Actual Label:  0.0  False\n",
      "predicted:  1 | Actual Label:  2.0  False\n",
      "predicted:  1 | Actual Label:  0.0  False\n",
      "predicted:  1 | Actual Label:  1.0  True\n",
      "predicted:  1 | Actual Label:  3.0  False\n",
      "predicted:  3 | Actual Label:  4.0  False\n",
      "predicted:  1 | Actual Label:  1.0  True\n",
      "predicted:  1 | Actual Label:  2.0  False\n",
      "predicted:  1 | Actual Label:  1.0  True\n",
      "predicted:  0 | Actual Label:  3.0  False\n",
      "predicted:  1 | Actual Label:  1.0  True\n",
      "predicted:  1 | Actual Label:  0.0  False\n",
      "predicted:  1 | Actual Label:  0.0  False\n",
      "predicted:  1 | Actual Label:  1.0  True\n",
      "predicted:  1 | Actual Label:  0.0  False\n",
      "predicted:  1 | Actual Label:  0.0  False\n",
      "predicted:  0 | Actual Label:  3.0  False\n",
      "predicted:  1 | Actual Label:  1.0  True\n",
      "predicted:  1 | Actual Label:  2.0  False\n",
      "predicted:  1 | Actual Label:  0.0  False\n",
      "predicted:  1 | Actual Label:  2.0  False\n",
      "predicted:  0 | Actual Label:  2.0  False\n",
      "predicted:  1 | Actual Label:  1.0  True\n",
      "predicted:  2 | Actual Label:  2.0  True\n",
      "predicted:  2 | Actual Label:  3.0  False\n",
      "predicted:  1 | Actual Label:  0.0  False\n",
      "predicted:  1 | Actual Label:  1.0  True\n",
      "predicted:  1 | Actual Label:  0.0  False\n",
      "predicted:  1 | Actual Label:  1.0  True\n",
      "predicted:  1 | Actual Label:  3.0  False\n",
      "predicted:  1 | Actual Label:  5.0  False\n",
      "predicted:  1 | Actual Label:  1.0  True\n",
      "predicted:  1 | Actual Label:  2.0  False\n",
      "predicted:  1 | Actual Label:  1.0  True\n",
      "predicted:  1 | Actual Label:  1.0  True\n",
      "predicted:  2 | Actual Label:  1.0  False\n",
      "predicted:  1 | Actual Label:  1.0  True\n",
      "predicted:  0 | Actual Label:  1.0  False\n",
      "predicted:  1 | Actual Label:  1.0  True\n",
      "predicted:  1 | Actual Label:  3.0  False\n",
      "predicted:  1 | Actual Label:  0.0  False\n",
      "predicted:  2 | Actual Label:  2.0  True\n",
      "predicted:  1 | Actual Label:  0.0  False\n",
      "predicted:  3 | Actual Label:  3.0  True\n",
      "predicted:  1 | Actual Label:  1.0  True\n",
      "predicted:  1 | Actual Label:  1.0  True\n",
      "predicted:  1 | Actual Label:  0.0  False\n",
      "predicted:  1 | Actual Label:  1.0  True\n",
      "predicted:  2 | Actual Label:  0.0  False\n",
      "predicted:  1 | Actual Label:  0.0  False\n",
      "predicted:  1 | Actual Label:  2.0  False\n",
      "predicted:  1 | Actual Label:  2.0  False\n",
      "predicted:  1 | Actual Label:  4.0  False\n",
      "predicted:  1 | Actual Label:  1.0  True\n",
      "predicted:  1 | Actual Label:  2.0  False\n",
      "predicted:  1 | Actual Label:  1.0  True\n",
      "predicted:  1 | Actual Label:  1.0  True\n",
      "predicted:  2 | Actual Label:  1.0  False\n",
      "predicted:  1 | Actual Label:  2.0  False\n",
      "predicted:  2 | Actual Label:  1.0  False\n",
      "predicted:  1 | Actual Label:  2.0  False\n",
      "predicted:  1 | Actual Label:  0.0  False\n",
      "predicted:  2 | Actual Label:  2.0  True\n",
      "predicted:  1 | Actual Label:  0.0  False\n",
      "predicted:  0 | Actual Label:  3.0  False\n",
      "predicted:  0 | Actual Label:  0.0  True\n",
      "predicted:  1 | Actual Label:  2.0  False\n",
      "predicted:  1 | Actual Label:  0.0  False\n",
      "predicted:  0 | Actual Label:  4.0  False\n",
      "predicted:  1 | Actual Label:  3.0  False\n",
      "predicted:  1 | Actual Label:  3.0  False\n",
      "predicted:  2 | Actual Label:  3.0  False\n",
      "predicted:  0 | Actual Label:  0.0  True\n",
      "predicted:  1 | Actual Label:  2.0  False\n",
      "predicted:  1 | Actual Label:  1.0  True\n",
      "predicted:  1 | Actual Label:  0.0  False\n",
      "predicted:  1 | Actual Label:  1.0  True\n",
      "predicted:  1 | Actual Label:  0.0  False\n",
      "predicted:  1 | Actual Label:  0.0  False\n",
      "predicted:  0 | Actual Label:  5.0  False\n",
      "predicted:  1 | Actual Label:  1.0  True\n",
      "predicted:  1 | Actual Label:  1.0  True\n",
      "predicted:  1 | Actual Label:  1.0  True\n",
      "predicted:  1 | Actual Label:  1.0  True\n",
      "predicted:  1 | Actual Label:  1.0  True\n",
      "predicted:  1 | Actual Label:  1.0  True\n",
      "predicted:  1 | Actual Label:  0.0  False\n",
      "predicted:  1 | Actual Label:  0.0  False\n",
      "predicted:  1 | Actual Label:  1.0  True\n",
      "predicted:  1 | Actual Label:  1.0  True\n",
      "\n",
      "\n",
      "49 / 144\n"
     ]
    }
   ],
   "source": [
    "for i in range(len(y_predicted)):\n",
    "    print(\"predicted: \", y_predicted[i], \"| Actual Label: \",y_test[i], \" True\" if (y_predicted[i]==y_test[i]) else \" False\")\n",
    "print(\"\\n\")\n",
    "print(np.sum(y_predicted==y_test),'/',len(y_predicted))"
   ]
  },
  {
   "cell_type": "code",
   "execution_count": null,
   "metadata": {},
   "outputs": [],
   "source": []
  },
  {
   "cell_type": "code",
   "execution_count": 635,
   "metadata": {},
   "outputs": [],
   "source": [
    "from sklearn.metrics import confusion_matrix, ConfusionMatrixDisplay\n"
   ]
  },
  {
   "cell_type": "code",
   "execution_count": 636,
   "metadata": {},
   "outputs": [],
   "source": [
    "CM = confusion_matrix(y_test, y_predicted)"
   ]
  },
  {
   "cell_type": "code",
   "execution_count": 637,
   "metadata": {},
   "outputs": [
    {
     "data": {
      "text/plain": [
       "<sklearn.metrics._plot.confusion_matrix.ConfusionMatrixDisplay at 0x7fbf5d9c9d90>"
      ]
     },
     "execution_count": 637,
     "metadata": {},
     "output_type": "execute_result"
    },
    {
     "data": {
      "image/png": "[encoded data removed]",
      "text/plain": [
       "<Figure size 432x288 with 2 Axes>"
      ]
     },
     "metadata": {
      "needs_background": "light"
     },
     "output_type": "display_data"
    }
   ],
   "source": [
    "ConfusionMatrixDisplay(CM).plot()"
   ]
  },
  {
   "cell_type": "code",
   "execution_count": null,
   "metadata": {},
   "outputs": [],
   "source": []
  },
  {
   "cell_type": "code",
   "execution_count": null,
   "metadata": {},
   "outputs": [],
   "source": []
  }
 ],
 "metadata": {
  "kernelspec": {
   "display_name": "Python 3",
   "language": "python",
   "name": "python3"
  },
  "language_info": {
   "codemirror_mode": {
    "name": "ipython",
    "version": 3
   },
   "file_extension": ".py",
   "mimetype": "text/x-python",
   "name": "python",
   "nbconvert_exporter": "python",
   "pygments_lexer": "ipython3",
   "version": "3.7.4"
  }
 },
 "nbformat": 4,
 "nbformat_minor": 5
}
