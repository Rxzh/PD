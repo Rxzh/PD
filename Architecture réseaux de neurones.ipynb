{
 "cells": [
  {
   "cell_type": "markdown",
   "id": "0bbaa3a1",
   "metadata": {},
   "source": [
    "# Implémentation de l'architecture des réseaux de neurones\n",
    "\n",
    "*http://exo7.emath.fr/cours/livre-deepmath.pdf* \n",
    "\n",
    "## Chargement des modules et données"
   ]
  },
  {
   "cell_type": "code",
   "execution_count": 1,
   "id": "aff37a21",
   "metadata": {
    "scrolled": true
   },
   "outputs": [],
   "source": [
    "import pandas as pd \n",
    "import matplotlib.pyplot as plt\n",
    "import numpy as np"
   ]
  },
  {
   "cell_type": "code",
   "execution_count": 2,
   "id": "d6c3ba2d",
   "metadata": {},
   "outputs": [],
   "source": [
    "import tensorflow.keras"
   ]
  },
  {
   "cell_type": "code",
   "execution_count": 3,
   "id": "2e49193b",
   "metadata": {},
   "outputs": [],
   "source": [
    "df = pd.read_csv('C:/Users/mathilde.binet/Desktop/PIF/données_bloom_5000.csv',sep = ';')\n",
    "\n",
    "#dataset des 5.000 premiers bonds récupérés de bloom"
   ]
  },
  {
   "cell_type": "code",
   "execution_count": 4,
   "id": "e2cf2ce2",
   "metadata": {},
   "outputs": [
    {
     "data": {
      "text/html": [
       "<div>\n",
       "<style scoped>\n",
       "    .dataframe tbody tr th:only-of-type {\n",
       "        vertical-align: middle;\n",
       "    }\n",
       "\n",
       "    .dataframe tbody tr th {\n",
       "        vertical-align: top;\n",
       "    }\n",
       "\n",
       "    .dataframe thead th {\n",
       "        text-align: right;\n",
       "    }\n",
       "</style>\n",
       "<table border=\"1\" class=\"dataframe\">\n",
       "  <thead>\n",
       "    <tr style=\"text-align: right;\">\n",
       "      <th></th>\n",
       "      <th>Issuer Name</th>\n",
       "      <th>Cpn</th>\n",
       "      <th>Maturity</th>\n",
       "      <th>Issue Price</th>\n",
       "      <th>ISIN</th>\n",
       "      <th>Issue Date</th>\n",
       "      <th>Par Amt</th>\n",
       "      <th>Currency</th>\n",
       "      <th>DES Notes</th>\n",
       "      <th>Ticker</th>\n",
       "      <th>Debt / Common Equity</th>\n",
       "      <th>Debt/EBITDA</th>\n",
       "      <th>EBITDA</th>\n",
       "    </tr>\n",
       "  </thead>\n",
       "  <tbody>\n",
       "    <tr>\n",
       "      <th>0</th>\n",
       "      <td>European Union</td>\n",
       "      <td>0.0</td>\n",
       "      <td>07/04/2035</td>\n",
       "      <td>101.500</td>\n",
       "      <td>EU000A285VM2</td>\n",
       "      <td>12/01/2020</td>\n",
       "      <td>1000.000</td>\n",
       "      <td>EUR</td>\n",
       "      <td>NaN</td>\n",
       "      <td>EU</td>\n",
       "      <td>NaN</td>\n",
       "      <td>NaN</td>\n",
       "      <td>NaN</td>\n",
       "    </tr>\n",
       "    <tr>\n",
       "      <th>1</th>\n",
       "      <td>HSBC Holdings PLC</td>\n",
       "      <td>4.6</td>\n",
       "      <td>NaN</td>\n",
       "      <td>100.000</td>\n",
       "      <td>US404280CN71</td>\n",
       "      <td>12/17/2020</td>\n",
       "      <td>815.641</td>\n",
       "      <td>USD</td>\n",
       "      <td>PAR CALL 6 MONTHS PRIOR TO EACH RESET DATE.</td>\n",
       "      <td>HSBC</td>\n",
       "      <td>255.2640</td>\n",
       "      <td>NaN</td>\n",
       "      <td>NaN</td>\n",
       "    </tr>\n",
       "    <tr>\n",
       "      <th>2</th>\n",
       "      <td>CNAC HK Finbridge Co Ltd</td>\n",
       "      <td>3.0</td>\n",
       "      <td>09/22/2030</td>\n",
       "      <td>99.863</td>\n",
       "      <td>XS2226808165</td>\n",
       "      <td>09/22/2020</td>\n",
       "      <td>854.394</td>\n",
       "      <td>USD</td>\n",
       "      <td>MANDATORY NON-REGISTERATION CALL@100%</td>\n",
       "      <td>HAOHUA</td>\n",
       "      <td>785.8010</td>\n",
       "      <td>11.3875</td>\n",
       "      <td>23293.5</td>\n",
       "    </tr>\n",
       "    <tr>\n",
       "      <th>3</th>\n",
       "      <td>Deutsche Lufthansa AG</td>\n",
       "      <td>3.0</td>\n",
       "      <td>05/29/2026</td>\n",
       "      <td>99.390</td>\n",
       "      <td>XS2265369657</td>\n",
       "      <td>12/01/2020</td>\n",
       "      <td>100000.000</td>\n",
       "      <td>EUR</td>\n",
       "      <td>NaN</td>\n",
       "      <td>LHAGR</td>\n",
       "      <td>99.5959</td>\n",
       "      <td>NaN</td>\n",
       "      <td>4552.0</td>\n",
       "    </tr>\n",
       "    <tr>\n",
       "      <th>4</th>\n",
       "      <td>Credit Suisse Group AG</td>\n",
       "      <td>4.5</td>\n",
       "      <td>NaN</td>\n",
       "      <td>100.000</td>\n",
       "      <td>USH3698DDD33</td>\n",
       "      <td>12/09/2020</td>\n",
       "      <td>828.332</td>\n",
       "      <td>USD</td>\n",
       "      <td>NaN</td>\n",
       "      <td>CS</td>\n",
       "      <td>630.2450</td>\n",
       "      <td>NaN</td>\n",
       "      <td>NaN</td>\n",
       "    </tr>\n",
       "  </tbody>\n",
       "</table>\n",
       "</div>"
      ],
      "text/plain": [
       "                Issuer Name  Cpn    Maturity  Issue Price          ISIN  \\\n",
       "0            European Union  0.0  07/04/2035      101.500  EU000A285VM2   \n",
       "1         HSBC Holdings PLC  4.6         NaN      100.000  US404280CN71   \n",
       "2  CNAC HK Finbridge Co Ltd  3.0  09/22/2030       99.863  XS2226808165   \n",
       "3     Deutsche Lufthansa AG  3.0  05/29/2026       99.390  XS2265369657   \n",
       "4    Credit Suisse Group AG  4.5         NaN      100.000  USH3698DDD33   \n",
       "\n",
       "   Issue Date     Par Amt Currency  \\\n",
       "0  12/01/2020    1000.000      EUR   \n",
       "1  12/17/2020     815.641      USD   \n",
       "2  09/22/2020     854.394      USD   \n",
       "3  12/01/2020  100000.000      EUR   \n",
       "4  12/09/2020     828.332      USD   \n",
       "\n",
       "                                     DES Notes  Ticker  Debt / Common Equity  \\\n",
       "0                                          NaN      EU                   NaN   \n",
       "1  PAR CALL 6 MONTHS PRIOR TO EACH RESET DATE.    HSBC              255.2640   \n",
       "2        MANDATORY NON-REGISTERATION CALL@100%  HAOHUA              785.8010   \n",
       "3                                          NaN   LHAGR               99.5959   \n",
       "4                                          NaN      CS              630.2450   \n",
       "\n",
       "   Debt/EBITDA   EBITDA  \n",
       "0          NaN      NaN  \n",
       "1          NaN      NaN  \n",
       "2      11.3875  23293.5  \n",
       "3          NaN   4552.0  \n",
       "4          NaN      NaN  "
      ]
     },
     "execution_count": 4,
     "metadata": {},
     "output_type": "execute_result"
    }
   ],
   "source": [
    "df.head()"
   ]
  },
  {
   "cell_type": "code",
   "execution_count": 5,
   "id": "361e87ed",
   "metadata": {},
   "outputs": [
    {
     "data": {
      "text/plain": [
       "(5000, 13)"
      ]
     },
     "execution_count": 5,
     "metadata": {},
     "output_type": "execute_result"
    }
   ],
   "source": [
    "df.shape"
   ]
  },
  {
   "cell_type": "code",
   "execution_count": 6,
   "id": "90eb3a99",
   "metadata": {},
   "outputs": [],
   "source": [
    "#RECUPERER VRAIES DONNEES DE PROBA DE DEFAUT ARGGGHHHHHHHHHHHHHHHHHHHHHHHHH\n",
    "#à partir du premier algo, estimer PD? données à récupérer, notamment le PRIXXXX \n",
    "\n",
    "#j'ai mis des valeurs aléatoires pour créer la colonne\n",
    "\n",
    "#df[\"PD\"] = pd.Series(np.random.random(len(df[\"ISIN\"])), index=df.index)"
   ]
  },
  {
   "cell_type": "code",
   "execution_count": 7,
   "id": "470b03f2",
   "metadata": {},
   "outputs": [],
   "source": [
    "#mettre les ratios financiers\n",
    "df1 = df[[\"PD\",\"Debt / Common Equity\",\"Debt/EBITDA\",\"EBITDA\"]]"
   ]
  },
  {
   "cell_type": "code",
   "execution_count": 8,
   "id": "e3d888d4",
   "metadata": {},
   "outputs": [],
   "source": [
    "df1 = df1.dropna(how = 'any') \n",
    "\n",
    "#on peut pas faire tourner l'algo avec des valeurs manquantes. Voir techniques pour les remplacer."
   ]
  },
  {
   "cell_type": "markdown",
   "id": "72f4d17d",
   "metadata": {},
   "source": [
    "## Traitement des données "
   ]
  },
  {
   "cell_type": "code",
   "execution_count": 9,
   "id": "25278003",
   "metadata": {},
   "outputs": [],
   "source": [
    "#Préparation bases de train et de test \n",
    "\n",
    "from sklearn.model_selection import train_test_split\n",
    "\n",
    "X_train, X_test, y_train, y_test = train_test_split(df1.drop(\"PD\",axis=1),df1[\"PD\"],test_size=0.2, random_state=42) "
   ]
  },
  {
   "cell_type": "code",
   "execution_count": 10,
   "id": "c38ebf73",
   "metadata": {},
   "outputs": [],
   "source": [
    "#Standardisation des données \n",
    "\n",
    "from sklearn.preprocessing import StandardScaler\n",
    "\n",
    "scaler = StandardScaler(with_mean=True,with_std=True)\n",
    "scaler.fit(X_train)\n",
    "\n",
    "x_train = scaler.transform(X_train)\n",
    "x_train = pd.DataFrame(x_train, index=X_train.index, columns=X_train.columns)\n",
    "\n",
    "x_test = scaler.transform(X_test)\n",
    "x_test = pd.DataFrame(x_test, index=X_test.index, columns=X_test.columns)"
   ]
  },
  {
   "cell_type": "code",
   "execution_count": 11,
   "id": "b88087fa",
   "metadata": {},
   "outputs": [
    {
     "data": {
      "text/html": [
       "<div>\n",
       "<style scoped>\n",
       "    .dataframe tbody tr th:only-of-type {\n",
       "        vertical-align: middle;\n",
       "    }\n",
       "\n",
       "    .dataframe tbody tr th {\n",
       "        vertical-align: top;\n",
       "    }\n",
       "\n",
       "    .dataframe thead th {\n",
       "        text-align: right;\n",
       "    }\n",
       "</style>\n",
       "<table border=\"1\" class=\"dataframe\">\n",
       "  <thead>\n",
       "    <tr style=\"text-align: right;\">\n",
       "      <th></th>\n",
       "      <th>Debt / Common Equity</th>\n",
       "      <th>Debt/EBITDA</th>\n",
       "      <th>EBITDA</th>\n",
       "    </tr>\n",
       "  </thead>\n",
       "  <tbody>\n",
       "    <tr>\n",
       "      <th>3787</th>\n",
       "      <td>-0.024283</td>\n",
       "      <td>-0.022071</td>\n",
       "      <td>0.548917</td>\n",
       "    </tr>\n",
       "    <tr>\n",
       "      <th>829</th>\n",
       "      <td>-0.024148</td>\n",
       "      <td>-0.017536</td>\n",
       "      <td>-0.076796</td>\n",
       "    </tr>\n",
       "    <tr>\n",
       "      <th>2541</th>\n",
       "      <td>-0.024027</td>\n",
       "      <td>-0.022374</td>\n",
       "      <td>-0.074564</td>\n",
       "    </tr>\n",
       "    <tr>\n",
       "      <th>4732</th>\n",
       "      <td>-0.024106</td>\n",
       "      <td>-0.022412</td>\n",
       "      <td>-0.049289</td>\n",
       "    </tr>\n",
       "    <tr>\n",
       "      <th>1871</th>\n",
       "      <td>-0.024129</td>\n",
       "      <td>-0.022251</td>\n",
       "      <td>-0.077153</td>\n",
       "    </tr>\n",
       "  </tbody>\n",
       "</table>\n",
       "</div>"
      ],
      "text/plain": [
       "      Debt / Common Equity  Debt/EBITDA    EBITDA\n",
       "3787             -0.024283    -0.022071  0.548917\n",
       "829              -0.024148    -0.017536 -0.076796\n",
       "2541             -0.024027    -0.022374 -0.074564\n",
       "4732             -0.024106    -0.022412 -0.049289\n",
       "1871             -0.024129    -0.022251 -0.077153"
      ]
     },
     "execution_count": 11,
     "metadata": {},
     "output_type": "execute_result"
    }
   ],
   "source": [
    "x_test.head()"
   ]
  },
  {
   "cell_type": "markdown",
   "id": "cad8a7eb",
   "metadata": {},
   "source": [
    "## Réseaux de neurones "
   ]
  },
  {
   "cell_type": "code",
   "execution_count": 21,
   "id": "68d7e90f",
   "metadata": {},
   "outputs": [],
   "source": [
    "#RESEAUX DE NEURONES \n",
    "#http://eric.univ-lyon2.fr/~ricco/tanagra/fichiers/fr_Tanagra_Packages_Python_for_Deep_Learning.pdf"
   ]
  },
  {
   "cell_type": "code",
   "execution_count": null,
   "id": "1a054c57",
   "metadata": {},
   "outputs": [],
   "source": [
    "#Explications très bien dans ce document : \n",
    "\n",
    "#http://exo7.emath.fr/cours/livre-deepmath.pdf \n",
    "\n",
    "#très bon document (parties Python, keras avec les codes et explications)"
   ]
  },
  {
   "cell_type": "code",
   "execution_count": 12,
   "id": "88e52464",
   "metadata": {},
   "outputs": [],
   "source": [
    "#Importation des classes\n",
    "from keras.models import Sequential\n",
    "from keras.layers import Dense\n",
    "\n",
    "#Architecture du réseau\n",
    "modele = Sequential()\n",
    "\n",
    "#Couche de neurones \n",
    "\n",
    "#première couche\n",
    "modele.add(Dense(units=2,input_dim=3,activation=\"sigmoid\"))\n",
    "#2: nombre de neurones à la première couche, 3: nombre d'inputs\n",
    "\n",
    "#couche cachée vers sortie\n",
    "modele.add(Dense(units=1,activation=\"sigmoid\"))\n",
    "#1: 1 sortie, nb d'inputs = nb d'output de la couche 1 (3)"
   ]
  },
  {
   "cell_type": "markdown",
   "id": "6e275bde",
   "metadata": {},
   "source": [
    "J'ai pris la fonction sigmoïde car elle est continue et à valeurs dans [0,1] (comme les probabilités de défaut). Régression logit. "
   ]
  },
  {
   "cell_type": "code",
   "execution_count": 13,
   "id": "586686f2",
   "metadata": {},
   "outputs": [],
   "source": [
    "#Choix de la méthode de descente de gradient\n",
    "\n",
    "from keras.optimizers import SGD\n",
    "learning_rate = 0.5\n",
    "\n",
    "sgd = SGD(learning_rate)"
   ]
  },
  {
   "cell_type": "code",
   "execution_count": 14,
   "id": "7c401693",
   "metadata": {},
   "outputs": [],
   "source": [
    "modele.compile(loss='mean_squared_error',optimizer=sgd,metrics=['accuracy'])"
   ]
  },
  {
   "cell_type": "code",
   "execution_count": 15,
   "id": "fa163729",
   "metadata": {},
   "outputs": [
    {
     "name": "stdout",
     "output_type": "stream",
     "text": [
      "Model: \"sequential\"\n",
      "_________________________________________________________________\n",
      "Layer (type)                 Output Shape              Param #   \n",
      "=================================================================\n",
      "dense (Dense)                (None, 2)                 8         \n",
      "_________________________________________________________________\n",
      "dense_1 (Dense)              (None, 1)                 3         \n",
      "=================================================================\n",
      "Total params: 11\n",
      "Trainable params: 11\n",
      "Non-trainable params: 0\n",
      "_________________________________________________________________\n",
      "None\n"
     ]
    }
   ],
   "source": [
    "print(modele.summary())"
   ]
  },
  {
   "cell_type": "code",
   "execution_count": 16,
   "id": "ac264066",
   "metadata": {
    "scrolled": true
   },
   "outputs": [
    {
     "name": "stdout",
     "output_type": "stream",
     "text": [
      "Epoch 1/40\n",
      "5/5 [==============================] - 13s 2ms/step - loss: 0.0899 - accuracy: 0.0000e+00\n",
      "Epoch 2/40\n",
      "5/5 [==============================] - 0s 2ms/step - loss: 0.0863 - accuracy: 0.0000e+00\n",
      "Epoch 3/40\n",
      "5/5 [==============================] - 0s 3ms/step - loss: 0.0869 - accuracy: 0.0000e+00\n",
      "Epoch 4/40\n",
      "5/5 [==============================] - 0s 2ms/step - loss: 0.0854 - accuracy: 0.0000e+00\n",
      "Epoch 5/40\n",
      "5/5 [==============================] - 0s 2ms/step - loss: 0.0854 - accuracy: 0.0000e+00\n",
      "Epoch 6/40\n",
      "5/5 [==============================] - 0s 4ms/step - loss: 0.0868 - accuracy: 0.0000e+00\n",
      "Epoch 7/40\n",
      "5/5 [==============================] - 0s 2ms/step - loss: 0.0859 - accuracy: 0.0000e+00\n",
      "Epoch 8/40\n",
      "5/5 [==============================] - 0s 2ms/step - loss: 0.0860 - accuracy: 0.0000e+00\n",
      "Epoch 9/40\n",
      "5/5 [==============================] - 0s 2ms/step - loss: 0.0861 - accuracy: 0.0000e+00\n",
      "Epoch 10/40\n",
      "5/5 [==============================] - 0s 2ms/step - loss: 0.0859 - accuracy: 0.0000e+00\n",
      "Epoch 11/40\n",
      "5/5 [==============================] - 0s 2ms/step - loss: 0.0871 - accuracy: 0.0000e+00\n",
      "Epoch 12/40\n",
      "5/5 [==============================] - 0s 2ms/step - loss: 0.0861 - accuracy: 0.0000e+00\n",
      "Epoch 13/40\n",
      "5/5 [==============================] - 0s 3ms/step - loss: 0.0851 - accuracy: 0.0000e+00\n",
      "Epoch 14/40\n",
      "5/5 [==============================] - 0s 2ms/step - loss: 0.0856 - accuracy: 0.0000e+00\n",
      "Epoch 15/40\n",
      "5/5 [==============================] - 0s 2ms/step - loss: 0.0874 - accuracy: 0.0000e+00\n",
      "Epoch 16/40\n",
      "5/5 [==============================] - 0s 2ms/step - loss: 0.0846 - accuracy: 0.0000e+00\n",
      "Epoch 17/40\n",
      "5/5 [==============================] - 0s 3ms/step - loss: 0.0859 - accuracy: 0.0000e+00\n",
      "Epoch 18/40\n",
      "5/5 [==============================] - 0s 2ms/step - loss: 0.0855 - accuracy: 0.0000e+00\n",
      "Epoch 19/40\n",
      "5/5 [==============================] - 0s 1ms/step - loss: 0.0858 - accuracy: 0.0000e+00\n",
      "Epoch 20/40\n",
      "5/5 [==============================] - 0s 1ms/step - loss: 0.0873 - accuracy: 0.0000e+00\n",
      "Epoch 21/40\n",
      "5/5 [==============================] - 0s 2ms/step - loss: 0.0870 - accuracy: 0.0000e+00\n",
      "Epoch 22/40\n",
      "5/5 [==============================] - 0s 2ms/step - loss: 0.0866 - accuracy: 0.0000e+00\n",
      "Epoch 23/40\n",
      "5/5 [==============================] - 0s 1ms/step - loss: 0.0850 - accuracy: 0.0000e+00\n",
      "Epoch 24/40\n",
      "5/5 [==============================] - 0s 2ms/step - loss: 0.0845 - accuracy: 0.0000e+00\n",
      "Epoch 25/40\n",
      "5/5 [==============================] - 0s 2ms/step - loss: 0.0870 - accuracy: 0.0000e+00\n",
      "Epoch 26/40\n",
      "5/5 [==============================] - 0s 2ms/step - loss: 0.0869 - accuracy: 0.0000e+00\n",
      "Epoch 27/40\n",
      "5/5 [==============================] - 0s 2ms/step - loss: 0.0866 - accuracy: 0.0000e+00\n",
      "Epoch 28/40\n",
      "5/5 [==============================] - 0s 2ms/step - loss: 0.0866 - accuracy: 0.0000e+00\n",
      "Epoch 29/40\n",
      "5/5 [==============================] - 0s 2ms/step - loss: 0.0856 - accuracy: 0.0000e+00\n",
      "Epoch 30/40\n",
      "5/5 [==============================] - 0s 2ms/step - loss: 0.0859 - accuracy: 0.0000e+00\n",
      "Epoch 31/40\n",
      "5/5 [==============================] - 0s 2ms/step - loss: 0.0861 - accuracy: 0.0000e+00\n",
      "Epoch 32/40\n",
      "5/5 [==============================] - 0s 2ms/step - loss: 0.0858 - accuracy: 0.0000e+00\n",
      "Epoch 33/40\n",
      "5/5 [==============================] - 0s 2ms/step - loss: 0.0859 - accuracy: 0.0000e+00\n",
      "Epoch 34/40\n",
      "5/5 [==============================] - 0s 2ms/step - loss: 0.0870 - accuracy: 0.0000e+00\n",
      "Epoch 35/40\n",
      "5/5 [==============================] - 0s 2ms/step - loss: 0.0862 - accuracy: 0.0000e+00\n",
      "Epoch 36/40\n",
      "5/5 [==============================] - 0s 1ms/step - loss: 0.0873 - accuracy: 0.0000e+00\n",
      "Epoch 37/40\n",
      "5/5 [==============================] - 0s 2ms/step - loss: 0.0860 - accuracy: 0.0000e+00\n",
      "Epoch 38/40\n",
      "5/5 [==============================] - 0s 2ms/step - loss: 0.0861 - accuracy: 0.0000e+00\n",
      "Epoch 39/40\n",
      "5/5 [==============================] - 0s 1ms/step - loss: 0.0857 - accuracy: 0.0000e+00\n",
      "Epoch 40/40\n",
      "5/5 [==============================] - 0s 2ms/step - loss: 0.0871 - accuracy: 0.0000e+00\n"
     ]
    },
    {
     "data": {
      "text/plain": [
       "<keras.callbacks.History at 0x1d895363e20>"
      ]
     },
     "execution_count": 16,
     "metadata": {},
     "output_type": "execute_result"
    }
   ],
   "source": [
    "#Calcul des poids par descente de gradient \n",
    "\n",
    "modele.fit(x_train,y_train, batch_size = 500, epochs = 40)"
   ]
  },
  {
   "cell_type": "code",
   "execution_count": 17,
   "id": "ff0ff541",
   "metadata": {},
   "outputs": [
    {
     "name": "stdout",
     "output_type": "stream",
     "text": [
      "Valeur de l'erreur sur les données de test (loss): 0.08323077112436295\n",
      "Précision sur les données de test (accuracy): 0.0\n"
     ]
    }
   ],
   "source": [
    "#Résultats \n",
    "\n",
    "resultat = modele.evaluate(x_test, y_test, verbose=0)\n",
    "print(\"Valeur de l'erreur sur les données de test (loss):\", resultat[0])\n",
    "print('Précision sur les données de test (accuracy):', resultat[1])"
   ]
  }
 ],
 "metadata": {
  "kernelspec": {
   "display_name": "Python 3",
   "language": "python",
   "name": "python3"
  },
  "language_info": {
   "codemirror_mode": {
    "name": "ipython",
    "version": 3
   },
   "file_extension": ".py",
   "mimetype": "text/x-python",
   "name": "python",
   "nbconvert_exporter": "python",
   "pygments_lexer": "ipython3",
   "version": "3.8.8"
  }
 },
 "nbformat": 4,
 "nbformat_minor": 5
}
