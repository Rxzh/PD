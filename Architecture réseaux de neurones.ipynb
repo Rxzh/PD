{
 "cells": [
  {
   "cell_type": "markdown",
   "id": "ce276f93",
   "metadata": {},
   "source": [
    "# Réseaux de neurones\n",
    "\n",
    "*http://exo7.emath.fr/cours/livre-deepmath.pdf* \n",
    "\n",
    "# 0. Chargement des modules et données"
   ]
  },
  {
   "cell_type": "code",
   "execution_count": 1,
   "id": "71668590",
   "metadata": {
    "scrolled": true
   },
   "outputs": [],
   "source": [
    "import pandas as pd \n",
    "import matplotlib.pyplot as plt\n",
    "import numpy as np\n",
    "import tensorflow as tf\n",
    "\n",
    "from tensorflow.keras import Input\n",
    "from tensorflow.keras.models import Sequential\n",
    "from tensorflow.keras.layers import Dense, Dropout\n",
    "from tensorflow.keras.optimizers import SGD\n",
    "from tensorflow import keras\n",
    "\n",
    "from sklearn import preprocessing, model_selection"
   ]
  },
  {
   "cell_type": "code",
   "execution_count": 2,
   "id": "424b9611",
   "metadata": {},
   "outputs": [],
   "source": [
    "df = pd.read_csv('market_data_pd.csv',sep=',')"
   ]
  },
  {
   "cell_type": "code",
   "execution_count": 3,
   "id": "b819567f",
   "metadata": {},
   "outputs": [],
   "source": [
    "df = df[df.PD_1y>0.0]\n",
    "df = df[df.PD_1y!=1.0]"
   ]
  },
  {
   "cell_type": "code",
   "execution_count": 4,
   "id": "d24a2ce0",
   "metadata": {},
   "outputs": [
    {
     "name": "stderr",
     "output_type": "stream",
     "text": [
      "<ipython-input-4-054a43615616>:6: SettingWithCopyWarning: \n",
      "A value is trying to be set on a copy of a slice from a DataFrame.\n",
      "Try using .loc[row_indexer,col_indexer] = value instead\n",
      "\n",
      "See the caveats in the documentation: https://pandas.pydata.org/pandas-docs/stable/user_guide/indexing.html#returning-a-view-versus-a-copy\n",
      "  df1['PD_1y'] = pd.read_csv('PD_1y.csv')['PD_1y']\n",
      "C:\\Users\\mathilde.binet\\Anaconda3\\lib\\site-packages\\pandas\\core\\frame.py:4524: SettingWithCopyWarning: \n",
      "A value is trying to be set on a copy of a slice from a DataFrame\n",
      "\n",
      "See the caveats in the documentation: https://pandas.pydata.org/pandas-docs/stable/user_guide/indexing.html#returning-a-view-versus-a-copy\n",
      "  return super().replace(\n"
     ]
    }
   ],
   "source": [
    "#RENSEIGNER LES RATIOS FINANCIERS / VARIABLES CONSIDEREES \n",
    "\n",
    "df1 = df[[\"Common Eqty / Tot Assets\",'Debt / Common Equity','BCLASS Level 3',\"TCE Ratio\",\"PD_1y\"]]\n",
    "\n",
    "\n",
    "df1['PD_1y'] = pd.read_csv('PD_1y.csv')['PD_1y']\n",
    "df1.replace(np.nan, 0.0,inplace=True)\n"
   ]
  },
  {
   "cell_type": "code",
   "execution_count": 5,
   "id": "a739dd3d",
   "metadata": {},
   "outputs": [
    {
     "data": {
      "text/html": [
       "<div>\n",
       "<style scoped>\n",
       "    .dataframe tbody tr th:only-of-type {\n",
       "        vertical-align: middle;\n",
       "    }\n",
       "\n",
       "    .dataframe tbody tr th {\n",
       "        vertical-align: top;\n",
       "    }\n",
       "\n",
       "    .dataframe thead th {\n",
       "        text-align: right;\n",
       "    }\n",
       "</style>\n",
       "<table border=\"1\" class=\"dataframe\">\n",
       "  <thead>\n",
       "    <tr style=\"text-align: right;\">\n",
       "      <th></th>\n",
       "      <th>Common Eqty / Tot Assets</th>\n",
       "      <th>Debt / Common Equity</th>\n",
       "      <th>BCLASS Level 3</th>\n",
       "      <th>TCE Ratio</th>\n",
       "      <th>PD_1y</th>\n",
       "    </tr>\n",
       "  </thead>\n",
       "  <tbody>\n",
       "    <tr>\n",
       "      <th>0</th>\n",
       "      <td>4.84431</td>\n",
       "      <td>684.499</td>\n",
       "      <td>Banking</td>\n",
       "      <td>4.45822</td>\n",
       "      <td>0.006788</td>\n",
       "    </tr>\n",
       "    <tr>\n",
       "      <th>1</th>\n",
       "      <td>17.15800</td>\n",
       "      <td>351.535</td>\n",
       "      <td>Consumer Cyclical</td>\n",
       "      <td>-171.02700</td>\n",
       "      <td>0.065377</td>\n",
       "    </tr>\n",
       "    <tr>\n",
       "      <th>2</th>\n",
       "      <td>17.15800</td>\n",
       "      <td>351.535</td>\n",
       "      <td>Consumer Cyclical</td>\n",
       "      <td>-171.02700</td>\n",
       "      <td>0.116526</td>\n",
       "    </tr>\n",
       "    <tr>\n",
       "      <th>3</th>\n",
       "      <td>19.24570</td>\n",
       "      <td>410.513</td>\n",
       "      <td>Basic Industry</td>\n",
       "      <td>0.00000</td>\n",
       "      <td>0.014829</td>\n",
       "    </tr>\n",
       "    <tr>\n",
       "      <th>4</th>\n",
       "      <td>19.24570</td>\n",
       "      <td>410.513</td>\n",
       "      <td>Basic Industry</td>\n",
       "      <td>0.00000</td>\n",
       "      <td>0.009303</td>\n",
       "    </tr>\n",
       "  </tbody>\n",
       "</table>\n",
       "</div>"
      ],
      "text/plain": [
       "   Common Eqty / Tot Assets  Debt / Common Equity     BCLASS Level 3  \\\n",
       "0                   4.84431               684.499            Banking   \n",
       "1                  17.15800               351.535  Consumer Cyclical   \n",
       "2                  17.15800               351.535  Consumer Cyclical   \n",
       "3                  19.24570               410.513     Basic Industry   \n",
       "4                  19.24570               410.513     Basic Industry   \n",
       "\n",
       "   TCE Ratio     PD_1y  \n",
       "0    4.45822  0.006788  \n",
       "1 -171.02700  0.065377  \n",
       "2 -171.02700  0.116526  \n",
       "3    0.00000  0.014829  \n",
       "4    0.00000  0.009303  "
      ]
     },
     "execution_count": 5,
     "metadata": {},
     "output_type": "execute_result"
    }
   ],
   "source": [
    "#df1 = df1.dropna(how = 'any') \n",
    "df1.head()"
   ]
  },
  {
   "cell_type": "code",
   "execution_count": 6,
   "id": "f447db87",
   "metadata": {},
   "outputs": [
    {
     "data": {
      "text/plain": [
       "(549, 5)"
      ]
     },
     "execution_count": 6,
     "metadata": {},
     "output_type": "execute_result"
    }
   ],
   "source": [
    "df1.shape"
   ]
  },
  {
   "cell_type": "markdown",
   "id": "4443263a",
   "metadata": {},
   "source": [
    "# 1. Préparation des données"
   ]
  },
  {
   "cell_type": "markdown",
   "id": "60f6da7d",
   "metadata": {},
   "source": [
    "Nous commencerons par séparer les données non étiquietées des étiquettes, les étiquettes se trouvent dans l'array `y_full` et le reste des données dans `X_full`"
   ]
  },
  {
   "cell_type": "code",
   "execution_count": 7,
   "id": "e6b6aa5c",
   "metadata": {},
   "outputs": [],
   "source": [
    "X_full = np.array(df1.drop(columns=['PD_1y']))\n",
    "y_full = np.array(df1['PD_1y'])"
   ]
  },
  {
   "cell_type": "markdown",
   "id": "fb9284ed",
   "metadata": {},
   "source": [
    "La prochaine étape consiste à séparer les features continues des features discrètes, cela sera utile car leurs traitements seront différent"
   ]
  },
  {
   "cell_type": "code",
   "execution_count": 8,
   "id": "69f92869",
   "metadata": {},
   "outputs": [],
   "source": [
    "features = list(df1.drop(columns=['PD_1y']).columns)\n",
    "\n",
    "discrete_features = ['BCLASS Level {}'.format(i) for i in range(3,4)]\n",
    "continuous_features = [s for s in features if not s in discrete_features]\n",
    "\n",
    "\n",
    "continuous_features_idx = [features.index(feat_name) for feat_name in continuous_features]\n",
    "discrete_features_idx = [features.index(feat_name) for feat_name in discrete_features]"
   ]
  },
  {
   "cell_type": "markdown",
   "id": "072b93c1",
   "metadata": {},
   "source": [
    "## a. Statistiques descriptives"
   ]
  },
  {
   "cell_type": "code",
   "execution_count": 9,
   "id": "a10b0a6f",
   "metadata": {},
   "outputs": [
    {
     "data": {
      "image/png": "[encoded data removed]",
      "text/plain": [
       "<Figure size 1008x720 with 3 Axes>"
      ]
     },
     "metadata": {
      "needs_background": "light"
     },
     "output_type": "display_data"
    }
   ],
   "source": [
    "fig = plt.figure(figsize=(14,10))\n",
    "\n",
    "# Histograms for continuous features\n",
    "for (plot_idx, feat_idx) in enumerate(continuous_features_idx):\n",
    "    # create a subplot in the (plot_idx+1) position of a 2x2 grid\n",
    "    ax = fig.add_subplot(4, 2, (plot_idx+1))\n",
    "    # plot the histogram of feat_idx\n",
    "    h = ax.hist(X_full[:, feat_idx], bins=30, edgecolor='black')\n",
    "    # use the name of the feature as a title for each histogram\n",
    "    ax.set_title(features[feat_idx])\n",
    "# espacement entre les subplots\n",
    "fig.tight_layout(pad=0.1)"
   ]
  },
  {
   "cell_type": "code",
   "execution_count": 10,
   "id": "7fb4190e",
   "metadata": {
    "scrolled": true
   },
   "outputs": [
    {
     "data": {
      "image/png": "[encoded data removed]",
      "text/plain": [
       "<Figure size 1296x1008 with 1 Axes>"
      ]
     },
     "metadata": {
      "needs_background": "light"
     },
     "output_type": "display_data"
    }
   ],
   "source": [
    "# Bar plots for discrete features\n",
    "fig = plt.figure(figsize=(18, 14))\n",
    "\n",
    "for (plot_idx, feat_idx) in enumerate(discrete_features_idx):\n",
    "    # create a subplot in the (plot_idx+1) position of a 1x3 grid\n",
    "    ax = fig.add_subplot(3, 1, (plot_idx+1))\n",
    "\n",
    "    feature_values = np.unique(X_full[:, feat_idx])\n",
    "    frequencies = [(float(len(np.where(X_full[:, feat_idx]==value)[0]))/X_full.shape[0]) \\\n",
    "                   for value in feature_values]\n",
    "    \n",
    "    b = ax.bar(range(len(feature_values)), frequencies, width=0.8, \n",
    "               tick_label=list([n for n in feature_values]))\n",
    "    \n",
    "    \n",
    "    # use the name of the feature as a title for each histogram\n",
    "    ax.set_title(features[feat_idx])\n",
    "fig.tight_layout(pad=0.35)"
   ]
  },
  {
   "cell_type": "markdown",
   "id": "716bfca9",
   "metadata": {},
   "source": [
    "## b. Traitement des données"
   ]
  },
  {
   "cell_type": "markdown",
   "id": "669c1eca",
   "metadata": {},
   "source": [
    "### Première version de traitement des données (beug sur subtilité bases de train/test)"
   ]
  },
  {
   "cell_type": "code",
   "execution_count": 15,
   "id": "c0753476",
   "metadata": {},
   "outputs": [],
   "source": [
    "def traitement(X):\n",
    "    \n",
    "    ohe = preprocessing.OneHotEncoder(categories='auto',sparse=False)\n",
    "    \n",
    "    std_scaler = preprocessing.StandardScaler().fit(X[:,continuous_features_idx])\n",
    "    X_continuous_scaled = std_scaler.transform(X[:,continuous_features_idx])\n",
    "    \n",
    "    X_processed = np.hstack((ohe.fit_transform(X[:,discrete_features_idx]), X_continuous_scaled))\n",
    "    \n",
    "    return X_processed\n",
    "\n"
   ]
  },
  {
   "cell_type": "code",
   "execution_count": 16,
   "id": "53b8521b",
   "metadata": {},
   "outputs": [],
   "source": [
    "X_processed = traitement(X_full)\n",
    "\n",
    "X_train, X_test, y_train, y_test = model_selection.train_test_split(X_processed, y_full, test_size=0.10,\n",
    "                                                                    #stratify=y_full, # stratification\n",
    "                                                                    random_state=92)"
   ]
  },
  {
   "cell_type": "code",
   "execution_count": 17,
   "id": "456580a0",
   "metadata": {},
   "outputs": [
    {
     "data": {
      "text/plain": [
       "(494, 25)"
      ]
     },
     "execution_count": 17,
     "metadata": {},
     "output_type": "execute_result"
    }
   ],
   "source": [
    "X_train.shape"
   ]
  },
  {
   "cell_type": "markdown",
   "id": "a8830a0d",
   "metadata": {},
   "source": [
    "### Version corrigée (à rechercker)"
   ]
  },
  {
   "cell_type": "markdown",
   "id": "02c6d645",
   "metadata": {},
   "source": [
    "Séparation en base de test / train. Besoin de distinguer les cas selon le type de variables : \n",
    "\n",
    "$-$ variables quali : les binariser avant de séparer en test et train afin d'avoir des colonnes pour toutes les modalités existantes dans le dataset. \n",
    "\n",
    "$-$ variable quanti : il faut les standariser en fonction de la base de train, càd : on entraîne la standardisation QUE sur la base de train, puis on applique les coefficients à la base de test également. Important, **sinon notre base de train dépend de la base de test**."
   ]
  },
  {
   "cell_type": "markdown",
   "id": "53f73960",
   "metadata": {},
   "source": [
    "*Transformation des qualis*"
   ]
  },
  {
   "cell_type": "code",
   "execution_count": 11,
   "id": "14d8ce09",
   "metadata": {},
   "outputs": [],
   "source": [
    "def traitement_quali(X):\n",
    "    \n",
    "    ohe = preprocessing.OneHotEncoder(categories='auto',sparse=False)\n",
    "    \n",
    "    X_processed = np.hstack((ohe.fit_transform(X[:,discrete_features_idx]), X[:,continuous_features_idx]))\n",
    "    \n",
    "    return X_processed"
   ]
  },
  {
   "cell_type": "code",
   "execution_count": 12,
   "id": "82c80800",
   "metadata": {},
   "outputs": [],
   "source": [
    "nbvar_avant = len(X_full[0])\n",
    "\n",
    "X_full = traitement_quali(X_full)\n",
    "\n",
    "nbvar_après = len(X_full[0])\n",
    "nb_quali = nbvar_après - nbvar_avant + len(discrete_features_idx)"
   ]
  },
  {
   "cell_type": "code",
   "execution_count": 13,
   "id": "8d5da5bf",
   "metadata": {},
   "outputs": [
    {
     "data": {
      "text/plain": [
       "22"
      ]
     },
     "execution_count": 13,
     "metadata": {},
     "output_type": "execute_result"
    }
   ],
   "source": [
    "nb_quali"
   ]
  },
  {
   "cell_type": "markdown",
   "id": "6d1252f3",
   "metadata": {},
   "source": [
    "*Séparation test et train*"
   ]
  },
  {
   "cell_type": "code",
   "execution_count": 14,
   "id": "a2e3069c",
   "metadata": {},
   "outputs": [],
   "source": [
    "X_train, X_test, y_train, y_test = model_selection.train_test_split(X_full, y_full, test_size=0.20,\n",
    "                                                                    #stratify=y_full, # stratification\n",
    "                                                                    random_state=92)"
   ]
  },
  {
   "cell_type": "markdown",
   "id": "deed9e20",
   "metadata": {},
   "source": [
    "*Transformation des quantis*"
   ]
  },
  {
   "cell_type": "code",
   "execution_count": 15,
   "id": "66b29eb9",
   "metadata": {},
   "outputs": [],
   "source": [
    "from sklearn.preprocessing import StandardScaler \n",
    "\n",
    "scaler = StandardScaler()\n",
    "\n",
    "scaler.fit(X_train[:,continuous_features_idx])\n",
    "StandardScaler(copy = True, with_mean = True, with_std = True)\n",
    "\n",
    "X_train_quanti = scaler.transform(X_train[:,continuous_features_idx])"
   ]
  },
  {
   "cell_type": "code",
   "execution_count": 16,
   "id": "1f0f6fc8",
   "metadata": {},
   "outputs": [],
   "source": [
    "x_3quali = pd.DataFrame(X_train_quanti)\n",
    "x_3quanti = pd.DataFrame(X_train[:,:nb_quali])\n",
    "x_3quali = x_3quali.reset_index()\n",
    "x_3quanti = x_3quanti.reset_index()\n",
    "x_3quali = x_3quali.apply(pd.to_numeric)\n",
    "x_3quanti = x_3quanti.apply(pd.to_numeric)\n",
    "X_train = pd.merge(x_3quanti, x_3quali, how='inner', on=\"index\")\n",
    "X_train = X_train.drop(columns = ['index']) \n",
    "\n",
    "X_train = np.array(X_train)"
   ]
  },
  {
   "cell_type": "code",
   "execution_count": 17,
   "id": "787d65d8",
   "metadata": {},
   "outputs": [],
   "source": [
    "X_test_quanti = scaler.transform(X_test[:,continuous_features_idx])\n",
    "\n",
    "x_4quali = pd.DataFrame(X_test_quanti)\n",
    "x_4quanti = pd.DataFrame(X_test[:,:nb_quali])\n",
    "x_4quali = x_4quali.apply(pd.to_numeric)\n",
    "x_4quanti = x_4quanti.apply(pd.to_numeric)\n",
    "x_4quali = x_4quali.reset_index()\n",
    "x_4quanti = x_4quanti.reset_index()\n",
    "X_test = pd.merge(x_4quanti, x_4quali, how='inner', on=\"index\")\n",
    "X_test = X_test.drop(columns = ['index']) \n",
    "\n",
    "X_test = np.array(X_test)"
   ]
  },
  {
   "cell_type": "markdown",
   "id": "d5b16392",
   "metadata": {},
   "source": [
    "# II. Réseaux de neurones : prédiction de la PD\n",
    "\n",
    "## a. Implémentation du modèle"
   ]
  },
  {
   "cell_type": "code",
   "execution_count": 16,
   "id": "f5c0a4ef",
   "metadata": {},
   "outputs": [],
   "source": [
    "#RESEAUX DE NEURONES \n",
    "#http://eric.univ-lyon2.fr/~ricco/tanagra/fichiers/fr_Tanagra_Packages_Python_for_Deep_Learning.pdf\n",
    "\n",
    "#Explications très bien dans ce document : \n",
    "\n",
    "#http://exo7.emath.fr/cours/livre-deepmath.pdf \n",
    "\n",
    "#très bon document (parties Python, keras avec les codes et explications)"
   ]
  },
  {
   "cell_type": "code",
   "execution_count": 18,
   "id": "4183df83",
   "metadata": {},
   "outputs": [],
   "source": [
    "model = Sequential()\n",
    "model.add(Dense(units=6,input_dim=25,activation=\"sigmoid\")) #6 is good\n",
    "model.add(Dense(units=2))\n",
    "model.add(Dense(units=1,activation=\"sigmoid\"))\n",
    "#modele.add(Dropout(0.3))\n",
    "learning_rate = 0.10\n",
    "\n",
    "sgd = SGD(learning_rate)\n",
    "\n",
    "#dim première couche = nombre de variables du df "
   ]
  },
  {
   "cell_type": "markdown",
   "id": "a80563ff",
   "metadata": {},
   "source": [
    "**Fonction sigmoïde :** continue et à valeurs dans [0,1] (comme les probabilités de défaut). Régression logit. "
   ]
  },
  {
   "cell_type": "code",
   "execution_count": 19,
   "id": "a6863a63",
   "metadata": {},
   "outputs": [],
   "source": [
    "#modele.compile(loss='mean_squared_error',optimizer=sgd,metrics=[tf.keras.metrics.MeanSquaredError()])\n",
    "#optimizer = sgd\n",
    "model.compile(loss='mean_squared_error',optimizer='adam',metrics=[tf.keras.metrics.MeanSquaredError()])"
   ]
  },
  {
   "cell_type": "code",
   "execution_count": 20,
   "id": "fd92a0be",
   "metadata": {},
   "outputs": [
    {
     "name": "stdout",
     "output_type": "stream",
     "text": [
      "Model: \"sequential\"\n",
      "_________________________________________________________________\n",
      "Layer (type)                 Output Shape              Param #   \n",
      "=================================================================\n",
      "dense (Dense)                (None, 6)                 156       \n",
      "_________________________________________________________________\n",
      "dense_1 (Dense)              (None, 2)                 14        \n",
      "_________________________________________________________________\n",
      "dense_2 (Dense)              (None, 1)                 3         \n",
      "=================================================================\n",
      "Total params: 173\n",
      "Trainable params: 173\n",
      "Non-trainable params: 0\n",
      "_________________________________________________________________\n",
      "None\n"
     ]
    }
   ],
   "source": [
    "print(model.summary())"
   ]
  },
  {
   "cell_type": "code",
   "execution_count": 21,
   "id": "5b8baae3",
   "metadata": {},
   "outputs": [
    {
     "name": "stdout",
     "output_type": "stream",
     "text": [
      "Epoch 1/50\n",
      "40/40 [==============================] - 1s 8ms/step - loss: 0.3692 - mean_squared_error: 0.3692 - val_loss: 0.3229 - val_mean_squared_error: 0.3229\n",
      "Epoch 2/50\n",
      "40/40 [==============================] - 0s 3ms/step - loss: 0.2919 - mean_squared_error: 0.2919 - val_loss: 0.2566 - val_mean_squared_error: 0.2566\n",
      "Epoch 3/50\n",
      "40/40 [==============================] - 0s 3ms/step - loss: 0.2315 - mean_squared_error: 0.2315 - val_loss: 0.2042 - val_mean_squared_error: 0.2042\n",
      "Epoch 4/50\n",
      "40/40 [==============================] - 0s 3ms/step - loss: 0.1825 - mean_squared_error: 0.1825 - val_loss: 0.1608 - val_mean_squared_error: 0.1608\n",
      "Epoch 5/50\n",
      "40/40 [==============================] - 0s 2ms/step - loss: 0.1412 - mean_squared_error: 0.1412 - val_loss: 0.1237 - val_mean_squared_error: 0.1237\n",
      "Epoch 6/50\n",
      "40/40 [==============================] - 0s 3ms/step - loss: 0.1057 - mean_squared_error: 0.1057 - val_loss: 0.0937 - val_mean_squared_error: 0.0937\n",
      "Epoch 7/50\n",
      "40/40 [==============================] - 0s 3ms/step - loss: 0.0790 - mean_squared_error: 0.0790 - val_loss: 0.0706 - val_mean_squared_error: 0.0706\n",
      "Epoch 8/50\n",
      "40/40 [==============================] - 0s 3ms/step - loss: 0.0574 - mean_squared_error: 0.0574 - val_loss: 0.0538 - val_mean_squared_error: 0.0538\n",
      "Epoch 9/50\n",
      "40/40 [==============================] - 0s 3ms/step - loss: 0.0421 - mean_squared_error: 0.0421 - val_loss: 0.0421 - val_mean_squared_error: 0.0421\n",
      "Epoch 10/50\n",
      "40/40 [==============================] - 0s 3ms/step - loss: 0.0313 - mean_squared_error: 0.0313 - val_loss: 0.0339 - val_mean_squared_error: 0.0339\n",
      "Epoch 11/50\n",
      "40/40 [==============================] - 0s 3ms/step - loss: 0.0241 - mean_squared_error: 0.0241 - val_loss: 0.0281 - val_mean_squared_error: 0.0281\n",
      "Epoch 12/50\n",
      "40/40 [==============================] - 0s 3ms/step - loss: 0.0183 - mean_squared_error: 0.0183 - val_loss: 0.0240 - val_mean_squared_error: 0.0240\n",
      "Epoch 13/50\n",
      "40/40 [==============================] - 0s 3ms/step - loss: 0.0147 - mean_squared_error: 0.0147 - val_loss: 0.0211 - val_mean_squared_error: 0.0211\n",
      "Epoch 14/50\n",
      "40/40 [==============================] - 0s 3ms/step - loss: 0.0116 - mean_squared_error: 0.0116 - val_loss: 0.0190 - val_mean_squared_error: 0.0190\n",
      "Epoch 15/50\n",
      "40/40 [==============================] - 0s 3ms/step - loss: 0.0096 - mean_squared_error: 0.0096 - val_loss: 0.0174 - val_mean_squared_error: 0.0174\n",
      "Epoch 16/50\n",
      "40/40 [==============================] - 0s 3ms/step - loss: 0.0080 - mean_squared_error: 0.0080 - val_loss: 0.0162 - val_mean_squared_error: 0.0162\n",
      "Epoch 17/50\n",
      "40/40 [==============================] - 0s 3ms/step - loss: 0.0067 - mean_squared_error: 0.0067 - val_loss: 0.0153 - val_mean_squared_error: 0.0153\n",
      "Epoch 18/50\n",
      "40/40 [==============================] - 0s 3ms/step - loss: 0.0056 - mean_squared_error: 0.0056 - val_loss: 0.0146 - val_mean_squared_error: 0.0146\n",
      "Epoch 19/50\n",
      "40/40 [==============================] - 0s 3ms/step - loss: 0.0050 - mean_squared_error: 0.0050 - val_loss: 0.0140 - val_mean_squared_error: 0.0140\n",
      "Epoch 20/50\n",
      "40/40 [==============================] - 0s 3ms/step - loss: 0.0044 - mean_squared_error: 0.0044 - val_loss: 0.0136 - val_mean_squared_error: 0.0136\n",
      "Epoch 21/50\n",
      "40/40 [==============================] - 0s 3ms/step - loss: 0.0038 - mean_squared_error: 0.0038 - val_loss: 0.0133 - val_mean_squared_error: 0.0133\n",
      "Epoch 22/50\n",
      "40/40 [==============================] - 0s 3ms/step - loss: 0.0033 - mean_squared_error: 0.0033 - val_loss: 0.0130 - val_mean_squared_error: 0.0130\n",
      "Epoch 23/50\n",
      "40/40 [==============================] - 0s 3ms/step - loss: 0.0032 - mean_squared_error: 0.0032 - val_loss: 0.0127 - val_mean_squared_error: 0.0127\n",
      "Epoch 24/50\n",
      "40/40 [==============================] - 0s 3ms/step - loss: 0.0028 - mean_squared_error: 0.0028 - val_loss: 0.0126 - val_mean_squared_error: 0.0126\n",
      "Epoch 25/50\n",
      "40/40 [==============================] - 0s 3ms/step - loss: 0.0025 - mean_squared_error: 0.0025 - val_loss: 0.0124 - val_mean_squared_error: 0.0124\n",
      "Epoch 26/50\n",
      "40/40 [==============================] - 0s 3ms/step - loss: 0.0023 - mean_squared_error: 0.0023 - val_loss: 0.0123 - val_mean_squared_error: 0.0123\n",
      "Epoch 27/50\n",
      "40/40 [==============================] - 0s 3ms/step - loss: 0.0022 - mean_squared_error: 0.0022 - val_loss: 0.0122 - val_mean_squared_error: 0.0122\n",
      "Epoch 28/50\n",
      "40/40 [==============================] - 0s 3ms/step - loss: 0.0020 - mean_squared_error: 0.0020 - val_loss: 0.0121 - val_mean_squared_error: 0.0121\n",
      "Epoch 29/50\n",
      "40/40 [==============================] - 0s 3ms/step - loss: 0.0018 - mean_squared_error: 0.0018 - val_loss: 0.0120 - val_mean_squared_error: 0.0120\n",
      "Epoch 30/50\n",
      "40/40 [==============================] - 0s 3ms/step - loss: 0.0017 - mean_squared_error: 0.0017 - val_loss: 0.0119 - val_mean_squared_error: 0.0119\n",
      "Epoch 31/50\n",
      "40/40 [==============================] - 0s 3ms/step - loss: 0.0017 - mean_squared_error: 0.0017 - val_loss: 0.0119 - val_mean_squared_error: 0.0119\n",
      "Epoch 32/50\n",
      "40/40 [==============================] - 0s 3ms/step - loss: 0.0015 - mean_squared_error: 0.0015 - val_loss: 0.0118 - val_mean_squared_error: 0.0118\n",
      "Epoch 33/50\n",
      "40/40 [==============================] - 0s 3ms/step - loss: 0.0015 - mean_squared_error: 0.0015 - val_loss: 0.0118 - val_mean_squared_error: 0.0118\n",
      "Epoch 34/50\n",
      " 1/40 [..............................] - ETA: 0s - loss: 0.0010 - mean_squared_error: 0.0010WARNING:tensorflow:Your input ran out of data; interrupting training. Make sure that your dataset or generator can generate at least `steps_per_epoch * epochs` batches (in this case, 2000 batches). You may need to use the repeat() function when building your dataset.\n",
      "40/40 [==============================] - 0s 3ms/step - loss: 0.0014 - mean_squared_error: 0.0014 - val_loss: 0.0118 - val_mean_squared_error: 0.0118\n",
      "4/4 [==============================] - 0s 3ms/step - loss: 0.0011 - mean_squared_error: 0.0011\n",
      "The final loss on the TEST set is: 0.00.\n",
      "The final mean_squared_error on the TEST set is: 0.00.\n"
     ]
    },
    {
     "data": {
      "image/png": "[encoded data removed]",
      "text/plain": [
       "<Figure size 432x288 with 1 Axes>"
      ]
     },
     "metadata": {
      "needs_background": "light"
     },
     "output_type": "display_data"
    }
   ],
   "source": [
    "history = model.fit(X_train, y_train,         # Train the model using the training set...\n",
    "          batch_size=10, epochs=50,\n",
    "          verbose=1, validation_split=0.4,steps_per_epoch=40)           # ...holding out 40% of the data for validation\n",
    "\n",
    "# --------------------------------------\n",
    "# Evaluation\n",
    "# --------------------------------------\n",
    "for loss_name, loss_value in list(zip(model.metrics_names, model.evaluate(X_test, y_test, verbose=1))):\n",
    "    print('The final {} on the TEST set is: {:.2f}.'.format(loss_name, loss_value)) # Evaluate the trained model on the test set!\n",
    "\n",
    "    \n",
    "import matplotlib.pyplot as plt\n",
    "\n",
    "# --------------------------------------\n",
    "# Loss functions evolution\n",
    "# --------------------------------------\n",
    "plt.plot(history.history['loss'])\n",
    "plt.plot(history.history['val_loss'])\n",
    "plt.title('Model loss by epoch')\n",
    "plt.ylabel('loss')\n",
    "plt.xlabel('epoch')\n",
    "plt.legend(['train', 'valid'], loc='right')\n",
    "plt.show()"
   ]
  },
  {
   "cell_type": "code",
   "execution_count": 22,
   "id": "29d11d64",
   "metadata": {},
   "outputs": [
    {
     "name": "stdout",
     "output_type": "stream",
     "text": [
      "4/4 [==============================] - 0s 2ms/step - loss: 0.0011 - mean_squared_error: 0.0011\n",
      "Valeur de l'erreur sur les données de test (loss): 0.0011322676436975598\n",
      "Précision sur les données de test (MSE): 0.0011322676436975598\n"
     ]
    }
   ],
   "source": [
    "#Résultats \n",
    "\n",
    "resultat = model.evaluate(X_test, y_test, verbose=1)\n",
    "print(\"Valeur de l'erreur sur les données de test (loss):\", resultat[0])\n",
    "print('Précision sur les données de test (MSE):', resultat[1])"
   ]
  },
  {
   "cell_type": "markdown",
   "id": "9ee8048d",
   "metadata": {},
   "source": [
    "## b. Observation des résultats "
   ]
  },
  {
   "cell_type": "code",
   "execution_count": 23,
   "id": "87c04e4e",
   "metadata": {},
   "outputs": [],
   "source": [
    "def ecart_relatif(row) : \n",
    "    théo = row['Théorique']\n",
    "    préd = row['Prédiction']\n",
    "    return abs(théo - préd) / théo"
   ]
  },
  {
   "cell_type": "code",
   "execution_count": 24,
   "id": "41017dc0",
   "metadata": {},
   "outputs": [
    {
     "name": "stderr",
     "output_type": "stream",
     "text": [
      "<ipython-input-23-4a18010dd972>:4: RuntimeWarning: divide by zero encountered in double_scalars\n",
      "  return abs(théo - préd) / théo\n"
     ]
    }
   ],
   "source": [
    "prediction = pd.DataFrame(data= model.predict(X_test) ,columns=['Prédiction'])\n",
    "théorique = pd.DataFrame(data= y_test ,columns=['Théorique'])\n",
    "prediction, théorique = prediction.reset_index() , théorique.reset_index()\n",
    "\n",
    "results = pd.merge(théorique, prediction, on = 'index').drop(columns=['index'])\n",
    "results[\"Ecart_relatif\"] = results.apply(ecart_relatif,axis=1)"
   ]
  },
  {
   "cell_type": "code",
   "execution_count": 25,
   "id": "730210eb",
   "metadata": {},
   "outputs": [],
   "source": [
    "results.replace(np.inf, 0.0,inplace=True)"
   ]
  },
  {
   "cell_type": "code",
   "execution_count": 26,
   "id": "1a8b8c9e",
   "metadata": {},
   "outputs": [
    {
     "data": {
      "text/html": [
       "<div>\n",
       "<style scoped>\n",
       "    .dataframe tbody tr th:only-of-type {\n",
       "        vertical-align: middle;\n",
       "    }\n",
       "\n",
       "    .dataframe tbody tr th {\n",
       "        vertical-align: top;\n",
       "    }\n",
       "\n",
       "    .dataframe thead th {\n",
       "        text-align: right;\n",
       "    }\n",
       "</style>\n",
       "<table border=\"1\" class=\"dataframe\">\n",
       "  <thead>\n",
       "    <tr style=\"text-align: right;\">\n",
       "      <th></th>\n",
       "      <th>Théorique</th>\n",
       "      <th>Prédiction</th>\n",
       "      <th>Ecart_relatif</th>\n",
       "    </tr>\n",
       "  </thead>\n",
       "  <tbody>\n",
       "    <tr>\n",
       "      <th>0</th>\n",
       "      <td>0.001887</td>\n",
       "      <td>0.045909</td>\n",
       "      <td>23.335298</td>\n",
       "    </tr>\n",
       "    <tr>\n",
       "      <th>1</th>\n",
       "      <td>0.060525</td>\n",
       "      <td>0.044402</td>\n",
       "      <td>0.266384</td>\n",
       "    </tr>\n",
       "    <tr>\n",
       "      <th>2</th>\n",
       "      <td>0.005515</td>\n",
       "      <td>0.039607</td>\n",
       "      <td>6.181250</td>\n",
       "    </tr>\n",
       "    <tr>\n",
       "      <th>3</th>\n",
       "      <td>0.013885</td>\n",
       "      <td>0.048804</td>\n",
       "      <td>2.514814</td>\n",
       "    </tr>\n",
       "    <tr>\n",
       "      <th>4</th>\n",
       "      <td>0.002858</td>\n",
       "      <td>0.064471</td>\n",
       "      <td>21.559225</td>\n",
       "    </tr>\n",
       "    <tr>\n",
       "      <th>...</th>\n",
       "      <td>...</td>\n",
       "      <td>...</td>\n",
       "      <td>...</td>\n",
       "    </tr>\n",
       "    <tr>\n",
       "      <th>105</th>\n",
       "      <td>0.040653</td>\n",
       "      <td>0.044402</td>\n",
       "      <td>0.092215</td>\n",
       "    </tr>\n",
       "    <tr>\n",
       "      <th>106</th>\n",
       "      <td>0.012875</td>\n",
       "      <td>0.046116</td>\n",
       "      <td>2.581839</td>\n",
       "    </tr>\n",
       "    <tr>\n",
       "      <th>107</th>\n",
       "      <td>0.129664</td>\n",
       "      <td>0.064471</td>\n",
       "      <td>0.502789</td>\n",
       "    </tr>\n",
       "    <tr>\n",
       "      <th>108</th>\n",
       "      <td>0.014909</td>\n",
       "      <td>0.046116</td>\n",
       "      <td>2.093100</td>\n",
       "    </tr>\n",
       "    <tr>\n",
       "      <th>109</th>\n",
       "      <td>0.008208</td>\n",
       "      <td>0.046805</td>\n",
       "      <td>4.702325</td>\n",
       "    </tr>\n",
       "  </tbody>\n",
       "</table>\n",
       "<p>110 rows × 3 columns</p>\n",
       "</div>"
      ],
      "text/plain": [
       "     Théorique  Prédiction  Ecart_relatif\n",
       "0     0.001887    0.045909      23.335298\n",
       "1     0.060525    0.044402       0.266384\n",
       "2     0.005515    0.039607       6.181250\n",
       "3     0.013885    0.048804       2.514814\n",
       "4     0.002858    0.064471      21.559225\n",
       "..         ...         ...            ...\n",
       "105   0.040653    0.044402       0.092215\n",
       "106   0.012875    0.046116       2.581839\n",
       "107   0.129664    0.064471       0.502789\n",
       "108   0.014909    0.046116       2.093100\n",
       "109   0.008208    0.046805       4.702325\n",
       "\n",
       "[110 rows x 3 columns]"
      ]
     },
     "execution_count": 26,
     "metadata": {},
     "output_type": "execute_result"
    }
   ],
   "source": [
    "results"
   ]
  },
  {
   "cell_type": "code",
   "execution_count": 28,
   "id": "f18ebdb5",
   "metadata": {},
   "outputs": [
    {
     "name": "stdout",
     "output_type": "stream",
     "text": [
      "L'écart relatif moyen est de 672.9779666619127%\n"
     ]
    }
   ],
   "source": [
    "print(\"L'écart relatif moyen est de \" + str(results[\"Ecart_relatif\"].mean() * 100) + \"%\")"
   ]
  },
  {
   "cell_type": "code",
   "execution_count": 29,
   "id": "b85a41d1",
   "metadata": {},
   "outputs": [],
   "source": [
    "results.sort_values('Ecart_relatif',inplace=True)"
   ]
  },
  {
   "cell_type": "code",
   "execution_count": 31,
   "id": "94a1a7f2",
   "metadata": {},
   "outputs": [],
   "source": [
    "#results"
   ]
  },
  {
   "cell_type": "code",
   "execution_count": 30,
   "id": "d67b7163",
   "metadata": {},
   "outputs": [
    {
     "data": {
      "text/plain": [
       "(-0.01, 0.1)"
      ]
     },
     "execution_count": 30,
     "metadata": {},
     "output_type": "execute_result"
    },
    {
     "data": {
      "image/png": "[encoded data removed]",
      "text/plain": [
       "<Figure size 432x288 with 1 Axes>"
      ]
     },
     "metadata": {
      "needs_background": "light"
     },
     "output_type": "display_data"
    }
   ],
   "source": [
    "results.plot.scatter(\"Théorique\",\"Prédiction\")\n",
    "plt.xlim(-.01,.1)\n",
    "plt.ylim(-.01,.1)"
   ]
  },
  {
   "cell_type": "markdown",
   "id": "311090de",
   "metadata": {},
   "source": [
    "---------------"
   ]
  },
  {
   "cell_type": "markdown",
   "id": "e2c05b91",
   "metadata": {},
   "source": [
    "# III. Réseaux de neurones : Test classification multi-classe"
   ]
  },
  {
   "cell_type": "code",
   "execution_count": 31,
   "id": "00295cc0",
   "metadata": {},
   "outputs": [],
   "source": [
    "df = pd.read_csv('market_data_pd.csv',sep=',')\n",
    "df = df[[\"Common Eqty / Tot Assets\",'Debt / Common Equity','BCLASS Level 3',\"PD_1y\",\"TCE Ratio\"]]\n",
    "df = df[df.PD_1y>0.0]\n",
    "df = df[df.PD_1y!=1.0]\n",
    "df = df[df.PD_1y<0.05]\n",
    "\n",
    "df['PD_1y'] = pd.read_csv('PD_1y.csv')['PD_1y']\n",
    "df.replace(np.nan, 0.0,inplace=True)"
   ]
  },
  {
   "cell_type": "markdown",
   "id": "bbe12183",
   "metadata": {},
   "source": [
    "## a. Classification des PD"
   ]
  },
  {
   "cell_type": "markdown",
   "id": "b4b31074",
   "metadata": {},
   "source": [
    "**Première version de traitement des données (beug sur subtilité bases de train/test)**"
   ]
  },
  {
   "cell_type": "code",
   "execution_count": null,
   "id": "c0c41d44",
   "metadata": {},
   "outputs": [],
   "source": [
    "#ATTENTION : CHANGEMENT A FAIRE \n",
    "#il faut paramétrer les algorithmes de classification seulement en utilisant la base de train. \n",
    "#et ensuite seulement, appliquer la classification sur la base de test \n",
    "\n",
    "#sinon, tu utilises une base normalement inconnue (la base de test) pour paramétrer ton algo. \n",
    "#(même si le changement est pas ouf, il faut inverser l'ordre dans lequel on fait ça)"
   ]
  },
  {
   "cell_type": "code",
   "execution_count": 56,
   "id": "ab0e6caf",
   "metadata": {},
   "outputs": [
    {
     "data": {
      "image/png": "[encoded data removed]",
      "text/plain": [
       "<Figure size 432x288 with 1 Axes>"
      ]
     },
     "metadata": {
      "needs_background": "light"
     },
     "output_type": "display_data"
    },
    {
     "data": {
      "image/png": "[encoded data removed]",
      "text/plain": [
       "<Figure size 432x288 with 1 Axes>"
      ]
     },
     "metadata": {
      "needs_background": "light"
     },
     "output_type": "display_data"
    }
   ],
   "source": [
    "from numpy.random import randn\n",
    "from sklearn.preprocessing import KBinsDiscretizer\n",
    "\n",
    "data = np.array(df['PD_1y'])\n",
    "# histogram of the raw data\n",
    "plt.hist(data, bins=35,edgecolor='black')\n",
    "plt.show()\n",
    "# reshape data to have rows and columns\n",
    "data = data.reshape((len(data),1))\n",
    "# discretization transform the raw data\n",
    "kbins = KBinsDiscretizer(n_bins=6, encode='ordinal', strategy='kmeans')\n",
    "data_trans = kbins.fit_transform(data)\n",
    "\n",
    "# summarize first few rows\n",
    "#print(data_trans[:10, :])\n",
    "# histogram of the transformed data\n",
    "plt.hist(data_trans, bins=6,edgecolor='black' )\n",
    "plt.show()"
   ]
  },
  {
   "cell_type": "code",
   "execution_count": 57,
   "id": "5dde6099",
   "metadata": {},
   "outputs": [],
   "source": [
    "df['PD_1y'] = data_trans"
   ]
  },
  {
   "cell_type": "code",
   "execution_count": 58,
   "id": "e78ff342",
   "metadata": {},
   "outputs": [],
   "source": [
    "X_full = np.array(df.drop(columns=['PD_1y']))\n",
    "y_full = np.array(df['PD_1y'])\n",
    "\n",
    "features = list(df.drop(columns=['PD_1y']).columns)\n",
    "\n",
    "discrete_features = ['BCLASS Level {}'.format(i) for i in range(3,4)]\n",
    "continuous_features = [s for s in features if not s in discrete_features]\n",
    "\n",
    "\n",
    "continuous_features_idx = [features.index(feat_name) for feat_name in continuous_features]\n",
    "discrete_features_idx = [features.index(feat_name) for feat_name in discrete_features]\n",
    "\n",
    "\n",
    "X_processed = traitement(X_full)\n",
    "X_train, X_test, y_train, y_test = model_selection.train_test_split(X_processed, y_full, test_size=0.30,\n",
    "                                                                    stratify=y_full, # stratification\n",
    "                                                                    random_state=92)"
   ]
  },
  {
   "cell_type": "markdown",
   "id": "f910f9cb",
   "metadata": {},
   "source": [
    "**Version corrigée (à rechercker)**"
   ]
  },
  {
   "cell_type": "code",
   "execution_count": 21,
   "id": "9209558e",
   "metadata": {},
   "outputs": [],
   "source": [
    "#Au départ : reprendre base de train et de test créées dans la partie I. \n",
    "#X_train, y_train, X_test, y_test"
   ]
  },
  {
   "cell_type": "code",
   "execution_count": 32,
   "id": "1f758b9f",
   "metadata": {},
   "outputs": [],
   "source": [
    "#à spécifier : le nombre de classes \n",
    "\n",
    "nb_class = 6"
   ]
  },
  {
   "cell_type": "code",
   "execution_count": 68,
   "id": "d7f94d9f",
   "metadata": {},
   "outputs": [
    {
     "data": {
      "image/png": "[encoded data removed]",
      "text/plain": [
       "<Figure size 432x288 with 1 Axes>"
      ]
     },
     "metadata": {
      "needs_background": "light"
     },
     "output_type": "display_data"
    }
   ],
   "source": [
    "#entraînement de l'algo de classification sur la base de train\n",
    "from numpy.random import randn\n",
    "from sklearn.preprocessing import KBinsDiscretizer\n",
    "\n",
    "y_train2 = y_train.reshape((len(y_train),1))\n",
    "\n",
    "kbins = KBinsDiscretizer(n_bins=nb_class, encode='ordinal', strategy='kmeans')\n",
    "y_train_class = kbins.fit_transform(y_train2)\n",
    "\n",
    "plt.hist(y_train_class, range = (0, nb_class), bins = nb_class, edgecolor='black' )\n",
    "plt.xlabel('Classes')\n",
    "plt.ylabel('Nombre de bonds')\n",
    "plt.title('Histogramme du nombre de bonds par classe - base de train')\n",
    "plt.show()"
   ]
  },
  {
   "cell_type": "code",
   "execution_count": 69,
   "id": "a5917a3a",
   "metadata": {},
   "outputs": [
    {
     "data": {
      "image/png": "[encoded data removed]",
      "text/plain": [
       "<Figure size 432x288 with 1 Axes>"
      ]
     },
     "metadata": {
      "needs_background": "light"
     },
     "output_type": "display_data"
    }
   ],
   "source": [
    "#application de l'algo à la base de train\n",
    "y_test2 = y_test.reshape((len(y_test),1))\n",
    "y_test_class = kbins.transform(y_test2)\n",
    "\n",
    "plt.hist(y_test_class, range = (0, nb_class), bins = nb_class, edgecolor='black' )\n",
    "plt.xlabel('Classes')\n",
    "plt.ylabel('Nombre de bonds')\n",
    "plt.title('Histogramme du nombre de bonds par classe - base de test')\n",
    "plt.show()"
   ]
  },
  {
   "cell_type": "markdown",
   "id": "650d0e17",
   "metadata": {},
   "source": [
    "## b. Implémentation du modèle"
   ]
  },
  {
   "cell_type": "code",
   "execution_count": 70,
   "id": "7c920bc6",
   "metadata": {},
   "outputs": [],
   "source": [
    "model = Sequential()\n",
    "model.add(Dense(units=6,input_dim=25)) #6 is good\n",
    "#model.add(Dense(units=2))\n",
    "model.add(Dense(units=6,activation=\"sigmoid\")) #output\n"
   ]
  },
  {
   "cell_type": "code",
   "execution_count": 71,
   "id": "f7eb7c1b",
   "metadata": {},
   "outputs": [],
   "source": [
    "model.compile(optimizer=keras.optimizers.Adam(),\n",
    "              loss=keras.losses.SparseCategoricalCrossentropy(from_logits=False), # default from_logits=False\n",
    "              metrics=[keras.metrics.SparseCategoricalAccuracy()])"
   ]
  },
  {
   "cell_type": "code",
   "execution_count": 629,
   "id": "fd76e752",
   "metadata": {},
   "outputs": [],
   "source": [
    "#model.fit(X_train,y_train,validation_split=0.4, epochs=40)"
   ]
  },
  {
   "cell_type": "code",
   "execution_count": 72,
   "id": "acf22580",
   "metadata": {},
   "outputs": [
    {
     "name": "stdout",
     "output_type": "stream",
     "text": [
      "Epoch 1/20\n",
      "20/20 [==============================] - 1s 11ms/step - loss: 1.7679 - sparse_categorical_accuracy: 0.1400 - val_loss: 1.7223 - val_sparse_categorical_accuracy: 0.0966\n",
      "Epoch 2/20\n",
      "20/20 [==============================] - 0s 4ms/step - loss: 1.7329 - sparse_categorical_accuracy: 0.1554 - val_loss: 1.6742 - val_sparse_categorical_accuracy: 0.1932\n",
      "Epoch 3/20\n",
      "20/20 [==============================] - 0s 4ms/step - loss: 1.6403 - sparse_categorical_accuracy: 0.2176 - val_loss: 1.6276 - val_sparse_categorical_accuracy: 0.4034\n",
      "Epoch 4/20\n",
      "20/20 [==============================] - 0s 4ms/step - loss: 1.6003 - sparse_categorical_accuracy: 0.4150 - val_loss: 1.5828 - val_sparse_categorical_accuracy: 0.4091\n",
      "Epoch 5/20\n",
      "20/20 [==============================] - 0s 4ms/step - loss: 1.5680 - sparse_categorical_accuracy: 0.5389 - val_loss: 1.5429 - val_sparse_categorical_accuracy: 0.5568\n",
      "Epoch 6/20\n",
      "20/20 [==============================] - 0s 3ms/step - loss: 1.5111 - sparse_categorical_accuracy: 0.5596 - val_loss: 1.5020 - val_sparse_categorical_accuracy: 0.5568\n",
      "Epoch 7/20\n",
      "20/20 [==============================] - 0s 3ms/step - loss: 1.4137 - sparse_categorical_accuracy: 0.6373 - val_loss: 1.4600 - val_sparse_categorical_accuracy: 0.5568\n",
      "Epoch 8/20\n",
      "20/20 [==============================] - 0s 4ms/step - loss: 1.4172 - sparse_categorical_accuracy: 0.6150 - val_loss: 1.4190 - val_sparse_categorical_accuracy: 0.5966\n",
      "Epoch 9/20\n",
      "20/20 [==============================] - 0s 4ms/step - loss: 1.3522 - sparse_categorical_accuracy: 0.6373 - val_loss: 1.3823 - val_sparse_categorical_accuracy: 0.5966\n",
      "Epoch 10/20\n",
      "20/20 [==============================] - 0s 4ms/step - loss: 1.3303 - sparse_categorical_accuracy: 0.6373 - val_loss: 1.3494 - val_sparse_categorical_accuracy: 0.6023\n",
      "Epoch 11/20\n",
      "20/20 [==============================] - 0s 3ms/step - loss: 1.3097 - sparse_categorical_accuracy: 0.6373 - val_loss: 1.3167 - val_sparse_categorical_accuracy: 0.6080\n",
      "Epoch 12/20\n",
      "20/20 [==============================] - 0s 4ms/step - loss: 1.2132 - sparse_categorical_accuracy: 0.6450 - val_loss: 1.2878 - val_sparse_categorical_accuracy: 0.6080\n",
      "Epoch 13/20\n",
      "20/20 [==============================] - 0s 5ms/step - loss: 1.2203 - sparse_categorical_accuracy: 0.6425 - val_loss: 1.2621 - val_sparse_categorical_accuracy: 0.6080\n",
      "Epoch 14/20\n",
      "20/20 [==============================] - 0s 4ms/step - loss: 1.1559 - sparse_categorical_accuracy: 0.6839 - val_loss: 1.2391 - val_sparse_categorical_accuracy: 0.5966\n",
      "Epoch 15/20\n",
      "20/20 [==============================] - 0s 4ms/step - loss: 1.1131 - sparse_categorical_accuracy: 0.6580 - val_loss: 1.2202 - val_sparse_categorical_accuracy: 0.5966\n",
      "Epoch 16/20\n",
      "20/20 [==============================] - 0s 4ms/step - loss: 1.1553 - sparse_categorical_accuracy: 0.6250 - val_loss: 1.2051 - val_sparse_categorical_accuracy: 0.5966\n",
      "Epoch 17/20\n",
      "20/20 [==============================] - 0s 5ms/step - loss: 1.0886 - sparse_categorical_accuracy: 0.6477 - val_loss: 1.1894 - val_sparse_categorical_accuracy: 0.5966\n",
      "Epoch 18/20\n",
      "20/20 [==============================] - 0s 4ms/step - loss: 1.0798 - sparse_categorical_accuracy: 0.6736 - val_loss: 1.1780 - val_sparse_categorical_accuracy: 0.5966\n",
      "Epoch 19/20\n",
      "20/20 [==============================] - 0s 4ms/step - loss: 1.0773 - sparse_categorical_accuracy: 0.6269 - val_loss: 1.1694 - val_sparse_categorical_accuracy: 0.5966\n",
      "Epoch 20/20\n",
      "20/20 [==============================] - 0s 5ms/step - loss: 1.0197 - sparse_categorical_accuracy: 0.6800 - val_loss: 1.1627 - val_sparse_categorical_accuracy: 0.5966\n"
     ]
    }
   ],
   "source": [
    "history = model.fit(X_train, y_train_class,         # Train the model using the training set...\n",
    "          batch_size=10, epochs=20,\n",
    "          verbose=1, validation_split=0.4,steps_per_epoch=20)  "
   ]
  },
  {
   "cell_type": "code",
   "execution_count": 73,
   "id": "0b95761d",
   "metadata": {},
   "outputs": [
    {
     "name": "stdout",
     "output_type": "stream",
     "text": [
      "4/4 [==============================] - 0s 9ms/step - loss: 1.2083 - sparse_categorical_accuracy: 0.5727\n",
      "The final loss on the TEST set is: 1.21.\n",
      "The final sparse_categorical_accuracy on the TEST set is: 0.57.\n"
     ]
    },
    {
     "data": {
      "image/png": "[encoded data removed]",
      "text/plain": [
       "<Figure size 432x288 with 1 Axes>"
      ]
     },
     "metadata": {
      "needs_background": "light"
     },
     "output_type": "display_data"
    }
   ],
   "source": [
    "# --------------------------------------\n",
    "# Evaluation\n",
    "# --------------------------------------\n",
    "for loss_name, loss_value in list(zip(model.metrics_names, model.evaluate(X_test, y_test_class, verbose=1))):\n",
    "    print('The final {} on the TEST set is: {:.2f}.'.format(loss_name, loss_value)) # Evaluate the trained model on the test set!\n",
    "\n",
    "# --------------------------------------\n",
    "# Loss functions evolution\n",
    "# --------------------------------------\n",
    "plt.plot(history.history['loss'])\n",
    "plt.plot(history.history['val_loss'])\n",
    "plt.title('Model loss by epoch')\n",
    "plt.ylabel('loss')\n",
    "plt.xlabel('epoch')\n",
    "plt.legend(['train', 'valid'], loc='right')\n",
    "plt.show()"
   ]
  },
  {
   "cell_type": "code",
   "execution_count": 74,
   "id": "61f48115",
   "metadata": {},
   "outputs": [],
   "source": [
    "y=model.predict(X_test)"
   ]
  },
  {
   "cell_type": "code",
   "execution_count": 75,
   "id": "7638c7a7",
   "metadata": {},
   "outputs": [
    {
     "data": {
      "text/plain": [
       "[0,\n",
       " 0,\n",
       " 0,\n",
       " 0,\n",
       " 0,\n",
       " 0,\n",
       " 0,\n",
       " 0,\n",
       " 0,\n",
       " 0,\n",
       " 0,\n",
       " 0,\n",
       " 0,\n",
       " 0,\n",
       " 0,\n",
       " 0,\n",
       " 0,\n",
       " 0,\n",
       " 0,\n",
       " 0,\n",
       " 0,\n",
       " 0,\n",
       " 0,\n",
       " 0,\n",
       " 0,\n",
       " 0,\n",
       " 0,\n",
       " 0,\n",
       " 0,\n",
       " 0,\n",
       " 0,\n",
       " 0,\n",
       " 0,\n",
       " 0,\n",
       " 0,\n",
       " 0,\n",
       " 0,\n",
       " 0,\n",
       " 0,\n",
       " 0,\n",
       " 0,\n",
       " 0,\n",
       " 0,\n",
       " 0,\n",
       " 0,\n",
       " 0,\n",
       " 0,\n",
       " 0,\n",
       " 0,\n",
       " 0,\n",
       " 0,\n",
       " 0,\n",
       " 0,\n",
       " 0,\n",
       " 0,\n",
       " 0,\n",
       " 0,\n",
       " 0,\n",
       " 0,\n",
       " 0,\n",
       " 0,\n",
       " 0,\n",
       " 0,\n",
       " 0,\n",
       " 0,\n",
       " 0,\n",
       " 0,\n",
       " 0,\n",
       " 0,\n",
       " 0,\n",
       " 0,\n",
       " 0,\n",
       " 0,\n",
       " 0,\n",
       " 0,\n",
       " 0,\n",
       " 0,\n",
       " 0,\n",
       " 0,\n",
       " 0,\n",
       " 0,\n",
       " 0,\n",
       " 0,\n",
       " 0,\n",
       " 0,\n",
       " 0,\n",
       " 0,\n",
       " 0,\n",
       " 0,\n",
       " 0,\n",
       " 0,\n",
       " 0,\n",
       " 0,\n",
       " 0,\n",
       " 0,\n",
       " 0,\n",
       " 0,\n",
       " 0,\n",
       " 0,\n",
       " 0,\n",
       " 0,\n",
       " 0,\n",
       " 0,\n",
       " 0,\n",
       " 0,\n",
       " 0,\n",
       " 0,\n",
       " 0,\n",
       " 0,\n",
       " 0]"
      ]
     },
     "execution_count": 75,
     "metadata": {},
     "output_type": "execute_result"
    }
   ],
   "source": [
    "y_predicted"
   ]
  },
  {
   "cell_type": "code",
   "execution_count": 59,
   "id": "e53efdef",
   "metadata": {},
   "outputs": [],
   "source": [
    "y_predicted = [np.argmax(pred) for pred in y]"
   ]
  },
  {
   "cell_type": "code",
   "execution_count": 77,
   "id": "0f2392a1",
   "metadata": {},
   "outputs": [
    {
     "name": "stdout",
     "output_type": "stream",
     "text": [
      "predicted:  0 | Actual Label:  0.0  True\n",
      "predicted:  0 | Actual Label:  2.0  False\n",
      "predicted:  0 | Actual Label:  0.0  True\n",
      "predicted:  0 | Actual Label:  0.0  True\n",
      "predicted:  0 | Actual Label:  0.0  True\n",
      "predicted:  0 | Actual Label:  2.0  False\n",
      "predicted:  0 | Actual Label:  1.0  False\n",
      "predicted:  0 | Actual Label:  0.0  True\n",
      "predicted:  0 | Actual Label:  1.0  False\n",
      "predicted:  0 | Actual Label:  0.0  True\n",
      "predicted:  0 | Actual Label:  1.0  False\n",
      "predicted:  0 | Actual Label:  1.0  False\n",
      "predicted:  0 | Actual Label:  0.0  True\n",
      "predicted:  0 | Actual Label:  1.0  False\n",
      "predicted:  0 | Actual Label:  1.0  False\n",
      "predicted:  0 | Actual Label:  0.0  True\n",
      "predicted:  0 | Actual Label:  0.0  True\n",
      "predicted:  0 | Actual Label:  1.0  False\n",
      "predicted:  0 | Actual Label:  1.0  False\n",
      "predicted:  0 | Actual Label:  2.0  False\n",
      "predicted:  0 | Actual Label:  0.0  True\n",
      "predicted:  0 | Actual Label:  0.0  True\n",
      "predicted:  0 | Actual Label:  2.0  False\n",
      "predicted:  0 | Actual Label:  1.0  False\n",
      "predicted:  0 | Actual Label:  3.0  False\n",
      "predicted:  0 | Actual Label:  0.0  True\n",
      "predicted:  0 | Actual Label:  1.0  False\n",
      "predicted:  0 | Actual Label:  0.0  True\n",
      "predicted:  0 | Actual Label:  0.0  True\n",
      "predicted:  0 | Actual Label:  0.0  True\n",
      "predicted:  0 | Actual Label:  0.0  True\n",
      "predicted:  0 | Actual Label:  0.0  True\n",
      "predicted:  0 | Actual Label:  0.0  True\n",
      "predicted:  0 | Actual Label:  0.0  True\n",
      "predicted:  0 | Actual Label:  0.0  True\n",
      "predicted:  0 | Actual Label:  0.0  True\n",
      "predicted:  0 | Actual Label:  0.0  True\n",
      "predicted:  0 | Actual Label:  0.0  True\n",
      "predicted:  0 | Actual Label:  2.0  False\n",
      "predicted:  0 | Actual Label:  2.0  False\n",
      "predicted:  0 | Actual Label:  0.0  True\n",
      "predicted:  0 | Actual Label:  1.0  False\n",
      "predicted:  0 | Actual Label:  0.0  True\n",
      "predicted:  0 | Actual Label:  1.0  False\n",
      "predicted:  0 | Actual Label:  0.0  True\n",
      "predicted:  0 | Actual Label:  0.0  True\n",
      "predicted:  0 | Actual Label:  0.0  True\n",
      "predicted:  0 | Actual Label:  2.0  False\n",
      "predicted:  0 | Actual Label:  0.0  True\n",
      "predicted:  0 | Actual Label:  0.0  True\n",
      "predicted:  0 | Actual Label:  0.0  True\n",
      "predicted:  0 | Actual Label:  0.0  True\n",
      "predicted:  0 | Actual Label:  1.0  False\n",
      "predicted:  0 | Actual Label:  0.0  True\n",
      "predicted:  0 | Actual Label:  0.0  True\n",
      "predicted:  0 | Actual Label:  1.0  False\n",
      "predicted:  0 | Actual Label:  0.0  True\n",
      "predicted:  0 | Actual Label:  1.0  False\n",
      "predicted:  0 | Actual Label:  0.0  True\n",
      "predicted:  0 | Actual Label:  0.0  True\n",
      "predicted:  0 | Actual Label:  1.0  False\n",
      "predicted:  0 | Actual Label:  0.0  True\n",
      "predicted:  0 | Actual Label:  2.0  False\n",
      "predicted:  0 | Actual Label:  2.0  False\n",
      "predicted:  0 | Actual Label:  1.0  False\n",
      "predicted:  0 | Actual Label:  0.0  True\n",
      "predicted:  0 | Actual Label:  1.0  False\n",
      "predicted:  0 | Actual Label:  1.0  False\n",
      "predicted:  0 | Actual Label:  0.0  True\n",
      "predicted:  0 | Actual Label:  2.0  False\n",
      "predicted:  0 | Actual Label:  0.0  True\n",
      "predicted:  0 | Actual Label:  0.0  True\n",
      "predicted:  0 | Actual Label:  2.0  False\n",
      "predicted:  0 | Actual Label:  2.0  False\n",
      "predicted:  0 | Actual Label:  1.0  False\n",
      "predicted:  0 | Actual Label:  0.0  True\n",
      "predicted:  0 | Actual Label:  0.0  True\n",
      "predicted:  0 | Actual Label:  0.0  True\n",
      "predicted:  0 | Actual Label:  3.0  False\n",
      "predicted:  0 | Actual Label:  0.0  True\n",
      "predicted:  0 | Actual Label:  2.0  False\n",
      "predicted:  0 | Actual Label:  1.0  False\n",
      "predicted:  0 | Actual Label:  2.0  False\n",
      "predicted:  0 | Actual Label:  0.0  True\n",
      "predicted:  0 | Actual Label:  2.0  False\n",
      "predicted:  0 | Actual Label:  1.0  False\n",
      "predicted:  0 | Actual Label:  1.0  False\n",
      "predicted:  0 | Actual Label:  1.0  False\n",
      "predicted:  0 | Actual Label:  2.0  False\n",
      "predicted:  0 | Actual Label:  0.0  True\n",
      "predicted:  0 | Actual Label:  0.0  True\n",
      "predicted:  0 | Actual Label:  0.0  True\n",
      "predicted:  0 | Actual Label:  0.0  True\n",
      "predicted:  0 | Actual Label:  1.0  False\n",
      "predicted:  0 | Actual Label:  1.0  False\n",
      "predicted:  0 | Actual Label:  0.0  True\n",
      "predicted:  0 | Actual Label:  0.0  True\n",
      "predicted:  0 | Actual Label:  0.0  True\n",
      "predicted:  0 | Actual Label:  0.0  True\n",
      "predicted:  0 | Actual Label:  0.0  True\n",
      "predicted:  0 | Actual Label:  0.0  True\n",
      "predicted:  0 | Actual Label:  2.0  False\n",
      "predicted:  0 | Actual Label:  0.0  True\n",
      "predicted:  0 | Actual Label:  0.0  True\n",
      "predicted:  0 | Actual Label:  0.0  True\n",
      "predicted:  0 | Actual Label:  1.0  False\n",
      "predicted:  0 | Actual Label:  0.0  True\n",
      "predicted:  0 | Actual Label:  3.0  False\n",
      "predicted:  0 | Actual Label:  0.0  True\n",
      "predicted:  0 | Actual Label:  0.0  True\n",
      "\n",
      "\n",
      "63 / 110\n"
     ]
    }
   ],
   "source": [
    "for i in range(len(y_predicted)):\n",
    "    print(\"predicted: \", y_predicted[i], \"| Actual Label: \",y_test_class[i][0], \" True\" if (y_predicted[i]==y_test_class[i][0]) else \" False\")\n",
    "print(\"\\n\")\n",
    "print(np.sum(y_predicted==y_test_class[:,0]),'/',len(y_predicted))"
   ]
  },
  {
   "cell_type": "code",
   "execution_count": 78,
   "id": "3bf26bd2",
   "metadata": {},
   "outputs": [],
   "source": [
    "from sklearn.metrics import confusion_matrix, ConfusionMatrixDisplay"
   ]
  },
  {
   "cell_type": "code",
   "execution_count": 79,
   "id": "9ffb8d65",
   "metadata": {},
   "outputs": [],
   "source": [
    "CM = confusion_matrix(y_test_class[:,0], y_predicted)"
   ]
  },
  {
   "cell_type": "code",
   "execution_count": 80,
   "id": "df7a16c5",
   "metadata": {},
   "outputs": [
    {
     "data": {
      "text/plain": [
       "<sklearn.metrics._plot.confusion_matrix.ConfusionMatrixDisplay at 0x1eaa4ff5b20>"
      ]
     },
     "execution_count": 80,
     "metadata": {},
     "output_type": "execute_result"
    },
    {
     "data": {
      "image/png": "[encoded data removed]",
      "text/plain": [
       "<Figure size 432x288 with 2 Axes>"
      ]
     },
     "metadata": {
      "needs_background": "light"
     },
     "output_type": "display_data"
    }
   ],
   "source": [
    "ConfusionMatrixDisplay(CM).plot()"
   ]
  },
  {
   "cell_type": "markdown",
   "id": "ade206b6",
   "metadata": {},
   "source": [
    "c'est une catastrophe ptdr "
   ]
  }
 ],
 "metadata": {
  "kernelspec": {
   "display_name": "Python 3",
   "language": "python",
   "name": "python3"
  },
  "language_info": {
   "codemirror_mode": {
    "name": "ipython",
    "version": 3
   },
   "file_extension": ".py",
   "mimetype": "text/x-python",
   "name": "python",
   "nbconvert_exporter": "python",
   "pygments_lexer": "ipython3",
   "version": "3.8.8"
  }
 },
 "nbformat": 4,
 "nbformat_minor": 5
}
