{
 "cells": [
  {
   "cell_type": "markdown",
   "id": "213ab26a",
   "metadata": {},
   "source": [
    "# Réseaux de neurones\n",
    "\n",
    "*http://exo7.emath.fr/cours/livre-deepmath.pdf* \n",
    "\n",
    "# 0. Chargement des modules et données"
   ]
  },
  {
   "cell_type": "code",
   "execution_count": 5,
   "id": "19a4ba85",
   "metadata": {
    "scrolled": true
   },
   "outputs": [],
   "source": [
    "import pandas as pd \n",
    "import matplotlib.pyplot as plt\n",
    "import numpy as np\n",
    "from numpy.random import randn\n",
    "import tensorflow as tf\n",
    "\n",
    "from tensorflow.keras import Input\n",
    "from tensorflow.keras.models import Sequential\n",
    "from tensorflow.keras.layers import Dense, Dropout, Conv1D, Conv2D\n",
    "from tensorflow.keras.optimizers import SGD,Adam,Nadam,Adadelta\n",
    "from tensorflow import keras\n",
    "\n",
    "from sklearn import preprocessing, model_selection\n",
    "from sklearn.preprocessing import KBinsDiscretizer\n",
    "from sklearn.metrics import confusion_matrix, ConfusionMatrixDisplay"
   ]
  },
  {
   "cell_type": "code",
   "execution_count": 6,
   "id": "9ecbf921",
   "metadata": {},
   "outputs": [
    {
     "data": {
      "text/plain": [
       "(48836, 24)"
      ]
     },
     "execution_count": 6,
     "metadata": {},
     "output_type": "execute_result"
    }
   ],
   "source": [
    "df = pd.read_csv('market_data_pd.csv',sep=',')\n",
    "df.shape"
   ]
  },
  {
   "cell_type": "code",
   "execution_count": 7,
   "id": "ed73b47a",
   "metadata": {},
   "outputs": [
    {
     "data": {
      "text/html": [
       "<div>\n",
       "<style scoped>\n",
       "    .dataframe tbody tr th:only-of-type {\n",
       "        vertical-align: middle;\n",
       "    }\n",
       "\n",
       "    .dataframe tbody tr th {\n",
       "        vertical-align: top;\n",
       "    }\n",
       "\n",
       "    .dataframe thead th {\n",
       "        text-align: right;\n",
       "    }\n",
       "</style>\n",
       "<table border=\"1\" class=\"dataframe\">\n",
       "  <thead>\n",
       "    <tr style=\"text-align: right;\">\n",
       "      <th></th>\n",
       "      <th>Unnamed: 0</th>\n",
       "      <th>Reference Security</th>\n",
       "      <th>Bid Price</th>\n",
       "      <th>Ask Price</th>\n",
       "      <th>Mid Price</th>\n",
       "      <th>Cpn</th>\n",
       "      <th>Maturity</th>\n",
       "      <th>Common Eqty / Tot Assets</th>\n",
       "      <th>Debt / Common Equity</th>\n",
       "      <th>TCE Ratio</th>\n",
       "      <th>...</th>\n",
       "      <th>Amt Out</th>\n",
       "      <th>Total Assets</th>\n",
       "      <th>BCLASS Level 3</th>\n",
       "      <th>Guarantee Type</th>\n",
       "      <th>Guarantor Type</th>\n",
       "      <th>Collat Type</th>\n",
       "      <th>PD_1y</th>\n",
       "      <th>reprice</th>\n",
       "      <th>maturity_years</th>\n",
       "      <th>Error %</th>\n",
       "    </tr>\n",
       "  </thead>\n",
       "  <tbody>\n",
       "    <tr>\n",
       "      <th>0</th>\n",
       "      <td>0</td>\n",
       "      <td>AO644270 Corp</td>\n",
       "      <td>100.006</td>\n",
       "      <td>100.007</td>\n",
       "      <td>100.0065</td>\n",
       "      <td>0.000</td>\n",
       "      <td>08/16/2021</td>\n",
       "      <td>45.51750</td>\n",
       "      <td>70.1546</td>\n",
       "      <td>-235.69200</td>\n",
       "      <td>...</td>\n",
       "      <td>1.100000e+09</td>\n",
       "      <td>137690.0</td>\n",
       "      <td>Consumer Non-Cyclical</td>\n",
       "      <td>Multiple</td>\n",
       "      <td>Parent &amp; Subsidiaries</td>\n",
       "      <td>COMPANY GUARNT</td>\n",
       "      <td>0.000205</td>\n",
       "      <td>100.0065</td>\n",
       "      <td>0.013699</td>\n",
       "      <td>1.420993e-14</td>\n",
       "    </tr>\n",
       "    <tr>\n",
       "      <th>1</th>\n",
       "      <td>1</td>\n",
       "      <td>AM515270 Corp</td>\n",
       "      <td>100.003</td>\n",
       "      <td>100.180</td>\n",
       "      <td>100.0915</td>\n",
       "      <td>2.500</td>\n",
       "      <td>08/21/2021</td>\n",
       "      <td>-128.07200</td>\n",
       "      <td>NaN</td>\n",
       "      <td>-130.83000</td>\n",
       "      <td>...</td>\n",
       "      <td>1.750000e+09</td>\n",
       "      <td>1905530.0</td>\n",
       "      <td>Government Owned. No Guarantee</td>\n",
       "      <td>Multiple</td>\n",
       "      <td>Subsidiaries</td>\n",
       "      <td>COMPANY GUARNT</td>\n",
       "      <td>0.039468</td>\n",
       "      <td>100.0915</td>\n",
       "      <td>0.027397</td>\n",
       "      <td>1.419786e-14</td>\n",
       "    </tr>\n",
       "    <tr>\n",
       "      <th>2</th>\n",
       "      <td>2</td>\n",
       "      <td>JK150270 Corp</td>\n",
       "      <td>100.016</td>\n",
       "      <td>100.017</td>\n",
       "      <td>100.0165</td>\n",
       "      <td>0.750</td>\n",
       "      <td>08/24/2021</td>\n",
       "      <td>5.65522</td>\n",
       "      <td>526.9240</td>\n",
       "      <td>5.41231</td>\n",
       "      <td>...</td>\n",
       "      <td>1.000000e+09</td>\n",
       "      <td>3040430.0</td>\n",
       "      <td>Banking</td>\n",
       "      <td>N.A.</td>\n",
       "      <td>N.A.</td>\n",
       "      <td>SR UNSECURED</td>\n",
       "      <td>0.012445</td>\n",
       "      <td>100.0165</td>\n",
       "      <td>0.035616</td>\n",
       "      <td>0.000000e+00</td>\n",
       "    </tr>\n",
       "    <tr>\n",
       "      <th>3</th>\n",
       "      <td>3</td>\n",
       "      <td>JK189339 Corp</td>\n",
       "      <td>100.018</td>\n",
       "      <td>100.032</td>\n",
       "      <td>100.0250</td>\n",
       "      <td>1.250</td>\n",
       "      <td>08/25/2021</td>\n",
       "      <td>35.98800</td>\n",
       "      <td>121.4250</td>\n",
       "      <td>2.22137</td>\n",
       "      <td>...</td>\n",
       "      <td>6.060820e+08</td>\n",
       "      <td>155063.0</td>\n",
       "      <td>Communications</td>\n",
       "      <td>N.A.</td>\n",
       "      <td>N.A.</td>\n",
       "      <td>SR UNSECURED</td>\n",
       "      <td>0.020474</td>\n",
       "      <td>100.0250</td>\n",
       "      <td>0.038356</td>\n",
       "      <td>0.000000e+00</td>\n",
       "    </tr>\n",
       "    <tr>\n",
       "      <th>4</th>\n",
       "      <td>4</td>\n",
       "      <td>BG186989 Corp</td>\n",
       "      <td>100.011</td>\n",
       "      <td>100.013</td>\n",
       "      <td>100.0120</td>\n",
       "      <td>0.062</td>\n",
       "      <td>08/27/2021</td>\n",
       "      <td>5.71381</td>\n",
       "      <td>619.0800</td>\n",
       "      <td>5.24664</td>\n",
       "      <td>...</td>\n",
       "      <td>1.500000e+09</td>\n",
       "      <td>809688.0</td>\n",
       "      <td>Banking</td>\n",
       "      <td>N.A.</td>\n",
       "      <td>N.A.</td>\n",
       "      <td>SR UNSECURED</td>\n",
       "      <td>0.001146</td>\n",
       "      <td>100.0120</td>\n",
       "      <td>0.043836</td>\n",
       "      <td>2.841830e-14</td>\n",
       "    </tr>\n",
       "  </tbody>\n",
       "</table>\n",
       "<p>5 rows × 24 columns</p>\n",
       "</div>"
      ],
      "text/plain": [
       "   Unnamed: 0 Reference Security  Bid Price  Ask Price  Mid Price    Cpn  \\\n",
       "0           0      AO644270 Corp    100.006    100.007   100.0065  0.000   \n",
       "1           1      AM515270 Corp    100.003    100.180   100.0915  2.500   \n",
       "2           2      JK150270 Corp    100.016    100.017   100.0165  0.750   \n",
       "3           3      JK189339 Corp    100.018    100.032   100.0250  1.250   \n",
       "4           4      BG186989 Corp    100.011    100.013   100.0120  0.062   \n",
       "\n",
       "     Maturity  Common Eqty / Tot Assets  Debt / Common Equity  TCE Ratio  ...  \\\n",
       "0  08/16/2021                  45.51750               70.1546 -235.69200  ...   \n",
       "1  08/21/2021                -128.07200                   NaN -130.83000  ...   \n",
       "2  08/24/2021                   5.65522              526.9240    5.41231  ...   \n",
       "3  08/25/2021                  35.98800              121.4250    2.22137  ...   \n",
       "4  08/27/2021                   5.71381              619.0800    5.24664  ...   \n",
       "\n",
       "        Amt Out  Total Assets                  BCLASS Level 3  Guarantee Type  \\\n",
       "0  1.100000e+09      137690.0           Consumer Non-Cyclical        Multiple   \n",
       "1  1.750000e+09     1905530.0  Government Owned. No Guarantee        Multiple   \n",
       "2  1.000000e+09     3040430.0                         Banking            N.A.   \n",
       "3  6.060820e+08      155063.0                  Communications            N.A.   \n",
       "4  1.500000e+09      809688.0                         Banking            N.A.   \n",
       "\n",
       "          Guarantor Type     Collat Type     PD_1y   reprice maturity_years  \\\n",
       "0  Parent & Subsidiaries  COMPANY GUARNT  0.000205  100.0065       0.013699   \n",
       "1           Subsidiaries  COMPANY GUARNT  0.039468  100.0915       0.027397   \n",
       "2                   N.A.    SR UNSECURED  0.012445  100.0165       0.035616   \n",
       "3                   N.A.    SR UNSECURED  0.020474  100.0250       0.038356   \n",
       "4                   N.A.    SR UNSECURED  0.001146  100.0120       0.043836   \n",
       "\n",
       "        Error %  \n",
       "0  1.420993e-14  \n",
       "1  1.419786e-14  \n",
       "2  0.000000e+00  \n",
       "3  0.000000e+00  \n",
       "4  2.841830e-14  \n",
       "\n",
       "[5 rows x 24 columns]"
      ]
     },
     "execution_count": 7,
     "metadata": {},
     "output_type": "execute_result"
    }
   ],
   "source": [
    "df.head()"
   ]
  },
  {
   "cell_type": "code",
   "execution_count": 8,
   "id": "602d6ab4",
   "metadata": {},
   "outputs": [
    {
     "data": {
      "text/plain": [
       "Index(['Unnamed: 0', 'Reference Security', 'Bid Price', 'Ask Price',\n",
       "       'Mid Price', 'Cpn', 'Maturity', 'Common Eqty / Tot Assets',\n",
       "       'Debt / Common Equity', 'TCE Ratio', 'Tot Debt / Tot Capital',\n",
       "       'Tot Cap (Local Crncy)', 'Is Covered', 'Is Convertible', 'Amt Out',\n",
       "       'Total Assets', 'BCLASS Level 3', 'Guarantee Type', 'Guarantor Type',\n",
       "       'Collat Type', 'PD_1y', 'reprice', 'maturity_years', 'Error %'],\n",
       "      dtype='object')"
      ]
     },
     "execution_count": 8,
     "metadata": {},
     "output_type": "execute_result"
    }
   ],
   "source": [
    "df = df[df.PD_1y>0.0]\n",
    "df = df[df.PD_1y!=1.0]\n",
    "\n",
    "df.columns"
   ]
  },
  {
   "cell_type": "code",
   "execution_count": 10,
   "id": "087ad211",
   "metadata": {},
   "outputs": [],
   "source": [
    "def count_nan(df):\n",
    "    for col_name in df.columns:\n",
    "        n_nan = df[col_name].isna().sum()\n",
    "        if n_nan > 0:\n",
    "            print(\"Colomn : \", col_name)  \n",
    "            print(\"NaN : {}/{}\".format(n_nan,len(df[col_name])))\n",
    "            print(\"===============================================\")"
   ]
  },
  {
   "cell_type": "code",
   "execution_count": 11,
   "id": "bf9609bd",
   "metadata": {},
   "outputs": [
    {
     "name": "stdout",
     "output_type": "stream",
     "text": [
      "Colomn :  Common Eqty / Tot Assets\n",
      "NaN : 1766/44445\n",
      "===============================================\n",
      "Colomn :  Debt / Common Equity\n",
      "NaN : 2579/44445\n",
      "===============================================\n",
      "Colomn :  TCE Ratio\n",
      "NaN : 2471/44445\n",
      "===============================================\n",
      "Colomn :  Tot Debt / Tot Capital\n",
      "NaN : 2016/44445\n",
      "===============================================\n",
      "Colomn :  Tot Cap (Local Crncy)\n",
      "NaN : 2014/44445\n",
      "===============================================\n",
      "Colomn :  Total Assets\n",
      "NaN : 2361/44445\n",
      "===============================================\n",
      "Colomn :  Guarantee Type\n",
      "NaN : 20/44445\n",
      "===============================================\n",
      "Colomn :  Guarantor Type\n",
      "NaN : 20/44445\n",
      "===============================================\n"
     ]
    }
   ],
   "source": [
    "count_nan(df)"
   ]
  },
  {
   "cell_type": "code",
   "execution_count": 12,
   "id": "26f3674b",
   "metadata": {},
   "outputs": [],
   "source": [
    "#RENSEIGNER LES RATIOS FINANCIERS / VARIABLES CONSIDEREES \n",
    "\n",
    "#df1 = df[[\"Common Eqty / Tot Assets\",'Debt / Common Equity','Tot Debt / Tot Capital','BCLASS Level 3',\"TCE Ratio\",\"PD_1y\"]]\n",
    "df1 = df[['Common Eqty / Tot Assets','Mid Price','TCE Ratio','Tot Debt / Tot Capital','Tot Cap (Local Crncy)','Is Covered','Is Convertible','Amt Out','BCLASS Level 3', 'Guarantee Type','Total Assets', 'Guarantor Type', 'Collat Type','Debt / Common Equity','PD_1y']]\n",
    "df1 = df1[df1['Debt / Common Equity']<2500]\n",
    "df1 = df1[df1['TCE Ratio']>-100]\n",
    "#df1.replace(np.nan, 0.0,inplace=True)\n",
    "df1.dropna(inplace=True)\n",
    "count_nan(df1)"
   ]
  },
  {
   "cell_type": "code",
   "execution_count": 13,
   "id": "54877d42",
   "metadata": {},
   "outputs": [
    {
     "data": {
      "text/html": [
       "<div>\n",
       "<style scoped>\n",
       "    .dataframe tbody tr th:only-of-type {\n",
       "        vertical-align: middle;\n",
       "    }\n",
       "\n",
       "    .dataframe tbody tr th {\n",
       "        vertical-align: top;\n",
       "    }\n",
       "\n",
       "    .dataframe thead th {\n",
       "        text-align: right;\n",
       "    }\n",
       "</style>\n",
       "<table border=\"1\" class=\"dataframe\">\n",
       "  <thead>\n",
       "    <tr style=\"text-align: right;\">\n",
       "      <th></th>\n",
       "      <th>Common Eqty / Tot Assets</th>\n",
       "      <th>Mid Price</th>\n",
       "      <th>TCE Ratio</th>\n",
       "      <th>Tot Debt / Tot Capital</th>\n",
       "      <th>Tot Cap (Local Crncy)</th>\n",
       "      <th>Is Covered</th>\n",
       "      <th>Is Convertible</th>\n",
       "      <th>Amt Out</th>\n",
       "      <th>BCLASS Level 3</th>\n",
       "      <th>Guarantee Type</th>\n",
       "      <th>Total Assets</th>\n",
       "      <th>Guarantor Type</th>\n",
       "      <th>Collat Type</th>\n",
       "      <th>Debt / Common Equity</th>\n",
       "      <th>PD_1y</th>\n",
       "    </tr>\n",
       "  </thead>\n",
       "  <tbody>\n",
       "    <tr>\n",
       "      <th>2</th>\n",
       "      <td>5.65522</td>\n",
       "      <td>100.0165</td>\n",
       "      <td>5.41231</td>\n",
       "      <td>84.0491</td>\n",
       "      <td>1077950.0</td>\n",
       "      <td>False</td>\n",
       "      <td>False</td>\n",
       "      <td>1.000000e+09</td>\n",
       "      <td>Banking</td>\n",
       "      <td>N.A.</td>\n",
       "      <td>3040430.0</td>\n",
       "      <td>N.A.</td>\n",
       "      <td>SR UNSECURED</td>\n",
       "      <td>526.924</td>\n",
       "      <td>0.012445</td>\n",
       "    </tr>\n",
       "    <tr>\n",
       "      <th>3</th>\n",
       "      <td>35.98800</td>\n",
       "      <td>100.0250</td>\n",
       "      <td>2.22137</td>\n",
       "      <td>53.9594</td>\n",
       "      <td>125576.0</td>\n",
       "      <td>False</td>\n",
       "      <td>False</td>\n",
       "      <td>6.060820e+08</td>\n",
       "      <td>Communications</td>\n",
       "      <td>N.A.</td>\n",
       "      <td>155063.0</td>\n",
       "      <td>N.A.</td>\n",
       "      <td>SR UNSECURED</td>\n",
       "      <td>121.425</td>\n",
       "      <td>0.020474</td>\n",
       "    </tr>\n",
       "    <tr>\n",
       "      <th>4</th>\n",
       "      <td>5.71381</td>\n",
       "      <td>100.0120</td>\n",
       "      <td>5.24664</td>\n",
       "      <td>85.8881</td>\n",
       "      <td>333470.0</td>\n",
       "      <td>False</td>\n",
       "      <td>False</td>\n",
       "      <td>1.500000e+09</td>\n",
       "      <td>Banking</td>\n",
       "      <td>N.A.</td>\n",
       "      <td>809688.0</td>\n",
       "      <td>N.A.</td>\n",
       "      <td>SR UNSECURED</td>\n",
       "      <td>619.080</td>\n",
       "      <td>0.001146</td>\n",
       "    </tr>\n",
       "    <tr>\n",
       "      <th>5</th>\n",
       "      <td>23.50830</td>\n",
       "      <td>100.0100</td>\n",
       "      <td>19.21360</td>\n",
       "      <td>63.4410</td>\n",
       "      <td>151388.0</td>\n",
       "      <td>False</td>\n",
       "      <td>False</td>\n",
       "      <td>6.000000e+08</td>\n",
       "      <td>Consumer Cyclical</td>\n",
       "      <td>Single</td>\n",
       "      <td>235381.0</td>\n",
       "      <td>Parent</td>\n",
       "      <td>COMPANY GUARNT</td>\n",
       "      <td>173.568</td>\n",
       "      <td>0.001179</td>\n",
       "    </tr>\n",
       "    <tr>\n",
       "      <th>6</th>\n",
       "      <td>4.54799</td>\n",
       "      <td>100.0150</td>\n",
       "      <td>3.85114</td>\n",
       "      <td>85.6341</td>\n",
       "      <td>226753.0</td>\n",
       "      <td>False</td>\n",
       "      <td>False</td>\n",
       "      <td>1.100000e+09</td>\n",
       "      <td>Banking</td>\n",
       "      <td>N.A.</td>\n",
       "      <td>627244.0</td>\n",
       "      <td>N.A.</td>\n",
       "      <td>SR UNSECURED</td>\n",
       "      <td>680.681</td>\n",
       "      <td>0.002144</td>\n",
       "    </tr>\n",
       "  </tbody>\n",
       "</table>\n",
       "</div>"
      ],
      "text/plain": [
       "   Common Eqty / Tot Assets  Mid Price  TCE Ratio  Tot Debt / Tot Capital  \\\n",
       "2                   5.65522   100.0165    5.41231                 84.0491   \n",
       "3                  35.98800   100.0250    2.22137                 53.9594   \n",
       "4                   5.71381   100.0120    5.24664                 85.8881   \n",
       "5                  23.50830   100.0100   19.21360                 63.4410   \n",
       "6                   4.54799   100.0150    3.85114                 85.6341   \n",
       "\n",
       "   Tot Cap (Local Crncy)  Is Covered  Is Convertible       Amt Out  \\\n",
       "2              1077950.0       False           False  1.000000e+09   \n",
       "3               125576.0       False           False  6.060820e+08   \n",
       "4               333470.0       False           False  1.500000e+09   \n",
       "5               151388.0       False           False  6.000000e+08   \n",
       "6               226753.0       False           False  1.100000e+09   \n",
       "\n",
       "      BCLASS Level 3 Guarantee Type  Total Assets Guarantor Type  \\\n",
       "2            Banking           N.A.     3040430.0           N.A.   \n",
       "3     Communications           N.A.      155063.0           N.A.   \n",
       "4            Banking           N.A.      809688.0           N.A.   \n",
       "5  Consumer Cyclical         Single      235381.0         Parent   \n",
       "6            Banking           N.A.      627244.0           N.A.   \n",
       "\n",
       "      Collat Type  Debt / Common Equity     PD_1y  \n",
       "2    SR UNSECURED               526.924  0.012445  \n",
       "3    SR UNSECURED               121.425  0.020474  \n",
       "4    SR UNSECURED               619.080  0.001146  \n",
       "5  COMPANY GUARNT               173.568  0.001179  \n",
       "6    SR UNSECURED               680.681  0.002144  "
      ]
     },
     "execution_count": 13,
     "metadata": {},
     "output_type": "execute_result"
    }
   ],
   "source": [
    "#df1 = df1.dropna(how = 'any') \n",
    "df1.head()"
   ]
  },
  {
   "cell_type": "code",
   "execution_count": 14,
   "id": "ad716075",
   "metadata": {},
   "outputs": [
    {
     "data": {
      "text/plain": [
       "(36781, 15)"
      ]
     },
     "execution_count": 14,
     "metadata": {},
     "output_type": "execute_result"
    }
   ],
   "source": [
    "df1.shape"
   ]
  },
  {
   "cell_type": "code",
   "execution_count": 15,
   "id": "4a87de3d",
   "metadata": {},
   "outputs": [
    {
     "data": {
      "text/plain": [
       "(36023, 15)"
      ]
     },
     "execution_count": 15,
     "metadata": {},
     "output_type": "execute_result"
    }
   ],
   "source": [
    "df1 = df1.drop_duplicates(subset=df1.columns.difference(['PD_1y']))\n",
    "df1.shape"
   ]
  },
  {
   "cell_type": "markdown",
   "id": "0d8919c6",
   "metadata": {},
   "source": [
    "# 1. Préparation des données"
   ]
  },
  {
   "cell_type": "markdown",
   "id": "3b94d6d6",
   "metadata": {},
   "source": [
    "Nous commencerons par séparer les données non étiquietées des étiquettes, les étiquettes se trouvent dans l'array `y_full` et le reste des données dans `X_full`"
   ]
  },
  {
   "cell_type": "code",
   "execution_count": 16,
   "id": "02b4d77c",
   "metadata": {},
   "outputs": [],
   "source": [
    "X_full = np.array(df1.drop(columns=['PD_1y']))\n",
    "y_full = np.array(df1['PD_1y'])"
   ]
  },
  {
   "cell_type": "code",
   "execution_count": null,
   "id": "133bc9a9",
   "metadata": {},
   "outputs": [],
   "source": []
  },
  {
   "cell_type": "markdown",
   "id": "929d6cbf",
   "metadata": {},
   "source": [
    "La prochaine étape consiste à séparer les features continues des features discrètes, cela sera utile car leurs traitements seront différent"
   ]
  },
  {
   "cell_type": "code",
   "execution_count": 17,
   "id": "da963689",
   "metadata": {},
   "outputs": [],
   "source": [
    "features = list(df1.drop(columns=['PD_1y']).columns)\n",
    "\n",
    "discrete_features = ['BCLASS Level 3','Guarantee Type','Guarantor Type','Collat Type','Is Covered','Is Convertible']\n",
    "continuous_features = [s for s in features if not s in discrete_features]\n",
    "\n",
    "\n",
    "continuous_features_idx = [features.index(feat_name) for feat_name in continuous_features]\n",
    "discrete_features_idx = [features.index(feat_name) for feat_name in discrete_features]"
   ]
  },
  {
   "cell_type": "markdown",
   "id": "3ff6e41a",
   "metadata": {},
   "source": [
    "## a. Statistiques descriptives"
   ]
  },
  {
   "cell_type": "code",
   "execution_count": 13,
   "id": "996b29ac",
   "metadata": {},
   "outputs": [
    {
     "data": {
      "image/png": "[encoded data removed]",
      "text/plain": [
       "<Figure size 1008x720 with 8 Axes>"
      ]
     },
     "metadata": {
      "needs_background": "light"
     },
     "output_type": "display_data"
    }
   ],
   "source": [
    "fig = plt.figure(figsize=(14,10))\n",
    "\n",
    "# Histograms for continuous features\n",
    "for (plot_idx, feat_idx) in enumerate(continuous_features_idx):\n",
    "\n",
    "    # create a subplot in the (plot_idx+1) position of a 2x2 grid\n",
    "    ax = fig.add_subplot(8, 2, (plot_idx+1))\n",
    "    # plot the histogram of feat_idx\n",
    "    h = ax.hist(X_full[:, feat_idx], bins=30, edgecolor='black')\n",
    "    # use the name of the feature as a title for each histogram\n",
    "    ax.set_title(features[feat_idx])\n",
    "# espacement entre les subplots\n",
    "fig.tight_layout(pad=0.1)"
   ]
  },
  {
   "cell_type": "code",
   "execution_count": null,
   "id": "8d276f36",
   "metadata": {},
   "outputs": [],
   "source": []
  },
  {
   "cell_type": "code",
   "execution_count": 14,
   "id": "c9b4edf0",
   "metadata": {
    "scrolled": true
   },
   "outputs": [
    {
     "data": {
      "image/png": "[encoded data removed]",
      "text/plain": [
       "<Figure size 1152x1440 with 6 Axes>"
      ]
     },
     "metadata": {
      "needs_background": "light"
     },
     "output_type": "display_data"
    }
   ],
   "source": [
    "# Bar plots for discrete features\n",
    "fig = plt.figure(figsize=(16, 20))\n",
    "\n",
    "for (plot_idx, feat_idx) in enumerate(discrete_features_idx):\n",
    "    # create a subplot in the (plot_idx+1) position of a 1x3 grid\n",
    "    ax = fig.add_subplot(7, 1, (plot_idx+1))\n",
    "\n",
    "    feature_values = np.unique(X_full[:, feat_idx])\n",
    "    frequencies = [(float(len(np.where(X_full[:, feat_idx]==value)[0]))/X_full.shape[0]) \\\n",
    "                   for value in feature_values]\n",
    "    \n",
    "    b = ax.bar(range(len(feature_values)), frequencies, width=0.8, \n",
    "               tick_label=list([n for n in feature_values]))\n",
    "    \n",
    "    \n",
    "    # use the name of the feature as a title for each histogram\n",
    "    ax.set_title(features[feat_idx])\n",
    "    \n",
    "fig.tight_layout(pad=0.15)"
   ]
  },
  {
   "cell_type": "markdown",
   "id": "02d22e0b",
   "metadata": {},
   "source": [
    "## b. Traitement des données"
   ]
  },
  {
   "cell_type": "code",
   "execution_count": 18,
   "id": "106ce7b9",
   "metadata": {},
   "outputs": [],
   "source": [
    "## A FAIRE COMME CELA :\n",
    "\"\"\"\n",
    "from sklearn.preprocessing import OneHotEncoder\n",
    "\n",
    "enc = OneHotEncoder(handle_unknown='ignore')\n",
    "enc.fit(X_train_submit)\n",
    "\n",
    "X_train_submit = enc.transform(X_train_submit)\n",
    "X_test_submit = enc.transform(X_test_submit)\n",
    "\n",
    "\"\"\"\n",
    "\n",
    "\n",
    "\n",
    "class Pipeline:\n",
    "    def __init__(self, X_train, X_full = None):\n",
    "        \"\"\"\n",
    "        Se fit sur le jeu de TRAIN, une seule fois\n",
    "        \"\"\"\n",
    "        self.ohe = preprocessing.OneHotEncoder(categories='auto',sparse=False).fit(X_full[:,discrete_features_idx])\n",
    "        self.std_scaler = preprocessing.StandardScaler().fit(X_train[:,continuous_features_idx])\n",
    "        print(self.ohe.categories_)\n",
    "        \n",
    "    def traitement(self,X):\n",
    "        \"\"\"\n",
    "        Permet de traiter n'importe quel vecteur X ensuite\n",
    "        \"\"\"\n",
    "    \n",
    "        X_continuous_scaled = self.std_scaler.transform(X[:,continuous_features_idx])\n",
    "        X_discrete_encoded = self.ohe.transform(X[:,discrete_features_idx])\n",
    "        print('moyenne = {}'.format(np.mean(X_continuous_scaled)))\n",
    "        \n",
    "        X_processed = np.hstack((X_discrete_encoded, X_continuous_scaled))\n",
    "    \n",
    "        return X_processed"
   ]
  },
  {
   "cell_type": "code",
   "execution_count": 19,
   "id": "ef1d8a94",
   "metadata": {},
   "outputs": [
    {
     "name": "stdout",
     "output_type": "stream",
     "text": [
      "[array(['Banking', 'Basic Industry', 'Brokerage Assetmanagers Exchanges',\n",
      "       'Capital Goods', 'Communications', 'Consumer Cyclical',\n",
      "       'Consumer Non-Cyclical', 'Electric', 'Energy', 'Finance Companies',\n",
      "       'Government Guaranteed', 'Government Owned. No Guarantee',\n",
      "       'Government Sponsored', 'Hybrid', 'Insurance', 'Local Authority',\n",
      "       'Mortgage Assets', 'Natural Gas', 'Other Financial',\n",
      "       'Other Industrial', 'Other Utility', 'Public Sector Loans',\n",
      "       'REITs', 'Supranational', 'Technology', 'Transportation',\n",
      "       'Whole Business'], dtype=object), array(['Cross Guarantee', 'Multiple', 'N.A.', 'Single'], dtype=object), array(['Bank', 'Company', 'Domestic Restricted Subsidiar',\n",
      "       'Local Government', 'N.A.', 'National/Sovereign Government',\n",
      "       'Other Subsidiary of Parent', 'Parent', 'Parent & Subsidiaries',\n",
      "       'Subsidiaries'], dtype=object), array(['BONDS', 'COMPANY GUARNT', 'COVERED', 'GOVT GUARANTEED',\n",
      "       'GOVT LIQUID GTD', 'INSURED', 'JR SUBORDINATED',\n",
      "       'JUMBO PFANDBRIEF', 'LOCAL GOVT GUARN', 'PFANDBRIEFE', 'SECURED',\n",
      "       'SR SECURED', 'SR SUBORDINATED', 'SR UNSECURED', 'SUBORDINATED',\n",
      "       'UNSECURED'], dtype=object), array([False, True], dtype=object), array([False, True], dtype=object)]\n",
      "moyenne = 3.224509561958814e-17\n",
      "moyenne = 0.005994807080166977\n"
     ]
    }
   ],
   "source": [
    "X_train, X_test_, y_train, y_test = model_selection.train_test_split(X_full, y_full, test_size=0.1,\n",
    "                                                                    #stratify=y_full, # stratification\n",
    "                                                                    random_state=92)\n",
    "\n",
    "pipe = Pipeline(X_train,X_full)\n",
    "X_train = pipe.traitement(X_train)\n",
    "X_test  = pipe.traitement(X_test_)"
   ]
  },
  {
   "cell_type": "markdown",
   "id": "7a428d8e",
   "metadata": {},
   "source": [
    "# II. Réseaux de neurones : prédiction de la PD\n",
    "\n",
    "## a. Implémentation du modèle"
   ]
  },
  {
   "cell_type": "code",
   "execution_count": 17,
   "id": "8c215b58",
   "metadata": {},
   "outputs": [
    {
     "data": {
      "text/plain": [
       "(32446, 69)"
      ]
     },
     "execution_count": 17,
     "metadata": {},
     "output_type": "execute_result"
    }
   ],
   "source": [
    "X_train.shape\n",
    "#RESEAUX DE NEURONES \n",
    "#http://eric.univ-lyon2.fr/~ricco/tanagra/fichiers/fr_Tanagra_Packages_Python_for_Deep_Learning.pdf\n",
    "\n",
    "#Explications très bien dans ce document : \n",
    "\n",
    "#http://exo7.emath.fr/cours/livre-deepmath.pdf \n",
    "\n",
    "#très bon document (parties Python, keras avec les codes et explications)"
   ]
  },
  {
   "cell_type": "code",
   "execution_count": 18,
   "id": "00ea5262",
   "metadata": {},
   "outputs": [],
   "source": [
    "model = Sequential()\n",
    "model.add(Dense(units=140,input_dim=69,))#activation=\"sigmoid\")) #6 is good\n",
    "model.add(Dense(units=2000))\n",
    "model.add(Dense(units=2000))\n",
    "model.add(Dense(units=500))\n",
    "model.add(Dense(units=1,activation=\"sigmoid\"))\n",
    "model.add(Dropout(0.3))\n",
    "learning_rate = 1e-6 # 0.0001\n",
    "\n",
    "sgd = SGD(learning_rate)  #lr = 0.02\n",
    "adam = Adam(learning_rate) #lr = 0.001\n",
    "\n",
    "#nadam = Nadam(lr=0.0005, beta_1=0.9, beta_2=0.999)\n",
    "\n",
    "#dim première couche = nombre de variables du df "
   ]
  },
  {
   "cell_type": "markdown",
   "id": "fe59ea19",
   "metadata": {},
   "source": [
    "**Fonction sigmoïde :** continue et à valeurs dans [0,1] (comme les probabilités de défaut). Régression logit. "
   ]
  },
  {
   "cell_type": "code",
   "execution_count": 19,
   "id": "388be930",
   "metadata": {},
   "outputs": [],
   "source": [
    "#modele.compile(loss='mean_squared_error',optimizer=sgd,metrics=[tf.keras.metrics.MeanSquaredError()])\n",
    "#optimizer = sgd\n",
    "#model.compile(loss='mean_squared_error',optimizer='adam',metrics=[tf.keras.metrics.MeanSquaredError()])\n",
    "#model.compile(loss=tf.keras.losses.Huber(delta=.05),optimizer=sgd,metrics=[tf.keras.metrics.MeanSquaredError()])\n",
    "model.compile(loss='mean_absolute_error',optimizer=adam,metrics=[tf.keras.metrics.MeanAbsoluteError()])"
   ]
  },
  {
   "cell_type": "code",
   "execution_count": 20,
   "id": "f4bb228e",
   "metadata": {},
   "outputs": [
    {
     "name": "stdout",
     "output_type": "stream",
     "text": [
      "Model: \"sequential\"\n",
      "_________________________________________________________________\n",
      "Layer (type)                 Output Shape              Param #   \n",
      "=================================================================\n",
      "dense (Dense)                (None, 140)               9800      \n",
      "_________________________________________________________________\n",
      "dense_1 (Dense)              (None, 2000)              282000    \n",
      "_________________________________________________________________\n",
      "dense_2 (Dense)              (None, 2000)              4002000   \n",
      "_________________________________________________________________\n",
      "dense_3 (Dense)              (None, 500)               1000500   \n",
      "_________________________________________________________________\n",
      "dense_4 (Dense)              (None, 1)                 501       \n",
      "_________________________________________________________________\n",
      "dropout (Dropout)            (None, 1)                 0         \n",
      "=================================================================\n",
      "Total params: 5,294,801\n",
      "Trainable params: 5,294,801\n",
      "Non-trainable params: 0\n",
      "_________________________________________________________________\n",
      "None\n"
     ]
    }
   ],
   "source": [
    "print(model.summary())"
   ]
  },
  {
   "cell_type": "code",
   "execution_count": 21,
   "id": "78851bbb",
   "metadata": {},
   "outputs": [
    {
     "name": "stdout",
     "output_type": "stream",
     "text": [
      "Epoch 1/20\n",
      "80/80 [==============================] - 2s 30ms/step - loss: 0.3978 - mean_absolute_error: 0.3978 - val_loss: 0.2927 - val_mean_absolute_error: 0.2927\n",
      "Epoch 2/20\n",
      "80/80 [==============================] - 2s 31ms/step - loss: 0.2326 - mean_absolute_error: 0.2326 - val_loss: 0.1619 - val_mean_absolute_error: 0.1619\n",
      "Epoch 3/20\n",
      "80/80 [==============================] - 2s 29ms/step - loss: 0.1305 - mean_absolute_error: 0.1305 - val_loss: 0.0956 - val_mean_absolute_error: 0.0956\n",
      "Epoch 4/20\n",
      "80/80 [==============================] - 2s 30ms/step - loss: 0.0806 - mean_absolute_error: 0.0806 - val_loss: 0.0602 - val_mean_absolute_error: 0.0602\n",
      "Epoch 5/20\n",
      "80/80 [==============================] - 2s 31ms/step - loss: 0.0568 - mean_absolute_error: 0.0568 - val_loss: 0.0406 - val_mean_absolute_error: 0.0406\n",
      "Epoch 6/20\n",
      "80/80 [==============================] - 2s 30ms/step - loss: 0.0417 - mean_absolute_error: 0.0417 - val_loss: 0.0294 - val_mean_absolute_error: 0.0294\n",
      "Epoch 7/20\n",
      "80/80 [==============================] - 2s 31ms/step - loss: 0.0312 - mean_absolute_error: 0.0312 - val_loss: 0.0225 - val_mean_absolute_error: 0.0225\n",
      "Epoch 8/20\n",
      "80/80 [==============================] - 2s 30ms/step - loss: 0.0261 - mean_absolute_error: 0.0261 - val_loss: 0.0184 - val_mean_absolute_error: 0.0184\n",
      "Epoch 9/20\n",
      "80/80 [==============================] - 2s 30ms/step - loss: 0.0213 - mean_absolute_error: 0.0213 - val_loss: 0.0157 - val_mean_absolute_error: 0.0157\n",
      "Epoch 10/20\n",
      "80/80 [==============================] - 2s 29ms/step - loss: 0.0190 - mean_absolute_error: 0.0190 - val_loss: 0.0140 - val_mean_absolute_error: 0.0140\n",
      "Epoch 11/20\n",
      "80/80 [==============================] - 2s 31ms/step - loss: 0.0172 - mean_absolute_error: 0.0172 - val_loss: 0.0129 - val_mean_absolute_error: 0.0129\n",
      "Epoch 12/20\n",
      "80/80 [==============================] - 2s 30ms/step - loss: 0.0161 - mean_absolute_error: 0.0161 - val_loss: 0.0121 - val_mean_absolute_error: 0.0121\n",
      "Epoch 13/20\n",
      "80/80 [==============================] - 2s 29ms/step - loss: 0.0154 - mean_absolute_error: 0.0154 - val_loss: 0.0117 - val_mean_absolute_error: 0.0117\n",
      "Epoch 14/20\n",
      "80/80 [==============================] - 2s 29ms/step - loss: 0.0138 - mean_absolute_error: 0.0138 - val_loss: 0.0114 - val_mean_absolute_error: 0.0114\n",
      "Epoch 15/20\n",
      "80/80 [==============================] - 2s 30ms/step - loss: 0.0141 - mean_absolute_error: 0.0141 - val_loss: 0.0111 - val_mean_absolute_error: 0.0111\n",
      "Epoch 16/20\n",
      "80/80 [==============================] - 2s 30ms/step - loss: 0.0140 - mean_absolute_error: 0.0140 - val_loss: 0.0110 - val_mean_absolute_error: 0.0110\n",
      "Epoch 17/20\n",
      "80/80 [==============================] - 2s 30ms/step - loss: 0.0127 - mean_absolute_error: 0.0127 - val_loss: 0.0108 - val_mean_absolute_error: 0.0108\n",
      "Epoch 18/20\n",
      "80/80 [==============================] - 2s 31ms/step - loss: 0.0128 - mean_absolute_error: 0.0128 - val_loss: 0.0107 - val_mean_absolute_error: 0.0107\n",
      "Epoch 19/20\n",
      "80/80 [==============================] - 2s 30ms/step - loss: 0.0131 - mean_absolute_error: 0.0131 - val_loss: 0.0106 - val_mean_absolute_error: 0.0106\n",
      "Epoch 20/20\n",
      "80/80 [==============================] - 2s 31ms/step - loss: 0.0126 - mean_absolute_error: 0.0126 - val_loss: 0.0105 - val_mean_absolute_error: 0.0105\n",
      "113/113 [==============================] - 1s 5ms/step - loss: 0.0115 - mean_absolute_error: 0.0115\n",
      "The final loss on the TEST set is: 0.01.\n",
      "The final mean_absolute_error on the TEST set is: 0.01.\n"
     ]
    },
    {
     "data": {
      "image/png": "[encoded data removed]",
      "text/plain": [
       "<Figure size 432x288 with 1 Axes>"
      ]
     },
     "metadata": {
      "needs_background": "light"
     },
     "output_type": "display_data"
    }
   ],
   "source": [
    "callback = keras.callbacks.EarlyStopping(monitor='loss', patience=3)\n",
    "#callback = None\n",
    "history = model.fit(np.squeeze(X_train), y_train,         # Train the model using the training set...\n",
    "          batch_size=20, epochs=20,\n",
    "          verbose=1, validation_split=0.2,steps_per_epoch=80,)#callbacks=[callback])           # ...holding out 40% of the data for validation\n",
    "\n",
    "# --------------------------------------\n",
    "# Evaluation\n",
    "# --------------------------------------\n",
    "for loss_name, loss_value in list(zip(model.metrics_names, model.evaluate(X_test, y_test, verbose=1))):\n",
    "    print('The final {} on the TEST set is: {:.2f}.'.format(loss_name, loss_value)) # Evaluate the trained model on the test set!\n",
    "\n",
    "    \n",
    "import matplotlib.pyplot as plt\n",
    "\n",
    "# --------------------------------------\n",
    "# Loss functions evolution\n",
    "# --------------------------------------\n",
    "plt.plot(history.history['loss'])\n",
    "plt.plot(history.history['val_loss'])\n",
    "plt.title('Model loss by epoch')\n",
    "plt.ylabel('loss')\n",
    "plt.xlabel('epoch')\n",
    "plt.legend(['train', 'valid'], loc='right')\n",
    "plt.show()"
   ]
  },
  {
   "cell_type": "code",
   "execution_count": 22,
   "id": "44704754",
   "metadata": {},
   "outputs": [
    {
     "name": "stdout",
     "output_type": "stream",
     "text": [
      "113/113 [==============================] - 1s 5ms/step - loss: 0.0115 - mean_absolute_error: 0.0115\n",
      "Valeur de l'erreur sur les données de test (loss): 0.011451761238276958\n",
      "Précision sur les données de test (MAE): 0.011451761238276958\n"
     ]
    }
   ],
   "source": [
    "#Résultats \n",
    "\n",
    "resultat = model.evaluate(X_test, y_test, verbose=1)\n",
    "print(\"Valeur de l'erreur sur les données de test (loss):\", resultat[0])\n",
    "print('Précision sur les données de test (MAE):', resultat[1])"
   ]
  },
  {
   "cell_type": "code",
   "execution_count": null,
   "id": "0a6d277f",
   "metadata": {},
   "outputs": [],
   "source": []
  },
  {
   "cell_type": "code",
   "execution_count": 23,
   "id": "39b1b16b",
   "metadata": {},
   "outputs": [
    {
     "data": {
      "text/plain": [
       "-0.00043651727119575767"
      ]
     },
     "execution_count": 23,
     "metadata": {},
     "output_type": "execute_result"
    }
   ],
   "source": [
    "#LASSO\n",
    "\n",
    "from sklearn import linear_model\n",
    "clf = linear_model.Lasso(alpha=0.1)\n",
    "\n",
    "#clf = linear_model.ElasticNet(random_state=47)\n",
    "clf.fit(X_train, y_train)\n",
    "clf.score(X_test, y_test)"
   ]
  },
  {
   "cell_type": "code",
   "execution_count": 28,
   "id": "c7745cf4",
   "metadata": {},
   "outputs": [
    {
     "data": {
      "text/plain": [
       "0.7219994501341302"
      ]
     },
     "execution_count": 28,
     "metadata": {},
     "output_type": "execute_result"
    }
   ],
   "source": [
    "#KNN\n",
    "\n",
    "from sklearn.neighbors import KNeighborsRegressor\n",
    "\n",
    "neigh = KNeighborsRegressor(n_neighbors=5)\n",
    "neigh.fit(X_train, y_train)\n",
    "neigh.score(X_test, y_test)\n"
   ]
  },
  {
   "cell_type": "code",
   "execution_count": 29,
   "id": "c59abf52",
   "metadata": {},
   "outputs": [
    {
     "data": {
      "text/plain": [
       "'\\nkernel = DotProduct() + WhiteKernel()\\ngpr = GaussianProcessRegressor(kernel=kernel,random_state=0)\\ngpr.fit(X_train, y_train)\\ngpr.score(X_test, y_test)\\n'"
      ]
     },
     "execution_count": 29,
     "metadata": {},
     "output_type": "execute_result"
    }
   ],
   "source": [
    "#GAUSS\n",
    "\n",
    "from sklearn.gaussian_process import GaussianProcessRegressor\n",
    "from sklearn.gaussian_process.kernels import DotProduct, WhiteKernel\n",
    "\"\"\"\n",
    "kernel = DotProduct() + WhiteKernel()\n",
    "gpr = GaussianProcessRegressor(kernel=kernel,random_state=0)\n",
    "gpr.fit(X_train, y_train)\n",
    "gpr.score(X_test, y_test)\n",
    "\"\"\"\n"
   ]
  },
  {
   "cell_type": "code",
   "execution_count": 30,
   "id": "45293a51",
   "metadata": {},
   "outputs": [
    {
     "name": "stdout",
     "output_type": "stream",
     "text": [
      "[LibSVM]"
     ]
    },
    {
     "data": {
      "text/plain": [
       "0.710448212092252"
      ]
     },
     "execution_count": 30,
     "metadata": {},
     "output_type": "execute_result"
    }
   ],
   "source": [
    "#SVR\n",
    "from sklearn.svm import SVR\n",
    "regr = SVR(C=.4, epsilon=0.001, verbose=True)\n",
    "regr.fit(X_train, y_train)\n",
    "regr.score(X_test, y_test)"
   ]
  },
  {
   "cell_type": "code",
   "execution_count": 31,
   "id": "e839cba9",
   "metadata": {},
   "outputs": [
    {
     "data": {
      "text/plain": [
       "'\\ndef ppp(eps):\\n    regr = SVR(C=.4, epsilon=0.01)\\n    regr.fit(X_train, y_train)\\n    score = regr.score(X_test, y_test)\\n    return score\\n    \\n\\nx_ = np.linspace(1e-3,9e-1,1000)\\n\\nscores = np.vectorize(ppp)(x_)\\n\\nprint(\"best epsilon = {}\".format(x_[list(scores).index(np.max(scores))]))\\n\\n\\n'"
      ]
     },
     "execution_count": 31,
     "metadata": {},
     "output_type": "execute_result"
    }
   ],
   "source": [
    "#SVR\n",
    "\n",
    "\"\"\"\n",
    "def ppp(eps):\n",
    "    regr = SVR(C=.4, epsilon=0.01)\n",
    "    regr.fit(X_train, y_train)\n",
    "    score = regr.score(X_test, y_test)\n",
    "    return score\n",
    "    \n",
    "\n",
    "x_ = np.linspace(1e-3,9e-1,1000)\n",
    "\n",
    "scores = np.vectorize(ppp)(x_)\n",
    "\n",
    "print(\"best epsilon = {}\".format(x_[list(scores).index(np.max(scores))]))\n",
    "\n",
    "\n",
    "\"\"\"\n"
   ]
  },
  {
   "cell_type": "code",
   "execution_count": null,
   "id": "706ee6ce",
   "metadata": {},
   "outputs": [],
   "source": []
  },
  {
   "cell_type": "markdown",
   "id": "da4c2d9c",
   "metadata": {},
   "source": [
    "## b. Observation des résultats "
   ]
  },
  {
   "cell_type": "code",
   "execution_count": 32,
   "id": "39072074",
   "metadata": {},
   "outputs": [],
   "source": [
    "def ecart_relatif(row) : \n",
    "    théo = row['Théorique']\n",
    "    préd = row['Prédiction']\n",
    "    return np.abs(théo - préd) / théo"
   ]
  },
  {
   "cell_type": "code",
   "execution_count": 33,
   "id": "d88d9891",
   "metadata": {},
   "outputs": [],
   "source": [
    "def ViewResults(model, X_test, y_test):\n",
    "    prediction = pd.DataFrame(data= model.predict(X_test) ,columns=['Prédiction'])\n",
    "    théorique = pd.DataFrame(data= y_test ,columns=['Théorique'])\n",
    "    prediction, théorique = prediction.reset_index() , théorique.reset_index()\n",
    "\n",
    "    results = pd.merge(théorique, prediction, on = 'index').drop(columns=['index'])\n",
    "    results[\"Ecart_relatif\"] = results.apply(ecart_relatif,axis=1)\n",
    "    \n",
    "    results.sort_values('Ecart_relatif',inplace=True)\n",
    "    \n",
    "    #print(results.tail(20))\n",
    "    k=3\n",
    "    \n",
    "    \n",
    "    print(\"\\n\\nL'écart relatif moyen est de \" + str(results[\"Ecart_relatif\"].mean() * 100) + \"%\")\n",
    "    premiere_bissectrice = np.linspace(0,k * 1e-1,100)\n",
    "    \n",
    "    plt.plot(premiere_bissectrice,premiere_bissectrice, color='red')\n",
    "    plt.scatter(results[\"Théorique\"],results[\"Prédiction\"])\n",
    "    \n",
    "    \n",
    "    plt.xlim(-k*1e-2,k * 1e-1)\n",
    "    plt.ylim(-k*1e-2,k * 1e-1)\n",
    "    plt.show()"
   ]
  },
  {
   "cell_type": "code",
   "execution_count": 34,
   "id": "2e48b557",
   "metadata": {},
   "outputs": [
    {
     "name": "stdout",
     "output_type": "stream",
     "text": [
      "Resultat pour la regression SVR\n",
      "\n",
      "\n",
      "L'écart relatif moyen est de 75.27654635006388%\n"
     ]
    },
    {
     "data": {
      "image/png": "[encoded data removed]",
      "text/plain": [
       "<Figure size 432x288 with 1 Axes>"
      ]
     },
     "metadata": {
      "needs_background": "light"
     },
     "output_type": "display_data"
    }
   ],
   "source": [
    "print('Resultat pour la regression SVR')\n",
    "ViewResults(regr, X_test, y_test)"
   ]
  },
  {
   "cell_type": "code",
   "execution_count": 35,
   "id": "e6b3769a",
   "metadata": {},
   "outputs": [
    {
     "name": "stdout",
     "output_type": "stream",
     "text": [
      "Resultat pour la regression 5-NN\n",
      "\n",
      "\n",
      "L'écart relatif moyen est de 36.09661477787828%\n"
     ]
    },
    {
     "data": {
      "image/png": "[encoded data removed]",
      "text/plain": [
       "<Figure size 432x288 with 1 Axes>"
      ]
     },
     "metadata": {
      "needs_background": "light"
     },
     "output_type": "display_data"
    }
   ],
   "source": [
    "print('Resultat pour la regression 5-NN')\n",
    "ViewResults(neigh,X_test,y_test)"
   ]
  },
  {
   "cell_type": "code",
   "execution_count": 36,
   "id": "c18396ec",
   "metadata": {},
   "outputs": [
    {
     "name": "stdout",
     "output_type": "stream",
     "text": [
      "Resultat pour la regression via Dense Neural Net\n",
      "\n",
      "\n",
      "L'écart relatif moyen est de 201.49776425665337%\n"
     ]
    },
    {
     "data": {
      "image/png": "[encoded data removed]",
      "text/plain": [
       "<Figure size 432x288 with 1 Axes>"
      ]
     },
     "metadata": {
      "needs_background": "light"
     },
     "output_type": "display_data"
    }
   ],
   "source": [
    "print('Resultat pour la regression via Dense Neural Net')\n",
    "ViewResults(model,X_test,y_test)"
   ]
  },
  {
   "cell_type": "markdown",
   "id": "0fb88c80",
   "metadata": {},
   "source": [
    "## Backtest (repricing)"
   ]
  },
  {
   "cell_type": "code",
   "execution_count": null,
   "id": "ec1e99f7",
   "metadata": {},
   "outputs": [],
   "source": []
  },
  {
   "cell_type": "code",
   "execution_count": null,
   "id": "d936c6aa",
   "metadata": {},
   "outputs": [],
   "source": [
    "\n"
   ]
  },
  {
   "cell_type": "code",
   "execution_count": null,
   "id": "46ea0fff",
   "metadata": {},
   "outputs": [],
   "source": []
  },
  {
   "cell_type": "code",
   "execution_count": null,
   "id": "95688f69",
   "metadata": {},
   "outputs": [],
   "source": []
  },
  {
   "cell_type": "markdown",
   "id": "1d3b59fd",
   "metadata": {},
   "source": [
    "---------------"
   ]
  },
  {
   "cell_type": "markdown",
   "id": "23000f60",
   "metadata": {},
   "source": [
    "# III. Réseaux de neurones : Test classification multi-classe"
   ]
  },
  {
   "cell_type": "markdown",
   "id": "3524378d",
   "metadata": {},
   "source": [
    "## a. Classification des PD"
   ]
  },
  {
   "cell_type": "markdown",
   "id": "8c3b4085",
   "metadata": {},
   "source": [
    "**Transformation de la distribution** "
   ]
  },
  {
   "cell_type": "code",
   "execution_count": 86,
   "id": "f2d6214c",
   "metadata": {},
   "outputs": [],
   "source": [
    "lam = 1/y_train.mean()"
   ]
  },
  {
   "cell_type": "code",
   "execution_count": 87,
   "id": "54b139ef",
   "metadata": {},
   "outputs": [],
   "source": [
    "def loi_expo(x,lam) : \n",
    "    return lam * np.exp(- lam * x)"
   ]
  },
  {
   "cell_type": "code",
   "execution_count": 89,
   "id": "d312379d",
   "metadata": {},
   "outputs": [
    {
     "data": {
      "image/png": "[encoded data removed]",
      "text/plain": [
       "<Figure size 432x288 with 1 Axes>"
      ]
     },
     "metadata": {
      "needs_background": "light"
     },
     "output_type": "display_data"
    }
   ],
   "source": [
    "from pylab import *\n",
    "x_arg = linspace(0, 0.2, 100)\n",
    "y_arg = loi_expo(x_arg,lam) * 8\n",
    "\n",
    "plot(x_arg, y_arg)\n",
    "plt.hist(y_train, range = (0, 0.2), bins = 1000, edgecolor='orange')\n",
    "show()"
   ]
  },
  {
   "cell_type": "code",
   "execution_count": 90,
   "id": "fb3e76a0",
   "metadata": {},
   "outputs": [],
   "source": [
    "def distrib_function(x,lam) : \n",
    "    return 1 - np.exp(- lam * x)\n",
    "\n",
    "y_train_exp = distrib_function(y_train,lam)\n",
    "y_test_exp = distrib_function(y_test,lam)"
   ]
  },
  {
   "cell_type": "code",
   "execution_count": 98,
   "id": "5ee2f88b",
   "metadata": {},
   "outputs": [
    {
     "data": {
      "text/plain": [
       "(array([133., 136., 169., 212., 241., 292., 235., 234., 221., 275., 282.,\n",
       "        242., 242., 256., 199., 193., 236., 194., 240., 276., 332., 288.,\n",
       "        288., 397., 341., 278., 254., 361., 506., 444., 391., 475., 473.,\n",
       "        443., 522., 464., 478., 459., 454., 582., 597., 529., 560., 590.,\n",
       "        539., 500., 550., 567., 613., 457., 531., 458., 370., 491., 477.,\n",
       "        472., 368., 387., 373., 380., 463., 347., 294., 357., 346., 374.,\n",
       "        292., 279., 225., 202., 189., 260., 135., 155., 249., 204., 206.,\n",
       "        132., 243., 207., 222., 153., 138., 160., 178., 180., 174., 165.,\n",
       "        259., 171., 150., 233., 185., 149., 195., 253., 349., 314., 414.,\n",
       "        672.]),\n",
       " array([0.  , 0.01, 0.02, 0.03, 0.04, 0.05, 0.06, 0.07, 0.08, 0.09, 0.1 ,\n",
       "        0.11, 0.12, 0.13, 0.14, 0.15, 0.16, 0.17, 0.18, 0.19, 0.2 , 0.21,\n",
       "        0.22, 0.23, 0.24, 0.25, 0.26, 0.27, 0.28, 0.29, 0.3 , 0.31, 0.32,\n",
       "        0.33, 0.34, 0.35, 0.36, 0.37, 0.38, 0.39, 0.4 , 0.41, 0.42, 0.43,\n",
       "        0.44, 0.45, 0.46, 0.47, 0.48, 0.49, 0.5 , 0.51, 0.52, 0.53, 0.54,\n",
       "        0.55, 0.56, 0.57, 0.58, 0.59, 0.6 , 0.61, 0.62, 0.63, 0.64, 0.65,\n",
       "        0.66, 0.67, 0.68, 0.69, 0.7 , 0.71, 0.72, 0.73, 0.74, 0.75, 0.76,\n",
       "        0.77, 0.78, 0.79, 0.8 , 0.81, 0.82, 0.83, 0.84, 0.85, 0.86, 0.87,\n",
       "        0.88, 0.89, 0.9 , 0.91, 0.92, 0.93, 0.94, 0.95, 0.96, 0.97, 0.98,\n",
       "        0.99, 1.  ]),\n",
       " <BarContainer object of 100 artists>)"
      ]
     },
     "execution_count": 98,
     "metadata": {},
     "output_type": "execute_result"
    },
    {
     "data": {
      "image/png": "[encoded data removed]",
      "text/plain": [
       "<Figure size 432x288 with 1 Axes>"
      ]
     },
     "metadata": {
      "needs_background": "light"
     },
     "output_type": "display_data"
    }
   ],
   "source": [
    "plt.hist(y_train_exp, range = (0, 1), bins = 100)"
   ]
  },
  {
   "cell_type": "markdown",
   "id": "6e1bf401",
   "metadata": {},
   "source": [
    "**Règle du coude :** déterminer le nombre de clusters "
   ]
  },
  {
   "cell_type": "code",
   "execution_count": 91,
   "id": "18d934a5",
   "metadata": {},
   "outputs": [],
   "source": [
    "from sklearn.cluster import KMeans"
   ]
  },
  {
   "cell_type": "code",
   "execution_count": 92,
   "id": "c26413c0",
   "metadata": {},
   "outputs": [
    {
     "data": {
      "image/png": "[encoded data removed]",
      "text/plain": [
       "<Figure size 432x288 with 1 Axes>"
      ]
     },
     "metadata": {
      "needs_background": "light"
     },
     "output_type": "display_data"
    }
   ],
   "source": [
    "def regle_du_coude(base_input, nb_cluster_teste):\n",
    "    \n",
    "    distortions = []\n",
    "    df = pd.DataFrame(columns = ['X', 'Y']) \n",
    "    df[\"X\"]=base_input\n",
    "    df[\"Y\"]=base_input\n",
    "\n",
    "    for k in range(1,nb_cluster_teste+1):\n",
    "        kmeanModel = KMeans(n_clusters=k)\n",
    "        kmeanModel.fit(df)\n",
    "        distortions.append(kmeanModel.inertia_)\n",
    "    \n",
    "    plt.plot(range(1,nb_cluster_teste+1), distortions, 'rx--')\n",
    "    plt.xticks(range(0,nb_cluster_teste+1,2))\n",
    "    plt.xlabel('Nombre de clusters',)\n",
    "    plt.ylabel('Variance intra-classe')\n",
    "    plt.title('La méthode du coude')\n",
    "    plt.show()\n",
    "    \n",
    "regle_du_coude(y_train_exp,20)"
   ]
  },
  {
   "cell_type": "markdown",
   "id": "0c4c7abe",
   "metadata": {},
   "source": [
    "**Clustering :**"
   ]
  },
  {
   "cell_type": "code",
   "execution_count": 25,
   "id": "877da5ff",
   "metadata": {},
   "outputs": [],
   "source": [
    "#Au départ : reprendre base de train et de test créées dans la partie I. \n",
    "#X_train, y_train, X_test, y_test\n",
    "\n",
    "class Discretizer:\n",
    "    def __init__(self, y_train, nb_class=6):\n",
    "        \n",
    "        self.nb_class = nb_class\n",
    "        self.y_train = y_train.reshape((-1,1))\n",
    "\n",
    "        self.kbins = KBinsDiscretizer(n_bins=self.nb_class, encode='ordinal', strategy='kmeans')#strategy : uniform, quantile, kmeans\n",
    "        self.kbins.fit(self.y_train)\n",
    "        \n",
    "        \n",
    "    def discretize(self,y):\n",
    "        y = y.reshape((-1,1))\n",
    "        y_class = self.kbins.transform(y)\n",
    "        return y_class"
   ]
  },
  {
   "cell_type": "code",
   "execution_count": 26,
   "id": "5013651a",
   "metadata": {},
   "outputs": [],
   "source": [
    "nb_class = 6\n",
    "discretizer = Discretizer(y_train_exp, nb_class=nb_class)\n",
    "\n",
    "y_train_class = discretizer.discretize(y_train_exp)\n",
    "y_test_class  = discretizer.discretize(y_test_exp)"
   ]
  },
  {
   "cell_type": "code",
   "execution_count": 27,
   "id": "af46a181",
   "metadata": {},
   "outputs": [
    {
     "data": {
      "text/plain": [
       "array([0.008119  , 0.00808733, 0.0155345 , ..., 0.00557148, 0.01532422,\n",
       "       0.00411899])"
      ]
     },
     "execution_count": 27,
     "metadata": {},
     "output_type": "execute_result"
    }
   ],
   "source": [
    "y_train"
   ]
  },
  {
   "cell_type": "code",
   "execution_count": 28,
   "id": "00741a45",
   "metadata": {},
   "outputs": [
    {
     "data": {
      "image/png": "[encoded data removed]",
      "text/plain": [
       "<Figure size 432x288 with 1 Axes>"
      ]
     },
     "metadata": {
      "needs_background": "light"
     },
     "output_type": "display_data"
    }
   ],
   "source": [
    "plt.hist(y_train_class, range = (0, nb_class), bins = nb_class, edgecolor='black' )\n",
    "plt.xlabel('Classes')\n",
    "plt.ylabel('Nombre de bonds')\n",
    "plt.title('Histogramme du nombre de bonds par classe - base de train')\n",
    "plt.show()"
   ]
  },
  {
   "cell_type": "code",
   "execution_count": 29,
   "id": "49a7b52f",
   "metadata": {},
   "outputs": [
    {
     "data": {
      "image/png": "[encoded data removed]",
      "text/plain": [
       "<Figure size 432x288 with 1 Axes>"
      ]
     },
     "metadata": {
      "needs_background": "light"
     },
     "output_type": "display_data"
    }
   ],
   "source": [
    "plt.hist(y_test_class, range = (0, nb_class), bins = nb_class, edgecolor='black' )\n",
    "plt.xlabel('Classes')\n",
    "plt.ylabel('Nombre de bonds')\n",
    "plt.title('Histogramme du nombre de bonds par classe - base de test')\n",
    "plt.show()"
   ]
  },
  {
   "cell_type": "code",
   "execution_count": null,
   "id": "b23a4442",
   "metadata": {},
   "outputs": [],
   "source": []
  },
  {
   "cell_type": "markdown",
   "id": "32ef32c0",
   "metadata": {},
   "source": [
    "## b. Implémentation du modèle"
   ]
  },
  {
   "cell_type": "code",
   "execution_count": 30,
   "id": "619f1ece",
   "metadata": {},
   "outputs": [],
   "source": [
    "\"\"\"\n",
    "input_shape = (20, 1, 34)\n",
    "\n",
    "num_classes=6\n",
    "\n",
    "from tensorflow.keras import regularizers\n",
    "from tensorflow.keras.datasets import mnist # subroutines for fetching the MNIST dataset\n",
    "from tensorflow.keras.models import Model, Sequential # basic class for specifying and training a neural network\n",
    "from tensorflow.keras.layers import Input, Conv2D, MaxPooling2D, Dense, Dropout, Activation, Flatten \n",
    "# --------------------------------------\n",
    "# Network params\n",
    "# --------------------------------------\n",
    "# Network params\n",
    "batch_size = 32    # in each iteration, we consider 32 training examples at once\n",
    "num_epochs = 15    # we iterate 15 times over the entire training set\n",
    "kernel_size = 5    # we will use 5x5 kernels throughout\n",
    "pool_size = 2      # we will use 2x2 pooling throughout\n",
    "conv_depth_1 = 6   # we will initially have 6 kernels in first conv. layer...\n",
    "conv_depth_2 = 16  # ...switching to 16 after the first pooling layer\n",
    "drop_prob_1 = 0.   # dropout after pooling with probability 0.\n",
    "drop_prob_2 = 0.   # dropout in the FC layer with probability 0.\n",
    "hidden_size = 128  # the FC layer will have 128neurons\n",
    "weight_penalty = 0. # Factor for weights penalty\n",
    "\n",
    "# --------------------------------------\n",
    "# CNN network definition \n",
    "# --------------------------------------\n",
    "# inp = Input(shape=(1,height,width)) # greyscale --> depth==1\n",
    "# model = Model(input=inp, output=out) # To define a model, just specify its input and output layers\n",
    "\n",
    "model = Sequential()\n",
    "# Conv [8] -> Pool (with dropout on the pooling layer)\n",
    "model.add( Conv2D(conv_depth_1, (kernel_size,kernel_size), padding='same', activation='relu', data_format=\"channels_last\", input_shape=(20,1,34)) )\n",
    "#model.add( MaxPooling2D(pool_size=(pool_size, pool_size)) )\n",
    "#model.add( Dropout(drop_prob_1) )\n",
    "\n",
    "# Conv [16] -> Pool (with dropout on the pooling layer)\n",
    "#model.add( Conv2D(conv_depth_2, (kernel_size,kernel_size), padding='same', activation='relu') )\n",
    "#model.add( MaxPooling2D(pool_size=(pool_size, pool_size)) )\n",
    "#model.add( Dropout(drop_prob_1) )\n",
    "\n",
    "# Now flatten to 1D, apply FC -> ReLU (with dropout) -> softmax\n",
    "model.add( Flatten() )\n",
    "#model.add( Dense(hidden_size, activation='relu', kernel_regularizer=regularizers.l2(weight_penalty)) )\n",
    "#model.add( Dropout(drop_prob_2) )\n",
    "model.add( Dense(num_classes, activation='softmax') )\n",
    "\n",
    "print(model.summary())\n",
    "\n",
    "\"\"\"\n",
    "\n",
    "model = Sequential()\n",
    "#model.add(Conv1D(12, 2, activation='relu',input_shape=input_shape[1:]))\n",
    "model.add(Dense(units=2000,input_dim=69)) #6 is good\n",
    "model.add(Dense(units=2000))\n",
    "model.add(Dropout(0.4))\n",
    "model.add(Dense(units=nb_class,activation=\"softmax\")) #output\n",
    "\n",
    "\n",
    "#32, 3, activation='relu', input_shape=input_shape[2:])(x)\n",
    "\n",
    "\n"
   ]
  },
  {
   "cell_type": "code",
   "execution_count": 31,
   "id": "73efbdaf",
   "metadata": {},
   "outputs": [
    {
     "name": "stderr",
     "output_type": "stream",
     "text": [
      "C:\\Users\\mathilde.binet\\Anaconda3\\lib\\site-packages\\tensorflow\\python\\keras\\optimizer_v2\\optimizer_v2.py:374: UserWarning: The `lr` argument is deprecated, use `learning_rate` instead.\n",
      "  warnings.warn(\n"
     ]
    }
   ],
   "source": [
    "from tensorflow import keras \n",
    "\n",
    "model.compile(optimizer=keras.optimizers.Adam(lr=0.0003),\n",
    "              loss=keras.losses.SparseCategoricalCrossentropy(from_logits=False), # default from_logits=False\n",
    "              metrics=[keras.metrics.SparseCategoricalAccuracy()])"
   ]
  },
  {
   "cell_type": "code",
   "execution_count": 48,
   "id": "375a0a50",
   "metadata": {},
   "outputs": [],
   "source": [
    "#model.fit(X_train,y_train,validation_split=0.4, epochs=40)"
   ]
  },
  {
   "cell_type": "code",
   "execution_count": 32,
   "id": "40354764",
   "metadata": {},
   "outputs": [
    {
     "name": "stdout",
     "output_type": "stream",
     "text": [
      "Epoch 1/100\n",
      "250/250 [==============================] - 15s 56ms/step - loss: 1.5203 - sparse_categorical_accuracy: 0.3756 - val_loss: 1.4614 - val_sparse_categorical_accuracy: 0.3994\n",
      "Epoch 2/100\n",
      "250/250 [==============================] - 14s 54ms/step - loss: 1.4998 - sparse_categorical_accuracy: 0.4028 - val_loss: 1.4520 - val_sparse_categorical_accuracy: 0.3908\n",
      "Epoch 3/100\n",
      "250/250 [==============================] - 15s 59ms/step - loss: 1.4398 - sparse_categorical_accuracy: 0.4028 - val_loss: 1.4053 - val_sparse_categorical_accuracy: 0.4081\n",
      "Epoch 4/100\n",
      "250/250 [==============================] - 15s 60ms/step - loss: 1.4262 - sparse_categorical_accuracy: 0.4138 - val_loss: 1.4213 - val_sparse_categorical_accuracy: 0.4241\n",
      "Epoch 5/100\n",
      "250/250 [==============================] - 14s 57ms/step - loss: 1.4056 - sparse_categorical_accuracy: 0.3962 - val_loss: 1.4536 - val_sparse_categorical_accuracy: 0.4146\n",
      "Epoch 6/100\n",
      "250/250 [==============================] - 13s 51ms/step - loss: 1.4015 - sparse_categorical_accuracy: 0.4156 - val_loss: 1.4395 - val_sparse_categorical_accuracy: 0.4115\n",
      "Epoch 7/100\n",
      "250/250 [==============================] - 13s 51ms/step - loss: 1.4256 - sparse_categorical_accuracy: 0.4052 - val_loss: 1.4092 - val_sparse_categorical_accuracy: 0.4041\n",
      "Epoch 8/100\n",
      "250/250 [==============================] - 13s 50ms/step - loss: 1.3923 - sparse_categorical_accuracy: 0.4296 - val_loss: 1.3905 - val_sparse_categorical_accuracy: 0.4192\n",
      "Epoch 9/100\n",
      "250/250 [==============================] - 12s 50ms/step - loss: 1.3819 - sparse_categorical_accuracy: 0.4210 - val_loss: 1.3919 - val_sparse_categorical_accuracy: 0.4158\n",
      "Epoch 10/100\n",
      "250/250 [==============================] - 13s 52ms/step - loss: 1.3627 - sparse_categorical_accuracy: 0.4366 - val_loss: 1.3939 - val_sparse_categorical_accuracy: 0.4247\n",
      "Epoch 11/100\n",
      "250/250 [==============================] - 13s 50ms/step - loss: 1.3807 - sparse_categorical_accuracy: 0.4092 - val_loss: 1.3972 - val_sparse_categorical_accuracy: 0.4090\n",
      "Epoch 12/100\n",
      "250/250 [==============================] - 13s 50ms/step - loss: 1.3797 - sparse_categorical_accuracy: 0.4210 - val_loss: 1.4020 - val_sparse_categorical_accuracy: 0.4173\n",
      "Epoch 13/100\n",
      "250/250 [==============================] - 12s 50ms/step - loss: 1.3815 - sparse_categorical_accuracy: 0.4158 - val_loss: 1.3892 - val_sparse_categorical_accuracy: 0.4173\n",
      "Epoch 14/100\n",
      "250/250 [==============================] - 12s 49ms/step - loss: 1.3783 - sparse_categorical_accuracy: 0.4320 - val_loss: 1.3921 - val_sparse_categorical_accuracy: 0.4155\n",
      "Epoch 15/100\n",
      "250/250 [==============================] - 13s 50ms/step - loss: 1.3730 - sparse_categorical_accuracy: 0.4208 - val_loss: 1.3885 - val_sparse_categorical_accuracy: 0.4007\n",
      "Epoch 16/100\n",
      "250/250 [==============================] - 12s 50ms/step - loss: 1.3488 - sparse_categorical_accuracy: 0.4310 - val_loss: 1.3886 - val_sparse_categorical_accuracy: 0.4201\n",
      "Epoch 17/100\n",
      "250/250 [==============================] - 15s 59ms/step - loss: 1.3872 - sparse_categorical_accuracy: 0.4172 - val_loss: 1.3847 - val_sparse_categorical_accuracy: 0.4235\n",
      "Epoch 18/100\n",
      "250/250 [==============================] - 14s 57ms/step - loss: 1.3848 - sparse_categorical_accuracy: 0.4174 - val_loss: 1.3876 - val_sparse_categorical_accuracy: 0.4226\n",
      "Epoch 19/100\n",
      "250/250 [==============================] - 15s 59ms/step - loss: 1.3589 - sparse_categorical_accuracy: 0.4264 - val_loss: 1.3912 - val_sparse_categorical_accuracy: 0.4226\n",
      "Epoch 20/100\n",
      "250/250 [==============================] - 15s 59ms/step - loss: 1.3630 - sparse_categorical_accuracy: 0.4174 - val_loss: 1.3849 - val_sparse_categorical_accuracy: 0.4303\n",
      "Epoch 21/100\n",
      "250/250 [==============================] - 14s 57ms/step - loss: 1.3532 - sparse_categorical_accuracy: 0.4274 - val_loss: 1.3934 - val_sparse_categorical_accuracy: 0.4047\n",
      "Epoch 22/100\n",
      "250/250 [==============================] - 14s 56ms/step - loss: 1.3736 - sparse_categorical_accuracy: 0.4174 - val_loss: 1.3908 - val_sparse_categorical_accuracy: 0.4170\n",
      "Epoch 23/100\n",
      "250/250 [==============================] - 15s 58ms/step - loss: 1.3954 - sparse_categorical_accuracy: 0.4178 - val_loss: 1.4005 - val_sparse_categorical_accuracy: 0.4099\n",
      "Epoch 24/100\n",
      "250/250 [==============================] - 14s 55ms/step - loss: 1.3704 - sparse_categorical_accuracy: 0.4224 - val_loss: 1.3935 - val_sparse_categorical_accuracy: 0.4337\n",
      "Epoch 25/100\n",
      "250/250 [==============================] - 14s 54ms/step - loss: 1.3665 - sparse_categorical_accuracy: 0.4194 - val_loss: 1.3990 - val_sparse_categorical_accuracy: 0.4019\n",
      "Epoch 26/100\n",
      "250/250 [==============================] - 15s 60ms/step - loss: 1.3848 - sparse_categorical_accuracy: 0.4212 - val_loss: 1.3841 - val_sparse_categorical_accuracy: 0.4173\n",
      "Epoch 27/100\n",
      "250/250 [==============================] - 14s 57ms/step - loss: 1.3514 - sparse_categorical_accuracy: 0.4382 - val_loss: 1.3850 - val_sparse_categorical_accuracy: 0.4204s: 1.3539 - sparse_catego\n",
      "Epoch 28/100\n",
      "250/250 [==============================] - 13s 52ms/step - loss: 1.3629 - sparse_categorical_accuracy: 0.4300 - val_loss: 1.3844 - val_sparse_categorical_accuracy: 0.4173\n",
      "Epoch 29/100\n",
      "250/250 [==============================] - 13s 51ms/step - loss: 1.3746 - sparse_categorical_accuracy: 0.4200 - val_loss: 1.3934 - val_sparse_categorical_accuracy: 0.4059\n",
      "Epoch 30/100\n",
      "250/250 [==============================] - 13s 53ms/step - loss: 1.3511 - sparse_categorical_accuracy: 0.4290 - val_loss: 1.3915 - val_sparse_categorical_accuracy: 0.4139\n",
      "Epoch 31/100\n",
      "250/250 [==============================] - 14s 56ms/step - loss: 1.3637 - sparse_categorical_accuracy: 0.4296 - val_loss: 1.3984 - val_sparse_categorical_accuracy: 0.4133\n",
      "Epoch 32/100\n",
      "250/250 [==============================] - 15s 60ms/step - loss: 1.3736 - sparse_categorical_accuracy: 0.4176 - val_loss: 1.3815 - val_sparse_categorical_accuracy: 0.4254\n",
      "Epoch 33/100\n",
      "250/250 [==============================] - 14s 57ms/step - loss: 1.3593 - sparse_categorical_accuracy: 0.4338 - val_loss: 1.3924 - val_sparse_categorical_accuracy: 0.4143\n",
      "Epoch 34/100\n",
      "250/250 [==============================] - 14s 55ms/step - loss: 1.3488 - sparse_categorical_accuracy: 0.4406 - val_loss: 1.3884 - val_sparse_categorical_accuracy: 0.4201\n",
      "Epoch 35/100\n",
      "250/250 [==============================] - 13s 52ms/step - loss: 1.3917 - sparse_categorical_accuracy: 0.4156 - val_loss: 1.3790 - val_sparse_categorical_accuracy: 0.4143\n",
      "Epoch 36/100\n",
      "250/250 [==============================] - 13s 54ms/step - loss: 1.3507 - sparse_categorical_accuracy: 0.4274 - val_loss: 1.3898 - val_sparse_categorical_accuracy: 0.4207\n",
      "Epoch 37/100\n",
      "250/250 [==============================] - 14s 57ms/step - loss: 1.3651 - sparse_categorical_accuracy: 0.4248 - val_loss: 1.3806 - val_sparse_categorical_accuracy: 0.4189\n",
      "Epoch 38/100\n",
      "250/250 [==============================] - 13s 50ms/step - loss: 1.3668 - sparse_categorical_accuracy: 0.4224 - val_loss: 1.3761 - val_sparse_categorical_accuracy: 0.4226\n",
      "Epoch 39/100\n",
      "250/250 [==============================] - 13s 52ms/step - loss: 1.3669 - sparse_categorical_accuracy: 0.4272 - val_loss: 1.3692 - val_sparse_categorical_accuracy: 0.4355\n",
      "Epoch 40/100\n",
      "250/250 [==============================] - 13s 50ms/step - loss: 1.3643 - sparse_categorical_accuracy: 0.4322 - val_loss: 1.3820 - val_sparse_categorical_accuracy: 0.4254\n",
      "Epoch 41/100\n",
      "250/250 [==============================] - 12s 49ms/step - loss: 1.3576 - sparse_categorical_accuracy: 0.4246 - val_loss: 1.3883 - val_sparse_categorical_accuracy: 0.4133\n",
      "Epoch 42/100\n",
      "250/250 [==============================] - 13s 50ms/step - loss: 1.3689 - sparse_categorical_accuracy: 0.4318 - val_loss: 1.4020 - val_sparse_categorical_accuracy: 0.4198\n",
      "Epoch 43/100\n",
      "250/250 [==============================] - 13s 52ms/step - loss: 1.3783 - sparse_categorical_accuracy: 0.4118 - val_loss: 1.3939 - val_sparse_categorical_accuracy: 0.4118\n",
      "Epoch 44/100\n",
      "250/250 [==============================] - 13s 53ms/step - loss: 1.3990 - sparse_categorical_accuracy: 0.4038 - val_loss: 1.3922 - val_sparse_categorical_accuracy: 0.4102\n",
      "Epoch 45/100\n"
     ]
    },
    {
     "name": "stdout",
     "output_type": "stream",
     "text": [
      "250/250 [==============================] - 14s 54ms/step - loss: 1.3630 - sparse_categorical_accuracy: 0.4266 - val_loss: 1.3817 - val_sparse_categorical_accuracy: 0.4093\n",
      "Epoch 46/100\n",
      "250/250 [==============================] - 12s 50ms/step - loss: 1.3402 - sparse_categorical_accuracy: 0.4368 - val_loss: 1.3775 - val_sparse_categorical_accuracy: 0.4210\n",
      "Epoch 47/100\n",
      "250/250 [==============================] - 14s 56ms/step - loss: 1.3292 - sparse_categorical_accuracy: 0.4402 - val_loss: 1.3874 - val_sparse_categorical_accuracy: 0.4278\n",
      "Epoch 48/100\n",
      "250/250 [==============================] - 14s 55ms/step - loss: 1.3778 - sparse_categorical_accuracy: 0.4240 - val_loss: 1.3722 - val_sparse_categorical_accuracy: 0.4300\n",
      "Epoch 49/100\n",
      "250/250 [==============================] - 15s 59ms/step - loss: 1.3650 - sparse_categorical_accuracy: 0.4206 - val_loss: 1.3813 - val_sparse_categorical_accuracy: 0.4272\n",
      "Epoch 50/100\n",
      "250/250 [==============================] - 16s 63ms/step - loss: 1.3645 - sparse_categorical_accuracy: 0.4244 - val_loss: 1.3797 - val_sparse_categorical_accuracy: 0.4303\n",
      "Epoch 51/100\n",
      "250/250 [==============================] - 16s 63ms/step - loss: 1.3405 - sparse_categorical_accuracy: 0.4328 - val_loss: 1.3846 - val_sparse_categorical_accuracy: 0.4195\n",
      "Epoch 52/100\n",
      "250/250 [==============================] - 15s 60ms/step - loss: 1.3744 - sparse_categorical_accuracy: 0.4246 - val_loss: 1.3868 - val_sparse_categorical_accuracy: 0.4281\n",
      "Epoch 53/100\n",
      "250/250 [==============================] - 15s 60ms/step - loss: 1.3602 - sparse_categorical_accuracy: 0.4260 - val_loss: 1.3794 - val_sparse_categorical_accuracy: 0.4244\n",
      "Epoch 54/100\n",
      "250/250 [==============================] - 14s 57ms/step - loss: 1.3542 - sparse_categorical_accuracy: 0.4268 - val_loss: 1.3855 - val_sparse_categorical_accuracy: 0.4155\n",
      "Epoch 55/100\n",
      "250/250 [==============================] - 14s 58ms/step - loss: 1.3659 - sparse_categorical_accuracy: 0.4208 - val_loss: 1.3698 - val_sparse_categorical_accuracy: 0.4244\n",
      "Epoch 56/100\n",
      "250/250 [==============================] - 14s 57ms/step - loss: 1.3568 - sparse_categorical_accuracy: 0.4326 - val_loss: 1.3897 - val_sparse_categorical_accuracy: 0.4331\n",
      "Epoch 57/100\n",
      "250/250 [==============================] - 17s 70ms/step - loss: 1.3806 - sparse_categorical_accuracy: 0.4182 - val_loss: 1.3733 - val_sparse_categorical_accuracy: 0.4324\n",
      "Epoch 58/100\n",
      "250/250 [==============================] - 17s 67ms/step - loss: 1.3447 - sparse_categorical_accuracy: 0.4300 - val_loss: 1.3818 - val_sparse_categorical_accuracy: 0.4232\n",
      "Epoch 59/100\n",
      "250/250 [==============================] - 16s 65ms/step - loss: 1.3514 - sparse_categorical_accuracy: 0.4334 - val_loss: 1.3826 - val_sparse_categorical_accuracy: 0.4195\n",
      "Epoch 60/100\n",
      "250/250 [==============================] - 16s 64ms/step - loss: 1.3439 - sparse_categorical_accuracy: 0.4296 - val_loss: 1.3942 - val_sparse_categorical_accuracy: 0.4241.3370 - sparse_ca\n",
      "Epoch 61/100\n",
      "250/250 [==============================] - 15s 61ms/step - loss: 1.3826 - sparse_categorical_accuracy: 0.4196 - val_loss: 1.3783 - val_sparse_categorical_accuracy: 0.4223\n",
      "Epoch 62/100\n",
      "250/250 [==============================] - 14s 58ms/step - loss: 1.3580 - sparse_categorical_accuracy: 0.4228 - val_loss: 1.3858 - val_sparse_categorical_accuracy: 0.4229\n",
      "Epoch 63/100\n",
      "250/250 [==============================] - 15s 58ms/step - loss: 1.3695 - sparse_categorical_accuracy: 0.4260 - val_loss: 1.3829 - val_sparse_categorical_accuracy: 0.4183\n",
      "Epoch 64/100\n",
      "250/250 [==============================] - 14s 57ms/step - loss: 1.3533 - sparse_categorical_accuracy: 0.4402 - val_loss: 1.3901 - val_sparse_categorical_accuracy: 0.4183\n",
      "Epoch 65/100\n",
      "250/250 [==============================] - 14s 56ms/step - loss: 1.3649 - sparse_categorical_accuracy: 0.4270 - val_loss: 1.4071 - val_sparse_categorical_accuracy: 0.4115\n",
      "Epoch 66/100\n",
      "250/250 [==============================] - 15s 59ms/step - loss: 1.3612 - sparse_categorical_accuracy: 0.4274 - val_loss: 1.3756 - val_sparse_categorical_accuracy: 0.4241\n",
      "Epoch 67/100\n",
      "250/250 [==============================] - 14s 57ms/step - loss: 1.3513 - sparse_categorical_accuracy: 0.4248 - val_loss: 1.3876 - val_sparse_categorical_accuracy: 0.4238\n",
      "Epoch 68/100\n",
      "250/250 [==============================] - 14s 57ms/step - loss: 1.3719 - sparse_categorical_accuracy: 0.4292 - val_loss: 1.3761 - val_sparse_categorical_accuracy: 0.4272\n",
      "Epoch 69/100\n",
      "250/250 [==============================] - 15s 58ms/step - loss: 1.3844 - sparse_categorical_accuracy: 0.4184 - val_loss: 1.3838 - val_sparse_categorical_accuracy: 0.4213\n",
      "Epoch 70/100\n",
      "250/250 [==============================] - 15s 59ms/step - loss: 1.3394 - sparse_categorical_accuracy: 0.4308 - val_loss: 1.3710 - val_sparse_categorical_accuracy: 0.4272\n",
      "Epoch 71/100\n",
      "250/250 [==============================] - 14s 57ms/step - loss: 1.3501 - sparse_categorical_accuracy: 0.4390 - val_loss: 1.3846 - val_sparse_categorical_accuracy: 0.4078\n",
      "Epoch 72/100\n",
      "250/250 [==============================] - 13s 51ms/step - loss: 1.3699 - sparse_categorical_accuracy: 0.4250 - val_loss: 1.3868 - val_sparse_categorical_accuracy: 0.4170\n",
      "Epoch 73/100\n",
      "250/250 [==============================] - 13s 51ms/step - loss: 1.3637 - sparse_categorical_accuracy: 0.4328 - val_loss: 1.3719 - val_sparse_categorical_accuracy: 0.4207\n",
      "Epoch 74/100\n",
      "250/250 [==============================] - 13s 53ms/step - loss: 1.3591 - sparse_categorical_accuracy: 0.4286 - val_loss: 1.3753 - val_sparse_categorical_accuracy: 0.4300\n",
      "Epoch 75/100\n",
      "250/250 [==============================] - 13s 54ms/step - loss: 1.3582 - sparse_categorical_accuracy: 0.4246 - val_loss: 1.3768 - val_sparse_categorical_accuracy: 0.4365\n",
      "Epoch 76/100\n",
      "250/250 [==============================] - 14s 56ms/step - loss: 1.3613 - sparse_categorical_accuracy: 0.4246 - val_loss: 1.3803 - val_sparse_categorical_accuracy: 0.4226\n",
      "Epoch 77/100\n",
      "250/250 [==============================] - 13s 52ms/step - loss: 1.3612 - sparse_categorical_accuracy: 0.4240 - val_loss: 1.3819 - val_sparse_categorical_accuracy: 0.4235\n",
      "Epoch 78/100\n",
      "250/250 [==============================] - 13s 52ms/step - loss: 1.3666 - sparse_categorical_accuracy: 0.4256 - val_loss: 1.4062 - val_sparse_categorical_accuracy: 0.4109\n",
      "Epoch 79/100\n",
      "250/250 [==============================] - 13s 53ms/step - loss: 1.3533 - sparse_categorical_accuracy: 0.4364 - val_loss: 1.3762 - val_sparse_categorical_accuracy: 0.4281\n",
      "Epoch 80/100\n",
      "250/250 [==============================] - 13s 51ms/step - loss: 1.3508 - sparse_categorical_accuracy: 0.4344 - val_loss: 1.3792 - val_sparse_categorical_accuracy: 0.4275\n",
      "Epoch 81/100\n",
      "250/250 [==============================] - 14s 55ms/step - loss: 1.3621 - sparse_categorical_accuracy: 0.4254 - val_loss: 1.3741 - val_sparse_categorical_accuracy: 0.4155\n",
      "Epoch 82/100\n",
      "250/250 [==============================] - 14s 57ms/step - loss: 1.3416 - sparse_categorical_accuracy: 0.4368 - val_loss: 1.3746 - val_sparse_categorical_accuracy: 0.4281\n",
      "Epoch 83/100\n",
      "250/250 [==============================] - 15s 58ms/step - loss: 1.3593 - sparse_categorical_accuracy: 0.4266 - val_loss: 1.3778 - val_sparse_categorical_accuracy: 0.4198loss: 1.3610 - sparse\n",
      "Epoch 84/100\n",
      "250/250 [==============================] - 13s 50ms/step - loss: 1.3745 - sparse_categorical_accuracy: 0.4252 - val_loss: 1.3794 - val_sparse_categorical_accuracy: 0.4303\n",
      "Epoch 85/100\n",
      "250/250 [==============================] - 13s 51ms/step - loss: 1.3597 - sparse_categorical_accuracy: 0.4300 - val_loss: 1.3795 - val_sparse_categorical_accuracy: 0.4173\n",
      "Epoch 86/100\n",
      "250/250 [==============================] - 14s 57ms/step - loss: 1.3756 - sparse_categorical_accuracy: 0.4182 - val_loss: 1.3858 - val_sparse_categorical_accuracy: 0.4192\n",
      "Epoch 87/100\n",
      "250/250 [==============================] - 14s 57ms/step - loss: 1.3543 - sparse_categorical_accuracy: 0.4330 - val_loss: 1.3768 - val_sparse_categorical_accuracy: 0.4244i\n",
      "Epoch 88/100\n",
      "250/250 [==============================] - 13s 52ms/step - loss: 1.3395 - sparse_categorical_accuracy: 0.4316 - val_loss: 1.3720 - val_sparse_categorical_accuracy: 0.4405\n",
      "Epoch 89/100\n"
     ]
    },
    {
     "name": "stdout",
     "output_type": "stream",
     "text": [
      "250/250 [==============================] - 13s 52ms/step - loss: 1.3587 - sparse_categorical_accuracy: 0.4292 - val_loss: 1.3817 - val_sparse_categorical_accuracy: 0.4155\n",
      "Epoch 90/100\n",
      "250/250 [==============================] - 14s 54ms/step - loss: 1.3734 - sparse_categorical_accuracy: 0.4234 - val_loss: 1.3768 - val_sparse_categorical_accuracy: 0.4275\n",
      "Epoch 91/100\n",
      "250/250 [==============================] - 14s 55ms/step - loss: 1.3517 - sparse_categorical_accuracy: 0.4384 - val_loss: 1.3692 - val_sparse_categorical_accuracy: 0.4306\n",
      "Epoch 92/100\n",
      "250/250 [==============================] - 13s 53ms/step - loss: 1.3561 - sparse_categorical_accuracy: 0.4284 - val_loss: 1.3771 - val_sparse_categorical_accuracy: 0.4217\n",
      "Epoch 93/100\n",
      "250/250 [==============================] - 13s 54ms/step - loss: 1.3611 - sparse_categorical_accuracy: 0.4236 - val_loss: 1.3781 - val_sparse_categorical_accuracy: 0.4201\n",
      "Epoch 94/100\n",
      "250/250 [==============================] - 13s 52ms/step - loss: 1.3448 - sparse_categorical_accuracy: 0.4364 - val_loss: 1.3777 - val_sparse_categorical_accuracy: 0.4102\n",
      "Epoch 95/100\n",
      "250/250 [==============================] - 13s 53ms/step - loss: 1.3633 - sparse_categorical_accuracy: 0.4328 - val_loss: 1.3830 - val_sparse_categorical_accuracy: 0.4112\n",
      "Epoch 96/100\n",
      "250/250 [==============================] - 13s 53ms/step - loss: 1.3637 - sparse_categorical_accuracy: 0.4218 - val_loss: 1.3867 - val_sparse_categorical_accuracy: 0.4207loss: 1.3838 - sparse_ - ETA: 9s - loss: 1.3542 - sparse_categorical_accura - ETA: 9s - loss: 1.3496 - sp - ETA: 7s - ETA: 3\n",
      "Epoch 97/100\n",
      "250/250 [==============================] - 13s 52ms/step - loss: 1.3444 - sparse_categorical_accuracy: 0.4388 - val_loss: 1.3739 - val_sparse_categorical_accuracy: 0.4306\n",
      "Epoch 98/100\n",
      "250/250 [==============================] - 13s 53ms/step - loss: 1.3604 - sparse_categorical_accuracy: 0.4268 - val_loss: 1.3718 - val_sparse_categorical_accuracy: 0.4297\n",
      "Epoch 99/100\n",
      "250/250 [==============================] - 14s 54ms/step - loss: 1.3623 - sparse_categorical_accuracy: 0.4328 - val_loss: 1.3786 - val_sparse_categorical_accuracy: 0.4204\n",
      "Epoch 100/100\n",
      "250/250 [==============================] - 13s 54ms/step - loss: 1.3585 - sparse_categorical_accuracy: 0.4228 - val_loss: 1.3989 - val_sparse_categorical_accuracy: 0.4198\n"
     ]
    }
   ],
   "source": [
    "\n",
    "\n",
    "\n",
    "\n",
    "history = model.fit(X_train, y_train_class,         # Train the model using the training set...\n",
    "          batch_size=20, epochs=100,\n",
    "          verbose=1, validation_split=0.1,steps_per_epoch=250)  "
   ]
  },
  {
   "cell_type": "code",
   "execution_count": 34,
   "id": "f38cae52",
   "metadata": {},
   "outputs": [
    {
     "name": "stdout",
     "output_type": "stream",
     "text": [
      "113/113 [==============================] - 1s 13ms/step - loss: 1.3911 - sparse_categorical_accuracy: 0.4210\n",
      "The final loss on the TEST set is: 1.39.\n",
      "The final sparse_categorical_accuracy on the TEST set is: 0.42.\n"
     ]
    },
    {
     "data": {
      "image/png": "[encoded data removed]",
      "text/plain": [
       "<Figure size 432x288 with 1 Axes>"
      ]
     },
     "metadata": {
      "needs_background": "light"
     },
     "output_type": "display_data"
    }
   ],
   "source": [
    "# --------------------------------------\n",
    "# Evaluation\n",
    "# --------------------------------------\n",
    "for loss_name, loss_value in list(zip(model.metrics_names, model.evaluate(X_test, y_test_class, verbose=1))):\n",
    "    print('The final {} on the TEST set is: {:.2f}.'.format(loss_name, loss_value)) # Evaluate the trained model on the test set!\n",
    "\n",
    "# --------------------------------------\n",
    "# Loss functions evolution\n",
    "# --------------------------------------\n",
    "plt.plot(history.history['loss'])\n",
    "plt.plot(history.history['val_loss'])\n",
    "plt.title('Model loss by epoch')\n",
    "plt.ylabel('loss')\n",
    "plt.xlabel('epoch')\n",
    "plt.legend(['train', 'valid'], loc='right')\n",
    "plt.show()"
   ]
  },
  {
   "cell_type": "code",
   "execution_count": 73,
   "id": "99ac8b95",
   "metadata": {},
   "outputs": [
    {
     "ename": "KeyboardInterrupt",
     "evalue": "",
     "output_type": "error",
     "traceback": [
      "\u001b[0;31m---------------------------------------------------------------------------\u001b[0m",
      "\u001b[0;31mKeyboardInterrupt\u001b[0m                         Traceback (most recent call last)",
      "\u001b[0;32m<ipython-input-73-6e20282b1106>\u001b[0m in \u001b[0;36m<module>\u001b[0;34m\u001b[0m\n\u001b[1;32m      5\u001b[0m \u001b[0;31m#poly & degree=11\u001b[0m\u001b[0;34m\u001b[0m\u001b[0;34m\u001b[0m\u001b[0;34m\u001b[0m\u001b[0m\n\u001b[1;32m      6\u001b[0m \u001b[0;34m\u001b[0m\u001b[0m\n\u001b[0;32m----> 7\u001b[0;31m \u001b[0mOvR_clf\u001b[0m \u001b[0;34m=\u001b[0m \u001b[0mOneVsRestClassifier\u001b[0m\u001b[0;34m(\u001b[0m\u001b[0mSVC\u001b[0m\u001b[0;34m(\u001b[0m\u001b[0mkernel\u001b[0m\u001b[0;34m=\u001b[0m\u001b[0;34m'poly'\u001b[0m\u001b[0;34m,\u001b[0m\u001b[0mdegree\u001b[0m\u001b[0;34m=\u001b[0m\u001b[0;36m3\u001b[0m\u001b[0;34m)\u001b[0m\u001b[0;34m,\u001b[0m\u001b[0mn_jobs\u001b[0m\u001b[0;34m=\u001b[0m\u001b[0;34m-\u001b[0m\u001b[0;36m1\u001b[0m\u001b[0;34m)\u001b[0m\u001b[0;34m.\u001b[0m\u001b[0mfit\u001b[0m\u001b[0;34m(\u001b[0m\u001b[0mX_train\u001b[0m\u001b[0;34m,\u001b[0m \u001b[0my_train_class\u001b[0m\u001b[0;34m)\u001b[0m\u001b[0;34m\u001b[0m\u001b[0;34m\u001b[0m\u001b[0m\n\u001b[0m\u001b[1;32m      8\u001b[0m \u001b[0;34m\u001b[0m\u001b[0m\n\u001b[1;32m      9\u001b[0m \u001b[0;34m\u001b[0m\u001b[0m\n",
      "\u001b[0;32m/opt/anaconda3/lib/python3.7/site-packages/sklearn/multiclass.py\u001b[0m in \u001b[0;36mfit\u001b[0;34m(self, X, y)\u001b[0m\n\u001b[1;32m    243\u001b[0m                 \u001b[0;34m\"not %s\"\u001b[0m \u001b[0;34m%\u001b[0m \u001b[0mself\u001b[0m\u001b[0;34m.\u001b[0m\u001b[0mlabel_binarizer_\u001b[0m\u001b[0;34m.\u001b[0m\u001b[0mclasses_\u001b[0m\u001b[0;34m[\u001b[0m\u001b[0mi\u001b[0m\u001b[0;34m]\u001b[0m\u001b[0;34m,\u001b[0m\u001b[0;34m\u001b[0m\u001b[0;34m\u001b[0m\u001b[0m\n\u001b[1;32m    244\u001b[0m                 self.label_binarizer_.classes_[i]])\n\u001b[0;32m--> 245\u001b[0;31m             for i, column in enumerate(columns))\n\u001b[0m\u001b[1;32m    246\u001b[0m \u001b[0;34m\u001b[0m\u001b[0m\n\u001b[1;32m    247\u001b[0m         \u001b[0;32mreturn\u001b[0m \u001b[0mself\u001b[0m\u001b[0;34m\u001b[0m\u001b[0;34m\u001b[0m\u001b[0m\n",
      "\u001b[0;32m/opt/anaconda3/lib/python3.7/site-packages/joblib/parallel.py\u001b[0m in \u001b[0;36m__call__\u001b[0;34m(self, iterable)\u001b[0m\n\u001b[1;32m    932\u001b[0m \u001b[0;34m\u001b[0m\u001b[0m\n\u001b[1;32m    933\u001b[0m             \u001b[0;32mwith\u001b[0m \u001b[0mself\u001b[0m\u001b[0;34m.\u001b[0m\u001b[0m_backend\u001b[0m\u001b[0;34m.\u001b[0m\u001b[0mretrieval_context\u001b[0m\u001b[0;34m(\u001b[0m\u001b[0;34m)\u001b[0m\u001b[0;34m:\u001b[0m\u001b[0;34m\u001b[0m\u001b[0;34m\u001b[0m\u001b[0m\n\u001b[0;32m--> 934\u001b[0;31m                 \u001b[0mself\u001b[0m\u001b[0;34m.\u001b[0m\u001b[0mretrieve\u001b[0m\u001b[0;34m(\u001b[0m\u001b[0;34m)\u001b[0m\u001b[0;34m\u001b[0m\u001b[0;34m\u001b[0m\u001b[0m\n\u001b[0m\u001b[1;32m    935\u001b[0m             \u001b[0;31m# Make sure that we get a last message telling us we are done\u001b[0m\u001b[0;34m\u001b[0m\u001b[0;34m\u001b[0m\u001b[0;34m\u001b[0m\u001b[0m\n\u001b[1;32m    936\u001b[0m             \u001b[0melapsed_time\u001b[0m \u001b[0;34m=\u001b[0m \u001b[0mtime\u001b[0m\u001b[0;34m.\u001b[0m\u001b[0mtime\u001b[0m\u001b[0;34m(\u001b[0m\u001b[0;34m)\u001b[0m \u001b[0;34m-\u001b[0m \u001b[0mself\u001b[0m\u001b[0;34m.\u001b[0m\u001b[0m_start_time\u001b[0m\u001b[0;34m\u001b[0m\u001b[0;34m\u001b[0m\u001b[0m\n",
      "\u001b[0;32m/opt/anaconda3/lib/python3.7/site-packages/joblib/parallel.py\u001b[0m in \u001b[0;36mretrieve\u001b[0;34m(self)\u001b[0m\n\u001b[1;32m    831\u001b[0m             \u001b[0;32mtry\u001b[0m\u001b[0;34m:\u001b[0m\u001b[0;34m\u001b[0m\u001b[0;34m\u001b[0m\u001b[0m\n\u001b[1;32m    832\u001b[0m                 \u001b[0;32mif\u001b[0m \u001b[0mgetattr\u001b[0m\u001b[0;34m(\u001b[0m\u001b[0mself\u001b[0m\u001b[0;34m.\u001b[0m\u001b[0m_backend\u001b[0m\u001b[0;34m,\u001b[0m \u001b[0;34m'supports_timeout'\u001b[0m\u001b[0;34m,\u001b[0m \u001b[0;32mFalse\u001b[0m\u001b[0;34m)\u001b[0m\u001b[0;34m:\u001b[0m\u001b[0;34m\u001b[0m\u001b[0;34m\u001b[0m\u001b[0m\n\u001b[0;32m--> 833\u001b[0;31m                     \u001b[0mself\u001b[0m\u001b[0;34m.\u001b[0m\u001b[0m_output\u001b[0m\u001b[0;34m.\u001b[0m\u001b[0mextend\u001b[0m\u001b[0;34m(\u001b[0m\u001b[0mjob\u001b[0m\u001b[0;34m.\u001b[0m\u001b[0mget\u001b[0m\u001b[0;34m(\u001b[0m\u001b[0mtimeout\u001b[0m\u001b[0;34m=\u001b[0m\u001b[0mself\u001b[0m\u001b[0;34m.\u001b[0m\u001b[0mtimeout\u001b[0m\u001b[0;34m)\u001b[0m\u001b[0;34m)\u001b[0m\u001b[0;34m\u001b[0m\u001b[0;34m\u001b[0m\u001b[0m\n\u001b[0m\u001b[1;32m    834\u001b[0m                 \u001b[0;32melse\u001b[0m\u001b[0;34m:\u001b[0m\u001b[0;34m\u001b[0m\u001b[0;34m\u001b[0m\u001b[0m\n\u001b[1;32m    835\u001b[0m                     \u001b[0mself\u001b[0m\u001b[0;34m.\u001b[0m\u001b[0m_output\u001b[0m\u001b[0;34m.\u001b[0m\u001b[0mextend\u001b[0m\u001b[0;34m(\u001b[0m\u001b[0mjob\u001b[0m\u001b[0;34m.\u001b[0m\u001b[0mget\u001b[0m\u001b[0;34m(\u001b[0m\u001b[0;34m)\u001b[0m\u001b[0;34m)\u001b[0m\u001b[0;34m\u001b[0m\u001b[0;34m\u001b[0m\u001b[0m\n",
      "\u001b[0;32m/opt/anaconda3/lib/python3.7/site-packages/joblib/_parallel_backends.py\u001b[0m in \u001b[0;36mwrap_future_result\u001b[0;34m(future, timeout)\u001b[0m\n\u001b[1;32m    519\u001b[0m         AsyncResults.get from multiprocessing.\"\"\"\n\u001b[1;32m    520\u001b[0m         \u001b[0;32mtry\u001b[0m\u001b[0;34m:\u001b[0m\u001b[0;34m\u001b[0m\u001b[0;34m\u001b[0m\u001b[0m\n\u001b[0;32m--> 521\u001b[0;31m             \u001b[0;32mreturn\u001b[0m \u001b[0mfuture\u001b[0m\u001b[0;34m.\u001b[0m\u001b[0mresult\u001b[0m\u001b[0;34m(\u001b[0m\u001b[0mtimeout\u001b[0m\u001b[0;34m=\u001b[0m\u001b[0mtimeout\u001b[0m\u001b[0;34m)\u001b[0m\u001b[0;34m\u001b[0m\u001b[0;34m\u001b[0m\u001b[0m\n\u001b[0m\u001b[1;32m    522\u001b[0m         \u001b[0;32mexcept\u001b[0m \u001b[0mLokyTimeoutError\u001b[0m\u001b[0;34m:\u001b[0m\u001b[0;34m\u001b[0m\u001b[0;34m\u001b[0m\u001b[0m\n\u001b[1;32m    523\u001b[0m             \u001b[0;32mraise\u001b[0m \u001b[0mTimeoutError\u001b[0m\u001b[0;34m(\u001b[0m\u001b[0;34m)\u001b[0m\u001b[0;34m\u001b[0m\u001b[0;34m\u001b[0m\u001b[0m\n",
      "\u001b[0;32m/opt/anaconda3/lib/python3.7/concurrent/futures/_base.py\u001b[0m in \u001b[0;36mresult\u001b[0;34m(self, timeout)\u001b[0m\n\u001b[1;32m    428\u001b[0m                 \u001b[0;32mreturn\u001b[0m \u001b[0mself\u001b[0m\u001b[0;34m.\u001b[0m\u001b[0m__get_result\u001b[0m\u001b[0;34m(\u001b[0m\u001b[0;34m)\u001b[0m\u001b[0;34m\u001b[0m\u001b[0;34m\u001b[0m\u001b[0m\n\u001b[1;32m    429\u001b[0m \u001b[0;34m\u001b[0m\u001b[0m\n\u001b[0;32m--> 430\u001b[0;31m             \u001b[0mself\u001b[0m\u001b[0;34m.\u001b[0m\u001b[0m_condition\u001b[0m\u001b[0;34m.\u001b[0m\u001b[0mwait\u001b[0m\u001b[0;34m(\u001b[0m\u001b[0mtimeout\u001b[0m\u001b[0;34m)\u001b[0m\u001b[0;34m\u001b[0m\u001b[0;34m\u001b[0m\u001b[0m\n\u001b[0m\u001b[1;32m    431\u001b[0m \u001b[0;34m\u001b[0m\u001b[0m\n\u001b[1;32m    432\u001b[0m             \u001b[0;32mif\u001b[0m \u001b[0mself\u001b[0m\u001b[0;34m.\u001b[0m\u001b[0m_state\u001b[0m \u001b[0;32min\u001b[0m \u001b[0;34m[\u001b[0m\u001b[0mCANCELLED\u001b[0m\u001b[0;34m,\u001b[0m \u001b[0mCANCELLED_AND_NOTIFIED\u001b[0m\u001b[0;34m]\u001b[0m\u001b[0;34m:\u001b[0m\u001b[0;34m\u001b[0m\u001b[0;34m\u001b[0m\u001b[0m\n",
      "\u001b[0;32m/opt/anaconda3/lib/python3.7/threading.py\u001b[0m in \u001b[0;36mwait\u001b[0;34m(self, timeout)\u001b[0m\n\u001b[1;32m    294\u001b[0m         \u001b[0;32mtry\u001b[0m\u001b[0;34m:\u001b[0m    \u001b[0;31m# restore state no matter what (e.g., KeyboardInterrupt)\u001b[0m\u001b[0;34m\u001b[0m\u001b[0;34m\u001b[0m\u001b[0m\n\u001b[1;32m    295\u001b[0m             \u001b[0;32mif\u001b[0m \u001b[0mtimeout\u001b[0m \u001b[0;32mis\u001b[0m \u001b[0;32mNone\u001b[0m\u001b[0;34m:\u001b[0m\u001b[0;34m\u001b[0m\u001b[0;34m\u001b[0m\u001b[0m\n\u001b[0;32m--> 296\u001b[0;31m                 \u001b[0mwaiter\u001b[0m\u001b[0;34m.\u001b[0m\u001b[0macquire\u001b[0m\u001b[0;34m(\u001b[0m\u001b[0;34m)\u001b[0m\u001b[0;34m\u001b[0m\u001b[0;34m\u001b[0m\u001b[0m\n\u001b[0m\u001b[1;32m    297\u001b[0m                 \u001b[0mgotit\u001b[0m \u001b[0;34m=\u001b[0m \u001b[0;32mTrue\u001b[0m\u001b[0;34m\u001b[0m\u001b[0;34m\u001b[0m\u001b[0m\n\u001b[1;32m    298\u001b[0m             \u001b[0;32melse\u001b[0m\u001b[0;34m:\u001b[0m\u001b[0;34m\u001b[0m\u001b[0;34m\u001b[0m\u001b[0m\n",
      "\u001b[0;31mKeyboardInterrupt\u001b[0m: "
     ]
    }
   ],
   "source": [
    "#OvsRest\n",
    "from sklearn.multiclass import OneVsRestClassifier\n",
    "from sklearn.svm import SVC\n",
    "\n",
    "#poly & degree=11\n",
    "\n",
    "OvR_clf = OneVsRestClassifier(SVC(kernel='poly',degree=3),n_jobs=-1).fit(X_train, y_train_class)\n",
    "\n",
    "\n",
    "print(OvR_clf.score(X_test,y_test_class))"
   ]
  },
  {
   "cell_type": "code",
   "execution_count": 51,
   "id": "783ef007",
   "metadata": {},
   "outputs": [
    {
     "ename": "KeyboardInterrupt",
     "evalue": "",
     "output_type": "error",
     "traceback": [
      "\u001b[0;31m---------------------------------------------------------------------------\u001b[0m",
      "\u001b[0;31mKeyboardInterrupt\u001b[0m                         Traceback (most recent call last)",
      "\u001b[0;32m<ipython-input-51-9cb6e163114f>\u001b[0m in \u001b[0;36m<module>\u001b[0;34m\u001b[0m\n\u001b[1;32m      7\u001b[0m \u001b[0;34m\u001b[0m\u001b[0m\n\u001b[1;32m      8\u001b[0m \u001b[0;34m\u001b[0m\u001b[0m\n\u001b[0;32m----> 9\u001b[0;31m \u001b[0mclf\u001b[0m\u001b[0;34m=\u001b[0m \u001b[0mOneVsOneClassifier\u001b[0m\u001b[0;34m(\u001b[0m\u001b[0mSVC\u001b[0m\u001b[0;34m(\u001b[0m\u001b[0mkernel\u001b[0m\u001b[0;34m=\u001b[0m\u001b[0;34m'poly'\u001b[0m\u001b[0;34m,\u001b[0m\u001b[0mdegree\u001b[0m\u001b[0;34m=\u001b[0m\u001b[0;36m20\u001b[0m\u001b[0;34m)\u001b[0m\u001b[0;34m,\u001b[0m\u001b[0mn_jobs\u001b[0m\u001b[0;34m=\u001b[0m\u001b[0;34m-\u001b[0m\u001b[0;36m1\u001b[0m\u001b[0;34m)\u001b[0m\u001b[0;34m.\u001b[0m\u001b[0mfit\u001b[0m\u001b[0;34m(\u001b[0m\u001b[0mX_train\u001b[0m\u001b[0;34m,\u001b[0m \u001b[0mnp\u001b[0m\u001b[0;34m.\u001b[0m\u001b[0mravel\u001b[0m\u001b[0;34m(\u001b[0m\u001b[0my_train_class\u001b[0m\u001b[0;34m)\u001b[0m\u001b[0;34m)\u001b[0m\u001b[0;34m\u001b[0m\u001b[0;34m\u001b[0m\u001b[0m\n\u001b[0m\u001b[1;32m     10\u001b[0m \u001b[0mclf\u001b[0m\u001b[0;34m.\u001b[0m\u001b[0mpredict\u001b[0m\u001b[0;34m(\u001b[0m\u001b[0mX_test\u001b[0m\u001b[0;34m)\u001b[0m\u001b[0;34m\u001b[0m\u001b[0;34m\u001b[0m\u001b[0m\n\u001b[1;32m     11\u001b[0m \u001b[0mclf\u001b[0m\u001b[0;34m.\u001b[0m\u001b[0mscore\u001b[0m\u001b[0;34m(\u001b[0m\u001b[0mX_test\u001b[0m\u001b[0;34m,\u001b[0m\u001b[0mnp\u001b[0m\u001b[0;34m.\u001b[0m\u001b[0mravel\u001b[0m\u001b[0;34m(\u001b[0m\u001b[0my_test_class\u001b[0m\u001b[0;34m)\u001b[0m\u001b[0;34m)\u001b[0m\u001b[0;34m\u001b[0m\u001b[0;34m\u001b[0m\u001b[0m\n",
      "\u001b[0;32m/opt/anaconda3/lib/python3.7/site-packages/sklearn/multiclass.py\u001b[0m in \u001b[0;36mfit\u001b[0;34m(self, X, y)\u001b[0m\n\u001b[1;32m    570\u001b[0m             \u001b[0mdelayed\u001b[0m\u001b[0;34m(\u001b[0m\u001b[0m_fit_ovo_binary\u001b[0m\u001b[0;34m)\u001b[0m\u001b[0;34m\u001b[0m\u001b[0;34m\u001b[0m\u001b[0m\n\u001b[1;32m    571\u001b[0m             \u001b[0;34m(\u001b[0m\u001b[0mself\u001b[0m\u001b[0;34m.\u001b[0m\u001b[0mestimator\u001b[0m\u001b[0;34m,\u001b[0m \u001b[0mX\u001b[0m\u001b[0;34m,\u001b[0m \u001b[0my\u001b[0m\u001b[0;34m,\u001b[0m \u001b[0mself\u001b[0m\u001b[0;34m.\u001b[0m\u001b[0mclasses_\u001b[0m\u001b[0;34m[\u001b[0m\u001b[0mi\u001b[0m\u001b[0;34m]\u001b[0m\u001b[0;34m,\u001b[0m \u001b[0mself\u001b[0m\u001b[0;34m.\u001b[0m\u001b[0mclasses_\u001b[0m\u001b[0;34m[\u001b[0m\u001b[0mj\u001b[0m\u001b[0;34m]\u001b[0m\u001b[0;34m)\u001b[0m\u001b[0;34m\u001b[0m\u001b[0;34m\u001b[0m\u001b[0m\n\u001b[0;32m--> 572\u001b[0;31m             for i in range(n_classes) for j in range(i + 1, n_classes)))))\n\u001b[0m\u001b[1;32m    573\u001b[0m \u001b[0;34m\u001b[0m\u001b[0m\n\u001b[1;32m    574\u001b[0m         \u001b[0mself\u001b[0m\u001b[0;34m.\u001b[0m\u001b[0mestimators_\u001b[0m \u001b[0;34m=\u001b[0m \u001b[0mestimators_indices\u001b[0m\u001b[0;34m[\u001b[0m\u001b[0;36m0\u001b[0m\u001b[0;34m]\u001b[0m\u001b[0;34m\u001b[0m\u001b[0;34m\u001b[0m\u001b[0m\n",
      "\u001b[0;32m/opt/anaconda3/lib/python3.7/site-packages/joblib/parallel.py\u001b[0m in \u001b[0;36m__call__\u001b[0;34m(self, iterable)\u001b[0m\n\u001b[1;32m    932\u001b[0m \u001b[0;34m\u001b[0m\u001b[0m\n\u001b[1;32m    933\u001b[0m             \u001b[0;32mwith\u001b[0m \u001b[0mself\u001b[0m\u001b[0;34m.\u001b[0m\u001b[0m_backend\u001b[0m\u001b[0;34m.\u001b[0m\u001b[0mretrieval_context\u001b[0m\u001b[0;34m(\u001b[0m\u001b[0;34m)\u001b[0m\u001b[0;34m:\u001b[0m\u001b[0;34m\u001b[0m\u001b[0;34m\u001b[0m\u001b[0m\n\u001b[0;32m--> 934\u001b[0;31m                 \u001b[0mself\u001b[0m\u001b[0;34m.\u001b[0m\u001b[0mretrieve\u001b[0m\u001b[0;34m(\u001b[0m\u001b[0;34m)\u001b[0m\u001b[0;34m\u001b[0m\u001b[0;34m\u001b[0m\u001b[0m\n\u001b[0m\u001b[1;32m    935\u001b[0m             \u001b[0;31m# Make sure that we get a last message telling us we are done\u001b[0m\u001b[0;34m\u001b[0m\u001b[0;34m\u001b[0m\u001b[0;34m\u001b[0m\u001b[0m\n\u001b[1;32m    936\u001b[0m             \u001b[0melapsed_time\u001b[0m \u001b[0;34m=\u001b[0m \u001b[0mtime\u001b[0m\u001b[0;34m.\u001b[0m\u001b[0mtime\u001b[0m\u001b[0;34m(\u001b[0m\u001b[0;34m)\u001b[0m \u001b[0;34m-\u001b[0m \u001b[0mself\u001b[0m\u001b[0;34m.\u001b[0m\u001b[0m_start_time\u001b[0m\u001b[0;34m\u001b[0m\u001b[0;34m\u001b[0m\u001b[0m\n",
      "\u001b[0;32m/opt/anaconda3/lib/python3.7/site-packages/joblib/parallel.py\u001b[0m in \u001b[0;36mretrieve\u001b[0;34m(self)\u001b[0m\n\u001b[1;32m    831\u001b[0m             \u001b[0;32mtry\u001b[0m\u001b[0;34m:\u001b[0m\u001b[0;34m\u001b[0m\u001b[0;34m\u001b[0m\u001b[0m\n\u001b[1;32m    832\u001b[0m                 \u001b[0;32mif\u001b[0m \u001b[0mgetattr\u001b[0m\u001b[0;34m(\u001b[0m\u001b[0mself\u001b[0m\u001b[0;34m.\u001b[0m\u001b[0m_backend\u001b[0m\u001b[0;34m,\u001b[0m \u001b[0;34m'supports_timeout'\u001b[0m\u001b[0;34m,\u001b[0m \u001b[0;32mFalse\u001b[0m\u001b[0;34m)\u001b[0m\u001b[0;34m:\u001b[0m\u001b[0;34m\u001b[0m\u001b[0;34m\u001b[0m\u001b[0m\n\u001b[0;32m--> 833\u001b[0;31m                     \u001b[0mself\u001b[0m\u001b[0;34m.\u001b[0m\u001b[0m_output\u001b[0m\u001b[0;34m.\u001b[0m\u001b[0mextend\u001b[0m\u001b[0;34m(\u001b[0m\u001b[0mjob\u001b[0m\u001b[0;34m.\u001b[0m\u001b[0mget\u001b[0m\u001b[0;34m(\u001b[0m\u001b[0mtimeout\u001b[0m\u001b[0;34m=\u001b[0m\u001b[0mself\u001b[0m\u001b[0;34m.\u001b[0m\u001b[0mtimeout\u001b[0m\u001b[0;34m)\u001b[0m\u001b[0;34m)\u001b[0m\u001b[0;34m\u001b[0m\u001b[0;34m\u001b[0m\u001b[0m\n\u001b[0m\u001b[1;32m    834\u001b[0m                 \u001b[0;32melse\u001b[0m\u001b[0;34m:\u001b[0m\u001b[0;34m\u001b[0m\u001b[0;34m\u001b[0m\u001b[0m\n\u001b[1;32m    835\u001b[0m                     \u001b[0mself\u001b[0m\u001b[0;34m.\u001b[0m\u001b[0m_output\u001b[0m\u001b[0;34m.\u001b[0m\u001b[0mextend\u001b[0m\u001b[0;34m(\u001b[0m\u001b[0mjob\u001b[0m\u001b[0;34m.\u001b[0m\u001b[0mget\u001b[0m\u001b[0;34m(\u001b[0m\u001b[0;34m)\u001b[0m\u001b[0;34m)\u001b[0m\u001b[0;34m\u001b[0m\u001b[0;34m\u001b[0m\u001b[0m\n",
      "\u001b[0;32m/opt/anaconda3/lib/python3.7/site-packages/joblib/_parallel_backends.py\u001b[0m in \u001b[0;36mwrap_future_result\u001b[0;34m(future, timeout)\u001b[0m\n\u001b[1;32m    519\u001b[0m         AsyncResults.get from multiprocessing.\"\"\"\n\u001b[1;32m    520\u001b[0m         \u001b[0;32mtry\u001b[0m\u001b[0;34m:\u001b[0m\u001b[0;34m\u001b[0m\u001b[0;34m\u001b[0m\u001b[0m\n\u001b[0;32m--> 521\u001b[0;31m             \u001b[0;32mreturn\u001b[0m \u001b[0mfuture\u001b[0m\u001b[0;34m.\u001b[0m\u001b[0mresult\u001b[0m\u001b[0;34m(\u001b[0m\u001b[0mtimeout\u001b[0m\u001b[0;34m=\u001b[0m\u001b[0mtimeout\u001b[0m\u001b[0;34m)\u001b[0m\u001b[0;34m\u001b[0m\u001b[0;34m\u001b[0m\u001b[0m\n\u001b[0m\u001b[1;32m    522\u001b[0m         \u001b[0;32mexcept\u001b[0m \u001b[0mLokyTimeoutError\u001b[0m\u001b[0;34m:\u001b[0m\u001b[0;34m\u001b[0m\u001b[0;34m\u001b[0m\u001b[0m\n\u001b[1;32m    523\u001b[0m             \u001b[0;32mraise\u001b[0m \u001b[0mTimeoutError\u001b[0m\u001b[0;34m(\u001b[0m\u001b[0;34m)\u001b[0m\u001b[0;34m\u001b[0m\u001b[0;34m\u001b[0m\u001b[0m\n",
      "\u001b[0;32m/opt/anaconda3/lib/python3.7/concurrent/futures/_base.py\u001b[0m in \u001b[0;36mresult\u001b[0;34m(self, timeout)\u001b[0m\n\u001b[1;32m    428\u001b[0m                 \u001b[0;32mreturn\u001b[0m \u001b[0mself\u001b[0m\u001b[0;34m.\u001b[0m\u001b[0m__get_result\u001b[0m\u001b[0;34m(\u001b[0m\u001b[0;34m)\u001b[0m\u001b[0;34m\u001b[0m\u001b[0;34m\u001b[0m\u001b[0m\n\u001b[1;32m    429\u001b[0m \u001b[0;34m\u001b[0m\u001b[0m\n\u001b[0;32m--> 430\u001b[0;31m             \u001b[0mself\u001b[0m\u001b[0;34m.\u001b[0m\u001b[0m_condition\u001b[0m\u001b[0;34m.\u001b[0m\u001b[0mwait\u001b[0m\u001b[0;34m(\u001b[0m\u001b[0mtimeout\u001b[0m\u001b[0;34m)\u001b[0m\u001b[0;34m\u001b[0m\u001b[0;34m\u001b[0m\u001b[0m\n\u001b[0m\u001b[1;32m    431\u001b[0m \u001b[0;34m\u001b[0m\u001b[0m\n\u001b[1;32m    432\u001b[0m             \u001b[0;32mif\u001b[0m \u001b[0mself\u001b[0m\u001b[0;34m.\u001b[0m\u001b[0m_state\u001b[0m \u001b[0;32min\u001b[0m \u001b[0;34m[\u001b[0m\u001b[0mCANCELLED\u001b[0m\u001b[0;34m,\u001b[0m \u001b[0mCANCELLED_AND_NOTIFIED\u001b[0m\u001b[0;34m]\u001b[0m\u001b[0;34m:\u001b[0m\u001b[0;34m\u001b[0m\u001b[0;34m\u001b[0m\u001b[0m\n",
      "\u001b[0;32m/opt/anaconda3/lib/python3.7/threading.py\u001b[0m in \u001b[0;36mwait\u001b[0;34m(self, timeout)\u001b[0m\n\u001b[1;32m    294\u001b[0m         \u001b[0;32mtry\u001b[0m\u001b[0;34m:\u001b[0m    \u001b[0;31m# restore state no matter what (e.g., KeyboardInterrupt)\u001b[0m\u001b[0;34m\u001b[0m\u001b[0;34m\u001b[0m\u001b[0m\n\u001b[1;32m    295\u001b[0m             \u001b[0;32mif\u001b[0m \u001b[0mtimeout\u001b[0m \u001b[0;32mis\u001b[0m \u001b[0;32mNone\u001b[0m\u001b[0;34m:\u001b[0m\u001b[0;34m\u001b[0m\u001b[0;34m\u001b[0m\u001b[0m\n\u001b[0;32m--> 296\u001b[0;31m                 \u001b[0mwaiter\u001b[0m\u001b[0;34m.\u001b[0m\u001b[0macquire\u001b[0m\u001b[0;34m(\u001b[0m\u001b[0;34m)\u001b[0m\u001b[0;34m\u001b[0m\u001b[0;34m\u001b[0m\u001b[0m\n\u001b[0m\u001b[1;32m    297\u001b[0m                 \u001b[0mgotit\u001b[0m \u001b[0;34m=\u001b[0m \u001b[0;32mTrue\u001b[0m\u001b[0;34m\u001b[0m\u001b[0;34m\u001b[0m\u001b[0m\n\u001b[1;32m    298\u001b[0m             \u001b[0;32melse\u001b[0m\u001b[0;34m:\u001b[0m\u001b[0;34m\u001b[0m\u001b[0;34m\u001b[0m\u001b[0m\n",
      "\u001b[0;31mKeyboardInterrupt\u001b[0m: "
     ]
    }
   ],
   "source": [
    "#one vs one\n",
    "\n",
    "\n",
    "from sklearn.model_selection import train_test_split\n",
    "from sklearn.multiclass import OneVsOneClassifier\n",
    "from sklearn.svm import LinearSVC\n",
    "\n",
    "\n",
    "OvO_clf= OneVsOneClassifier(SVC(kernel='poly',degree=20),n_jobs=-1).fit(X_train, np.ravel(y_train_class))\n",
    "\n",
    "OvO_clf.score(X_test,np.ravel(y_test_class))\n",
    "\n",
    "#print(clf.score(X_test,np.ravel(y_test_class)))"
   ]
  },
  {
   "cell_type": "code",
   "execution_count": 82,
   "id": "1769b55f",
   "metadata": {},
   "outputs": [
    {
     "name": "stdout",
     "output_type": "stream",
     "text": [
      "0.9658901830282862\n"
     ]
    },
    {
     "data": {
      "text/plain": [
       "\"\\n{'estimator__n_estimators': 800, \\n 'estimator__min_samples_split': 2, \\n 'estimator__min_samples_leaf': 1, \\n 'estimator__max_features': 'auto', \\n 'estimator__max_depth': 100, \\n 'estimator__bootstrap': True}\\n\""
      ]
     },
     "execution_count": 82,
     "metadata": {},
     "output_type": "execute_result"
    }
   ],
   "source": [
    "# Random forest:\n",
    "\n",
    "from sklearn.multiclass import OutputCodeClassifier\n",
    "from sklearn.ensemble import RandomForestClassifier\n",
    "\n",
    "\n",
    "    \n",
    "rf_clf = OutputCodeClassifier(\n",
    "    estimator=RandomForestClassifier(n_estimators=800,\n",
    "                                     criterion='gini', #{“gini”, “entropy”}\n",
    "                                     max_depth=100, #default=None\n",
    "                                     min_samples_split=2, #int or float, default=2\n",
    "                                     random_state=42,\n",
    "                                     max_features='auto',\n",
    "                                     bootstrap=True,\n",
    "                                     min_samples_leaf=1\n",
    "                                    ),\n",
    "    random_state=42,n_jobs=-1)\n",
    "\n",
    "rf2_clf = RandomForestClassifier(n_estimators=800,\n",
    "                                     criterion='gini', #{“gini”, “entropy”}\n",
    "                                     max_depth=100, #default=None\n",
    "                                     min_samples_split=2, #int or float, default=2\n",
    "                                     random_state=42,\n",
    "                                     max_features='auto',\n",
    "                                     bootstrap=True,\n",
    "                                     min_samples_leaf=1\n",
    "                                    )\n",
    "\n",
    "rf2_clf.fit(X_train, np.ravel(y_train_class))\n",
    "\n",
    "\n",
    "\n",
    "print(rf2_clf.score(X_test,y_test_class))\n",
    "\"\"\"\n",
    "{'estimator__n_estimators': 800, \n",
    " 'estimator__min_samples_split': 2, \n",
    " 'estimator__min_samples_leaf': 1, \n",
    " 'estimator__max_features': 'auto', \n",
    " 'estimator__max_depth': 100, \n",
    " 'estimator__bootstrap': True}\n",
    "\"\"\"\n",
    "\n"
   ]
  },
  {
   "cell_type": "code",
   "execution_count": null,
   "id": "c303a6db",
   "metadata": {},
   "outputs": [],
   "source": []
  },
  {
   "cell_type": "code",
   "execution_count": null,
   "id": "7f45cce8",
   "metadata": {},
   "outputs": [],
   "source": []
  },
  {
   "cell_type": "code",
   "execution_count": 53,
   "id": "9175c78e",
   "metadata": {},
   "outputs": [
    {
     "data": {
      "text/plain": [
       "\"\\nfrom sklearn.model_selection import RandomizedSearchCV\\n# Number of trees in random forest\\nn_estimators = [int(x) for x in np.linspace(start = 200, stop = 2000, num = 10)]\\n# Number of features to consider at every split\\nmax_features = ['auto', 'sqrt']\\n# Maximum number of levels in tree\\nmax_depth = [int(x) for x in np.linspace(10, 110, num = 11)]\\nmax_depth.append(None)\\n# Minimum number of samples required to split a node\\nmin_samples_split = [2, 5, 10]\\n# Minimum number of samples required at each leaf node\\nmin_samples_leaf = [1, 2, 4]\\n# Method of selecting samples for training each tree\\nbootstrap = [True, False]\\n# Create the random grid\\nrandom_grid = {'estimator__n_estimators': n_estimators,\\n               'estimator__max_features': max_features,\\n               'estimator__max_depth': max_depth,\\n               'estimator__min_samples_split': min_samples_split,\\n               'estimator__min_samples_leaf': min_samples_leaf,\\n               'estimator__bootstrap': bootstrap}\\n\""
      ]
     },
     "execution_count": 53,
     "metadata": {},
     "output_type": "execute_result"
    }
   ],
   "source": [
    "#RF FINE TUNING\n",
    "\"\"\"\n",
    "from sklearn.model_selection import RandomizedSearchCV\n",
    "# Number of trees in random forest\n",
    "n_estimators = [int(x) for x in np.linspace(start = 200, stop = 2000, num = 10)]\n",
    "# Number of features to consider at every split\n",
    "max_features = ['auto', 'sqrt']\n",
    "# Maximum number of levels in tree\n",
    "max_depth = [int(x) for x in np.linspace(10, 110, num = 11)]\n",
    "max_depth.append(None)\n",
    "# Minimum number of samples required to split a node\n",
    "min_samples_split = [2, 5, 10]\n",
    "# Minimum number of samples required at each leaf node\n",
    "min_samples_leaf = [1, 2, 4]\n",
    "# Method of selecting samples for training each tree\n",
    "bootstrap = [True, False]\n",
    "# Create the random grid\n",
    "random_grid = {'estimator__n_estimators': n_estimators,\n",
    "               'estimator__max_features': max_features,\n",
    "               'estimator__max_depth': max_depth,\n",
    "               'estimator__min_samples_split': min_samples_split,\n",
    "               'estimator__min_samples_leaf': min_samples_leaf,\n",
    "               'estimator__bootstrap': bootstrap}\n",
    "\"\"\"\n",
    "\n"
   ]
  },
  {
   "cell_type": "code",
   "execution_count": 54,
   "id": "03df9bbd",
   "metadata": {},
   "outputs": [],
   "source": [
    "\n",
    "#rf_random = RandomizedSearchCV(estimator = clf, param_distributions = random_grid, n_iter = 100, cv = 3, verbose=2, random_state=42, n_jobs = -1)\n",
    "\n",
    "#rf_random.fit(X_train, y_train_class)"
   ]
  },
  {
   "cell_type": "code",
   "execution_count": null,
   "id": "c4d91355",
   "metadata": {},
   "outputs": [],
   "source": []
  },
  {
   "cell_type": "raw",
   "id": "fe79c562",
   "metadata": {},
   "source": []
  },
  {
   "cell_type": "code",
   "execution_count": null,
   "id": "8b7bb3bd",
   "metadata": {},
   "outputs": [],
   "source": []
  },
  {
   "cell_type": "code",
   "execution_count": null,
   "id": "c619a8c0",
   "metadata": {},
   "outputs": [],
   "source": []
  },
  {
   "cell_type": "code",
   "execution_count": null,
   "id": "74523d52",
   "metadata": {},
   "outputs": [],
   "source": []
  },
  {
   "cell_type": "code",
   "execution_count": null,
   "id": "0e7ef4bb",
   "metadata": {},
   "outputs": [],
   "source": []
  },
  {
   "cell_type": "code",
   "execution_count": 56,
   "id": "6299d906",
   "metadata": {},
   "outputs": [],
   "source": [
    "\n",
    "\n",
    "#y_predicted = resultat"
   ]
  },
  {
   "cell_type": "code",
   "execution_count": 57,
   "id": "904cf942",
   "metadata": {},
   "outputs": [
    {
     "ename": "NameError",
     "evalue": "name 'y_predicted' is not defined",
     "output_type": "error",
     "traceback": [
      "\u001b[0;31m---------------------------------------------------------------------------\u001b[0m",
      "\u001b[0;31mNameError\u001b[0m                                 Traceback (most recent call last)",
      "\u001b[0;32m<ipython-input-57-9ca524170da3>\u001b[0m in \u001b[0;36m<module>\u001b[0;34m\u001b[0m\n\u001b[0;32m----> 1\u001b[0;31m \u001b[0;32mfor\u001b[0m \u001b[0mi\u001b[0m \u001b[0;32min\u001b[0m \u001b[0mrange\u001b[0m\u001b[0;34m(\u001b[0m\u001b[0mlen\u001b[0m\u001b[0;34m(\u001b[0m\u001b[0my_predicted\u001b[0m\u001b[0;34m)\u001b[0m\u001b[0;34m)\u001b[0m\u001b[0;34m:\u001b[0m\u001b[0;34m\u001b[0m\u001b[0;34m\u001b[0m\u001b[0m\n\u001b[0m\u001b[1;32m      2\u001b[0m     \u001b[0mprint\u001b[0m\u001b[0;34m(\u001b[0m\u001b[0;34m\"predicted: \"\u001b[0m\u001b[0;34m,\u001b[0m \u001b[0my_predicted\u001b[0m\u001b[0;34m[\u001b[0m\u001b[0mi\u001b[0m\u001b[0;34m]\u001b[0m\u001b[0;34m,\u001b[0m \u001b[0;34m\"| Actual Label: \"\u001b[0m\u001b[0;34m,\u001b[0m\u001b[0my_test_class\u001b[0m\u001b[0;34m[\u001b[0m\u001b[0mi\u001b[0m\u001b[0;34m]\u001b[0m\u001b[0;34m[\u001b[0m\u001b[0;36m0\u001b[0m\u001b[0;34m]\u001b[0m\u001b[0;34m,\u001b[0m \u001b[0;34m\" True\"\u001b[0m \u001b[0;32mif\u001b[0m \u001b[0;34m(\u001b[0m\u001b[0my_predicted\u001b[0m\u001b[0;34m[\u001b[0m\u001b[0mi\u001b[0m\u001b[0;34m]\u001b[0m\u001b[0;34m==\u001b[0m\u001b[0my_test_class\u001b[0m\u001b[0;34m[\u001b[0m\u001b[0mi\u001b[0m\u001b[0;34m]\u001b[0m\u001b[0;34m[\u001b[0m\u001b[0;36m0\u001b[0m\u001b[0;34m]\u001b[0m\u001b[0;34m)\u001b[0m \u001b[0;32melse\u001b[0m \u001b[0;34m\" False\"\u001b[0m\u001b[0;34m)\u001b[0m\u001b[0;34m\u001b[0m\u001b[0;34m\u001b[0m\u001b[0m\n\u001b[1;32m      3\u001b[0m \u001b[0mprint\u001b[0m\u001b[0;34m(\u001b[0m\u001b[0;34m\"\\n\"\u001b[0m\u001b[0;34m)\u001b[0m\u001b[0;34m\u001b[0m\u001b[0;34m\u001b[0m\u001b[0m\n",
      "\u001b[0;31mNameError\u001b[0m: name 'y_predicted' is not defined"
     ]
    }
   ],
   "source": [
    "for i in range(len(y_predicted)):\n",
    "    print(\"predicted: \", y_predicted[i], \"| Actual Label: \",y_test_class[i][0], \" True\" if (y_predicted[i]==y_test_class[i][0]) else \" False\")\n",
    "print(\"\\n\")\n"
   ]
  },
  {
   "cell_type": "code",
   "execution_count": null,
   "id": "0f5cda1b",
   "metadata": {},
   "outputs": [],
   "source": []
  },
  {
   "cell_type": "code",
   "execution_count": 84,
   "id": "a9186a13",
   "metadata": {},
   "outputs": [],
   "source": [
    "def ViewClassResult(model,continuous=False):\n",
    "    if continuous:\n",
    "        y=model.predict(np.squeeze(X_test))\n",
    "        y_predicted = [np.argmax(pred) for pred in y]\n",
    "    else:\n",
    "        y_predicted=model.predict(np.squeeze(X_test))\n",
    "    \n",
    "    print(np.sum(y_predicted==y_test_class[:,0]),'/',len(y_predicted))\n",
    "    CM = confusion_matrix(y_test_class[:,0], y_predicted)\n",
    "    ConfusionMatrixDisplay(CM).plot()\n",
    "    \n",
    "def ShowFeatureImportances(model):\n",
    "    \"\"\"\n",
    "    Shows the feature importances for a given model\n",
    "    \"\"\"\n",
    "    importance = model.feature_importances_\n",
    "    for i,v in enumerate(importance):\n",
    "        print('Feature: %0d, Score: %.5f' % (i,v))\n",
    "\n",
    "    plt.bar([x for x in range(len(importance))], importance)\n",
    "    plt.show()"
   ]
  },
  {
   "cell_type": "code",
   "execution_count": 86,
   "id": "cfd16623",
   "metadata": {},
   "outputs": [
    {
     "name": "stdout",
     "output_type": "stream",
     "text": [
      "3483 / 3606\n"
     ]
    },
    {
     "data": {
      "image/png": "[encoded data removed]",
      "text/plain": [
       "<Figure size 432x288 with 2 Axes>"
      ]
     },
     "metadata": {
      "needs_background": "light"
     },
     "output_type": "display_data"
    }
   ],
   "source": [
    "ViewClassResult(rf2_clf)\n"
   ]
  },
  {
   "cell_type": "code",
   "execution_count": 90,
   "id": "61a4c5a5",
   "metadata": {},
   "outputs": [
    {
     "data": {
      "text/plain": [
       "array([[ 0.        ,  0.        ,  0.        , ..., -0.48752197,\n",
       "        -0.08100047, -0.60635505],\n",
       "       [ 1.        ,  0.        ,  0.        , ...,  1.13165937,\n",
       "        -0.05056658,  0.22048845],\n",
       "       [ 1.        ,  0.        ,  0.        , ...,  0.59193226,\n",
       "        -0.05000778,  0.18923209],\n",
       "       ...,\n",
       "       [ 0.        ,  0.        ,  0.        , ..., -0.48752197,\n",
       "        -0.0808747 , -0.82794812],\n",
       "       [ 1.        ,  0.        ,  0.        , ...,  0.59193226,\n",
       "        -0.06414095,  0.17370621],\n",
       "       [ 0.        ,  0.        ,  0.        , ..., -0.70341281,\n",
       "        -0.08102622, -0.54276823]])"
      ]
     },
     "execution_count": 90,
     "metadata": {},
     "output_type": "execute_result"
    }
   ],
   "source": [
    "X_test"
   ]
  },
  {
   "cell_type": "code",
   "execution_count": 87,
   "id": "f9f2b3cd",
   "metadata": {},
   "outputs": [
    {
     "name": "stdout",
     "output_type": "stream",
     "text": [
      "Feature: 0, Score: 0.00459\n",
      "Feature: 1, Score: 0.00329\n",
      "Feature: 2, Score: 0.00146\n",
      "Feature: 3, Score: 0.00401\n",
      "Feature: 4, Score: 0.00465\n",
      "Feature: 5, Score: 0.00570\n",
      "Feature: 6, Score: 0.00502\n",
      "Feature: 7, Score: 0.00361\n",
      "Feature: 8, Score: 0.00198\n",
      "Feature: 9, Score: 0.00069\n",
      "Feature: 10, Score: 0.00086\n",
      "Feature: 11, Score: 0.00527\n",
      "Feature: 12, Score: 0.00019\n",
      "Feature: 13, Score: 0.00045\n",
      "Feature: 14, Score: 0.00432\n",
      "Feature: 15, Score: 0.00286\n",
      "Feature: 16, Score: 0.01208\n",
      "Feature: 17, Score: 0.00175\n",
      "Feature: 18, Score: 0.00418\n",
      "Feature: 19, Score: 0.00094\n",
      "Feature: 20, Score: 0.00045\n",
      "Feature: 21, Score: 0.00049\n",
      "Feature: 22, Score: 0.00268\n",
      "Feature: 23, Score: 0.00490\n",
      "Feature: 24, Score: 0.00258\n",
      "Feature: 25, Score: 0.00403\n",
      "Feature: 26, Score: 0.00000\n",
      "Feature: 27, Score: 0.00017\n",
      "Feature: 28, Score: 0.00269\n",
      "Feature: 29, Score: 0.00341\n",
      "Feature: 30, Score: 0.00401\n",
      "Feature: 31, Score: 0.00000\n",
      "Feature: 32, Score: 0.00110\n",
      "Feature: 33, Score: 0.00006\n",
      "Feature: 34, Score: 0.00267\n",
      "Feature: 35, Score: 0.00340\n",
      "Feature: 36, Score: 0.00086\n",
      "Feature: 37, Score: 0.00025\n",
      "Feature: 38, Score: 0.00420\n",
      "Feature: 39, Score: 0.00177\n",
      "Feature: 40, Score: 0.00295\n",
      "Feature: 41, Score: 0.00000\n",
      "Feature: 42, Score: 0.00443\n",
      "Feature: 43, Score: 0.00672\n",
      "Feature: 44, Score: 0.00037\n",
      "Feature: 45, Score: 0.00010\n",
      "Feature: 46, Score: 0.00001\n",
      "Feature: 47, Score: 0.00023\n",
      "Feature: 48, Score: 0.00005\n",
      "Feature: 49, Score: 0.00269\n",
      "Feature: 50, Score: 0.00162\n",
      "Feature: 51, Score: 0.00036\n",
      "Feature: 52, Score: 0.00273\n",
      "Feature: 53, Score: 0.00017\n",
      "Feature: 54, Score: 0.00972\n",
      "Feature: 55, Score: 0.01804\n",
      "Feature: 56, Score: 0.00038\n",
      "Feature: 57, Score: 0.01376\n",
      "Feature: 58, Score: 0.01487\n",
      "Feature: 59, Score: 0.00118\n",
      "Feature: 60, Score: 0.00125\n",
      "Feature: 61, Score: 0.05618\n",
      "Feature: 62, Score: 0.31497\n",
      "Feature: 63, Score: 0.05596\n",
      "Feature: 64, Score: 0.05775\n",
      "Feature: 65, Score: 0.06408\n",
      "Feature: 66, Score: 0.14169\n",
      "Feature: 67, Score: 0.06391\n",
      "Feature: 68, Score: 0.05620\n"
     ]
    },
    {
     "data": {
      "image/png": "[encoded data removed]",
      "text/plain": [
       "<Figure size 432x288 with 1 Axes>"
      ]
     },
     "metadata": {
      "needs_background": "light"
     },
     "output_type": "display_data"
    }
   ],
   "source": [
    "ShowFeatureImportances(rf2_clf)"
   ]
  },
  {
   "cell_type": "code",
   "execution_count": 76,
   "id": "be75ded9",
   "metadata": {},
   "outputs": [
    {
     "name": "stdout",
     "output_type": "stream",
     "text": [
      "1317 / 3606\n"
     ]
    },
    {
     "data": {
      "image/png": "[encoded data removed]",
      "text/plain": [
       "<Figure size 432x288 with 2 Axes>"
      ]
     },
     "metadata": {
      "needs_background": "light"
     },
     "output_type": "display_data"
    }
   ],
   "source": [
    "ViewClassResult(model,continuous=True)"
   ]
  },
  {
   "cell_type": "code",
   "execution_count": null,
   "id": "887b2ce7",
   "metadata": {},
   "outputs": [],
   "source": []
  },
  {
   "cell_type": "code",
   "execution_count": 97,
   "id": "e7376134",
   "metadata": {},
   "outputs": [
    {
     "name": "stdout",
     "output_type": "stream",
     "text": [
      "[array(['Banking', 'Basic Industry', 'Brokerage Assetmanagers Exchanges',\n",
      "       'Capital Goods', 'Communications', 'Consumer Cyclical',\n",
      "       'Consumer Non-Cyclical', 'Electric', 'Energy', 'Finance Companies',\n",
      "       'Government Guaranteed', 'Government Owned. No Guarantee',\n",
      "       'Government Sponsored', 'Hybrid', 'Insurance', 'Local Authority',\n",
      "       'Mortgage Assets', 'Natural Gas', 'Other Financial',\n",
      "       'Other Industrial', 'Other Utility', 'Public Sector Loans',\n",
      "       'REITs', 'Supranational', 'Technology', 'Transportation',\n",
      "       'Whole Business'], dtype=object), array(['Cross Guarantee', 'Multiple', 'N.A.', 'Single'], dtype=object), array(['Bank', 'Company', 'Domestic Restricted Subsidiar',\n",
      "       'Local Government', 'N.A.', 'National/Sovereign Government',\n",
      "       'Other Subsidiary of Parent', 'Parent', 'Parent & Subsidiaries',\n",
      "       'Subsidiaries'], dtype=object), array(['BONDS', 'COMPANY GUARNT', 'COVERED', 'GOVT GUARANTEED',\n",
      "       'GOVT LIQUID GTD', 'INSURED', 'JR SUBORDINATED',\n",
      "       'JUMBO PFANDBRIEF', 'LOCAL GOVT GUARN', 'PFANDBRIEFE', 'SECURED',\n",
      "       'SR SECURED', 'SR SUBORDINATED', 'SR UNSECURED', 'SUBORDINATED',\n",
      "       'UNSECURED'], dtype=object), array([False, True], dtype=object), array([False, True], dtype=object)]\n"
     ]
    }
   ],
   "source": [
    "print(pipe.ohe.categories_)"
   ]
  },
  {
   "cell_type": "code",
   "execution_count": null,
   "id": "abcdaa00",
   "metadata": {},
   "outputs": [],
   "source": []
  },
  {
   "cell_type": "code",
   "execution_count": null,
   "id": "df7a65ea",
   "metadata": {},
   "outputs": [],
   "source": []
  },
  {
   "cell_type": "code",
   "execution_count": 122,
   "id": "9a5f7680",
   "metadata": {},
   "outputs": [],
   "source": [
    "flat_list = [item for sublist in pipe.ohe.categories_ for item in sublist]"
   ]
  },
  {
   "cell_type": "code",
   "execution_count": 125,
   "id": "8832a245",
   "metadata": {},
   "outputs": [],
   "source": [
    "features = flat_list + continuous_features"
   ]
  },
  {
   "cell_type": "code",
   "execution_count": 108,
   "id": "346b38ec",
   "metadata": {},
   "outputs": [
    {
     "data": {
      "text/plain": [
       "['Common Eqty / Tot Assets',\n",
       " 'Mid Price',\n",
       " 'TCE Ratio',\n",
       " 'Tot Debt / Tot Capital',\n",
       " 'Tot Cap (Local Crncy)',\n",
       " 'Amt Out',\n",
       " 'Total Assets',\n",
       " 'Debt / Common Equity']"
      ]
     },
     "execution_count": 108,
     "metadata": {},
     "output_type": "execute_result"
    }
   ],
   "source": [
    "continuous_features"
   ]
  },
  {
   "cell_type": "code",
   "execution_count": null,
   "id": "152d8a2a",
   "metadata": {},
   "outputs": [],
   "source": []
  }
 ],
 "metadata": {
  "kernelspec": {
   "display_name": "Python 3",
   "language": "python",
   "name": "python3"
  },
  "language_info": {
   "codemirror_mode": {
    "name": "ipython",
    "version": 3
   },
   "file_extension": ".py",
   "mimetype": "text/x-python",
   "name": "python",
   "nbconvert_exporter": "python",
   "pygments_lexer": "ipython3",
   "version": "3.8.8"
  }
 },
 "nbformat": 4,
 "nbformat_minor": 5
}
