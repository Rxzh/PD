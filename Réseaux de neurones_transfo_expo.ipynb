{
 "cells": [
  {
   "cell_type": "markdown",
   "id": "ce276f93",
   "metadata": {},
   "source": [
    "# Implémentation de l'architecture des réseaux de neurones - log\n",
    "\n",
    "Changement par rapport au premier notebook : transformation de la PD en F(PD) où F fonction de répartition de la loi exponentielle.\n",
    "\n",
    "## Chargement des modules et données"
   ]
  },
  {
   "cell_type": "code",
   "execution_count": 1,
   "id": "71668590",
   "metadata": {
    "scrolled": true
   },
   "outputs": [],
   "source": [
    "import pandas as pd \n",
    "import matplotlib.pyplot as plt\n",
    "import numpy as np\n",
    "import tensorflow as tf\n",
    "\n",
    "from tensorflow.keras import Input\n",
    "from tensorflow.keras.models import Sequential\n",
    "from tensorflow.keras.layers import Dense, Dropout\n",
    "from tensorflow.keras.optimizers import SGD\n",
    "from tensorflow import keras\n",
    "\n",
    "from sklearn import preprocessing, model_selection"
   ]
  },
  {
   "cell_type": "code",
   "execution_count": 2,
   "id": "424b9611",
   "metadata": {},
   "outputs": [],
   "source": [
    "df = pd.read_csv('market_data_pd.csv',sep=',')"
   ]
  },
  {
   "cell_type": "code",
   "execution_count": 3,
   "id": "b819567f",
   "metadata": {},
   "outputs": [],
   "source": [
    "df.head()\n",
    "\n",
    "df = df[df.PD_1y>0.0]\n",
    "df = df[df.PD_1y!=1.0]\n",
    "#df = df[df['Common Eqty / Tot Assets']<.4]"
   ]
  },
  {
   "cell_type": "code",
   "execution_count": 4,
   "id": "d24a2ce0",
   "metadata": {},
   "outputs": [
    {
     "name": "stderr",
     "output_type": "stream",
     "text": [
      "<ipython-input-4-a7e076bb519c>:8: SettingWithCopyWarning: \n",
      "A value is trying to be set on a copy of a slice from a DataFrame.\n",
      "Try using .loc[row_indexer,col_indexer] = value instead\n",
      "\n",
      "See the caveats in the documentation: https://pandas.pydata.org/pandas-docs/stable/user_guide/indexing.html#returning-a-view-versus-a-copy\n",
      "  df1['PD_1y'] = pd.read_csv('PD_1y.csv')['PD_1y']\n",
      "C:\\Users\\mathilde.binet\\Anaconda3\\lib\\site-packages\\pandas\\core\\frame.py:4524: SettingWithCopyWarning: \n",
      "A value is trying to be set on a copy of a slice from a DataFrame\n",
      "\n",
      "See the caveats in the documentation: https://pandas.pydata.org/pandas-docs/stable/user_guide/indexing.html#returning-a-view-versus-a-copy\n",
      "  return super().replace(\n"
     ]
    }
   ],
   "source": [
    "#mettre les ratios financiers\n",
    "df1 = df[[\"Common Eqty / Tot Assets\",'Debt / Common Equity','BCLASS Level 3',\"TCE Ratio\",\"PD_1y\"]]\n",
    "\n",
    "#df1 = df.drop(columns=['Unnamed: 0','Reference Security', 'Ticker_y','Ticker_x', 'Issuer Name','Maturity','Cpn', 'Bid Price', 'Ask Price'])\n",
    "\n",
    "#df2 = pd.read_csv('PD_1y.csv')\n",
    "\n",
    "df1['PD_1y'] = pd.read_csv('PD_1y.csv')['PD_1y']\n",
    "df1.replace(np.nan, 0.0,inplace=True)"
   ]
  },
  {
   "cell_type": "code",
   "execution_count": 5,
   "id": "fe01c57d",
   "metadata": {},
   "outputs": [],
   "source": [
    "df1 = df1[df1.PD_1y>0.0]\n",
    "df1 = df1[df1.PD_1y!=1.0]"
   ]
  },
  {
   "cell_type": "code",
   "execution_count": 6,
   "id": "a739dd3d",
   "metadata": {},
   "outputs": [
    {
     "data": {
      "text/html": [
       "<div>\n",
       "<style scoped>\n",
       "    .dataframe tbody tr th:only-of-type {\n",
       "        vertical-align: middle;\n",
       "    }\n",
       "\n",
       "    .dataframe tbody tr th {\n",
       "        vertical-align: top;\n",
       "    }\n",
       "\n",
       "    .dataframe thead th {\n",
       "        text-align: right;\n",
       "    }\n",
       "</style>\n",
       "<table border=\"1\" class=\"dataframe\">\n",
       "  <thead>\n",
       "    <tr style=\"text-align: right;\">\n",
       "      <th></th>\n",
       "      <th>Common Eqty / Tot Assets</th>\n",
       "      <th>Debt / Common Equity</th>\n",
       "      <th>BCLASS Level 3</th>\n",
       "      <th>TCE Ratio</th>\n",
       "      <th>PD_1y</th>\n",
       "    </tr>\n",
       "  </thead>\n",
       "  <tbody>\n",
       "    <tr>\n",
       "      <th>0</th>\n",
       "      <td>4.84431</td>\n",
       "      <td>684.499</td>\n",
       "      <td>Banking</td>\n",
       "      <td>4.45822</td>\n",
       "      <td>0.006788</td>\n",
       "    </tr>\n",
       "    <tr>\n",
       "      <th>1</th>\n",
       "      <td>17.15800</td>\n",
       "      <td>351.535</td>\n",
       "      <td>Consumer Cyclical</td>\n",
       "      <td>-171.02700</td>\n",
       "      <td>0.065377</td>\n",
       "    </tr>\n",
       "    <tr>\n",
       "      <th>2</th>\n",
       "      <td>17.15800</td>\n",
       "      <td>351.535</td>\n",
       "      <td>Consumer Cyclical</td>\n",
       "      <td>-171.02700</td>\n",
       "      <td>0.116526</td>\n",
       "    </tr>\n",
       "    <tr>\n",
       "      <th>3</th>\n",
       "      <td>19.24570</td>\n",
       "      <td>410.513</td>\n",
       "      <td>Basic Industry</td>\n",
       "      <td>0.00000</td>\n",
       "      <td>0.014829</td>\n",
       "    </tr>\n",
       "    <tr>\n",
       "      <th>4</th>\n",
       "      <td>19.24570</td>\n",
       "      <td>410.513</td>\n",
       "      <td>Basic Industry</td>\n",
       "      <td>0.00000</td>\n",
       "      <td>0.009303</td>\n",
       "    </tr>\n",
       "  </tbody>\n",
       "</table>\n",
       "</div>"
      ],
      "text/plain": [
       "   Common Eqty / Tot Assets  Debt / Common Equity     BCLASS Level 3  \\\n",
       "0                   4.84431               684.499            Banking   \n",
       "1                  17.15800               351.535  Consumer Cyclical   \n",
       "2                  17.15800               351.535  Consumer Cyclical   \n",
       "3                  19.24570               410.513     Basic Industry   \n",
       "4                  19.24570               410.513     Basic Industry   \n",
       "\n",
       "   TCE Ratio     PD_1y  \n",
       "0    4.45822  0.006788  \n",
       "1 -171.02700  0.065377  \n",
       "2 -171.02700  0.116526  \n",
       "3    0.00000  0.014829  \n",
       "4    0.00000  0.009303  "
      ]
     },
     "execution_count": 6,
     "metadata": {},
     "output_type": "execute_result"
    }
   ],
   "source": [
    "#df1 = df1.dropna(how = 'any') \n",
    "df1.head()\n",
    "#on peut pas faire tourner l'algo avec des valeurs manquantes. Voir techniques pour les remplacer."
   ]
  },
  {
   "cell_type": "code",
   "execution_count": 7,
   "id": "f447db87",
   "metadata": {},
   "outputs": [
    {
     "data": {
      "text/plain": [
       "(521, 5)"
      ]
     },
     "execution_count": 7,
     "metadata": {},
     "output_type": "execute_result"
    }
   ],
   "source": [
    "df1.shape"
   ]
  },
  {
   "cell_type": "markdown",
   "id": "4443263a",
   "metadata": {},
   "source": [
    "# I. Préparation des données"
   ]
  },
  {
   "cell_type": "markdown",
   "id": "323cb206",
   "metadata": {},
   "source": [
    "# a. Traitement des données"
   ]
  },
  {
   "cell_type": "markdown",
   "id": "60f6da7d",
   "metadata": {},
   "source": [
    "Nous commencerons par séparer les données non étiquietées des étiquettes, les étiquettes se trouvent dans l'array `y_full` et le reste des données dans `X_full`"
   ]
  },
  {
   "cell_type": "code",
   "execution_count": 8,
   "id": "e6b6aa5c",
   "metadata": {},
   "outputs": [],
   "source": [
    "X_full = np.array(df1.drop(columns=['PD_1y']))\n",
    "y_full = np.array(df1['PD_1y'])"
   ]
  },
  {
   "cell_type": "markdown",
   "id": "fb9284ed",
   "metadata": {},
   "source": [
    "La prochaine étape consiste à séparer les features continues des features discrètes, cela sera utile car leurs traitements seront différent"
   ]
  },
  {
   "cell_type": "code",
   "execution_count": 9,
   "id": "69f92869",
   "metadata": {},
   "outputs": [],
   "source": [
    "features = list(df1.drop(columns=['PD_1y']).columns)\n",
    "\n",
    "discrete_features = ['BCLASS Level {}'.format(i) for i in range(3,4)]\n",
    "continuous_features = [s for s in features if not s in discrete_features]\n",
    "\n",
    "\n",
    "continuous_features_idx = [features.index(feat_name) for feat_name in continuous_features]\n",
    "discrete_features_idx = [features.index(feat_name) for feat_name in discrete_features]"
   ]
  },
  {
   "cell_type": "code",
   "execution_count": 10,
   "id": "a10b0a6f",
   "metadata": {},
   "outputs": [
    {
     "data": {
      "image/png": "[encoded data removed]",
      "text/plain": [
       "<Figure size 1008x720 with 3 Axes>"
      ]
     },
     "metadata": {
      "needs_background": "light"
     },
     "output_type": "display_data"
    }
   ],
   "source": [
    "fig = plt.figure(figsize=(14,10))\n",
    "\n",
    "# Histograms for continuous features\n",
    "for (plot_idx, feat_idx) in enumerate(continuous_features_idx):\n",
    "    # create a subplot in the (plot_idx+1) position of a 2x2 grid\n",
    "    ax = fig.add_subplot(4, 2, (plot_idx+1))\n",
    "    # plot the histogram of feat_idx\n",
    "    h = ax.hist(X_full[:, feat_idx], bins=30, edgecolor='black')\n",
    "    # use the name of the feature as a title for each histogram\n",
    "    ax.set_title(features[feat_idx])\n",
    "# espacement entre les subplots\n",
    "fig.tight_layout(pad=0.1)"
   ]
  },
  {
   "cell_type": "code",
   "execution_count": 11,
   "id": "7fb4190e",
   "metadata": {},
   "outputs": [
    {
     "data": {
      "image/png": "[encoded data removed]",
      "text/plain": [
       "<Figure size 1296x1008 with 1 Axes>"
      ]
     },
     "metadata": {
      "needs_background": "light"
     },
     "output_type": "display_data"
    }
   ],
   "source": [
    "# Bar plots for discrete features\n",
    "fig = plt.figure(figsize=(18, 14))\n",
    "\n",
    "for (plot_idx, feat_idx) in enumerate(discrete_features_idx):\n",
    "    # create a subplot in the (plot_idx+1) position of a 1x3 grid\n",
    "    ax = fig.add_subplot(3, 1, (plot_idx+1))\n",
    "\n",
    "    feature_values = np.unique(X_full[:, feat_idx])\n",
    "    frequencies = [(float(len(np.where(X_full[:, feat_idx]==value)[0]))/X_full.shape[0]) \\\n",
    "                   for value in feature_values]\n",
    "    \n",
    "    b = ax.bar(range(len(feature_values)), frequencies, width=0.8, \n",
    "               tick_label=list([n for n in feature_values]))\n",
    "    \n",
    "    \n",
    "    # use the name of the feature as a title for each histogram\n",
    "    ax.set_title(features[feat_idx])\n",
    "fig.tight_layout(pad=0.35)"
   ]
  },
  {
   "cell_type": "markdown",
   "id": "f9dc2e64",
   "metadata": {},
   "source": [
    "Séparation en base de test / train. Besoin de distinguer les cas selon le type de variables : \n",
    "\n",
    "$-$ variables quali : les binariser avant de séparer en test et train afin d'avoir des colonnes pour toutes les modalités existantes dans le dataset. \n",
    "\n",
    "$-$ variable quanti : il faut les standariser en fonction de la base de train, càd : on entraîne la standardisation QUE sur la base de train, puis on applique les coefficients à la base de test également. Important, **sinon notre base de train dépend de la base de test.**"
   ]
  },
  {
   "cell_type": "markdown",
   "id": "146364e2",
   "metadata": {},
   "source": [
    "*Transformation des qualis*"
   ]
  },
  {
   "cell_type": "code",
   "execution_count": 12,
   "id": "6ed56bcb",
   "metadata": {},
   "outputs": [],
   "source": [
    "def traitement_quali(X):\n",
    "    \n",
    "    ohe = preprocessing.OneHotEncoder(categories='auto',sparse=False)\n",
    "    \n",
    "    #std_scaler = preprocessing.StandardScaler().fit(X[:,continuous_features_idx])\n",
    "    #X_continuous_scaled = std_scaler.transform(X[:,continuous_features_idx])\n",
    "    \n",
    "    X_processed = np.hstack((ohe.fit_transform(X[:,discrete_features_idx]), X[:,continuous_features_idx]))\n",
    "    \n",
    "    return X_processed\n"
   ]
  },
  {
   "cell_type": "code",
   "execution_count": 13,
   "id": "b572d851",
   "metadata": {},
   "outputs": [],
   "source": [
    "nbvar_avant = len(X_full[0])\n",
    "\n",
    "X_full = traitement_quali(X_full)\n",
    "\n",
    "nbvar_après = len(X_full[0])\n",
    "nb_quali = nbvar_après - nbvar_avant + len(discrete_features_idx)"
   ]
  },
  {
   "cell_type": "code",
   "execution_count": 14,
   "id": "2fa2b6dd",
   "metadata": {},
   "outputs": [
    {
     "data": {
      "text/plain": [
       "21"
      ]
     },
     "execution_count": 14,
     "metadata": {},
     "output_type": "execute_result"
    }
   ],
   "source": [
    "nb_quali"
   ]
  },
  {
   "cell_type": "markdown",
   "id": "0e7c103d",
   "metadata": {},
   "source": [
    "*Séparation test et train*"
   ]
  },
  {
   "cell_type": "code",
   "execution_count": 15,
   "id": "53b8521b",
   "metadata": {},
   "outputs": [],
   "source": [
    "X_train, X_test, y_train, y_test = model_selection.train_test_split(X_full, y_full, test_size=0.20,\n",
    "                                                                    #stratify=y_full, # stratification\n",
    "                                                                    random_state=92)"
   ]
  },
  {
   "cell_type": "markdown",
   "id": "e9f08c56",
   "metadata": {},
   "source": [
    "*Transformation des quantis*"
   ]
  },
  {
   "cell_type": "code",
   "execution_count": 16,
   "id": "43cc4f40",
   "metadata": {
    "scrolled": true
   },
   "outputs": [],
   "source": [
    "from sklearn.preprocessing import StandardScaler \n",
    "\n",
    "scaler = StandardScaler()\n",
    "\n",
    "scaler.fit(X_train[:,continuous_features_idx])\n",
    "StandardScaler(copy = True, with_mean = True, with_std = True)\n",
    "\n",
    "X_train_quanti = scaler.transform(X_train[:,continuous_features_idx])"
   ]
  },
  {
   "cell_type": "code",
   "execution_count": 17,
   "id": "d45a72b1",
   "metadata": {},
   "outputs": [],
   "source": [
    "x_3quali = pd.DataFrame(X_train_quanti)\n",
    "x_3quanti = pd.DataFrame(X_train[:,:nb_quali])\n",
    "x_3quali = x_3quali.reset_index()\n",
    "x_3quanti = x_3quanti.reset_index()\n",
    "x_3quali = x_3quali.apply(pd.to_numeric)\n",
    "x_3quanti = x_3quanti.apply(pd.to_numeric)\n",
    "X_train = pd.merge(x_3quanti, x_3quali, how='inner', on=\"index\")\n",
    "X_train = X_train.drop(columns = ['index']) \n",
    "\n",
    "X_train = np.array(X_train)"
   ]
  },
  {
   "cell_type": "code",
   "execution_count": 18,
   "id": "bbb7ecba",
   "metadata": {},
   "outputs": [],
   "source": [
    "X_test_quanti = scaler.transform(X_test[:,continuous_features_idx])\n",
    "\n",
    "x_4quali = pd.DataFrame(X_test_quanti)\n",
    "x_4quanti = pd.DataFrame(X_test[:,:nb_quali])\n",
    "x_4quali = x_4quali.apply(pd.to_numeric)\n",
    "x_4quanti = x_4quanti.apply(pd.to_numeric)\n",
    "x_4quali = x_4quali.reset_index()\n",
    "x_4quanti = x_4quanti.reset_index()\n",
    "X_test = pd.merge(x_4quanti, x_4quali, how='inner', on=\"index\")\n",
    "X_test = X_test.drop(columns = ['index']) \n",
    "\n",
    "X_test = np.array(X_test)"
   ]
  },
  {
   "cell_type": "markdown",
   "id": "3b17c9e7",
   "metadata": {},
   "source": [
    "# b. Transformation de l'output"
   ]
  },
  {
   "cell_type": "code",
   "execution_count": 19,
   "id": "f9039362",
   "metadata": {},
   "outputs": [
    {
     "data": {
      "image/png": "[encoded data removed]",
      "text/plain": [
       "<Figure size 432x288 with 1 Axes>"
      ]
     },
     "metadata": {
      "needs_background": "light"
     },
     "output_type": "display_data"
    }
   ],
   "source": [
    "# histogram of the raw data\n",
    "plt.hist(y_train, bins=45,edgecolor='black')\n",
    "plt.show()"
   ]
  },
  {
   "cell_type": "code",
   "execution_count": 20,
   "id": "320408ad",
   "metadata": {},
   "outputs": [],
   "source": [
    "#attention à bien définir lambda uniquement sur les données d'entraînement (et pas de test)\n",
    "\n",
    "lam = (1/y_train.mean() + 1/y_train.var()**(1/2)) / 2"
   ]
  },
  {
   "cell_type": "code",
   "execution_count": 21,
   "id": "8ae82fa6",
   "metadata": {},
   "outputs": [],
   "source": [
    "def distrib_function(x,lam) : \n",
    "    return 1 - np.exp(- lam * x)\n",
    "\n",
    "y_train_exp = distrib_function(y_train,lam)"
   ]
  },
  {
   "cell_type": "code",
   "execution_count": 22,
   "id": "f53d5cec",
   "metadata": {},
   "outputs": [
    {
     "data": {
      "image/png": "[encoded data removed]",
      "text/plain": [
       "<Figure size 432x288 with 1 Axes>"
      ]
     },
     "metadata": {
      "needs_background": "light"
     },
     "output_type": "display_data"
    }
   ],
   "source": [
    "plt.title('Distribution des PD après transformation')\n",
    "plt.hist(y_train_exp, bins=45,edgecolor='black')\n",
    "plt.show()"
   ]
  },
  {
   "cell_type": "code",
   "execution_count": 23,
   "id": "62e22258",
   "metadata": {},
   "outputs": [],
   "source": [
    "#l'algo va prédire les y_exp (après transformation). \n",
    "y_test_exp = distrib_function(y_test,lam)"
   ]
  },
  {
   "cell_type": "code",
   "execution_count": 24,
   "id": "71c878a7",
   "metadata": {},
   "outputs": [],
   "source": [
    "def inv_distrib(y,lam) : \n",
    "    return - np.log(1 - y) / lam \n",
    "\n",
    "#La transformation est pas linéaire. Pour regarder les performances de l'algo, il faut revenir à la PD\n",
    "#(ne pas comparer la PD transformée car erreur dépend de la PD)"
   ]
  },
  {
   "cell_type": "markdown",
   "id": "d5b16392",
   "metadata": {},
   "source": [
    "# II. Réseaux de neurones - prédiction"
   ]
  },
  {
   "cell_type": "code",
   "execution_count": 25,
   "id": "4183df83",
   "metadata": {},
   "outputs": [],
   "source": [
    "model = Sequential()\n",
    "model.add(Dense(units=6,input_dim=24,activation=\"sigmoid\")) #6 is good\n",
    "model.add(Dense(units=2))\n",
    "model.add(Dense(units=1,activation=\"sigmoid\"))\n",
    "#modele.add(Dropout(0.3))\n",
    "learning_rate = 0.10\n",
    "\n",
    "sgd = SGD(learning_rate)\n",
    "\n",
    "#dim première couche = nombre de variables du df "
   ]
  },
  {
   "cell_type": "code",
   "execution_count": 26,
   "id": "a6863a63",
   "metadata": {},
   "outputs": [],
   "source": [
    "#modele.compile(loss='mean_squared_error',optimizer=sgd,metrics=[tf.keras.metrics.MeanSquaredError()])\n",
    "#optimizer = sgd\n",
    "model.compile(loss='mean_squared_error',optimizer='adam',metrics=[tf.keras.metrics.MeanSquaredError()])"
   ]
  },
  {
   "cell_type": "code",
   "execution_count": 27,
   "id": "5b8baae3",
   "metadata": {},
   "outputs": [
    {
     "name": "stdout",
     "output_type": "stream",
     "text": [
      "Epoch 1/50\n",
      "40/40 [==============================] - 1s 8ms/step - loss: 0.1696 - mean_squared_error: 0.1696 - val_loss: 0.1570 - val_mean_squared_error: 0.1570\n",
      "Epoch 2/50\n",
      "40/40 [==============================] - 0s 3ms/step - loss: 0.1314 - mean_squared_error: 0.1314 - val_loss: 0.1200 - val_mean_squared_error: 0.1200\n",
      "Epoch 3/50\n",
      "40/40 [==============================] - 0s 3ms/step - loss: 0.1017 - mean_squared_error: 0.1017 - val_loss: 0.0950 - val_mean_squared_error: 0.0950\n",
      "Epoch 4/50\n",
      "40/40 [==============================] - 0s 3ms/step - loss: 0.0885 - mean_squared_error: 0.0885 - val_loss: 0.0823 - val_mean_squared_error: 0.0823\n",
      "Epoch 5/50\n",
      "40/40 [==============================] - 0s 3ms/step - loss: 0.0742 - mean_squared_error: 0.0742 - val_loss: 0.0774 - val_mean_squared_error: 0.0774\n",
      "Epoch 6/50\n",
      "40/40 [==============================] - 0s 3ms/step - loss: 0.0734 - mean_squared_error: 0.0734 - val_loss: 0.0753 - val_mean_squared_error: 0.0753\n",
      "Epoch 7/50\n",
      "40/40 [==============================] - 0s 3ms/step - loss: 0.0705 - mean_squared_error: 0.0705 - val_loss: 0.0743 - val_mean_squared_error: 0.0743\n",
      "Epoch 8/50\n",
      "40/40 [==============================] - 0s 3ms/step - loss: 0.0733 - mean_squared_error: 0.0733 - val_loss: 0.0739 - val_mean_squared_error: 0.0739\n",
      "Epoch 9/50\n",
      "40/40 [==============================] - ETA: 0s - loss: 0.0717 - mean_squared_error: 0.07 - 0s 3ms/step - loss: 0.0702 - mean_squared_error: 0.0702 - val_loss: 0.0735 - val_mean_squared_error: 0.0735\n",
      "Epoch 10/50\n",
      "40/40 [==============================] - 0s 4ms/step - loss: 0.0723 - mean_squared_error: 0.0723 - val_loss: 0.0733 - val_mean_squared_error: 0.0733\n",
      "Epoch 11/50\n",
      "40/40 [==============================] - 0s 3ms/step - loss: 0.0704 - mean_squared_error: 0.0704 - val_loss: 0.0731 - val_mean_squared_error: 0.0731\n",
      "Epoch 12/50\n",
      "40/40 [==============================] - 0s 4ms/step - loss: 0.0685 - mean_squared_error: 0.0685 - val_loss: 0.0729 - val_mean_squared_error: 0.0729\n",
      "Epoch 13/50\n",
      "40/40 [==============================] - 0s 3ms/step - loss: 0.0707 - mean_squared_error: 0.0707 - val_loss: 0.0727 - val_mean_squared_error: 0.0727\n",
      "Epoch 14/50\n",
      "40/40 [==============================] - 0s 3ms/step - loss: 0.0702 - mean_squared_error: 0.0702 - val_loss: 0.0726 - val_mean_squared_error: 0.0726\n",
      "Epoch 15/50\n",
      "40/40 [==============================] - 0s 3ms/step - loss: 0.0685 - mean_squared_error: 0.0685 - val_loss: 0.0725 - val_mean_squared_error: 0.0725\n",
      "Epoch 16/50\n",
      "40/40 [==============================] - 0s 3ms/step - loss: 0.0685 - mean_squared_error: 0.0685 - val_loss: 0.0723 - val_mean_squared_error: 0.0723\n",
      "Epoch 17/50\n",
      "40/40 [==============================] - 0s 3ms/step - loss: 0.0712 - mean_squared_error: 0.0712 - val_loss: 0.0721 - val_mean_squared_error: 0.0721\n",
      "Epoch 18/50\n",
      "40/40 [==============================] - 0s 3ms/step - loss: 0.0648 - mean_squared_error: 0.0648 - val_loss: 0.0720 - val_mean_squared_error: 0.0720\n",
      "Epoch 19/50\n",
      "40/40 [==============================] - 0s 3ms/step - loss: 0.0666 - mean_squared_error: 0.0666 - val_loss: 0.0720 - val_mean_squared_error: 0.0720\n",
      "Epoch 20/50\n",
      "40/40 [==============================] - 0s 3ms/step - loss: 0.0706 - mean_squared_error: 0.0706 - val_loss: 0.0717 - val_mean_squared_error: 0.0717\n",
      "Epoch 21/50\n",
      "40/40 [==============================] - 0s 3ms/step - loss: 0.0659 - mean_squared_error: 0.0659 - val_loss: 0.0715 - val_mean_squared_error: 0.0715\n",
      "Epoch 22/50\n",
      "40/40 [==============================] - 0s 3ms/step - loss: 0.0685 - mean_squared_error: 0.0685 - val_loss: 0.0714 - val_mean_squared_error: 0.0714\n",
      "Epoch 23/50\n",
      "40/40 [==============================] - 0s 4ms/step - loss: 0.0681 - mean_squared_error: 0.0681 - val_loss: 0.0713 - val_mean_squared_error: 0.0713\n",
      "Epoch 24/50\n",
      "40/40 [==============================] - 0s 3ms/step - loss: 0.0663 - mean_squared_error: 0.0663 - val_loss: 0.0711 - val_mean_squared_error: 0.0711\n",
      "Epoch 25/50\n",
      "40/40 [==============================] - 0s 3ms/step - loss: 0.0678 - mean_squared_error: 0.0678 - val_loss: 0.0710 - val_mean_squared_error: 0.0710\n",
      "Epoch 26/50\n",
      "40/40 [==============================] - 0s 3ms/step - loss: 0.0652 - mean_squared_error: 0.0652 - val_loss: 0.0709 - val_mean_squared_error: 0.0709\n",
      "Epoch 27/50\n",
      "40/40 [==============================] - 0s 3ms/step - loss: 0.0671 - mean_squared_error: 0.0671 - val_loss: 0.0706 - val_mean_squared_error: 0.0706\n",
      "Epoch 28/50\n",
      "40/40 [==============================] - 0s 3ms/step - loss: 0.0682 - mean_squared_error: 0.0682 - val_loss: 0.0706 - val_mean_squared_error: 0.0706\n",
      "Epoch 29/50\n",
      "40/40 [==============================] - 0s 3ms/step - loss: 0.0666 - mean_squared_error: 0.0666 - val_loss: 0.0704 - val_mean_squared_error: 0.0704\n",
      "Epoch 30/50\n",
      "40/40 [==============================] - 0s 3ms/step - loss: 0.0649 - mean_squared_error: 0.0649 - val_loss: 0.0702 - val_mean_squared_error: 0.0702\n",
      "Epoch 31/50\n",
      "40/40 [==============================] - 0s 3ms/step - loss: 0.0678 - mean_squared_error: 0.0678 - val_loss: 0.0701 - val_mean_squared_error: 0.0701\n",
      "Epoch 32/50\n",
      " 1/40 [..............................] - ETA: 0s - loss: 0.0834 - mean_squared_error: 0.0834WARNING:tensorflow:Your input ran out of data; interrupting training. Make sure that your dataset or generator can generate at least `steps_per_epoch * epochs` batches (in this case, 2000 batches). You may need to use the repeat() function when building your dataset.\n",
      "40/40 [==============================] - 0s 3ms/step - loss: 0.0580 - mean_squared_error: 0.0580 - val_loss: 0.0700 - val_mean_squared_error: 0.0700\n",
      "4/4 [==============================] - 0s 5ms/step - loss: 0.0778 - mean_squared_error: 0.0778\n",
      "The final loss on the TEST set is: 0.08.\n",
      "The final mean_squared_error on the TEST set is: 0.08.\n"
     ]
    },
    {
     "data": {
      "image/png": "[encoded data removed]",
      "text/plain": [
       "<Figure size 432x288 with 1 Axes>"
      ]
     },
     "metadata": {
      "needs_background": "light"
     },
     "output_type": "display_data"
    }
   ],
   "source": [
    "history = model.fit(X_train, y_train_exp,         # Train the model using the training set...\n",
    "          batch_size=10, epochs=50,\n",
    "          verbose=1, validation_split=0.4,steps_per_epoch=40)           # ...holding out 40% of the data for validation\n",
    "\n",
    "# --------------------------------------\n",
    "# Evaluation\n",
    "# --------------------------------------\n",
    "for loss_name, loss_value in list(zip(model.metrics_names, model.evaluate(X_test, y_test_exp, verbose=1))):\n",
    "    print('The final {} on the TEST set is: {:.2f}.'.format(loss_name, loss_value)) # Evaluate the trained model on the test set!\n",
    "\n",
    "    \n",
    "import matplotlib.pyplot as plt\n",
    "\n",
    "# --------------------------------------\n",
    "# Loss functions evolution\n",
    "# --------------------------------------\n",
    "plt.plot(history.history['loss'])\n",
    "plt.plot(history.history['val_loss'])\n",
    "plt.title('Model loss by epoch')\n",
    "plt.ylabel('loss')\n",
    "plt.xlabel('epoch')\n",
    "plt.legend(['train', 'valid'], loc='right')\n",
    "plt.show()"
   ]
  },
  {
   "cell_type": "code",
   "execution_count": 28,
   "id": "29d11d64",
   "metadata": {},
   "outputs": [
    {
     "name": "stdout",
     "output_type": "stream",
     "text": [
      "4/4 [==============================] - 0s 2ms/step - loss: 0.0778 - mean_squared_error: 0.0778\n",
      "Valeur de l'erreur sur les données de test (loss): 0.077753446996212\n",
      "Précision sur les données de test (MSE): 0.077753446996212\n"
     ]
    }
   ],
   "source": [
    "#Résultats \n",
    "resultat_exp = model.evaluate(X_test, y_test_exp, verbose=1)\n",
    "print(\"Valeur de l'erreur sur les données de test (loss):\", resultat_exp[0])\n",
    "print('Précision sur les données de test (MSE):', resultat_exp[1])"
   ]
  },
  {
   "cell_type": "markdown",
   "id": "9ee8048d",
   "metadata": {},
   "source": [
    "## Observation des résultats "
   ]
  },
  {
   "cell_type": "code",
   "execution_count": 29,
   "id": "87c04e4e",
   "metadata": {},
   "outputs": [],
   "source": [
    "def ecart_relatif(row) : \n",
    "    théo = row['Théorique']\n",
    "    préd = row['Prédiction']\n",
    "    return abs(théo - préd) / théo"
   ]
  },
  {
   "cell_type": "markdown",
   "id": "b42b3c78",
   "metadata": {},
   "source": [
    "### en transformation"
   ]
  },
  {
   "cell_type": "code",
   "execution_count": 30,
   "id": "e82ed1c3",
   "metadata": {},
   "outputs": [],
   "source": [
    "prediction = pd.DataFrame(data= model.predict(X_test) ,columns=['Prédiction'])\n",
    "théorique = pd.DataFrame(data= y_test_exp ,columns=['Théorique'])\n",
    "\n",
    "prediction, théorique = prediction.reset_index() , théorique.reset_index()\n",
    "\n",
    "results_exp = pd.merge(théorique, prediction, on = 'index').drop(columns=['index'])\n",
    "results_exp[\"Ecart_relatif\"] = results_exp.apply(ecart_relatif,axis=1)"
   ]
  },
  {
   "cell_type": "code",
   "execution_count": 31,
   "id": "ae392bf9",
   "metadata": {},
   "outputs": [
    {
     "data": {
      "text/plain": [
       "<AxesSubplot:xlabel='Théorique', ylabel='Prédiction'>"
      ]
     },
     "execution_count": 31,
     "metadata": {},
     "output_type": "execute_result"
    },
    {
     "data": {
      "image/png": "[encoded data removed]",
      "text/plain": [
       "<Figure size 432x288 with 1 Axes>"
      ]
     },
     "metadata": {
      "needs_background": "light"
     },
     "output_type": "display_data"
    }
   ],
   "source": [
    "results_exp.plot.scatter(\"Théorique\",\"Prédiction\")\n"
   ]
  },
  {
   "cell_type": "markdown",
   "id": "1eb7ddc1",
   "metadata": {},
   "source": [
    "### re-transformation en celui de base"
   ]
  },
  {
   "cell_type": "code",
   "execution_count": 32,
   "id": "41017dc0",
   "metadata": {},
   "outputs": [],
   "source": [
    "#prediction : faire la transformation inverse car réseau de neurones donne le transformé\n",
    "prediction = pd.DataFrame(data= inv_distrib(model.predict(X_test),lam) ,columns=['Prédiction'])\n",
    "\n",
    "#théorique : dataset non transformé \n",
    "théorique = pd.DataFrame(data= y_test ,columns=['Théorique'])\n",
    "\n",
    "prediction, théorique = prediction.reset_index() , théorique.reset_index()\n",
    "\n",
    "results = pd.merge(théorique, prediction, on = 'index').drop(columns=['index'])\n",
    "results[\"Ecart_relatif\"] = results.apply(ecart_relatif,axis=1)"
   ]
  },
  {
   "cell_type": "code",
   "execution_count": 33,
   "id": "e2b5bfd8",
   "metadata": {
    "scrolled": true
   },
   "outputs": [
    {
     "data": {
      "text/html": [
       "<div>\n",
       "<style scoped>\n",
       "    .dataframe tbody tr th:only-of-type {\n",
       "        vertical-align: middle;\n",
       "    }\n",
       "\n",
       "    .dataframe tbody tr th {\n",
       "        vertical-align: top;\n",
       "    }\n",
       "\n",
       "    .dataframe thead th {\n",
       "        text-align: right;\n",
       "    }\n",
       "</style>\n",
       "<table border=\"1\" class=\"dataframe\">\n",
       "  <thead>\n",
       "    <tr style=\"text-align: right;\">\n",
       "      <th></th>\n",
       "      <th>Théorique</th>\n",
       "      <th>Prédiction</th>\n",
       "      <th>Ecart_relatif</th>\n",
       "    </tr>\n",
       "  </thead>\n",
       "  <tbody>\n",
       "    <tr>\n",
       "      <th>0</th>\n",
       "      <td>0.013732</td>\n",
       "      <td>0.012176</td>\n",
       "      <td>0.113309</td>\n",
       "    </tr>\n",
       "    <tr>\n",
       "      <th>1</th>\n",
       "      <td>0.003355</td>\n",
       "      <td>0.018188</td>\n",
       "      <td>4.420560</td>\n",
       "    </tr>\n",
       "    <tr>\n",
       "      <th>2</th>\n",
       "      <td>0.016694</td>\n",
       "      <td>0.017994</td>\n",
       "      <td>0.077874</td>\n",
       "    </tr>\n",
       "    <tr>\n",
       "      <th>3</th>\n",
       "      <td>0.003741</td>\n",
       "      <td>0.012176</td>\n",
       "      <td>2.254549</td>\n",
       "    </tr>\n",
       "    <tr>\n",
       "      <th>4</th>\n",
       "      <td>0.009243</td>\n",
       "      <td>0.021662</td>\n",
       "      <td>1.343637</td>\n",
       "    </tr>\n",
       "    <tr>\n",
       "      <th>...</th>\n",
       "      <td>...</td>\n",
       "      <td>...</td>\n",
       "      <td>...</td>\n",
       "    </tr>\n",
       "    <tr>\n",
       "      <th>100</th>\n",
       "      <td>0.005193</td>\n",
       "      <td>0.018188</td>\n",
       "      <td>2.502749</td>\n",
       "    </tr>\n",
       "    <tr>\n",
       "      <th>101</th>\n",
       "      <td>0.008364</td>\n",
       "      <td>0.012176</td>\n",
       "      <td>0.455784</td>\n",
       "    </tr>\n",
       "    <tr>\n",
       "      <th>102</th>\n",
       "      <td>0.021577</td>\n",
       "      <td>0.012176</td>\n",
       "      <td>0.435698</td>\n",
       "    </tr>\n",
       "    <tr>\n",
       "      <th>103</th>\n",
       "      <td>0.086451</td>\n",
       "      <td>0.012176</td>\n",
       "      <td>0.859154</td>\n",
       "    </tr>\n",
       "    <tr>\n",
       "      <th>104</th>\n",
       "      <td>0.009652</td>\n",
       "      <td>0.018478</td>\n",
       "      <td>0.914416</td>\n",
       "    </tr>\n",
       "  </tbody>\n",
       "</table>\n",
       "<p>105 rows × 3 columns</p>\n",
       "</div>"
      ],
      "text/plain": [
       "     Théorique  Prédiction  Ecart_relatif\n",
       "0     0.013732    0.012176       0.113309\n",
       "1     0.003355    0.018188       4.420560\n",
       "2     0.016694    0.017994       0.077874\n",
       "3     0.003741    0.012176       2.254549\n",
       "4     0.009243    0.021662       1.343637\n",
       "..         ...         ...            ...\n",
       "100   0.005193    0.018188       2.502749\n",
       "101   0.008364    0.012176       0.455784\n",
       "102   0.021577    0.012176       0.435698\n",
       "103   0.086451    0.012176       0.859154\n",
       "104   0.009652    0.018478       0.914416\n",
       "\n",
       "[105 rows x 3 columns]"
      ]
     },
     "execution_count": 33,
     "metadata": {},
     "output_type": "execute_result"
    }
   ],
   "source": [
    "results"
   ]
  },
  {
   "cell_type": "code",
   "execution_count": 34,
   "id": "730210eb",
   "metadata": {},
   "outputs": [],
   "source": [
    "results.replace(np.inf, 0.0,inplace=True)"
   ]
  },
  {
   "cell_type": "code",
   "execution_count": 35,
   "id": "def561fc",
   "metadata": {},
   "outputs": [
    {
     "data": {
      "text/plain": [
       "2.178104503457383"
      ]
     },
     "execution_count": 35,
     "metadata": {},
     "output_type": "execute_result"
    }
   ],
   "source": [
    "results[\"Ecart_relatif\"].mean()"
   ]
  },
  {
   "cell_type": "code",
   "execution_count": 36,
   "id": "f18ebdb5",
   "metadata": {},
   "outputs": [
    {
     "name": "stdout",
     "output_type": "stream",
     "text": [
      "L'écart relatif moyen est de 217.8104503457383%\n"
     ]
    }
   ],
   "source": [
    "print(\"L'écart relatif moyen est de \" + str(results[\"Ecart_relatif\"].mean() * 100) + \"%\")"
   ]
  },
  {
   "cell_type": "code",
   "execution_count": 37,
   "id": "b85a41d1",
   "metadata": {},
   "outputs": [],
   "source": [
    "results.sort_values('Ecart_relatif',inplace=True)"
   ]
  },
  {
   "cell_type": "code",
   "execution_count": 34,
   "id": "94a1a7f2",
   "metadata": {},
   "outputs": [],
   "source": [
    "#results"
   ]
  },
  {
   "cell_type": "code",
   "execution_count": 38,
   "id": "d67b7163",
   "metadata": {},
   "outputs": [
    {
     "data": {
      "text/plain": [
       "<AxesSubplot:xlabel='Théorique', ylabel='Prédiction'>"
      ]
     },
     "execution_count": 38,
     "metadata": {},
     "output_type": "execute_result"
    },
    {
     "data": {
      "image/png": "[encoded data removed]",
      "text/plain": [
       "<Figure size 432x288 with 1 Axes>"
      ]
     },
     "metadata": {
      "needs_background": "light"
     },
     "output_type": "display_data"
    }
   ],
   "source": [
    "results.plot.scatter(\"Théorique\",\"Prédiction\")"
   ]
  },
  {
   "cell_type": "markdown",
   "id": "311090de",
   "metadata": {},
   "source": [
    "---------------"
   ]
  },
  {
   "cell_type": "markdown",
   "id": "e2c05b91",
   "metadata": {},
   "source": [
    "# Test classification multi-classe"
   ]
  },
  {
   "cell_type": "markdown",
   "id": "d0cb6aa9",
   "metadata": {},
   "source": [
    "## i. Classification"
   ]
  },
  {
   "cell_type": "markdown",
   "id": "d224cf53",
   "metadata": {},
   "source": [
    "*Une partie du code voulait pas marcher chez moi. Du coup, j'ai juste repris le traitement des données et séparation train/test fait pour le premier réseau*"
   ]
  },
  {
   "cell_type": "code",
   "execution_count": 57,
   "id": "00295cc0",
   "metadata": {},
   "outputs": [],
   "source": [
    "#df = pd.read_csv('market_data_pd.csv',sep=',')\n",
    "#df = df[[\"Common Eqty / Tot Assets\",'Debt / Common Equity','BCLASS Level 3',\"PD_1y\",\"TCE Ratio\"]]\n",
    "#df = df[df.PD_1y>0.0]\n",
    "#df = df[df.PD_1y!=1.0]\n",
    "#df = df[df.PD_1y<0.05]\n",
    "\n",
    "#df['PD_1y'] = pd.read_csv('PD_1y.csv')['PD_1y']\n",
    "#df.replace(np.nan, 0.0,inplace=True)"
   ]
  },
  {
   "cell_type": "code",
   "execution_count": 67,
   "id": "e78ff342",
   "metadata": {
    "scrolled": true
   },
   "outputs": [],
   "source": [
    "#X_full = np.array(df.drop(columns=['PD_1y']))\n",
    "#y_full = np.array(df['PD_1y'])\n",
    "\n",
    "#features = list(df.drop(columns=['PD_1y']).columns)\n",
    "\n",
    "#discrete_features = ['BCLASS Level {}'.format(i) for i in range(3,4)]\n",
    "#continuous_features = [s for s in features if not s in discrete_features]\n",
    "\n",
    "\n",
    "#continuous_features_idx = [features.index(feat_name) for feat_name in continuous_features]\n",
    "#discrete_features_idx = [features.index(feat_name) for feat_name in discrete_features]\n",
    "\n",
    "\n",
    "#X_processed = traitement(X_full)\n",
    "#X_train, X_test, y_train, y_test = model_selection.train_test_split(X_processed, y_full, test_size=0.30,\n",
    " #                                                                   stratify=y_full, # stratification\n",
    "  #                                                                  random_state=92)"
   ]
  },
  {
   "cell_type": "code",
   "execution_count": 68,
   "id": "22ee700b",
   "metadata": {},
   "outputs": [],
   "source": [
    "#y_train_exp = distrib_function(y_train,lam)\n",
    "#y_test_exp = distrib_function(y_test,lam)"
   ]
  },
  {
   "cell_type": "code",
   "execution_count": 91,
   "id": "a2abc4cc",
   "metadata": {},
   "outputs": [],
   "source": [
    "#ARRAY A UTILISER : \n",
    "#X_train, y_train, y_train_exp \n",
    "#X_test, x_test, x_test_exp"
   ]
  },
  {
   "cell_type": "markdown",
   "id": "fbc154c4",
   "metadata": {},
   "source": [
    "### classification"
   ]
  },
  {
   "cell_type": "code",
   "execution_count": 63,
   "id": "045297c8",
   "metadata": {},
   "outputs": [],
   "source": [
    "#à spécifier : le nombre de classes \n",
    "\n",
    "nb_class = 6"
   ]
  },
  {
   "cell_type": "code",
   "execution_count": 66,
   "id": "f9334206",
   "metadata": {},
   "outputs": [
    {
     "data": {
      "image/png": "[encoded data removed]",
      "text/plain": [
       "<Figure size 432x288 with 1 Axes>"
      ]
     },
     "metadata": {
      "needs_background": "light"
     },
     "output_type": "display_data"
    }
   ],
   "source": [
    "#entraînement de l'algo de classification sur la base de train\n",
    "from numpy.random import randn\n",
    "from sklearn.preprocessing import KBinsDiscretizer\n",
    "\n",
    "y_train2 = y_train_exp.reshape((len(y_train_exp),1))\n",
    "\n",
    "kbins = KBinsDiscretizer(n_bins= nb_class , encode='ordinal', strategy='kmeans')\n",
    "y_train_class = kbins.fit_transform(y_train2)\n",
    "\n",
    "plt.hist(y_train_class, range = (0, nb_class),bins=nb_class,edgecolor='black' )\n",
    "plt.xlabel('Classes')\n",
    "plt.ylabel('Nombre de bonds')\n",
    "plt.title('Histogramme du nombre de bonds par classe - base de train')\n",
    "plt.show()"
   ]
  },
  {
   "cell_type": "code",
   "execution_count": 40,
   "id": "c2f0c45a",
   "metadata": {},
   "outputs": [],
   "source": [
    "#application de l'algo à la base de train\n",
    "y_test2 = y_test_exp.reshape((len(y_test_exp),1))\n",
    "y_test_class = kbins.transform(y_test2)"
   ]
  },
  {
   "cell_type": "code",
   "execution_count": 67,
   "id": "a5ee923a",
   "metadata": {},
   "outputs": [
    {
     "data": {
      "image/png": "[encoded data removed]",
      "text/plain": [
       "<Figure size 432x288 with 1 Axes>"
      ]
     },
     "metadata": {
      "needs_background": "light"
     },
     "output_type": "display_data"
    }
   ],
   "source": [
    "plt.hist(y_test_class, range = (0, nb_class), bins = nb_class, edgecolor='black' )\n",
    "plt.xlabel('Classes')\n",
    "plt.ylabel('Nombre de bonds')\n",
    "plt.title('Histogramme du nombre de bonds par classe - base de test')\n",
    "plt.show()"
   ]
  },
  {
   "cell_type": "markdown",
   "id": "be5eedcf",
   "metadata": {},
   "source": [
    "## ii. Réseaux de neurones"
   ]
  },
  {
   "cell_type": "code",
   "execution_count": 42,
   "id": "7c920bc6",
   "metadata": {},
   "outputs": [],
   "source": [
    "model = Sequential()\n",
    "model.add(Dense(units=6,input_dim=24)) #6 is good\n",
    "#model.add(Dense(units=2))\n",
    "model.add(Dense(units=6,activation=\"sigmoid\")) #output\n"
   ]
  },
  {
   "cell_type": "code",
   "execution_count": 43,
   "id": "f7eb7c1b",
   "metadata": {},
   "outputs": [],
   "source": [
    "model.compile(optimizer=keras.optimizers.Adam(),\n",
    "              loss=keras.losses.SparseCategoricalCrossentropy(from_logits=False), # default from_logits=False\n",
    "              metrics=[keras.metrics.SparseCategoricalAccuracy()])"
   ]
  },
  {
   "cell_type": "code",
   "execution_count": 44,
   "id": "fd76e752",
   "metadata": {},
   "outputs": [],
   "source": [
    "#model.fit(X_train,y_train,validation_split=0.4, epochs=40)"
   ]
  },
  {
   "cell_type": "code",
   "execution_count": 45,
   "id": "acf22580",
   "metadata": {},
   "outputs": [
    {
     "name": "stdout",
     "output_type": "stream",
     "text": [
      "Epoch 1/20\n",
      "20/20 [==============================] - 1s 23ms/step - loss: 1.8406 - sparse_categorical_accuracy: 0.1800 - val_loss: 1.8334 - val_sparse_categorical_accuracy: 0.2036\n",
      "Epoch 2/20\n",
      "20/20 [==============================] - 0s 5ms/step - loss: 1.8391 - sparse_categorical_accuracy: 0.2211 - val_loss: 1.8214 - val_sparse_categorical_accuracy: 0.2036\n",
      "Epoch 3/20\n",
      "20/20 [==============================] - 0s 4ms/step - loss: 1.8256 - sparse_categorical_accuracy: 0.2111 - val_loss: 1.8093 - val_sparse_categorical_accuracy: 0.2036\n",
      "Epoch 4/20\n",
      "20/20 [==============================] - 0s 5ms/step - loss: 1.7962 - sparse_categorical_accuracy: 0.2211 - val_loss: 1.8021 - val_sparse_categorical_accuracy: 0.2036\n",
      "Epoch 5/20\n",
      "20/20 [==============================] - 0s 4ms/step - loss: 1.7948 - sparse_categorical_accuracy: 0.1960 - val_loss: 1.7959 - val_sparse_categorical_accuracy: 0.2156\n",
      "Epoch 6/20\n",
      "20/20 [==============================] - 0s 5ms/step - loss: 1.7850 - sparse_categorical_accuracy: 0.2300 - val_loss: 1.7879 - val_sparse_categorical_accuracy: 0.2156\n",
      "Epoch 7/20\n",
      "20/20 [==============================] - 0s 4ms/step - loss: 1.7707 - sparse_categorical_accuracy: 0.2111 - val_loss: 1.7810 - val_sparse_categorical_accuracy: 0.2156\n",
      "Epoch 8/20\n",
      "20/20 [==============================] - 0s 5ms/step - loss: 1.7621 - sparse_categorical_accuracy: 0.2211 - val_loss: 1.7752 - val_sparse_categorical_accuracy: 0.2156\n",
      "Epoch 9/20\n",
      "20/20 [==============================] - 0s 5ms/step - loss: 1.7693 - sparse_categorical_accuracy: 0.2462 - val_loss: 1.7712 - val_sparse_categorical_accuracy: 0.2156\n",
      "Epoch 10/20\n",
      "20/20 [==============================] - 0s 5ms/step - loss: 1.7449 - sparse_categorical_accuracy: 0.2312 - val_loss: 1.7666 - val_sparse_categorical_accuracy: 0.2216\n",
      "Epoch 11/20\n",
      "20/20 [==============================] - 0s 5ms/step - loss: 1.7356 - sparse_categorical_accuracy: 0.2650 - val_loss: 1.7614 - val_sparse_categorical_accuracy: 0.2216\n",
      "Epoch 12/20\n",
      "20/20 [==============================] - 0s 5ms/step - loss: 1.7499 - sparse_categorical_accuracy: 0.2010 - val_loss: 1.7580 - val_sparse_categorical_accuracy: 0.2216\n",
      "Epoch 13/20\n",
      "20/20 [==============================] - 0s 4ms/step - loss: 1.7128 - sparse_categorical_accuracy: 0.3116 - val_loss: 1.7545 - val_sparse_categorical_accuracy: 0.2216\n",
      "Epoch 14/20\n",
      "20/20 [==============================] - 0s 5ms/step - loss: 1.7445 - sparse_categorical_accuracy: 0.1759 - val_loss: 1.7496 - val_sparse_categorical_accuracy: 0.2216\n",
      "Epoch 15/20\n",
      "20/20 [==============================] - 0s 5ms/step - loss: 1.7116 - sparse_categorical_accuracy: 0.2663 - val_loss: 1.7464 - val_sparse_categorical_accuracy: 0.2216\n",
      "Epoch 16/20\n",
      "20/20 [==============================] - 0s 5ms/step - loss: 1.7185 - sparse_categorical_accuracy: 0.2450 - val_loss: 1.7465 - val_sparse_categorical_accuracy: 0.2216\n",
      "Epoch 17/20\n",
      "20/20 [==============================] - 0s 4ms/step - loss: 1.7052 - sparse_categorical_accuracy: 0.2613 - val_loss: 1.7433 - val_sparse_categorical_accuracy: 0.2216\n",
      "Epoch 18/20\n",
      "20/20 [==============================] - 0s 4ms/step - loss: 1.6965 - sparse_categorical_accuracy: 0.2362 - val_loss: 1.7395 - val_sparse_categorical_accuracy: 0.2874\n",
      "Epoch 19/20\n",
      "20/20 [==============================] - 0s 4ms/step - loss: 1.7021 - sparse_categorical_accuracy: 0.2462 - val_loss: 1.7372 - val_sparse_categorical_accuracy: 0.2994\n",
      "Epoch 20/20\n",
      "20/20 [==============================] - 0s 4ms/step - loss: 1.7036 - sparse_categorical_accuracy: 0.2714 - val_loss: 1.7358 - val_sparse_categorical_accuracy: 0.2934\n"
     ]
    }
   ],
   "source": [
    "history = model.fit(X_train, y_train_class,         # Train the model using the training set...\n",
    "          batch_size=10, epochs=20,\n",
    "          verbose=1, validation_split=0.4,steps_per_epoch=20)  "
   ]
  },
  {
   "cell_type": "code",
   "execution_count": 46,
   "id": "0b95761d",
   "metadata": {},
   "outputs": [
    {
     "name": "stdout",
     "output_type": "stream",
     "text": [
      "4/4 [==============================] - 0s 2ms/step - loss: 1.8206 - sparse_categorical_accuracy: 0.2190\n",
      "The final loss on the TEST set is: 1.82.\n",
      "The final sparse_categorical_accuracy on the TEST set is: 0.22.\n"
     ]
    },
    {
     "data": {
      "image/png": "[encoded data removed]",
      "text/plain": [
       "<Figure size 432x288 with 1 Axes>"
      ]
     },
     "metadata": {
      "needs_background": "light"
     },
     "output_type": "display_data"
    }
   ],
   "source": [
    "# --------------------------------------\n",
    "# Evaluation\n",
    "# --------------------------------------\n",
    "for loss_name, loss_value in list(zip(model.metrics_names, model.evaluate(X_test, y_test_class, verbose=1))):\n",
    "    print('The final {} on the TEST set is: {:.2f}.'.format(loss_name, loss_value)) # Evaluate the trained model on the test set!\n",
    "\n",
    "# --------------------------------------\n",
    "# Loss functions evolution\n",
    "# --------------------------------------\n",
    "plt.plot(history.history['loss'])\n",
    "plt.plot(history.history['val_loss'])\n",
    "plt.title('Model loss by epoch')\n",
    "plt.ylabel('loss')\n",
    "plt.xlabel('epoch')\n",
    "plt.legend(['train', 'valid'], loc='right')\n",
    "plt.show()"
   ]
  },
  {
   "cell_type": "code",
   "execution_count": 47,
   "id": "61f48115",
   "metadata": {},
   "outputs": [],
   "source": [
    "y=model.predict(X_test)"
   ]
  },
  {
   "cell_type": "code",
   "execution_count": 48,
   "id": "e53efdef",
   "metadata": {},
   "outputs": [],
   "source": [
    "y_predicted = [np.argmax(pred) for pred in y]"
   ]
  },
  {
   "cell_type": "code",
   "execution_count": 49,
   "id": "0f2392a1",
   "metadata": {
    "scrolled": false
   },
   "outputs": [
    {
     "name": "stdout",
     "output_type": "stream",
     "text": [
      "predicted:  1 | Actual Label:  2  False\n",
      "predicted:  5 | Actual Label:  0  False\n",
      "predicted:  2 | Actual Label:  2  True\n",
      "predicted:  1 | Actual Label:  0  False\n",
      "predicted:  5 | Actual Label:  1  False\n",
      "predicted:  2 | Actual Label:  5  False\n",
      "predicted:  2 | Actual Label:  5  False\n",
      "predicted:  1 | Actual Label:  1  True\n",
      "predicted:  1 | Actual Label:  0  False\n",
      "predicted:  1 | Actual Label:  2  False\n",
      "predicted:  5 | Actual Label:  4  False\n",
      "predicted:  1 | Actual Label:  0  False\n",
      "predicted:  1 | Actual Label:  1  True\n",
      "predicted:  5 | Actual Label:  0  False\n",
      "predicted:  2 | Actual Label:  3  False\n",
      "predicted:  5 | Actual Label:  0  False\n",
      "predicted:  2 | Actual Label:  3  False\n",
      "predicted:  5 | Actual Label:  2  False\n",
      "predicted:  2 | Actual Label:  2  True\n",
      "predicted:  2 | Actual Label:  3  False\n",
      "predicted:  2 | Actual Label:  2  True\n",
      "predicted:  1 | Actual Label:  3  False\n",
      "predicted:  2 | Actual Label:  5  False\n",
      "predicted:  1 | Actual Label:  0  False\n",
      "predicted:  5 | Actual Label:  5  True\n",
      "predicted:  1 | Actual Label:  5  False\n",
      "predicted:  2 | Actual Label:  4  False\n",
      "predicted:  2 | Actual Label:  0  False\n",
      "predicted:  2 | Actual Label:  1  False\n",
      "predicted:  1 | Actual Label:  4  False\n",
      "predicted:  1 | Actual Label:  1  True\n",
      "predicted:  1 | Actual Label:  1  True\n",
      "predicted:  1 | Actual Label:  1  True\n",
      "predicted:  1 | Actual Label:  3  False\n",
      "predicted:  5 | Actual Label:  3  False\n",
      "predicted:  5 | Actual Label:  5  True\n",
      "predicted:  1 | Actual Label:  4  False\n",
      "predicted:  2 | Actual Label:  4  False\n",
      "predicted:  1 | Actual Label:  2  False\n",
      "predicted:  2 | Actual Label:  0  False\n",
      "predicted:  5 | Actual Label:  3  False\n",
      "predicted:  2 | Actual Label:  4  False\n",
      "predicted:  1 | Actual Label:  0  False\n",
      "predicted:  1 | Actual Label:  0  False\n",
      "predicted:  2 | Actual Label:  0  False\n",
      "predicted:  2 | Actual Label:  4  False\n",
      "predicted:  1 | Actual Label:  3  False\n",
      "predicted:  1 | Actual Label:  2  False\n",
      "predicted:  1 | Actual Label:  0  False\n",
      "predicted:  1 | Actual Label:  3  False\n",
      "predicted:  2 | Actual Label:  3  False\n",
      "predicted:  5 | Actual Label:  1  False\n",
      "predicted:  1 | Actual Label:  3  False\n",
      "predicted:  2 | Actual Label:  5  False\n",
      "predicted:  1 | Actual Label:  2  False\n",
      "predicted:  2 | Actual Label:  4  False\n",
      "predicted:  1 | Actual Label:  5  False\n",
      "predicted:  1 | Actual Label:  0  False\n",
      "predicted:  2 | Actual Label:  5  False\n",
      "predicted:  1 | Actual Label:  2  False\n",
      "predicted:  1 | Actual Label:  1  True\n",
      "predicted:  5 | Actual Label:  5  True\n",
      "predicted:  1 | Actual Label:  3  False\n",
      "predicted:  1 | Actual Label:  2  False\n",
      "predicted:  2 | Actual Label:  2  True\n",
      "predicted:  2 | Actual Label:  3  False\n",
      "predicted:  2 | Actual Label:  0  False\n",
      "predicted:  2 | Actual Label:  3  False\n",
      "predicted:  2 | Actual Label:  2  True\n",
      "predicted:  2 | Actual Label:  3  False\n",
      "predicted:  2 | Actual Label:  2  True\n",
      "predicted:  1 | Actual Label:  0  False\n",
      "predicted:  1 | Actual Label:  5  False\n",
      "predicted:  1 | Actual Label:  2  False\n",
      "predicted:  1 | Actual Label:  1  True\n",
      "predicted:  5 | Actual Label:  2  False\n",
      "predicted:  1 | Actual Label:  2  False\n",
      "predicted:  2 | Actual Label:  0  False\n",
      "predicted:  1 | Actual Label:  5  False\n",
      "predicted:  1 | Actual Label:  1  True\n",
      "predicted:  2 | Actual Label:  4  False\n",
      "predicted:  2 | Actual Label:  5  False\n",
      "predicted:  1 | Actual Label:  0  False\n",
      "predicted:  1 | Actual Label:  1  True\n",
      "predicted:  1 | Actual Label:  0  False\n",
      "predicted:  1 | Actual Label:  2  False\n",
      "predicted:  1 | Actual Label:  5  False\n",
      "predicted:  5 | Actual Label:  3  False\n",
      "predicted:  1 | Actual Label:  1  True\n",
      "predicted:  1 | Actual Label:  0  False\n",
      "predicted:  5 | Actual Label:  5  True\n",
      "predicted:  2 | Actual Label:  2  True\n",
      "predicted:  5 | Actual Label:  0  False\n",
      "predicted:  1 | Actual Label:  2  False\n",
      "predicted:  5 | Actual Label:  0  False\n",
      "predicted:  5 | Actual Label:  5  True\n",
      "predicted:  2 | Actual Label:  5  False\n",
      "predicted:  1 | Actual Label:  5  False\n",
      "predicted:  1 | Actual Label:  5  False\n",
      "predicted:  2 | Actual Label:  5  False\n",
      "predicted:  5 | Actual Label:  0  False\n",
      "predicted:  1 | Actual Label:  1  True\n",
      "predicted:  1 | Actual Label:  3  False\n",
      "predicted:  1 | Actual Label:  5  False\n",
      "predicted:  2 | Actual Label:  1  False\n",
      "\n",
      "\n",
      "23 / 105\n"
     ]
    }
   ],
   "source": [
    "for i in range(len(y_predicted)):\n",
    "    print(\"predicted: \", y_predicted[i], \"| Actual Label: \",int(y_test_class[i][0]), \" True\" if (y_predicted[i]==y_test_class[i][0]) else \" False\")\n",
    "print(\"\\n\")\n",
    "print(np.sum(y_predicted==y_test_class[:,0]),'/',len(y_predicted))"
   ]
  },
  {
   "cell_type": "code",
   "execution_count": 50,
   "id": "3bf26bd2",
   "metadata": {},
   "outputs": [],
   "source": [
    "from sklearn.metrics import confusion_matrix, ConfusionMatrixDisplay"
   ]
  },
  {
   "cell_type": "code",
   "execution_count": 51,
   "id": "9ffb8d65",
   "metadata": {},
   "outputs": [],
   "source": [
    "CM = confusion_matrix(y_test_class, y_predicted)"
   ]
  },
  {
   "cell_type": "code",
   "execution_count": 52,
   "id": "df7a16c5",
   "metadata": {},
   "outputs": [
    {
     "data": {
      "text/plain": [
       "<sklearn.metrics._plot.confusion_matrix.ConfusionMatrixDisplay at 0x2062ea07190>"
      ]
     },
     "execution_count": 52,
     "metadata": {},
     "output_type": "execute_result"
    },
    {
     "data": {
      "image/png": "[encoded data removed]",
      "text/plain": [
       "<Figure size 432x288 with 2 Axes>"
      ]
     },
     "metadata": {
      "needs_background": "light"
     },
     "output_type": "display_data"
    }
   ],
   "source": [
    "ConfusionMatrixDisplay(CM).plot()"
   ]
  },
  {
   "cell_type": "code",
   "execution_count": null,
   "id": "279b4472",
   "metadata": {},
   "outputs": [],
   "source": []
  },
  {
   "cell_type": "code",
   "execution_count": null,
   "id": "7ee501de",
   "metadata": {},
   "outputs": [],
   "source": []
  }
 ],
 "metadata": {
  "kernelspec": {
   "display_name": "Python 3",
   "language": "python",
   "name": "python3"
  },
  "language_info": {
   "codemirror_mode": {
    "name": "ipython",
    "version": 3
   },
   "file_extension": ".py",
   "mimetype": "text/x-python",
   "name": "python",
   "nbconvert_exporter": "python",
   "pygments_lexer": "ipython3",
   "version": "3.8.8"
  }
 },
 "nbformat": 4,
 "nbformat_minor": 5
}
